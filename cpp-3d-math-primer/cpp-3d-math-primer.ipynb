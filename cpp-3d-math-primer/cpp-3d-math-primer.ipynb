{
 "cells": [
  {
   "cell_type": "markdown",
   "id": "a0264cff",
   "metadata": {},
   "source": [
    "# Chapter 1: Cartesian Coordinate Systems"
   ]
  },
  {
   "cell_type": "markdown",
   "id": "7a1198db-f054-4767-999a-db4fdbb69e35",
   "metadata": {},
   "source": [
    "## Exercises"
   ]
  },
  {
   "cell_type": "markdown",
   "id": "3661c3ac",
   "metadata": {
    "tags": []
   },
   "source": [
    "### Exercise 3"
   ]
  },
  {
   "cell_type": "markdown",
   "id": "8747b874-6c57-451b-89ef-2ec0b3b09a5f",
   "metadata": {},
   "source": [
    "List the 48 different possible ways that the 3D axes may be assigned to the \n",
    "directions “north,” “east,” and “up.” Identify which of these combinations\n",
    "are left-handed, and which are right-handed."
   ]
  },
  {
   "cell_type": "code",
   "execution_count": 1,
   "id": "c8783a96-aa7b-474e-bd95-19dc7a9d63a7",
   "metadata": {},
   "outputs": [],
   "source": [
    "#include <stdio.h>"
   ]
  },
  {
   "cell_type": "code",
   "execution_count": 2,
   "id": "66187891-78ab-468c-892c-5ac4aaf166ec",
   "metadata": {},
   "outputs": [],
   "source": [
    "struct AxesCombination {\n",
    "    std::string east;\n",
    "    std::string north;\n",
    "    std::string up;\n",
    "};"
   ]
  },
  {
   "cell_type": "code",
   "execution_count": 3,
   "id": "8dee9495-5fdb-4fc0-ad9d-11ecfa75a233",
   "metadata": {},
   "outputs": [],
   "source": [
    "bool isRightHanded(AxesCombination combination) {\n",
    "    if (combination.east == \"+x\") {\n",
    "        if (combination.north == \"+y\")\n",
    "            return (combination.up == \"+z\");\n",
    "        else if (combination.north == \"-y\")\n",
    "            return (combination.up == \"-z\");\n",
    "        else if (combination.north == \"+z\")\n",
    "            return (combination.up == \"-y\");\n",
    "        else if (combination.north == \"-z\")\n",
    "            return (combination.up == \"+y\");\n",
    "        else\n",
    "            return -1;\n",
    "    }\n",
    "    else if (combination.east == \"-x\") {\n",
    "        if (combination.north == \"+y\")\n",
    "            return (combination.up == \"-z\");\n",
    "        else if (combination.north == \"-y\")\n",
    "            return (combination.up == \"+z\");\n",
    "        else if (combination.north == \"+z\")\n",
    "            return (combination.up == \"+y\");\n",
    "        else if (combination.north == \"-z\")\n",
    "            return (combination.up == \"-y\");\n",
    "        else\n",
    "            return -1;\n",
    "    }\n",
    "    else if (combination.east == \"+y\") {\n",
    "        if (combination.north == \"+x\")\n",
    "            return (combination.up == \"-z\");\n",
    "        else if (combination.north == \"-x\")\n",
    "            return (combination.up == \"+z\");\n",
    "        else if (combination.north == \"+z\")\n",
    "            return (combination.up == \"+x\");\n",
    "        else if (combination.north == \"-z\")\n",
    "            return (combination.up == \"-x\");\n",
    "        else\n",
    "            return -1;\n",
    "    }\n",
    "    else if (combination.east == \"-y\") {\n",
    "        if (combination.north == \"+x\")\n",
    "            return (combination.up == \"+z\");\n",
    "        else if (combination.north == \"-x\")\n",
    "            return (combination.up == \"-z\");\n",
    "        else if (combination.north == \"+z\")\n",
    "            return (combination.up == \"-x\");\n",
    "        else if (combination.north == \"-z\")\n",
    "            return (combination.up == \"+x\");\n",
    "        else\n",
    "            return -1;\n",
    "    }\n",
    "    else if (combination.east == \"+z\") {\n",
    "        if (combination.north == \"+x\")\n",
    "            return (combination.up == \"+y\");\n",
    "        else if (combination.north == \"-x\")\n",
    "            return (combination.up == \"-y\");\n",
    "        else if (combination.north == \"+y\")\n",
    "            return (combination.up == \"-x\");\n",
    "        else if (combination.north == \"-y\")\n",
    "            return (combination.up == \"+x\");\n",
    "        else\n",
    "            return -1;\n",
    "    }\n",
    "    else if (combination.east == \"-z\") {\n",
    "        if (combination.north == \"+x\")\n",
    "            return (combination.up == \"-y\");\n",
    "        else if (combination.north == \"-x\")\n",
    "            return (combination.up == \"+y\");\n",
    "        else if (combination.north == \"+y\")\n",
    "            return (combination.up == \"+x\");\n",
    "        else if (combination.north == \"-y\")\n",
    "            return (combination.up == \"-x\");\n",
    "        else \n",
    "            return -1;\n",
    "    }\n",
    "    else\n",
    "        return -1;\n",
    "}"
   ]
  },
  {
   "cell_type": "code",
   "execution_count": 6,
   "id": "367f788a-13d1-4bc1-a184-b3dc8e6fd3f9",
   "metadata": {},
   "outputs": [
    {
     "name": "stdout",
     "output_type": "stream",
     "text": [
      "east: +x, north: +y, up: +z. This 3d space is right-handed.\n",
      "east: +x, north: +y, up: -z. This 3d space is left-handed.\n",
      "east: +x, north: -y, up: +z. This 3d space is left-handed.\n",
      "east: +x, north: -y, up: -z. This 3d space is right-handed.\n",
      "east: +x, north: +z, up: +y. This 3d space is left-handed.\n",
      "east: +x, north: +z, up: -y. This 3d space is right-handed.\n",
      "east: +x, north: -z, up: +y. This 3d space is right-handed.\n",
      "east: +x, north: -z, up: -y. This 3d space is left-handed.\n",
      "east: -x, north: +y, up: +z. This 3d space is left-handed.\n",
      "east: -x, north: +y, up: -z. This 3d space is right-handed.\n",
      "east: -x, north: -y, up: +z. This 3d space is right-handed.\n",
      "east: -x, north: -y, up: -z. This 3d space is left-handed.\n",
      "east: -x, north: +z, up: +y. This 3d space is right-handed.\n",
      "east: -x, north: +z, up: -y. This 3d space is left-handed.\n",
      "east: -x, north: -z, up: +y. This 3d space is left-handed.\n",
      "east: -x, north: -z, up: -y. This 3d space is right-handed.\n",
      "east: +y, north: +x, up: +z. This 3d space is left-handed.\n",
      "east: +y, north: +x, up: -z. This 3d space is right-handed.\n",
      "east: +y, north: -x, up: +z. This 3d space is right-handed.\n",
      "east: +y, north: -x, up: -z. This 3d space is left-handed.\n",
      "east: +y, north: +z, up: +x. This 3d space is right-handed.\n",
      "east: +y, north: +z, up: -x. This 3d space is left-handed.\n",
      "east: +y, north: -z, up: +x. This 3d space is left-handed.\n",
      "east: +y, north: -z, up: -x. This 3d space is right-handed.\n",
      "east: -y, north: +x, up: +z. This 3d space is right-handed.\n",
      "east: -y, north: +x, up: -z. This 3d space is left-handed.\n",
      "east: -y, north: -x, up: +z. This 3d space is left-handed.\n",
      "east: -y, north: -x, up: -z. This 3d space is right-handed.\n",
      "east: -y, north: +z, up: +x. This 3d space is left-handed.\n",
      "east: -y, north: +z, up: -x. This 3d space is right-handed.\n",
      "east: -y, north: -z, up: +x. This 3d space is right-handed.\n",
      "east: -y, north: -z, up: -x. This 3d space is left-handed.\n",
      "east: +z, north: +x, up: +y. This 3d space is right-handed.\n",
      "east: +z, north: +x, up: -y. This 3d space is left-handed.\n",
      "east: +z, north: -x, up: +y. This 3d space is left-handed.\n",
      "east: +z, north: -x, up: -y. This 3d space is right-handed.\n",
      "east: +z, north: +y, up: +x. This 3d space is left-handed.\n",
      "east: +z, north: +y, up: -x. This 3d space is right-handed.\n",
      "east: +z, north: -y, up: +x. This 3d space is right-handed.\n",
      "east: +z, north: -y, up: -x. This 3d space is left-handed.\n",
      "east: -z, north: +x, up: +y. This 3d space is left-handed.\n",
      "east: -z, north: +x, up: -y. This 3d space is right-handed.\n",
      "east: -z, north: -x, up: +y. This 3d space is right-handed.\n",
      "east: -z, north: -x, up: -y. This 3d space is left-handed.\n",
      "east: -z, north: +y, up: +x. This 3d space is right-handed.\n",
      "east: -z, north: +y, up: -x. This 3d space is left-handed.\n",
      "east: -z, north: -y, up: +x. This 3d space is left-handed.\n",
      "east: -z, north: -y, up: -x. This 3d space is right-handed.\n"
     ]
    }
   ],
   "source": [
    "for (auto axisEast : {\"x\", \"y\", \"z\"}) {\n",
    "    for (auto signEast : {\"+\", \"-\"}) {\n",
    "        std::string east = std::string(signEast) + axisEast;\n",
    "\n",
    "        std::vector<std::string> twoAxesLeft = {\"x\", \"y\", \"z\"};\n",
    "        twoAxesLeft.erase(std::remove(twoAxesLeft.begin(), twoAxesLeft.end(), axisEast), twoAxesLeft.end());\n",
    "\n",
    "        for (auto axisNorth : twoAxesLeft) {\n",
    "            for (auto signNorth : {\"+\", \"-\"}) {\n",
    "                std::string north = std::string(signNorth) + axisNorth;\n",
    "\n",
    "                std::vector<std::string> axesLeft(twoAxesLeft);\n",
    "                std::remove(axesLeft.begin(), axesLeft.end(), axisNorth);\n",
    "\n",
    "                for (auto signUp : {\"+\", \"-\"}) {\n",
    "                    std::string up = std::string(signUp) + axesLeft[0];\n",
    "\n",
    "                    AxesCombination ac = {east, north, up};\n",
    "                    std::string hand = isRightHanded(ac) ? \"right\" : \"left\";\n",
    "                    std::cout << \"east: \" << ac.east << \", north: \" << ac.north << \", up: \" << ac.up << \". This 3d space is \" << hand << \"-handed.\" << std::endl;\n",
    "                }\n",
    "            }\n",
    "        }\n",
    "    }\n",
    "}"
   ]
  },
  {
   "cell_type": "markdown",
   "id": "d179aac8-b19c-4179-a129-490d029456ec",
   "metadata": {
    "tags": []
   },
   "source": [
    "### Exercise 8"
   ]
  },
  {
   "cell_type": "markdown",
   "id": "a90c63dd",
   "metadata": {},
   "source": [
    "Convert from degrees to radians:"
   ]
  },
  {
   "cell_type": "code",
   "execution_count": 1,
   "id": "9c239bd6",
   "metadata": {},
   "outputs": [],
   "source": [
    "#include <stdio.h>\n",
    "#include <math.h>"
   ]
  },
  {
   "cell_type": "code",
   "execution_count": 2,
   "id": "7830ef05",
   "metadata": {},
   "outputs": [],
   "source": [
    "float deg2rad(float deg)\n",
    "{\n",
    "    return deg * M_PI / 180;\n",
    "}"
   ]
  },
  {
   "cell_type": "code",
   "execution_count": 14,
   "id": "1aebec2d",
   "metadata": {},
   "outputs": [
    {
     "data": {
      "text/plain": [
       "0.523599f"
      ]
     },
     "execution_count": 14,
     "metadata": {},
     "output_type": "execute_result"
    }
   ],
   "source": [
    "deg2rad(30)"
   ]
  },
  {
   "cell_type": "code",
   "execution_count": 5,
   "id": "8e54628a",
   "metadata": {},
   "outputs": [
    {
     "data": {
      "text/plain": [
       "-0.785398f"
      ]
     },
     "execution_count": 5,
     "metadata": {},
     "output_type": "execute_result"
    }
   ],
   "source": [
    "deg2rad(-45)"
   ]
  },
  {
   "cell_type": "code",
   "execution_count": 6,
   "id": "d2872447",
   "metadata": {},
   "outputs": [
    {
     "data": {
      "text/plain": [
       "1.04720f"
      ]
     },
     "execution_count": 6,
     "metadata": {},
     "output_type": "execute_result"
    }
   ],
   "source": [
    "deg2rad(60)"
   ]
  },
  {
   "cell_type": "code",
   "execution_count": 7,
   "id": "212a3d50",
   "metadata": {},
   "outputs": [
    {
     "data": {
      "text/plain": [
       "1.57080f"
      ]
     },
     "execution_count": 7,
     "metadata": {},
     "output_type": "execute_result"
    }
   ],
   "source": [
    "deg2rad(90)"
   ]
  },
  {
   "cell_type": "code",
   "execution_count": 8,
   "id": "ad389237",
   "metadata": {},
   "outputs": [
    {
     "data": {
      "text/plain": [
       "-3.14159f"
      ]
     },
     "execution_count": 8,
     "metadata": {},
     "output_type": "execute_result"
    }
   ],
   "source": [
    "deg2rad(-180)"
   ]
  },
  {
   "cell_type": "code",
   "execution_count": 9,
   "id": "abdd37ff",
   "metadata": {},
   "outputs": [
    {
     "data": {
      "text/plain": [
       "3.92699f"
      ]
     },
     "execution_count": 9,
     "metadata": {},
     "output_type": "execute_result"
    }
   ],
   "source": [
    "deg2rad(225)"
   ]
  },
  {
   "cell_type": "code",
   "execution_count": 10,
   "id": "b662b1a6",
   "metadata": {},
   "outputs": [
    {
     "data": {
      "text/plain": [
       "-4.71239f"
      ]
     },
     "execution_count": 10,
     "metadata": {},
     "output_type": "execute_result"
    }
   ],
   "source": [
    "deg2rad(-270)"
   ]
  },
  {
   "cell_type": "code",
   "execution_count": 11,
   "id": "01874ec0",
   "metadata": {},
   "outputs": [
    {
     "data": {
      "text/plain": [
       "2.92343f"
      ]
     },
     "execution_count": 11,
     "metadata": {},
     "output_type": "execute_result"
    }
   ],
   "source": [
    "deg2rad(167.5)"
   ]
  },
  {
   "cell_type": "code",
   "execution_count": 12,
   "id": "90f72a7d",
   "metadata": {},
   "outputs": [
    {
     "data": {
      "text/plain": [
       "9.19789f"
      ]
     },
     "execution_count": 12,
     "metadata": {},
     "output_type": "execute_result"
    }
   ],
   "source": [
    "deg2rad(527)"
   ]
  },
  {
   "cell_type": "code",
   "execution_count": 13,
   "id": "5fcb86fe",
   "metadata": {},
   "outputs": [
    {
     "data": {
      "text/plain": [
       "-18.8496f"
      ]
     },
     "execution_count": 13,
     "metadata": {},
     "output_type": "execute_result"
    }
   ],
   "source": [
    "deg2rad(-1080)"
   ]
  }
 ],
 "metadata": {
  "kernelspec": {
   "display_name": "C++17",
   "language": "C++17",
   "name": "xcpp17"
  },
  "language_info": {
   "codemirror_mode": "text/x-c++src",
   "file_extension": ".cpp",
   "mimetype": "text/x-c++src",
   "name": "c++",
   "version": "17"
  }
 },
 "nbformat": 4,
 "nbformat_minor": 5
}
