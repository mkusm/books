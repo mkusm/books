{
 "cells": [
  {
   "cell_type": "markdown",
   "id": "099b650f-d8cb-4a48-a85f-6a2fa8cb8210",
   "metadata": {},
   "source": [
    "# Chapter 8 The IO Library"
   ]
  },
  {
   "cell_type": "markdown",
   "id": "7ed4b564-fcbe-4abe-b9af-e27c3b2a61fa",
   "metadata": {},
   "source": [
    "## EXERCISES SECTION 8.1.2"
   ]
  },
  {
   "cell_type": "markdown",
   "id": "f4ec7aaf-b6e8-4e26-9cab-2d7754abac81",
   "metadata": {},
   "source": [
    "### Exercise 8.1: \n",
    "Write a function that takes and returns an `istream&`.\n",
    "The function should read the stream until it hits `end-of-file`. The function should print what it reads\n",
    "to the standard output. Reset the stream so that it is valid before returning the stream."
   ]
  },
  {
   "cell_type": "code",
   "execution_count": 1,
   "id": "b9b54ff4-5fa7-4c86-b6ee-da8b5dbae0ce",
   "metadata": {},
   "outputs": [],
   "source": [
    "#include <iostream>\n",
    "\n",
    "std::istream& read(std::istream& is)\n",
    "{\n",
    "    std::string s;\n",
    "    while(is >> s)\n",
    "        std::cout << s;\n",
    "    is.clear();\n",
    "    return is;\n",
    "}"
   ]
  },
  {
   "cell_type": "markdown",
   "id": "52c6cd08-8677-4ccd-b43f-936ac302fcbd",
   "metadata": {},
   "source": [
    "### Exercise 8.2: \n",
    "Test your function by calling it, passing `cin` as an argument."
   ]
  },
  {
   "cell_type": "code",
   "execution_count": 2,
   "id": "5e8d50d6-cf7d-4f4b-b78b-63ec00fb15a0",
   "metadata": {},
   "outputs": [
    {
     "name": "stdout",
     "output_type": "stream",
     "text": [
      "readallofit"
     ]
    }
   ],
   "source": [
    "// done with sstream instead of cin as there's no simple way to do end-of-file in jupyter\n",
    "#include <sstream>\n",
    "std::string t = \"read all of it\";\n",
    "std::istringstream ss(t);\n",
    "read(ss);"
   ]
  },
  {
   "cell_type": "markdown",
   "id": "5c8f624f-81a4-4258-9fe8-97d585d740ac",
   "metadata": {},
   "source": [
    "### Exercise 8.3: \n",
    "What causes the following `while` to terminate?\n",
    "```\n",
    "while (cin >> i) /*\n",
    "    ...\n",
    "*/\n",
    "```"
   ]
  },
  {
   "cell_type": "markdown",
   "id": "cecc399b-a1c6-4131-9a8e-b6bdd3bab937",
   "metadata": {},
   "source": [
    "A:\n",
    "\n",
    "`iostate` of the stream not being in valid state"
   ]
  },
  {
   "cell_type": "markdown",
   "id": "81f74db2-6bb0-4bd1-a14c-8c6f8ffe54f9",
   "metadata": {},
   "source": [
    "## EXERCISES SECTION 8.2.1"
   ]
  },
  {
   "cell_type": "markdown",
   "id": "9e852e40-f168-4abe-899e-c695c2a6c0da",
   "metadata": {},
   "source": [
    "### Exercise 8.4: \n",
    "Write a function to open a file for input and read its contents into a\n",
    "`vector` of `string`s, storing each line as a separate element in the `vector`."
   ]
  },
  {
   "cell_type": "code",
   "execution_count": 1,
   "id": "9d51a2ec-51a1-4e9a-8648-90a5ec5c7fe1",
   "metadata": {},
   "outputs": [],
   "source": [
    "! echo \"this is a test file\\nwith multiple lines\\nthat's gonna end up\\nin a vector\" > tmp.txt  # create test file"
   ]
  },
  {
   "cell_type": "code",
   "execution_count": 2,
   "id": "87c76e24-008a-4871-82e8-021f4c159a8c",
   "metadata": {},
   "outputs": [
    {
     "name": "stdout",
     "output_type": "stream",
     "text": [
      "this is a test file\n",
      "with multiple lines\n",
      "that's gonna end up\n",
      "in a vector\n"
     ]
    }
   ],
   "source": [
    "! cat tmp.txt"
   ]
  },
  {
   "cell_type": "code",
   "execution_count": 1,
   "id": "fa71f9b5-58eb-4129-a72c-c96d34e0f0fe",
   "metadata": {},
   "outputs": [],
   "source": [
    "#include <fstream>\n",
    "#include <iostream>\n",
    "#include <vector>\n",
    "#include <string>"
   ]
  },
  {
   "cell_type": "code",
   "execution_count": 2,
   "id": "dcdca280-afee-4c83-845a-78711f80f59b",
   "metadata": {},
   "outputs": [],
   "source": [
    "using std::vector, std::string, std::ifstream, std::cout, std::endl;"
   ]
  },
  {
   "cell_type": "code",
   "execution_count": 3,
   "id": "217a6ae2-44ed-47e4-8044-132a8cd51761",
   "metadata": {},
   "outputs": [],
   "source": [
    "std::vector<string> readFile(string filePath)\n",
    "{\n",
    "    ifstream fstrm(filePath);\n",
    "    vector<string> v;\n",
    "    string s;\n",
    "    while (getline(fstrm, s))\n",
    "        v.push_back(s);\n",
    "    return v;\n",
    "}"
   ]
  },
  {
   "cell_type": "code",
   "execution_count": 4,
   "id": "f2bcc70c-0dff-48a8-90ea-1152c37a97c2",
   "metadata": {},
   "outputs": [],
   "source": [
    "vector<string> v = readFile(\"tmp.txt\");"
   ]
  },
  {
   "cell_type": "code",
   "execution_count": 5,
   "id": "ab23112b-72aa-40f4-8ec1-a17fe80fabb4",
   "metadata": {},
   "outputs": [
    {
     "data": {
      "text/plain": [
       "{ \"this is a test file\", \"with multiple lines\", \"that's gonna end up\", \"in a vector\" }"
      ]
     },
     "execution_count": 5,
     "metadata": {},
     "output_type": "execute_result"
    }
   ],
   "source": [
    "v"
   ]
  },
  {
   "cell_type": "code",
   "execution_count": 6,
   "id": "b19052f9-c521-4347-b9b8-3df9c1329bba",
   "metadata": {},
   "outputs": [],
   "source": [
    "! rm tmp.txt"
   ]
  },
  {
   "cell_type": "markdown",
   "id": "f07cf1cd-f192-474d-a713-b2432b840bc2",
   "metadata": {},
   "source": [
    "### Exercise 8.5: \n",
    "Rewrite the previous program to store each word in a separate element."
   ]
  },
  {
   "cell_type": "code",
   "execution_count": 1,
   "id": "b4a6d637-60c7-4884-95b8-c374b84c1cce",
   "metadata": {},
   "outputs": [],
   "source": [
    "! echo \"this is a test file\\nwith multiple lines\\nthat's gonna end up\\nin a vector\" > tmp.txt  # create test file"
   ]
  },
  {
   "cell_type": "code",
   "execution_count": 2,
   "id": "c1d566a8-780b-4f8b-8521-abf30072adf4",
   "metadata": {},
   "outputs": [
    {
     "name": "stdout",
     "output_type": "stream",
     "text": [
      "this is a test file\n",
      "with multiple lines\n",
      "that's gonna end up\n",
      "in a vector\n"
     ]
    }
   ],
   "source": [
    "! cat tmp.txt"
   ]
  },
  {
   "cell_type": "code",
   "execution_count": 3,
   "id": "8aec827f-5ce7-49aa-8b3a-e30c2520c048",
   "metadata": {},
   "outputs": [],
   "source": [
    "#include <fstream>\n",
    "#include <iostream>\n",
    "#include <vector>\n",
    "#include <string>"
   ]
  },
  {
   "cell_type": "code",
   "execution_count": 4,
   "id": "96686c85-f84f-473d-bcbe-479dc24365a4",
   "metadata": {},
   "outputs": [],
   "source": [
    "using std::vector, std::string, std::ifstream, std::cout, std::endl;"
   ]
  },
  {
   "cell_type": "code",
   "execution_count": 5,
   "id": "51838804-29e3-4cc5-a1a7-31be37c209df",
   "metadata": {},
   "outputs": [],
   "source": [
    "std::vector<string> readFile(string filePath)\n",
    "{\n",
    "    ifstream fstrm(filePath);\n",
    "    vector<string> v;\n",
    "    string s;\n",
    "    while (fstrm >> s)\n",
    "        v.push_back(s);\n",
    "    return v;\n",
    "}"
   ]
  },
  {
   "cell_type": "code",
   "execution_count": 6,
   "id": "f7879b36-ceac-40be-ac7a-a34444271919",
   "metadata": {},
   "outputs": [],
   "source": [
    "vector<string> v = readFile(\"tmp.txt\");"
   ]
  },
  {
   "cell_type": "code",
   "execution_count": 7,
   "id": "95b20c2e-69ff-4723-837d-283be4fedcac",
   "metadata": {},
   "outputs": [
    {
     "data": {
      "text/plain": [
       "{ \"this\", \"is\", \"a\", \"test\", \"file\", \"with\", \"multiple\", \"lines\", \"that's\", \"gonna\", \"end\", \"up\", \"in\", \"a\", \"vector\" }"
      ]
     },
     "execution_count": 7,
     "metadata": {},
     "output_type": "execute_result"
    }
   ],
   "source": [
    "v"
   ]
  },
  {
   "cell_type": "code",
   "execution_count": 8,
   "id": "e6445e82-6507-485a-af33-cf4810a93678",
   "metadata": {},
   "outputs": [],
   "source": [
    "! rm tmp.txt"
   ]
  },
  {
   "cell_type": "markdown",
   "id": "3fcb62ac-5526-4d3f-a795-7ef4be874750",
   "metadata": {},
   "source": [
    "### Exercise 8.6: \n",
    "Rewrite the bookstore program from § 7.1.1 (p. 256) to read its transactions from a file. Pass the name of the file as an argument to `main` (§ 6.2.5, p. 218)."
   ]
  },
  {
   "cell_type": "code",
   "execution_count": 1,
   "id": "c69d8b8e-179a-483b-b142-a220abc1b861",
   "metadata": {},
   "outputs": [],
   "source": [
    "! echo \"0-201-78345-X 3 20.00\\n0-201-78345-X 2 25.00\\n0-301-81838-A 2 25.00\" > tmp.txt  # create test file"
   ]
  },
  {
   "cell_type": "code",
   "execution_count": 2,
   "id": "d02a54ab-5ef2-4259-afd5-20e34784a568",
   "metadata": {},
   "outputs": [
    {
     "name": "stdout",
     "output_type": "stream",
     "text": [
      "0-201-78345-X 3 20.00\n",
      "0-201-78345-X 2 25.00\n",
      "0-301-81838-A 2 25.00\n"
     ]
    }
   ],
   "source": [
    "! cat tmp.txt"
   ]
  },
  {
   "cell_type": "code",
   "execution_count": 3,
   "id": "6940462a-42e4-4419-a657-828e87af0209",
   "metadata": {},
   "outputs": [
    {
     "name": "stdout",
     "output_type": "stream",
     "text": [
      "#include \"ex_7_12.h\"\n",
      "#include <fstream>\n",
      "\n",
      "int main(int argc, char *argv[])\n",
      "{\n",
      "    if (argc != 2) {\n",
      "        std::cerr << \"Usage: \" << argv[0] << \" <file1>\" << std::endl;\n",
      "        return -1;\n",
      "    }\n",
      "    Sales_data total; \n",
      "    Sales_data trans; \n",
      "    std::ifstream inputFile(argv[1]);\n",
      "\n",
      "    read(inputFile, total);\n",
      "    while (read(inputFile, trans))\n",
      "    {\n",
      "        if (total.isbn() == trans.isbn())\n",
      "        {\n",
      "            total.combine(trans);\n",
      "        }\n",
      "        else \n",
      "        { \n",
      "            print(cout, total) << endl;\n",
      "            total = trans;\n",
      "        }\n",
      "    }\n",
      "    print(cout, total) << endl;\n",
      "    return 0;\n",
      "}\n"
     ]
    }
   ],
   "source": [
    "! cat ex_8_6.cc"
   ]
  },
  {
   "cell_type": "code",
   "execution_count": 4,
   "id": "4bdbc934-1a0b-48c6-b093-2bc913e2be22",
   "metadata": {},
   "outputs": [],
   "source": [
    "! g++ ex_8_6.cc -o output -std=c++17"
   ]
  },
  {
   "cell_type": "code",
   "execution_count": 5,
   "id": "a905239a-3b14-4531-a9a1-90a8fc470adf",
   "metadata": {},
   "outputs": [
    {
     "name": "stdout",
     "output_type": "stream",
     "text": [
      "0-201-78345-X 5 110 22\n",
      "0-301-81838-A 2 50 25\n"
     ]
    }
   ],
   "source": [
    "! ./output tmp.txt"
   ]
  },
  {
   "cell_type": "code",
   "execution_count": 6,
   "id": "a8963763-49ec-40cc-956e-1a6d067198a2",
   "metadata": {},
   "outputs": [],
   "source": [
    "! rm tmp.txt"
   ]
  },
  {
   "cell_type": "code",
   "execution_count": 7,
   "id": "c2e25164-e318-4a62-945e-d41fce399d3f",
   "metadata": {},
   "outputs": [],
   "source": [
    "! rm output"
   ]
  },
  {
   "cell_type": "markdown",
   "id": "b46cccf8-e7f8-4686-85d8-20dac39eaf66",
   "metadata": {},
   "source": [
    "## EXERCISES SECTION 8.2.2"
   ]
  },
  {
   "cell_type": "markdown",
   "id": "ff70e50d-b0c0-4fe7-9c5b-c9711f2b5b94",
   "metadata": {},
   "source": [
    "### Exercise 8.7: \n",
    "Revise the bookstore program from the previous section to write its output to a file. Pass the name of that file as a second argument to `main`."
   ]
  },
  {
   "cell_type": "code",
   "execution_count": 1,
   "id": "f57fda2c-b323-4f71-8a35-a0c920844391",
   "metadata": {},
   "outputs": [],
   "source": [
    "! echo \"0-201-78345-X 3 20.00\\n0-201-78345-X 2 25.00\\n0-301-81838-A 2 25.00\" > tmp.txt  # create test file"
   ]
  },
  {
   "cell_type": "code",
   "execution_count": 2,
   "id": "554f5516-4337-4029-b48e-7ca473764e0c",
   "metadata": {},
   "outputs": [
    {
     "name": "stdout",
     "output_type": "stream",
     "text": [
      "0-201-78345-X 3 20.00\n",
      "0-201-78345-X 2 25.00\n",
      "0-301-81838-A 2 25.00\n"
     ]
    }
   ],
   "source": [
    "! cat tmp.txt"
   ]
  },
  {
   "cell_type": "code",
   "execution_count": 3,
   "id": "e01cf9a9-c5f8-4b82-a19e-aa7dfd5a9956",
   "metadata": {},
   "outputs": [
    {
     "name": "stdout",
     "output_type": "stream",
     "text": [
      "#include \"ex_7_12.h\"\n",
      "#include <fstream>\n",
      "\n",
      "int main(int argc, char *argv[])\n",
      "{\n",
      "    if (argc != 3) {\n",
      "        std::cerr << \"Usage: \" << argv[0] << \" <file1> <file2>\" << std::endl;\n",
      "        return -1;\n",
      "    }\n",
      "    Sales_data total; \n",
      "    Sales_data trans; \n",
      "    std::ifstream inputFile(argv[1]);\n",
      "    std::ofstream outputFile(argv[2], std::ofstream::app);\n",
      "\n",
      "    read(inputFile, total);\n",
      "    while (read(inputFile, trans))\n",
      "    {\n",
      "        if (total.isbn() == trans.isbn())\n",
      "        {\n",
      "            total.combine(trans);\n",
      "        }\n",
      "        else \n",
      "        { \n",
      "            print(outputFile, total) << endl;\n",
      "            total = trans;\n",
      "        }\n",
      "    }\n",
      "    print(outputFile, total) << endl;\n",
      "    return 0;\n",
      "}\n"
     ]
    }
   ],
   "source": [
    "! cat ex_8_7.cc"
   ]
  },
  {
   "cell_type": "code",
   "execution_count": 4,
   "id": "c50238aa-2636-4221-afd0-3ed2d7d3d144",
   "metadata": {},
   "outputs": [],
   "source": [
    "! g++ ex_8_7.cc -o output -std=c++17"
   ]
  },
  {
   "cell_type": "code",
   "execution_count": 5,
   "id": "a09f6320-ebad-4c6d-8d79-ed7d412dffb8",
   "metadata": {},
   "outputs": [],
   "source": [
    "! ./output tmp.txt tmp2.txt"
   ]
  },
  {
   "cell_type": "code",
   "execution_count": 6,
   "id": "2deb4daa-6e3d-41ef-b2f3-fe1dc8611f5e",
   "metadata": {},
   "outputs": [
    {
     "name": "stdout",
     "output_type": "stream",
     "text": [
      "0-201-78345-X 5 110 22\n",
      "0-301-81838-A 2 50 25\n"
     ]
    }
   ],
   "source": [
    "! cat tmp2.txt"
   ]
  },
  {
   "cell_type": "code",
   "execution_count": 7,
   "id": "4b1d592f-06ad-4a7d-aa47-fd4ee0e9c19a",
   "metadata": {},
   "outputs": [],
   "source": [
    "! rm tmp.txt"
   ]
  },
  {
   "cell_type": "code",
   "execution_count": 8,
   "id": "a8fef7be-64e3-484a-9205-7fe08e9bca6e",
   "metadata": {},
   "outputs": [],
   "source": [
    "! rm tmp2.txt"
   ]
  },
  {
   "cell_type": "markdown",
   "id": "2ad06487-90dd-4a1d-88c2-2b6b165085c2",
   "metadata": {},
   "source": [
    "### Exercise 8.8: \n",
    "Revise the program from the previous exercise to append its output to\n",
    "its given file. Run the program on the same output file at least twice to ensure that the\n",
    "data are preserved."
   ]
  },
  {
   "cell_type": "code",
   "execution_count": null,
   "id": "f76f7651-f131-45f1-b703-df4e1dad849e",
   "metadata": {},
   "outputs": [],
   "source": [
    "// code already one in previous exercise"
   ]
  },
  {
   "cell_type": "code",
   "execution_count": 1,
   "id": "741c59cf-22a3-4c5e-a7de-40cd0e765844",
   "metadata": {},
   "outputs": [],
   "source": [
    "! echo \"0-201-78345-X 3 20.00\\n0-201-78345-X 2 25.00\\n0-301-81838-A 2 25.00\" > tmp.txt  # create test file"
   ]
  },
  {
   "cell_type": "code",
   "execution_count": 2,
   "id": "b7780c44-8ef8-4958-8ecf-a54abf4f76c6",
   "metadata": {},
   "outputs": [
    {
     "name": "stdout",
     "output_type": "stream",
     "text": [
      "0-201-78345-X 3 20.00\n",
      "0-201-78345-X 2 25.00\n",
      "0-301-81838-A 2 25.00\n"
     ]
    }
   ],
   "source": [
    "! cat tmp.txt"
   ]
  },
  {
   "cell_type": "code",
   "execution_count": 3,
   "id": "72a63bef-3c00-4bdc-a285-c19090e77e17",
   "metadata": {},
   "outputs": [],
   "source": [
    "! g++ ex_8_7.cc -o output -std=c++17"
   ]
  },
  {
   "cell_type": "code",
   "execution_count": 4,
   "id": "ec2f64b5-6ee4-4bf5-866e-9685bdd2f940",
   "metadata": {},
   "outputs": [],
   "source": [
    "! ./output tmp.txt tmp2.txt"
   ]
  },
  {
   "cell_type": "code",
   "execution_count": 5,
   "id": "bdd3627c-0479-42c5-bf3a-4d718e3f5cec",
   "metadata": {},
   "outputs": [],
   "source": [
    "! ./output tmp.txt tmp2.txt"
   ]
  },
  {
   "cell_type": "code",
   "execution_count": 6,
   "id": "a63071a5-94a0-4c75-8476-0387352716a6",
   "metadata": {},
   "outputs": [
    {
     "name": "stdout",
     "output_type": "stream",
     "text": [
      "0-201-78345-X 5 110 22\n",
      "0-301-81838-A 2 50 25\n",
      "0-201-78345-X 5 110 22\n",
      "0-301-81838-A 2 50 25\n"
     ]
    }
   ],
   "source": [
    "! cat tmp2.txt"
   ]
  },
  {
   "cell_type": "code",
   "execution_count": 7,
   "id": "673d943e-5ff6-4224-82c4-1f8da608c9d1",
   "metadata": {},
   "outputs": [],
   "source": [
    "! rm tmp.txt && rm tmp2.txt"
   ]
  },
  {
   "cell_type": "markdown",
   "id": "5b3af285-b618-4a13-b7a1-a9a476b9f568",
   "metadata": {},
   "source": [
    "## EXERCISES SECTION 8.3.1"
   ]
  },
  {
   "cell_type": "markdown",
   "id": "21e7aa47-05f6-4072-a4e5-234ed929cf31",
   "metadata": {},
   "source": [
    "### Exercise 8.9: \n",
    "Use the function you wrote for the first exercise in § 8.1.2 (p. 314) to print\n",
    "the contents of an `istringstream` object."
   ]
  },
  {
   "cell_type": "code",
   "execution_count": null,
   "id": "2b5404f3-a905-487a-8e9a-baa714690f0e",
   "metadata": {},
   "outputs": [],
   "source": [
    "// done in Exercise 8.2"
   ]
  },
  {
   "cell_type": "markdown",
   "id": "5669dcb9-53f5-4511-9ffa-339329a5a577",
   "metadata": {},
   "source": [
    "### Exercise 8.10: \n",
    "Write a program to store each line from a file in a `vector<string>`.\n",
    "Now use an `istringstream` to read each element from the `vector` a word at a time."
   ]
  },
  {
   "cell_type": "code",
   "execution_count": 6,
   "id": "cca0b03d-8f43-4872-9f27-a0970b03d53e",
   "metadata": {},
   "outputs": [],
   "source": [
    "! echo \"this is a test file\\nwith multiple lines\\nthat's gonna end up\\nin a vector\" > tmp.txt  # create test file"
   ]
  },
  {
   "cell_type": "code",
   "execution_count": 7,
   "id": "1d19ccfc-1980-4ccc-b7b5-5964ceaede6c",
   "metadata": {},
   "outputs": [
    {
     "name": "stdout",
     "output_type": "stream",
     "text": [
      "this is a test file\n",
      "with multiple lines\n",
      "that's gonna end up\n",
      "in a vector\n"
     ]
    }
   ],
   "source": [
    "! cat tmp.txt"
   ]
  },
  {
   "cell_type": "code",
   "execution_count": 1,
   "id": "9361d598-d86e-4e52-9348-255adf6588ad",
   "metadata": {},
   "outputs": [],
   "source": [
    "#include <fstream>\n",
    "#include <iostream>\n",
    "#include <vector>\n",
    "#include <string>"
   ]
  },
  {
   "cell_type": "code",
   "execution_count": 2,
   "id": "b1f99cfd-bf1d-4b5a-90cb-05bb86c457eb",
   "metadata": {},
   "outputs": [],
   "source": [
    "using std::vector, std::string, std::ifstream, std::cout, std::endl;"
   ]
  },
  {
   "cell_type": "code",
   "execution_count": 3,
   "id": "efacfe62-03a3-4a90-900a-ebc683513eb0",
   "metadata": {},
   "outputs": [],
   "source": [
    "std::vector<string> readFile(string filePath)\n",
    "{\n",
    "    ifstream fstrm(filePath);\n",
    "    vector<string> v;\n",
    "    string s;\n",
    "    while (getline(fstrm, s))\n",
    "        v.push_back(s);\n",
    "    return v;\n",
    "}"
   ]
  },
  {
   "cell_type": "code",
   "execution_count": 4,
   "id": "dad3843a-1742-4840-88df-edca7e215867",
   "metadata": {},
   "outputs": [],
   "source": [
    "vector<string> v = readFile(\"tmp.txt\");"
   ]
  },
  {
   "cell_type": "code",
   "execution_count": 5,
   "id": "edf99a32-d9d0-44c8-82e2-1e400dc6e659",
   "metadata": {},
   "outputs": [
    {
     "data": {
      "text/plain": [
       "{ \"this is a test file\", \"with multiple lines\", \"that's gonna end up\", \"in a vector\" }"
      ]
     },
     "execution_count": 5,
     "metadata": {},
     "output_type": "execute_result"
    }
   ],
   "source": [
    "v"
   ]
  },
  {
   "cell_type": "code",
   "execution_count": 6,
   "id": "4cbd48f4-c539-4dd3-a4c9-2b331d4e044d",
   "metadata": {},
   "outputs": [
    {
     "name": "stdout",
     "output_type": "stream",
     "text": [
      "this is a test file with multiple lines that's gonna end up in a vector "
     ]
    }
   ],
   "source": [
    "for (auto line : v)\n",
    "{\n",
    "    std::istringstream lineStream(line);\n",
    "    std::string word;\n",
    "    while (lineStream >> word)\n",
    "    {\n",
    "        cout << word << \" \";\n",
    "    }\n",
    "}"
   ]
  },
  {
   "cell_type": "code",
   "execution_count": 7,
   "id": "c4743a35-afa9-4149-9d11-3cb98276e9d4",
   "metadata": {},
   "outputs": [],
   "source": [
    "! rm tmp.txt"
   ]
  },
  {
   "cell_type": "markdown",
   "id": "954c3e1b-db7b-4f0b-b3aa-43eab3193281",
   "metadata": {},
   "source": [
    "### Exercise 8.11: \n",
    "The program in this section defined its `istringstream` object inside\n",
    "the outer `while` loop. What changes would you need to make if record were defined\n",
    "outside that loop? Rewrite the program, moving the definition of record outside the\n",
    "`while`, and see whether you thought of all the changes that are needed."
   ]
  },
  {
   "cell_type": "code",
   "execution_count": 1,
   "id": "ea3344f8-218e-44c1-8d29-7b8a9d95545b",
   "metadata": {},
   "outputs": [],
   "source": [
    "#include <sstream>\n",
    "#include <iostream>\n",
    "#include <vector>\n",
    "#include <string>"
   ]
  },
  {
   "cell_type": "code",
   "execution_count": 2,
   "id": "aea585ba-b1f3-4226-9894-53f893b06ba6",
   "metadata": {},
   "outputs": [],
   "source": [
    "using std::vector, std::string, std::ifstream, std::cout, std::endl, std::cin, std::istringstream;"
   ]
  },
  {
   "cell_type": "code",
   "execution_count": 3,
   "id": "1cf9d4a6-4c7c-4198-9254-9f35ed4fde67",
   "metadata": {},
   "outputs": [],
   "source": [
    "struct PersonInfo {\n",
    "    string name;\n",
    "    vector<string> phones;\n",
    "};"
   ]
  },
  {
   "cell_type": "code",
   "execution_count": 4,
   "id": "8ce2bb96-3435-44e7-8fb1-be1279643448",
   "metadata": {},
   "outputs": [
    {
     "name": "stdin",
     "output_type": "stream",
     "text": [
      " davi 123 0123\n",
      " elo 123 122\n",
      " papa 2137 1337\n",
      " ;\n"
     ]
    }
   ],
   "source": [
    "string line, word;\n",
    "vector<PersonInfo> people;\n",
    "istringstream record;\n",
    "while (getline(cin, line) && line != \";\") {\n",
    "    PersonInfo info;\n",
    "    record.clear();\n",
    "    record.str(line);\n",
    "    record >> info.name;\n",
    "    while (record >> word)\n",
    "        info.phones.push_back(word);\n",
    "    people.push_back(info);\n",
    "}"
   ]
  },
  {
   "cell_type": "code",
   "execution_count": 6,
   "id": "1a9f33bf-62b5-4c90-8e79-64e13798d7cf",
   "metadata": {},
   "outputs": [
    {
     "name": "stdout",
     "output_type": "stream",
     "text": [
      "davi 123 0123\n",
      "elo 123 122\n",
      "papa 2137 1337\n"
     ]
    }
   ],
   "source": [
    "for (auto peep : people)\n",
    "{\n",
    "    cout << peep.name;\n",
    "    for (auto num : peep.phones)\n",
    "    {\n",
    "        cout << \" \" << num;\n",
    "    }\n",
    "    cout << endl;\n",
    "}"
   ]
  },
  {
   "cell_type": "markdown",
   "id": "5e1c2ccc-85ce-4c8d-a474-217b9f2bb28b",
   "metadata": {},
   "source": [
    "### Exercise 8.12: \n",
    "Why didn’t we use in-class initializers in `PersonInfo`?"
   ]
  },
  {
   "cell_type": "markdown",
   "id": "fb9ef888-6cf9-42d3-992f-d8eae315847b",
   "metadata": {},
   "source": [
    "A:\n",
    "\n",
    "We don't need them, as default initializer generated by the compiler is enough"
   ]
  },
  {
   "cell_type": "markdown",
   "id": "ef37b8d0-3032-41d9-9604-72d268e822b1",
   "metadata": {},
   "source": [
    "## EXERCISES SECTION 8.3.2"
   ]
  },
  {
   "cell_type": "markdown",
   "id": "71c0acb7-f26d-4bbf-9208-7576218f0219",
   "metadata": {},
   "source": [
    "### Exercise 8.13: \n",
    "Rewrite the phone number program from this section to read from a\n",
    "named file rather than from `cin`."
   ]
  },
  {
   "cell_type": "code",
   "execution_count": 1,
   "id": "036f1714-9d38-4bc2-ad88-8c11fee0dd99",
   "metadata": {},
   "outputs": [],
   "source": [
    "! echo \"first_guy 123123 321321\\nSomeOneElse 1337 2137\\ntheone 9-1-1\" > tmp.txt  # create test file"
   ]
  },
  {
   "cell_type": "code",
   "execution_count": 2,
   "id": "b2f9b6fd-b3f2-417a-80c7-c6911c8444bb",
   "metadata": {},
   "outputs": [
    {
     "name": "stdout",
     "output_type": "stream",
     "text": [
      "first_guy 123123 321321\n",
      "SomeOneElse 1337 2137\n",
      "theone 9-1-1\n"
     ]
    }
   ],
   "source": [
    "! cat tmp.txt"
   ]
  },
  {
   "cell_type": "code",
   "execution_count": 3,
   "id": "c6e94162-f252-46ea-a0db-3f93a33a21f3",
   "metadata": {},
   "outputs": [],
   "source": [
    "#include <fstream>\n",
    "#include <iostream>\n",
    "#include <vector>\n",
    "#include <string>"
   ]
  },
  {
   "cell_type": "code",
   "execution_count": 4,
   "id": "7777d77f-6081-4a17-bd0f-134d92a8bf8d",
   "metadata": {},
   "outputs": [],
   "source": [
    "using std::vector, std::string, std::ifstream, std::cout, std::endl, std::istringstream;"
   ]
  },
  {
   "cell_type": "code",
   "execution_count": 5,
   "id": "35617f53-7854-414e-be34-5d42c1b3e3db",
   "metadata": {},
   "outputs": [],
   "source": [
    "struct PersonInfo {\n",
    "    string name;\n",
    "    vector<string> phones;\n",
    "};"
   ]
  },
  {
   "cell_type": "code",
   "execution_count": 6,
   "id": "a0592015-b8bc-4c68-9702-3b024b202bc9",
   "metadata": {},
   "outputs": [],
   "source": [
    "string line, word;\n",
    "vector<PersonInfo> people;\n",
    "ifstream inputFile(\"tmp.txt\");\n",
    "while (getline(inputFile, line) && line != \";\") {\n",
    "    PersonInfo info;\n",
    "    istringstream record(line);\n",
    "    record >> info.name;\n",
    "    while (record >> word)\n",
    "        info.phones.push_back(word);\n",
    "    people.push_back(info);\n",
    "}"
   ]
  },
  {
   "cell_type": "code",
   "execution_count": 7,
   "id": "48f949c4-490f-4ef7-9bd1-99462d9bfed2",
   "metadata": {},
   "outputs": [
    {
     "name": "stdout",
     "output_type": "stream",
     "text": [
      "first_guy 123123 321321\n",
      "SomeOneElse 1337 2137\n",
      "theone 9-1-1\n"
     ]
    }
   ],
   "source": [
    "for (auto peep : people)\n",
    "{\n",
    "    cout << peep.name;\n",
    "    for (auto num : peep.phones)\n",
    "    {\n",
    "        cout << \" \" << num;\n",
    "    }\n",
    "    cout << endl;\n",
    "}"
   ]
  },
  {
   "cell_type": "code",
   "execution_count": 8,
   "id": "c4d14d19-d0dd-4703-bbdb-29e2c3a6c6d6",
   "metadata": {},
   "outputs": [],
   "source": [
    "! rm tmp.txt"
   ]
  },
  {
   "cell_type": "markdown",
   "id": "862b4c01-9fc7-4599-8bf2-81763ab1dfb2",
   "metadata": {},
   "source": [
    "### Exercise 8.14: \n",
    "Why did we declare `entry` and `nums` as `const auto &`?\n"
   ]
  },
  {
   "cell_type": "markdown",
   "id": "572ac2ec-b384-4c89-bf64-a476584a42c2",
   "metadata": {},
   "source": [
    "A:\n",
    "\n",
    "`const` because we're not changing them and `&` because we don't need to copy them"
   ]
  }
 ],
 "metadata": {
  "kernelspec": {
   "display_name": "C++17",
   "language": "C++17",
   "name": "xcpp17"
  },
  "language_info": {
   "codemirror_mode": "text/x-c++src",
   "file_extension": ".cpp",
   "mimetype": "text/x-c++src",
   "name": "c++",
   "version": "17"
  }
 },
 "nbformat": 4,
 "nbformat_minor": 5
}
