{
 "cells": [
  {
   "cell_type": "markdown",
   "id": "099b650f-d8cb-4a48-a85f-6a2fa8cb8210",
   "metadata": {},
   "source": [
    "# Chapter 8 The IO Library"
   ]
  },
  {
   "cell_type": "markdown",
   "id": "7ed4b564-fcbe-4abe-b9af-e27c3b2a61fa",
   "metadata": {},
   "source": [
    "## EXERCISES SECTION 8.1.2"
   ]
  },
  {
   "cell_type": "markdown",
   "id": "f4ec7aaf-b6e8-4e26-9cab-2d7754abac81",
   "metadata": {},
   "source": [
    "### Exercise 8.1: \n",
    "Write a function that takes and returns an `istream&`.\n",
    "The function should read the stream until it hits `end-of-file`. The function should print what it reads\n",
    "to the standard output. Reset the stream so that it is valid before returning the stream."
   ]
  },
  {
   "cell_type": "code",
   "execution_count": null,
   "id": "b9b54ff4-5fa7-4c86-b6ee-da8b5dbae0ce",
   "metadata": {},
   "outputs": [],
   "source": []
  },
  {
   "cell_type": "markdown",
   "id": "52c6cd08-8677-4ccd-b43f-936ac302fcbd",
   "metadata": {},
   "source": [
    "### Exercise 8.2: \n",
    "Test your function by calling it, passing `cin` as an argument."
   ]
  },
  {
   "cell_type": "code",
   "execution_count": null,
   "id": "95249fb0-f531-405a-9f9b-58845732f032",
   "metadata": {},
   "outputs": [],
   "source": []
  },
  {
   "cell_type": "markdown",
   "id": "5c8f624f-81a4-4258-9fe8-97d585d740ac",
   "metadata": {},
   "source": [
    "### Exercise 8.3: \n",
    "What causes the following `while` to terminate?\n",
    "```\n",
    "while (cin >> i) /*\n",
    "    ...\n",
    "*/\n",
    "```"
   ]
  },
  {
   "cell_type": "code",
   "execution_count": null,
   "id": "3917d095-8464-4b49-b6f2-e11e7af31989",
   "metadata": {},
   "outputs": [],
   "source": []
  },
  {
   "cell_type": "markdown",
   "id": "81f74db2-6bb0-4bd1-a14c-8c6f8ffe54f9",
   "metadata": {},
   "source": [
    "## EXERCISES SECTION 8.2.1"
   ]
  },
  {
   "cell_type": "markdown",
   "id": "9e852e40-f168-4abe-899e-c695c2a6c0da",
   "metadata": {},
   "source": [
    "### Exercise 8.4: \n",
    "Write a function to open a file for input and read its contents into a\n",
    "`vector` of `string`s, storing each line as a separate element in the `vector`."
   ]
  },
  {
   "cell_type": "code",
   "execution_count": null,
   "id": "9d51a2ec-51a1-4e9a-8648-90a5ec5c7fe1",
   "metadata": {},
   "outputs": [],
   "source": []
  },
  {
   "cell_type": "markdown",
   "id": "f07cf1cd-f192-474d-a713-b2432b840bc2",
   "metadata": {},
   "source": [
    "### Exercise 8.5: \n",
    "Rewrite the previous program to store each word in a separate element."
   ]
  },
  {
   "cell_type": "code",
   "execution_count": null,
   "id": "d553e3df-2b0d-41a1-ad60-14c031b32fc8",
   "metadata": {},
   "outputs": [],
   "source": []
  },
  {
   "cell_type": "markdown",
   "id": "3fcb62ac-5526-4d3f-a795-7ef4be874750",
   "metadata": {},
   "source": [
    "### Exercise 8.6: \n",
    "Rewrite the bookstore program from § 7.1.1 (p. 256) to read its transactions from a file. Pass the name of the file as an argument to `main` (§ 6.2.5, p. 218)."
   ]
  },
  {
   "cell_type": "code",
   "execution_count": null,
   "id": "c1ea3438-6389-45aa-ab7e-8544d769b091",
   "metadata": {},
   "outputs": [],
   "source": []
  },
  {
   "cell_type": "markdown",
   "id": "b46cccf8-e7f8-4686-85d8-20dac39eaf66",
   "metadata": {},
   "source": [
    "## EXERCISES SECTION 8.2.2"
   ]
  },
  {
   "cell_type": "markdown",
   "id": "ff70e50d-b0c0-4fe7-9c5b-c9711f2b5b94",
   "metadata": {},
   "source": [
    "### Exercise 8.7: \n",
    "Revise the bookstore program from the previous section to write its output to a file. Pass the name of that file as a second argument to `main`."
   ]
  },
  {
   "cell_type": "code",
   "execution_count": null,
   "id": "ba332ae2-e556-405f-9a18-82923d9600bb",
   "metadata": {},
   "outputs": [],
   "source": []
  },
  {
   "cell_type": "markdown",
   "id": "2ad06487-90dd-4a1d-88c2-2b6b165085c2",
   "metadata": {},
   "source": [
    "### Exercise 8.8: \n",
    "Revise the program from the previous exercise to append its output to\n",
    "its given file. Run the program on the same output file at least twice to ensure that the\n",
    "data are preserved."
   ]
  },
  {
   "cell_type": "code",
   "execution_count": null,
   "id": "afdb6a5f-681c-43ab-8210-b0563284412c",
   "metadata": {},
   "outputs": [],
   "source": []
  },
  {
   "cell_type": "markdown",
   "id": "5b3af285-b618-4a13-b7a1-a9a476b9f568",
   "metadata": {},
   "source": [
    "## EXERCISES SECTION 8.3.1"
   ]
  },
  {
   "cell_type": "markdown",
   "id": "21e7aa47-05f6-4072-a4e5-234ed929cf31",
   "metadata": {},
   "source": [
    "### Exercise 8.9: \n",
    "Use the function you wrote for the first exercise in § 8.1.2 (p. 314) to print\n",
    "the contents of an `istringstream` object."
   ]
  },
  {
   "cell_type": "code",
   "execution_count": null,
   "id": "2b5404f3-a905-487a-8e9a-baa714690f0e",
   "metadata": {},
   "outputs": [],
   "source": []
  },
  {
   "cell_type": "markdown",
   "id": "5669dcb9-53f5-4511-9ffa-339329a5a577",
   "metadata": {},
   "source": [
    "### Exercise 8.10: \n",
    "Write a program to store each line from a file in a `vector<string>`.\n",
    "Now use an `istringstream` to read each element from the `vector` a word at a time."
   ]
  },
  {
   "cell_type": "code",
   "execution_count": null,
   "id": "b73c0df4-9f9b-48a4-97ae-44a5ad21638e",
   "metadata": {},
   "outputs": [],
   "source": []
  },
  {
   "cell_type": "markdown",
   "id": "954c3e1b-db7b-4f0b-b3aa-43eab3193281",
   "metadata": {},
   "source": [
    "### Exercise 8.11: \n",
    "The program in this section defined its `istringstream` object inside\n",
    "the outer `while` loop. What changes would you need to make if record were defined\n",
    "outside that loop? Rewrite the program, moving the definition of record outside the\n",
    "`while`, and see whether you thought of all the changes that are needed."
   ]
  },
  {
   "cell_type": "code",
   "execution_count": null,
   "id": "8ce2bb96-3435-44e7-8fb1-be1279643448",
   "metadata": {},
   "outputs": [],
   "source": []
  },
  {
   "cell_type": "markdown",
   "id": "5e1c2ccc-85ce-4c8d-a474-217b9f2bb28b",
   "metadata": {},
   "source": [
    "### Exercise 8.12: \n",
    "Why didn’t we use in-class initializers in `PersonInfo`?"
   ]
  },
  {
   "cell_type": "code",
   "execution_count": null,
   "id": "a40da2f6-c04d-4016-9afa-68c7483dcabc",
   "metadata": {},
   "outputs": [],
   "source": []
  },
  {
   "cell_type": "markdown",
   "id": "ef37b8d0-3032-41d9-9604-72d268e822b1",
   "metadata": {},
   "source": [
    "## EXERCISES SECTION 8.3.2"
   ]
  },
  {
   "cell_type": "markdown",
   "id": "71c0acb7-f26d-4bbf-9208-7576218f0219",
   "metadata": {},
   "source": [
    "### Exercise 8.13: \n",
    "Rewrite the phone number program from this section to read from a\n",
    "named file rather than from `cin`."
   ]
  },
  {
   "cell_type": "code",
   "execution_count": null,
   "id": "37c7f46f-c1d8-40d3-a0ad-ffca607cb8df",
   "metadata": {},
   "outputs": [],
   "source": []
  },
  {
   "cell_type": "markdown",
   "id": "862b4c01-9fc7-4599-8bf2-81763ab1dfb2",
   "metadata": {},
   "source": [
    "### Exercise 8.14: \n",
    "Why did we declare `entry` and `nums` as `const auto &`?\n"
   ]
  },
  {
   "cell_type": "code",
   "execution_count": null,
   "id": "4337fbee-39c0-4bad-9ab8-3d58ab4b6678",
   "metadata": {},
   "outputs": [],
   "source": []
  }
 ],
 "metadata": {
  "kernelspec": {
   "display_name": "Python 3",
   "language": "python",
   "name": "python3"
  },
  "language_info": {
   "codemirror_mode": {
    "name": "ipython",
    "version": 3
   },
   "file_extension": ".py",
   "mimetype": "text/x-python",
   "name": "python",
   "nbconvert_exporter": "python",
   "pygments_lexer": "ipython3",
   "version": "3.9.12"
  }
 },
 "nbformat": 4,
 "nbformat_minor": 5
}
