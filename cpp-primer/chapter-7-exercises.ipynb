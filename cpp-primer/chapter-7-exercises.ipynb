{
 "cells": [
  {
   "cell_type": "markdown",
   "id": "607e8a7b-3adf-4e95-a8ec-d174556bff35",
   "metadata": {},
   "source": [
    "# Chapter 7 Classes"
   ]
  },
  {
   "cell_type": "markdown",
   "id": "60de100f-9b91-4979-bf88-997e4d864766",
   "metadata": {},
   "source": [
    "## EXERCISES SECTION 7.1.1"
   ]
  },
  {
   "cell_type": "markdown",
   "id": "7572f0a5-e2ae-4c90-8f25-aee2faa15fae",
   "metadata": {},
   "source": [
    "### Exercise 7.1:\n",
    "Write a version of the transaction-processing program from § 1.6 (p. 24)\n",
    "```\n",
    "#include <iostream>\n",
    "#include \"Sales_item.h\"\n",
    "int main()\n",
    "{\n",
    "    Sales_item total;\n",
    "    if (std::cin >> total) {\n",
    "        Sales_item trans;\n",
    "        while (std::cin >> trans) {\n",
    "            if (total.isbn() == trans.isbn())\n",
    "                total += trans;\n",
    "            else {\n",
    "                std::cout << total << std::endl;\n",
    "                total = trans;\n",
    "            }\n",
    "        }\n",
    "        std::cout << total << std::endl;\n",
    "    } else {\n",
    "        std::cerr << \"No data?!\" << std::endl;\n",
    "        return -1;\n",
    "    }\n",
    "    return 0;\n",
    "}\n",
    "```\n",
    "using the `Sales_data` class you defined for the exercises in § 2.6.1 (p. 72).\n",
    "```\n",
    "struct Sales_data {\n",
    "    std::string bookNo;\n",
    "    unsigned units_sold = 0;\n",
    "    double revenue = 0.0;\n",
    "}\n",
    "```"
   ]
  },
  {
   "cell_type": "code",
   "execution_count": 1,
   "id": "723ff831-87c6-47a3-a876-30ceab93ee46",
   "metadata": {},
   "outputs": [],
   "source": [
    "#include <iostream>\n",
    "#include <string>\n",
    "\n",
    "using std::cout, std::endl, std::cin, std::string;"
   ]
  },
  {
   "cell_type": "code",
   "execution_count": 2,
   "id": "e5825b16-abc5-486a-bb4a-6d7461e769f6",
   "metadata": {},
   "outputs": [],
   "source": [
    "struct Sales_data {\n",
    "    string bookNo;\n",
    "    unsigned units_sold = 0;\n",
    "    double revenue = 0.0;\n",
    "};"
   ]
  },
  {
   "cell_type": "code",
   "execution_count": 3,
   "id": "3dcc4ffc-a528-4891-b7b5-a918cb640923",
   "metadata": {},
   "outputs": [
    {
     "name": "stdin",
     "output_type": "stream",
     "text": [
      "  0-201-78345-X 3 20.00  0-201-78345-X 2 25.00  0-301-81838-A 2 25.00 ; ; ;\n"
     ]
    },
    {
     "name": "stdout",
     "output_type": "stream",
     "text": [
      "0-201-78345-X 5 110 22\n",
      "0-301-81838-A 2 50 25\n"
     ]
    }
   ],
   "source": [
    "Sales_data total; \n",
    "Sales_data trans; \n",
    "\n",
    "double price;\n",
    "cin >> total.bookNo >> total.units_sold >> price;\n",
    "total.revenue = total.units_sold * price;\n",
    "\n",
    "while (cin >> trans.bookNo >> trans.units_sold >> price && trans.bookNo != \";\")\n",
    "{\n",
    "    trans.revenue = trans.units_sold * price;\n",
    "    if (total.bookNo == trans.bookNo)\n",
    "    {\n",
    "        total.units_sold += trans.units_sold;\n",
    "        total.revenue += trans.revenue;\n",
    "    }\n",
    "    else \n",
    "    { \n",
    "        cout << total.bookNo << \" \" << total.units_sold << \" \" << total.revenue\n",
    "             << \" \" << total.revenue / total.units_sold << endl;\n",
    "        total = trans;\n",
    "    }\n",
    "}\n",
    "cout << total.bookNo << \" \" << total.units_sold << \" \" << total.revenue\n",
    "     << \" \" << total.revenue / total.units_sold << endl;"
   ]
  },
  {
   "cell_type": "markdown",
   "id": "95c2191e-d669-4a44-8a01-e243bc6d1749",
   "metadata": {},
   "source": [
    "## EXERCISES SECTION 7.1.2"
   ]
  },
  {
   "cell_type": "markdown",
   "id": "c7e39523-de93-486c-8e58-7cc0049f2403",
   "metadata": {},
   "source": [
    "### Exercise 7.2:\n",
    "Add the `combine` and `isbn` members to the `Sales_data` class you wrote for the exercises in § 2.6.2 (p. 76)."
   ]
  },
  {
   "cell_type": "code",
   "execution_count": 1,
   "id": "dc603d8b-36ea-4cc3-86a9-b69b138e5237",
   "metadata": {},
   "outputs": [],
   "source": [
    "#include <iostream>\n",
    "#include <string>\n",
    "\n",
    "using std::cout, std::endl, std::cin, std::string;"
   ]
  },
  {
   "cell_type": "code",
   "execution_count": 2,
   "id": "7b2f523e-6895-43b8-88a3-3c5a2d522743",
   "metadata": {},
   "outputs": [],
   "source": [
    "struct Sales_data {\n",
    "    string isbn() const { return bookNo; }\n",
    "    Sales_data& combine(const Sales_data&);\n",
    "    \n",
    "    string bookNo;\n",
    "    unsigned units_sold = 0;\n",
    "    double revenue = 0.0;\n",
    "};"
   ]
  },
  {
   "cell_type": "code",
   "execution_count": 3,
   "id": "8a77c808-7014-44ed-8c51-829b1deaf29e",
   "metadata": {},
   "outputs": [],
   "source": [
    "Sales_data& Sales_data::combine(const Sales_data &rhs)\n",
    "{\n",
    "    units_sold += rhs.units_sold;\n",
    "    revenue += rhs.revenue;\n",
    "    return *this;\n",
    "}"
   ]
  },
  {
   "cell_type": "markdown",
   "id": "a4946fba-e554-4ccc-bce2-d30f25d246a9",
   "metadata": {},
   "source": [
    "### Exercise 7.3:\n",
    "Revise your transaction-processing program from § 7.1.1 (p. 256) to use these members."
   ]
  },
  {
   "cell_type": "code",
   "execution_count": 4,
   "id": "bd053e99-8e31-4d9a-bad7-ff1e326301bc",
   "metadata": {},
   "outputs": [
    {
     "name": "stdin",
     "output_type": "stream",
     "text": [
      " 0-201-78345-X 3 20.00  0-201-78345-X 2 25.00  0-301-81838-A 2 25.00 ; ; ;\n"
     ]
    },
    {
     "name": "stdout",
     "output_type": "stream",
     "text": [
      "0-201-78345-X 5 110 22\n",
      "0-301-81838-A 2 50 25\n"
     ]
    }
   ],
   "source": [
    "Sales_data total; \n",
    "Sales_data trans; \n",
    "\n",
    "double price;\n",
    "cin >> total.bookNo >> total.units_sold >> price;\n",
    "total.revenue = total.units_sold * price;\n",
    "\n",
    "while (cin >> trans.bookNo >> trans.units_sold >> price && trans.bookNo != \";\")\n",
    "{\n",
    "    trans.revenue = trans.units_sold * price;\n",
    "    if (total.isbn() == trans.isbn())\n",
    "    {\n",
    "        total.combine(trans);\n",
    "    }\n",
    "    else \n",
    "    { \n",
    "        cout << total.isbn() << \" \" << total.units_sold << \" \" << total.revenue\n",
    "             << \" \" << total.revenue / total.units_sold << endl;\n",
    "        total = trans;\n",
    "    }\n",
    "}\n",
    "cout << total.isbn() << \" \" << total.units_sold << \" \" << total.revenue\n",
    "     << \" \" << total.revenue / total.units_sold << endl;"
   ]
  },
  {
   "cell_type": "markdown",
   "id": "3bd3c794-ffd5-418e-9324-bccf2c41e846",
   "metadata": {},
   "source": [
    "### Exercise 7.4:\n",
    "Write a class named `Person` that represents the name and address of\n",
    "a person. Use a `string` to hold each of these elements. Subsequent exercises will\n",
    "incrementally add features to this class."
   ]
  },
  {
   "cell_type": "code",
   "execution_count": 1,
   "id": "a05eb64d-8e92-4410-8430-ee32786247c2",
   "metadata": {},
   "outputs": [],
   "source": [
    "#include <string>\n",
    "using std::string;"
   ]
  },
  {
   "cell_type": "code",
   "execution_count": 2,
   "id": "55b215b4-9d0b-4f46-8049-8859cef91095",
   "metadata": {},
   "outputs": [],
   "source": [
    "struct Person {\n",
    "    string name;\n",
    "    string address;\n",
    "};"
   ]
  },
  {
   "cell_type": "markdown",
   "id": "12d6c80b-8987-4c1c-8327-c09d07c8e186",
   "metadata": {},
   "source": [
    "### Exercise 7.5:\n",
    "Provide operations in your `Person` class to return the name and address. Should these functions be `const`? Explain your choice."
   ]
  },
  {
   "cell_type": "code",
   "execution_count": 1,
   "id": "b32104f2-2e53-4dcf-b111-fda11559b474",
   "metadata": {},
   "outputs": [],
   "source": [
    "#include <string>\n",
    "using std::string;"
   ]
  },
  {
   "cell_type": "code",
   "execution_count": 2,
   "id": "d79a7f61-7ea2-44a5-a4a3-7f3781224f2f",
   "metadata": {},
   "outputs": [],
   "source": [
    "struct Person {\n",
    "    string get_name() const { return name; }\n",
    "    string get_address() const { return address; }\n",
    "    string name;\n",
    "    string address;\n",
    "};"
   ]
  },
  {
   "cell_type": "markdown",
   "id": "1733ac3a-4b9f-41fd-9ecb-db0713b6113c",
   "metadata": {},
   "source": [
    "A:\n",
    "\n",
    "operations should be `const` as they're only reading data members, not changing them"
   ]
  },
  {
   "cell_type": "markdown",
   "id": "ef16575f-e101-43b4-809f-64f0aa122218",
   "metadata": {},
   "source": [
    "## EXERCISES SECTION 7.1.3"
   ]
  },
  {
   "cell_type": "markdown",
   "id": "aa2bef50-1565-42f1-8994-ec6a7318cfa9",
   "metadata": {},
   "source": [
    "### Exercise 7.6: \n",
    "Define your own versions of the `add`, `read`, and `print` functions."
   ]
  },
  {
   "cell_type": "code",
   "execution_count": 1,
   "id": "5afd1148-9293-4e4b-a13c-3c8077bdec96",
   "metadata": {},
   "outputs": [],
   "source": [
    "#include <iostream>\n",
    "#include <string>\n",
    "\n",
    "using std::cout, std::endl, std::cin, std::string, std::istream, std::ostream;"
   ]
  },
  {
   "cell_type": "code",
   "execution_count": 2,
   "id": "7d22a35a-15f1-4699-bf4a-92506431a420",
   "metadata": {},
   "outputs": [],
   "source": [
    "struct Sales_data {\n",
    "    string isbn() const { return bookNo; }\n",
    "    double avg_price() const { return units_sold ? revenue / units_sold : 0; }\n",
    "    Sales_data& combine(const Sales_data&);\n",
    "    \n",
    "    string bookNo;\n",
    "    unsigned units_sold = 0;\n",
    "    double revenue = 0.0;\n",
    "};"
   ]
  },
  {
   "cell_type": "code",
   "execution_count": 3,
   "id": "236c8ba4-32d2-4d89-880e-a6404b74ec8b",
   "metadata": {},
   "outputs": [],
   "source": [
    "Sales_data& Sales_data::combine(const Sales_data &rhs)\n",
    "{\n",
    "    units_sold += rhs.units_sold;\n",
    "    revenue += rhs.revenue;\n",
    "    return *this;\n",
    "}"
   ]
  },
  {
   "cell_type": "code",
   "execution_count": 4,
   "id": "09002516-bc42-4840-8a6e-f55594c5b5f3",
   "metadata": {},
   "outputs": [],
   "source": [
    "Sales_data add(const Sales_data &lhs, const Sales_data &rhs)\n",
    "{\n",
    "    Sales_data sum = lhs;\n",
    "    sum.combine(rhs);\n",
    "    return sum;\n",
    "}"
   ]
  },
  {
   "cell_type": "code",
   "execution_count": 5,
   "id": "97502552-17ee-4e3c-9402-c6335da26d85",
   "metadata": {},
   "outputs": [],
   "source": [
    "istream& read(istream &is, Sales_data &item)\n",
    "{\n",
    "    double price = 0;\n",
    "    is >> item.bookNo >> item.units_sold >> price;\n",
    "    item.revenue = price * item.units_sold;\n",
    "    return is;\n",
    "}"
   ]
  },
  {
   "cell_type": "code",
   "execution_count": 6,
   "id": "313a10ed-fa52-4929-91f5-1cf4241307d0",
   "metadata": {},
   "outputs": [],
   "source": [
    "ostream& print(ostream &os, const Sales_data &item)\n",
    "{\n",
    "    os << item.isbn() << \" \" << item.units_sold << \" \" << item.revenue << \" \" << item.avg_price();\n",
    "    return os;\n",
    "}"
   ]
  },
  {
   "cell_type": "markdown",
   "id": "d0d97bb8-2938-4362-8e50-4dee47c8ffef",
   "metadata": {},
   "source": [
    "### Exercise 7.7: \n",
    "Rewrite the transaction-processing program you wrote for the exercises\n",
    "in § 7.1.2 (p. 260) to use these new functions."
   ]
  },
  {
   "cell_type": "code",
   "execution_count": 7,
   "id": "faeb6e40-464a-4ff9-b933-dd34dc095d69",
   "metadata": {},
   "outputs": [
    {
     "name": "stdin",
     "output_type": "stream",
     "text": [
      " 0-201-78345-X 3 20.00  0-201-78345-X 2 25.00  0-301-81838-A 2 25.00 ; ; ;\n"
     ]
    },
    {
     "name": "stdout",
     "output_type": "stream",
     "text": [
      "0-201-78345-X 5 110 22\n",
      "0-301-81838-A 2 50 25\n"
     ]
    }
   ],
   "source": [
    "Sales_data total; \n",
    "Sales_data trans; \n",
    "\n",
    "read(cin, total);\n",
    "while (read(cin, trans) && trans.bookNo != \";\")\n",
    "{\n",
    "    if (total.isbn() == trans.isbn())\n",
    "    {\n",
    "        total.combine(trans);\n",
    "    }\n",
    "    else \n",
    "    { \n",
    "        print(cout, total) << endl;\n",
    "        total = trans;\n",
    "    }\n",
    "}\n",
    "print(cout, total) << endl;"
   ]
  },
  {
   "cell_type": "markdown",
   "id": "dcecd1e0-feca-47f5-a157-ec23ace6e90d",
   "metadata": {},
   "source": [
    "### Exercise 7.8: \n",
    "Why does `read` define its `Sales_data` parameter as a plain reference\n",
    "and `print` define its parameter as a reference to `const`?"
   ]
  },
  {
   "cell_type": "markdown",
   "id": "3805542c-7347-4292-aa75-719dd028f36b",
   "metadata": {},
   "source": [
    "A:\n",
    "\n",
    "`read` doesn't change the `Sales_data` object, while `print` does"
   ]
  },
  {
   "cell_type": "markdown",
   "id": "67124b25-4acc-4031-b00f-b19fce9c26fe",
   "metadata": {},
   "source": [
    "### Exercise 7.9: \n",
    "Add operations to `read` and `print` `Person` objects to the code you wrote\n",
    "for the exercises in § 7.1.2 (p. 260)."
   ]
  },
  {
   "cell_type": "code",
   "execution_count": 1,
   "id": "5af37955-e823-4e06-905c-7fd0a0e11844",
   "metadata": {},
   "outputs": [],
   "source": [
    "#include <iostream>\n",
    "#include <string>\n",
    "\n",
    "using std::cout, std::endl, std::cin, std::string, std::istream, std::ostream;"
   ]
  },
  {
   "cell_type": "code",
   "execution_count": 2,
   "id": "6d5337ec-0eb8-4676-a34e-025208f798bf",
   "metadata": {},
   "outputs": [],
   "source": [
    "struct Person {\n",
    "    string get_name() const { return name; }\n",
    "    string get_address() const { return address; }\n",
    "    string name;\n",
    "    string address;\n",
    "};"
   ]
  },
  {
   "cell_type": "code",
   "execution_count": 3,
   "id": "027ed885-1091-4645-a522-5a00c5bf30ba",
   "metadata": {},
   "outputs": [],
   "source": [
    "istream& read(istream &is, Person &person)\n",
    "{\n",
    "    is >> person.name >> person.address;\n",
    "    return is;\n",
    "}"
   ]
  },
  {
   "cell_type": "code",
   "execution_count": 4,
   "id": "7e44f536-ed53-4904-94b3-c318a09a64a1",
   "metadata": {},
   "outputs": [],
   "source": [
    "ostream& print(ostream &os, const Person &person)\n",
    "{\n",
    "    os << person.name << \" \" << person.address;\n",
    "    return os;\n",
    "}"
   ]
  },
  {
   "cell_type": "markdown",
   "id": "43da9f5d-5e59-4f40-8f87-bee4fd214f2c",
   "metadata": {},
   "source": [
    "### Exercise 7.10: \n",
    "What does the condition in the following `if` statement do?\n",
    "```\n",
    "if (read(read(cin, data1), data2))\n",
    "```"
   ]
  },
  {
   "cell_type": "markdown",
   "id": "fa2edae7-e370-4f9b-a7f7-141184872381",
   "metadata": {},
   "source": [
    "A:\n",
    "\n",
    "if checks whether `cin` is good or not"
   ]
  },
  {
   "cell_type": "markdown",
   "id": "fd400b45-57ac-43a4-9324-924b12daabf7",
   "metadata": {},
   "source": [
    "## EXERCISES SECTION 7.1.4"
   ]
  },
  {
   "cell_type": "markdown",
   "id": "f477e471-7a2e-4520-8fce-ab94f78897c4",
   "metadata": {},
   "source": [
    "### Exercise 7.11: \n",
    "Add constructors to your `Sales_data` class and write a program to\n",
    "use each of the constructors."
   ]
  },
  {
   "cell_type": "code",
   "execution_count": 1,
   "id": "e618eac4-bab8-4a9a-8dae-1ebdde443c43",
   "metadata": {},
   "outputs": [],
   "source": [
    "#include <iostream>\n",
    "#include <string>\n",
    "\n",
    "using std::cout, std::endl, std::cin, std::string, std::istream, std::ostream;"
   ]
  },
  {
   "cell_type": "code",
   "execution_count": 2,
   "id": "b34877e7-8b78-4cf3-8d9d-48019065647e",
   "metadata": {},
   "outputs": [],
   "source": [
    "struct Sales_data {\n",
    "    Sales_data() = default;\n",
    "    Sales_data(const string &s): bookNo(s) { }\n",
    "    Sales_data(const string &s, unsigned n, double p): bookNo(s), units_sold(n), revenue(p*n) { }\n",
    "    Sales_data(std::istream &);\n",
    "    \n",
    "    string isbn() const { return bookNo; }\n",
    "    double avg_price() const { return units_sold ? revenue / units_sold : 0; }\n",
    "    Sales_data& combine(const Sales_data&);\n",
    "    \n",
    "    string bookNo;\n",
    "    unsigned units_sold = 0;\n",
    "    double revenue = 0.0;\n",
    "};"
   ]
  },
  {
   "cell_type": "code",
   "execution_count": 3,
   "id": "08b1670b-8a17-4560-a173-2bda669040d8",
   "metadata": {},
   "outputs": [],
   "source": [
    "istream& read(istream &is, Sales_data &item)\n",
    "{\n",
    "    double price = 0;\n",
    "    is >> item.bookNo >> item.units_sold >> price;\n",
    "    item.revenue = price * item.units_sold;\n",
    "    return is;\n",
    "}"
   ]
  },
  {
   "cell_type": "code",
   "execution_count": 4,
   "id": "d666557c-c4bf-4735-827c-b693988d5a8f",
   "metadata": {},
   "outputs": [],
   "source": [
    "ostream& print(ostream &os, const Sales_data &item)\n",
    "{\n",
    "    os << item.isbn() << \" \" << item.units_sold << \" \" << item.revenue << \" \" << item.avg_price();\n",
    "    return os;\n",
    "}"
   ]
  },
  {
   "cell_type": "code",
   "execution_count": 5,
   "id": "3336cb8a-f96e-4c0f-8a23-fb55d12afba2",
   "metadata": {},
   "outputs": [],
   "source": [
    "Sales_data::Sales_data(istream &is)\n",
    "{\n",
    "    read(is, *this);\n",
    "}"
   ]
  },
  {
   "cell_type": "code",
   "execution_count": 6,
   "id": "06d07fc9-c5db-4d6f-8434-963a9f8801ce",
   "metadata": {},
   "outputs": [
    {
     "name": "stdout",
     "output_type": "stream",
     "text": [
      " 0 0 0"
     ]
    }
   ],
   "source": [
    "Sales_data default_constr;\n",
    "print(cout, default_constr);"
   ]
  },
  {
   "cell_type": "code",
   "execution_count": 7,
   "id": "91f8f2a6-a308-4908-8531-d00048601bd6",
   "metadata": {},
   "outputs": [
    {
     "name": "stdout",
     "output_type": "stream",
     "text": [
      "1234 0 0 0"
     ]
    }
   ],
   "source": [
    "Sales_data single_constr(\"1234\");\n",
    "print(cout, single_constr);"
   ]
  },
  {
   "cell_type": "code",
   "execution_count": 8,
   "id": "0646d539-e01e-4323-afa6-e88d65c9b4a6",
   "metadata": {},
   "outputs": [
    {
     "name": "stdout",
     "output_type": "stream",
     "text": [
      "1234 3 75 25"
     ]
    }
   ],
   "source": [
    "Sales_data triple_constr(\"1234\", 3, 25);\n",
    "print(cout, triple_constr);"
   ]
  },
  {
   "cell_type": "code",
   "execution_count": 9,
   "id": "69bd1a84-f369-4a4d-91bc-b30dc0e6bfc7",
   "metadata": {},
   "outputs": [
    {
     "name": "stdin",
     "output_type": "stream",
     "text": [
      " 1234 3 25\n"
     ]
    },
    {
     "name": "stdout",
     "output_type": "stream",
     "text": [
      "1234 3 75 25"
     ]
    }
   ],
   "source": [
    "Sales_data stream_constr(cin);\n",
    "print(cout, stream_constr);"
   ]
  },
  {
   "cell_type": "markdown",
   "id": "e3aff0a7-2fb1-41fc-bc11-732406feafe3",
   "metadata": {},
   "source": [
    "### Exercise 7.12: \n",
    "Move the definition of the `Sales_data` constructor that takes an\n",
    "`istream` into the body of the `Sales_data` class."
   ]
  },
  {
   "cell_type": "code",
   "execution_count": 1,
   "id": "c6fcb8fe-10d1-4013-a2c5-b559c44e72f9",
   "metadata": {},
   "outputs": [],
   "source": [
    "// xeus-cling has problems with seeing declarations when in cells, so we'll use header file instead"
   ]
  },
  {
   "cell_type": "code",
   "execution_count": 2,
   "id": "f793a3bb-5d6c-413a-bc76-976c8523f1ee",
   "metadata": {},
   "outputs": [
    {
     "name": "stdout",
     "output_type": "stream",
     "text": [
      "#include <iostream>\n",
      "#include <string>\n",
      "\n",
      "using std::cout, std::endl, std::cin, std::string, std::istream, std::ostream;\n",
      "\n",
      "struct Sales_data;\n",
      "\n",
      "istream& read(istream &is, Sales_data &item);\n",
      "ostream& print(ostream &os, const Sales_data &item);\n",
      "\n",
      "struct Sales_data {\n",
      "    Sales_data() = default;\n",
      "    Sales_data(const string &s): bookNo(s) { }\n",
      "    Sales_data(const string &s, unsigned n, double p): bookNo(s), units_sold(n), revenue(p*n) { }\n",
      "\n",
      "    // istream constructor in the body of the class\n",
      "    Sales_data(istream &is) { read(is, *this); }\n",
      "    \n",
      "    string isbn() const { return bookNo; }\n",
      "    double avg_price() const { return units_sold ? revenue / units_sold : 0; }\n",
      "    Sales_data& combine(const Sales_data&);\n",
      "    \n",
      "    string bookNo;\n",
      "    unsigned units_sold = 0;\n",
      "    double revenue = 0.0;\n",
      "};\n",
      "\n",
      "istream& read(istream &is, Sales_data &item)\n",
      "{\n",
      "    double price = 0;\n",
      "    is >> item.bookNo >> item.units_sold >> price;\n",
      "    item.revenue = price * item.units_sold;\n",
      "    return is;\n",
      "}\n",
      "\n",
      "ostream& print(ostream &os, const Sales_data &item)\n",
      "{\n",
      "    os << item.isbn() << \" \" << item.units_sold << \" \" << item.revenue << \" \" << item.avg_price();\n",
      "    return os;\n",
      "}\n"
     ]
    }
   ],
   "source": [
    "! cat ex_7_12.h"
   ]
  },
  {
   "cell_type": "code",
   "execution_count": 3,
   "id": "35c920da-047a-4691-b0ba-040c97c8b494",
   "metadata": {},
   "outputs": [],
   "source": [
    "#include \"ex_7_12.h\""
   ]
  },
  {
   "cell_type": "code",
   "execution_count": 4,
   "id": "20f00148-eaf8-4897-9f8a-9d11b69a034b",
   "metadata": {},
   "outputs": [
    {
     "name": "stdin",
     "output_type": "stream",
     "text": [
      " 1234 3 25\n"
     ]
    },
    {
     "name": "stdout",
     "output_type": "stream",
     "text": [
      "1234 3 75 25"
     ]
    }
   ],
   "source": [
    "Sales_data stream_constr(cin);\n",
    "print(cout, stream_constr);"
   ]
  },
  {
   "cell_type": "markdown",
   "id": "2f291ade-d9c1-4a82-9ede-b340db620ee0",
   "metadata": {},
   "source": [
    "### Exercise 7.13: \n",
    "Rewrite the program from page 255 to use the `istream` constructor."
   ]
  },
  {
   "cell_type": "code",
   "execution_count": 1,
   "id": "aaea4dca-471a-496b-8218-97193764dc17",
   "metadata": {},
   "outputs": [],
   "source": [
    "#include \"ex_7_12.h\""
   ]
  },
  {
   "cell_type": "code",
   "execution_count": 2,
   "id": "3c1bc2b8-263e-40ed-9cfc-8d3ae5fc2fa8",
   "metadata": {},
   "outputs": [
    {
     "name": "stdin",
     "output_type": "stream",
     "text": [
      " 0-201-78345-X 3 20.00  0-201-78345-X 2 25.00  0-301-81838-A 2 25.00 ; ; \n"
     ]
    },
    {
     "name": "stdout",
     "output_type": "stream",
     "text": [
      "0-201-78345-X 5 110 22\n",
      "0-301-81838-A 2 50 25\n"
     ]
    }
   ],
   "source": [
    "Sales_data total(cin); \n",
    "Sales_data trans; \n",
    "\n",
    "while (read(cin, trans) && trans.bookNo != \";\")\n",
    "{\n",
    "    if (total.isbn() == trans.isbn())\n",
    "    {\n",
    "        total.combine(trans);\n",
    "    }\n",
    "    else \n",
    "    { \n",
    "        print(cout, total) << endl;\n",
    "        total = trans;\n",
    "    }\n",
    "}\n",
    "print(cout, total) << endl;"
   ]
  },
  {
   "cell_type": "markdown",
   "id": "f5536c61-9bbd-4a9b-9299-b8d6774f7a83",
   "metadata": {},
   "source": [
    "### Exercise 7.14: \n",
    "Write a version of the default constructor that explicitly initializes the\n",
    "members to the values we have provided as in-class initializers."
   ]
  },
  {
   "cell_type": "code",
   "execution_count": 1,
   "id": "7032e0f2-f9f8-44da-ab2b-0f88053497de",
   "metadata": {},
   "outputs": [],
   "source": [
    "#include <iostream>\n",
    "#include <string>\n",
    "\n",
    "using std::cout, std::endl, std::cin, std::string, std::istream, std::ostream;\n",
    "\n",
    "struct Sales_data {\n",
    "    Sales_data(): bookNo(\"\"), units_sold(0), revenue(0.0) { }\n",
    "    \n",
    "    string bookNo;\n",
    "    unsigned units_sold = 0;\n",
    "    double revenue = 0.0;\n",
    "};"
   ]
  },
  {
   "cell_type": "code",
   "execution_count": 2,
   "id": "f1ec969f-09b9-4063-a9d4-3414b97d846b",
   "metadata": {},
   "outputs": [],
   "source": [
    "Sales_data s;"
   ]
  },
  {
   "cell_type": "code",
   "execution_count": 3,
   "id": "6a68112d-8527-4510-a8b4-ea8e4095f5d7",
   "metadata": {},
   "outputs": [
    {
     "data": {
      "text/plain": [
       "\"\""
      ]
     },
     "execution_count": 3,
     "metadata": {},
     "output_type": "execute_result"
    }
   ],
   "source": [
    "s.bookNo"
   ]
  },
  {
   "cell_type": "code",
   "execution_count": 4,
   "id": "90ef20a8-5584-45a1-9158-c3ff8cc2568b",
   "metadata": {},
   "outputs": [
    {
     "data": {
      "text/plain": [
       "0"
      ]
     },
     "execution_count": 4,
     "metadata": {},
     "output_type": "execute_result"
    }
   ],
   "source": [
    "s.units_sold"
   ]
  },
  {
   "cell_type": "code",
   "execution_count": 5,
   "id": "d5fddfb0-1a6a-40b0-9b3d-9bc23cf597b6",
   "metadata": {},
   "outputs": [
    {
     "data": {
      "text/plain": [
       "0.0000000"
      ]
     },
     "execution_count": 5,
     "metadata": {},
     "output_type": "execute_result"
    }
   ],
   "source": [
    "s.revenue"
   ]
  },
  {
   "cell_type": "markdown",
   "id": "00713d5f-ea48-4b35-a960-a4f609db6f8c",
   "metadata": {},
   "source": [
    "### Exercise 7.15: \n",
    "Add appropriate constructors to your `Person` class."
   ]
  },
  {
   "cell_type": "code",
   "execution_count": 1,
   "id": "4e45d6fe-36e4-4e88-9f21-47058ae5de22",
   "metadata": {},
   "outputs": [],
   "source": [
    "#include <iostream>\n",
    "#include <string>\n",
    "\n",
    "using std::cout, std::endl, std::cin, std::string, std::istream, std::ostream;"
   ]
  },
  {
   "cell_type": "code",
   "execution_count": 2,
   "id": "b1f8059d-0f6f-4185-a319-33fae766cef0",
   "metadata": {},
   "outputs": [],
   "source": [
    "struct Person {\n",
    "    Person() = default;\n",
    "    Person(string &n, string &a): name(n), address(a) { }\n",
    "    Person(istream &is);\n",
    "    \n",
    "    string get_name() const { return name; }\n",
    "    string get_address() const { return address; }\n",
    "    \n",
    "    string name;\n",
    "    string address;\n",
    "};"
   ]
  },
  {
   "cell_type": "code",
   "execution_count": 3,
   "id": "d37053df-2672-41f7-a3c7-43f9f8d4efdd",
   "metadata": {},
   "outputs": [],
   "source": [
    "istream& read(istream &is, Person &person)\n",
    "{\n",
    "    is >> person.name >> person.address;\n",
    "    return is;\n",
    "}"
   ]
  },
  {
   "cell_type": "code",
   "execution_count": 4,
   "id": "0450e93c-8799-4981-9b43-25717a5beedf",
   "metadata": {},
   "outputs": [],
   "source": [
    "ostream& print(ostream &os, const Person &person)\n",
    "{\n",
    "    os << person.name << \" \" << person.address;\n",
    "    return os;\n",
    "}"
   ]
  },
  {
   "cell_type": "code",
   "execution_count": 5,
   "id": "96f6a3fd-8480-4508-b9fc-b339708c0577",
   "metadata": {},
   "outputs": [],
   "source": [
    "Person::Person(istream &is)\n",
    "{\n",
    "    read(is, *this);\n",
    "    return *this;\n",
    "}"
   ]
  },
  {
   "cell_type": "markdown",
   "id": "8cdd25ae-20b1-4fd2-9417-43f03576ac32",
   "metadata": {},
   "source": [
    "## EXERCISES SECTION 7.2"
   ]
  },
  {
   "cell_type": "markdown",
   "id": "4a25d176-2b35-4a20-90a4-cfc389a5e91f",
   "metadata": {},
   "source": [
    "### Exercise 7.16: \n",
    "What, if any, are the constraints on where and how often an access specifier may appear inside a class definition? What kinds of members should be defined\n",
    "after a `public` specifier? What kinds should be `private`?"
   ]
  },
  {
   "cell_type": "markdown",
   "id": "f50d3c5b-48b2-4b39-8b24-25547b302c86",
   "metadata": {},
   "source": [
    "A:\n",
    "\n",
    "There are no contraints on where and how often we can use access specifier.  \n",
    "Interface members should be defined after `public` specifier, while internal members should be defined after `private`"
   ]
  },
  {
   "cell_type": "markdown",
   "id": "2bf4fc59-f35a-4ddc-bc4c-25d6c0e116c7",
   "metadata": {},
   "source": [
    "### Exercise 7.17: \n",
    "What, if any, are the differences between using `class` or `struct`?"
   ]
  },
  {
   "cell_type": "markdown",
   "id": "d3a39ebd-fea4-41d9-a252-6a8989fa0dec",
   "metadata": {},
   "source": [
    "A:\n",
    "\n",
    "with `class` all members defined outside of `public` or `private` specifiers are private  \n",
    "with `struct` they are public"
   ]
  },
  {
   "cell_type": "markdown",
   "id": "d2cd7d4a-4f20-47a0-b954-32112d7c6eb4",
   "metadata": {},
   "source": [
    "### Exercise 7.18: \n",
    "What is encapsulation? Why is it useful?"
   ]
  },
  {
   "cell_type": "markdown",
   "id": "c46e8fe3-0418-4343-8bc1-31970bd1a3ec",
   "metadata": {},
   "source": [
    "A:\n",
    "\n",
    "encapsulation means hiding internal members from a user of the class, so that they can't break the data in unexpected ways and so that they don't have to worry about internal behavior of the class"
   ]
  },
  {
   "cell_type": "markdown",
   "id": "9a8d58a0-d1f8-4281-b69d-bc627e8c06d0",
   "metadata": {},
   "source": [
    "### Exercise 7.19: \n",
    "Indicate which members of your `Person` class you would declare as\n",
    "public and which you would declare as private. Explain your choice."
   ]
  },
  {
   "cell_type": "markdown",
   "id": "95d41681-93cc-4ce4-a690-e8c7c7cb11e2",
   "metadata": {},
   "source": [
    "A:\n",
    "\n",
    "`get_name()` and `get_address` would be public, so that class user can see the data, while we can change the way data is kept internally without bothering the user  \n",
    "`name` and `address` would be private, so that class user can't change the data"
   ]
  },
  {
   "cell_type": "markdown",
   "id": "23194a42-c1db-4474-8d06-eaaffee8b614",
   "metadata": {},
   "source": [
    "## EXERCISES SECTION 7.2.1"
   ]
  },
  {
   "cell_type": "markdown",
   "id": "b2ffee7f-7c3e-46c8-a2dd-9a2242c0d34a",
   "metadata": {},
   "source": [
    "### Exercise 7.20: \n",
    "When are friends useful? Discuss the pros and cons of using friends."
   ]
  },
  {
   "cell_type": "markdown",
   "id": "5e0eb10f-6482-42a6-ac12-2f688489622c",
   "metadata": {},
   "source": [
    "A:\n",
    "\n",
    "It's always good to have friends that can help you.  \n",
    "\n",
    "In case of C++, it's useful to make another function a `friend` so that it can access private members of the class.\n",
    "\n",
    "Pros: easy changing of the class' data via functions  \n",
    "Cons: these functions need to be maintained as class is changed"
   ]
  },
  {
   "cell_type": "markdown",
   "id": "771752d1-362b-4496-9b40-e0d085d1f5a6",
   "metadata": {},
   "source": [
    "### Exercise 7.21: \n",
    "Update your `Sales_data` class to hide its implementation. The programs you’ve written to use `Sales_data` operations should still continue to work.\n",
    "Recompile those programs with your new class definition to verify that they still work."
   ]
  },
  {
   "cell_type": "code",
   "execution_count": 1,
   "id": "7927571e-d963-4583-ad21-eb8b7f4c62f9",
   "metadata": {},
   "outputs": [],
   "source": [
    "#include <iostream>\n",
    "#include <string>\n",
    "\n",
    "using std::cout, std::endl, std::cin, std::string, std::istream, std::ostream;"
   ]
  },
  {
   "cell_type": "code",
   "execution_count": 2,
   "id": "a31548b4-1308-479d-9d6c-f94980cd14a5",
   "metadata": {},
   "outputs": [],
   "source": [
    "class Sales_data;"
   ]
  },
  {
   "cell_type": "code",
   "execution_count": 3,
   "id": "9566acf9-1868-4e2c-91b4-4f13e0f7dbd5",
   "metadata": {},
   "outputs": [],
   "source": [
    "Sales_data add(const Sales_data &lhs, const Sales_data &rhs);\n",
    "istream& read(istream &is, Sales_data &item);\n",
    "ostream& print(ostream &os, const Sales_data &item);"
   ]
  },
  {
   "cell_type": "code",
   "execution_count": 4,
   "id": "9001dab6-0dfc-49b8-9e93-c999166ad8f5",
   "metadata": {},
   "outputs": [],
   "source": [
    "class Sales_data {\n",
    "    friend Sales_data add(const Sales_data &lhs, const Sales_data &rhs);\n",
    "    friend istream& read(istream &is, Sales_data &item);\n",
    "    friend ostream& print(ostream &os, const Sales_data &item);\n",
    "    \n",
    "    public:\n",
    "        Sales_data() = default;\n",
    "        Sales_data(const string &s): bookNo(s) { }\n",
    "        Sales_data(const string &s, unsigned n, double p): bookNo(s), units_sold(n), revenue(p*n) { }\n",
    "        Sales_data(std::istream &);\n",
    "\n",
    "        string isbn() const { return bookNo; }\n",
    "        double avg_price() const { return units_sold ? revenue / units_sold : 0; }\n",
    "        Sales_data& combine(const Sales_data&);\n",
    "    \n",
    "    private:\n",
    "        string bookNo;\n",
    "        unsigned units_sold = 0;\n",
    "        double revenue = 0.0;\n",
    "};"
   ]
  },
  {
   "cell_type": "code",
   "execution_count": 5,
   "id": "b4b654e9-2c00-4e92-ad39-5c004a4bfd81",
   "metadata": {},
   "outputs": [],
   "source": [
    "Sales_data& Sales_data::combine(const Sales_data &rhs)\n",
    "{\n",
    "    units_sold += rhs.units_sold;\n",
    "    revenue += rhs.revenue;\n",
    "    return *this;\n",
    "}"
   ]
  },
  {
   "cell_type": "code",
   "execution_count": 6,
   "id": "5a43c817-e1ab-4da3-b7f4-7aaff5e73e65",
   "metadata": {},
   "outputs": [],
   "source": [
    "Sales_data add(const Sales_data &lhs, const Sales_data &rhs)\n",
    "{\n",
    "    Sales_data sum = lhs;\n",
    "    sum.combine(rhs);\n",
    "    return sum;\n",
    "}"
   ]
  },
  {
   "cell_type": "code",
   "execution_count": 7,
   "id": "df4f3949-0301-4631-8f29-2bf1c841d05f",
   "metadata": {},
   "outputs": [],
   "source": [
    "istream& read(istream &is, Sales_data &item)\n",
    "{\n",
    "    double price = 0;\n",
    "    is >> item.bookNo >> item.units_sold >> price;\n",
    "    item.revenue = price * item.units_sold;\n",
    "    return is;\n",
    "}"
   ]
  },
  {
   "cell_type": "code",
   "execution_count": 8,
   "id": "6412ef64-43b7-4546-96b1-b6fe37924d38",
   "metadata": {},
   "outputs": [],
   "source": [
    "ostream& print(ostream &os, const Sales_data &item)\n",
    "{\n",
    "    os << item.isbn() << \" \" << item.units_sold << \" \" << item.revenue << \" \" << item.avg_price();\n",
    "    return os;\n",
    "}"
   ]
  },
  {
   "cell_type": "code",
   "execution_count": 9,
   "id": "1b1a0272-3ec3-424e-9872-111b093ede10",
   "metadata": {},
   "outputs": [],
   "source": [
    "Sales_data::Sales_data(istream &is)\n",
    "{\n",
    "    read(is, *this);\n",
    "}"
   ]
  },
  {
   "cell_type": "code",
   "execution_count": 10,
   "id": "498de56d-d92c-439b-a224-5fe1af08a7f3",
   "metadata": {},
   "outputs": [
    {
     "name": "stdin",
     "output_type": "stream",
     "text": [
      " 0-201-78345-X 3 20.00  0-201-78345-X 2 25.00  0-301-81838-A 2 25.00 ; ; \n"
     ]
    },
    {
     "name": "stdout",
     "output_type": "stream",
     "text": [
      "0-201-78345-X 5 110 22\n",
      "0-301-81838-A 2 50 25\n"
     ]
    }
   ],
   "source": [
    "Sales_data total(cin); \n",
    "Sales_data trans; \n",
    "\n",
    "while (read(cin, trans) && trans.isbn() != \";\")\n",
    "{\n",
    "    if (total.isbn() == trans.isbn())\n",
    "    {\n",
    "        total.combine(trans);\n",
    "    }\n",
    "    else \n",
    "    { \n",
    "        print(cout, total) << endl;\n",
    "        total = trans;\n",
    "    }\n",
    "}\n",
    "print(cout, total) << endl;"
   ]
  },
  {
   "cell_type": "markdown",
   "id": "f7b8a985-a4a4-411b-ba43-03309a2fd50c",
   "metadata": {
    "tags": []
   },
   "source": [
    "### Exercise 7.22: \n",
    "Update your `Person` class to hide its implementation."
   ]
  },
  {
   "cell_type": "code",
   "execution_count": 1,
   "id": "574b9335-faef-41d9-bc8a-eb4ea4f4810c",
   "metadata": {},
   "outputs": [],
   "source": [
    "#include <iostream>\n",
    "#include <string>\n",
    "\n",
    "using std::cout, std::endl, std::cin, std::string, std::istream, std::ostream;"
   ]
  },
  {
   "cell_type": "code",
   "execution_count": 2,
   "id": "8ad797bf-2709-4451-81f1-6af7304f44b3",
   "metadata": {},
   "outputs": [],
   "source": [
    "class Person;\n",
    "istream& read(istream &is, Person &person);\n",
    "ostream& print(ostream &os, const Person &person);"
   ]
  },
  {
   "cell_type": "code",
   "execution_count": 3,
   "id": "dab668f7-1fc9-4527-801a-4650542c4a1a",
   "metadata": {},
   "outputs": [],
   "source": [
    "class Person {\n",
    "    friend istream& read(istream &is, Person &person);\n",
    "    \n",
    "    public:\n",
    "        Person() = default;\n",
    "        Person(string &n, string &a): name(n), address(a) { }\n",
    "        Person(istream &is);\n",
    "    \n",
    "        string get_name() const { return name; }\n",
    "        string get_address() const { return address; }\n",
    "    \n",
    "    private:\n",
    "        string name;\n",
    "        string address;\n",
    "};"
   ]
  },
  {
   "cell_type": "code",
   "execution_count": 4,
   "id": "c57e63fa-1c7c-4d24-b264-2b838fd5d79e",
   "metadata": {},
   "outputs": [],
   "source": [
    "istream& read(istream &is, Person &person)\n",
    "{\n",
    "    is >> person.name >> person.address;\n",
    "    return is;\n",
    "}"
   ]
  },
  {
   "cell_type": "code",
   "execution_count": 5,
   "id": "64b383a1-9d08-4156-b52d-050515d25e0d",
   "metadata": {},
   "outputs": [],
   "source": [
    "ostream& print(ostream &os, const Person &person)\n",
    "{\n",
    "    os << person.get_name() << \" \" << person.get_address();\n",
    "    return os;\n",
    "}"
   ]
  },
  {
   "cell_type": "code",
   "execution_count": 6,
   "id": "dd2b01c0-38a4-4fcb-a491-85fbf9095efb",
   "metadata": {},
   "outputs": [],
   "source": [
    "Person::Person(istream &is)\n",
    "{\n",
    "    read(is, *this);\n",
    "    return *this;\n",
    "}"
   ]
  },
  {
   "cell_type": "markdown",
   "id": "49c214a5-5617-4134-b8c9-e85daf1b7b04",
   "metadata": {},
   "source": [
    "## EXERCISES SECTION 7.3.1"
   ]
  },
  {
   "cell_type": "markdown",
   "id": "cfd5cb0e-92d4-488f-9b5c-46c52437e366",
   "metadata": {},
   "source": [
    "### Exercise 7.23: \n",
    "Write your own version of the `Screen` class."
   ]
  },
  {
   "cell_type": "code",
   "execution_count": 1,
   "id": "6f018650-988f-43fe-aee2-8c8a8d4506c6",
   "metadata": {},
   "outputs": [],
   "source": [
    "#include <string>\n",
    "using std::string;"
   ]
  },
  {
   "cell_type": "code",
   "execution_count": 2,
   "id": "6108f860-01ec-4ffb-b909-0bbfb1bf312d",
   "metadata": {},
   "outputs": [],
   "source": [
    "class Screen {\n",
    "    public:\n",
    "        typedef string::size_type pos;\n",
    "    \n",
    "    private:\n",
    "        pos cursor = 0;\n",
    "        pos height = 0, width = 0;\n",
    "        string contents;\n",
    "};"
   ]
  },
  {
   "cell_type": "markdown",
   "id": "6395c3db-66ed-4338-af63-0edb3d5c2c2b",
   "metadata": {},
   "source": [
    "### Exercise 7.24: \n",
    "Give your `Screen` class three constructors: \n",
    "a default constructor; a constructor that takes values for height and width and initializes the contents to hold the\n",
    "given number of blanks; and a constructor that takes values for height, width, and a\n",
    "character to use as the contents of the screen."
   ]
  },
  {
   "cell_type": "code",
   "execution_count": 1,
   "id": "debfd48b-927a-4ac6-a2e2-36dcc2418679",
   "metadata": {},
   "outputs": [],
   "source": [
    "#include <string>\n",
    "using std::string;"
   ]
  },
  {
   "cell_type": "code",
   "execution_count": 2,
   "id": "79b085da-7888-4b6e-9270-512112818380",
   "metadata": {},
   "outputs": [],
   "source": [
    "class Screen {\n",
    "    public:\n",
    "        Screen() = default;\n",
    "        Screen(int h, int w): height(h), width(w), contents(h*w, '\\0') { }\n",
    "        Screen(int h, int w, char c): height(h), width(w), contents(h*w, c) { }\n",
    "        typedef string::size_type pos;\n",
    "    \n",
    "    private:\n",
    "        pos cursor = 0;\n",
    "        pos height = 0, width = 0;\n",
    "        string contents;\n",
    "};"
   ]
  },
  {
   "cell_type": "markdown",
   "id": "a33d7068-7787-40ca-93e5-00fd37525242",
   "metadata": {
    "tags": []
   },
   "source": [
    "### Exercise 7.25: \n",
    "Can `Screen` safely rely on the default versions of copy and assignment? If so, why? If not, why not?"
   ]
  },
  {
   "cell_type": "markdown",
   "id": "7f57a489-7666-4120-af02-fbbdc9dc0760",
   "metadata": {},
   "source": [
    "A:\n",
    "\n",
    "yes, because it's using `string` types for data members and doesn't keep any resources outside of that. `string` class takes care of properly copying t"
   ]
  },
  {
   "cell_type": "markdown",
   "id": "d5657682-38ef-49ec-a895-c498daf198b5",
   "metadata": {},
   "source": [
    "### Exercise 7.26: \n",
    "Define `Sales_data::avg_price` as an `inline` function."
   ]
  },
  {
   "cell_type": "code",
   "execution_count": null,
   "id": "68dd92c3-2037-48ff-bb30-89845602f49f",
   "metadata": {},
   "outputs": [],
   "source": []
  },
  {
   "cell_type": "markdown",
   "id": "78a0e44a-f2ce-4298-b8b6-2661bb340ad0",
   "metadata": {},
   "source": [
    "## EXERCISES SECTION 7.3.2"
   ]
  },
  {
   "cell_type": "markdown",
   "id": "9f52b093-e29f-44be-a283-06934a7334f3",
   "metadata": {},
   "source": [
    "### Exercise 7.27: \n",
    "Add the `move`, `set`, and `display` operations to your version of\n",
    "`Screen`. Test your class by executing the following code:\n",
    "```\n",
    "Screen myScreen(5, 5, ’X’);\n",
    "myScreen.move(4,0).set(’#’).display(cout);\n",
    "cout << \"\\n\";\n",
    "myScreen.display(cout);\n",
    "cout << \"\\n\";\n",
    "```"
   ]
  },
  {
   "cell_type": "code",
   "execution_count": null,
   "id": "204de467-269b-4009-b1a4-ed75398385cf",
   "metadata": {},
   "outputs": [],
   "source": []
  },
  {
   "cell_type": "markdown",
   "id": "b654be81-0306-4e74-84ac-d1d436fd58ce",
   "metadata": {},
   "source": [
    "### Exercise 7.28: \n",
    "What would happen in the previous exercise if the return type of `move`,\n",
    "`set`, and `display` was `Screen` rather than `Screen&`?"
   ]
  },
  {
   "cell_type": "code",
   "execution_count": null,
   "id": "99ff9cab-28fa-4a3b-8b92-b6b9a0feeaf1",
   "metadata": {},
   "outputs": [],
   "source": []
  },
  {
   "cell_type": "markdown",
   "id": "fd376bb7-976b-4e47-8947-e18d8758c365",
   "metadata": {},
   "source": [
    "### Exercise 7.29: \n",
    "Revise your `Screen` class so that `move`, `set`, and `display` functions\n",
    "return `Screen` and check your prediction from the previous exercise."
   ]
  },
  {
   "cell_type": "code",
   "execution_count": null,
   "id": "e4f72517-1933-45d5-9603-a1eea0642baa",
   "metadata": {},
   "outputs": [],
   "source": []
  },
  {
   "cell_type": "markdown",
   "id": "430e481d-df87-484e-93ae-36e2a969c7d3",
   "metadata": {},
   "source": [
    "### Exercise 7.30: \n",
    "It is legal but redundant to refer to members through the `this` pointer.\n",
    "Discuss the pros and cons of explicitly using the `this` pointer to access members."
   ]
  },
  {
   "cell_type": "code",
   "execution_count": null,
   "id": "6fd6fff9-3750-4818-859e-d63f22c88737",
   "metadata": {},
   "outputs": [],
   "source": []
  },
  {
   "cell_type": "markdown",
   "id": "aa80137a-a673-4644-b32f-7186c584f2ee",
   "metadata": {},
   "source": [
    "## EXERCISES SECTION 7.3.3"
   ]
  },
  {
   "cell_type": "markdown",
   "id": "c2f0509c-2303-4ad4-8af1-aeedba5a512d",
   "metadata": {},
   "source": [
    "### Exercise 7.31: \n",
    "Define a pair of classes `X` and `Y`, in which `X` has a pointer to `Y`, and `Y` has\n",
    "an object of type `X`."
   ]
  },
  {
   "cell_type": "code",
   "execution_count": null,
   "id": "9751d375-adf1-4888-a652-7e5ab604b58d",
   "metadata": {},
   "outputs": [],
   "source": []
  },
  {
   "cell_type": "markdown",
   "id": "3eba9a6f-9564-46b6-85ca-5d4eb87f2e5e",
   "metadata": {},
   "source": [
    "## EXERCISES SECTION 7.3.4"
   ]
  },
  {
   "cell_type": "markdown",
   "id": "9df7bfd1-a6ba-4ef1-a044-167ebd2e8557",
   "metadata": {},
   "source": [
    "### Exercise 7.32: \n",
    "Define your own versions of `Screen` and `Window_mgr` in which\n",
    "`clear` is a member of `Window_mgr` and a friend of `Screen`."
   ]
  },
  {
   "cell_type": "code",
   "execution_count": null,
   "id": "542719d2-e793-44ac-a41a-4273560ee0aa",
   "metadata": {},
   "outputs": [],
   "source": []
  },
  {
   "cell_type": "markdown",
   "id": "3d21431f-589d-42aa-9641-0fc283828b71",
   "metadata": {},
   "source": [
    "## EXERCISES SECTION 7.4"
   ]
  },
  {
   "cell_type": "markdown",
   "id": "05206447-c00c-4870-b85f-49bb8dc9c342",
   "metadata": {},
   "source": [
    "### Exercise 7.33: \n",
    "What would happen if we gave `Screen` a `size` member defined as\n",
    "follows? Fix any problems you identify.\n",
    "```\n",
    "pos Screen::\n",
    "size() const\n",
    "{\n",
    "    return height * width;\n",
    "}\n",
    "```"
   ]
  },
  {
   "cell_type": "code",
   "execution_count": null,
   "id": "bbad94f5-8027-43f6-9005-6b29ae1a316e",
   "metadata": {},
   "outputs": [],
   "source": []
  },
  {
   "cell_type": "markdown",
   "id": "4de0dfe8-4e39-4239-8966-8371a768fcd5",
   "metadata": {},
   "source": [
    "## EXERCISES SECTION 7.4.1"
   ]
  },
  {
   "cell_type": "markdown",
   "id": "56d57fec-da46-4f5d-a35b-b1c09838237b",
   "metadata": {},
   "source": [
    "### Exercise 7.34: \n",
    "What would happen if we put the `typedef` of `pos` in the `Screen` class\n",
    "on page 285 as the last line in the class?"
   ]
  },
  {
   "cell_type": "code",
   "execution_count": null,
   "id": "c42c04af-7605-4357-af7d-6aaa4e8b037a",
   "metadata": {},
   "outputs": [],
   "source": []
  },
  {
   "cell_type": "markdown",
   "id": "a9a2d2cc-aca9-44c7-a787-147e3a91eba5",
   "metadata": {},
   "source": [
    "### Exercise 7.35: \n",
    "Explain the following code, indicating which definition of `Type` or\n",
    "`initVal` is used for each use of those names. Say how you would fix any errors.\n",
    "```\n",
    "typedef string Type;\n",
    "Type initVal();\n",
    "class Exercise {\n",
    "    public: \n",
    "        typedef double Type;\n",
    "        Type setVal(Type);\n",
    "        Type initVal();\n",
    "    private:\n",
    "        int val;\n",
    "};\n",
    "Type Exercise::setVal(Type parm) {\n",
    "    val = parm + initVal();\n",
    "    return val;\n",
    "}\n",
    "```"
   ]
  },
  {
   "cell_type": "code",
   "execution_count": null,
   "id": "99da2234-81c3-4e81-b9c5-c3d8fddfe26b",
   "metadata": {},
   "outputs": [],
   "source": []
  },
  {
   "cell_type": "markdown",
   "id": "28cb16fe-f283-4d54-820f-42b35e24e82e",
   "metadata": {},
   "source": [
    "## EXERCISES SECTION 7.5.1"
   ]
  },
  {
   "cell_type": "markdown",
   "id": "053a4ce8-53cc-456b-b9c0-acf9390f5f32",
   "metadata": {},
   "source": [
    "### Exercise 7.36: \n",
    "The following initializer is in error. Identify and fix the problem.\n",
    "```\n",
    "struct X {\n",
    "    X (int i, int j): base(i), rem(base % j) { }\n",
    "    int rem, base;\n",
    "};\n",
    "```"
   ]
  },
  {
   "cell_type": "code",
   "execution_count": null,
   "id": "cb2c690c-fd71-4127-b99b-f8bffe170afb",
   "metadata": {},
   "outputs": [],
   "source": []
  },
  {
   "cell_type": "markdown",
   "id": "5fb52ee0-fb05-458c-b79e-77699c13ef54",
   "metadata": {},
   "source": [
    "### Exercise 7.37: \n",
    "Using the version of `Sales_data` from this section, determine which\n",
    "constructor is used to initialize each of the following variables and list the values of the\n",
    "data members in each object:\n",
    "```\n",
    "Sales_data first_item(cin);\n",
    "int main() {\n",
    "    Sales_data next;\n",
    "    Sales_data last(\"9-999-99999-9\");\n",
    "}\n",
    "```"
   ]
  },
  {
   "cell_type": "code",
   "execution_count": null,
   "id": "896699bb-f92f-48fe-abbb-cd437cd5beae",
   "metadata": {},
   "outputs": [],
   "source": []
  },
  {
   "cell_type": "markdown",
   "id": "5b3766c4-4a71-4159-8ab3-be434b086618",
   "metadata": {},
   "source": [
    "### Exercise 7.38: \n",
    "We might want to supply `cin` as a default argument to the constructor\n",
    "that takes an `istream&`. Write the constructor declaration that uses `cin` as a default\n",
    "argument."
   ]
  },
  {
   "cell_type": "code",
   "execution_count": null,
   "id": "54704464-cf7f-4d7c-b69e-84d291684095",
   "metadata": {},
   "outputs": [],
   "source": []
  },
  {
   "cell_type": "markdown",
   "id": "f5fa220b-3c3d-4887-974b-14b36aa1a63c",
   "metadata": {},
   "source": [
    "### Exercise 7.39: \n",
    "Would it be legal for both the constructor that takes a `string` and the\n",
    "one that takes an `istream&` to have default arguments? If not, why not?"
   ]
  },
  {
   "cell_type": "code",
   "execution_count": null,
   "id": "866b357a-76a3-41b7-9aa6-2810697aeb69",
   "metadata": {},
   "outputs": [],
   "source": []
  },
  {
   "cell_type": "markdown",
   "id": "ed99956d-746d-4aa5-9ee1-56b09529d7ea",
   "metadata": {},
   "source": [
    "### Exercise 7.40:\n",
    "Choose one of the following abstractions (or an abstraction of your\n",
    "own choosing). Determine what data are needed in the class. Provide an appropriate\n",
    "set of constructors. Explain your decisions.  \n",
    "(a) Book  \n",
    "(b) Date  \n",
    "(c) Employee  \n",
    "(d) Vehicle  \n",
    "(e) Object  \n",
    "(f) Tree  "
   ]
  },
  {
   "cell_type": "code",
   "execution_count": null,
   "id": "6791bc57-c7f8-417d-8566-3f2f14420a01",
   "metadata": {},
   "outputs": [],
   "source": []
  },
  {
   "cell_type": "markdown",
   "id": "da9e3010-0b6d-43c3-a595-1a9408874246",
   "metadata": {},
   "source": [
    "## EXERCISES SECTION 7.5.2"
   ]
  },
  {
   "cell_type": "markdown",
   "id": "0ad0e20d-b55a-4189-91b5-21ccfb7a9424",
   "metadata": {},
   "source": [
    "### Exercise 7.41: \n",
    "Rewrite your own version of the `Sales_data` class to use delegating\n",
    "constructors. Add a statement to the body of each of the constructors that prints a\n",
    "message whenever it is executed. Write declarations to construct a `Sales_data` object\n",
    "in every way possible. Study the output until you are certain you understand the order\n",
    "of execution among delegating constructors."
   ]
  },
  {
   "cell_type": "code",
   "execution_count": null,
   "id": "634c9d7b-377f-48e1-9916-0b0df4c27ce8",
   "metadata": {},
   "outputs": [],
   "source": []
  },
  {
   "cell_type": "markdown",
   "id": "f3aaaba0-f8b9-4773-8e7b-bd5f50c6bba6",
   "metadata": {},
   "source": [
    "### Exercise 7.42: \n",
    "For the class you wrote for exercise 7.40 in § 7.5.1 (p. 291), decide\n",
    "whether any of the constructors might use delegation. If so, write the delegating constructor(s) for your class.\n",
    "If not, look at the list of abstractions and choose one that you think would use a delegating constructor.\n",
    "Write the class definition for that abstraction."
   ]
  },
  {
   "cell_type": "code",
   "execution_count": null,
   "id": "70bea346-e92e-4ce0-8c99-2e946eacb59e",
   "metadata": {},
   "outputs": [],
   "source": []
  },
  {
   "cell_type": "markdown",
   "id": "c294510b-51f4-4454-b4b5-ca946d31c623",
   "metadata": {},
   "source": [
    "## EXERCISES SECTION 7.5.3"
   ]
  },
  {
   "cell_type": "markdown",
   "id": "9ba71ae3-4bbd-488c-82c4-60603b165a27",
   "metadata": {},
   "source": [
    "### Exercise 7.43: \n",
    "Assume we have a class named `NoDefault` that has a constructor that\n",
    "takes an `int`, but has no default constructor. Define a class `C` that has a member of\n",
    "type `NoDefault`. Define the default constructor for `C`."
   ]
  },
  {
   "cell_type": "code",
   "execution_count": null,
   "id": "7a15fc1d-99cc-4d0d-aa9e-a3280670e2b2",
   "metadata": {},
   "outputs": [],
   "source": []
  },
  {
   "cell_type": "markdown",
   "id": "43fefef7-448c-46d1-bccd-e0baa17eda8a",
   "metadata": {},
   "source": [
    "### Exercise 7.44: \n",
    "Is the following declaration legal? If not, why not?\n",
    "```\n",
    "vector<NoDefault> vec(10);\n",
    "```"
   ]
  },
  {
   "cell_type": "code",
   "execution_count": null,
   "id": "4d5729d5-c206-44b5-8b6d-27b3c53a6a4c",
   "metadata": {},
   "outputs": [],
   "source": []
  },
  {
   "cell_type": "markdown",
   "id": "45c22633-f0e1-45b0-8343-f82ad354b898",
   "metadata": {},
   "source": [
    "### Exercise 7.45: \n",
    "What if we defined the vector in the previous execercise to hold objects of type C?"
   ]
  },
  {
   "cell_type": "code",
   "execution_count": null,
   "id": "99ebc512-a349-4eb6-941f-7dcb2f25bd85",
   "metadata": {},
   "outputs": [],
   "source": []
  },
  {
   "cell_type": "markdown",
   "id": "58ea26de-db41-44b6-b145-21aee00b723b",
   "metadata": {},
   "source": [
    "### Exercise 7.46: \n",
    "Which, if any, of the following statements are untrue? Why?  \n",
    "(a) A class must provide at least one constructor.  \n",
    "(b) A default constructor is a constructor with an empty parameter list.  \n",
    "(c) If there are no meaningful default values for a class, the class should not provide a default constructor.  \n",
    "(d) If a class does not define a default constructor, the compiler generates one that initializes each data member to the default value of its associated type."
   ]
  },
  {
   "cell_type": "code",
   "execution_count": null,
   "id": "3a6279ee-043f-4e99-b8dc-15f85abea663",
   "metadata": {},
   "outputs": [],
   "source": []
  },
  {
   "cell_type": "markdown",
   "id": "7593d4f0-1297-46c3-aa71-c8ca0d86e18a",
   "metadata": {},
   "source": [
    "## EXERCISES SECTION 7.5.4"
   ]
  },
  {
   "cell_type": "markdown",
   "id": "1e972c1d-21da-4590-ae10-5dcfc01cb133",
   "metadata": {},
   "source": [
    "### Exercise 7.47: \n",
    "Explain whether the `Sales_data` constructor that takes a `string`\n",
    "should be explicit. What are the benefits of making the constructor explicit?\n",
    "What are the drawbacks?"
   ]
  },
  {
   "cell_type": "code",
   "execution_count": null,
   "id": "4530bf5b-0dcf-41e3-92a1-57f79ae5875d",
   "metadata": {},
   "outputs": [],
   "source": []
  },
  {
   "cell_type": "markdown",
   "id": "1a8a3bfa-d827-422d-b414-793960467195",
   "metadata": {},
   "source": [
    "### Exercise 7.48: \n",
    "Assuming the `Sales_data` constructors are not explicit, what operations happen during the following definitions\n",
    "```\n",
    "string null_isbn(\"9-999-99999-9\");\n",
    "Sales_data item1(null_isbn);\n",
    "Sales_data item2(\"9-999-99999-9\");\n",
    "```\n",
    "What happens if the `Sales_data` constructors are explicit?"
   ]
  },
  {
   "cell_type": "code",
   "execution_count": null,
   "id": "d902839c-b23c-4d39-9843-d0e808ff037b",
   "metadata": {},
   "outputs": [],
   "source": []
  },
  {
   "cell_type": "markdown",
   "id": "ca20c291-79ec-4b1b-91f4-13eb5be7ef26",
   "metadata": {},
   "source": [
    "### Exercise 7.49: \n",
    "For each of the three following declarations of `combine`, explain what\n",
    "happens if we call `i.combine(s)`, where `i` is a `Sales_data` and `s` is a `string`:  \n",
    "(a) `Sales_data &combine(Sales_data);`  \n",
    "(b) `Sales_data &combine(Sales_data&);`  \n",
    "(c) `Sales_data &combine(const Sales_data&) const;`  "
   ]
  },
  {
   "cell_type": "code",
   "execution_count": null,
   "id": "4a53bdb0-bc2b-43c7-a6c3-f7b71a85d7cd",
   "metadata": {},
   "outputs": [],
   "source": []
  },
  {
   "cell_type": "markdown",
   "id": "fe0eec8a-b62e-42da-a7c2-80b1deae1ea2",
   "metadata": {},
   "source": [
    "### Exercise 7.50: \n",
    "Determine whether any of your `Person` class constructors should be\n",
    "explicit."
   ]
  },
  {
   "cell_type": "code",
   "execution_count": null,
   "id": "debb3286-ea39-4c0b-b6af-0f2842429312",
   "metadata": {},
   "outputs": [],
   "source": []
  },
  {
   "cell_type": "markdown",
   "id": "3143b731-a286-43ae-bb1e-97768f286003",
   "metadata": {},
   "source": [
    "### Exercise 7.51: \n",
    "Why do you think `vector` defines its single-argument constructor as\n",
    "explicit, but `string` does not?"
   ]
  },
  {
   "cell_type": "code",
   "execution_count": null,
   "id": "3b9a5352-91d0-4605-b9f6-602f9ca7b0ec",
   "metadata": {},
   "outputs": [],
   "source": []
  },
  {
   "cell_type": "markdown",
   "id": "36c067db-c2dc-4c2e-8769-f40bdef4e5ee",
   "metadata": {},
   "source": [
    "## EXERCISES SECTION 7.5.5"
   ]
  },
  {
   "cell_type": "markdown",
   "id": "fd20c93a-33b5-4572-a3fd-24d19e5161a9",
   "metadata": {},
   "source": [
    "### Exercise 7.52: \n",
    "Using our first version of `Sales_data` from § 2.6.1 (p. 72), explain the\n",
    "following initialization. Identify and fix any problems.\n",
    "```\n",
    "Sales_data item = {\"978-0590353403\", 25, 15.99};\n",
    "```"
   ]
  },
  {
   "cell_type": "code",
   "execution_count": null,
   "id": "6f32abc5-bcbe-4ace-8c41-0c65276757d8",
   "metadata": {},
   "outputs": [],
   "source": []
  },
  {
   "cell_type": "markdown",
   "id": "d6cfb356-017c-4436-8ab6-5598ba7ab51b",
   "metadata": {},
   "source": [
    "## EXERCISES SECTION 7.5.6"
   ]
  },
  {
   "cell_type": "markdown",
   "id": "054117e5-f997-4e7f-9142-79fa7fd65ac0",
   "metadata": {},
   "source": [
    "### Exercise 7.53: \n",
    "Define your own version of `Debug`."
   ]
  },
  {
   "cell_type": "code",
   "execution_count": null,
   "id": "4bfdaf8a-07ef-4612-8980-b233f0f4b7cc",
   "metadata": {},
   "outputs": [],
   "source": []
  },
  {
   "cell_type": "markdown",
   "id": "3cba0176-7645-43e3-89ad-a10a6f159996",
   "metadata": {},
   "source": [
    "### Exercise 7.54: \n",
    "Should the members of `Debug` that begin with `set_` be declared as\n",
    "`constexpr`? If not, why not?"
   ]
  },
  {
   "cell_type": "code",
   "execution_count": null,
   "id": "50f25ce1-fe60-4dcd-84e5-7a3e73ad621c",
   "metadata": {},
   "outputs": [],
   "source": []
  },
  {
   "cell_type": "markdown",
   "id": "65b4e45a-bd34-4ade-a315-dc596a48243e",
   "metadata": {},
   "source": [
    "### Exercise 7.55: \n",
    "Is the `Data` class from § 7.5.5 (p. 298) a literal class? If not, why not? If\n",
    "so, explain why it is literal."
   ]
  },
  {
   "cell_type": "code",
   "execution_count": null,
   "id": "9f176c8e-7aef-43b3-bdc5-bb48a04993c7",
   "metadata": {},
   "outputs": [],
   "source": []
  },
  {
   "cell_type": "markdown",
   "id": "665aa421-c7fa-4532-b151-24b8b76bebeb",
   "metadata": {},
   "source": [
    "## EXERCISES SECTION 7.6"
   ]
  },
  {
   "cell_type": "markdown",
   "id": "a7653290-ebd5-449d-bb59-3890e6fdeb66",
   "metadata": {},
   "source": [
    "### Exercise 7.56: \n",
    "What is a `static` class member? What are the advantages of `static`\n",
    "members? How do they differ from ordinary members?"
   ]
  },
  {
   "cell_type": "code",
   "execution_count": null,
   "id": "213ea1e7-25ec-4e4b-8ac8-2ffd0f50afa2",
   "metadata": {},
   "outputs": [],
   "source": []
  },
  {
   "cell_type": "markdown",
   "id": "eb230f06-01da-4fb3-a99a-c0a291cb46e3",
   "metadata": {},
   "source": [
    "### Exercise 7.57: \n",
    "Write your own version of the `Account` class."
   ]
  },
  {
   "cell_type": "code",
   "execution_count": null,
   "id": "e060a1b1-12a0-4415-9cea-ed092358dd16",
   "metadata": {},
   "outputs": [],
   "source": []
  },
  {
   "cell_type": "markdown",
   "id": "652e7114-e409-41c8-9094-ed9132ea9e7d",
   "metadata": {},
   "source": [
    "### Exercise 7.58: \n",
    "Which, if any, of the following `static` data member declarations and\n",
    "definitions are errors? Explain why.\n",
    "```\n",
    "// example.h\n",
    "class Example {\n",
    "    public:\n",
    "    static double rate = 6.5;\n",
    "    static const int vecSize = 20;\n",
    "    static vector<double> vec(vecSize);\n",
    "};\n",
    "// example.C\n",
    "#include \"example.h\"\n",
    "double Example::rate;\n",
    "vector<double> Example::vec;\n",
    "```"
   ]
  },
  {
   "cell_type": "code",
   "execution_count": null,
   "id": "a4db918c-1e36-485c-a0f8-fbed394a3450",
   "metadata": {},
   "outputs": [],
   "source": []
  }
 ],
 "metadata": {
  "kernelspec": {
   "display_name": "C++17",
   "language": "C++17",
   "name": "xcpp17"
  },
  "language_info": {
   "codemirror_mode": "text/x-c++src",
   "file_extension": ".cpp",
   "mimetype": "text/x-c++src",
   "name": "c++",
   "version": "17"
  }
 },
 "nbformat": 4,
 "nbformat_minor": 5
}
