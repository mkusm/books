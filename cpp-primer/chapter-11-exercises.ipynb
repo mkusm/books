{
 "cells": [
  {
   "cell_type": "markdown",
   "id": "ad611a12-b685-4496-a0bd-7be152f52ab5",
   "metadata": {},
   "source": [
    "# Chapter 11 Associative Containers"
   ]
  },
  {
   "cell_type": "markdown",
   "id": "71cf61a5-e6f1-497f-a1ae-b3f066a7c9fc",
   "metadata": {},
   "source": [
    "## EXERCISES SECTION 11.1"
   ]
  },
  {
   "cell_type": "markdown",
   "id": "e4199c24-9597-4773-8843-0e1f5c88b323",
   "metadata": {},
   "source": [
    "### Exercise 11.1:\n",
    "Describe the differences between a `map` and a `vector`."
   ]
  },
  {
   "cell_type": "code",
   "execution_count": null,
   "id": "ab42fd9d-8a70-445a-924e-1b19551099c7",
   "metadata": {},
   "outputs": [],
   "source": []
  },
  {
   "cell_type": "markdown",
   "id": "38a353b8-d1eb-4aa6-9d86-2a5b2e7fb223",
   "metadata": {},
   "source": [
    "### Exercise 11.2:\n",
    "Give an example of when each of `list`, `vector`, `deque`, `map`, and `set` might be most useful."
   ]
  },
  {
   "cell_type": "code",
   "execution_count": null,
   "id": "ea1516db-c416-4aa4-ae13-43f815510f78",
   "metadata": {},
   "outputs": [],
   "source": []
  },
  {
   "cell_type": "markdown",
   "id": "3f5b1e31-ff51-412d-80f6-1406ef074922",
   "metadata": {},
   "source": [
    "### Exercise 11.3:\n",
    " Write your own version of the word-counting program."
   ]
  },
  {
   "cell_type": "code",
   "execution_count": null,
   "id": "5dbbb119-cd15-469f-ad11-ec702afd4d7b",
   "metadata": {},
   "outputs": [],
   "source": []
  },
  {
   "cell_type": "markdown",
   "id": "09af6f7c-42d5-41d5-b51d-e8cbfe9d0b33",
   "metadata": {},
   "source": [
    "### Exercise 11.4:\n",
    " Extend your program to ignore case and punctuation. For example,\n",
    "\"example.\" \"example,\" and \"Example\" should all increment the same counter."
   ]
  },
  {
   "cell_type": "code",
   "execution_count": null,
   "id": "6a33aa13-8a96-4813-be10-645dda6ee2ef",
   "metadata": {},
   "outputs": [],
   "source": []
  },
  {
   "cell_type": "markdown",
   "id": "778958bc-31be-49d4-bf80-f3be19937f0d",
   "metadata": {},
   "source": [
    "## EXERCISES SECTION 11.2.1"
   ]
  },
  {
   "cell_type": "markdown",
   "id": "54abae36-53ef-4415-88c3-287ebbe88576",
   "metadata": {},
   "source": [
    "### Exercise 11.5:\n",
    " Explain the difference between a `map` and a `set`. When might you use\n",
    "one or the other?"
   ]
  },
  {
   "cell_type": "code",
   "execution_count": null,
   "id": "75b2f88e-d029-430b-a233-0d1de88255a1",
   "metadata": {},
   "outputs": [],
   "source": []
  },
  {
   "cell_type": "markdown",
   "id": "834c523c-12c2-44bf-a608-bf3edff8b52e",
   "metadata": {},
   "source": [
    "### Exercise 11.6:\n",
    " Explain the difference between a `set` and a `list`. When might you use\n",
    "one or the other?"
   ]
  },
  {
   "cell_type": "code",
   "execution_count": null,
   "id": "a6f51c8e-2430-4c9d-92fa-2e16e033c2e9",
   "metadata": {},
   "outputs": [],
   "source": []
  },
  {
   "cell_type": "markdown",
   "id": "8a6a0b9e-3ede-4067-9d44-4f2d2c6b595d",
   "metadata": {},
   "source": [
    "### Exercise 11.7:\n",
    " Define a `map` for which the key is the family's last name and the value\n",
    "is a `vector` of the children's names. Write code to add new families and to add new\n",
    "children to an existing family."
   ]
  },
  {
   "cell_type": "code",
   "execution_count": null,
   "id": "ea8f5f9f-7361-4924-9888-062d264560c9",
   "metadata": {},
   "outputs": [],
   "source": []
  },
  {
   "cell_type": "markdown",
   "id": "c7a4eadb-f4a9-4ce6-85c8-91e69ed4578d",
   "metadata": {},
   "source": [
    "### Exercise 11.8:\n",
    " Write a program that stores the excluded words in a `vector` instead of\n",
    "in a `set`. What are the advantages to using a `set`?"
   ]
  },
  {
   "cell_type": "code",
   "execution_count": null,
   "id": "182a6730-47b5-410b-8565-0e9654823413",
   "metadata": {},
   "outputs": [],
   "source": []
  },
  {
   "cell_type": "markdown",
   "id": "76e7e6b2-aca7-4560-bef6-eb38506b2484",
   "metadata": {},
   "source": [
    "## EXERCISES SECTION 11.2.2"
   ]
  },
  {
   "cell_type": "markdown",
   "id": "3671a1ad-5e5f-4b0c-a0e7-87e0ff659910",
   "metadata": {},
   "source": [
    "### Exercise 11.9:\n",
    " Define a `map` that associates words with a `list` of line numbers on\n",
    "which the word might occur."
   ]
  },
  {
   "cell_type": "code",
   "execution_count": null,
   "id": "3b9e4963-8418-4014-bb40-2530cb31688e",
   "metadata": {},
   "outputs": [],
   "source": []
  },
  {
   "cell_type": "markdown",
   "id": "83a08d84-67d9-4631-9a33-4330121f1cd0",
   "metadata": {},
   "source": [
    "### Exercise 11.10:\n",
    " Could we define a `map` from `vector<int>::iterator` to `int`?\n",
    "What about from `list<int>::iterator` to `int`? In each case, if not, why not?"
   ]
  },
  {
   "cell_type": "code",
   "execution_count": null,
   "id": "92c53c66-e297-40e9-932f-bfe69983ff0b",
   "metadata": {},
   "outputs": [],
   "source": []
  },
  {
   "cell_type": "markdown",
   "id": "c086f7a8-c01f-4ab8-ad23-690c1a6032e4",
   "metadata": {},
   "source": [
    "### Exercise 11.11:\n",
    " Redefine bookstore without using `decltype`."
   ]
  },
  {
   "cell_type": "code",
   "execution_count": null,
   "id": "1c608aea-c2e3-430c-ad81-bc64e0c8aee8",
   "metadata": {},
   "outputs": [],
   "source": []
  },
  {
   "cell_type": "markdown",
   "id": "fa181324-3e86-4780-9f4f-088ef1289183",
   "metadata": {},
   "source": [
    "## EXERCISES SECTION 11.2.3"
   ]
  },
  {
   "cell_type": "markdown",
   "id": "341995ae-f987-45de-8b66-6b8384872110",
   "metadata": {},
   "source": [
    "### Exercise 11.12:\n",
    " Write a program to read a sequence of `string`s and `int`s, storing each\n",
    "into a pair. Store the pairs in a `vector`."
   ]
  },
  {
   "cell_type": "code",
   "execution_count": null,
   "id": "b6f517ab-aced-4ba9-9bc4-0f657dee5dd7",
   "metadata": {},
   "outputs": [],
   "source": []
  },
  {
   "cell_type": "markdown",
   "id": "042de2e0-f21b-49e7-8b4b-7d8bd28d4f37",
   "metadata": {},
   "source": [
    "### Exercise 11.13:\n",
    " There are at least three ways to create the pairs in the program for\n",
    "the previous exercise. Write three versions of that program, creating the pairs in each\n",
    "way. Explain which form you think is easiest to write and understand, and why."
   ]
  },
  {
   "cell_type": "code",
   "execution_count": null,
   "id": "5179553c-129e-4797-9f88-080bbe392fa7",
   "metadata": {},
   "outputs": [],
   "source": []
  },
  {
   "cell_type": "markdown",
   "id": "1279cefd-044b-4c75-9b2e-05b6ea358544",
   "metadata": {},
   "source": [
    "### Exercise 11.14:\n",
    " Extend the `map` of children to their family name that you wrote for the\n",
    "exercises in § 11.2.1 (p. 424) by having the `vector` store a pair that holds a child’s\n",
    "name and birthday."
   ]
  },
  {
   "cell_type": "code",
   "execution_count": null,
   "id": "b8e586a1-e907-4c2c-9bbe-447e5c70b4cd",
   "metadata": {},
   "outputs": [],
   "source": []
  },
  {
   "cell_type": "markdown",
   "id": "89e6c2d8-5060-430d-88c9-70732f5d51d3",
   "metadata": {},
   "source": [
    "## EXERCISES SECTION 11.3.1"
   ]
  },
  {
   "cell_type": "markdown",
   "id": "0df249b0-dcd6-4e6b-bbad-cc08baef8437",
   "metadata": {},
   "source": [
    "### Exercise 11.15:\n",
    " What are the `mapped_type`, `key_type`, and `value_type` of a `map`\n",
    "from `int` to `vector<int>`?"
   ]
  },
  {
   "cell_type": "code",
   "execution_count": null,
   "id": "90eb511c-c2a2-49c2-9ca3-633899d94b11",
   "metadata": {},
   "outputs": [],
   "source": []
  },
  {
   "cell_type": "markdown",
   "id": "1f7d268c-1c65-4171-b4cd-b0badd53b66a",
   "metadata": {},
   "source": [
    "### Exercise 11.16:\n",
    " Using a `map` iterator write an expression that assigns a value to an\n",
    "element."
   ]
  },
  {
   "cell_type": "code",
   "execution_count": null,
   "id": "5729f9c2-6ca0-4d43-8ed0-5fb3afb1cdbc",
   "metadata": {},
   "outputs": [],
   "source": []
  },
  {
   "cell_type": "markdown",
   "id": "8b613687-f598-4c9d-b29c-a336f9693344",
   "metadata": {},
   "source": [
    "### Exercise 11.17:\n",
    " Assuming `c` is a multiset of `string`s and `v` is a `vector` of\n",
    "`string`s, explain the following calls. Indicate whether each call is legal:\n",
    "```\n",
    "copy(v.begin(), v.end(), inserter(c, c.end()));\n",
    "copy(v.begin(), v.end(), back_inserter(c));\n",
    "copy(c.begin(), c.end(), inserter(v, v.end()));\n",
    "copy(c.begin(), c.end(), back_inserter(v));\n",
    "```"
   ]
  },
  {
   "cell_type": "code",
   "execution_count": null,
   "id": "4f63a171-ec6e-49ef-b769-9c8a3ffd4adc",
   "metadata": {},
   "outputs": [],
   "source": []
  },
  {
   "cell_type": "markdown",
   "id": "f05a75bb-f20a-4855-a8b8-b31f01075cd1",
   "metadata": {},
   "source": [
    "### Exercise 11.18:\n",
    " Write the type of `map_it` from the loop on page 430 without using `auto` or `decltype`."
   ]
  },
  {
   "cell_type": "code",
   "execution_count": null,
   "id": "5114fb38-2c12-4ddb-b809-90006d3eea90",
   "metadata": {},
   "outputs": [],
   "source": []
  },
  {
   "cell_type": "markdown",
   "id": "74200031-b83f-495f-a34a-0ed7d7cc2c68",
   "metadata": {},
   "source": [
    "### Exercise 11.19:\n",
    " Define a variable that you initialize by calling `begin()` on the\n",
    "`multiset` named bookstore from § 11.2.2 (p. 425). Write the variable's type without\n",
    "using `auto` or `decltype`."
   ]
  },
  {
   "cell_type": "code",
   "execution_count": null,
   "id": "0d9fc982-901e-4ec2-aba9-d8a85ecda959",
   "metadata": {},
   "outputs": [],
   "source": []
  },
  {
   "cell_type": "markdown",
   "id": "c205157c-84f2-4550-9976-cb1899bdba88",
   "metadata": {},
   "source": [
    "## EXERCISES SECTION 11.3.2"
   ]
  },
  {
   "cell_type": "code",
   "execution_count": null,
   "id": "be06277b-2d9d-4e8c-8d8c-13de0d489213",
   "metadata": {},
   "outputs": [],
   "source": []
  },
  {
   "cell_type": "markdown",
   "id": "4e86cf56-0d01-4d8f-88e5-2c3fb2d622a7",
   "metadata": {},
   "source": [
    "### Exercise 11.20:\n",
    " Rewrite the word-counting program from § 11.1 (p. 421) to use\n",
    "`insert` instead of subscripting. Which program do you think is easier to write and\n",
    "read? Explain your reasoning."
   ]
  },
  {
   "cell_type": "code",
   "execution_count": null,
   "id": "5422b8ba-61c2-4f58-99b1-7c1b842de943",
   "metadata": {},
   "outputs": [],
   "source": []
  },
  {
   "cell_type": "markdown",
   "id": "6062405d-828e-4b8f-90bf-300a1355a8b9",
   "metadata": {},
   "source": [
    "### Exercise 11.21:\n",
    " Assuming `word_count` is a `map` from `string` to `size_t` and word\n",
    "is a `string`, explain the following loop:\n",
    "```\n",
    "while (cin >> word)\n",
    "    ++word_count.insert({word, 0}).first->second;\n",
    "```"
   ]
  },
  {
   "cell_type": "code",
   "execution_count": null,
   "id": "f96c9650-139d-470a-b9cc-440f41756182",
   "metadata": {},
   "outputs": [],
   "source": []
  },
  {
   "cell_type": "markdown",
   "id": "1c9e74bf-7e67-45eb-90dd-0ce2e8e2e163",
   "metadata": {},
   "source": [
    "### Exercise 11.22:\n",
    " Given a `map<string, vector<int>>`, write the types used as an\n",
    "argument and as the return value for the version of `insert` that inserts one element."
   ]
  },
  {
   "cell_type": "code",
   "execution_count": null,
   "id": "8c80720e-25c9-4788-8d8e-4922646ed5f4",
   "metadata": {},
   "outputs": [],
   "source": []
  },
  {
   "cell_type": "markdown",
   "id": "eaab332a-0893-4782-93a3-2d9f39a17af6",
   "metadata": {},
   "source": [
    "### Exercise 11.23:\n",
    " Rewrite the `map` that stored `vector`s of children's names with a key\n",
    "that is the family last name for the exercises in § 11.2.1 (p. 424) to use a `multimap`."
   ]
  },
  {
   "cell_type": "code",
   "execution_count": null,
   "id": "bf6a593a-9eba-46fd-a4cb-d2b474cd0d5f",
   "metadata": {},
   "outputs": [],
   "source": []
  },
  {
   "cell_type": "markdown",
   "id": "95ce68a4-4f0d-4a1f-8783-7e36ff77de34",
   "metadata": {},
   "source": [
    "## EXERCISES SECTION 11.3.4"
   ]
  },
  {
   "cell_type": "markdown",
   "id": "0b5edb85-5a4d-46b3-ae3c-3b38ebeb9e6e",
   "metadata": {},
   "source": [
    "### Exercise 11.24:\n",
    " What does the following program do?\n",
    "```\n",
    "map<int, int> m;\n",
    "m[0] = 1;\n",
    "```"
   ]
  },
  {
   "cell_type": "code",
   "execution_count": null,
   "id": "4a52ee31-76b0-4fa8-ac39-69f19a76653c",
   "metadata": {},
   "outputs": [],
   "source": []
  },
  {
   "cell_type": "markdown",
   "id": "351ec3b5-a640-453e-8f94-a3690498d0fa",
   "metadata": {},
   "source": [
    "### Exercise 11.25:\n",
    " Contrast the following program with the one in the previous exercise\n",
    "```\n",
    "vector<int> v;\n",
    "v[0] = 1;\n",
    "```"
   ]
  },
  {
   "cell_type": "code",
   "execution_count": null,
   "id": "22b3a732-84ae-410b-92bd-55242dc94426",
   "metadata": {},
   "outputs": [],
   "source": []
  },
  {
   "cell_type": "markdown",
   "id": "82b9ff96-5fa6-4480-9aba-df513e70cb32",
   "metadata": {},
   "source": [
    "### Exercise 11.26:\n",
    "What type can be used to subscript a `map`? What type does the \n",
    "subscript operator return? Give a concrete example — that is, define a `map` and then write\n",
    "the types that can be used to subscript the `map` and the type that would be returned\n",
    "from the subscript operator."
   ]
  },
  {
   "cell_type": "code",
   "execution_count": null,
   "id": "529fbe08-61e9-4683-bc02-ced98d1c39d4",
   "metadata": {},
   "outputs": [],
   "source": []
  },
  {
   "cell_type": "markdown",
   "id": "32eb6306-7f2c-43cb-9a3a-4d30d57cc0ed",
   "metadata": {},
   "source": [
    "## EXERCISES SECTION 11.3.5"
   ]
  },
  {
   "cell_type": "markdown",
   "id": "37c7444c-f926-4a1a-b3b0-3fd13135f02e",
   "metadata": {},
   "source": [
    "### Exercise 11.27:\n",
    " What kinds of problems would you use `count` to solve? When might\n",
    "you use `find` instead?"
   ]
  },
  {
   "cell_type": "code",
   "execution_count": null,
   "id": "b305d3e0-a5be-441f-ab02-55fd1f6c3ac3",
   "metadata": {},
   "outputs": [],
   "source": []
  },
  {
   "cell_type": "markdown",
   "id": "5f854082-0654-49c7-9295-b7fd955f0d9f",
   "metadata": {},
   "source": [
    "### Exercise 11.28:\n",
    " Define and initialize a variable to hold the result of calling `find` on a\n",
    "`map` from `string` to `vector` of `int`."
   ]
  },
  {
   "cell_type": "code",
   "execution_count": null,
   "id": "15aa9294-4f8b-4c46-8c39-e324a96d1fd5",
   "metadata": {},
   "outputs": [],
   "source": []
  },
  {
   "cell_type": "markdown",
   "id": "0e4c48ed-01da-4c06-a351-46ecd6c4d349",
   "metadata": {},
   "source": [
    "### Exercise 11.29:\n",
    " What do `upper_bound`, `lower_bound`, and `equal_range` return\n",
    "when you pass them a key that is not in the container?"
   ]
  },
  {
   "cell_type": "code",
   "execution_count": null,
   "id": "d3be4bff-8b9e-4fff-8cfc-f9ba97234df8",
   "metadata": {},
   "outputs": [],
   "source": []
  },
  {
   "cell_type": "markdown",
   "id": "6d1466d3-9fb4-4452-a3c6-e275d9f6390e",
   "metadata": {},
   "source": [
    "### Exercise 11.30:\n",
    " Explain the meaning of the operand `pos.first->second` used in\n",
    "the output expression of the final program in this section."
   ]
  },
  {
   "cell_type": "code",
   "execution_count": null,
   "id": "306189ef-57b5-478b-9de3-221f075d102d",
   "metadata": {},
   "outputs": [],
   "source": []
  },
  {
   "cell_type": "markdown",
   "id": "39f6a955-3e3f-4972-afbb-2a0c5964c850",
   "metadata": {},
   "source": [
    "### Exercise 11.31:\n",
    " Write a program that defines a `multimap` of authors and their works.\n",
    "Use `find` to find an element in the `multimap` and `erase` that element. Be sure your\n",
    "program works correctly if the element you look for is not in the `map`."
   ]
  },
  {
   "cell_type": "code",
   "execution_count": null,
   "id": "bd6acc87-92a7-4f00-82d9-4ed93bb59d5c",
   "metadata": {},
   "outputs": [],
   "source": []
  },
  {
   "cell_type": "markdown",
   "id": "83ba896c-c1c2-49c0-88ed-d05ba2255061",
   "metadata": {},
   "source": [
    "### Exercise 11.32:\n",
    " Using the `multimap` from the previous exercise, write a program to\n",
    "print the `list` of authors and their works alphabetically."
   ]
  },
  {
   "cell_type": "markdown",
   "id": "1cb17765-3c07-489e-a510-8425d6414101",
   "metadata": {},
   "source": [
    "## EXERCISES SECTION 11.3.6"
   ]
  },
  {
   "cell_type": "markdown",
   "id": "ffb5c192-6b11-4a6e-b88d-21d52c0d9e57",
   "metadata": {},
   "source": [
    "### Exercise 11.33:\n",
    " Implement your own version of the word-transformation program."
   ]
  },
  {
   "cell_type": "code",
   "execution_count": null,
   "id": "af035bc6-065b-4e1b-a096-32378c383b5b",
   "metadata": {},
   "outputs": [],
   "source": []
  },
  {
   "cell_type": "markdown",
   "id": "85b9f6c7-58e0-4629-8746-97b3379978e0",
   "metadata": {},
   "source": [
    "### Exercise 11.34:\n",
    " What would happen if we used the subscript operator instead of `find`\n",
    "in the transform function?"
   ]
  },
  {
   "cell_type": "code",
   "execution_count": null,
   "id": "04bca42d-b17c-40d7-b58f-275ea2855bde",
   "metadata": {},
   "outputs": [],
   "source": []
  },
  {
   "cell_type": "markdown",
   "id": "4a9efd79-836d-4eb6-9d91-3c2731e77b5d",
   "metadata": {},
   "source": [
    "### Exercise 11.35:\n",
    " In `buildMap`, what effect, if any, would there be from rewriting\n",
    "```\n",
    "trans_map[key] = value.substr(1);\n",
    "```\n",
    "as \n",
    "```\n",
    "trans_map.insert({key, value.substr(1)})?\n",
    "```"
   ]
  },
  {
   "cell_type": "code",
   "execution_count": null,
   "id": "d443ed5d-f5be-413d-be90-3243884fb3dd",
   "metadata": {},
   "outputs": [],
   "source": []
  },
  {
   "cell_type": "markdown",
   "id": "87d3dca9-4097-4783-8d0e-a00ca11ca119",
   "metadata": {},
   "source": [
    "### Exercise 11.36:\n",
    " Our program does no checking on the validity of either input file. In\n",
    "particular, it assumes that the rules in the transformation file are all sensible. What\n",
    "would happen if a line in that file has a key, one space, and then the end of the line?\n",
    "Predict the behavior and then check it against your version of the program."
   ]
  },
  {
   "cell_type": "code",
   "execution_count": null,
   "id": "03bf36be-e514-4c1d-90aa-924a9fca6562",
   "metadata": {},
   "outputs": [],
   "source": []
  },
  {
   "cell_type": "markdown",
   "id": "2efbbee0-29b2-4542-b001-86c2e5eacf7e",
   "metadata": {},
   "source": [
    "## EXERCISES SECTION 11.4"
   ]
  },
  {
   "cell_type": "markdown",
   "id": "371db6f0-a3d5-49c6-be6d-17cc0b62d3e9",
   "metadata": {},
   "source": [
    "### Exercise 11.37:\n",
    " What are the advantages of an unordered container as compared to the\n",
    "ordered version of that container? What are the advantages of the ordered version?"
   ]
  },
  {
   "cell_type": "code",
   "execution_count": null,
   "id": "e7bc320d-a13c-47eb-865d-3826137af479",
   "metadata": {},
   "outputs": [],
   "source": []
  },
  {
   "cell_type": "markdown",
   "id": "f99813cc-7852-44b5-9ee6-8b79d28449ac",
   "metadata": {},
   "source": [
    "### Exercise 11.38:\n",
    " Rewrite the word-counting (§ 11.1, p. 421) and word-transformation\n",
    "(§ 11.3.6, p. 440) programs to use an `unordered_map`."
   ]
  },
  {
   "cell_type": "code",
   "execution_count": null,
   "id": "3ffe07ef-e05b-42a2-9e1e-d7400047a486",
   "metadata": {},
   "outputs": [],
   "source": []
  }
 ],
 "metadata": {
  "kernelspec": {
   "display_name": "C++17",
   "language": "C++17",
   "name": "xcpp17"
  },
  "language_info": {
   "codemirror_mode": "text/x-c++src",
   "file_extension": ".cpp",
   "mimetype": "text/x-c++src",
   "name": "c++",
   "version": "17"
  }
 },
 "nbformat": 4,
 "nbformat_minor": 5
}
