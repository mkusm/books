{
 "cells": [
  {
   "cell_type": "markdown",
   "id": "ad611a12-b685-4496-a0bd-7be152f52ab5",
   "metadata": {},
   "source": [
    "# Chapter 11 Associative Containers"
   ]
  },
  {
   "cell_type": "markdown",
   "id": "71cf61a5-e6f1-497f-a1ae-b3f066a7c9fc",
   "metadata": {},
   "source": [
    "## EXERCISES SECTION 11.1"
   ]
  },
  {
   "cell_type": "markdown",
   "id": "e4199c24-9597-4773-8843-0e1f5c88b323",
   "metadata": {},
   "source": [
    "### Exercise 11.1:\n",
    "Describe the differences between a `map` and a `vector`."
   ]
  },
  {
   "cell_type": "markdown",
   "id": "be36594c-8aa5-47f0-84ca-6bf2ed01582e",
   "metadata": {},
   "source": [
    "A:\n",
    "\n",
    "`vector` holds elements indexed by integral numbers starting with 0  \n",
    "`map` holds elements indexed by a key, that can be of any type"
   ]
  },
  {
   "cell_type": "markdown",
   "id": "38a353b8-d1eb-4aa6-9d86-2a5b2e7fb223",
   "metadata": {},
   "source": [
    "### Exercise 11.2:\n",
    "Give an example of when each of `list`, `vector`, `deque`, `map`, and `set` might be most useful."
   ]
  },
  {
   "cell_type": "markdown",
   "id": "dcaa49cc-a08d-476f-ab4b-140552711aba",
   "metadata": {},
   "source": [
    "A:\n",
    "\n",
    "`list` - when we need to insert or delete elements frequently, and not just from the back or the front  \n",
    "`vector` - most commonly useful container, especially when quick random access to elements is needed by a number  \n",
    "`deque` - when we need to insert or delete elements frequently from the back or the front (e.g. when creating a queue)  \n",
    "`map` - for a dictionary or name association (e.g. when renaming many values in another container)    \n",
    "`set` - for when we need to check frequently whether given value is in the container (e.g. elements to filter out from another container) "
   ]
  },
  {
   "cell_type": "markdown",
   "id": "3f5b1e31-ff51-412d-80f6-1406ef074922",
   "metadata": {},
   "source": [
    "### Exercise 11.3:\n",
    " Write your own version of the word-counting program."
   ]
  },
  {
   "cell_type": "code",
   "execution_count": 1,
   "id": "5dbbb119-cd15-469f-ad11-ec702afd4d7b",
   "metadata": {},
   "outputs": [
    {
     "data": {
      "text/plain": [
       "{ \"How\" => 1, \"and\" => 1, \"are\" => 2, \"each\" => 1, \"here\" => 1, \"how\" => 1, \"many\" => 1, \"of\" => 4, \"often\" => 1, \"one\" => 1, \"ones\" => 1, \"repeating\" => 1, \"these\" => 3, \"which\" => 1, \"words\" => 4 }"
      ]
     },
     "execution_count": 1,
     "metadata": {},
     "output_type": "execute_result"
    }
   ],
   "source": [
    "#include <sstream>\n",
    "#include <cstddef>\n",
    "using std::vector, std::string, std::map, std::size_t;\n",
    "\n",
    "map<string, size_t> words_to_counts;\n",
    "string s, input = \"How many words of these words are here of each one of these words and which ones of these words are repeating how often\";\n",
    "auto stream = std::istringstream(input);\n",
    "while (stream >> s)\n",
    "    ++words_to_counts[s];\n",
    "words_to_counts"
   ]
  },
  {
   "cell_type": "markdown",
   "id": "09af6f7c-42d5-41d5-b51d-e8cbfe9d0b33",
   "metadata": {},
   "source": [
    "### Exercise 11.4:\n",
    " Extend your program to ignore case and punctuation. For example,\n",
    "\"example.\" \"example,\" and \"Example\" should all increment the same counter."
   ]
  },
  {
   "cell_type": "code",
   "execution_count": 1,
   "id": "70f7c5c2-6dda-4657-9e4a-e8e27212c95b",
   "metadata": {},
   "outputs": [
    {
     "data": {
      "text/plain": [
       "{ \"and\" => 1, \"are\" => 3, \"each\" => 1, \"here\" => 1, \"how\" => 2, \"many\" => 1, \"of\" => 4, \"often\" => 1, \"one\" => 1, \"ones\" => 1, \"repeating\" => 1, \"these\" => 3, \"they\" => 1, \"which\" => 1, \"words\" => 4 }"
      ]
     },
     "execution_count": 1,
     "metadata": {},
     "output_type": "execute_result"
    }
   ],
   "source": [
    "#include <sstream>\n",
    "#include <cstddef>\n",
    "using std::vector, std::string, std::map, std::size_t;\n",
    "\n",
    "map<string, size_t> words_to_counts;\n",
    "string s, input = \"How many words of these words are here? Of each one of these words, they are. And which ones of these words are repeating how often?\";\n",
    "auto stream = std::istringstream(input);\n",
    "while (stream >> s)\n",
    "{\n",
    "    s.erase(std::remove_if(s.begin(), s.end(), ispunct), s.end());\n",
    "    std::transform(s.cbegin(), s.cend(), s.begin(), tolower);\n",
    "    ++words_to_counts[s];\n",
    "}\n",
    "words_to_counts"
   ]
  },
  {
   "cell_type": "markdown",
   "id": "778958bc-31be-49d4-bf80-f3be19937f0d",
   "metadata": {},
   "source": [
    "## EXERCISES SECTION 11.2.1"
   ]
  },
  {
   "cell_type": "markdown",
   "id": "54abae36-53ef-4415-88c3-287ebbe88576",
   "metadata": {},
   "source": [
    "### Exercise 11.5:\n",
    " Explain the difference between a `map` and a `set`. When might you use\n",
    "one or the other?"
   ]
  },
  {
   "cell_type": "markdown",
   "id": "e75f181c-42de-435c-845a-fd47ac26d447",
   "metadata": {},
   "source": [
    "A:\n",
    "\n",
    "`map` holds value-key pairs, while `set` holds only keys. When to use is answered in 11.2"
   ]
  },
  {
   "cell_type": "markdown",
   "id": "834c523c-12c2-44bf-a608-bf3edff8b52e",
   "metadata": {},
   "source": [
    "### Exercise 11.6:\n",
    " Explain the difference between a `set` and a `list`. When might you use\n",
    "one or the other?"
   ]
  },
  {
   "cell_type": "markdown",
   "id": "4be51bad-1079-447b-ac68-8d58b45b4954",
   "metadata": {},
   "source": [
    "A:\n",
    "\n",
    "`set` holds keys that can be randomly accessed to see whether they exist in a `set` or not. To find if an element exists in a `list` we need to go through the `list` element by element until we find it. When to use answered in 11.2"
   ]
  },
  {
   "cell_type": "markdown",
   "id": "8a6a0b9e-3ede-4067-9d44-4f2d2c6b595d",
   "metadata": {},
   "source": [
    "### Exercise 11.7:\n",
    " Define a `map` for which the key is the family's last name and the value\n",
    "is a `vector` of the children's names. Write code to add new families and to add new\n",
    "children to an existing family."
   ]
  },
  {
   "cell_type": "code",
   "execution_count": 2,
   "id": "ea8f5f9f-7361-4924-9888-062d264560c9",
   "metadata": {},
   "outputs": [
    {
     "data": {
      "text/plain": [
       "{ \"Smith\" => { \"Mary\", \"John\", \"Bob\" } }"
      ]
     },
     "execution_count": 2,
     "metadata": {},
     "output_type": "execute_result"
    }
   ],
   "source": [
    "using std::map, std::string, std::vector;\n",
    "\n",
    "map<string, vector<string>> family_to_children;\n",
    "\n",
    "// add new family\n",
    "family_to_children[\"Smith\"] = {\"Mary\", \"John\"};\n",
    "\n",
    "// add new child\n",
    "family_to_children[\"Smith\"].push_back(\"Bob\");\n",
    "\n",
    "family_to_children"
   ]
  },
  {
   "cell_type": "markdown",
   "id": "c7a4eadb-f4a9-4ce6-85c8-91e69ed4578d",
   "metadata": {},
   "source": [
    "### Exercise 11.8:\n",
    " Write a program that stores the excluded words in a `vector` instead of\n",
    "in a `set`. What are the advantages to using a `set`?"
   ]
  },
  {
   "cell_type": "code",
   "execution_count": 1,
   "id": "9916f51e-9787-41a6-9fff-e70b0d836037",
   "metadata": {},
   "outputs": [
    {
     "data": {
      "text/plain": [
       "{ \"each\" => 1, \"here\" => 1, \"many\" => 1, \"often\" => 1, \"one\" => 1, \"ones\" => 1, \"repeating\" => 1, \"these\" => 3, \"they\" => 1, \"which\" => 1, \"words\" => 4 }"
      ]
     },
     "execution_count": 1,
     "metadata": {},
     "output_type": "execute_result"
    }
   ],
   "source": [
    "#include <sstream>\n",
    "#include <cstddef>\n",
    "#include <set>\n",
    "using std::vector, std::string, std::map, std::size_t, std::set;\n",
    "\n",
    "map<string, size_t> words_to_counts;\n",
    "string s, input = \"How many words of these words are here? Of each one of these words, they are. And which ones of these words are repeating how often?\";\n",
    "vector<string> exclude = {\"how\", \"of\", \"are\", \"and\", \"or\", \"an\", \"a\"};\n",
    "auto stream = std::istringstream(input);\n",
    "while (stream >> s)\n",
    "{\n",
    "    s.erase(remove_if(s.begin(), s.end(), ispunct), s.end());\n",
    "    transform(s.cbegin(), s.cend(), s.begin(), tolower);\n",
    "    if (find(exclude.cbegin(), exclude.cend(), s) == exclude.end())\n",
    "        ++words_to_counts[s];\n",
    "}\n",
    "\n",
    "words_to_counts"
   ]
  },
  {
   "cell_type": "markdown",
   "id": "26fe795a-c952-4d10-ab45-6745b84ec8af",
   "metadata": {},
   "source": [
    "A:\n",
    "\n",
    "`set` doesn't need to look through it's keys to find whether it contains given key, it can access it directly"
   ]
  },
  {
   "cell_type": "markdown",
   "id": "76e7e6b2-aca7-4560-bef6-eb38506b2484",
   "metadata": {},
   "source": [
    "## EXERCISES SECTION 11.2.2"
   ]
  },
  {
   "cell_type": "markdown",
   "id": "3671a1ad-5e5f-4b0c-a0e7-87e0ff659910",
   "metadata": {},
   "source": [
    "### Exercise 11.9:\n",
    " Define a `map` that associates words with a `list` of line numbers on\n",
    "which the word might occur."
   ]
  },
  {
   "cell_type": "code",
   "execution_count": 1,
   "id": "3b9e4963-8418-4014-bb40-2530cb31688e",
   "metadata": {},
   "outputs": [],
   "source": [
    "using std::string, std::map, std::list;\n",
    "\n",
    "map<string, list<unsigned>> words_to_line_numbers;\n",
    "words_to_line_numbers[\"word\"] = {1, 2};"
   ]
  },
  {
   "cell_type": "code",
   "execution_count": 2,
   "id": "7f419011-1881-422b-87b1-977f4cb5ab8e",
   "metadata": {},
   "outputs": [
    {
     "data": {
      "text/plain": [
       "{ \"word\" => { 1, 2 } }"
      ]
     },
     "execution_count": 2,
     "metadata": {},
     "output_type": "execute_result"
    }
   ],
   "source": [
    "words_to_line_numbers"
   ]
  },
  {
   "cell_type": "markdown",
   "id": "83a08d84-67d9-4631-9a33-4330121f1cd0",
   "metadata": {},
   "source": [
    "### Exercise 11.10:\n",
    " Could we define a `map` from `vector<int>::iterator` to `int`?\n",
    "What about from `list<int>::iterator` to `int`? In each case, if not, why not?"
   ]
  },
  {
   "cell_type": "code",
   "execution_count": 1,
   "id": "92c53c66-e297-40e9-932f-bfe69983ff0b",
   "metadata": {},
   "outputs": [],
   "source": [
    "using std::vector, std::map;\n",
    "map<vector<int>::iterator, int> m;\n",
    "vector<int> v;\n",
    "m[v.begin()] = 1;"
   ]
  },
  {
   "cell_type": "code",
   "execution_count": 2,
   "id": "67e2ab89-2411-4347-93af-af66951783f6",
   "metadata": {},
   "outputs": [
    {
     "data": {
      "text/plain": [
       "{ @0x559746668d80 => 1 }"
      ]
     },
     "execution_count": 2,
     "metadata": {},
     "output_type": "execute_result"
    }
   ],
   "source": [
    "m"
   ]
  },
  {
   "cell_type": "code",
   "execution_count": null,
   "id": "bd043374-a1d3-4d0e-8824-7ba6c4d7363e",
   "metadata": {},
   "outputs": [],
   "source": [
    "/*\n",
    "throws\n",
    "error: invalid operands to binary expression ('const std::_List_iterator<int>' and 'const std::_List_iterator<int>')\n",
    "      { return __x < __y; }\n",
    "               ~~~ ^ ~~~\n",
    "*/\n",
    "using std::list, std::map;\n",
    "map<list<int>::iterator, int> m;\n",
    "list<int> l;\n",
    "m[l.begin()] = 1;"
   ]
  },
  {
   "cell_type": "markdown",
   "id": "7bcc0301-b53f-43e0-bda6-148ed0d50fd7",
   "metadata": {},
   "source": [
    "A:\n",
    "\n",
    "`map` from `vector<int>::iterator` to `int` is fine  \n",
    "`map` from `list<int>::iterator` to `int` is not, as this iterator doesn't have a `<` operator, so can't be sorted. `map` holds keys in orderd (unless `unordered_map` is used)"
   ]
  },
  {
   "cell_type": "markdown",
   "id": "c086f7a8-c01f-4ab8-ad23-690c1a6032e4",
   "metadata": {},
   "source": [
    "### Exercise 11.11:\n",
    " Redefine bookstore without using `decltype`."
   ]
  },
  {
   "cell_type": "code",
   "execution_count": 1,
   "id": "015b87f1-58d7-4330-88e8-1e605f2298a3",
   "metadata": {},
   "outputs": [],
   "source": [
    "#include \"ex_7_12.h\"\n",
    "#include <set>"
   ]
  },
  {
   "cell_type": "code",
   "execution_count": 2,
   "id": "1c608aea-c2e3-430c-ad81-bc64e0c8aee8",
   "metadata": {},
   "outputs": [],
   "source": [
    "bool compareIsbn(const Sales_data &lhs, const Sales_data &rhs)\n",
    "{\n",
    "    return lhs.isbn() < rhs.isbn();\n",
    "}"
   ]
  },
  {
   "cell_type": "code",
   "execution_count": 3,
   "id": "42b9d356-b9a5-4c1e-9496-9bc83bdb412e",
   "metadata": {},
   "outputs": [],
   "source": [
    "std::multiset<Sales_data, bool(*)(const Sales_data &lhs, const Sales_data &rhs)> bookstore(compareIsbn);"
   ]
  },
  {
   "cell_type": "markdown",
   "id": "fa181324-3e86-4780-9f4f-088ef1289183",
   "metadata": {},
   "source": [
    "## EXERCISES SECTION 11.2.3"
   ]
  },
  {
   "cell_type": "markdown",
   "id": "341995ae-f987-45de-8b66-6b8384872110",
   "metadata": {},
   "source": [
    "### Exercise 11.12:\n",
    " Write a program to read a sequence of `string`s and `int`s, storing each\n",
    "into a pair. Store the pairs in a `vector`."
   ]
  },
  {
   "cell_type": "code",
   "execution_count": 1,
   "id": "b6f517ab-aced-4ba9-9bc4-0f657dee5dd7",
   "metadata": {},
   "outputs": [
    {
     "data": {
      "text/plain": [
       "{ {\"test\" , 1}, {\"test\" , 2}, {\"testy\" , 3}, {\"testing\" , 7} }"
      ]
     },
     "execution_count": 1,
     "metadata": {},
     "output_type": "execute_result"
    }
   ],
   "source": [
    "using std::string, std::pair, std::vector;\n",
    "\n",
    "string input = \"test 1 test 2 testy 3 testing 7\";\n",
    "auto stream = std::istringstream(input);\n",
    "\n",
    "vector<pair<string, int>> v;\n",
    "string s;\n",
    "int i;\n",
    "while(stream >> s && stream >> i)\n",
    "{\n",
    "    v.push_back(pair<string, int>(s, i));\n",
    "}\n",
    "v"
   ]
  },
  {
   "cell_type": "markdown",
   "id": "042de2e0-f21b-49e7-8b4b-7d8bd28d4f37",
   "metadata": {},
   "source": [
    "### Exercise 11.13:\n",
    " There are at least three ways to create the pairs in the program for\n",
    "the previous exercise. Write three versions of that program, creating the pairs in each\n",
    "way. Explain which form you think is easiest to write and understand, and why."
   ]
  },
  {
   "cell_type": "code",
   "execution_count": 1,
   "id": "2c6e8cbf-cb9c-47ee-9d1c-21ffdf8851c1",
   "metadata": {},
   "outputs": [
    {
     "data": {
      "text/plain": [
       "{ {\"test\" , 1}, {\"test\" , 2}, {\"testy\" , 3}, {\"testing\" , 7} }"
      ]
     },
     "execution_count": 1,
     "metadata": {},
     "output_type": "execute_result"
    }
   ],
   "source": [
    "using std::string, std::pair, std::vector;\n",
    "\n",
    "string input = \"test 1 test 2 testy 3 testing 7\";\n",
    "auto stream = std::istringstream(input);\n",
    "\n",
    "vector<pair<string, int>> v;\n",
    "string s;\n",
    "int i;\n",
    "while(stream >> s && stream >> i)\n",
    "    v.push_back(pair<string, int>(s, i));\n",
    "\n",
    "v"
   ]
  },
  {
   "cell_type": "code",
   "execution_count": 1,
   "id": "e0e06d28-4459-4533-86ff-851605d7e4c8",
   "metadata": {},
   "outputs": [
    {
     "data": {
      "text/plain": [
       "{ {\"test\" , 1}, {\"test\" , 2}, {\"testy\" , 3}, {\"testing\" , 7} }"
      ]
     },
     "execution_count": 1,
     "metadata": {},
     "output_type": "execute_result"
    }
   ],
   "source": [
    "using std::string, std::pair, std::vector;\n",
    "\n",
    "string input = \"test 1 test 2 testy 3 testing 7\";\n",
    "auto stream = std::istringstream(input);\n",
    "\n",
    "vector<pair<string, int>> v;\n",
    "string s;\n",
    "int i;\n",
    "while(stream >> s && stream >> i)\n",
    "    v.push_back(make_pair(s, i));\n",
    "\n",
    "v"
   ]
  },
  {
   "cell_type": "code",
   "execution_count": 1,
   "id": "144db6bd-c613-45c3-8025-d1ec82374e61",
   "metadata": {},
   "outputs": [
    {
     "data": {
      "text/plain": [
       "{ {\"test\" , 1}, {\"test\" , 2}, {\"testy\" , 3}, {\"testing\" , 7} }"
      ]
     },
     "execution_count": 1,
     "metadata": {},
     "output_type": "execute_result"
    }
   ],
   "source": [
    "using std::string, std::pair, std::vector;\n",
    "\n",
    "string input = \"test 1 test 2 testy 3 testing 7\";\n",
    "auto stream = std::istringstream(input);\n",
    "\n",
    "vector<pair<string, int>> v;\n",
    "string s;\n",
    "int i;\n",
    "while(stream >> s && stream >> i)\n",
    "    v.push_back({s, i});\n",
    "\n",
    "v"
   ]
  },
  {
   "cell_type": "code",
   "execution_count": 1,
   "id": "55274394-6603-4680-9375-191a2e43fd0c",
   "metadata": {},
   "outputs": [
    {
     "data": {
      "text/plain": [
       "{ {\"test\" , 1}, {\"test\" , 2}, {\"testy\" , 3}, {\"testing\" , 7} }"
      ]
     },
     "execution_count": 1,
     "metadata": {},
     "output_type": "execute_result"
    }
   ],
   "source": [
    "using std::string, std::pair, std::vector;\n",
    "\n",
    "string input = \"test 1 test 2 testy 3 testing 7\";\n",
    "auto stream = std::istringstream(input);\n",
    "\n",
    "vector<pair<string, int>> v;\n",
    "string s;\n",
    "int i;\n",
    "while(stream >> s && stream >> i)\n",
    "    v.emplace_back(s, i);\n",
    "\n",
    "v"
   ]
  },
  {
   "cell_type": "markdown",
   "id": "1279cefd-044b-4c75-9b2e-05b6ea358544",
   "metadata": {},
   "source": [
    "### Exercise 11.14:\n",
    " Extend the `map` of children to their family name that you wrote for the\n",
    "exercises in § 11.2.1 (p. 424) by having the `vector` store a pair that holds a child’s\n",
    "name and birthday."
   ]
  },
  {
   "cell_type": "code",
   "execution_count": 1,
   "id": "af313e81-81c0-48bf-a227-15e441553413",
   "metadata": {},
   "outputs": [
    {
     "data": {
      "text/plain": [
       "{ \"Smith\" => { {\"Mary\" , \"1990\"}, {\"John\" , \"1992\"}, {\"Bob\" , \"2000\"} } }"
      ]
     },
     "execution_count": 1,
     "metadata": {},
     "output_type": "execute_result"
    }
   ],
   "source": [
    "using std::map, std::string, std::vector, std::pair;\n",
    "\n",
    "map<string, vector<pair<string, string>>> family_to_children;\n",
    "\n",
    "// add new family\n",
    "family_to_children[\"Smith\"] = { {\"Mary\", \"1990\"}, {\"John\", \"1992\"}};\n",
    "\n",
    "// add new child\n",
    "family_to_children[\"Smith\"].push_back({\"Bob\", \"2000\"});\n",
    "\n",
    "family_to_children"
   ]
  },
  {
   "cell_type": "markdown",
   "id": "89e6c2d8-5060-430d-88c9-70732f5d51d3",
   "metadata": {},
   "source": [
    "## EXERCISES SECTION 11.3.1"
   ]
  },
  {
   "cell_type": "markdown",
   "id": "0df249b0-dcd6-4e6b-bbad-cc08baef8437",
   "metadata": {},
   "source": [
    "### Exercise 11.15:\n",
    " What are the `mapped_type`, `key_type`, and `value_type` of a `map`\n",
    "from `int` to `vector<int>`?"
   ]
  },
  {
   "cell_type": "markdown",
   "id": "4c379531-4199-4748-8ebb-2d56498e6c24",
   "metadata": {},
   "source": [
    "A:\n",
    "\n",
    "`mapped_type` - `vector<int>`  \n",
    "`key_type` - `int`  \n",
    "`value_type` - `pair<const int, vector<int>>`"
   ]
  },
  {
   "cell_type": "markdown",
   "id": "1f7d268c-1c65-4171-b4cd-b0badd53b66a",
   "metadata": {},
   "source": [
    "### Exercise 11.16:\n",
    " Using a `map` iterator write an expression that assigns a value to an\n",
    "element."
   ]
  },
  {
   "cell_type": "code",
   "execution_count": 1,
   "id": "5729f9c2-6ca0-4d43-8ed0-5fb3afb1cdbc",
   "metadata": {},
   "outputs": [
    {
     "data": {
      "text/plain": [
       "{ \"test\" => 2 }"
      ]
     },
     "execution_count": 1,
     "metadata": {},
     "output_type": "execute_result"
    }
   ],
   "source": [
    "using std::map, std::string, std::vector;\n",
    "\n",
    "map<string, int> m;\n",
    "m[\"test\"] = 1;\n",
    "\n",
    "m.begin()->second = 2;\n",
    "m"
   ]
  },
  {
   "cell_type": "markdown",
   "id": "8b613687-f598-4c9d-b29c-a336f9693344",
   "metadata": {},
   "source": [
    "### Exercise 11.17:\n",
    " Assuming `c` is a multiset of `string`s and `v` is a `vector` of\n",
    "`string`s, explain the following calls. Indicate whether each call is legal:\n",
    "```\n",
    "copy(v.begin(), v.end(), inserter(c, c.end()));\n",
    "copy(v.begin(), v.end(), back_inserter(c));\n",
    "copy(c.begin(), c.end(), inserter(v, v.end()));\n",
    "copy(c.begin(), c.end(), back_inserter(v));\n",
    "```"
   ]
  },
  {
   "cell_type": "markdown",
   "id": "57b1e960-6bdc-4d67-8421-ba177f729708",
   "metadata": {},
   "source": [
    "A:\n",
    "\n",
    "the only illegal call is \n",
    "```\n",
    "copy(v.begin(), v.end(), back_inserter(c));\n",
    "```\n",
    "as it tries to call `push_back` (via `back_inserter`) on `multiset`"
   ]
  },
  {
   "cell_type": "markdown",
   "id": "f05a75bb-f20a-4855-a8b8-b31f01075cd1",
   "metadata": {},
   "source": [
    "### Exercise 11.18:\n",
    " Write the type of `map_it` from the loop on page 430 without using `auto` or `decltype`."
   ]
  },
  {
   "cell_type": "code",
   "execution_count": 1,
   "id": "5114fb38-2c12-4ddb-b809-90006d3eea90",
   "metadata": {},
   "outputs": [],
   "source": [
    "#include <cstddef>\n",
    "using std::vector, std::string, std::map, std::size_t;\n",
    "\n",
    "map<string, size_t> m;\n",
    "map<string, size_t>::iterator map_it = m.begin();"
   ]
  },
  {
   "cell_type": "markdown",
   "id": "74200031-b83f-495f-a34a-0ed7d7cc2c68",
   "metadata": {},
   "source": [
    "### Exercise 11.19:\n",
    " Define a variable that you initialize by calling `begin()` on the\n",
    "`multiset` named bookstore from § 11.2.2 (p. 425). Write the variable's type without\n",
    "using `auto` or `decltype`."
   ]
  },
  {
   "cell_type": "code",
   "execution_count": 1,
   "id": "e70c4a26-05ce-4493-8183-c8a86bc28bb1",
   "metadata": {},
   "outputs": [],
   "source": [
    "#include \"ex_7_12.h\"\n",
    "#include <set>"
   ]
  },
  {
   "cell_type": "code",
   "execution_count": 2,
   "id": "02b4fe96-72a3-42c5-ae12-7100611e9955",
   "metadata": {},
   "outputs": [],
   "source": [
    "bool compareIsbn(const Sales_data &lhs, const Sales_data &rhs)\n",
    "{\n",
    "    return lhs.isbn() < rhs.isbn();\n",
    "}"
   ]
  },
  {
   "cell_type": "code",
   "execution_count": 3,
   "id": "10f90338-8128-4a89-a1be-9fd03cda0796",
   "metadata": {},
   "outputs": [],
   "source": [
    "using compareIsbnType = bool(*)(const Sales_data &lhs, const Sales_data &rhs);"
   ]
  },
  {
   "cell_type": "code",
   "execution_count": 4,
   "id": "d184ea8a-ca57-45fd-9d38-1edae971831a",
   "metadata": {},
   "outputs": [],
   "source": [
    "std::multiset<Sales_data, compareIsbnType> bookstore(compareIsbn);"
   ]
  },
  {
   "cell_type": "code",
   "execution_count": 5,
   "id": "872ce8ec-1740-46be-ae71-37ec052778b7",
   "metadata": {},
   "outputs": [],
   "source": [
    "std::multiset<Sales_data, compareIsbnType>::iterator set_it = bookstore.begin();"
   ]
  },
  {
   "cell_type": "markdown",
   "id": "c205157c-84f2-4550-9976-cb1899bdba88",
   "metadata": {},
   "source": [
    "## EXERCISES SECTION 11.3.2"
   ]
  },
  {
   "cell_type": "markdown",
   "id": "4e86cf56-0d01-4d8f-88e5-2c3fb2d622a7",
   "metadata": {},
   "source": [
    "### Exercise 11.20:\n",
    " Rewrite the word-counting program from § 11.1 (p. 421) to use\n",
    "`insert` instead of subscripting. Which program do you think is easier to write and\n",
    "read? Explain your reasoning."
   ]
  },
  {
   "cell_type": "code",
   "execution_count": 1,
   "id": "aafca846-f233-4f29-8363-00f8320b477f",
   "metadata": {},
   "outputs": [
    {
     "data": {
      "text/plain": [
       "{ \"did\" => 1, \"happen\" => 1, \"oh\" => 3, \"this\" => 1, \"why\" => 3 }"
      ]
     },
     "execution_count": 1,
     "metadata": {},
     "output_type": "execute_result"
    }
   ],
   "source": [
    "#include <sstream>\n",
    "#include <cstddef>\n",
    "using std::vector, std::string, std::map, std::size_t;\n",
    "\n",
    "map<string, size_t> words_to_counts;\n",
    "string s, input = \"oh why did this happen oh why oh why\";\n",
    "auto stream = std::istringstream(input);\n",
    "while (stream >> s)\n",
    "{\n",
    "    auto ret = words_to_counts.insert({s, words_to_counts[s] + 1});\n",
    "    if (!ret.second)\n",
    "        ++(ret.first->second);\n",
    "}\n",
    "words_to_counts"
   ]
  },
  {
   "cell_type": "markdown",
   "id": "e31f6a4b-e808-47d4-9055-92e522d2f19c",
   "metadata": {},
   "source": [
    "A:\n",
    "\n",
    "subscript version is shorter, easier to write and read. In the subscript version we don't need to check the return."
   ]
  },
  {
   "cell_type": "markdown",
   "id": "6062405d-828e-4b8f-90bf-300a1355a8b9",
   "metadata": {},
   "source": [
    "### Exercise 11.21:\n",
    " Assuming `word_count` is a `map` from `string` to `size_t` and word\n",
    "is a `string`, explain the following loop:\n",
    "```\n",
    "while (cin >> word)\n",
    "    ++word_count.insert({word, 0}).first->second;\n",
    "```"
   ]
  },
  {
   "cell_type": "markdown",
   "id": "65702830-50d6-4599-96f4-d91bd3499586",
   "metadata": {},
   "source": [
    "A:\n",
    "\n",
    "It will insert the key `word` into `word_count` with value `0`. The return from this is a pair, which first element is the map iterator pointing to the inserted key-value pair. From this inserted pair we take `second` (the value) and increase it by one. If the `word` key already was in the `word_count` map, increase the previous value by one.\n",
    "\n",
    "It's the equivalent of `++word_count[word]`"
   ]
  },
  {
   "cell_type": "markdown",
   "id": "1c9e74bf-7e67-45eb-90dd-0ce2e8e2e163",
   "metadata": {},
   "source": [
    "### Exercise 11.22:\n",
    " Given a `map<string, vector<int>>`, write the types used as an\n",
    "argument and as the return value for the version of `insert` that inserts one element."
   ]
  },
  {
   "cell_type": "markdown",
   "id": "afa6857e-7489-42e3-8559-811425840a77",
   "metadata": {},
   "source": [
    "A:\n",
    "\n",
    "argument - `pair<string, vector<int>>`  \n",
    "return value - `pair<map<string, vector<int>::iterator, bool>`"
   ]
  },
  {
   "cell_type": "markdown",
   "id": "eaab332a-0893-4782-93a3-2d9f39a17af6",
   "metadata": {},
   "source": [
    "### Exercise 11.23:\n",
    " Rewrite the `map` that stored `vector`s of children's names with a key\n",
    "that is the family last name for the exercises in § 11.2.1 (p. 424) to use a `multimap`."
   ]
  },
  {
   "cell_type": "code",
   "execution_count": 1,
   "id": "c6b5f773-5d82-46f5-97dc-e140112e98c8",
   "metadata": {},
   "outputs": [
    {
     "data": {
      "text/plain": [
       "{ \"Smith\" => { {\"Mary\" , \"1990\"}, {\"John\" , \"1992\"}, {\"Bob\" , \"2000\"} }, \"Smith\" => { {\"Maryanne\" , \"1991\"}, {\"Johnny\" , \"1991\"} } }"
      ]
     },
     "execution_count": 1,
     "metadata": {},
     "output_type": "execute_result"
    }
   ],
   "source": [
    "using std::multimap, std::string, std::vector, std::pair;\n",
    "\n",
    "multimap<string, vector<pair<string, string>>> family_to_children;\n",
    "\n",
    "// add new family\n",
    "family_to_children.insert({\"Smith\", {{\"Mary\", \"1990\"}, {\"John\", \"1992\"}}});\n",
    "family_to_children.insert({\"Smith\", {{\"Maryanne\", \"1991\"}, {\"Johnny\", \"1991\"}}});\n",
    "\n",
    "// add new child\n",
    "auto it = family_to_children.find(\"Smith\");\n",
    "it->second.push_back({\"Bob\", \"2000\"});\n",
    "\n",
    "family_to_children"
   ]
  },
  {
   "cell_type": "markdown",
   "id": "95ce68a4-4f0d-4a1f-8783-7e36ff77de34",
   "metadata": {},
   "source": [
    "## EXERCISES SECTION 11.3.4"
   ]
  },
  {
   "cell_type": "markdown",
   "id": "0b5edb85-5a4d-46b3-ae3c-3b38ebeb9e6e",
   "metadata": {},
   "source": [
    "### Exercise 11.24:\n",
    " What does the following program do?\n",
    "```\n",
    "map<int, int> m;\n",
    "m[0] = 1;\n",
    "```"
   ]
  },
  {
   "cell_type": "markdown",
   "id": "b604d579-94ea-44e1-b231-c7a470dbe5b4",
   "metadata": {},
   "source": [
    "A:\n",
    "\n",
    "inserts value `1` under key `0`"
   ]
  },
  {
   "cell_type": "markdown",
   "id": "351ec3b5-a640-453e-8f94-a3690498d0fa",
   "metadata": {},
   "source": [
    "### Exercise 11.25:\n",
    " Contrast the following program with the one in the previous exercise\n",
    "```\n",
    "vector<int> v;\n",
    "v[0] = 1;\n",
    "```"
   ]
  },
  {
   "cell_type": "markdown",
   "id": "09318291-8ece-430f-895c-ed7a3bb6e665",
   "metadata": {},
   "source": [
    "A:\n",
    "\n",
    "fails, as vector `v` has no elements. Subscripting vector does not create a new element."
   ]
  },
  {
   "cell_type": "markdown",
   "id": "82b9ff96-5fa6-4480-9aba-df513e70cb32",
   "metadata": {},
   "source": [
    "### Exercise 11.26:\n",
    "What type can be used to subscript a `map`? What type does the \n",
    "subscript operator return? Give a concrete example — that is, define a `map` and then write\n",
    "the types that can be used to subscript the `map` and the type that would be returned\n",
    "from the subscript operator."
   ]
  },
  {
   "cell_type": "markdown",
   "id": "1679960c-9116-4433-b5ea-43aade8f1552",
   "metadata": {},
   "source": [
    "A:\n",
    "\n",
    "`map<int, int>` can be subscripted with `int` or `map<int, int>::key_type` and returns type `map<int, int>::mapped_type`  \n",
    "`map<string, vector<int>>` can be subscripted with `string` or `map<string, vector<int>>::key_type` and returns type `map<string, vector<int>>::mapped_type`"
   ]
  },
  {
   "cell_type": "code",
   "execution_count": 1,
   "id": "23295e0a-3fc2-4484-9bcf-4383df1c5b9d",
   "metadata": {},
   "outputs": [
    {
     "data": {
      "text/plain": [
       "2"
      ]
     },
     "execution_count": 1,
     "metadata": {},
     "output_type": "execute_result"
    }
   ],
   "source": [
    "std::map<int, int> m = {{1, 2}};\n",
    "m[std::map<int, int>::key_type(1)]"
   ]
  },
  {
   "cell_type": "code",
   "execution_count": 1,
   "id": "e8f139f9-e6e9-4f3a-88a9-ad75e0cfdca3",
   "metadata": {},
   "outputs": [
    {
     "data": {
      "text/plain": [
       "{ 2, 3 }"
      ]
     },
     "execution_count": 1,
     "metadata": {},
     "output_type": "execute_result"
    }
   ],
   "source": [
    "std::map<std::string, std::vector<int>> m = {{\"1\", {2, 3}}};\n",
    "m[std::map<std::string, std::vector<int>>::key_type(\"1\")]"
   ]
  },
  {
   "cell_type": "markdown",
   "id": "32eb6306-7f2c-43cb-9a3a-4d30d57cc0ed",
   "metadata": {},
   "source": [
    "## EXERCISES SECTION 11.3.5"
   ]
  },
  {
   "cell_type": "markdown",
   "id": "37c7444c-f926-4a1a-b3b0-3fd13135f02e",
   "metadata": {},
   "source": [
    "### Exercise 11.27:\n",
    " What kinds of problems would you use `count` to solve? When might\n",
    "you use `find` instead?"
   ]
  },
  {
   "cell_type": "markdown",
   "id": "76781ae7-d16e-4bb7-b9dd-039de0c467c4",
   "metadata": {},
   "source": [
    "A:\n",
    "\n",
    "`count` - find how many times a key is in a `multimap`, or how far we can iterate over it\n",
    "`find` - find if a key is in a `map` or a `multimap`, or where can we start iteration"
   ]
  },
  {
   "cell_type": "markdown",
   "id": "5f854082-0654-49c7-9295-b7fd955f0d9f",
   "metadata": {},
   "source": [
    "### Exercise 11.28:\n",
    " Define and initialize a variable to hold the result of calling `find` on a\n",
    "`map` from `string` to `vector` of `int`."
   ]
  },
  {
   "cell_type": "code",
   "execution_count": 1,
   "id": "15aa9294-4f8b-4c46-8c39-e324a96d1fd5",
   "metadata": {},
   "outputs": [
    {
     "data": {
      "text/plain": [
       "{ 2, 3 }"
      ]
     },
     "execution_count": 1,
     "metadata": {},
     "output_type": "execute_result"
    }
   ],
   "source": [
    "using std::map, std::string, std::vector, std::pair;\n",
    "\n",
    "map<string, vector<int>> m = {{\"test1\", {1, 2}}, {\"test2\", {2, 3}}};\n",
    "map<string, vector<int>>::iterator found;\n",
    "\n",
    "found = m.find(\"test2\");\n",
    "found->second"
   ]
  },
  {
   "cell_type": "markdown",
   "id": "0e4c48ed-01da-4c06-a351-46ecd6c4d349",
   "metadata": {},
   "source": [
    "### Exercise 11.29:\n",
    " What do `upper_bound`, `lower_bound`, and `equal_range` return\n",
    "when you pass them a key that is not in the container?"
   ]
  },
  {
   "cell_type": "markdown",
   "id": "3959f5d9-e5c0-4426-bcbe-c9cd4f586eb8",
   "metadata": {},
   "source": [
    "A:\n",
    "\n",
    "`upper_bound` - off-the-end iterator  \n",
    "`lower_bound` - off-the-end iterator  \n",
    "`equal_range` - pair of off-the-end iterators"
   ]
  },
  {
   "cell_type": "markdown",
   "id": "6d1466d3-9fb4-4452-a3c6-e275d9f6390e",
   "metadata": {},
   "source": [
    "### Exercise 11.30:\n",
    " Explain the meaning of the operand `pos.first->second` used in\n",
    "the output expression of the final program in this section.\n",
    "```\n",
    "for (auto pos = authors.equal_range(search_item); pos.first != pos.second; ++pos.first)\n",
    "    cout << pos.first->second << endl; //\n",
    "```"
   ]
  },
  {
   "cell_type": "markdown",
   "id": "09d71d6c-f17e-4e5d-8955-ac33d1e673a2",
   "metadata": {},
   "source": [
    "A:\n",
    "\n",
    "`pos.first` returns the iterator we're incrementing during the loop  \n",
    "`->second` returns the mapped value of the key-value pair this iterator is pointing to"
   ]
  },
  {
   "cell_type": "markdown",
   "id": "39f6a955-3e3f-4972-afbb-2a0c5964c850",
   "metadata": {},
   "source": [
    "### Exercise 11.31:\n",
    " Write a program that defines a `multimap` of authors and their works.\n",
    "Use `find` to find an element in the `multimap` and `erase` that element. Be sure your\n",
    "program works correctly if the element you look for is not in the `map`."
   ]
  },
  {
   "cell_type": "code",
   "execution_count": 2,
   "id": "595580ad-bd55-4d4f-b80c-583278e9bddc",
   "metadata": {},
   "outputs": [
    {
     "name": "stdin",
     "output_type": "stream",
     "text": [
      " lala\n"
     ]
    },
    {
     "data": {
      "text/plain": [
       "{ \"Barth, John\" => \"Sot-Weed Factor\", \"Barth, John\" => \"Lost in the Funhouse\", \"MacAskill\" => \"What we owe the future\" }"
      ]
     },
     "execution_count": 2,
     "metadata": {},
     "output_type": "execute_result"
    }
   ],
   "source": [
    "#include <iostream>\n",
    "using std::multimap, std::string, std::vector, std::pair, std::cin;\n",
    "\n",
    "multimap<string, string> authors_to_works = {{\"Barth, John\", \"Sot-Weed Factor\"}, {\"Barth, John\", \"Lost in the Funhouse\"}, {\"MacAskill\", \"What we owe the future\"}};\n",
    "\n",
    "string to_remove;\n",
    "cin >> to_remove;\n",
    "auto it = authors_to_works.find(to_remove);\n",
    "if (it != authors_to_works.end())\n",
    "    authors_to_works.erase(it);\n",
    "\n",
    "authors_to_works"
   ]
  },
  {
   "cell_type": "markdown",
   "id": "83ba896c-c1c2-49c0-88ed-d05ba2255061",
   "metadata": {},
   "source": [
    "### Exercise 11.32:\n",
    " Using the `multimap` from the previous exercise, write a program to print the list of authors and their works alphabetically."
   ]
  },
  {
   "cell_type": "code",
   "execution_count": 1,
   "id": "10e5a7bc-6a9b-425f-af86-c7a4677aa1c1",
   "metadata": {},
   "outputs": [
    {
     "name": "stdout",
     "output_type": "stream",
     "text": [
      "Author: Barth, John. Title: Lost in the Funhouse\n",
      "Author: Barth, John. Title: Sot-Weed Factor\n",
      "Author: MacAskill. Title: What we owe the future\n"
     ]
    }
   ],
   "source": [
    "#include <iostream>\n",
    "#include <set>\n",
    "using std::multimap, std::string, std::vector, std::pair, std::cin, std::cout, std::endl, std::map, std::set;\n",
    "\n",
    "multimap<string, string> authors_to_works = {{\"MacAskill\", \"What we owe the future\"}, {\"Barth, John\", \"Sot-Weed Factor\"}, {\"Barth, John\", \"Lost in the Funhouse\"}};\n",
    "map<string, set<string>> authors_to_sorted_works;\n",
    "\n",
    "for (auto const &pair : authors_to_works)\n",
    "    authors_to_sorted_works[pair.first].insert(pair.second);\n",
    "    \n",
    "for (auto const &pair : authors_to_sorted_works)\n",
    "    for (auto const &title : pair.second)\n",
    "        cout << \"Author: \" << pair.first << \". Title: \"<< title << endl;"
   ]
  },
  {
   "cell_type": "markdown",
   "id": "1cb17765-3c07-489e-a510-8425d6414101",
   "metadata": {},
   "source": [
    "## EXERCISES SECTION 11.3.6"
   ]
  },
  {
   "cell_type": "markdown",
   "id": "ffb5c192-6b11-4a6e-b88d-21d52c0d9e57",
   "metadata": {},
   "source": [
    "### Exercise 11.33:\n",
    " Implement your own version of the word-transformation program."
   ]
  },
  {
   "cell_type": "code",
   "execution_count": 1,
   "id": "eb3e747c-2558-4e6d-aab6-c0070a788245",
   "metadata": {},
   "outputs": [],
   "source": [
    "#include <fstream>\n",
    "#include <sstream>\n",
    "#include <iostream>\n",
    "using std::ifstream, std::string, std::map, std::istringstream, std::cout, std::endl;"
   ]
  },
  {
   "cell_type": "code",
   "execution_count": 2,
   "id": "2e0dae33-3705-458d-8e90-a19a43b3b5fa",
   "metadata": {},
   "outputs": [],
   "source": [
    "using string_map = map<string, string>;"
   ]
  },
  {
   "cell_type": "code",
   "execution_count": 3,
   "id": "574e7518-bef4-4ace-a013-fb1096c16718",
   "metadata": {},
   "outputs": [],
   "source": [
    "const string& transform(const string &s, const map<string, string> &m)\n",
    "{\n",
    "    auto map_it = m.find(s);\n",
    "    if (map_it != m.cend())\n",
    "        return map_it->second;\n",
    "    else\n",
    "        return s;\n",
    "}"
   ]
  },
  {
   "cell_type": "code",
   "execution_count": 4,
   "id": "e3030775-a64d-4b14-b8d4-b30618094de3",
   "metadata": {},
   "outputs": [],
   "source": [
    "string_map buildMap(ifstream &map_file) {\n",
    "    string_map trans_map;\n",
    "    string key, value;\n",
    "    while (map_file >> key && getline(map_file, value))\n",
    "        if (value.size() > 1)\n",
    "            trans_map[key] = value.substr(1);\n",
    "        else\n",
    "            throw std::runtime_error(\"no rule for \" + key);\n",
    "    return trans_map;\n",
    "}"
   ]
  },
  {
   "cell_type": "code",
   "execution_count": 5,
   "id": "af035bc6-065b-4e1b-a096-32378c383b5b",
   "metadata": {},
   "outputs": [],
   "source": [
    "void word_transform(ifstream &map_file, ifstream &input)\n",
    "{\n",
    "    auto trans_map = buildMap(map_file);\n",
    "    string text;\n",
    "    while (getline(input, text)) {\n",
    "        istringstream stream(text);\n",
    "        string word;\n",
    "        bool firstword = true;\n",
    "        while (stream >> word) {\n",
    "            if (firstword)\n",
    "                firstword = false;\n",
    "            else\n",
    "                cout << \" \";\n",
    "            cout << transform(word, trans_map);\n",
    "        }\n",
    "        cout << endl;\n",
    "    }\n",
    "}"
   ]
  },
  {
   "cell_type": "code",
   "execution_count": 6,
   "id": "ac07599a-2ce2-4070-bf36-25d0a7638f61",
   "metadata": {},
   "outputs": [],
   "source": [
    "! echo \"y why\\nr are\\n u you\" > map.txt"
   ]
  },
  {
   "cell_type": "code",
   "execution_count": 7,
   "id": "2a32a8f7-65eb-476d-ac69-4e67a47b37f7",
   "metadata": {},
   "outputs": [],
   "source": [
    "! echo \"y r u running!?\" > test.txt"
   ]
  },
  {
   "cell_type": "code",
   "execution_count": 8,
   "id": "0507bf77-0fc1-410b-8375-6f5f22320345",
   "metadata": {},
   "outputs": [
    {
     "name": "stdout",
     "output_type": "stream",
     "text": [
      "why are you running!?\n"
     ]
    }
   ],
   "source": [
    "auto map = ifstream(\"map.txt\");\n",
    "auto test = ifstream(\"test.txt\");\n",
    "word_transform(map, test);"
   ]
  },
  {
   "cell_type": "code",
   "execution_count": 9,
   "id": "de57b9f7-8af9-4251-ac81-d67949b05766",
   "metadata": {},
   "outputs": [],
   "source": [
    "! rm map.txt test.txt"
   ]
  },
  {
   "cell_type": "markdown",
   "id": "85b9f6c7-58e0-4629-8746-97b3379978e0",
   "metadata": {},
   "source": [
    "### Exercise 11.34:\n",
    " What would happen if we used the subscript operator instead of `find`\n",
    "in the `transform` function?"
   ]
  },
  {
   "cell_type": "markdown",
   "id": "f1dad917-9693-4912-b9e9-0030820fa6e0",
   "metadata": {},
   "source": [
    "A:\n",
    "\n",
    "Can't use subscript on `const map`. If we used non-const `map` instead as `transform`'s parameter, we would risk adding new keys with empty values to our transformation map"
   ]
  },
  {
   "cell_type": "markdown",
   "id": "4a9efd79-836d-4eb6-9d91-3c2731e77b5d",
   "metadata": {},
   "source": [
    "### Exercise 11.35:\n",
    " In `buildMap`, what effect, if any, would there be from rewriting\n",
    "```\n",
    "trans_map[key] = value.substr(1);\n",
    "```\n",
    "as \n",
    "```\n",
    "trans_map.insert({key, value.substr(1)})?\n",
    "```"
   ]
  },
  {
   "cell_type": "markdown",
   "id": "a15a80a1-5ca6-4895-880b-29262f8393fd",
   "metadata": {},
   "source": [
    "A:\n",
    "\n",
    "`insert` won't insert anything if the key already exists, so we the resulting map would use first definition of the key-value pair instead of last"
   ]
  },
  {
   "cell_type": "markdown",
   "id": "87d3dca9-4097-4783-8d0e-a00ca11ca119",
   "metadata": {},
   "source": [
    "### Exercise 11.36:\n",
    " Our program does no checking on the validity of either input file. In\n",
    "particular, it assumes that the rules in the transformation file are all sensible. What\n",
    "would happen if a line in that file has a key, one space, and then the end of the line?\n",
    "Predict the behavior and then check it against your version of the program."
   ]
  },
  {
   "cell_type": "markdown",
   "id": "b84ff900-6c97-4515-844c-28c2d343c6ed",
   "metadata": {},
   "source": [
    "A:\n",
    "\n",
    "It should raise `runtime_error` with message `no rule for [key]` as `value.size()` is gonna be `0`"
   ]
  },
  {
   "cell_type": "code",
   "execution_count": 1,
   "id": "dc96d03d-f17f-42e5-8179-c719f72507a0",
   "metadata": {},
   "outputs": [],
   "source": [
    "#include <fstream>\n",
    "#include <sstream>\n",
    "#include <iostream>\n",
    "using std::ifstream, std::string, std::map, std::istringstream, std::cout, std::endl;"
   ]
  },
  {
   "cell_type": "code",
   "execution_count": 2,
   "id": "5c7099bd-bde6-41fa-b91d-294bab2a8c7c",
   "metadata": {},
   "outputs": [],
   "source": [
    "using string_map = map<string, string>;"
   ]
  },
  {
   "cell_type": "code",
   "execution_count": 3,
   "id": "b8b151e9-3e8a-4c0f-9bea-cd3998b95682",
   "metadata": {},
   "outputs": [],
   "source": [
    "const string& transform(const string &s, const string_map &m)\n",
    "{\n",
    "    auto map_it = m.find(s);\n",
    "    if (map_it != m.cend())\n",
    "        return map_it->second;\n",
    "    else\n",
    "        return s;\n",
    "}"
   ]
  },
  {
   "cell_type": "code",
   "execution_count": 4,
   "id": "f9957456-d855-45b1-9985-fb08de92f026",
   "metadata": {},
   "outputs": [],
   "source": [
    "string_map buildMap(ifstream &map_file) {\n",
    "    string_map trans_map;\n",
    "    string key, value;\n",
    "    while (map_file >> key && getline(map_file, value))\n",
    "        if (value.size() > 1)\n",
    "            trans_map[key] = value.substr(1);\n",
    "        else\n",
    "            throw std::runtime_error(\"no rule for \" + key);\n",
    "    return trans_map;\n",
    "}"
   ]
  },
  {
   "cell_type": "code",
   "execution_count": 5,
   "id": "6da20d47-bee6-42fc-be9d-0b9ed3d66c1e",
   "metadata": {},
   "outputs": [],
   "source": [
    "void word_transform(ifstream &map_file, ifstream &input)\n",
    "{\n",
    "    auto trans_map = buildMap(map_file);\n",
    "    string text;\n",
    "    while (getline(input, text)) {\n",
    "        istringstream stream(text);\n",
    "        string word;\n",
    "        bool firstword = true;\n",
    "        while (stream >> word) {\n",
    "            if (firstword)\n",
    "                firstword = false;\n",
    "            else\n",
    "                cout << \" \";\n",
    "            cout << transform(word, trans_map);\n",
    "        }\n",
    "        cout << endl;\n",
    "    }\n",
    "}"
   ]
  },
  {
   "cell_type": "code",
   "execution_count": 6,
   "id": "2ed9d767-3bc1-43b4-a1b0-173f5ff137fd",
   "metadata": {},
   "outputs": [],
   "source": [
    "! echo \"y why\\nr \\n u you\" > map.txt"
   ]
  },
  {
   "cell_type": "code",
   "execution_count": 7,
   "id": "0ae5f4b3-eef6-4b47-bae0-7bbded9b1425",
   "metadata": {},
   "outputs": [],
   "source": [
    "! echo \"y r u running!?\" > test.txt"
   ]
  },
  {
   "cell_type": "code",
   "execution_count": 8,
   "id": "15ddef75-0228-4abf-8162-b66aad7ea9cf",
   "metadata": {},
   "outputs": [
    {
     "ename": "Standard Exception",
     "evalue": "no rule for r",
     "output_type": "error",
     "traceback": [
      "Standard Exception: no rule for r"
     ]
    }
   ],
   "source": [
    "auto map = ifstream(\"map.txt\");\n",
    "auto test = ifstream(\"test.txt\");\n",
    "word_transform(map, test);"
   ]
  },
  {
   "cell_type": "code",
   "execution_count": 9,
   "id": "232ca73f-f6a7-472e-870d-c686471cf604",
   "metadata": {},
   "outputs": [],
   "source": [
    "! rm map.txt test.txt"
   ]
  },
  {
   "cell_type": "markdown",
   "id": "2efbbee0-29b2-4542-b001-86c2e5eacf7e",
   "metadata": {},
   "source": [
    "## EXERCISES SECTION 11.4"
   ]
  },
  {
   "cell_type": "markdown",
   "id": "371db6f0-a3d5-49c6-be6d-17cc0b62d3e9",
   "metadata": {},
   "source": [
    "### Exercise 11.37:\n",
    " What are the advantages of an unordered container as compared to the\n",
    "ordered version of that container? What are the advantages of the ordered version?"
   ]
  },
  {
   "cell_type": "markdown",
   "id": "4f387213-c211-4efc-8791-79ca590f37ea",
   "metadata": {},
   "source": [
    "A:\n",
    "\n",
    "unordered container might allow for faster adding of new elements, but performance testing is needed to check if that's true for a given case\n",
    "    \n",
    "it also makes sense to use unordered container when there's no way to order the keys"
   ]
  },
  {
   "cell_type": "markdown",
   "id": "f99813cc-7852-44b5-9ee6-8b79d28449ac",
   "metadata": {},
   "source": [
    "### Exercise 11.38:\n",
    " Rewrite the word-counting (§ 11.1, p. 421) and word-transformation\n",
    "(§ 11.3.6, p. 440) programs to use an `unordered_map`."
   ]
  },
  {
   "cell_type": "code",
   "execution_count": 1,
   "id": "c6d444af-5e57-4b0b-9e37-cc048f1e9cbf",
   "metadata": {},
   "outputs": [
    {
     "data": {
      "text/plain": [
       "{ \"often\" => 1, \"how\" => 1, \"repeating\" => 1, \"ones\" => 1, \"of\" => 4, \"here\" => 1, \"one\" => 1, \"these\" => 3, \"many\" => 1, \"are\" => 2, \"and\" => 1, \"words\" => 4, \"How\" => 1, \"each\" => 1, \"which\" => 1 }"
      ]
     },
     "execution_count": 1,
     "metadata": {},
     "output_type": "execute_result"
    }
   ],
   "source": [
    "#include <sstream>\n",
    "#include <cstddef>\n",
    "using std::vector, std::string, std::map, std::size_t;\n",
    "\n",
    "std::unordered_map<string, size_t> words_to_counts;\n",
    "string s, input = \"How many words of these words are here of each one of these words and which ones of these words are repeating how often\";\n",
    "auto stream = std::istringstream(input);\n",
    "while (stream >> s)\n",
    "    ++words_to_counts[s];\n",
    "words_to_counts"
   ]
  },
  {
   "cell_type": "code",
   "execution_count": null,
   "id": "3ffe07ef-e05b-42a2-9e1e-d7400047a486",
   "metadata": {},
   "outputs": [],
   "source": []
  },
  {
   "cell_type": "code",
   "execution_count": 1,
   "id": "644988e3-ffa4-478c-a2d7-9f0f1b93b187",
   "metadata": {},
   "outputs": [],
   "source": [
    "#include <fstream>\n",
    "#include <sstream>\n",
    "#include <iostream>\n",
    "using std::ifstream, std::string, std::map, std::istringstream, std::cout, std::endl;"
   ]
  },
  {
   "cell_type": "code",
   "execution_count": 2,
   "id": "7998e2f7-c5aa-457b-86b8-cb216e59cc26",
   "metadata": {},
   "outputs": [],
   "source": [
    "using string_map = std::unordered_map<string, string>;"
   ]
  },
  {
   "cell_type": "code",
   "execution_count": 3,
   "id": "a12179cf-af77-4ced-8cf3-367fc6530c70",
   "metadata": {},
   "outputs": [],
   "source": [
    "const string& transform(const string &s, const string_map &m)\n",
    "{\n",
    "    auto map_it = m.find(s);\n",
    "    if (map_it != m.cend())\n",
    "        return map_it->second;\n",
    "    else\n",
    "        return s;\n",
    "}"
   ]
  },
  {
   "cell_type": "code",
   "execution_count": 4,
   "id": "88192084-3bfa-4c46-81fe-27103e9429b2",
   "metadata": {},
   "outputs": [],
   "source": [
    "string_map buildMap(ifstream &map_file) {\n",
    "    string_map trans_map;\n",
    "    string key, value;\n",
    "    while (map_file >> key && getline(map_file, value))\n",
    "        if (value.size() > 1)\n",
    "            trans_map[key] = value.substr(1);\n",
    "        else\n",
    "            throw std::runtime_error(\"no rule for \" + key);\n",
    "    return trans_map;\n",
    "}"
   ]
  },
  {
   "cell_type": "code",
   "execution_count": 5,
   "id": "f030975f-7311-488c-82a5-fb13fd561941",
   "metadata": {},
   "outputs": [],
   "source": [
    "void word_transform(ifstream &map_file, ifstream &input)\n",
    "{\n",
    "    auto trans_map = buildMap(map_file);\n",
    "    string text;\n",
    "    while (getline(input, text)) {\n",
    "        istringstream stream(text);\n",
    "        string word;\n",
    "        bool firstword = true;\n",
    "        while (stream >> word) {\n",
    "            if (firstword)\n",
    "                firstword = false;\n",
    "            else\n",
    "                cout << \" \";\n",
    "            cout << transform(word, trans_map);\n",
    "        }\n",
    "        cout << endl;\n",
    "    }\n",
    "}"
   ]
  },
  {
   "cell_type": "code",
   "execution_count": 6,
   "id": "2937106d-819a-4d06-9900-cbc402567aaa",
   "metadata": {},
   "outputs": [],
   "source": [
    "! echo \"y why\\nr are\\n u you\" > map.txt"
   ]
  },
  {
   "cell_type": "code",
   "execution_count": 7,
   "id": "94275dbd-92a6-4110-8214-6de71e5fe17d",
   "metadata": {},
   "outputs": [],
   "source": [
    "! echo \"y r u running!?\" > test.txt"
   ]
  },
  {
   "cell_type": "code",
   "execution_count": 8,
   "id": "132b1ed3-2721-447e-83dc-7185f91027a2",
   "metadata": {},
   "outputs": [
    {
     "name": "stdout",
     "output_type": "stream",
     "text": [
      "why are you running!?\n"
     ]
    }
   ],
   "source": [
    "auto map = ifstream(\"map.txt\");\n",
    "auto test = ifstream(\"test.txt\");\n",
    "word_transform(map, test);"
   ]
  },
  {
   "cell_type": "code",
   "execution_count": 9,
   "id": "db5bc97e-e048-4861-aa26-ad0025a5612f",
   "metadata": {},
   "outputs": [],
   "source": [
    "! rm map.txt test.txt"
   ]
  }
 ],
 "metadata": {
  "kernelspec": {
   "display_name": "C++17",
   "language": "C++17",
   "name": "xcpp17"
  },
  "language_info": {
   "codemirror_mode": "text/x-c++src",
   "file_extension": ".cpp",
   "mimetype": "text/x-c++src",
   "name": "c++",
   "version": "17"
  }
 },
 "nbformat": 4,
 "nbformat_minor": 5
}
