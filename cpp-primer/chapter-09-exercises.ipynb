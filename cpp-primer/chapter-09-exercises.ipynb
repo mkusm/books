{
 "cells": [
  {
   "cell_type": "markdown",
   "id": "cb5f1afe-4f9a-43bb-a1b2-849044bb71c3",
   "metadata": {},
   "source": [
    "# Chapter 9 Sequential Containers"
   ]
  },
  {
   "cell_type": "markdown",
   "id": "e69b10be-b8a1-45f1-9224-d7b88b97a327",
   "metadata": {},
   "source": [
    "## EXERCISES SECTION 9.1"
   ]
  },
  {
   "cell_type": "markdown",
   "id": "8da6a83e-7982-4493-a832-7eb067fbb081",
   "metadata": {},
   "source": [
    "### Exercise 9.1:\n",
    "Which is the most appropriate — a `vector`, a `deque`, or a `list` — for the\n",
    "following program tasks? Explain the rationale for your choice. If there is no reason to\n",
    "prefer one or another container, explain why not.  \n",
    "(a) Read a fixed number of words, inserting them in the container alphabetically\n",
    "as they are entered. We’ll see in the next chapter that associative containers are better\n",
    "suited to this problem.  \n",
    "(b) Read an unknown number of words. Always insert new words at the back.\n",
    "Remove the next value from the front.  \n",
    "(c) Read an unknown number of integers from a file. Sort the numbers and then\n",
    "print them to standard output.  "
   ]
  },
  {
   "cell_type": "markdown",
   "id": "cef2d50e-5923-467d-b8f6-18a99af020ed",
   "metadata": {},
   "source": [
    "A:\n",
    "\n",
    "a) `list`, as we'll need to add new elements often in the middle of the container  \n",
    "b) `deque`, as inserting and removing values from back/front is fast  \n",
    "c) `vector`, for easy sorting with random access"
   ]
  },
  {
   "cell_type": "markdown",
   "id": "2b867727-438d-4114-8b33-1ac32595f1d7",
   "metadata": {},
   "source": [
    "## EXERCISES SECTION 9.2"
   ]
  },
  {
   "cell_type": "markdown",
   "id": "d6b3ebea-9e22-4274-a878-9b832ab2e0aa",
   "metadata": {},
   "source": [
    "### Exercise 9.2:\n",
    "Define a `list` that holds elements that are `deque`s that hold `int`s."
   ]
  },
  {
   "cell_type": "code",
   "execution_count": 5,
   "id": "b32fc6e5-2fba-4981-967e-070818b1258b",
   "metadata": {},
   "outputs": [],
   "source": [
    "std::list<std::deque<int>> l;"
   ]
  },
  {
   "cell_type": "markdown",
   "id": "e3007064-5899-4065-9566-574d6f3ebdd7",
   "metadata": {},
   "source": [
    "## EXERCISES SECTION 9.2.1"
   ]
  },
  {
   "cell_type": "markdown",
   "id": "499f16eb-7bf7-48ed-9853-57a4c8dcc9d7",
   "metadata": {},
   "source": [
    "### Exercise 9.3:\n",
    "What are the constraints on the iterators that form iterator ranges?"
   ]
  },
  {
   "cell_type": "markdown",
   "id": "7515e722-1b95-4e2b-af63-04169ad9f445",
   "metadata": {},
   "source": [
    "A:\n",
    "\n",
    "Iterators `begin` and `end` must refer to the same container.  \n",
    "`end` can be equal to `begin`, but can't refer to an element before `begin`."
   ]
  },
  {
   "cell_type": "markdown",
   "id": "732faf6f-92d5-4b5d-b7d6-ac70af91cdf7",
   "metadata": {},
   "source": [
    "### Exercise 9.4:\n",
    "Write a function that takes a pair of iterators to a `vector<int>` and an\n",
    "`int` value. Look for that value in the range and return a `bool` indicating whether it\n",
    "was found."
   ]
  },
  {
   "cell_type": "code",
   "execution_count": 1,
   "id": "0ca26da2-0172-422d-b89d-561ced988b7b",
   "metadata": {},
   "outputs": [],
   "source": [
    "using std::vector;"
   ]
  },
  {
   "cell_type": "code",
   "execution_count": 2,
   "id": "9c18d286-79cb-46f7-8b84-8c1dc5928c07",
   "metadata": {},
   "outputs": [],
   "source": [
    "bool isIn(const vector<int>::const_iterator begin, const vector<int>::const_iterator end, const int i)\n",
    "{\n",
    "    for (auto it = begin; it != end; it++)\n",
    "        if (*it == i)\n",
    "            return true;\n",
    "    return false;\n",
    "}"
   ]
  },
  {
   "cell_type": "code",
   "execution_count": 3,
   "id": "7bcad603-8b8c-40f1-9ac3-b9f9821aa166",
   "metadata": {},
   "outputs": [],
   "source": [
    "vector<int> v = {1, 2, 3, 4};"
   ]
  },
  {
   "cell_type": "code",
   "execution_count": 4,
   "id": "44f7eb83-3b60-44a8-a8f4-1faa91fa67a9",
   "metadata": {},
   "outputs": [
    {
     "data": {
      "text/plain": [
       "true"
      ]
     },
     "execution_count": 4,
     "metadata": {},
     "output_type": "execute_result"
    }
   ],
   "source": [
    "isIn(v.cbegin(), v.cend(), 1)"
   ]
  },
  {
   "cell_type": "code",
   "execution_count": 5,
   "id": "7efaceef-c931-4f85-8e6c-f835550984aa",
   "metadata": {},
   "outputs": [
    {
     "data": {
      "text/plain": [
       "false"
      ]
     },
     "execution_count": 5,
     "metadata": {},
     "output_type": "execute_result"
    }
   ],
   "source": [
    "isIn(v.cbegin(), v.cend(), 5)"
   ]
  },
  {
   "cell_type": "markdown",
   "id": "258a958c-7019-4251-b5ea-9f22a121aca3",
   "metadata": {},
   "source": [
    "### Exercise 9.5:\n",
    "Rewrite the previous program to return an iterator to the requested element. Note that the program must handle the case where the element is not found."
   ]
  },
  {
   "cell_type": "code",
   "execution_count": 1,
   "id": "ab68ce1c-f528-4c12-8d0f-012f46254e18",
   "metadata": {},
   "outputs": [],
   "source": [
    "using std::vector;\n",
    "using iterator = vector<int>::const_iterator;"
   ]
  },
  {
   "cell_type": "code",
   "execution_count": 2,
   "id": "439ad992-ea70-43a2-90a5-218370c8ade9",
   "metadata": {},
   "outputs": [],
   "source": [
    "iterator whereIs(iterator begin, iterator end, const int i)\n",
    "{\n",
    "    iterator it;\n",
    "    for (it = begin; it != end; it++)\n",
    "        if (*it == i)\n",
    "            return it;\n",
    "    return it;\n",
    "}"
   ]
  },
  {
   "cell_type": "code",
   "execution_count": 3,
   "id": "7f1d02e5-62e2-4fa4-ae6e-f2ab9301dce8",
   "metadata": {},
   "outputs": [],
   "source": [
    "vector<int> v = {1, 2, 3, 4};"
   ]
  },
  {
   "cell_type": "code",
   "execution_count": 4,
   "id": "1c999ae3-02d0-48c3-aaf7-989ae4997873",
   "metadata": {},
   "outputs": [],
   "source": [
    "auto res = whereIs(v.cbegin(), v.cend(), 1)"
   ]
  },
  {
   "cell_type": "code",
   "execution_count": 5,
   "id": "124c97ff-bfd2-45cb-9fa8-d3aa88b2a442",
   "metadata": {},
   "outputs": [
    {
     "data": {
      "text/plain": [
       "true"
      ]
     },
     "execution_count": 5,
     "metadata": {},
     "output_type": "execute_result"
    }
   ],
   "source": [
    "(res == v.cbegin())"
   ]
  },
  {
   "cell_type": "code",
   "execution_count": 6,
   "id": "d94e935f-e8d0-4680-b9c6-4ec780494b9f",
   "metadata": {},
   "outputs": [],
   "source": [
    "auto res = whereIs(v.cbegin(), v.cend(), 10)"
   ]
  },
  {
   "cell_type": "code",
   "execution_count": 7,
   "id": "306ff913-4380-489e-a9db-b45db5b9dad3",
   "metadata": {},
   "outputs": [
    {
     "data": {
      "text/plain": [
       "true"
      ]
     },
     "execution_count": 7,
     "metadata": {},
     "output_type": "execute_result"
    }
   ],
   "source": [
    "(res == v.cend())"
   ]
  },
  {
   "cell_type": "markdown",
   "id": "db107e99-4d79-4c67-a938-8fc8f94538c9",
   "metadata": {},
   "source": [
    "### Exercise 9.6:\n",
    "What is wrong with the following program? How might you correct it?\n",
    "```\n",
    "list<int> lst1;\n",
    "list<int>::iterator iter1 = lst1.begin(), iter2 = lst1.end();\n",
    "while (iter1 < iter2) /* ... */\n",
    "```"
   ]
  },
  {
   "cell_type": "markdown",
   "id": "7c1ecb73-ed79-41b2-8682-cd93136f18b9",
   "metadata": {},
   "source": [
    "A:\n",
    "\n",
    "`list`s are not necessarily kept contiguously in memory, so `lst1.begin()` isn't necessarily smaller than `lst1.end()` even if there are elements in `lst1`. The condition should be changed from `<` to `!=`"
   ]
  },
  {
   "cell_type": "markdown",
   "id": "97727f88-4779-449a-a04e-bbdd4e96f000",
   "metadata": {},
   "source": [
    "## EXERCISES SECTION 9.2.2"
   ]
  },
  {
   "cell_type": "markdown",
   "id": "b65eabaa-fdc8-4a6e-a755-6d165d7c26f5",
   "metadata": {},
   "source": [
    "### Exercise 9.7:\n",
    " What type should be used as the index into a `vector` of `int`s?"
   ]
  },
  {
   "cell_type": "markdown",
   "id": "ac242806-a31d-4879-8290-4d9243aff6a6",
   "metadata": {},
   "source": [
    "A:\n",
    "\n",
    "```\n",
    "std::vector<int>::size_type\n",
    "```"
   ]
  },
  {
   "cell_type": "markdown",
   "id": "a9579201-670e-4cc4-affd-2d9ca54bb88d",
   "metadata": {},
   "source": [
    "### Exercise 9.8:\n",
    " What type should be used to read elements in a `list` of `strings`? To\n",
    "write them?"
   ]
  },
  {
   "cell_type": "markdown",
   "id": "885a6177-285d-4d7d-bd36-4e7a67f869eb",
   "metadata": {},
   "source": [
    "A:\n",
    "\n",
    "read:\n",
    "```\n",
    "std::list<std::string>::const_iterator\n",
    "```\n",
    "\n",
    "write:\n",
    "```\n",
    "std::list<std::string>::iterator\n",
    "```"
   ]
  },
  {
   "cell_type": "markdown",
   "id": "88385f2e-c19f-44fe-be10-bae68ba4377a",
   "metadata": {},
   "source": [
    "## EXERCISES SECTION 9.2.3"
   ]
  },
  {
   "cell_type": "markdown",
   "id": "6fe616a4-fe27-47c8-8389-2547c37c4427",
   "metadata": {},
   "source": [
    "### Exercise 9.9:\n",
    " What is the difference between the `begin` and `cbegin` functions?"
   ]
  },
  {
   "cell_type": "markdown",
   "id": "7e195f9c-09cd-4e60-b31a-9e0e0467c827",
   "metadata": {},
   "source": [
    "A:\n",
    "\n",
    "`cbegin` returns a `const_iterator` and can't be used for writing"
   ]
  },
  {
   "cell_type": "markdown",
   "id": "e3da2986-909f-421e-92be-fb535afdc391",
   "metadata": {},
   "source": [
    "### Exercise 9.10:\n",
    " What are the types of the following four objects?\n",
    "```\n",
    "vector<int> v1;\n",
    "const vector<int> v2;\n",
    "auto it1 = v1.begin(), it2 = v2.begin();\n",
    "auto it3 = v1.cbegin(), it4 = v2.cbegin();\n",
    "```"
   ]
  },
  {
   "cell_type": "markdown",
   "id": "e4c9b56a-f4a0-4d6f-99a0-e3227213b8e0",
   "metadata": {},
   "source": [
    "A:\n",
    "\n",
    "first, we should split `auto it1 = v1.begin(), it2 = v2.begin();` into two separate expressions, as they have different types  \n",
    "\n",
    "then:  \n",
    "`it1` - `vector<int>::iterator`  \n",
    "`it2`, `it3`, `it4` - `vector<int>::const_iterator`"
   ]
  },
  {
   "cell_type": "markdown",
   "id": "3e8bfa5a-9140-4a02-a76a-44c76d3c8a0e",
   "metadata": {},
   "source": [
    "## EXERCISES SECTION 9.2.4"
   ]
  },
  {
   "cell_type": "markdown",
   "id": "ea8eff7f-2c10-42c7-a78d-8f962a3b47ed",
   "metadata": {},
   "source": [
    "### Exercise 9.11:\n",
    " Show an example of each of the six ways to create and initialize a\n",
    "`vector`. Explain what values each `vector` contains."
   ]
  },
  {
   "cell_type": "code",
   "execution_count": 1,
   "id": "bfcbd102-3cf4-445e-8a1a-012445d8511c",
   "metadata": {},
   "outputs": [],
   "source": [
    "using std::vector;"
   ]
  },
  {
   "cell_type": "code",
   "execution_count": 2,
   "id": "bac4be2b-0438-42c6-b535-9bb092d73fba",
   "metadata": {},
   "outputs": [
    {
     "data": {
      "text/plain": [
       "{}"
      ]
     },
     "execution_count": 2,
     "metadata": {},
     "output_type": "execute_result"
    }
   ],
   "source": [
    "vector<int> v;\n",
    "v"
   ]
  },
  {
   "cell_type": "code",
   "execution_count": 3,
   "id": "352f5af0-fe83-44f8-949f-fe69f447cf90",
   "metadata": {},
   "outputs": [
    {
     "data": {
      "text/plain": [
       "{ 1, 2 }"
      ]
     },
     "execution_count": 3,
     "metadata": {},
     "output_type": "execute_result"
    }
   ],
   "source": [
    "vector<int> v2{1, 2};\n",
    "v2"
   ]
  },
  {
   "cell_type": "code",
   "execution_count": 4,
   "id": "f6810933-2c09-44b0-804b-89506d302957",
   "metadata": {},
   "outputs": [
    {
     "data": {
      "text/plain": [
       "{ 1, 2 }"
      ]
     },
     "execution_count": 4,
     "metadata": {},
     "output_type": "execute_result"
    }
   ],
   "source": [
    "vector<int> v3 = {1, 2};\n",
    "v3"
   ]
  },
  {
   "cell_type": "code",
   "execution_count": 5,
   "id": "1c0b0ae7-11c9-4585-b5e8-f173cd4735d2",
   "metadata": {},
   "outputs": [
    {
     "data": {
      "text/plain": [
       "{ 1, 2 }"
      ]
     },
     "execution_count": 5,
     "metadata": {},
     "output_type": "execute_result"
    }
   ],
   "source": [
    "vector<int> v4(v2);\n",
    "v4"
   ]
  },
  {
   "cell_type": "code",
   "execution_count": 6,
   "id": "49419865-2d0d-48b9-add2-4896ebe313ea",
   "metadata": {},
   "outputs": [
    {
     "data": {
      "text/plain": [
       "{ 1, 2 }"
      ]
     },
     "execution_count": 6,
     "metadata": {},
     "output_type": "execute_result"
    }
   ],
   "source": [
    "vector<int> v5 = v2;\n",
    "v5"
   ]
  },
  {
   "cell_type": "code",
   "execution_count": 7,
   "id": "6614e174-2e6a-4c2b-9ca6-e4945157e908",
   "metadata": {},
   "outputs": [
    {
     "data": {
      "text/plain": [
       "{ 1, 2 }"
      ]
     },
     "execution_count": 7,
     "metadata": {},
     "output_type": "execute_result"
    }
   ],
   "source": [
    "vector<int> v6(v2.cbegin(), v2.cend());\n",
    "v6"
   ]
  },
  {
   "cell_type": "code",
   "execution_count": 8,
   "id": "fe6949ca-f80b-4e36-b859-0de5ce955034",
   "metadata": {},
   "outputs": [
    {
     "data": {
      "text/plain": [
       "{ 0, 0 }"
      ]
     },
     "execution_count": 8,
     "metadata": {},
     "output_type": "execute_result"
    }
   ],
   "source": [
    "vector<int> v7(2);\n",
    "v7"
   ]
  },
  {
   "cell_type": "code",
   "execution_count": 9,
   "id": "22474716-4db0-43de-bb5f-6f43811d6523",
   "metadata": {},
   "outputs": [
    {
     "data": {
      "text/plain": [
       "{ 3, 3 }"
      ]
     },
     "execution_count": 9,
     "metadata": {},
     "output_type": "execute_result"
    }
   ],
   "source": [
    "vector<int> v8(2, 3);\n",
    "v8"
   ]
  },
  {
   "cell_type": "markdown",
   "id": "8920b47a-8737-417b-b459-49b9e24e078f",
   "metadata": {},
   "source": [
    "### Exercise 9.12:\n",
    " Explain the differences between the constructor that takes a container\n",
    "to copy and the constructor that takes two iterators."
   ]
  },
  {
   "cell_type": "markdown",
   "id": "0e1f8168-a677-415b-83a1-98b931e72972",
   "metadata": {},
   "source": [
    "A:\n",
    "\n",
    "When copying directly, the whole other container gets copied and the container types as well as element types must match between the source and target.  \n",
    "\n",
    "When copying with iterators, we can copy only a subsequence of the source container, depending on the iterators passed to the constructor. Also, the container types an element types don't have to match, as long as they can be converted."
   ]
  },
  {
   "cell_type": "markdown",
   "id": "17053b2b-f83c-400a-8ac9-0997faa89cbb",
   "metadata": {},
   "source": [
    "### Exercise 9.13:\n",
    " How would you initialize a `vector<double>` from a `list<int>`?\n",
    "From a `vector<int>`? Write code to check your answers."
   ]
  },
  {
   "cell_type": "code",
   "execution_count": 1,
   "id": "b0e2cb3e-2661-431e-ab78-c5424bb5e76f",
   "metadata": {},
   "outputs": [],
   "source": [
    "using std::vector, std::list;"
   ]
  },
  {
   "cell_type": "code",
   "execution_count": 3,
   "id": "fb8f605f-c97d-4a6e-b891-f2f77f504356",
   "metadata": {},
   "outputs": [],
   "source": [
    "list<int> l = {1, 5, 10};"
   ]
  },
  {
   "cell_type": "code",
   "execution_count": 4,
   "id": "1837bdd2-9304-451d-83f1-70f7120e4fec",
   "metadata": {},
   "outputs": [],
   "source": [
    "vector<int> v = {1, 5, 10};"
   ]
  },
  {
   "cell_type": "code",
   "execution_count": 6,
   "id": "38f5bae6-7430-4455-95f1-5e2b48eb78f1",
   "metadata": {},
   "outputs": [
    {
     "data": {
      "text/plain": [
       "{ 1.0000000, 5.0000000, 10.000000 }"
      ]
     },
     "execution_count": 6,
     "metadata": {},
     "output_type": "execute_result"
    }
   ],
   "source": [
    "vector<double> vd(l.cbegin(), l.cend());\n",
    "vd"
   ]
  },
  {
   "cell_type": "code",
   "execution_count": 7,
   "id": "14814285-500e-4aa0-9ffa-5b21b3a64c8e",
   "metadata": {},
   "outputs": [
    {
     "data": {
      "text/plain": [
       "{ 1.0000000, 5.0000000, 10.000000 }"
      ]
     },
     "execution_count": 7,
     "metadata": {},
     "output_type": "execute_result"
    }
   ],
   "source": [
    "vector<double> vd2(v.cbegin(), v.cend());\n",
    "vd2"
   ]
  },
  {
   "cell_type": "markdown",
   "id": "15e23459-ef18-4b24-a75e-b6e4802b8f9f",
   "metadata": {},
   "source": [
    "## EXERCISES SECTION 9.2.5"
   ]
  },
  {
   "cell_type": "markdown",
   "id": "8f03b044-90d3-4209-a166-c0de17c8c58c",
   "metadata": {},
   "source": [
    "### Exercise 9.14:\n",
    " Write a program to assign the elements from a `list` of `char*` pointers\n",
    "to C-style character `string`s to a `vector` of `string`s."
   ]
  },
  {
   "cell_type": "code",
   "execution_count": 1,
   "id": "0f6871b1-d477-4af5-b96c-5810f570a158",
   "metadata": {},
   "outputs": [],
   "source": [
    "std::list<const char*> ls = {\"one\", \"two\"};"
   ]
  },
  {
   "cell_type": "code",
   "execution_count": 2,
   "id": "a606eb4f-e407-4c30-b1c3-d6f06899f6b0",
   "metadata": {},
   "outputs": [],
   "source": [
    "std::vector<std::string> vs;\n",
    "vs.assign(ls.cbegin(), ls.cend());"
   ]
  },
  {
   "cell_type": "code",
   "execution_count": 3,
   "id": "42b32736-2154-4957-bf42-76661e203c34",
   "metadata": {},
   "outputs": [
    {
     "data": {
      "text/plain": [
       "{ \"one\", \"two\" }"
      ]
     },
     "execution_count": 3,
     "metadata": {},
     "output_type": "execute_result"
    }
   ],
   "source": [
    "vs"
   ]
  },
  {
   "cell_type": "markdown",
   "id": "7d82c8e2-bcad-4471-a165-343bab87422b",
   "metadata": {},
   "source": [
    "## EXERCISES SECTION 9.2.7"
   ]
  },
  {
   "cell_type": "markdown",
   "id": "0483b605-651d-4c7a-b97d-f675764d7f05",
   "metadata": {},
   "source": [
    "### Exercise 9.15:\n",
    " Write a program to determine whether two `vector<int>`s are equal."
   ]
  },
  {
   "cell_type": "code",
   "execution_count": 1,
   "id": "e0a91cdb-c345-4f4e-bcce-74e254e819e5",
   "metadata": {},
   "outputs": [],
   "source": [
    "using std::vector;"
   ]
  },
  {
   "cell_type": "code",
   "execution_count": 2,
   "id": "21b0d612-7a2d-4cb2-bea2-cd7b925e5bb7",
   "metadata": {},
   "outputs": [],
   "source": [
    "vector<int> v1 = {1, 2, 3};\n",
    "vector<int> v2 = {2, 4, 5};\n",
    "vector<int> v3 = {1, 2, 3};"
   ]
  },
  {
   "cell_type": "code",
   "execution_count": 3,
   "id": "02ec09d6-fd11-4440-a7d9-afdaed5fd9a0",
   "metadata": {},
   "outputs": [
    {
     "data": {
      "text/plain": [
       "true"
      ]
     },
     "execution_count": 3,
     "metadata": {},
     "output_type": "execute_result"
    }
   ],
   "source": [
    "(v1 == v3)"
   ]
  },
  {
   "cell_type": "code",
   "execution_count": 4,
   "id": "abe32fe4-8044-421e-ab55-7bf3135a20a6",
   "metadata": {},
   "outputs": [
    {
     "data": {
      "text/plain": [
       "false"
      ]
     },
     "execution_count": 4,
     "metadata": {},
     "output_type": "execute_result"
    }
   ],
   "source": [
    "(v1 == v2)"
   ]
  },
  {
   "cell_type": "markdown",
   "id": "7cd091c4-9e6f-403b-b988-ca1f838029ed",
   "metadata": {},
   "source": [
    "### Exercise 9.16:\n",
    " Repeat the previous program, but compare elements in a `list<int>`\n",
    "to a `vector<int>`."
   ]
  },
  {
   "cell_type": "code",
   "execution_count": null,
   "id": "10cf37d8-1bb4-4674-8c59-65e438d5e727",
   "metadata": {},
   "outputs": [],
   "source": [
    "// this program will fail, as they can't be compared with simple `==`"
   ]
  },
  {
   "cell_type": "code",
   "execution_count": 1,
   "id": "652b6716-d5d0-44f7-8b3a-f4c19472f087",
   "metadata": {},
   "outputs": [],
   "source": [
    "using std::vector, std::list; "
   ]
  },
  {
   "cell_type": "code",
   "execution_count": 2,
   "id": "e1d06962-56fb-48c1-929f-701732bb49af",
   "metadata": {},
   "outputs": [],
   "source": [
    "vector<int> v1 = {1, 2, 3};\n",
    "list<int> l2 = {2, 4, 5};\n",
    "list<int> l3 = {1, 2, 3};"
   ]
  },
  {
   "cell_type": "code",
   "execution_count": 3,
   "id": "4324fa53-7978-4090-a92a-3e055636794d",
   "metadata": {},
   "outputs": [
    {
     "name": "stderr",
     "output_type": "stream",
     "text": [
      "input_line_9:2:6: error: invalid operands to binary expression ('vector<int>' and 'list<int>')\n",
      " (v1 == l3)\n",
      "  ~~ ^  ~~\n"
     ]
    },
    {
     "ename": "Interpreter Error",
     "evalue": "",
     "output_type": "error",
     "traceback": [
      "Interpreter Error: "
     ]
    }
   ],
   "source": [
    "(v1 == l3)"
   ]
  },
  {
   "cell_type": "code",
   "execution_count": 4,
   "id": "df1252d7-8e19-4abf-b5fc-1bb9cdeb0021",
   "metadata": {},
   "outputs": [
    {
     "name": "stderr",
     "output_type": "stream",
     "text": [
      "input_line_10:2:6: error: invalid operands to binary expression ('vector<int>' and 'list<int>')\n",
      " (v1 == l2)\n",
      "  ~~ ^  ~~\n"
     ]
    },
    {
     "ename": "Interpreter Error",
     "evalue": "",
     "output_type": "error",
     "traceback": [
      "Interpreter Error: "
     ]
    }
   ],
   "source": [
    "(v1 == l2)"
   ]
  },
  {
   "cell_type": "code",
   "execution_count": null,
   "id": "ecf464e4-a6e8-4b29-bd31-b6e413db9b08",
   "metadata": {},
   "outputs": [],
   "source": [
    "// let's see what happens if only element types are different"
   ]
  },
  {
   "cell_type": "code",
   "execution_count": 1,
   "id": "ee7549c8-149b-411e-8058-826ea8649f6b",
   "metadata": {},
   "outputs": [],
   "source": [
    "using std::vector;"
   ]
  },
  {
   "cell_type": "code",
   "execution_count": 2,
   "id": "4430b0b9-15a3-4a7d-8a40-d4a188351168",
   "metadata": {},
   "outputs": [],
   "source": [
    "vector<int> v1 = {1, 2, 3};\n",
    "vector<double> v2 = {2, 4, 5};\n",
    "vector<double> v3 = {1, 2, 3};"
   ]
  },
  {
   "cell_type": "code",
   "execution_count": 3,
   "id": "d92537cc-cd26-44cc-ab42-185e3682db89",
   "metadata": {},
   "outputs": [
    {
     "name": "stderr",
     "output_type": "stream",
     "text": [
      "input_line_9:2:6: error: invalid operands to binary expression ('vector<int>' and 'vector<double>')\n",
      " (v1 == v3)\n",
      "  ~~ ^  ~~\n"
     ]
    },
    {
     "ename": "Interpreter Error",
     "evalue": "",
     "output_type": "error",
     "traceback": [
      "Interpreter Error: "
     ]
    }
   ],
   "source": [
    "(v1 == v3)"
   ]
  },
  {
   "cell_type": "code",
   "execution_count": 4,
   "id": "b5726c54-9815-4d49-9c06-9e048ae5b926",
   "metadata": {},
   "outputs": [
    {
     "name": "stderr",
     "output_type": "stream",
     "text": [
      "input_line_10:2:6: error: invalid operands to binary expression ('vector<int>' and 'vector<double>')\n",
      " (v1 == v2)\n",
      "  ~~ ^  ~~\n"
     ]
    },
    {
     "ename": "Interpreter Error",
     "evalue": "",
     "output_type": "error",
     "traceback": [
      "Interpreter Error: "
     ]
    }
   ],
   "source": [
    "(v1 == v2)"
   ]
  },
  {
   "cell_type": "code",
   "execution_count": null,
   "id": "353abb51-3e4a-49f7-8ba1-9e6cf8d26c13",
   "metadata": {},
   "outputs": [],
   "source": [
    "// solution"
   ]
  },
  {
   "cell_type": "code",
   "execution_count": 1,
   "id": "e947cd3a-6085-4451-900a-bfe3b6b34320",
   "metadata": {},
   "outputs": [],
   "source": [
    "using std::vector, std::list; "
   ]
  },
  {
   "cell_type": "code",
   "execution_count": 2,
   "id": "774360b9-b2f6-4f0a-9772-c270751c7bea",
   "metadata": {},
   "outputs": [],
   "source": [
    "vector<int> v1 = {1, 2, 3};\n",
    "list<int> l2 = {2, 4, 5};\n",
    "list<int> l3 = {1, 2, 3};"
   ]
  },
  {
   "cell_type": "code",
   "execution_count": 3,
   "id": "1665bd92-c8fa-493e-a1c1-ad337cdaa665",
   "metadata": {},
   "outputs": [],
   "source": [
    "bool equal(list<int> l, vector<int> v)\n",
    "{\n",
    "    if (l.size() != v.size())\n",
    "        return false;\n",
    "    auto l_it = l.cbegin();\n",
    "    for (auto v_it = v.cbegin(); v_it != v.cend(); ++v_it, ++l_it)\n",
    "        if (*v_it != *l_it)\n",
    "            return false;\n",
    "    return true;\n",
    "}"
   ]
  },
  {
   "cell_type": "code",
   "execution_count": 5,
   "id": "f5c1607e-3041-4b23-b5fe-bcd97c31b156",
   "metadata": {},
   "outputs": [
    {
     "data": {
      "text/plain": [
       "false"
      ]
     },
     "execution_count": 5,
     "metadata": {},
     "output_type": "execute_result"
    }
   ],
   "source": [
    "equal(l2, v1)"
   ]
  },
  {
   "cell_type": "code",
   "execution_count": 6,
   "id": "dd696f05-e32a-464b-9579-8c47c01142a6",
   "metadata": {},
   "outputs": [
    {
     "data": {
      "text/plain": [
       "true"
      ]
     },
     "execution_count": 6,
     "metadata": {},
     "output_type": "execute_result"
    }
   ],
   "source": [
    "equal(l3, v1)"
   ]
  },
  {
   "cell_type": "markdown",
   "id": "00011ade-1e46-4021-add5-7255d15ea698",
   "metadata": {},
   "source": [
    "### Exercise 9.17:\n",
    " Assuming `c1` and `c2` are containers, what (if any) constraints does the\n",
    "following usage place on the types of `c1` and `c2`?\n",
    "```\n",
    "if (c1 < c2)\n",
    "```"
   ]
  },
  {
   "cell_type": "markdown",
   "id": "ffa03518-97ee-4275-8fe2-c41ec954bb93",
   "metadata": {},
   "source": [
    "A:\n",
    "\n",
    "`c1` and `c2` must have the same type and their elements' type must implement `<` operator"
   ]
  },
  {
   "cell_type": "markdown",
   "id": "d73231bc-3481-4920-a9e0-95f3c7c41bf9",
   "metadata": {},
   "source": [
    "## EXERCISES SECTION 9.3.1"
   ]
  },
  {
   "cell_type": "markdown",
   "id": "dc8bad23-d719-4618-a6a4-c0b20800787a",
   "metadata": {},
   "source": [
    "### Exercise 9.18:\n",
    " Write a program to read a sequence of `string`s from the standard input\n",
    "into a `deque`. Use iterators to write a loop to print the elements in the `deque`."
   ]
  },
  {
   "cell_type": "code",
   "execution_count": 1,
   "id": "c34ac557-7860-4e96-a284-42b8a14eb82d",
   "metadata": {},
   "outputs": [
    {
     "name": "stdin",
     "output_type": "stream",
     "text": [
      " let's test this ;\n"
     ]
    }
   ],
   "source": [
    "#include <iostream>\n",
    "std::deque<std::string> d;\n",
    "std::string s;\n",
    "while (std::cin >> s && s != \";\")\n",
    "    d.push_back(s);"
   ]
  },
  {
   "cell_type": "code",
   "execution_count": 2,
   "id": "6e6708aa-5157-4f12-b4d7-a8c660943e7c",
   "metadata": {},
   "outputs": [
    {
     "data": {
      "text/plain": [
       "{ \"let's\", \"test\", \"this\" }"
      ]
     },
     "execution_count": 2,
     "metadata": {},
     "output_type": "execute_result"
    }
   ],
   "source": [
    "d"
   ]
  },
  {
   "cell_type": "code",
   "execution_count": 3,
   "id": "cfacf63a-e20c-4846-b760-e553414b593e",
   "metadata": {},
   "outputs": [
    {
     "name": "stdout",
     "output_type": "stream",
     "text": [
      "let's test this "
     ]
    }
   ],
   "source": [
    "for (auto it = d.cbegin(); it != d.cend(); ++it)\n",
    "    std::cout << *it << \" \";"
   ]
  },
  {
   "cell_type": "markdown",
   "id": "e1cd2ff7-4cc3-47b0-b8c4-9120b04c09b2",
   "metadata": {},
   "source": [
    "### Exercise 9.19:\n",
    " Rewrite the program from the previous exercise to use a `list`. List the\n",
    "changes you needed to make."
   ]
  },
  {
   "cell_type": "code",
   "execution_count": 1,
   "id": "8c97262e-39e3-48fc-a57d-aa548a22c4f6",
   "metadata": {},
   "outputs": [
    {
     "name": "stdin",
     "output_type": "stream",
     "text": [
      " let's test this\n",
      " ;\n"
     ]
    }
   ],
   "source": [
    "#include <iostream>\n",
    "std::list<std::string> l;\n",
    "std::string s;\n",
    "while (std::cin >> s && s != \";\")\n",
    "    l.push_back(s);"
   ]
  },
  {
   "cell_type": "code",
   "execution_count": 2,
   "id": "6175d12b-f677-478d-bf58-7621c422207d",
   "metadata": {},
   "outputs": [
    {
     "data": {
      "text/plain": [
       "{ \"let's\", \"test\", \"this\" }"
      ]
     },
     "execution_count": 2,
     "metadata": {},
     "output_type": "execute_result"
    }
   ],
   "source": [
    "l"
   ]
  },
  {
   "cell_type": "code",
   "execution_count": 3,
   "id": "cb089897-9cae-4264-99df-80f859066047",
   "metadata": {},
   "outputs": [
    {
     "name": "stdout",
     "output_type": "stream",
     "text": [
      "let's test this "
     ]
    }
   ],
   "source": [
    "for (auto it = l.cbegin(); it != l.cend(); ++it)\n",
    "    std::cout << *it << \" \";"
   ]
  },
  {
   "cell_type": "markdown",
   "id": "23266abc-d68e-44ba-895a-b8ba82567327",
   "metadata": {},
   "source": [
    "A:\n",
    "\n",
    "Didn't have to make any extra changes except change the type of container from `deque` to `list`"
   ]
  },
  {
   "cell_type": "markdown",
   "id": "f09e4a56-f034-4155-aafc-684f36b2b559",
   "metadata": {},
   "source": [
    "### Exercise 9.20:\n",
    " Write a program to copy elements from a `list<int>` into two `deque`s.\n",
    "The even-valued elements should go into one `deque` and the odd ones into the other."
   ]
  },
  {
   "cell_type": "code",
   "execution_count": 1,
   "id": "5d24ce8c-455c-462e-9bf3-de159233e096",
   "metadata": {},
   "outputs": [],
   "source": [
    "std::list<int> l = {1, 2, 3, 4, 5};\n",
    "std::deque<int> odd;\n",
    "std::deque<int> even;\n",
    "\n",
    "for (auto e : l)\n",
    "{\n",
    "    if (e % 2)\n",
    "        odd.push_back(e);\n",
    "    else\n",
    "        even.push_back(e);\n",
    "}"
   ]
  },
  {
   "cell_type": "code",
   "execution_count": 2,
   "id": "7eadd66e-7ac5-4cda-b932-70d64d22e5bc",
   "metadata": {},
   "outputs": [
    {
     "data": {
      "text/plain": [
       "{ 1, 3, 5 }"
      ]
     },
     "execution_count": 2,
     "metadata": {},
     "output_type": "execute_result"
    }
   ],
   "source": [
    "odd"
   ]
  },
  {
   "cell_type": "code",
   "execution_count": 3,
   "id": "fe9c4e16-4ab8-4f96-8d4c-4f71f0623794",
   "metadata": {},
   "outputs": [
    {
     "data": {
      "text/plain": [
       "{ 2, 4 }"
      ]
     },
     "execution_count": 3,
     "metadata": {},
     "output_type": "execute_result"
    }
   ],
   "source": [
    "even"
   ]
  },
  {
   "cell_type": "markdown",
   "id": "92baf7e7-3761-44e7-a3fe-75ce5ec903e3",
   "metadata": {},
   "source": [
    "### Exercise 9.21:\n",
    " Explain how the loop from page 345 that used the `return` from insert to add elements to a `list` \n",
    "```\n",
    "list<string> lst;\n",
    "auto iter = lst.begin();\n",
    "while (cin >> word)\n",
    "    iter = lst.insert(iter, word); // same as calling push_front\n",
    "```\n",
    " would work if we inserted into a `vector` instead."
   ]
  },
  {
   "cell_type": "markdown",
   "id": "04943b1d-29d8-4ac2-a59d-8b66f0198935",
   "metadata": {},
   "source": [
    "A:\n",
    "\n",
    "the result with `vector` will be exactly the same as with `list`, except with `vector` the performance will be worse as the whole vector will need to be moved in memory on every `insert`"
   ]
  },
  {
   "cell_type": "code",
   "execution_count": 1,
   "id": "fd869e09-9c53-411f-9e33-8b48680348f4",
   "metadata": {},
   "outputs": [
    {
     "name": "stdin",
     "output_type": "stream",
     "text": [
      " let's test this one\n",
      " ;\n"
     ]
    }
   ],
   "source": [
    "#include <iostream>\n",
    "std::vector<std::string> lst;\n",
    "auto iter = lst.begin();\n",
    "std::string word;\n",
    "while (std::cin >> word && word != \";\")\n",
    "    iter = lst.insert(iter, word); // same as calling push_front"
   ]
  },
  {
   "cell_type": "code",
   "execution_count": 2,
   "id": "5573f21d-c3a8-49a2-8a67-59b0d2b709aa",
   "metadata": {},
   "outputs": [
    {
     "data": {
      "text/plain": [
       "{ \"one\", \"this\", \"test\", \"let's\" }"
      ]
     },
     "execution_count": 2,
     "metadata": {},
     "output_type": "execute_result"
    }
   ],
   "source": [
    "lst"
   ]
  },
  {
   "cell_type": "markdown",
   "id": "d6ce4808-4fe0-4d6e-8cae-a9dade33a8f1",
   "metadata": {},
   "source": [
    "### Exercise 9.22:\n",
    " Assuming `iv` is a `vector` of `int`s, what is wrong with the following\n",
    "program? How might you correct the problem(s)?\n",
    "```\n",
    "vector<int>::iterator iter = iv.begin(),\n",
    "mid = iv.begin() + iv.size()/2;\n",
    "while (iter != mid)\n",
    "    if (*iter == some_val)\n",
    "        iv.insert(iter, 2 * some_val);\n",
    "```"
   ]
  },
  {
   "cell_type": "markdown",
   "id": "c32fb8d6-9521-41b8-b918-b228cb8041b1",
   "metadata": {},
   "source": [
    "A:\n",
    "\n",
    "`mid` iterator will be invalid after the first `insert`, so the `while`'s condition is in error. We also don't change the value of `iter`.  \n",
    "Fixed version:\n",
    "```\n",
    "vector<int>::iterator iter = iv.begin(),\n",
    "while (iter != (iv.begin() + iv.size()/2))\n",
    "{\n",
    "    if (*iter == some_val)\n",
    "    {\n",
    "        iter = iv.insert(iter, 2 * some_val) + 1;\n",
    "        if (iter == (iv.begin() + iv.size()/2))\n",
    "            break;\n",
    "    }\n",
    "    ++iter;\n",
    "}\n",
    "```"
   ]
  },
  {
   "cell_type": "markdown",
   "id": "9c68cfbc-22eb-40f7-81d5-0a911f032756",
   "metadata": {},
   "source": [
    "## EXERCISES SECTION 9.3.2"
   ]
  },
  {
   "cell_type": "markdown",
   "id": "a4e8bfca-fccb-44ee-ab7d-5a06efa3cad6",
   "metadata": {},
   "source": [
    "### Exercise 9.23:\n",
    " In the first program in this section on page 346,\n",
    "```\n",
    " // check that there are elements before dereferencing an iterator or calling front or back\n",
    "if (!c.empty()) {\n",
    "    // val and val2 are copies of the value of the first element in c\n",
    "    auto val = *c.begin(), val2 = c.front();\n",
    "    // val3 and val4 are copies of the of the last element in c\n",
    "    auto last = c.end();\n",
    "    auto val3 = *(--last); // can’t decrement forward_list iterators\n",
    "    auto val4 = c.back(); // not supported by forward_list\n",
    "}\n",
    "```\n",
    " what would the values\n",
    "of `val`, `val2`, `val3`, and `val4` be if `c.size()` is `1`?"
   ]
  },
  {
   "cell_type": "markdown",
   "id": "1781f0a8-43e4-42b7-82d6-67e5f824040f",
   "metadata": {},
   "source": [
    "A:\n",
    "\n",
    "they would all have the same value of the only element in `c`"
   ]
  },
  {
   "cell_type": "markdown",
   "id": "b2c68bd1-a571-4817-be1b-9f909c13e6a2",
   "metadata": {},
   "source": [
    "### Exercise 9.24:\n",
    " Write a program that fetches the first element in a `vector` using `at`,\n",
    "the subscript operator, `front`, and `begin`. Test your program on an empty `vector`."
   ]
  },
  {
   "cell_type": "code",
   "execution_count": 1,
   "id": "86bb5457-9340-4a61-af01-af1675e6f046",
   "metadata": {},
   "outputs": [],
   "source": [
    "std::vector<int> v = {3, 6, 9};"
   ]
  },
  {
   "cell_type": "code",
   "execution_count": 2,
   "id": "2cb39aac-fb91-47f4-aad3-9b715e8b756a",
   "metadata": {},
   "outputs": [
    {
     "data": {
      "text/plain": [
       "3"
      ]
     },
     "execution_count": 2,
     "metadata": {},
     "output_type": "execute_result"
    }
   ],
   "source": [
    "v.at(0)"
   ]
  },
  {
   "cell_type": "code",
   "execution_count": 3,
   "id": "bc4e6406-95c5-4e7d-9785-6196ad4ef1a6",
   "metadata": {},
   "outputs": [
    {
     "data": {
      "text/plain": [
       "3"
      ]
     },
     "execution_count": 3,
     "metadata": {},
     "output_type": "execute_result"
    }
   ],
   "source": [
    "v[0]"
   ]
  },
  {
   "cell_type": "code",
   "execution_count": 4,
   "id": "6ecc85a1-b273-4407-88c5-c017c5142fc8",
   "metadata": {},
   "outputs": [
    {
     "data": {
      "text/plain": [
       "3"
      ]
     },
     "execution_count": 4,
     "metadata": {},
     "output_type": "execute_result"
    }
   ],
   "source": [
    "v.front()"
   ]
  },
  {
   "cell_type": "code",
   "execution_count": 5,
   "id": "c5845b05-3346-4385-addc-c453d4c2e6c0",
   "metadata": {},
   "outputs": [
    {
     "data": {
      "text/plain": [
       "3"
      ]
     },
     "execution_count": 5,
     "metadata": {},
     "output_type": "execute_result"
    }
   ],
   "source": [
    "*(v.begin())"
   ]
  },
  {
   "cell_type": "code",
   "execution_count": 1,
   "id": "757752d9-6206-4021-b3f4-6825194c1999",
   "metadata": {},
   "outputs": [],
   "source": [
    "std::vector<int> v;"
   ]
  },
  {
   "cell_type": "code",
   "execution_count": 2,
   "id": "1c931a19-d5e7-4254-b4f8-e5f74136093c",
   "metadata": {},
   "outputs": [
    {
     "ename": "Standard Exception",
     "evalue": "vector::_M_range_check: __n (which is 0) >= this->size() (which is 0)",
     "output_type": "error",
     "traceback": [
      "Standard Exception: vector::_M_range_check: __n (which is 0) >= this->size() (which is 0)"
     ]
    }
   ],
   "source": [
    "v.at(0)"
   ]
  },
  {
   "cell_type": "code",
   "execution_count": null,
   "id": "27fe74bd-2929-4dd5-baec-5a8067400613",
   "metadata": {},
   "outputs": [],
   "source": [
    "v[0] // kills the kernel"
   ]
  },
  {
   "cell_type": "code",
   "execution_count": null,
   "id": "1f3896fb-d1fa-41c7-ac81-928c1835db78",
   "metadata": {},
   "outputs": [],
   "source": [
    "v.front() // kills the kernel"
   ]
  },
  {
   "cell_type": "code",
   "execution_count": null,
   "id": "23041d94-3b50-4cb1-9c70-b9adb343f66c",
   "metadata": {},
   "outputs": [],
   "source": [
    "*(v.begin()) // kills the kernel"
   ]
  },
  {
   "cell_type": "markdown",
   "id": "a1f1853d-98c6-49e7-8c85-c78716fcfc75",
   "metadata": {},
   "source": [
    "## EXERCISES SECTION 9.3.3"
   ]
  },
  {
   "cell_type": "markdown",
   "id": "6bf03bb5-0fbc-41d1-8128-6a84d7322843",
   "metadata": {},
   "source": [
    "### Exercise 9.25:\n",
    " In the program on page 349 that erased a range of elements, \n",
    "```\n",
    "// delete the range of elements between two iterators\n",
    "// returns an iterator to the element just after the last removed element\n",
    "elem1 = slist.erase(elem1, elem2); // after the call elem1 == elem2\n",
    "```\n",
    "what happens if `elem1` and `elem2` are equal?\n",
    "What if `elem2` or both `elem1` and `elem2` are the off-the-end iterator?"
   ]
  },
  {
   "cell_type": "code",
   "execution_count": 1,
   "id": "4bb50406-2d96-4a27-b920-08e2d6c362c0",
   "metadata": {},
   "outputs": [
    {
     "data": {
      "text/plain": [
       "{ 1, 2, 3 }"
      ]
     },
     "execution_count": 1,
     "metadata": {},
     "output_type": "execute_result"
    }
   ],
   "source": [
    "// nothing removed if elem1 == elem2\n",
    "std::vector<int> v = {1, 2, 3};\n",
    "auto e = v.erase(v.cbegin(), v.cbegin());\n",
    "v"
   ]
  },
  {
   "cell_type": "code",
   "execution_count": 2,
   "id": "4780d6b6-eefa-4596-8037-218c08333762",
   "metadata": {},
   "outputs": [
    {
     "data": {
      "text/plain": [
       "true"
      ]
     },
     "execution_count": 2,
     "metadata": {},
     "output_type": "execute_result"
    }
   ],
   "source": [
    "(e == v.cbegin())"
   ]
  },
  {
   "cell_type": "code",
   "execution_count": 3,
   "id": "70113a4e-9e67-4658-9b4b-3a47b67a6223",
   "metadata": {},
   "outputs": [
    {
     "data": {
      "text/plain": [
       "{ 1, 2, 3 }"
      ]
     },
     "execution_count": 3,
     "metadata": {},
     "output_type": "execute_result"
    }
   ],
   "source": [
    "// nothing removed if elem1 == elem2 and both are off-the-end iterators\n",
    "std::vector<int> v = {1, 2, 3};\n",
    "auto e = v.erase(v.cend(), v.cend());\n",
    "v"
   ]
  },
  {
   "cell_type": "code",
   "execution_count": 4,
   "id": "d0095d06-999e-46da-90e6-bb232972d0e5",
   "metadata": {},
   "outputs": [
    {
     "data": {
      "text/plain": [
       "true"
      ]
     },
     "execution_count": 4,
     "metadata": {},
     "output_type": "execute_result"
    }
   ],
   "source": [
    "(e == v.cend())"
   ]
  },
  {
   "cell_type": "markdown",
   "id": "55e6d1f5-3d50-4c78-abae-df57a12b8859",
   "metadata": {},
   "source": [
    "### Exercise 9.26:\n",
    " Using the following definition of `ia`, copy `ia` into a `vector` and into a\n",
    "`list`. Use the single-iterator form of erase to remove the elements with odd values\n",
    "from your `list` and the even values from your `vector`.\n",
    "```\n",
    "int ia[] = { 0, 1, 1, 2, 3, 5, 8, 13, 21, 55, 89 };\n",
    "```"
   ]
  },
  {
   "cell_type": "code",
   "execution_count": 1,
   "id": "72c60c9e-65a4-45d5-b5fd-bf81fb1c6cb4",
   "metadata": {},
   "outputs": [],
   "source": [
    "int ia[] = { 0, 1, 1, 2, 3, 5, 8, 13, 21, 55, 89 };\n",
    "std::vector<int> vi(std::begin(ia), std::end(ia));\n",
    "std::list<int> li(std::begin(ia), std::end(ia));"
   ]
  },
  {
   "cell_type": "code",
   "execution_count": 2,
   "id": "58c0b48e-6c09-422d-9854-747e74b7309b",
   "metadata": {},
   "outputs": [
    {
     "data": {
      "text/plain": [
       "{ 0, 1, 1, 2, 3, 5, 8, 13, 21, 55, 89 }"
      ]
     },
     "execution_count": 2,
     "metadata": {},
     "output_type": "execute_result"
    }
   ],
   "source": [
    "vi"
   ]
  },
  {
   "cell_type": "code",
   "execution_count": 3,
   "id": "5eff48b4-1f1f-4ab6-b81a-2edd572cb445",
   "metadata": {},
   "outputs": [
    {
     "data": {
      "text/plain": [
       "{ 0, 1, 1, 2, 3, 5, 8, 13, 21, 55, 89 }"
      ]
     },
     "execution_count": 3,
     "metadata": {},
     "output_type": "execute_result"
    }
   ],
   "source": [
    "li"
   ]
  },
  {
   "cell_type": "code",
   "execution_count": 4,
   "id": "40437ab5-a5f0-44eb-8191-c6be9d5e23be",
   "metadata": {},
   "outputs": [
    {
     "data": {
      "text/plain": [
       "{ 0, 2, 8 }"
      ]
     },
     "execution_count": 4,
     "metadata": {},
     "output_type": "execute_result"
    }
   ],
   "source": [
    "for (auto it = vi.begin(); it != vi.end();)\n",
    "    if (*it % 2)\n",
    "        it = vi.erase(it);\n",
    "    else\n",
    "        ++it;\n",
    "vi"
   ]
  },
  {
   "cell_type": "code",
   "execution_count": 5,
   "id": "21ac27cd-5f23-460a-b91e-fc4c011f0614",
   "metadata": {},
   "outputs": [
    {
     "data": {
      "text/plain": [
       "{ 1, 1, 3, 5, 13, 21, 55, 89 }"
      ]
     },
     "execution_count": 5,
     "metadata": {},
     "output_type": "execute_result"
    }
   ],
   "source": [
    "for (auto it = li.begin(); it != li.end();)\n",
    "    if (*it % 2 == 0)\n",
    "        it = li.erase(it);\n",
    "    else\n",
    "        ++it;\n",
    "li"
   ]
  },
  {
   "cell_type": "markdown",
   "id": "f7a3032e-4f4c-4f9c-8a21-84779de29e89",
   "metadata": {},
   "source": [
    "## EXERCISES SECTION 9.3.4"
   ]
  },
  {
   "cell_type": "markdown",
   "id": "893bbf89-e989-4e2e-a982-f9fd933cf151",
   "metadata": {},
   "source": [
    "### Exercise 9.27:\n",
    " Write a program to find and remove the odd-valued elements in a\n",
    "`forward_list<int>`."
   ]
  },
  {
   "cell_type": "code",
   "execution_count": 1,
   "id": "b1255023-ec90-402b-99d5-12d7dab98495",
   "metadata": {},
   "outputs": [],
   "source": [
    "std::forward_list<int> li = { 0, 1, 1, 2, 3, 5, 8, 13, 21, 55, 89 };"
   ]
  },
  {
   "cell_type": "code",
   "execution_count": 2,
   "id": "6bb50302-eec0-4545-a894-b193fac99301",
   "metadata": {},
   "outputs": [
    {
     "data": {
      "text/plain": [
       "{ 0, 2, 8 }"
      ]
     },
     "execution_count": 2,
     "metadata": {},
     "output_type": "execute_result"
    }
   ],
   "source": [
    "auto prev = li.before_begin();\n",
    "for (auto it = li.begin(); it != li.end();)\n",
    "    if (*it % 2)\n",
    "        it = li.erase_after(prev);\n",
    "    else\n",
    "    {\n",
    "        prev = it;\n",
    "        ++it;\n",
    "    }\n",
    "li"
   ]
  },
  {
   "cell_type": "markdown",
   "id": "1a957f8e-d318-4d07-b07c-aae99a04ce30",
   "metadata": {},
   "source": [
    "### Exercise 9.28:\n",
    " Write a function that takes a `forward_list<string>` and two additional `string` arguments.\n",
    "The function should find the first `string` and insert the second immediately following the first.\n",
    "If the first `string` is not found, then insert the second `string` at the end of the list."
   ]
  },
  {
   "cell_type": "code",
   "execution_count": 1,
   "id": "0da0a098-ad4e-4e63-b4d5-65d29c5f4fde",
   "metadata": {},
   "outputs": [],
   "source": [
    "#include <iostream>"
   ]
  },
  {
   "cell_type": "code",
   "execution_count": 2,
   "id": "e7a95531-8a90-4675-884d-821bfb67fe98",
   "metadata": {},
   "outputs": [],
   "source": [
    "using std::forward_list, std::string;"
   ]
  },
  {
   "cell_type": "code",
   "execution_count": 3,
   "id": "b30bb303-4efc-4a99-99a9-baf06d830f32",
   "metadata": {},
   "outputs": [],
   "source": [
    "void insertString(forward_list<string> &fw, const string &s1, const string &s2)\n",
    "{\n",
    "    auto prev = fw.before_begin();\n",
    "    for (auto it = fw.begin(); it != fw.end(); ++it, ++prev)\n",
    "    {\n",
    "        if (*it == s1)\n",
    "        {\n",
    "            fw.insert_after(it, s2);\n",
    "            return;\n",
    "        }\n",
    "    }\n",
    "    fw.insert_after(prev, s2);\n",
    "}"
   ]
  },
  {
   "cell_type": "code",
   "execution_count": 4,
   "id": "553f40ad-abfe-40c6-94d7-08468c396660",
   "metadata": {},
   "outputs": [
    {
     "data": {
      "text/plain": [
       "{ \"one\", \"two\", \"two and a half\", \"three\" }"
      ]
     },
     "execution_count": 4,
     "metadata": {},
     "output_type": "execute_result"
    }
   ],
   "source": [
    "forward_list<string> f = {\"one\", \"two\", \"three\"};\n",
    "insertString(f, \"two\", \"two and a half\");\n",
    "f"
   ]
  },
  {
   "cell_type": "code",
   "execution_count": 5,
   "id": "197f30f1-f99b-48a5-865f-018db6c9efb8",
   "metadata": {},
   "outputs": [
    {
     "data": {
      "text/plain": [
       "{ \"one\", \"two\", \"three\", \"four and a half\" }"
      ]
     },
     "execution_count": 5,
     "metadata": {},
     "output_type": "execute_result"
    }
   ],
   "source": [
    "forward_list<string> f = {\"one\", \"two\", \"three\"};\n",
    "insertString(f, \"four\", \"four and a half\");\n",
    "f"
   ]
  },
  {
   "cell_type": "markdown",
   "id": "b95c1795-a8ed-49f8-a1c0-cfc204fe53c2",
   "metadata": {},
   "source": [
    "## EXERCISES SECTION 9.3.5"
   ]
  },
  {
   "cell_type": "markdown",
   "id": "942b6cdb-70ea-4bca-bcf7-65f8f13921a0",
   "metadata": {},
   "source": [
    "### Exercise 9.29:\n",
    " Given that `vec` holds 25 elements, what does `vec.resize(100)` do?\n",
    "What if we next wrote `vec.resize(10)`?"
   ]
  },
  {
   "cell_type": "markdown",
   "id": "308564ea-f9fb-4347-9705-ff344c13ad68",
   "metadata": {},
   "source": [
    "A:\n",
    "\n",
    "`vec.resize(100)` would add 75 `0` value elements at the end  \n",
    "`vec.resize(10)` would remove last 15 elements at the end"
   ]
  },
  {
   "cell_type": "markdown",
   "id": "c2ab1084-5df0-4b77-aa3c-468d713e9126",
   "metadata": {},
   "source": [
    "### Exercise 9.30:\n",
    " What, if any, restrictions does using the version of `resize` that takes a\n",
    "single argument place on the element type?"
   ]
  },
  {
   "cell_type": "markdown",
   "id": "79dd2e0c-0c66-4a0f-b07d-14cf220a29ca",
   "metadata": {},
   "source": [
    "A:\n",
    "\n",
    "element type must have a default constructor"
   ]
  },
  {
   "cell_type": "markdown",
   "id": "c7999c31-8b24-4b3c-957a-59b38cbc8ffb",
   "metadata": {},
   "source": [
    "## EXERCISES SECTION 9.3.6\n"
   ]
  },
  {
   "cell_type": "markdown",
   "id": "33402cc8-38ed-4bea-923d-9c9d7743b125",
   "metadata": {},
   "source": [
    "### Exercise 9.31:\n",
    " The program on page 354 to remove even-valued elements and \n",
    "duplicate odd ones\n",
    "```\n",
    "// silly loop to remove even-valued elements and insert a duplicate of odd-valued elements\n",
    "vector<int> vi = {0,1,2,3,4,5,6,7,8,9};\n",
    "auto iter = vi.begin(); // call begin, not cbegin because we’re changing vi\n",
    "while (iter != vi.end()) {\n",
    "    if (*iter % 2) {\n",
    "        iter = vi.insert(iter, *iter); // duplicate the current element\n",
    "        iter += 2; // advance past this element and the one inserted before it\n",
    "    } else\n",
    "        iter = vi.erase(iter); // remove even elements\n",
    "        // don’t advance the iterator; iter denotes the element after the one we erased\n",
    "}\n",
    "```\n",
    "will not work on a `list` or `forward_list`. \n",
    "Why? Revise the program so that it works on these types as well."
   ]
  },
  {
   "cell_type": "code",
   "execution_count": null,
   "id": "2942db83-6df2-4a7e-b299-f4c90081c6e3",
   "metadata": {},
   "outputs": [],
   "source": []
  },
  {
   "cell_type": "markdown",
   "id": "f3472fdf-8002-441f-8a9f-454a57927f44",
   "metadata": {},
   "source": [
    "### Exercise 9.32:\n",
    " In the program on page 354 would it be legal to write the call to `insert`\n",
    "as follows? If not, why not?\n",
    "```\n",
    "iter = vi.insert(iter, *iter++);\n",
    "```"
   ]
  },
  {
   "cell_type": "code",
   "execution_count": null,
   "id": "fd102e7f-ed6a-4c22-bb6c-3f266b29e1bb",
   "metadata": {},
   "outputs": [],
   "source": []
  },
  {
   "cell_type": "markdown",
   "id": "df45b44c-2d7c-4192-ac23-0274fc97d8cd",
   "metadata": {},
   "source": [
    "### Exercise 9.33:\n",
    " In the final example in this section what would happen if we did not\n",
    "assign the result of `insert` to begin? Write a program that omits this assignment to\n",
    "see if your expectation was correct."
   ]
  },
  {
   "cell_type": "code",
   "execution_count": null,
   "id": "601416a9-fc90-4268-8800-fec8d19ad3c9",
   "metadata": {},
   "outputs": [],
   "source": []
  },
  {
   "cell_type": "markdown",
   "id": "17e27413-7091-49b3-b2b9-dfe0bbeb2362",
   "metadata": {},
   "source": [
    "### Exercise 9.34:\n",
    " Assuming `vi` is a container of `int`s that includes even and odd values,\n",
    "predict the behavior of the following loop. After you’ve analyzed this loop, write a\n",
    "program to test whether your expectations were correct.\n",
    "```\n",
    "iter = vi.begin();\n",
    "while (iter != vi.end())\n",
    "    if (*iter % 2)\n",
    "        iter = vi.insert(iter, *iter);\n",
    "    ++iter;\n",
    "```"
   ]
  },
  {
   "cell_type": "code",
   "execution_count": null,
   "id": "d7fe8bc8-37ed-4d79-8ade-1bff3f7b136c",
   "metadata": {},
   "outputs": [],
   "source": []
  },
  {
   "cell_type": "markdown",
   "id": "9671bb6b-eab2-4ccb-997f-bfa6c861bbfd",
   "metadata": {},
   "source": [
    "## EXERCISES SECTION 9.4"
   ]
  },
  {
   "cell_type": "markdown",
   "id": "997bf68b-0ede-4c7c-b28c-28f11ac564bc",
   "metadata": {},
   "source": [
    "### Exercise 9.35:\n",
    " Explain the difference between a `vector`’s `capacity` and its `size`."
   ]
  },
  {
   "cell_type": "code",
   "execution_count": null,
   "id": "c87b0703-407e-4057-9081-1527c99eb734",
   "metadata": {},
   "outputs": [],
   "source": []
  },
  {
   "cell_type": "markdown",
   "id": "1e4e922e-a679-49a9-b917-d2e9271a8028",
   "metadata": {},
   "source": [
    "### Exercise 9.36:\n",
    " Can a container have a `capacity` less than its `size`?"
   ]
  },
  {
   "cell_type": "code",
   "execution_count": null,
   "id": "0f1a371b-e91e-40d3-a592-bbd5f0676b64",
   "metadata": {},
   "outputs": [],
   "source": []
  },
  {
   "cell_type": "markdown",
   "id": "4177f551-81b3-4aa8-a5e4-c48d58fd58d5",
   "metadata": {},
   "source": [
    "### Exercise 9.37:\n",
    " Why don’t `list` or `array` have a `capacity` member?"
   ]
  },
  {
   "cell_type": "code",
   "execution_count": null,
   "id": "2c78a301-21d5-4b3b-b121-8cdfb2b9e9c8",
   "metadata": {},
   "outputs": [],
   "source": []
  },
  {
   "cell_type": "markdown",
   "id": "39bf5eef-a127-4cc5-96df-4e660cd9e8b9",
   "metadata": {},
   "source": [
    "### Exercise 9.38:\n",
    " Write a program to explore how `vector`s grow in the library you use."
   ]
  },
  {
   "cell_type": "code",
   "execution_count": null,
   "id": "4176cc3d-b685-48fd-8bbc-ee7925e333ac",
   "metadata": {},
   "outputs": [],
   "source": []
  },
  {
   "cell_type": "markdown",
   "id": "f9402d06-a315-43a6-8202-e610b551bb80",
   "metadata": {},
   "source": [
    "### Exercise 9.39:\n",
    " Explain what the following program fragment does:\n",
    "```\n",
    "vector<string> svec;\n",
    "svec.reserve(1024);\n",
    "string word;\n",
    "while (cin >> word)\n",
    "    svec.push_back(word);\n",
    "svec.resize(svec.size()+svec.size()/2);\n",
    "```"
   ]
  },
  {
   "cell_type": "code",
   "execution_count": null,
   "id": "a680f5d6-2509-4de9-82a7-83e539ec74e0",
   "metadata": {},
   "outputs": [],
   "source": []
  },
  {
   "cell_type": "markdown",
   "id": "e5d529a4-f2dd-4588-974b-b22f46a84c6c",
   "metadata": {},
   "source": [
    "### Exercise 9.40:\n",
    " If the program in the previous exercise reads 256 words, what is its\n",
    "likely `capacity` after it is resized? What if it reads 512? 1,000? 1,048?"
   ]
  },
  {
   "cell_type": "code",
   "execution_count": null,
   "id": "e2f3c043-dbb0-4326-a76b-d54c853bea80",
   "metadata": {},
   "outputs": [],
   "source": []
  },
  {
   "cell_type": "markdown",
   "id": "49d91e9c-4dbd-4547-b20f-983dab4d520d",
   "metadata": {},
   "source": [
    "## EXERCISES SECTION 9.5.1"
   ]
  },
  {
   "cell_type": "markdown",
   "id": "267d97d9-d8a9-4d06-aadb-b6c9f9462a3a",
   "metadata": {},
   "source": [
    "### Exercise 9.41:\n",
    " Write a program that initializes a string from a `vector<char>`."
   ]
  },
  {
   "cell_type": "code",
   "execution_count": null,
   "id": "64afb816-151e-4c79-8c80-dbc04bf61fd2",
   "metadata": {},
   "outputs": [],
   "source": []
  },
  {
   "cell_type": "markdown",
   "id": "599ad3ed-3dc2-45fd-9555-da01ee49e43c",
   "metadata": {},
   "source": [
    "### Exercise 9.42:\n",
    " Given that you want to read a character at a time into a `string`, and\n",
    "you know that you need to read at least 100 characters, how might you improve the\n",
    "performance of your program?"
   ]
  },
  {
   "cell_type": "code",
   "execution_count": null,
   "id": "6fdfdc54-d751-4590-8911-10e17fb46b1b",
   "metadata": {},
   "outputs": [],
   "source": []
  },
  {
   "cell_type": "markdown",
   "id": "f380eb4f-cdae-4d89-b3ff-7dc80050af26",
   "metadata": {},
   "source": [
    "## EXERCISES SECTION 9.5.2"
   ]
  },
  {
   "cell_type": "markdown",
   "id": "203b8780-e243-4ff4-b57d-3a7c58e80be3",
   "metadata": {},
   "source": [
    "### Exercise 9.43:\n",
    " Write a function that takes three `string`s, `s`, `oldVal`, and `newVal`.\n",
    "Using iterators, and the `insert` and `erase` functions replace all instances of `oldVal`\n",
    "that appear in `s` by `newVal`. Test your function by using it to replace common abbreviations,\n",
    "such as \"tho\" by \"though\" and \"thru\" by \"through\"."
   ]
  },
  {
   "cell_type": "code",
   "execution_count": null,
   "id": "8291fde1-9ff9-4b43-8334-ec2dd0f35708",
   "metadata": {},
   "outputs": [],
   "source": []
  },
  {
   "cell_type": "markdown",
   "id": "935429a5-ef20-4e2b-9d29-5062d8468389",
   "metadata": {},
   "source": [
    "### Exercise 9.44:\n",
    " Rewrite the previous function using an index and `replace`.\n"
   ]
  },
  {
   "cell_type": "code",
   "execution_count": null,
   "id": "1a45f164-f190-495a-a987-813a54985e53",
   "metadata": {},
   "outputs": [],
   "source": []
  },
  {
   "cell_type": "markdown",
   "id": "faa0ea6e-f56c-425d-8b60-3eca3b24f864",
   "metadata": {},
   "source": [
    "### Exercise 9.45:\n",
    " Write a function that takes a `string` representing a name and two other\n",
    "`string`s representing a prefix, such as \"Mr.\" or \"Ms.\" and a suffix, such as \"Jr.\" or\n",
    "\"III\". Using iterators and the `insert` and `append` functions, generate and return a\n",
    "new `string` with the suffix and prefix added to the given name."
   ]
  },
  {
   "cell_type": "code",
   "execution_count": null,
   "id": "36b5ae7d-174b-4369-ace6-59dff8c0320e",
   "metadata": {},
   "outputs": [],
   "source": []
  },
  {
   "cell_type": "markdown",
   "id": "c439fa9e-5e19-494c-bd45-0d6cdd11edb1",
   "metadata": {},
   "source": [
    "### Exercise 9.46:\n",
    " Rewrite the previous exercise using a position and length to manage\n",
    "the `string`s. This time use only the `insert` function."
   ]
  },
  {
   "cell_type": "code",
   "execution_count": null,
   "id": "d89b972b-34d8-40c6-b11a-09b7f2252444",
   "metadata": {},
   "outputs": [],
   "source": []
  },
  {
   "cell_type": "markdown",
   "id": "504e980d-f812-4a1f-93a8-23a2492a7d49",
   "metadata": {},
   "source": [
    "## EXERCISES SECTION 9.5.3"
   ]
  },
  {
   "cell_type": "markdown",
   "id": "6c0cc00b-a835-4797-9c02-d478d878c7b8",
   "metadata": {},
   "source": [
    "### Exercise 9.47:\n",
    " Write a program that finds each numeric character and then each \n",
    "alphabetic character in the `string` `\"ab2c3d7R4E6\"`. Write two versions of the program.\n",
    "The first should use `find_first_of`, and the second `find_first_not_of`."
   ]
  },
  {
   "cell_type": "code",
   "execution_count": null,
   "id": "8a264d59-c27a-47f1-a7c6-7400c2af70e0",
   "metadata": {},
   "outputs": [],
   "source": []
  },
  {
   "cell_type": "markdown",
   "id": "03e5b340-0db9-419e-999b-143bc768faa3",
   "metadata": {},
   "source": [
    "### Exercise 9.48:\n",
    " Given the definitions of name and numbers on page 365, what does\n",
    "`numbers.find(name)` return?"
   ]
  },
  {
   "cell_type": "code",
   "execution_count": null,
   "id": "136e0a86-aa9e-4e8d-a537-743086cae0f5",
   "metadata": {},
   "outputs": [],
   "source": []
  },
  {
   "cell_type": "markdown",
   "id": "d9946411-989b-4e8a-a2db-a6f6fc221985",
   "metadata": {},
   "source": [
    "### Exercise 9.49:\n",
    " A letter has an ascender if, as with d or f, part of the letter extends\n",
    "above the middle of the line. A letter has a descender if, as with p or g, part of the\n",
    "letter extends below the line. Write a program that reads a file containing words and\n",
    "reports the longest word that contains neither ascenders nor descenders."
   ]
  },
  {
   "cell_type": "code",
   "execution_count": null,
   "id": "29ee068e-bc33-4caa-ad24-942ba201f2b4",
   "metadata": {},
   "outputs": [],
   "source": []
  },
  {
   "cell_type": "markdown",
   "id": "b1fa3ea1-4a19-46d4-bb5a-f14d3f5e9ab3",
   "metadata": {},
   "source": [
    "## EXERCISES SECTION 9.5.5"
   ]
  },
  {
   "cell_type": "markdown",
   "id": "69ab8761-b13d-4b61-aec2-2b2453e4edf4",
   "metadata": {},
   "source": [
    "### Exercise 9.50:\n",
    " Write a program to process a `vector<string>`s whose elements \n",
    "represent integral values. Produce the sum of all the elements in that `vector`. Change\n",
    "the program so that it sums of `string`s that represent floating-point values."
   ]
  },
  {
   "cell_type": "code",
   "execution_count": null,
   "id": "bbe31f0f-9fb2-4432-b323-61a97cab80f6",
   "metadata": {},
   "outputs": [],
   "source": []
  },
  {
   "cell_type": "markdown",
   "id": "895c1507-f803-412e-a25b-e83dc366306e",
   "metadata": {},
   "source": [
    "### Exercise 9.51:\n",
    " Write a class that has three `unsigned` members representing year,\n",
    "month, and day. Write a constructor that takes a `string` representing a date. Your\n",
    "constructor should handle a variety of date formats, such as `January 1, 1900`, `1/1/1900`,\n",
    "`Jan 1, 1900`, and so on."
   ]
  },
  {
   "cell_type": "code",
   "execution_count": null,
   "id": "9cc1db36-40e3-4f69-be31-95fb40447c4a",
   "metadata": {},
   "outputs": [],
   "source": []
  },
  {
   "cell_type": "markdown",
   "id": "79dd383c-ee19-4746-a73d-e72e90004b8f",
   "metadata": {},
   "source": [
    "## EXERCISES SECTION 9.6"
   ]
  },
  {
   "cell_type": "markdown",
   "id": "dbbe95ad-ad99-4330-8596-490a0274744d",
   "metadata": {},
   "source": [
    "### Exercise 9.52:\n",
    " Use a `stack` to process parenthesized expressions. When you see an\n",
    "open parenthesis, note that it was seen. When you see a close parenthesis after an open\n",
    "parenthesis, pop elements down to and including the open parenthesis off the stack.\n",
    "push a value onto the stack to indicate that a parenthesized expression was replaced."
   ]
  },
  {
   "cell_type": "code",
   "execution_count": null,
   "id": "9f87b923-1f0b-4e1b-86b1-ca9dafde36db",
   "metadata": {},
   "outputs": [],
   "source": []
  }
 ],
 "metadata": {
  "kernelspec": {
   "display_name": "C++17",
   "language": "C++17",
   "name": "xcpp17"
  },
  "language_info": {
   "codemirror_mode": "text/x-c++src",
   "file_extension": ".cpp",
   "mimetype": "text/x-c++src",
   "name": "c++",
   "version": "17"
  }
 },
 "nbformat": 4,
 "nbformat_minor": 5
}
