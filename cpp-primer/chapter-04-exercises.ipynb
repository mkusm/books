{
 "cells": [
  {
   "cell_type": "markdown",
   "id": "700469e7-d9a4-45c3-b0e4-759078112e51",
   "metadata": {},
   "source": [
    "# Chapter 4 Expressions"
   ]
  },
  {
   "cell_type": "markdown",
   "id": "352afe68-0be8-42f0-bac0-f9372451cc95",
   "metadata": {
    "jp-MarkdownHeadingCollapsed": true,
    "tags": []
   },
   "source": [
    "## Exercises Section 4.1.2"
   ]
  },
  {
   "cell_type": "markdown",
   "id": "4b8eb9a9-6e72-4273-a0ba-c774679fc76b",
   "metadata": {},
   "source": [
    "### Exercise 4.1:\n",
    "What is the value returned by 5 + 10 * 20/2?"
   ]
  },
  {
   "cell_type": "markdown",
   "id": "e27598b8-e5b4-4f03-a1ae-805dcfd64f20",
   "metadata": {},
   "source": [
    "A: 105, as it's the same as `5 + ((10*20) / 2)`"
   ]
  },
  {
   "cell_type": "code",
   "execution_count": 5,
   "id": "a8a60954-81f5-4e54-a0fc-8f2be082e0c9",
   "metadata": {},
   "outputs": [
    {
     "data": {
      "text/plain": [
       "105"
      ]
     },
     "execution_count": 5,
     "metadata": {},
     "output_type": "execute_result"
    }
   ],
   "source": [
    "5 + 10 * 20/2"
   ]
  },
  {
   "cell_type": "markdown",
   "id": "f3f23f77-32ec-49e2-a47f-f6e9f22f1e89",
   "metadata": {},
   "source": [
    "### Exercise 4.2:\n",
    "Using Table 4.12 (p. 166), parenthesize the following expressions to indicate the order in which the operands are grouped:  \n",
    "(a) `* vec.begin()`  \n",
    "(b) `* vec.begin() + 1`"
   ]
  },
  {
   "cell_type": "markdown",
   "id": "32fd2274-8ab9-487f-8bb8-b2897d852347",
   "metadata": {},
   "source": [
    "A:\n",
    "\n",
    "order: `.`, `()`, `*`, `+`  \n",
    "a) `* ((vec.begin)())`  \n",
    "a) `(* ((vec.begin)())) + 1`"
   ]
  },
  {
   "cell_type": "markdown",
   "id": "b8434006-8505-4737-b9be-05e162f0886c",
   "metadata": {
    "jp-MarkdownHeadingCollapsed": true,
    "tags": []
   },
   "source": [
    "## Exercises Section 4.1.3"
   ]
  },
  {
   "cell_type": "markdown",
   "id": "323cd4ac-d043-4a51-8460-34dd03c60c78",
   "metadata": {},
   "source": [
    "### Exercise 4.3:\n",
    "Order of evaluation for most of the binary operators is left undefined\n",
    "to give the compiler opportunities for optimization. This strategy presents a trade-off\n",
    "between efficient code generation and potential pitfalls in the use of the language by\n",
    "the programmer. Do you consider that an acceptable trade-off? Why or why not?"
   ]
  },
  {
   "cell_type": "markdown",
   "id": "92332d83-0a28-437a-bb47-21f84ac9e291",
   "metadata": {},
   "source": [
    "A:\n",
    "\n",
    "It's a trade off that makes sense in a low-level language such as C++ where performance is key"
   ]
  },
  {
   "cell_type": "markdown",
   "id": "9c7d2990-f961-45c6-b615-cd3a7527c946",
   "metadata": {
    "jp-MarkdownHeadingCollapsed": true,
    "tags": []
   },
   "source": [
    "## Exercises Section 4.2"
   ]
  },
  {
   "cell_type": "markdown",
   "id": "87a9a3a0-a78f-4d69-8de0-27d96fdfcefa",
   "metadata": {},
   "source": [
    "### Exercise 4.4:\n",
    "Parenthesize the following expression to show how it is evaluated. Test\n",
    "your answer by compiling the expression (without parentheses) and printing its result.\n",
    "```\n",
    "12 / 3 * 4 + 5 * 15 + 24 % 4 / 2\n",
    "```"
   ]
  },
  {
   "cell_type": "code",
   "execution_count": 2,
   "id": "77250a54-e518-4242-a67f-e480346a1a0b",
   "metadata": {},
   "outputs": [
    {
     "data": {
      "text/plain": [
       "91"
      ]
     },
     "execution_count": 2,
     "metadata": {},
     "output_type": "execute_result"
    }
   ],
   "source": [
    "((12 / 3) * 4) + (5 * 15) + ((24 % 4) / 2)"
   ]
  },
  {
   "cell_type": "code",
   "execution_count": 3,
   "id": "205d6dc9-d813-4f18-96f1-68431e85e801",
   "metadata": {},
   "outputs": [
    {
     "data": {
      "text/plain": [
       "91"
      ]
     },
     "execution_count": 3,
     "metadata": {},
     "output_type": "execute_result"
    }
   ],
   "source": [
    "12 / 3 * 4 + 5 * 15 + 24 % 4 / 2"
   ]
  },
  {
   "cell_type": "markdown",
   "id": "171f6f4e-0e04-45b0-a342-79be33991bba",
   "metadata": {},
   "source": [
    "### Exercise 4.5:\n",
    "Determine the result of the following expressions.  \n",
    "(a) `-30 * 3 + 21 / 5`  \n",
    "(b) `-30 + 3 * 21 / 5`  \n",
    "(c) `30 / 3 * 21 % 5`  \n",
    "(d) `-30 / 3 * 21 % 4`"
   ]
  },
  {
   "cell_type": "markdown",
   "id": "b978995a-e2b7-4ee9-b548-8bbb93c5fcc1",
   "metadata": {},
   "source": [
    "A:\n",
    "\n",
    "a) -90 + 4 == -86  \n",
    "b) -30 + 12 == -18  \n",
    "c) 210 % 5 == 0  \n",
    "d) -210 & 4 == -2"
   ]
  },
  {
   "cell_type": "code",
   "execution_count": 6,
   "id": "7db9b9d0-a782-4fd5-a664-7d8bd7aefd0f",
   "metadata": {},
   "outputs": [
    {
     "data": {
      "text/plain": [
       "-86"
      ]
     },
     "execution_count": 6,
     "metadata": {},
     "output_type": "execute_result"
    }
   ],
   "source": [
    "-30 * 3 + 21 / 5"
   ]
  },
  {
   "cell_type": "code",
   "execution_count": 7,
   "id": "5bbf79fb-6a89-4135-bbb0-a468de75ffc6",
   "metadata": {},
   "outputs": [
    {
     "data": {
      "text/plain": [
       "-18"
      ]
     },
     "execution_count": 7,
     "metadata": {},
     "output_type": "execute_result"
    }
   ],
   "source": [
    "-30 + 3 * 21 / 5"
   ]
  },
  {
   "cell_type": "code",
   "execution_count": 8,
   "id": "a765bebb-f7da-4445-8dfd-64ad71408d88",
   "metadata": {},
   "outputs": [
    {
     "data": {
      "text/plain": [
       "0"
      ]
     },
     "execution_count": 8,
     "metadata": {},
     "output_type": "execute_result"
    }
   ],
   "source": [
    "30 / 3 * 21 % 5"
   ]
  },
  {
   "cell_type": "code",
   "execution_count": 9,
   "id": "742e6de6-6e52-4848-bf35-469d703aaf14",
   "metadata": {},
   "outputs": [
    {
     "data": {
      "text/plain": [
       "-2"
      ]
     },
     "execution_count": 9,
     "metadata": {},
     "output_type": "execute_result"
    }
   ],
   "source": [
    "-30 / 3 * 21 % 4"
   ]
  },
  {
   "cell_type": "markdown",
   "id": "185011c3-2a2b-42e5-a9db-9ee72ce6e786",
   "metadata": {},
   "source": [
    "### Exercise 4.6:\n",
    "Write an expression to determine whether an int value is even or odd."
   ]
  },
  {
   "cell_type": "code",
   "execution_count": 13,
   "id": "a0fb3289-0319-4905-90c8-ae672757778e",
   "metadata": {},
   "outputs": [
    {
     "data": {
      "text/plain": [
       "\"even\""
      ]
     },
     "execution_count": 13,
     "metadata": {},
     "output_type": "execute_result"
    }
   ],
   "source": [
    "int i = 4;\n",
    "i % 2 == 0 ? \"even\" : \"odd\""
   ]
  },
  {
   "cell_type": "code",
   "execution_count": 14,
   "id": "ee9af133-ae70-426b-8f80-1d397ad7f2c4",
   "metadata": {},
   "outputs": [
    {
     "data": {
      "text/plain": [
       "\"odd\""
      ]
     },
     "execution_count": 14,
     "metadata": {},
     "output_type": "execute_result"
    }
   ],
   "source": [
    "int i = 3;\n",
    "i % 2 == 0 ? \"even\" : \"odd\""
   ]
  },
  {
   "cell_type": "markdown",
   "id": "dc6adbb5-cdc2-4d82-b0da-a4cd359f0381",
   "metadata": {},
   "source": [
    "### Exercise 4.7:\n",
    "What does overflow mean? Show three expressions that will overflow."
   ]
  },
  {
   "cell_type": "code",
   "execution_count": 1,
   "id": "6ca73da4-d8a5-4fc5-96d5-b3b90ac57884",
   "metadata": {},
   "outputs": [],
   "source": [
    "#include <climits>"
   ]
  },
  {
   "cell_type": "code",
   "execution_count": 2,
   "id": "013f3f59-1f0d-4d7b-9fda-1efc4bad66f6",
   "metadata": {},
   "outputs": [
    {
     "data": {
      "text/plain": [
       "2147483647"
      ]
     },
     "execution_count": 2,
     "metadata": {},
     "output_type": "execute_result"
    }
   ],
   "source": [
    "INT_MAX"
   ]
  },
  {
   "cell_type": "code",
   "execution_count": 3,
   "id": "c144b2f8-e74b-46fe-94b6-90e462cfd026",
   "metadata": {},
   "outputs": [
    {
     "data": {
      "text/plain": [
       "-2147483648"
      ]
     },
     "execution_count": 3,
     "metadata": {},
     "output_type": "execute_result"
    }
   ],
   "source": [
    "int i = 2147483647;\n",
    "++i"
   ]
  },
  {
   "cell_type": "code",
   "execution_count": 4,
   "id": "1e9aa4dd-e0dc-4642-b09f-5abfa39d219c",
   "metadata": {},
   "outputs": [
    {
     "data": {
      "text/plain": [
       "65535"
      ]
     },
     "execution_count": 4,
     "metadata": {},
     "output_type": "execute_result"
    }
   ],
   "source": [
    "USHRT_MAX"
   ]
  },
  {
   "cell_type": "code",
   "execution_count": 5,
   "id": "c9af6dbe-12ed-44b0-a7cc-4d69fea3b50d",
   "metadata": {},
   "outputs": [
    {
     "data": {
      "text/plain": [
       "65535"
      ]
     },
     "execution_count": 5,
     "metadata": {},
     "output_type": "execute_result"
    }
   ],
   "source": [
    "unsigned short j = 0;\n",
    "--j"
   ]
  },
  {
   "cell_type": "code",
   "execution_count": 6,
   "id": "ead06f34-ca95-4bf7-b228-65beeacef099",
   "metadata": {},
   "outputs": [
    {
     "data": {
      "text/plain": [
       "-32768"
      ]
     },
     "execution_count": 6,
     "metadata": {},
     "output_type": "execute_result"
    }
   ],
   "source": [
    "SHRT_MIN"
   ]
  },
  {
   "cell_type": "code",
   "execution_count": 7,
   "id": "9644c0f9-3b88-4af2-8020-a14f7d9b9267",
   "metadata": {},
   "outputs": [
    {
     "data": {
      "text/plain": [
       "32763"
      ]
     },
     "execution_count": 7,
     "metadata": {},
     "output_type": "execute_result"
    }
   ],
   "source": [
    "short k = -32768;\n",
    "k -= 5;\n",
    "k"
   ]
  },
  {
   "cell_type": "markdown",
   "id": "1fb895de-ee04-4948-996f-8d92218d8c66",
   "metadata": {
    "jp-MarkdownHeadingCollapsed": true,
    "tags": []
   },
   "source": [
    "## Exercises Section 4.3"
   ]
  },
  {
   "cell_type": "markdown",
   "id": "4956ccc0-6faf-4d4b-bcd1-c82179b242e1",
   "metadata": {},
   "source": [
    "### Exercise 4.8:\n",
    "Explain when operands are evaluated in the logical AND, logical OR, and\n",
    "equality operators."
   ]
  },
  {
   "cell_type": "markdown",
   "id": "54d66289-2bcf-431f-a5d1-a240572a4a00",
   "metadata": {},
   "source": [
    "A:\n",
    "\n",
    "AND - left operand first, right operand only evaluated if first was `true`  \n",
    "OR - left operand first, right operand only evalurated if first was `false`  \n",
    "equality - both operands are evaluated, but order is not defined"
   ]
  },
  {
   "cell_type": "markdown",
   "id": "6b904539-7d21-4c57-b96e-7369e2d6f5a1",
   "metadata": {},
   "source": [
    "### Exercise 4.9:\n",
    "Explain the behavior of the condition in the following if:  \n",
    "```\n",
    "const char *cp = \"Hello World\";\n",
    "if (cp && *cp)\n",
    "```"
   ]
  },
  {
   "cell_type": "markdown",
   "id": "79a441ea-37f9-4472-bde1-d5be85ede3b3",
   "metadata": {},
   "source": [
    "A:\n",
    "\n",
    "`cp` is evaluated as `true` because the pointer is not `0`. `*cp` won't have to be evaluated."
   ]
  },
  {
   "cell_type": "markdown",
   "id": "d88020dc-db90-4cf8-b4be-e028af1bb215",
   "metadata": {},
   "source": [
    "### Exercise 4.10:\n",
    "Write the condition for a while loop that would read ints from the\n",
    "standard input and stop when the value read is equal to 42."
   ]
  },
  {
   "cell_type": "code",
   "execution_count": 9,
   "id": "e536dd27-f5d9-4465-bbe0-e90120df4cd8",
   "metadata": {},
   "outputs": [
    {
     "name": "stdin",
     "output_type": "stream",
     "text": [
      " 1 2 3 4 5\n",
      " 1 2 42\n"
     ]
    }
   ],
   "source": [
    "#include <iostream>\n",
    "\n",
    "int i = 0;\n",
    "while (std::cin >> i && i != 42) ;"
   ]
  },
  {
   "cell_type": "markdown",
   "id": "11f04489-663b-4b1e-a279-e769e28ce831",
   "metadata": {},
   "source": [
    "### Exercise 4.11:\n",
    "Write an expression that tests four values, a, b, c, and d, and ensures\n",
    "that a is greater than b, which is greater than c, which is greater than d."
   ]
  },
  {
   "cell_type": "code",
   "execution_count": 12,
   "id": "95204e99-b837-4880-8663-017ab2dc77c6",
   "metadata": {},
   "outputs": [
    {
     "data": {
      "text/plain": [
       "true"
      ]
     },
     "execution_count": 12,
     "metadata": {},
     "output_type": "execute_result"
    }
   ],
   "source": [
    "int a=4, b=3, c=2, d=1;\n",
    "((a > b) && (b > c) && (c > d))"
   ]
  },
  {
   "cell_type": "markdown",
   "id": "4c11a363-8474-487a-b031-0629ebb8748d",
   "metadata": {},
   "source": [
    "### Exercise 4.12:\n",
    "Assuming i, j, and k are all ints, explain what i != j < k means."
   ]
  },
  {
   "cell_type": "markdown",
   "id": "71be45af-b767-4ac4-8684-d5878b5a5290",
   "metadata": {
    "tags": []
   },
   "source": [
    "A:\n",
    "\n",
    "if `j < k`, then expression is `true` if `i != 1`  \n",
    "if `j >= k`, then expression is `true` if `i != 0`  "
   ]
  },
  {
   "cell_type": "markdown",
   "id": "fedbb1ab-b4c2-4d88-beb3-12ee99429e5a",
   "metadata": {
    "jp-MarkdownHeadingCollapsed": true,
    "tags": []
   },
   "source": [
    "## Exercises Section 4.4"
   ]
  },
  {
   "cell_type": "markdown",
   "id": "b7366e79-526e-472c-ad8f-a4bad7e6e998",
   "metadata": {},
   "source": [
    "### Exercise 4.13:\n",
    "What are the values of i and d after each assignment?\n",
    "```\n",
    "int i; double d;\n",
    "```\n",
    "(a) `d = i = 3.5;`  \n",
    "(b) `i = d = 3.5;`"
   ]
  },
  {
   "cell_type": "markdown",
   "id": "8f7fd914-1fd8-42f8-bfd1-05d866e11a0b",
   "metadata": {},
   "source": [
    "A:\n",
    "\n",
    "a) d == 3.0, i == 3  \n",
    "b) i == 3, d == 3.5"
   ]
  },
  {
   "cell_type": "code",
   "execution_count": 14,
   "id": "c16c02ed-7c30-49c9-aa5e-46164000feb7",
   "metadata": {},
   "outputs": [],
   "source": [
    "int i; double d;"
   ]
  },
  {
   "cell_type": "code",
   "execution_count": 15,
   "id": "ba170e76-7409-4602-b5aa-25f3d6f41790",
   "metadata": {},
   "outputs": [
    {
     "name": "stderr",
     "output_type": "stream",
     "text": [
      "input_line_33:2:10: warning: implicit conversion from 'double' to 'int' changes value from 3.5 to 3 [-Wliteral-conversion]\n",
      " d = i = 3.5;\n",
      "       ~ ^~~\n"
     ]
    }
   ],
   "source": [
    "d = i = 3.5;"
   ]
  },
  {
   "cell_type": "code",
   "execution_count": 16,
   "id": "b3be7a55-7708-423d-affa-055565195052",
   "metadata": {},
   "outputs": [
    {
     "data": {
      "text/plain": [
       "3.0000000"
      ]
     },
     "execution_count": 16,
     "metadata": {},
     "output_type": "execute_result"
    }
   ],
   "source": [
    "d"
   ]
  },
  {
   "cell_type": "code",
   "execution_count": 17,
   "id": "d240497d-6497-4632-8042-39ee2707dca5",
   "metadata": {},
   "outputs": [
    {
     "data": {
      "text/plain": [
       "3"
      ]
     },
     "execution_count": 17,
     "metadata": {},
     "output_type": "execute_result"
    }
   ],
   "source": [
    "i"
   ]
  },
  {
   "cell_type": "code",
   "execution_count": 18,
   "id": "9a35fdfc-ebf2-426b-bc4d-21bacfd35777",
   "metadata": {},
   "outputs": [],
   "source": [
    "i = d = 3.5;"
   ]
  },
  {
   "cell_type": "code",
   "execution_count": 19,
   "id": "ba449245-16cc-438f-bc86-764155cb9de5",
   "metadata": {},
   "outputs": [
    {
     "data": {
      "text/plain": [
       "3.5000000"
      ]
     },
     "execution_count": 19,
     "metadata": {},
     "output_type": "execute_result"
    }
   ],
   "source": [
    "d"
   ]
  },
  {
   "cell_type": "code",
   "execution_count": 20,
   "id": "ae99003a-f962-4b57-ba29-6cd3a1cebb67",
   "metadata": {},
   "outputs": [
    {
     "data": {
      "text/plain": [
       "3"
      ]
     },
     "execution_count": 20,
     "metadata": {},
     "output_type": "execute_result"
    }
   ],
   "source": [
    "i"
   ]
  },
  {
   "cell_type": "markdown",
   "id": "530ec63a-d9a0-405d-b897-39b9a5dece99",
   "metadata": {},
   "source": [
    "### Exercise 4.14:\n",
    "Explain what happens in each of the if tests:  \n",
    "```\n",
    "    if (42 = i) // ...\n",
    "    if (i = 42) // ...\n",
    "```"
   ]
  },
  {
   "cell_type": "markdown",
   "id": "03cf472a-f3a3-454a-b91e-6a610c614a06",
   "metadata": {},
   "source": [
    "A:\n",
    "\n",
    "first `if` will throw an error as `42` is not an `lvalue`  \n",
    "second `if` will assign `42` to `i` and execute expressions under `if`, as `42` cast to `bool` is `true`"
   ]
  },
  {
   "cell_type": "code",
   "execution_count": 21,
   "id": "cdc4c5ea-4991-4202-9520-994770c06811",
   "metadata": {},
   "outputs": [],
   "source": [
    "int i = 0;"
   ]
  },
  {
   "cell_type": "code",
   "execution_count": 22,
   "id": "8e0c9116-5a4d-420a-936b-837ddf345b33",
   "metadata": {},
   "outputs": [
    {
     "name": "stderr",
     "output_type": "stream",
     "text": [
      "input_line_44:2:6: error: expression is not assignable\n",
      " (42 = i)\n",
      "  ~~ ^\n"
     ]
    },
    {
     "ename": "Interpreter Error",
     "evalue": "",
     "output_type": "error",
     "traceback": [
      "Interpreter Error: "
     ]
    }
   ],
   "source": [
    "(42 = i)"
   ]
  },
  {
   "cell_type": "code",
   "execution_count": 24,
   "id": "6adc3120-29d5-4fdb-aaed-42a40e2e84e4",
   "metadata": {},
   "outputs": [
    {
     "data": {
      "text/plain": [
       "true"
      ]
     },
     "execution_count": 24,
     "metadata": {},
     "output_type": "execute_result"
    }
   ],
   "source": [
    "bool b = (i = 42);\n",
    "b"
   ]
  },
  {
   "cell_type": "markdown",
   "id": "6e29858c-8f99-4322-a116-c22d30294e77",
   "metadata": {},
   "source": [
    "### Exercise 4.15:\n",
    "The following assignment is illegal. Why? How would you correct it?\n",
    "```\n",
    "double dval; int ival; int *pi;\n",
    "dval = ival = pi = 0;\n",
    "```"
   ]
  },
  {
   "cell_type": "markdown",
   "id": "611673dd-5f2f-449a-81bb-d728d9eb89ad",
   "metadata": {},
   "source": [
    "A:\n",
    "\n",
    "can't assign pointer to `int`  \n",
    "```\n",
    "dval = ival = 0; pi = 0;\n",
    "```\n",
    "would be correct"
   ]
  },
  {
   "cell_type": "markdown",
   "id": "8599269d-ac8e-4ffb-b15a-e519e3f365c3",
   "metadata": {},
   "source": [
    "### Exercise 4.16:\n",
    "Although the following are legal, they probably do not behave as the\n",
    "programmer expects. Why? Rewrite the expressions as you think they should be.  \n",
    "(a) `if (p = getPtr() != 0)`  \n",
    "(b) `if (i = 1024)`"
   ]
  },
  {
   "cell_type": "markdown",
   "id": "43133b04-7656-4a8c-a930-6b2d9132898c",
   "metadata": {},
   "source": [
    "A:\n",
    "\n",
    "`if ((p = getPtr()) != 0)`  \n",
    "`if (i == 1024)`"
   ]
  },
  {
   "cell_type": "markdown",
   "id": "3f2722c1-af32-464e-9c03-5d68001c47f1",
   "metadata": {
    "jp-MarkdownHeadingCollapsed": true,
    "tags": []
   },
   "source": [
    "## Exercises Section 4.5"
   ]
  },
  {
   "cell_type": "markdown",
   "id": "172d6031-a2d5-432b-88ea-f16f3b4f3cc6",
   "metadata": {},
   "source": [
    "### Exercise 4.17:\n",
    "Explain the difference between prefix and postfix increment."
   ]
  },
  {
   "cell_type": "markdown",
   "id": "8acf0c38-4b5f-45f4-b635-b2f46dcb8823",
   "metadata": {},
   "source": [
    "A:\n",
    "\n",
    "prefix yields value post change, postfix yields value pre change"
   ]
  },
  {
   "cell_type": "code",
   "execution_count": 1,
   "id": "91afe41a-7c68-4741-a64c-ba143d2f5e0d",
   "metadata": {},
   "outputs": [
    {
     "data": {
      "text/plain": [
       "1"
      ]
     },
     "execution_count": 1,
     "metadata": {},
     "output_type": "execute_result"
    }
   ],
   "source": [
    "int i = 0;\n",
    "++i"
   ]
  },
  {
   "cell_type": "code",
   "execution_count": 3,
   "id": "fd4032c1-39da-4cd4-b433-408e3a221009",
   "metadata": {},
   "outputs": [
    {
     "data": {
      "text/plain": [
       "1"
      ]
     },
     "execution_count": 3,
     "metadata": {},
     "output_type": "execute_result"
    }
   ],
   "source": [
    "i"
   ]
  },
  {
   "cell_type": "code",
   "execution_count": 2,
   "id": "ac33b9a8-9b3e-4e91-b323-9742bf5ed417",
   "metadata": {},
   "outputs": [
    {
     "data": {
      "text/plain": [
       "0"
      ]
     },
     "execution_count": 2,
     "metadata": {},
     "output_type": "execute_result"
    }
   ],
   "source": [
    "int i = 0;\n",
    "i++"
   ]
  },
  {
   "cell_type": "code",
   "execution_count": 4,
   "id": "5a67675f-20a5-408d-a46d-d7cc4711675f",
   "metadata": {},
   "outputs": [
    {
     "data": {
      "text/plain": [
       "1"
      ]
     },
     "execution_count": 4,
     "metadata": {},
     "output_type": "execute_result"
    }
   ],
   "source": [
    "i"
   ]
  },
  {
   "cell_type": "markdown",
   "id": "b2202232-87f7-488e-902e-b655ac1b3d25",
   "metadata": {},
   "source": [
    "### Exercise 4.18:\n",
    "What would happen if the while loop on page 148 that prints the elements from a vector used the prefix increment operator?"
   ]
  },
  {
   "cell_type": "markdown",
   "id": "577afedb-4578-4f0c-a042-afcd210b03da",
   "metadata": {},
   "source": [
    "A:\n",
    "\n",
    "First element would never be printed and it would also try to print one element past last"
   ]
  },
  {
   "cell_type": "markdown",
   "id": "7a8304ae-e342-4c24-a798-55ff56d4dc2d",
   "metadata": {},
   "source": [
    "### Exercise 4.19:\n",
    "Given that ptr points to an int, that vec is a vector<int>, and that\n",
    "ival is an int, explain the behavior of each of these expressions. Which, if any, are\n",
    "likely to be incorrect? Why? How might each be corrected?  \n",
    "(a) `ptr != 0 && *ptr++`  \n",
    "(b) `ival++ && ival`  \n",
    "(c) `vec[ival++] <= vec[ival]`  "
   ]
  },
  {
   "cell_type": "markdown",
   "id": "eb3cd6ac-0f4c-4513-a011-dfe73c7f4cb0",
   "metadata": {},
   "source": [
    "A:\n",
    "\n",
    "a) Right-hand expression is evaluated if pointer is not `0`. Might be incorrect if we want to evaluate next pointer instead of the current one. In that case we would change it to `ptr != 0 && *++ptr`. We might also want to increase the value that pointer points to. We would then do `ptr != 0 && (*ptr)++`  \n",
    "b) this expression evaluates to `false` if `ival` is `0` or `-1`  \n",
    "c) it's undefined which expression `vec[ival++]` or `vec[ival]` runs first, and as the first one changes the value of ival, the result is undefined. Could be changed to `vec[ival + 1] <= vec[ival]`"
   ]
  },
  {
   "cell_type": "markdown",
   "id": "402ff932-3e36-4171-899b-40ca83141c89",
   "metadata": {
    "jp-MarkdownHeadingCollapsed": true,
    "tags": []
   },
   "source": [
    "## Exercises Section 4.6"
   ]
  },
  {
   "cell_type": "markdown",
   "id": "0845a4ab-adc3-4052-8518-c4c5c0cea6cd",
   "metadata": {},
   "source": [
    "### Exercise 4.20:\n",
    "Assuming that iter is a `vector<string>::iterator`, indicate\n",
    "which, if any, of the following expressions are legal. Explain the behavior of the legal expressions and why those that aren’t legal are in error.  \n",
    "(a) `*iter++;`  \n",
    "(b) `(*iter)++;`  \n",
    "(c) `*iter.empty()`  \n",
    "(d) `iter->empty();`  \n",
    "(e) `++*iter;`  \n",
    "(f) `iter++->empty();`  "
   ]
  },
  {
   "cell_type": "markdown",
   "id": "239e3f98-3018-4808-b8ce-b99487c2609a",
   "metadata": {},
   "source": [
    "A:\n",
    "\n",
    "a) legal, yields object iter points to and changes iter to point to next object  \n",
    "b) illegal, string doesn't have ++ postfix operator  \n",
    "c) illegal, pointer doesn't have `.empty()` method  \n",
    "d) legal, evaluates whether object iter points to is empty  \n",
    "e) illegal, string doesn't have ++ prefix operator  \n",
    "f) legal, evaluates whether object iter points to is empty and changes iter to point to next object"
   ]
  },
  {
   "cell_type": "markdown",
   "id": "282b4af7-1440-4c15-af8e-c15fc0dbeca3",
   "metadata": {
    "jp-MarkdownHeadingCollapsed": true,
    "tags": []
   },
   "source": [
    "## Exercises Section 4.7"
   ]
  },
  {
   "cell_type": "markdown",
   "id": "7220df2a-58cb-401b-ae67-3d89092faf3f",
   "metadata": {
    "tags": []
   },
   "source": [
    "### Exercise 4.21:\n",
    "Write a program to use a conditional operator to find the elements in a\n",
    "vector<int> that have odd value and double the value of each such element."
   ]
  },
  {
   "cell_type": "code",
   "execution_count": 1,
   "id": "27e0c1da-bf21-4802-bf27-6d47c69b78a7",
   "metadata": {},
   "outputs": [
    {
     "data": {
      "text/plain": [
       "{ 2, 2, 6, 4, 10 }"
      ]
     },
     "execution_count": 1,
     "metadata": {},
     "output_type": "execute_result"
    }
   ],
   "source": [
    "#include <vector>\n",
    "using std::vector;\n",
    "\n",
    "vector<int> v = {1, 2, 3, 4, 5};\n",
    "for (auto &i : v)\n",
    "    if (i % 2 == 1)\n",
    "        i *= 2;\n",
    "v"
   ]
  },
  {
   "cell_type": "markdown",
   "id": "ff6bebf7-cd13-4705-b253-048becbfcf89",
   "metadata": {},
   "source": [
    "### Exercise 4.22:\n",
    "Extend the program that assigned high pass, pass, and fail grades to\n",
    "also assign low pass for grades between 60 and 75 inclusive. Write two versions: One\n",
    "version that uses only conditional operators; the other should use one or more if\n",
    "statements. Which version do you think is easier to understand and why?"
   ]
  },
  {
   "cell_type": "code",
   "execution_count": 1,
   "id": "59660440-5d6d-439e-a669-3a3c1eba8efc",
   "metadata": {},
   "outputs": [],
   "source": [
    "#include <string>\n",
    "using std::string;\n",
    "\n",
    "int grade = 70;\n",
    "string finalgrade = (grade > 90) ? \"high pass\" : (grade < 60) ? \"fail\" : (grade <= 75) ? \"low pass\" : \"pass\";"
   ]
  },
  {
   "cell_type": "code",
   "execution_count": 2,
   "id": "635690b6-b9ca-47f9-b1b1-d48f8a3d1d26",
   "metadata": {},
   "outputs": [
    {
     "data": {
      "text/plain": [
       "\"low pass\""
      ]
     },
     "execution_count": 2,
     "metadata": {},
     "output_type": "execute_result"
    }
   ],
   "source": [
    "finalgrade"
   ]
  },
  {
   "cell_type": "code",
   "execution_count": 3,
   "id": "e8f38761-bdfd-431b-a0f5-3a561d2aba34",
   "metadata": {},
   "outputs": [
    {
     "data": {
      "text/plain": [
       "\"low pass\""
      ]
     },
     "execution_count": 3,
     "metadata": {},
     "output_type": "execute_result"
    }
   ],
   "source": [
    "if (grade > 90)\n",
    "    finalgrade = \"high pass\";\n",
    "else if (grade > 75)\n",
    "    finalgrade = \"pass\";\n",
    "else if (grade >= 60)\n",
    "    finalgrade = \"low pass\";\n",
    "else \n",
    "    finalgrade = \"fail\";\n",
    "finalgrade"
   ]
  },
  {
   "cell_type": "markdown",
   "id": "0a724beb-493c-4b6b-a853-1ea68a753de1",
   "metadata": {},
   "source": [
    "A:\n",
    "\n",
    "with that many conditions, second version is easier to understand"
   ]
  },
  {
   "cell_type": "markdown",
   "id": "539f8f28-f3c4-49b0-a8b4-e707a82ac671",
   "metadata": {},
   "source": [
    "### Exercise 4.23:\n",
    "The following expression fails to compile due to operator precedence.\n",
    "Using Table 4.12 (p. 166), explain why it fails. How would you fix it?\n",
    "```\n",
    "string s = \"word\";\n",
    "string pl = s + s[s.size() - 1] == 's' ? \"\" : \"s\" ;\n",
    "```"
   ]
  },
  {
   "cell_type": "markdown",
   "id": "d17bf7b8-d3a0-4c41-b50d-df1196bd1c1b",
   "metadata": {},
   "source": [
    "A:\n",
    "\n",
    "`?` has lower precedence than `+`, so `==` takes `s + s[s.size() - 1]` and `'s'` as operands."
   ]
  },
  {
   "cell_type": "code",
   "execution_count": 1,
   "id": "86ba9ac5-dc22-4ca5-9b68-26d4e06d743e",
   "metadata": {},
   "outputs": [],
   "source": [
    "#include <string>\n",
    "using std::string;"
   ]
  },
  {
   "cell_type": "code",
   "execution_count": 2,
   "id": "cbfaba52-573e-4281-8d3f-08dd5a4a93ec",
   "metadata": {},
   "outputs": [],
   "source": [
    "// fixed version\n",
    "string s = \"word\";\n",
    "string pl = s + (s[s.size() - 1] == 's' ? \"\" : \"s\");"
   ]
  },
  {
   "cell_type": "code",
   "execution_count": 3,
   "id": "29efc493-597c-4d5d-a794-095aec9e9163",
   "metadata": {},
   "outputs": [
    {
     "data": {
      "text/plain": [
       "\"words\""
      ]
     },
     "execution_count": 3,
     "metadata": {},
     "output_type": "execute_result"
    }
   ],
   "source": [
    "pl"
   ]
  },
  {
   "cell_type": "markdown",
   "id": "2c22c768-9a98-4c31-8283-41896e3606db",
   "metadata": {},
   "source": [
    "### Exercise 4.24:\n",
    "Our program that distinguished between high pass, pass, and fail depended on the fact that the conditional operator is right associative. Describe how that\n",
    "operator would be evaluated if the operator were left associative."
   ]
  },
  {
   "cell_type": "markdown",
   "id": "2c03520b-2eff-408e-96ef-8e7e7e58da33",
   "metadata": {
    "tags": []
   },
   "source": [
    "for grade > 90\n",
    "`(grade > 90) ? \"high pass\" : (grade < 60)` would evaluate to `true`  \n",
    "`true ? \"fail\" : \"pass\"` would evaluate to `\"fail\"`\n",
    "\n",
    "for grade <= 90 and grade >= 60:  \n",
    "`(grade > 90) ? \"high pass\" : (grade < 60)` would evaluate to `false`  \n",
    "`false ? \"fail\" : \"pass\"` would evaluate to `\"pass\"`\n",
    "\n",
    "for grade < 60:  \n",
    "`(grade > 90) ? \"high pass\" : (grade < 60)` would evaluate to `\"high pass\"`    \n",
    "`\"high pass\" ? \"fail\" : \"pass\"` would evaluate to `\"fail\"`"
   ]
  },
  {
   "cell_type": "markdown",
   "id": "d5cb7800-156d-407e-ab46-70ca913bd30a",
   "metadata": {
    "jp-MarkdownHeadingCollapsed": true,
    "tags": []
   },
   "source": [
    "## Exercises Section 4.8"
   ]
  },
  {
   "cell_type": "markdown",
   "id": "bef3b0e7-477e-4531-a5ab-4d188884153f",
   "metadata": {},
   "source": [
    "### Exercise 4.25:\n",
    "What is the value of `~'q' << 6` on a machine with 32-bit ints and 8 bit\n",
    "chars, that uses Latin-1 character set in which `'q'` has the bit pattern `01110001`?"
   ]
  },
  {
   "cell_type": "markdown",
   "id": "7e64264a-6360-4652-a5a6-66e2cae35e88",
   "metadata": {},
   "source": [
    "A:\n",
    "\n",
    "`'q'` == `01110001`\n",
    "\n",
    "`~'q'` negates `'q'` and promotes 8-bit char to 32-bit int, resulting in `11111111 11111111 11111111 10001110`\n",
    "\n",
    "`11111111 11111111 11111111 10001110 << 6` == `11111111 11111111 11100011 10000000`"
   ]
  },
  {
   "cell_type": "markdown",
   "id": "cf51d3c8-273d-4ed2-9b1f-a3535e742bff",
   "metadata": {},
   "source": [
    "### Exercise 4.26:\n",
    "In our grading example in this section, what would happen if we used\n",
    "unsigned int as the type for quiz1?"
   ]
  },
  {
   "cell_type": "markdown",
   "id": "89086f9d-044f-419c-9b09-128d88d31154",
   "metadata": {},
   "source": [
    "A:\n",
    "\n",
    "`int`'s minimum size is 16bit, so we would lose information when trying to shift bits by e.g. 27  \n",
    "if we are sure that int is big enough on our machine, then it's not a problem"
   ]
  },
  {
   "cell_type": "markdown",
   "id": "a1f68297-dcba-43ad-98f2-f3545ecd91d9",
   "metadata": {},
   "source": [
    "### Exercise 4.27:\n",
    "What is the result of each of these expressions?\n",
    "```\n",
    "unsigned long ul1 = 3, ul2 = 7;\n",
    "```\n",
    "(a) `ul1 & ul2`  \n",
    "(b) `ul1 | ul2`  \n",
    "(c) `ul1 && ul2`  \n",
    "(d) `ul1 || ul2`  "
   ]
  },
  {
   "cell_type": "markdown",
   "id": "b1436188-8b19-4f0d-a656-3601dd506799",
   "metadata": {},
   "source": [
    "A:\n",
    "\n",
    "ul1 == `0011`  \n",
    "ul2 == `0111`\n",
    "\n",
    "a) `0011` == 3  \n",
    "b) `0111` == 7  \n",
    "c) `true`  \n",
    "d) `true`"
   ]
  },
  {
   "cell_type": "markdown",
   "id": "907a8c15-43c8-44f0-978d-a85f9a93b750",
   "metadata": {
    "jp-MarkdownHeadingCollapsed": true,
    "tags": []
   },
   "source": [
    "## Exercises Section 4.9"
   ]
  },
  {
   "cell_type": "markdown",
   "id": "e494adc9-0e9c-4926-adef-5f7dbd5bc3c5",
   "metadata": {},
   "source": [
    "### Exercise 4.28:\n",
    "Write a program to print the size of each of the built-in types.\n"
   ]
  },
  {
   "cell_type": "code",
   "execution_count": 1,
   "id": "e79c21aa-a472-4fe1-b957-1136a4554b20",
   "metadata": {},
   "outputs": [
    {
     "data": {
      "text/plain": [
       "1"
      ]
     },
     "execution_count": 1,
     "metadata": {},
     "output_type": "execute_result"
    }
   ],
   "source": [
    "sizeof(bool)"
   ]
  },
  {
   "cell_type": "code",
   "execution_count": 2,
   "id": "80563ea6-c479-485e-909e-b080839ecaa4",
   "metadata": {},
   "outputs": [
    {
     "data": {
      "text/plain": [
       "4"
      ]
     },
     "execution_count": 2,
     "metadata": {},
     "output_type": "execute_result"
    }
   ],
   "source": [
    "sizeof (int)"
   ]
  },
  {
   "cell_type": "code",
   "execution_count": 3,
   "id": "4f512cb9-5cc1-47c1-a3a7-a0a9203d4c9c",
   "metadata": {},
   "outputs": [
    {
     "data": {
      "text/plain": [
       "8"
      ]
     },
     "execution_count": 3,
     "metadata": {},
     "output_type": "execute_result"
    }
   ],
   "source": [
    "sizeof (int*)"
   ]
  },
  {
   "cell_type": "code",
   "execution_count": 4,
   "id": "f4139f89-9ea3-4fe8-b73d-64e10e890560",
   "metadata": {},
   "outputs": [
    {
     "data": {
      "text/plain": [
       "1"
      ]
     },
     "execution_count": 4,
     "metadata": {},
     "output_type": "execute_result"
    }
   ],
   "source": [
    "sizeof (char)"
   ]
  },
  {
   "cell_type": "code",
   "execution_count": 5,
   "id": "09ed4e9a-a34d-4aac-bb16-edd8bad2c781",
   "metadata": {},
   "outputs": [
    {
     "data": {
      "text/plain": [
       "4"
      ]
     },
     "execution_count": 5,
     "metadata": {},
     "output_type": "execute_result"
    }
   ],
   "source": [
    "sizeof (wchar_t)"
   ]
  },
  {
   "cell_type": "code",
   "execution_count": 6,
   "id": "e3536cc9-0b2e-49bf-a06c-5e301d462269",
   "metadata": {},
   "outputs": [
    {
     "data": {
      "text/plain": [
       "2"
      ]
     },
     "execution_count": 6,
     "metadata": {},
     "output_type": "execute_result"
    }
   ],
   "source": [
    "sizeof (char16_t)"
   ]
  },
  {
   "cell_type": "code",
   "execution_count": 7,
   "id": "2d821527-05f6-4213-a19d-855e8c0244e2",
   "metadata": {},
   "outputs": [
    {
     "data": {
      "text/plain": [
       "4"
      ]
     },
     "execution_count": 7,
     "metadata": {},
     "output_type": "execute_result"
    }
   ],
   "source": [
    "sizeof (char32_t)"
   ]
  },
  {
   "cell_type": "code",
   "execution_count": 8,
   "id": "4a882e7a-d7a5-4da4-b3c4-6f56249025d3",
   "metadata": {},
   "outputs": [
    {
     "data": {
      "text/plain": [
       "4"
      ]
     },
     "execution_count": 8,
     "metadata": {},
     "output_type": "execute_result"
    }
   ],
   "source": [
    "sizeof (float)"
   ]
  },
  {
   "cell_type": "code",
   "execution_count": 9,
   "id": "1f1b954f-00fa-47e3-b498-056ecc04cc0a",
   "metadata": {},
   "outputs": [
    {
     "data": {
      "text/plain": [
       "8"
      ]
     },
     "execution_count": 9,
     "metadata": {},
     "output_type": "execute_result"
    }
   ],
   "source": [
    "sizeof (double)"
   ]
  },
  {
   "cell_type": "code",
   "execution_count": 10,
   "id": "96f91cd7-6370-4f9f-9945-29e85544574d",
   "metadata": {},
   "outputs": [
    {
     "data": {
      "text/plain": [
       "16"
      ]
     },
     "execution_count": 10,
     "metadata": {},
     "output_type": "execute_result"
    }
   ],
   "source": [
    "sizeof (long double)"
   ]
  },
  {
   "cell_type": "code",
   "execution_count": 11,
   "id": "2367b990-c37f-4735-a06a-3f99f5e29177",
   "metadata": {},
   "outputs": [
    {
     "data": {
      "text/plain": [
       "2"
      ]
     },
     "execution_count": 11,
     "metadata": {},
     "output_type": "execute_result"
    }
   ],
   "source": [
    "sizeof(short)"
   ]
  },
  {
   "cell_type": "code",
   "execution_count": 12,
   "id": "9361b28e-81af-41cc-bd75-4c20580ddf2a",
   "metadata": {},
   "outputs": [
    {
     "data": {
      "text/plain": [
       "8"
      ]
     },
     "execution_count": 12,
     "metadata": {},
     "output_type": "execute_result"
    }
   ],
   "source": [
    "sizeof(long)"
   ]
  },
  {
   "cell_type": "code",
   "execution_count": 13,
   "id": "ce92060b-45b8-4cd3-97ce-9b69c4b5111e",
   "metadata": {},
   "outputs": [
    {
     "data": {
      "text/plain": [
       "8"
      ]
     },
     "execution_count": 13,
     "metadata": {},
     "output_type": "execute_result"
    }
   ],
   "source": [
    "sizeof(long long)"
   ]
  },
  {
   "cell_type": "markdown",
   "id": "2c77ebd2-4410-4eef-be6f-bedc0608c8bb",
   "metadata": {},
   "source": [
    "\n",
    "### Exercise 4.29:\n",
    "Predict the output of the following code and explain your reasoning.\n",
    "Now run the program. Is the output what you expected? If not, figure out why.\n",
    "```\n",
    "int x[10];\n",
    "int *p = x;\n",
    "cout << sizeof(x)/sizeof(*x) << endl;\n",
    "cout << sizeof(p)/sizeof(*p) << endl;\n",
    "```"
   ]
  },
  {
   "cell_type": "markdown",
   "id": "d687386d-0a46-4474-a2cf-3fd2e7273a13",
   "metadata": {},
   "source": [
    "A:\n",
    "\n",
    "`cout << sizeof(x)/sizeof(*x) << endl;` will output 10, as `sizeof(x)` will return size of 10 ints and `sizeof(*x)` will return size of 1 int  \n",
    "`cout << sizeof(p)/sizeof(*p) << endl;` will output 2, as `sizeof(p)` will return size of 1 pointer (8 bytes on this machine) and `sizeof(*p)` will return size of 1 int (4 bytes on this machine)"
   ]
  },
  {
   "cell_type": "code",
   "execution_count": 1,
   "id": "c92da270-303f-4a7c-963c-9726b3289e10",
   "metadata": {},
   "outputs": [],
   "source": [
    "int x[10];\n",
    "int *p = x;"
   ]
  },
  {
   "cell_type": "code",
   "execution_count": 2,
   "id": "132bccca-ac60-467c-a8db-1539051b3a55",
   "metadata": {},
   "outputs": [
    {
     "data": {
      "text/plain": [
       "10"
      ]
     },
     "execution_count": 2,
     "metadata": {},
     "output_type": "execute_result"
    }
   ],
   "source": [
    "sizeof(x)/sizeof(*x)"
   ]
  },
  {
   "cell_type": "code",
   "execution_count": 3,
   "id": "55303479-7a44-4899-af56-fc256135dc46",
   "metadata": {},
   "outputs": [
    {
     "data": {
      "text/plain": [
       "2"
      ]
     },
     "execution_count": 3,
     "metadata": {},
     "output_type": "execute_result"
    }
   ],
   "source": [
    "sizeof(p)/sizeof(*p)"
   ]
  },
  {
   "cell_type": "markdown",
   "id": "d4426160-9a43-4151-8867-b26f2a5580cc",
   "metadata": {},
   "source": [
    "### Exercise 4.30:\n",
    "Using Table 4.12 (p. 166), parenthesize the following expressions to match the default evaluation:  \n",
    "(a) `sizeof x + y`  \n",
    "(b) `sizeof p->mem[i]`  \n",
    "(c) `sizeof a < b`  \n",
    "(d) `sizeof f()`  "
   ]
  },
  {
   "cell_type": "markdown",
   "id": "01e8b751-caf5-495b-adb3-b366a85e4ad6",
   "metadata": {},
   "source": [
    "A:\n",
    "\n",
    "a) `(sizeof x) + y`  \n",
    "b) `sizeof ((p->mem)[i])`  \n",
    "c) `(sizeof a) < b`  \n",
    "d) `sizeof (f())`"
   ]
  },
  {
   "cell_type": "markdown",
   "id": "2dfd8508-c74f-4456-be48-234a9985038f",
   "metadata": {
    "jp-MarkdownHeadingCollapsed": true,
    "tags": []
   },
   "source": [
    "## Exercises Section 4.10"
   ]
  },
  {
   "cell_type": "markdown",
   "id": "f70ace11-0daa-496f-b866-2ce4e305c5e8",
   "metadata": {},
   "source": [
    "### Exercise 4.31:\n",
    "The program in this section used the prefix increment and decrement\n",
    "operators. Explain why we used prefix and not postfix. What changes would have to\n",
    "be made to use the postfix versions? Rewrite the program using postfix operators.\n",
    "``` \n",
    "vector<int>::size_type cnt = ivec.size();\n",
    "// assign values from size...1 to the elements in ivec\n",
    "for (vector<int>::size_type ix = 0; ix != ivec.size(); ++ix, --cnt)\n",
    "    ivec[ix] = cnt;\n",
    "```"
   ]
  },
  {
   "cell_type": "markdown",
   "id": "cce19e05-7fc1-4202-86bf-9feb26742c75",
   "metadata": {},
   "source": [
    "A:\n",
    "\n",
    "The program will produce the same output regardless of whether postfix or prefix increments are used. The only difference is this case is that prefix doesn't need to do extra work of storing the original value."
   ]
  },
  {
   "cell_type": "markdown",
   "id": "86ddd045-3696-410e-b383-5fb11c369247",
   "metadata": {},
   "source": [
    "### Exercise 4.32:\n",
    "Explain the following loop.\n",
    "```\n",
    "constexpr int size = 5;\n",
    "int ia[size] = {1,2,3,4,5};\n",
    "for (int *ptr = ia, ix = 0; ix != size && ptr != ia+size; ++ix, ++ptr)\n",
    "    { /* . . . */ }\n",
    "```"
   ]
  },
  {
   "cell_type": "markdown",
   "id": "8ace8e06-2710-4d90-bc72-97f62e814a17",
   "metadata": {},
   "source": [
    "A:\n",
    "\n",
    "This loop iterates `ia` both via index and via pointer "
   ]
  },
  {
   "cell_type": "markdown",
   "id": "bde00161-c3b1-4cdf-a1b5-bc31cb9804c5",
   "metadata": {},
   "source": [
    "### Exercise 4.33:\n",
    "Using Table 4.12 (p. 166) explain what the following expression does:\n",
    "```\n",
    "someValue ? ++x, ++y : --x, --y\n",
    "```"
   ]
  },
  {
   "cell_type": "markdown",
   "id": "46738503-5d4d-4652-b8e8-93d007fb4a64",
   "metadata": {},
   "source": [
    "A:\n",
    "\n",
    "`x` and `y` will both always be yielded with their original values, as `++x` and `--x` will neutralize each other and same for `++y` and `--y`."
   ]
  },
  {
   "cell_type": "markdown",
   "id": "a068fd7b-0ed6-47cc-bb58-0427c44d9612",
   "metadata": {
    "jp-MarkdownHeadingCollapsed": true,
    "tags": []
   },
   "source": [
    "## Exercises Section 4.11.1"
   ]
  },
  {
   "cell_type": "markdown",
   "id": "28c92a5c-7565-43ad-9941-69cc12d1baef",
   "metadata": {},
   "source": [
    "### Exercise 4.34:\n",
    "Given the variable definitions in this section,\n",
    "```\n",
    "bool flag; char cval; short sval; unsigned short usval; int ival;\n",
    "unsigned int uival; long lval; unsigned long ulval; float fval; double dval;\n",
    "```\n",
    "explain what conversions\n",
    "take place in the following expressions:  \n",
    "(a) `if (fval)`  \n",
    "(b) `dval = fval + ival;`  \n",
    "(c) `dval + ival * cval;`  \n",
    "Remember that you may need to consider the associativity of the operators."
   ]
  },
  {
   "cell_type": "markdown",
   "id": "1d8304fe-e4c8-49fb-b1a5-d249b55e7aaf",
   "metadata": {},
   "source": [
    "A: \n",
    "\n",
    "a) `float` -> `bool`  \n",
    "b) `ival` -> `float`; `fval + ival` -> `double`  \n",
    "c) `cval` -> `int`; `ival * cval` -> `double`"
   ]
  },
  {
   "cell_type": "markdown",
   "id": "6d66e5b6-ff2a-48ea-8b5c-603fdc39260a",
   "metadata": {},
   "source": [
    "### Exercise 4.35:\n",
    "Given the following definitions,\n",
    "```\n",
    "char cval;\n",
    "int ival;\n",
    "unsigned int ui;\n",
    "float fval;\n",
    "double dval;\n",
    "```\n",
    "identify the implicit type conversions, if any, taking place:  \n",
    "(a) `cval = 'a' + 3;`  \n",
    "(b) `fval = ui - ival * 1.0;`  \n",
    "(c) `dval = ui * fval;`  \n",
    "(d) `cval = ival + fval + dval;`  "
   ]
  },
  {
   "cell_type": "markdown",
   "id": "da030988-b128-485a-a48e-b9830e20454f",
   "metadata": {},
   "source": [
    "A:\n",
    "\n",
    "a) `'a'` -> `int`; `'a' + 3` -> `char`  \n",
    "b) `ival` -> `double`; `ui` -> `double`; `ui - ival * 1.0` -> `float`  \n",
    "c) `ui` -> `float`; `ui * fval` -> `double`  \n",
    "d) `ival` -> `float`; `ival + fval` -> `double`; `ival + fval + dval` -> `char`"
   ]
  },
  {
   "cell_type": "markdown",
   "id": "4d536e18-f472-4b16-b1d2-9334b4b4d346",
   "metadata": {
    "jp-MarkdownHeadingCollapsed": true,
    "tags": []
   },
   "source": [
    "## Exercises Section 4.11.3"
   ]
  },
  {
   "cell_type": "markdown",
   "id": "5b9d8e5c-b7ae-48d4-a432-8b12f2334730",
   "metadata": {},
   "source": [
    "### Exercise 4.36:\n",
    "Assuming `i` is an int and `d` is a double write the expression `i *= d` so\n",
    "that it does integral, rather than floating-point, multiplication."
   ]
  },
  {
   "cell_type": "code",
   "execution_count": 1,
   "id": "85dcde2e-3727-4cff-a689-f346d44606e8",
   "metadata": {},
   "outputs": [
    {
     "data": {
      "text/plain": [
       "2"
      ]
     },
     "execution_count": 1,
     "metadata": {},
     "output_type": "execute_result"
    }
   ],
   "source": [
    "int i = 1;\n",
    "double d = 2.0;\n",
    "i *= static_cast<int>(d)"
   ]
  },
  {
   "cell_type": "markdown",
   "id": "b686d1fb-8e6c-4e10-a60a-b2929fffad91",
   "metadata": {},
   "source": [
    "### Exercise 4.37:\n",
    "Rewrite each of the following old-style casts to use a named cast:\n",
    "```\n",
    "int i;\n",
    "double d;\n",
    "const string *ps;\n",
    "char *pc;\n",
    "void *pv;\n",
    "```\n",
    "(a) `pv = (void*)ps;`  \n",
    "(b) `i = int(*pc);`  \n",
    "(c) `pv = &d;`  \n",
    "(d) `pc = (char*) pv;`  "
   ]
  },
  {
   "cell_type": "code",
   "execution_count": 1,
   "id": "80219389-19c3-4d57-afd1-5740bc23c8b5",
   "metadata": {},
   "outputs": [],
   "source": [
    "#include <string>\n",
    "using std::string;\n",
    "\n",
    "int i;\n",
    "double d;\n",
    "const string *ps;\n",
    "char *pc;\n",
    "void *pv;"
   ]
  },
  {
   "cell_type": "code",
   "execution_count": 2,
   "id": "6f9e8422-5aa5-4d8b-baac-ec2e3da6c817",
   "metadata": {},
   "outputs": [
    {
     "data": {
      "text/plain": [
       "@0x7fff0d20ddd8"
      ]
     },
     "execution_count": 2,
     "metadata": {},
     "output_type": "execute_result"
    }
   ],
   "source": [
    "// a)\n",
    "pv = static_cast<void*>(const_cast<string*>(ps))"
   ]
  },
  {
   "cell_type": "code",
   "execution_count": 3,
   "id": "ce2490d4-d302-40ef-9c02-bf825e410b46",
   "metadata": {},
   "outputs": [
    {
     "name": "stderr",
     "output_type": "stream",
     "text": [
      "input_line_13:3:23: warning: null passed to a callee that requires a non-null argument [-Wnonnull]\n",
      "i = static_cast<int>(*pc)\n",
      "                      ^~\n"
     ]
    },
    {
     "ename": "Interpreter Exception",
     "evalue": "",
     "output_type": "error",
     "traceback": [
      "Interpreter Exception: "
     ]
    }
   ],
   "source": [
    "// b)\n",
    "i = static_cast<int>(*pc)"
   ]
  },
  {
   "cell_type": "code",
   "execution_count": 4,
   "id": "08ce1c7d-1408-4963-9cb4-a9abc5b97e58",
   "metadata": {},
   "outputs": [
    {
     "data": {
      "text/plain": [
       "@0x7fff0d20ddd8"
      ]
     },
     "execution_count": 4,
     "metadata": {},
     "output_type": "execute_result"
    }
   ],
   "source": [
    "// c)\n",
    "pv = static_cast<void*>(&d)"
   ]
  },
  {
   "cell_type": "code",
   "execution_count": 5,
   "id": "d43cc315-cd03-4434-b4ce-167318f61e3a",
   "metadata": {},
   "outputs": [
    {
     "data": {
      "text/plain": [
       "\"\""
      ]
     },
     "execution_count": 5,
     "metadata": {},
     "output_type": "execute_result"
    }
   ],
   "source": [
    "pc = reinterpret_cast<char*>(pv)"
   ]
  },
  {
   "cell_type": "markdown",
   "id": "ff876a46-731b-476c-82d2-b53e6eaf6c01",
   "metadata": {},
   "source": [
    "### Exercise 4.38:\n",
    "Explain the following expression:\n",
    "```\n",
    "double slope = static_cast<double>(j/i);\n",
    "```"
   ]
  },
  {
   "cell_type": "markdown",
   "id": "2f7a60fc-0354-4d85-aae3-e015b3e4b304",
   "metadata": {},
   "source": [
    "A:\n",
    "\n",
    "in this expression casting doesn't do anything, as j/i already caused loss of information  \n",
    "it's equivalent to\n",
    "```\n",
    "double slope = j/i;\n",
    "```"
   ]
  }
 ],
 "metadata": {
  "kernelspec": {
   "display_name": "C++17",
   "language": "C++17",
   "name": "xcpp17"
  },
  "language_info": {
   "codemirror_mode": "text/x-c++src",
   "file_extension": ".cpp",
   "mimetype": "text/x-c++src",
   "name": "c++",
   "version": "17"
  }
 },
 "nbformat": 4,
 "nbformat_minor": 5
}
