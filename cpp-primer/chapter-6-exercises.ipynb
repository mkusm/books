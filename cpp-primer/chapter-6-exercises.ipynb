{
 "cells": [
  {
   "cell_type": "markdown",
   "id": "d6d3dbd1-c108-45ee-a7b3-b1e528db3164",
   "metadata": {
    "tags": []
   },
   "source": [
    "# Chapter 6 Functions"
   ]
  },
  {
   "cell_type": "markdown",
   "id": "6824ef45-788b-4b73-9a8b-03ef91f637e7",
   "metadata": {},
   "source": [
    "## EXERCISES SECTION 6.1\n"
   ]
  },
  {
   "cell_type": "markdown",
   "id": "5427219f-5269-4242-a95f-535eb78dbc4a",
   "metadata": {},
   "source": [
    "### Exercise 6.1:\n",
    "What is the difference between a parameter and an argument?"
   ]
  },
  {
   "cell_type": "code",
   "execution_count": null,
   "id": "aeb76a13-ee2e-4278-a5c8-f75650f74601",
   "metadata": {},
   "outputs": [],
   "source": []
  },
  {
   "cell_type": "markdown",
   "id": "8247dd5a-ef4f-4fa0-b785-c6d77e8ffb6e",
   "metadata": {},
   "source": [
    "### Exercise 6.2:\n",
    "Indicate which of the following functions are in error and why. Suggest\n",
    "how you might correct the problems.  \n",
    "(a)\n",
    "```\n",
    "int f() {\n",
    "    string s;\n",
    "    // . . .\n",
    "    return s;\n",
    "}\n",
    "```\n",
    "(b) `f2(int i) { /* . . . */ }`  \n",
    "(c) `int calc(int v1, int v1) /* . . . */ }`  \n",
    "(d) `double square(double x) return x * x;`  "
   ]
  },
  {
   "cell_type": "code",
   "execution_count": null,
   "id": "5ed1494c-fcd7-46bd-9f76-043e84d34ea1",
   "metadata": {},
   "outputs": [],
   "source": []
  },
  {
   "cell_type": "markdown",
   "id": "a3188ecf-3798-4b4f-885d-de03a1ada97f",
   "metadata": {},
   "source": [
    "### Exercise 6.3:\n",
    "Write and test your own version of fact."
   ]
  },
  {
   "cell_type": "code",
   "execution_count": null,
   "id": "d593c192-6020-4c38-9ae0-1219eae703fb",
   "metadata": {},
   "outputs": [],
   "source": []
  },
  {
   "cell_type": "markdown",
   "id": "d1eac337-fc07-4a55-b5df-e33265c9ebee",
   "metadata": {},
   "source": [
    "### Exercise 6.4:\n",
    "Write a function that interacts with the user, asking for a number and\n",
    "generating the factorial of that number. Call this function from `main`."
   ]
  },
  {
   "cell_type": "code",
   "execution_count": null,
   "id": "fd39e139-0dfc-4396-92fb-46cb487e46ed",
   "metadata": {},
   "outputs": [],
   "source": []
  },
  {
   "cell_type": "markdown",
   "id": "2bf99796-b96f-4a51-8165-eeb21269cec9",
   "metadata": {},
   "source": [
    "### Exercise 6.5:\n",
    "Write a function to return the absolute value of its argument."
   ]
  },
  {
   "cell_type": "code",
   "execution_count": null,
   "id": "1ef1045d-fd14-498b-ab19-90ae625fcd2e",
   "metadata": {},
   "outputs": [],
   "source": []
  },
  {
   "cell_type": "markdown",
   "id": "bfc7554b-c62d-42ae-b17e-7b4e657113f2",
   "metadata": {},
   "source": [
    "## EXERCISES SECTION 6.1.1\n"
   ]
  },
  {
   "cell_type": "markdown",
   "id": "3231c85f-f33d-461d-8dfa-aa9c9d7e89be",
   "metadata": {},
   "source": [
    "### Exercise 6.6:\n",
    "Explain the differences between a parameter, a local variable, and a local\n",
    "static variable. Give an example of a function in which each might be useful."
   ]
  },
  {
   "cell_type": "code",
   "execution_count": null,
   "id": "a04654c1-f90a-4d8e-8efe-a13864fd9835",
   "metadata": {},
   "outputs": [],
   "source": []
  },
  {
   "cell_type": "markdown",
   "id": "1ad0c24e-5bff-4d20-93db-9fff39780d9e",
   "metadata": {},
   "source": [
    "### Exercise 6.7:\n",
    "Write a function that returns 0 when it is first called and then generates\n",
    "numbers in sequence each time it is called again."
   ]
  },
  {
   "cell_type": "code",
   "execution_count": null,
   "id": "cf99354b-1d91-4b12-8f17-8c6928ef9b90",
   "metadata": {},
   "outputs": [],
   "source": []
  },
  {
   "cell_type": "markdown",
   "id": "44c9b0cf-8789-4fc5-9268-7083a20d051e",
   "metadata": {},
   "source": [
    "## EXERCISES SECTION 6.1.2\n"
   ]
  },
  {
   "cell_type": "markdown",
   "id": "77007287-b4ae-4463-9a10-1d51cc5f962e",
   "metadata": {},
   "source": [
    "### Exercise 6.8:\n",
    "Write a header file named Chapter6.h that contains declarations for\n",
    "the functions you wrote for the exercises in § 6.1 (p. 205)."
   ]
  },
  {
   "cell_type": "code",
   "execution_count": null,
   "id": "662179d8-1c0a-4488-98ea-e892f47bbc32",
   "metadata": {},
   "outputs": [],
   "source": []
  },
  {
   "cell_type": "markdown",
   "id": "8d1d9cd5-a003-4e95-90fe-d0369daa63f8",
   "metadata": {},
   "source": [
    "## EXERCISES SECTION 6.1.3\n"
   ]
  },
  {
   "cell_type": "markdown",
   "id": "3c63fd17-8bf9-41ad-9e27-35210ac01dc8",
   "metadata": {},
   "source": [
    "### Exercise 6.9:\n",
    "Write your own versions of the fact.cc and factMain.cc files. These\n",
    "files should include your Chapter6.h from the exercises in the previous section. Use\n",
    "these files to understand how your compiler supports separate compilation."
   ]
  },
  {
   "cell_type": "code",
   "execution_count": null,
   "id": "28c5f9c1-2a02-46ae-9333-ab0a64dfa274",
   "metadata": {},
   "outputs": [],
   "source": []
  },
  {
   "cell_type": "markdown",
   "id": "25e96924-77d1-4762-988e-8673bed2e66f",
   "metadata": {},
   "source": [
    "## EXERCISES SECTION 6.2.1\n"
   ]
  },
  {
   "cell_type": "markdown",
   "id": "7103f9ed-2819-4eca-8f9b-7177dbd2f9c4",
   "metadata": {},
   "source": [
    "### Exercise 6.10:\n",
    "Using pointers, write a function to swap the values of two ints. Test\n",
    "the function by calling it and printing the swapped values."
   ]
  },
  {
   "cell_type": "code",
   "execution_count": null,
   "id": "9fdd99b4-868b-469b-a066-246b7d3046a3",
   "metadata": {},
   "outputs": [],
   "source": []
  },
  {
   "cell_type": "markdown",
   "id": "e44ca437-04a5-4214-84c2-8039f41725d3",
   "metadata": {},
   "source": [
    "## EXERCISES SECTION 6.2.2\n"
   ]
  },
  {
   "cell_type": "markdown",
   "id": "3f5655c4-26b5-4fee-a2d5-08243b07b911",
   "metadata": {},
   "source": [
    "### Exercise 6.11:\n",
    "Write and test your own version of reset that takes a reference."
   ]
  },
  {
   "cell_type": "code",
   "execution_count": null,
   "id": "60e7d5af-6d9d-4563-86c1-dba31c5959bf",
   "metadata": {},
   "outputs": [],
   "source": []
  },
  {
   "cell_type": "markdown",
   "id": "5b4bbab6-6f0d-41fc-8a89-066e7d943df9",
   "metadata": {},
   "source": [
    "### Exercise 6.12:\n",
    "Rewrite the program from exercise 6.10 in § 6.2.1 (p. 210) to use refer-\n",
    "ences instead of pointers to swap the value of two ints. Which version do you think\n",
    "would be easier to use and why?"
   ]
  },
  {
   "cell_type": "code",
   "execution_count": null,
   "id": "08fc2178-bbe3-48cc-9143-d155c0166eb0",
   "metadata": {},
   "outputs": [],
   "source": []
  },
  {
   "cell_type": "markdown",
   "id": "6d6d40eb-626a-41dd-b670-285c6384473e",
   "metadata": {},
   "source": [
    "### Exercise 6.13:\n",
    "Assuming T is the name of a type, explain the difference between a\n",
    "function declared as void f(T) and void f(T&)."
   ]
  },
  {
   "cell_type": "code",
   "execution_count": null,
   "id": "9f48a5a3-023a-4db2-8412-bf28dba8f845",
   "metadata": {},
   "outputs": [],
   "source": []
  },
  {
   "cell_type": "markdown",
   "id": "218866f8-62b8-4a93-bb01-1e0ef3c2b84a",
   "metadata": {},
   "source": [
    "### Exercise 6.14:\n",
    "Give an example of when a parameter should be a reference type. Give\n",
    "an example of when a parameter should not be a reference."
   ]
  },
  {
   "cell_type": "code",
   "execution_count": null,
   "id": "accb3c3c-591f-4f6a-b0ed-75745db24235",
   "metadata": {},
   "outputs": [],
   "source": []
  },
  {
   "cell_type": "markdown",
   "id": "700cef26-4974-4ae5-9ac1-f7178753e6d0",
   "metadata": {},
   "source": [
    "### Exercise 6.15:\n",
    "Explain the rationale for the type of each of find_char’s parameters\n",
    "In particular, why is s a reference to const but occurs is a plain reference? Why are\n",
    "these parameters references, but the char parameter c is not? What would happen if\n",
    "we made s a plain reference? What if we made occurs a reference to const?"
   ]
  },
  {
   "cell_type": "code",
   "execution_count": null,
   "id": "591b4060-94d9-463d-81a8-e0e7ca411174",
   "metadata": {},
   "outputs": [],
   "source": []
  },
  {
   "cell_type": "markdown",
   "id": "0b3131b0-6b99-47f0-8e4c-f263c52c8fa3",
   "metadata": {},
   "source": [
    "## EXERCISES SECTION 6.2.3\n"
   ]
  },
  {
   "cell_type": "markdown",
   "id": "02aa81e2-86ff-4b67-833c-e213f7960472",
   "metadata": {},
   "source": [
    "### Exercise 6.16:\n",
    "The following function, although legal, is less useful than it might be.\n",
    "Identify and correct the limitation on this function:\n",
    "```\n",
    "bool is_empty(string& s) { return s.empty(); }\n",
    "```"
   ]
  },
  {
   "cell_type": "code",
   "execution_count": null,
   "id": "d5b0c598-d775-493c-aa8a-6e41127c8a14",
   "metadata": {},
   "outputs": [],
   "source": []
  },
  {
   "cell_type": "markdown",
   "id": "330afb91-b233-489d-a2fc-af99c24f556c",
   "metadata": {},
   "source": [
    "### Exercise 6.17:\n",
    "Write a function to determine whether a string contains any capital\n",
    "letters. Write a function to change a string to all lowercase. Do the parameters you\n",
    "used in these functions have the same type? If so, why? If not, why not?"
   ]
  },
  {
   "cell_type": "code",
   "execution_count": null,
   "id": "4621a54d-be65-4b74-a94d-498ec30e7703",
   "metadata": {},
   "outputs": [],
   "source": []
  },
  {
   "cell_type": "markdown",
   "id": "051420ee-ea1d-4c9f-9654-a810cd35e790",
   "metadata": {},
   "source": [
    "### Exercise 6.18:\n",
    "Write declarations for each of the following functions. When you write\n",
    "these declarations, use the name of the function to indicate what the function does.  \n",
    "(a) A function named `compare` that returns a `bool` and has two parameters that\n",
    "are references to a class named `matrix`.  \n",
    "(b) A function named `change_val` that returns a `vector<int>` iterator and\n",
    "takes two parameters: One is an `int` and the other is an iterator for a `vector<int>`."
   ]
  },
  {
   "cell_type": "code",
   "execution_count": null,
   "id": "5c2d4dd1-3f25-4fa6-be3c-c4986e455880",
   "metadata": {},
   "outputs": [],
   "source": []
  },
  {
   "cell_type": "markdown",
   "id": "4d4b46f4-3179-4fce-8500-84cdfae3d55d",
   "metadata": {},
   "source": [
    "### Exercise 6.19:\n",
    "Given the following declarations, determine which calls are legal and\n",
    "which are illegal. For those that are illegal, explain why.\n",
    "```\n",
    "double calc(double);\n",
    "int count(const string &, char);\n",
    "int sum(vector<int>::iterator, vector<int>::iterator, int);\n",
    "vector<int> vec(10);\n",
    "```\n",
    "(a) `calc(23.4, 55.1); (b) count(\"abcda\", ’a’);`  \n",
    "(c) `calc(66);`  \n",
    "(d) `sum(vec.begin(), vec.end(), 3.8);`  "
   ]
  },
  {
   "cell_type": "code",
   "execution_count": null,
   "id": "d0556421-81dd-4f5a-bd09-363fed7d1a99",
   "metadata": {},
   "outputs": [],
   "source": []
  },
  {
   "cell_type": "markdown",
   "id": "055b6bb4-5140-4064-b5be-f435308d04d2",
   "metadata": {},
   "source": [
    "### Exercise 6.20:\n",
    "When should reference parameters be references to const? What happens if we make a parameter a plain reference when it could be a reference to const?"
   ]
  },
  {
   "cell_type": "code",
   "execution_count": null,
   "id": "fbcc4458-062e-46cc-9f40-19814ce8104e",
   "metadata": {},
   "outputs": [],
   "source": []
  },
  {
   "cell_type": "markdown",
   "id": "fbdce353-d2ff-450f-a82b-445787c5a421",
   "metadata": {},
   "source": [
    "## EXERCISES SECTION 6.2.4\n"
   ]
  },
  {
   "cell_type": "markdown",
   "id": "b692315c-42b7-4fe3-9a1c-80c1ae4df9a8",
   "metadata": {},
   "source": [
    "### Exercise 6.21:\n",
    "Write a function that takes an int and a pointer to an int and returns\n",
    "the larger of the int value or the value to which the pointer points. What type should\n",
    "you use for the pointer?"
   ]
  },
  {
   "cell_type": "code",
   "execution_count": null,
   "id": "16353079-f597-4674-b5c9-e3ab33c1ff5d",
   "metadata": {},
   "outputs": [],
   "source": []
  },
  {
   "cell_type": "markdown",
   "id": "ec177406-b98b-41e0-9959-e7ad4d9afdbd",
   "metadata": {},
   "source": [
    "### Exercise 6.22:\n",
    "Write a function to swap two int pointers."
   ]
  },
  {
   "cell_type": "code",
   "execution_count": null,
   "id": "a62e071e-3e38-4741-ad97-8669bc711364",
   "metadata": {},
   "outputs": [],
   "source": []
  },
  {
   "cell_type": "markdown",
   "id": "e169514a-f33c-4664-a5d6-f27e16f56892",
   "metadata": {},
   "source": [
    "### Exercise 6.23:\n",
    "Write your own versions of each of the print functions presented in\n",
    "this section. Call each of these functions to print i and j defined as follows:\n",
    "```\n",
    "int i = 0, j[2] = {0, 1};\n",
    "```"
   ]
  },
  {
   "cell_type": "code",
   "execution_count": null,
   "id": "193700db-a06f-4a48-ac57-0425319015c0",
   "metadata": {},
   "outputs": [],
   "source": []
  },
  {
   "cell_type": "markdown",
   "id": "208ab0a1-cbb8-4134-be15-aa607ba19c85",
   "metadata": {},
   "source": [
    "### Exercise 6.24:\n",
    "Explain the behavior of the following function. If there are problems in\n",
    "the code, explain what they are and how you might fix them.\n",
    "```\n",
    "void print(const int ia[10])\n",
    "{\n",
    "    for (size_t i = 0; i != 10; ++i)\n",
    "        cout << ia[i] << endl;\n",
    "}\n",
    "```"
   ]
  },
  {
   "cell_type": "code",
   "execution_count": null,
   "id": "70cbe163-9578-4d41-92c3-30b777366d6a",
   "metadata": {},
   "outputs": [],
   "source": []
  },
  {
   "cell_type": "markdown",
   "id": "31227cbd-7698-4759-aace-d2dd3bce3be6",
   "metadata": {},
   "source": [
    "## EXERCISES SECTION 6.2.5\n"
   ]
  },
  {
   "cell_type": "markdown",
   "id": "e7f9567e-17a0-49da-bfe6-013b9b809cb3",
   "metadata": {},
   "source": [
    "### Exercise 6.25:\n",
    "Write a main function that takes two arguments. Concatenate the sup-\n",
    "plied arguments and print the resulting string."
   ]
  },
  {
   "cell_type": "code",
   "execution_count": null,
   "id": "2efdb2be-1cc2-48a4-a209-c7610bb4c8bb",
   "metadata": {},
   "outputs": [],
   "source": []
  },
  {
   "cell_type": "markdown",
   "id": "f1dee2ef-a267-4431-8ec9-0b6d447a80d7",
   "metadata": {},
   "source": [
    "### Exercise 6.26:\n",
    "Write a program that accepts the options presented in this section. Print\n",
    "the values of the arguments passed to main."
   ]
  },
  {
   "cell_type": "code",
   "execution_count": null,
   "id": "d88425b2-1c35-4c3f-a008-10ef31a6405c",
   "metadata": {},
   "outputs": [],
   "source": []
  },
  {
   "cell_type": "markdown",
   "id": "344ac75c-85bb-4a84-b5d7-cb82df17cabd",
   "metadata": {},
   "source": [
    "## EXERCISES SECTION 6.2.6\n"
   ]
  },
  {
   "cell_type": "markdown",
   "id": "a859ec5a-5f4a-4433-902e-30e32e75ed77",
   "metadata": {},
   "source": [
    "### Exercise 6.27:\n",
    "Write a function that takes an `initializer_list<int>` and produces the sum of the elements in the list."
   ]
  },
  {
   "cell_type": "code",
   "execution_count": null,
   "id": "e4daf010-ac00-47e0-a3f4-de17b80c3045",
   "metadata": {},
   "outputs": [],
   "source": []
  },
  {
   "cell_type": "markdown",
   "id": "510ac772-ff5b-4242-a5e1-06362dfb7ad8",
   "metadata": {},
   "source": [
    "### Exercise 6.28:\n",
    "In the second version of `error_msg` that has an `ErrCode` parameter,\n",
    "what is the type of elem in the `for` loop?"
   ]
  },
  {
   "cell_type": "code",
   "execution_count": null,
   "id": "715d7dc4-86cd-48d2-8fec-ed63676b77c8",
   "metadata": {},
   "outputs": [],
   "source": []
  },
  {
   "cell_type": "markdown",
   "id": "9123767c-c75d-4cc5-876b-ff7478912d71",
   "metadata": {},
   "source": [
    "### Exercise 6.29:\n",
    "When you use an `initializer_list` in a `range for` would you ever\n",
    "use a reference as the loop control variable? If so, why? If not, why not?"
   ]
  },
  {
   "cell_type": "code",
   "execution_count": null,
   "id": "cb68a1b5-fb8a-44b8-b6f8-e52552b0ea30",
   "metadata": {},
   "outputs": [],
   "source": []
  },
  {
   "cell_type": "markdown",
   "id": "0bc81a76-7987-4b13-97f6-e7d666edea88",
   "metadata": {},
   "source": [
    "## EXERCISES SECTION 6.3.2\n"
   ]
  },
  {
   "cell_type": "markdown",
   "id": "51e2ba66-8281-4d98-bf2e-d571709402bf",
   "metadata": {},
   "source": [
    "### Exercise 6.30:\n",
    "Compile the version of `str_subrange` as presented on page 223 to see\n",
    "what your compiler does with the indicated errors."
   ]
  },
  {
   "cell_type": "code",
   "execution_count": null,
   "id": "4d2f3ec0-636c-4527-9bf5-a0ccc5dbc2e9",
   "metadata": {},
   "outputs": [],
   "source": []
  },
  {
   "cell_type": "markdown",
   "id": "1ad456bb-ca25-4e52-a8ca-a065e2936fb2",
   "metadata": {},
   "source": [
    "### Exercise 6.31:\n",
    "When is it valid to return a reference? A reference to `const`?"
   ]
  },
  {
   "cell_type": "code",
   "execution_count": null,
   "id": "8c4b3f14-d211-4b71-9a8f-65c791831b32",
   "metadata": {},
   "outputs": [],
   "source": []
  },
  {
   "cell_type": "markdown",
   "id": "dac94190-1235-4fa5-aca8-d4ab4ff4d7a7",
   "metadata": {},
   "source": [
    "### Exercise 6.32:\n",
    "Indicate whether the following function is legal. If so, explain what it\n",
    "does; if not, correct any errors and then explain it.\n",
    "```\n",
    "int &get(int *arry, int index) { return arry[index]; }\n",
    "int main() {\n",
    "    int ia[10];\n",
    "    for (int i = 0; i != 10; ++i)\n",
    "        get(ia, i) = i;\n",
    "}\n",
    "```"
   ]
  },
  {
   "cell_type": "code",
   "execution_count": null,
   "id": "2651ed36-199b-4a1a-92fe-d0f43e36c413",
   "metadata": {},
   "outputs": [],
   "source": []
  },
  {
   "cell_type": "markdown",
   "id": "90ff1ebe-df43-49ab-890a-ab3bbb8d7af5",
   "metadata": {},
   "source": [
    "### Exercise 6.33:\n",
    "Write a recursive function to print the contents of a `vector`."
   ]
  },
  {
   "cell_type": "code",
   "execution_count": null,
   "id": "4959e5f9-1fe5-4889-9b8a-7f7fa278d423",
   "metadata": {},
   "outputs": [],
   "source": []
  },
  {
   "cell_type": "markdown",
   "id": "81c779fa-cd99-44f9-a8cf-9fe03626f7fe",
   "metadata": {},
   "source": [
    "### Exercise 6.34:\n",
    "What would happen if the stopping condition in `factorial` were\n",
    "```\n",
    "if (val != 0)\n",
    "```"
   ]
  },
  {
   "cell_type": "code",
   "execution_count": null,
   "id": "7417d856-cf02-42ec-bc22-394f6c560db4",
   "metadata": {},
   "outputs": [],
   "source": []
  },
  {
   "cell_type": "markdown",
   "id": "d1690f52-e1ba-4708-b613-ac5c4e6176ce",
   "metadata": {},
   "source": [
    "### Exercise 6.35:\n",
    "In the call to `factorial`, why did we pass `val - 1` rather than `val--`?"
   ]
  },
  {
   "cell_type": "code",
   "execution_count": null,
   "id": "3305d7f1-340d-47e0-a063-61ff188985c5",
   "metadata": {},
   "outputs": [],
   "source": []
  },
  {
   "cell_type": "markdown",
   "id": "fab06e22-4e36-4864-ab65-ada8be88b0ec",
   "metadata": {},
   "source": [
    "## EXERCISES SECTION 6.3.3\n"
   ]
  },
  {
   "cell_type": "markdown",
   "id": "0b32f364-5f35-4475-b5ac-49395116b594",
   "metadata": {},
   "source": [
    "### Exercise 6.36:\n",
    "Write the declaration for a function that returns a reference to an array\n",
    "of ten strings, without using either a trailing return, decltype, or a type alias."
   ]
  },
  {
   "cell_type": "code",
   "execution_count": null,
   "id": "12a99db6-ae4d-468e-8aa4-18c0d41af7e9",
   "metadata": {},
   "outputs": [],
   "source": []
  },
  {
   "cell_type": "markdown",
   "id": "8815dc4c-5189-4c2a-b347-77922acc8745",
   "metadata": {},
   "source": [
    "### Exercise 6.37:\n",
    "Write three additional declarations for the function in the previous ex-\n",
    "ercise. One should use a type alias, one should use a trailing return, and the third\n",
    "should use decltype. Which form do you prefer and why?"
   ]
  },
  {
   "cell_type": "code",
   "execution_count": null,
   "id": "facb6716-2701-487e-b8a4-9f13183fdd28",
   "metadata": {},
   "outputs": [],
   "source": []
  },
  {
   "cell_type": "markdown",
   "id": "133507c3-c9c7-4e30-81b5-5475cfd32413",
   "metadata": {},
   "source": [
    "### Exercise 6.38:\n",
    "Revise the arrPtr function on to return a reference to the array."
   ]
  },
  {
   "cell_type": "code",
   "execution_count": null,
   "id": "dedf3024-1823-4ae6-a470-c4821952fc4c",
   "metadata": {},
   "outputs": [],
   "source": []
  },
  {
   "cell_type": "markdown",
   "id": "b86ca625-e572-4f4c-889f-4375e1d9d2fc",
   "metadata": {},
   "source": [
    "## EXERCISES SECTION 6.4\n"
   ]
  },
  {
   "cell_type": "markdown",
   "id": "5e18f579-fda3-4bcf-8e17-88453ce3d637",
   "metadata": {},
   "source": [
    "### Exercise 6.39:\n",
    "Explain the effect of the second declaration in each one of the following\n",
    "sets of declarations. Indicate which, if any, are illegal.  \n",
    "(a)\n",
    "```\n",
    "int calc(int, int);\n",
    "int calc(const int, const int);\n",
    "```\n",
    "(b)\n",
    "```\n",
    "int get();\n",
    "double get();\n",
    "```\n",
    "(c)\n",
    "```\n",
    "int *reset(int *);\n",
    "double *reset(double *);\n",
    "```"
   ]
  },
  {
   "cell_type": "code",
   "execution_count": null,
   "id": "1d4c5564-ced2-411c-a478-5774926c968e",
   "metadata": {},
   "outputs": [],
   "source": []
  },
  {
   "cell_type": "markdown",
   "id": "233e2134-0a70-428c-8b1f-5f2c2ad1e3ba",
   "metadata": {},
   "source": [
    "## EXERCISES SECTION 6.5.1\n"
   ]
  },
  {
   "cell_type": "markdown",
   "id": "30dbaccb-a1e8-4752-b055-0ac2dda72d7c",
   "metadata": {},
   "source": [
    "### Exercise 6.40:\n",
    "Which, if either, of the following declarations are errors? Why?  \n",
    "(a) `int ff(int a, int b = 0, int c = 0);`  \n",
    "(b) `char *init(int ht = 24, int wd, char bckgrnd);`  "
   ]
  },
  {
   "cell_type": "code",
   "execution_count": null,
   "id": "8ca911e7-7041-403d-af5f-893283a5b49d",
   "metadata": {},
   "outputs": [],
   "source": []
  },
  {
   "cell_type": "markdown",
   "id": "453a634e-bce9-44fb-ab31-c3c9e5b26c13",
   "metadata": {},
   "source": [
    "### Exercise 6.41:\n",
    "Which, if any, of the following calls are illegal? Why? Which, if any, are\n",
    "legal but unlikely to match the programmer’s intent? Why?\n",
    "```\n",
    "char *init(int ht, int wd = 80, char bckgrnd = ’ ’);\n",
    "```\n",
    "(a) `init();`  \n",
    "(b) `init(24,10);`  \n",
    "(c) `init(14, ’*’);`"
   ]
  },
  {
   "cell_type": "code",
   "execution_count": null,
   "id": "2fa65369-3f10-49b6-b82e-304f25afd2a4",
   "metadata": {},
   "outputs": [],
   "source": []
  },
  {
   "cell_type": "markdown",
   "id": "9560098c-8703-4011-b19e-759d75bee598",
   "metadata": {},
   "source": [
    "### Exercise 6.42:\n",
    "Give the second parameter of `make_plural` (§ 6.3.2, p. 224) a default\n",
    "argument of `'s'`. Test your program by printing singular and plural versions of the\n",
    "words `success` and `failure`."
   ]
  },
  {
   "cell_type": "code",
   "execution_count": null,
   "id": "b7c76385-9aa8-4508-9464-2fcaa108d431",
   "metadata": {},
   "outputs": [],
   "source": []
  },
  {
   "cell_type": "markdown",
   "id": "9305de30-bb07-4952-a14b-9cbc49b6ab94",
   "metadata": {},
   "source": [
    "## EXERCISES SECTION 6.5.2\n"
   ]
  },
  {
   "cell_type": "markdown",
   "id": "60b0f46f-e499-4443-8798-33322bbe9482",
   "metadata": {},
   "source": [
    "### Exercise 6.43:\n",
    "Which one of the following declarations and definitions would you put\n",
    "in a header? In a source file? Explain why.  \n",
    "(a) `inline bool eq(const BigInt&, const BigInt&) {...}`  \n",
    "(b) `void putValues(int *arr, int size);`"
   ]
  },
  {
   "cell_type": "code",
   "execution_count": null,
   "id": "31cc14e4-6751-42d5-8520-2745b31fc088",
   "metadata": {},
   "outputs": [],
   "source": []
  },
  {
   "cell_type": "markdown",
   "id": "491f1641-5cc0-48ac-802e-f246c987fac5",
   "metadata": {},
   "source": [
    "### Exercise 6.44:\n",
    "Rewrite the `isShorter` function from § 6.2.2 (p. 211) to be `inline`."
   ]
  },
  {
   "cell_type": "code",
   "execution_count": null,
   "id": "370afd9a-e911-4441-8fee-ac1b618e2a9a",
   "metadata": {},
   "outputs": [],
   "source": []
  },
  {
   "cell_type": "markdown",
   "id": "842c2cb9-cfcb-4028-94d8-1e9a1869eac6",
   "metadata": {},
   "source": [
    "### Exercise 6.45:\n",
    "Review the programs you’ve written for the earlier exercises and decide\n",
    "whether they should be defined as `inline`. If so, do so. If not, explain why they\n",
    "should not be `inline`."
   ]
  },
  {
   "cell_type": "code",
   "execution_count": null,
   "id": "c8d6f9d3-168f-46f9-9a57-5439a5c2b423",
   "metadata": {},
   "outputs": [],
   "source": []
  },
  {
   "cell_type": "markdown",
   "id": "b3a1b364-a43a-4b6d-9651-4e0adf72db73",
   "metadata": {},
   "source": [
    "### Exercise 6.46:\n",
    "Would it be possible to define `isShorter` as a `constexpr`? If so, do so. If not, explain why not."
   ]
  },
  {
   "cell_type": "code",
   "execution_count": null,
   "id": "c75ea52f-8b57-48d0-8c17-eb2ae797574c",
   "metadata": {},
   "outputs": [],
   "source": []
  },
  {
   "cell_type": "markdown",
   "id": "24683832-42e5-48f9-b1eb-70dcce849391",
   "metadata": {},
   "source": [
    "## EXERCISES SECTION 6.5.3\n"
   ]
  },
  {
   "cell_type": "markdown",
   "id": "d4923fda-9f2e-4ced-bc92-43ac207acc06",
   "metadata": {},
   "source": [
    "### Exercise 6.47:\n",
    "Revise the program you wrote in the exercises in § 6.3.2 (p. 228) that\n",
    "used recursion to print the contents of a `vector` to conditionally print information\n",
    "about its execution. For example, you might print the size of the `vector` on each call.\n",
    "Compile and run the program with debugging turned on and again with it turned off."
   ]
  },
  {
   "cell_type": "code",
   "execution_count": null,
   "id": "b75ffb38-888f-4491-b1bf-68ad8da8d3cd",
   "metadata": {},
   "outputs": [],
   "source": []
  },
  {
   "cell_type": "markdown",
   "id": "f9dec040-d38a-4c39-bb25-57243f8725af",
   "metadata": {},
   "source": [
    "### Exercise 6.48:\n",
    "Explain what this loop does and whether it is a good use of `assert`:\n",
    "```\n",
    "string s;\n",
    "while (cin >> s && s != sought) { } // empty body\n",
    "assert(cin);\n",
    "```"
   ]
  },
  {
   "cell_type": "code",
   "execution_count": null,
   "id": "ae762b9b-44c7-4329-8ea1-25ff3c4f7584",
   "metadata": {},
   "outputs": [],
   "source": []
  },
  {
   "cell_type": "markdown",
   "id": "626e48e8-9b01-491a-8570-44ed13e8d8da",
   "metadata": {},
   "source": [
    "## EXERCISES SECTION 6.6\n"
   ]
  },
  {
   "cell_type": "markdown",
   "id": "6312dced-c50d-4a86-9c28-00ef774995bc",
   "metadata": {},
   "source": [
    "### Exercise 6.49:\n",
    "What is a candidate function? What is a viable function?"
   ]
  },
  {
   "cell_type": "code",
   "execution_count": null,
   "id": "e706e6ca-f184-4f60-a44c-18c029ed2dd8",
   "metadata": {},
   "outputs": [],
   "source": []
  },
  {
   "cell_type": "markdown",
   "id": "9194a8e5-d27c-40f3-a099-44f61c2b5c44",
   "metadata": {},
   "source": [
    "### Exercise 6.50:\n",
    "Given the declarations for `f` from page 242, list the viable functions, if\n",
    "any for each of the following calls. Indicate which function is the best match, or if the\n",
    "call is illegal whether there is no match or why the call is ambiguous.  \n",
    "(a) `f(2.56, 42)`  \n",
    "(b) `f(42)`  \n",
    "(c) `f(42, 0)`  \n",
    "(d) `f(2.56, 3.14)`  "
   ]
  },
  {
   "cell_type": "code",
   "execution_count": null,
   "id": "b4c7d94a-cd2f-417d-9f61-012347e5e062",
   "metadata": {},
   "outputs": [],
   "source": []
  },
  {
   "cell_type": "markdown",
   "id": "da2a2d4f-0ab4-4cf6-a8f5-3c9779122eb8",
   "metadata": {},
   "source": [
    "### Exercise 6.51:\n",
    "Write all four versions of `f`. Each function should print a distinguishing\n",
    "message. Check your answers for the previous exercise. If your answers were\n",
    "incorrect, study this section until you understand why your answers were wrong."
   ]
  },
  {
   "cell_type": "code",
   "execution_count": null,
   "id": "617159f7-5484-4bbb-9b97-4712c9702e08",
   "metadata": {},
   "outputs": [],
   "source": []
  },
  {
   "cell_type": "markdown",
   "id": "e46ba298-16fb-49d0-8a5e-72bec8348cbf",
   "metadata": {},
   "source": [
    "## EXERCISES SECTION 6.6.1\n"
   ]
  },
  {
   "cell_type": "markdown",
   "id": "60a30290-626e-4f8b-ab16-5809a5f33b06",
   "metadata": {},
   "source": [
    "### Exercise 6.52:\n",
    "Given the following declarations,\n",
    "```\n",
    "void manip(int, int);\n",
    "double dobj;\n",
    "```\n",
    "what is the rank (§ 6.6.1, p. 245) of each conversion in the following calls?  \n",
    "(a) `manip(’a’, ’z’);`  \n",
    "(b) `manip(55.4, dobj);`  "
   ]
  },
  {
   "cell_type": "code",
   "execution_count": null,
   "id": "0b0c9e5e-11c7-45ae-9a26-aa05e3389358",
   "metadata": {},
   "outputs": [],
   "source": []
  },
  {
   "cell_type": "markdown",
   "id": "06b478ca-c582-49eb-94c8-753cab159397",
   "metadata": {},
   "source": [
    "### Exercise 6.53:\n",
    "Explain the effect of the second declaration in each one of the following\n",
    "sets of declarations. Indicate which, if any, are illegal.  \n",
    "(a)\n",
    "```\n",
    "int calc(int&, int&);\n",
    "int calc(const int&, const int&);\n",
    "```\n",
    "(b) \n",
    "```\n",
    "int calc(char*, char*);\n",
    "int calc(const char*, const char*);\n",
    "```\n",
    "(c)\n",
    "```\n",
    "int calc(char*, char*);\n",
    "int calc(char* const, char* const);\n",
    "```"
   ]
  },
  {
   "cell_type": "code",
   "execution_count": null,
   "id": "a00926c3-98be-472a-8661-61bd769eb57c",
   "metadata": {},
   "outputs": [],
   "source": []
  },
  {
   "cell_type": "markdown",
   "id": "25c46446-b3c8-4da2-b7bc-b34456d64629",
   "metadata": {},
   "source": [
    "## EXERCISES SECTION 6.7\n"
   ]
  },
  {
   "cell_type": "markdown",
   "id": "e815f38f-2818-4cd7-a903-dd2d41bd38ea",
   "metadata": {},
   "source": [
    "### Exercise 6.54:\n",
    "Write a declaration for a function that takes two `int` parameters and\n",
    "returns an `int`, and declare a `vector` whose elements have this function pointer type."
   ]
  },
  {
   "cell_type": "code",
   "execution_count": null,
   "id": "39925ebc-2eb5-439d-b719-fdda4b09720d",
   "metadata": {},
   "outputs": [],
   "source": []
  },
  {
   "cell_type": "markdown",
   "id": "8b84926c-db67-485c-9b86-0fa9777f69e7",
   "metadata": {},
   "source": [
    "### Exercise 6.55:\n",
    "Write four functions that add, subtract, multiply, and divide two `int`\n",
    "values. Store pointers to these functions in your `vector` from the previous exercise."
   ]
  },
  {
   "cell_type": "code",
   "execution_count": null,
   "id": "e63e7968-2c78-4441-86db-30119195c697",
   "metadata": {},
   "outputs": [],
   "source": []
  },
  {
   "cell_type": "markdown",
   "id": "17333309-e993-44b8-9bdd-249a49aad646",
   "metadata": {},
   "source": [
    "### Exercise 6.56:\n",
    "Call each element in the `vector` and print their result."
   ]
  },
  {
   "cell_type": "code",
   "execution_count": null,
   "id": "34803dfe-e038-4645-84b9-ee65ead4d336",
   "metadata": {},
   "outputs": [],
   "source": []
  }
 ],
 "metadata": {
  "kernelspec": {
   "display_name": "C++17",
   "language": "C++17",
   "name": "xcpp17"
  },
  "language_info": {
   "codemirror_mode": "text/x-c++src",
   "file_extension": ".cpp",
   "mimetype": "text/x-c++src",
   "name": "c++",
   "version": "17"
  }
 },
 "nbformat": 4,
 "nbformat_minor": 5
}
