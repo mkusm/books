{
 "cells": [
  {
   "cell_type": "markdown",
   "id": "219e045a-ef8e-416f-a063-2bdc7fff12b0",
   "metadata": {},
   "source": [
    "# Chapter 14 Overloaded Operations and Conversions"
   ]
  },
  {
   "cell_type": "markdown",
   "id": "04dbe26c-b0fd-446c-a6e1-6d005dca9c26",
   "metadata": {},
   "source": [
    "## EXERCISES SECTION 14.1"
   ]
  },
  {
   "cell_type": "markdown",
   "id": "2939976b-c69d-4ce4-a538-7cc51f896bee",
   "metadata": {},
   "source": [
    "### Exercise 14.1: \n",
    "In what ways does an overloaded operator differ from a built-in \n",
    "operator? In what ways are overloaded operators the same as the built-in operators?"
   ]
  },
  {
   "cell_type": "markdown",
   "id": "dfd8f3a7-f1bd-41c7-a476-15976a82e01e",
   "metadata": {},
   "source": [
    "A:\n",
    "\n",
    "Differences between overloaded operators and built-in operators:\n",
    "\n",
    "    Operands: Built-in operators operate on built-in types, such as integers, floating-point numbers, and pointers. Overloaded operators, on the other hand, can operate on user-defined types, allowing you to define custom behavior for your own classes or structures.\n",
    "\n",
    "    Meaning: Built-in operators have well-defined meanings and behaviors determined by the C++ language standard. For example, the addition operator (+) performs arithmetic addition for numeric types and concatenation for strings. Overloaded operators, however, can have custom meanings and behaviors specific to the type they are defined for. For instance, you can overload the addition operator to concatenate two objects of a user-defined class.\n",
    "\n",
    "Similarities between overloaded operators and built-in operators:\n",
    "\n",
    "    Symbolic representation: Overloaded operators use the same symbols as the corresponding built-in operators. For example, you can overload the '+' operator to add two objects of a user-defined class, and it will be invoked using the '+' symbol.\n",
    "\n",
    "    Precedence and associativity: Overloaded operators follow the same precedence and associativity rules as their corresponding built-in operators. For example, the '*' operator has higher precedence than the '+' operator, and the '+' operator is left-associative."
   ]
  },
  {
   "cell_type": "markdown",
   "id": "92fb8e42-f7bb-407b-9a64-2ba0ee12b90b",
   "metadata": {},
   "source": [
    "### Exercise 14.2: \n",
    "Write declarations for the overloaded input, output, addition, and\n",
    "compound-assignment operators for `Sales_data`."
   ]
  },
  {
   "cell_type": "code",
   "execution_count": 1,
   "id": "824e640e-e948-4411-9fdc-6fdd7e00ab1e",
   "metadata": {},
   "outputs": [
    {
     "name": "stdout",
     "output_type": "stream",
     "text": [
      "#include <iostream>\n",
      "#include <string>\n",
      "\n",
      "using std::cout, std::endl, std::cin, std::string, std::istream, std::ostream;\n",
      "\n",
      "class Sales_data \n",
      "{\n",
      "    friend istream& operator>>(istream&, Sales_data&);\n",
      "    friend ostream& operator<<(ostream&, const Sales_data&);\n",
      "    friend string operator+(const Sales_data&, const Sales_data&);\n",
      "    \n",
      "public:\n",
      "    Sales_data() = default;\n",
      "    Sales_data(const string &s): bookNo(s) { }\n",
      "    Sales_data(const string &s, unsigned n, double p): bookNo(s), units_sold(n), revenue(p*n) { }\n",
      "    Sales_data(istream &is) { is >> *this; }\n",
      "    \n",
      "    Sales_data& operator+=(const Sales_data&);\n",
      "    \n",
      "    string isbn() const { return bookNo; }\n",
      "    double avg_price() const { return units_sold ? revenue / units_sold : 0; }\n",
      "    Sales_data& combine(const Sales_data&);\n",
      "    \n",
      "private:\n",
      "    string bookNo;\n",
      "    unsigned units_sold = 0;\n",
      "    double revenue = 0.0;\n",
      "};\n",
      "\n",
      "istream& operator>>(istream&, Sales_data&);\n",
      "ostream& operator<<(ostream&, const Sales_data&);\n",
      "string operator+(const Sales_data&, const Sales_data&);\n",
      "\n",
      "int main()\n",
      "{\n",
      "    Sales_data s;\n",
      "    return 0;\n",
      "}\n"
     ]
    }
   ],
   "source": [
    "! cat ex_14_02_Sales_data.cc"
   ]
  },
  {
   "cell_type": "code",
   "execution_count": 2,
   "id": "98461001-f024-4aa3-8d6a-f1bf0fd10303",
   "metadata": {},
   "outputs": [],
   "source": [
    "! g++ ex_14_02_Sales_data.cc -std=c++17 -o ex.out; rm ex.out"
   ]
  },
  {
   "cell_type": "markdown",
   "id": "537791a0-cd4a-41bf-bb3c-6004c70127ba",
   "metadata": {},
   "source": [
    "### Exercise 14.3: \n",
    "Both `string` and `vector` define an overloaded `==` that can be used to\n",
    "compare objects of those types. Assuming `svec1` and `svec2` are `vector`s that hold\n",
    "`string`s, identify which version of `==` is applied in each of the following expressions:\n",
    "```\n",
    "(a) \"cobble\" == \"stone\"\n",
    "(b) svec1[0] == svec2[0]\n",
    "(c) svec1 == svec2\n",
    "(d) svec1[0] == \"stone\"\n",
    "```"
   ]
  },
  {
   "cell_type": "markdown",
   "id": "55e65c15-7ef1-4964-a2b7-875daba25fb7",
   "metadata": {},
   "source": [
    "A:\n",
    "\n",
    "a) const char* == const char*  \n",
    "b) string == string  \n",
    "c) vector == vector  \n",
    "d) string == string "
   ]
  },
  {
   "cell_type": "markdown",
   "id": "c814a914-6ed0-458b-941e-651ea4b062ee",
   "metadata": {},
   "source": [
    "### Exercise 14.4: \n",
    "Explain how to decide whether the following should be class members:\n",
    "```\n",
    "(a) %\n",
    "(b) %=\n",
    "(c) ++\n",
    "(d) ->\n",
    "(e) <<\n",
    "(f) &&\n",
    "(g) ==\n",
    "(h) ()\n",
    "```"
   ]
  },
  {
   "cell_type": "markdown",
   "id": "c010e9b7-e06e-4e5c-bad2-31b3bbe2bd17",
   "metadata": {},
   "source": [
    "A:\n",
    "\n",
    "a) symmetric operator, should be non-member  \n",
    "b) compound-assignment, should be member  \n",
    "c) changes the state, should be member  \n",
    "d) `->` must be a member  \n",
    "e) mixed-type, must be a non-member if used with `iostream` library  \n",
    "f) symmetrical, non-member  \n",
    "g) symmetrical, non-member  \n",
    "h) `()` must be a member"
   ]
  },
  {
   "cell_type": "markdown",
   "id": "8f32f99c-3d87-4c71-974d-9f3c45c355df",
   "metadata": {
    "tags": []
   },
   "source": [
    "### Exercise 14.5: \n",
    "In exercise 7.40 from § 7.5.1 (p. 291) you wrote a sketch of one of the\n",
    "following classes. Decide what, if any, overloaded operators your class should provide.\n",
    "```\n",
    "(a) Book\n",
    "(b) Date\n",
    "(c) Employee\n",
    "(d) Vehicle\n",
    "(e) Object\n",
    "(f) Tree\n",
    "```"
   ]
  },
  {
   "cell_type": "code",
   "execution_count": 1,
   "id": "6791bc57-c7f8-417d-8566-3f2f14420a01",
   "metadata": {},
   "outputs": [],
   "source": [
    "#include <iostream>\n",
    "using namespace std;\n",
    "\n",
    "class Tree;\n",
    "\n",
    "ostream& operator<<(ostream& os, const Tree& t);\n",
    "istream& operator>>(istream& is, Tree& t);\n",
    "\n",
    "class Tree\n",
    "{\n",
    "    friend ostream& operator<<(ostream& os, const Tree& t);\n",
    "    friend istream& operator>>(istream& is, Tree& t);\n",
    "public:\n",
    "    Tree(double h = 0, double w = 0, int b = 0): height(h), width(w), branches(b) { }\n",
    "private:\n",
    "    double height;\n",
    "    double width;\n",
    "    int branches;\n",
    "};"
   ]
  },
  {
   "cell_type": "markdown",
   "id": "a2e99766-4d84-466d-81f5-70199994b08e",
   "metadata": {},
   "source": [
    "## EXERCISES SECTION 14.2.1"
   ]
  },
  {
   "cell_type": "markdown",
   "id": "bf357ee2-6a34-4593-b2b2-38781bce20a4",
   "metadata": {},
   "source": [
    "### Exercise 14.6: \n",
    "Define an output operator for your `Sales_data` class."
   ]
  },
  {
   "cell_type": "code",
   "execution_count": 1,
   "id": "c0aecc07-ddb6-4100-935b-d883a6e49a0f",
   "metadata": {},
   "outputs": [
    {
     "name": "stdout",
     "output_type": "stream",
     "text": [
      "#include <iostream>\n",
      "#include <string>\n",
      "\n",
      "using std::cout, std::endl, std::cin, std::string, std::istream, std::ostream;\n",
      "\n",
      "class Sales_data \n",
      "{\n",
      "    friend istream& operator>>(istream&, Sales_data&);\n",
      "    friend ostream& operator<<(ostream&, const Sales_data&);\n",
      "    friend string operator+(const Sales_data&, const Sales_data&);\n",
      "    \n",
      "public:\n",
      "    Sales_data() = default;\n",
      "    Sales_data(const string &s): bookNo(s) { }\n",
      "    Sales_data(const string &s, unsigned n, double p): bookNo(s), units_sold(n), revenue(p*n) { }\n",
      "    Sales_data(istream &is) { is >> *this; }\n",
      "    \n",
      "    Sales_data& operator+=(const Sales_data&);\n",
      "    \n",
      "    string isbn() const { return bookNo; }\n",
      "    double avg_price() const { return units_sold ? revenue / units_sold : 0; }\n",
      "    Sales_data& combine(const Sales_data&);\n",
      "    \n",
      "private:\n",
      "    string bookNo;\n",
      "    unsigned units_sold = 0;\n",
      "    double revenue = 0.0;\n",
      "};\n",
      "\n",
      "istream& operator>>(istream&, Sales_data&);\n",
      "string operator+(const Sales_data&, const Sales_data&);\n",
      "ostream& operator<<(ostream& os, const Sales_data& sales_data)\n",
      "{\n",
      "    os << \"ISBN: \" << sales_data.bookNo << \", units sold: \" << sales_data.units_sold << \", revenue: \" << sales_data.revenue;\n",
      "    return os;\n",
      "}\n",
      "\n",
      "int main()\n",
      "{\n",
      "    Sales_data s(\"1234\", 2, 10);\n",
      "    cout << s << endl;\n",
      "    return 0;\n",
      "}\n"
     ]
    }
   ],
   "source": [
    "! cat ex_14_06_Sales_data.cc"
   ]
  },
  {
   "cell_type": "code",
   "execution_count": 2,
   "id": "8baac5e2-f4fb-49c9-bfe7-d60f8d3baf6e",
   "metadata": {},
   "outputs": [
    {
     "name": "stdout",
     "output_type": "stream",
     "text": [
      "ISBN: 1234, units sold: 2, revenue: 20\n"
     ]
    }
   ],
   "source": [
    "! g++ ex_14_06_Sales_data.cc -std=c++17 -o ex.out && ./ex.out; rm ex.out"
   ]
  },
  {
   "cell_type": "markdown",
   "id": "04f6761d-36e5-4ed7-8d83-d6f97077a9f3",
   "metadata": {},
   "source": [
    "### Exercise 14.7: \n",
    "Define an output operator for your `String` class you wrote for the \n",
    "exercises in § 13.5 (p. 531)."
   ]
  },
  {
   "cell_type": "markdown",
   "id": "0cbd51df-e27f-4171-b10c-9ddb674a6d80",
   "metadata": {},
   "source": [
    "A:\n",
    "\n",
    "Done in 13.44"
   ]
  },
  {
   "cell_type": "markdown",
   "id": "d1337c44-3ea9-482a-8c2a-262a1f21a080",
   "metadata": {},
   "source": [
    "### Exercise 14.8: \n",
    "Define an output operator for the class you chose in exercise 7.40 from\n",
    "§ 7.5.1 (p. 291)."
   ]
  },
  {
   "cell_type": "code",
   "execution_count": 1,
   "id": "d8eff218-60ae-4921-852e-8d8211e5c135",
   "metadata": {},
   "outputs": [
    {
     "name": "stdout",
     "output_type": "stream",
     "text": [
      "#include <iostream>\n",
      "\n",
      "using std::ostream, std::istream;\n",
      "\n",
      "class Tree\n",
      "{\n",
      "    friend ostream& operator<<(ostream& os, const Tree& t);\n",
      "    friend istream& operator>>(istream& is, Tree& t);\n",
      "public:\n",
      "    Tree(double h = 0, double w = 0, int b = 0): height(h), width(w), branches(b) { }\n",
      "private:\n",
      "    double height;\n",
      "    double width;\n",
      "    int branches;\n",
      "};\n",
      "\n",
      "ostream& operator<<(ostream& os, const Tree& t)\n",
      "{\n",
      "    os << \"Height: \" << t.height << \", width: \" << t.width << \", branches: \" << t.branches;\n",
      "    return os;\n",
      "}\n",
      "\n",
      "int main()\n",
      "{\n",
      "    Tree t(10, 5, 3);\n",
      "    std::cout << t << std::endl;\n",
      "    return 0;\n",
      "}\n"
     ]
    }
   ],
   "source": [
    "! cat ex_14_08_Tree.cc "
   ]
  },
  {
   "cell_type": "code",
   "execution_count": 2,
   "id": "18fe9c83-8f83-41ee-8927-e7569add7330",
   "metadata": {},
   "outputs": [
    {
     "name": "stdout",
     "output_type": "stream",
     "text": [
      "Height: 10, width: 5, branches: 3\n"
     ]
    }
   ],
   "source": [
    "! g++ ex_14_08_Tree.cc -std=c++17 -o ex.out && ./ex.out; rm ex.out"
   ]
  },
  {
   "cell_type": "markdown",
   "id": "e17703d5-67ad-413d-8c1a-bb57778a903b",
   "metadata": {},
   "source": [
    "## EXERCISES SECTION 14.2.2"
   ]
  },
  {
   "cell_type": "markdown",
   "id": "b2bca975-5641-43bc-9f63-2f3936932f90",
   "metadata": {},
   "source": [
    "### Exercise 14.9: \n",
    "Define an input operator for your `Sales_data` class."
   ]
  },
  {
   "cell_type": "code",
   "execution_count": 1,
   "id": "43515efe-65aa-4be6-ba54-1b86a5543730",
   "metadata": {},
   "outputs": [
    {
     "name": "stdout",
     "output_type": "stream",
     "text": [
      "#include <iostream>\n",
      "#include <string>\n",
      "\n",
      "using std::cout, std::endl, std::cin, std::string, std::istream, std::ostream;\n",
      "\n",
      "class Sales_data \n",
      "{\n",
      "    friend istream& operator>>(istream&, Sales_data&);\n",
      "    friend ostream& operator<<(ostream&, const Sales_data&);\n",
      "    friend string operator+(const Sales_data&, const Sales_data&);\n",
      "    \n",
      "public:\n",
      "    Sales_data() = default;\n",
      "    Sales_data(const string &s): bookNo(s) { }\n",
      "    Sales_data(const string &s, unsigned n, double p): bookNo(s), units_sold(n), revenue(p*n) { }\n",
      "    Sales_data(istream &is) { is >> *this; }\n",
      "    \n",
      "    Sales_data& operator+=(const Sales_data&);\n",
      "    \n",
      "    string isbn() const { return bookNo; }\n",
      "    double avg_price() const { return units_sold ? revenue / units_sold : 0; }\n",
      "    Sales_data& combine(const Sales_data&);\n",
      "    \n",
      "private:\n",
      "    string bookNo;\n",
      "    unsigned units_sold = 0;\n",
      "    double revenue = 0.0;\n",
      "};\n",
      "\n",
      "\n",
      "string operator+(const Sales_data&, const Sales_data&);\n",
      "\n",
      "ostream& operator<<(ostream& os, const Sales_data& sales_data)\n",
      "{\n",
      "    os << \"ISBN: \" << sales_data.bookNo << \", units sold: \" << sales_data.units_sold << \", revenue: \" << sales_data.revenue;\n",
      "    return os;\n",
      "}\n",
      "\n",
      "istream& operator>>(istream& is, Sales_data& sales_data)\n",
      "{\n",
      "    double price;\n",
      "    cout << \"ISBN: \";\n",
      "    is >> sales_data.bookNo;\n",
      "    cout << \"Units sold: \";\n",
      "    cin >> sales_data.units_sold;\n",
      "    cout << \"Price per unit: \"; \n",
      "    cin >> price;\n",
      "    if (is)\n",
      "        sales_data.revenue = sales_data.units_sold * price;\n",
      "    else\n",
      "        sales_data = Sales_data();\n",
      "    return is;\n",
      "}\n",
      "\n",
      "int main()\n",
      "{\n",
      "    Sales_data s;\n",
      "    cin >> s;\n",
      "    cout << s << endl;\n",
      "    return 0;\n",
      "}\n"
     ]
    }
   ],
   "source": [
    "! cat ex_14_09_Sales_data.cc"
   ]
  },
  {
   "cell_type": "code",
   "execution_count": 2,
   "id": "30cb17fa-9e81-421a-a205-0d449789fe1a",
   "metadata": {},
   "outputs": [],
   "source": [
    "! cp ex_14_09_Sales_data.cc ex_14_09.h"
   ]
  },
  {
   "cell_type": "code",
   "execution_count": 3,
   "id": "565c2cad-d43c-42d7-bdd6-fb5f381e34eb",
   "metadata": {},
   "outputs": [],
   "source": [
    "#include \"ex_14_09.h\""
   ]
  },
  {
   "cell_type": "code",
   "execution_count": 4,
   "id": "0d433779-77b3-4ec9-b672-f4fabf6d3af7",
   "metadata": {},
   "outputs": [
    {
     "name": "stdout",
     "output_type": "stream",
     "text": [
      "ISBN: "
     ]
    },
    {
     "name": "stdin",
     "output_type": "stream",
     "text": [
      " 978-0345391803\n"
     ]
    },
    {
     "name": "stdout",
     "output_type": "stream",
     "text": [
      "Units sold: "
     ]
    },
    {
     "name": "stdin",
     "output_type": "stream",
     "text": [
      " 99\n"
     ]
    },
    {
     "name": "stdout",
     "output_type": "stream",
     "text": [
      "Price per unit: "
     ]
    },
    {
     "name": "stdin",
     "output_type": "stream",
     "text": [
      " 7.99\n"
     ]
    },
    {
     "name": "stdout",
     "output_type": "stream",
     "text": [
      "ISBN: 978-0345391803, units sold: 99, revenue: 791.01\n"
     ]
    }
   ],
   "source": [
    "Sales_data s;\n",
    "cin >> s;\n",
    "cout << s << endl;"
   ]
  },
  {
   "cell_type": "code",
   "execution_count": 1,
   "id": "cb52d199-d2b9-4d21-8dfd-443ac01fa0de",
   "metadata": {},
   "outputs": [],
   "source": [
    "! rm ex_14_09.h"
   ]
  },
  {
   "cell_type": "markdown",
   "id": "2277c9e1-dc2a-48e7-a5c7-1aae7f23850e",
   "metadata": {},
   "source": [
    "### Exercise 14.10: \n",
    "Describe the behavior of the `Sales_data` input operator if given the\n",
    "following input:\n",
    "```\n",
    "(a) 0-201-99999-9 10 24.95\n",
    "(b) 10 24.95 0-210-99999-9\n",
    "```"
   ]
  },
  {
   "cell_type": "markdown",
   "id": "b9e91983-c5f3-43f9-b01d-022f1c1a3bef",
   "metadata": {},
   "source": [
    "A:\n",
    "\n",
    "a) will work correctly, `0-201-99999-9` as ISBN, `10` as units_sold and `24.95` as price  \n",
    "b) can't provide floating-value number `24.95` for `unsinged` units_sold and can't provide `0-210-99999-9` for `double` price. When it's done, input fails and `Sales_data` object goes to default state."
   ]
  },
  {
   "cell_type": "markdown",
   "id": "e8a0c6a9-3df4-4896-b27d-97cdb25befe1",
   "metadata": {},
   "source": [
    "### Exercise 14.11: \n",
    "What, if anything, is wrong with the following `Sales_data` input \n",
    "operator? What would happen if we gave this operator the data in the previous exercise?\n",
    "```\n",
    "istream& operator>>(istream& in, Sales_data& s)\n",
    "{\n",
    "    double price;\n",
    "    in >> s.bookNo >> s.units_sold >> price;\n",
    "    s.revenue = s.units_sold * price;\n",
    "    return in;\n",
    "}\n",
    "```"
   ]
  },
  {
   "cell_type": "code",
   "execution_count": null,
   "id": "34f48528-2b3a-4b2f-82cb-fcb4ac0cbb04",
   "metadata": {},
   "outputs": [],
   "source": [
    "// TODO !!!"
   ]
  },
  {
   "cell_type": "markdown",
   "id": "b68c2998-48b4-4c72-9a6c-d384f1239fc3",
   "metadata": {},
   "source": [
    "### Exercise 14.12: \n",
    "Define an input operator for the class you used in exercise 7.40 from\n",
    "§ 7.5.1 (p. 291). Be sure the operator handles input errors."
   ]
  },
  {
   "cell_type": "code",
   "execution_count": null,
   "id": "8cc316bd-1259-418f-bdf5-a6644ec5df76",
   "metadata": {},
   "outputs": [],
   "source": [
    "// TODO !!!"
   ]
  },
  {
   "cell_type": "markdown",
   "id": "2c40d5f2-66c1-4f42-9968-ae62b4bd21b3",
   "metadata": {},
   "source": [
    "## EXERCISES SECTION 14.3"
   ]
  },
  {
   "cell_type": "markdown",
   "id": "5f9f233c-6871-4331-9a65-ae6d32ea55cd",
   "metadata": {},
   "source": [
    "### Exercise 14.13: \n",
    "Which other arithmetic operators (Table 4.1 (p. 139)), if any, do you\n",
    "think `Sales_data` ought to support? Define any you think the class should include."
   ]
  },
  {
   "cell_type": "markdown",
   "id": "a50e4723-d975-4da6-a98f-482ff2becc94",
   "metadata": {},
   "source": [
    "A:\n",
    "\n",
    "No other arithmetic operators needed"
   ]
  },
  {
   "cell_type": "markdown",
   "id": "c4189d8d-0afb-4db8-b769-a15edf7ff930",
   "metadata": {},
   "source": [
    "### Exercise 14.14: \n",
    "Why do you think it is more efficient to define `operator+` to call\n",
    "`operator+=` rather than the other way around?"
   ]
  },
  {
   "cell_type": "markdown",
   "id": "d08244b7-0638-490c-aae7-3c301391e7a3",
   "metadata": {},
   "source": [
    "A:\n",
    "\n",
    "If `operator+=` used `operator+`, it would have to create an intermediary object to keep the sum of the data, while it can just increase the values of it's object directly."
   ]
  },
  {
   "cell_type": "markdown",
   "id": "ecdd5f68-9a00-4d74-bd29-6392d7640edc",
   "metadata": {},
   "source": [
    "### Exercise 14.15: \n",
    "Should the class you chose for exercise 7.40 from § 7.5.1 (p. 291) define\n",
    "any of the arithmetic operators? If so, implement them. If not, explain why not."
   ]
  },
  {
   "cell_type": "markdown",
   "id": "f7f176a6-b5e1-4fd0-ae8f-607c9a5a3679",
   "metadata": {},
   "source": [
    "A:\n",
    "\n",
    "No, as it doesn't make sense to comine two trees together"
   ]
  },
  {
   "cell_type": "markdown",
   "id": "8a7d2b47-f6cc-4af5-930b-2982140bb155",
   "metadata": {},
   "source": [
    "## EXERCISES SECTION 14.3.1"
   ]
  },
  {
   "cell_type": "markdown",
   "id": "5279e7ee-f179-4397-8310-d0b8897a7b83",
   "metadata": {},
   "source": [
    "### Exercise 14.16: \n",
    "Define equality and inequality operators for your `StrBlob` (§ 12.1.1,\n",
    "p. 456), `StrBlobPtr` (§ 12.1.6, p. 474), `StrVec` (§ 13.5, p. 526), and `String` (§ 13.5,\n",
    "p. 531) classes."
   ]
  },
  {
   "cell_type": "code",
   "execution_count": null,
   "id": "2ef2a9be-884b-43c1-a013-7f3a2ef8e6ab",
   "metadata": {},
   "outputs": [],
   "source": []
  },
  {
   "cell_type": "markdown",
   "id": "037049d0-72c2-446b-b37f-1033a6d1a299",
   "metadata": {},
   "source": [
    "### Exercise 14.17: \n",
    "Should the class you chose for exercise 7.40 from § 7.5.1 (p. 291) define\n",
    "the equality operators? If so, implement them. If not, explain why not."
   ]
  },
  {
   "cell_type": "code",
   "execution_count": 1,
   "id": "4e7be1d1-9236-468f-8c22-fc07c395c74b",
   "metadata": {},
   "outputs": [
    {
     "name": "stdout",
     "output_type": "stream",
     "text": [
      "#include <iostream>\n",
      "\n",
      "using std::ostream, std::istream;\n",
      "\n",
      "class Tree\n",
      "{\n",
      "    friend ostream& operator<<(ostream&, const Tree&);\n",
      "    friend istream& operator>>(istream&, Tree&);\n",
      "    friend bool operator==(Tree&, Tree&);\n",
      "    friend bool operator!=(Tree&, Tree&);\n",
      "public:\n",
      "    Tree(double h = 0, double w = 0, int b = 0): height(h), width(w), branches(b) { }\n",
      "private:\n",
      "    double height;\n",
      "    double width;\n",
      "    int branches;\n",
      "};\n",
      "\n",
      "ostream& operator<<(ostream &os, const Tree &t)\n",
      "{\n",
      "    os << \"Height: \" << t.height << \", width: \" << t.width << \", branches: \" << t.branches;\n",
      "    return os;\n",
      "}\n",
      "\n",
      "bool operator==(Tree &lhs, Tree &rhs)\n",
      "{\n",
      "    return lhs.height == rhs.height && lhs.width == rhs.width && lhs.branches == rhs.branches;\n",
      "}\n",
      "\n",
      "bool operator!=(Tree &lhs, Tree &rhs)\n",
      "{\n",
      "    return !(lhs == rhs);\n",
      "}\n"
     ]
    }
   ],
   "source": [
    "! cat ex_14_17_Tree.cc"
   ]
  },
  {
   "cell_type": "code",
   "execution_count": 2,
   "id": "9c6cc773-5d5b-478e-9ca6-cc600ace2e90",
   "metadata": {},
   "outputs": [],
   "source": [
    "! cp ex_14_17_Tree.cc ex_14_17.h"
   ]
  },
  {
   "cell_type": "code",
   "execution_count": 3,
   "id": "a16c0531-06b1-41a8-9fa7-dac248118b6d",
   "metadata": {},
   "outputs": [],
   "source": [
    "#include \"ex_14_17.h\""
   ]
  },
  {
   "cell_type": "code",
   "execution_count": 4,
   "id": "44d5635a-054a-4e89-98d9-4338dc13ae16",
   "metadata": {},
   "outputs": [
    {
     "name": "stdout",
     "output_type": "stream",
     "text": [
      "1\n",
      "0\n"
     ]
    }
   ],
   "source": [
    "Tree t1(10, 5, 3);\n",
    "Tree t2(10, 5, 3);\n",
    "Tree t3(12, 5, 3);\n",
    "std::cout << (t1 == t2) << std::endl;\n",
    "std::cout << (t1 == t3) << std::endl;"
   ]
  },
  {
   "cell_type": "code",
   "execution_count": 5,
   "id": "699ef3f5-a6fb-437a-bd61-1d303dad5d9c",
   "metadata": {},
   "outputs": [],
   "source": [
    "! rm ex_14_17.h"
   ]
  },
  {
   "cell_type": "markdown",
   "id": "cca0416a-dfea-4d11-82c2-91d52ae6a450",
   "metadata": {},
   "source": [
    "## EXERCISES SECTION 14.3.2"
   ]
  },
  {
   "cell_type": "markdown",
   "id": "48289223-2125-4069-91f7-d360325f393c",
   "metadata": {},
   "source": [
    "### Exercise 14.18: \n",
    "Define relational operators for your `StrBlob`, `StrBlobPtr`, `StrVec`,\n",
    "and `String` classes."
   ]
  },
  {
   "cell_type": "code",
   "execution_count": null,
   "id": "f96f74fa-ea02-4a00-bc11-cf282dd142fa",
   "metadata": {},
   "outputs": [],
   "source": []
  },
  {
   "cell_type": "markdown",
   "id": "629f6ec2-42ad-4d21-ad86-fc5d16416a51",
   "metadata": {},
   "source": [
    "### Exercise 14.19: \n",
    "Should the class you chose for exercise 7.40 from § 7.5.1 (p. 291) define\n",
    "the relational operators? If so, implement them. If not, explain why not."
   ]
  },
  {
   "cell_type": "markdown",
   "id": "723ee393-51dd-48b6-b1e4-2160773722b9",
   "metadata": {},
   "source": [
    "A:\n",
    "\n",
    "No, as it's not obvious which member of `Tree` class should decide on the relation"
   ]
  },
  {
   "cell_type": "markdown",
   "id": "f9f23d98-dd43-404b-a386-a7799a2ac0a6",
   "metadata": {},
   "source": [
    "## EXERCISES SECTION 14.4"
   ]
  },
  {
   "cell_type": "markdown",
   "id": "09a2edcc-df6d-4525-9c1a-f0aaa2675487",
   "metadata": {},
   "source": [
    "### Exercise 14.20: \n",
    "Define the addition and compound-assignment operators for your\n",
    "`Sales_data` class."
   ]
  },
  {
   "cell_type": "code",
   "execution_count": null,
   "id": "9444d9a4-7086-4b72-b511-826016df32ef",
   "metadata": {},
   "outputs": [],
   "source": []
  },
  {
   "cell_type": "markdown",
   "id": "7333fbf9-0611-4178-b345-167dd1da3326",
   "metadata": {},
   "source": [
    "### Exercise 14.21: \n",
    "Write the `Sales_data` operators so that `+` does the actual addition\n",
    "and `+=` calls `+`. Discuss the disadvantages of this approach compared to the way these\n",
    "operators were defined in § 14.3 (p. 560) and § 14.4 (p. 564)."
   ]
  },
  {
   "cell_type": "code",
   "execution_count": null,
   "id": "04e1901a-68ac-4223-800a-545648b5b7f0",
   "metadata": {},
   "outputs": [],
   "source": []
  },
  {
   "cell_type": "markdown",
   "id": "9604db94-5203-46ce-88db-4ca1d6d710b7",
   "metadata": {},
   "source": [
    "### Exercise 14.22: \n",
    "Define a version of the assignment operator that can assign a `string`\n",
    "representing an ISBN to a `Sales_data`."
   ]
  },
  {
   "cell_type": "code",
   "execution_count": null,
   "id": "f2ad8dfd-5493-4654-b5c1-8cc48c325979",
   "metadata": {},
   "outputs": [],
   "source": []
  },
  {
   "cell_type": "markdown",
   "id": "43897334-fa11-4213-9ee1-0424757a9930",
   "metadata": {},
   "source": [
    "### Exercise 14.23: \n",
    "Define an `initializer_list` assignment operator for your version\n",
    "of the `StrVec` class."
   ]
  },
  {
   "cell_type": "code",
   "execution_count": null,
   "id": "6a21dad6-0033-427a-a473-f49a38e99bdd",
   "metadata": {},
   "outputs": [],
   "source": []
  },
  {
   "cell_type": "markdown",
   "id": "f258cb35-ad96-4fa2-8e98-c9f11d4bf060",
   "metadata": {},
   "source": [
    "### Exercise 14.24: \n",
    "Decide whether the class you used in exercise 7.40 from § 7.5.1 (p. 291)\n",
    "needs a copy- and move-assignment operator. If so, define those operators."
   ]
  },
  {
   "cell_type": "code",
   "execution_count": null,
   "id": "541881f7-1a57-467f-9478-3d477c15e1a4",
   "metadata": {},
   "outputs": [],
   "source": []
  },
  {
   "cell_type": "markdown",
   "id": "37e42a59-6697-4e88-8a83-60dce058263e",
   "metadata": {},
   "source": [
    "### Exercise 14.25: \n",
    "Implement any other assignment operators your class should define.\n",
    "Explain which types should be used as operands and why."
   ]
  },
  {
   "cell_type": "code",
   "execution_count": null,
   "id": "365f2abb-54cd-4f00-92f5-5a8458669537",
   "metadata": {},
   "outputs": [],
   "source": []
  },
  {
   "cell_type": "markdown",
   "id": "6d7b02d5-2ed0-47a7-a991-b0beed016b99",
   "metadata": {},
   "source": [
    "## EXERCISES SECTION 14.5"
   ]
  },
  {
   "cell_type": "markdown",
   "id": "7ca2d055-cce2-4422-8902-7dac48c6a120",
   "metadata": {},
   "source": [
    "### Exercise 14.26:\n",
    "Define subscript operators for your `StrVec`, `String`, `StrBlob`, and\n",
    "`StrBlobPtr` classes."
   ]
  },
  {
   "cell_type": "code",
   "execution_count": null,
   "id": "50a6475b-7dc2-4bb6-88dd-9283343fbe57",
   "metadata": {},
   "outputs": [],
   "source": []
  },
  {
   "cell_type": "markdown",
   "id": "df74f481-8fd8-49c0-84ec-eea3efb82bc3",
   "metadata": {},
   "source": [
    "## EXERCISES SECTION 14.6"
   ]
  },
  {
   "cell_type": "markdown",
   "id": "94738a26-aa12-4892-8072-4389520e8d32",
   "metadata": {},
   "source": [
    "### Exercise 14.27: \n",
    "Add increment and decrement operators to your `StrBlobPtr` class."
   ]
  },
  {
   "cell_type": "code",
   "execution_count": null,
   "id": "5fb830d2-8582-4a98-bc81-7b783b34364f",
   "metadata": {},
   "outputs": [],
   "source": []
  },
  {
   "cell_type": "markdown",
   "id": "9af1787d-2db0-4765-a9da-b2d394517c33",
   "metadata": {},
   "source": [
    "### Exercise 14.28: \n",
    "Define addition and subtraction for `StrBlobPtr` so that these \n",
    "operators implement pointer arithmetic (§ 3.5.3, p. 119)."
   ]
  },
  {
   "cell_type": "code",
   "execution_count": null,
   "id": "78ae39af-b1f9-4c79-a7b7-cf17b97a8f4f",
   "metadata": {},
   "outputs": [],
   "source": []
  },
  {
   "cell_type": "markdown",
   "id": "c4e2fa97-33d1-4528-bc78-3b67c730d9b1",
   "metadata": {},
   "source": [
    "### Exercise 14.29: \n",
    "We did not define a `const` version of the increment and decrement\n",
    "operators. Why not?"
   ]
  },
  {
   "cell_type": "code",
   "execution_count": null,
   "id": "27fde713-117d-46d3-ada1-9aaf32ceae09",
   "metadata": {},
   "outputs": [],
   "source": []
  },
  {
   "cell_type": "markdown",
   "id": "79f2960b-ce13-4079-8b58-405ae92b3010",
   "metadata": {},
   "source": [
    "## EXERCISES SECTION 14.7"
   ]
  },
  {
   "cell_type": "markdown",
   "id": "c579aed8-f464-4a3c-8b31-2911b52dd475",
   "metadata": {},
   "source": [
    "### Exercise 14.30: \n",
    "Add dereference and arrow operators to your `StrBlobPtr` class and\n",
    "to the `ConstStrBlobPtr` class that you defined in exercise 12.22 from § 12.1.6 (p. 476).\n",
    "Note that the operators in `constStrBlobPtr` must return `const` references because\n",
    "the data member in `constStrBlobPtr` points to a `const vector`."
   ]
  },
  {
   "cell_type": "code",
   "execution_count": null,
   "id": "942e5e55-98a3-4120-9dd0-bb6fca83649c",
   "metadata": {},
   "outputs": [],
   "source": []
  },
  {
   "cell_type": "markdown",
   "id": "3d5a0840-0abe-48d3-ad7e-e9f7f89a6b19",
   "metadata": {},
   "source": [
    "### Exercise 14.31: \n",
    "Our `StrBlobPtr` class does not define the copy constructor, assign-\n",
    "ment operator, or a destructor. Why is that okay?"
   ]
  },
  {
   "cell_type": "code",
   "execution_count": null,
   "id": "09e27be1-b590-4e33-8249-5a1462085dd0",
   "metadata": {},
   "outputs": [],
   "source": []
  },
  {
   "cell_type": "markdown",
   "id": "262e485e-514f-419c-912a-84b58fb009d5",
   "metadata": {},
   "source": [
    "### Exercise 14.32: \n",
    "Define a class that holds a pointer to a `StrBlobPtr`. Define the \n",
    "overloaded arrow operator for that class."
   ]
  },
  {
   "cell_type": "code",
   "execution_count": null,
   "id": "64e51876-866a-4328-90ce-19154cfbc8e4",
   "metadata": {},
   "outputs": [],
   "source": []
  },
  {
   "cell_type": "markdown",
   "id": "f433a76b-287c-40f1-b183-900867bc1cb6",
   "metadata": {},
   "source": [
    "## EXERCISES SECTION 14.8"
   ]
  },
  {
   "cell_type": "markdown",
   "id": "f944c4d0-d726-4862-8a79-0fa4560237bf",
   "metadata": {},
   "source": [
    "### Exercise 14.33: \n",
    "How many operands may an overloaded function-call operator take?"
   ]
  },
  {
   "cell_type": "code",
   "execution_count": null,
   "id": "c0ba1bc0-eb86-488d-a2c5-4ae6c181ca37",
   "metadata": {},
   "outputs": [],
   "source": []
  },
  {
   "cell_type": "markdown",
   "id": "71576b4c-361d-4065-9ae3-017b52fe9221",
   "metadata": {},
   "source": [
    "### Exercise 14.34: \n",
    "Define a function-object class to perform an if-then-else operation: \n",
    "The call operator for this class should take three parameters. It should test its first \n",
    "parameter and if that test succeeds, it should return its second parameter;\n",
    "otherwise, it should return its third parameter."
   ]
  },
  {
   "cell_type": "code",
   "execution_count": null,
   "id": "bb102841-0b54-48e1-ba51-f39c273fa51d",
   "metadata": {},
   "outputs": [],
   "source": []
  },
  {
   "cell_type": "markdown",
   "id": "95600681-c9ca-41e8-8338-46afa838384a",
   "metadata": {},
   "source": [
    "### Exercise 14.35: \n",
    "Write a class like `PrintString` that reads a line of input from an\n",
    "`istream` and returns a `string` representing what was read. If the read fails, return\n",
    "the empty `string`."
   ]
  },
  {
   "cell_type": "code",
   "execution_count": null,
   "id": "69eeafe0-27cd-4476-ae5d-3db860b419a7",
   "metadata": {},
   "outputs": [],
   "source": []
  },
  {
   "cell_type": "markdown",
   "id": "2596fe55-5256-43f3-b7ee-07a3a877ef43",
   "metadata": {},
   "source": [
    "### Exercise 14.36: \n",
    "Use the class from the previous exercise to read the standard input,\n",
    "storing each line as an element in a `vector`."
   ]
  },
  {
   "cell_type": "code",
   "execution_count": null,
   "id": "4509b215-9ae7-468e-acfa-0785b96d5602",
   "metadata": {},
   "outputs": [],
   "source": []
  },
  {
   "cell_type": "markdown",
   "id": "d98a95e2-750c-41fc-9ccf-fe80a9058d13",
   "metadata": {},
   "source": [
    "### Exercise 14.37: \n",
    "Write a class that tests whether two values are equal. Use that object\n",
    "and the library algorithms to write a program to replace all instances of a given value\n",
    "in a sequence."
   ]
  },
  {
   "cell_type": "code",
   "execution_count": null,
   "id": "e39e213e-cac9-47ea-8f67-97394660620a",
   "metadata": {},
   "outputs": [],
   "source": []
  },
  {
   "cell_type": "markdown",
   "id": "085bfaf9-59ee-4b4a-afb6-9665e97cb16e",
   "metadata": {},
   "source": [
    "## EXERCISES SECTION 14.8.1"
   ]
  },
  {
   "cell_type": "markdown",
   "id": "a5e8a9a9-e2f8-44d1-9539-c4271405b1e4",
   "metadata": {},
   "source": [
    "### Exercise 14.38: \n",
    "Write a class that tests whether the length of a given `string` matches\n",
    "a given bound. Use that object to write a program to report how many words in an\n",
    "input file are of sizes 1 through 10 inclusive."
   ]
  },
  {
   "cell_type": "code",
   "execution_count": null,
   "id": "5bf9f3b3-df0d-461e-b7c1-a6a58704a781",
   "metadata": {},
   "outputs": [],
   "source": []
  },
  {
   "cell_type": "markdown",
   "id": "0e5b4e63-a053-4daf-99ff-77dc2001d4af",
   "metadata": {},
   "source": [
    "### Exercise 14.39: \n",
    "Revise the previous program to report the count of words that are sizes\n",
    "1 through 9 and 10 or more."
   ]
  },
  {
   "cell_type": "code",
   "execution_count": null,
   "id": "734cac27-520b-4686-81ca-2baca4b73c96",
   "metadata": {},
   "outputs": [],
   "source": []
  },
  {
   "cell_type": "markdown",
   "id": "30d28650-c94d-4dff-abe0-32bac602ce2e",
   "metadata": {},
   "source": [
    "### Exercise 14.40: \n",
    "Rewrite the `biggies` function from § 10.3.2 (p. 391) to use \n",
    "function-object classes in place of lambdas."
   ]
  },
  {
   "cell_type": "code",
   "execution_count": null,
   "id": "1df153f8-313f-44a7-b45f-b1a804b53669",
   "metadata": {},
   "outputs": [],
   "source": []
  },
  {
   "cell_type": "markdown",
   "id": "b9c8d409-a28a-468d-a6df-2e803f24eb57",
   "metadata": {},
   "source": [
    "### Exercise 14.41: \n",
    "Why do you suppose the new standard added lambdas?\n",
    "Explain when you would use a lambda and when you would write a class instead."
   ]
  },
  {
   "cell_type": "code",
   "execution_count": null,
   "id": "c2b055f3-a2b3-4b07-91fb-c2303bf3d15f",
   "metadata": {},
   "outputs": [],
   "source": []
  },
  {
   "cell_type": "markdown",
   "id": "8153bc81-dc11-4805-a2c2-56155709087d",
   "metadata": {},
   "source": [
    "## EXERCISES SECTION 14.8.2"
   ]
  },
  {
   "cell_type": "markdown",
   "id": "1c8c36a1-26c2-4a4e-9087-5df77e87e793",
   "metadata": {},
   "source": [
    "### Exercise 14.42: \n",
    "Using library function objects and adaptors, define an expression to  \n",
    "(a) Count the number of values that are greater than `1024`  \n",
    "(b) Find the first `string` that is not equal to `\"pooh\"`  \n",
    "(c) Multiply all values by `2`"
   ]
  },
  {
   "cell_type": "code",
   "execution_count": null,
   "id": "da732941-3da8-4295-a485-a6549704aa58",
   "metadata": {},
   "outputs": [],
   "source": []
  },
  {
   "cell_type": "markdown",
   "id": "03c7961c-4887-4143-807f-71cc1b3b53be",
   "metadata": {},
   "source": [
    "### Exercise 14.43: \n",
    "Using library function objects, determine whether a given `int` value\n",
    "is divisible by any element in a container of `int`s."
   ]
  },
  {
   "cell_type": "code",
   "execution_count": null,
   "id": "fd241d64-c0d6-474f-b2d0-392f66083663",
   "metadata": {},
   "outputs": [],
   "source": []
  },
  {
   "cell_type": "markdown",
   "id": "2346ede6-2ae8-42d3-b1d0-862f5d20db4c",
   "metadata": {},
   "source": [
    "## EXERCISES SECTION 14.8.3"
   ]
  },
  {
   "cell_type": "markdown",
   "id": "49f9a6e8-cce7-4676-98f6-ae0a020a379c",
   "metadata": {},
   "source": [
    "### Exercise 14.44: \n",
    "Write your own version of a simple desk calculator that can handle\n",
    "binary operations."
   ]
  },
  {
   "cell_type": "code",
   "execution_count": null,
   "id": "d54b1b69-c111-4206-bf68-a5da1ff25399",
   "metadata": {},
   "outputs": [],
   "source": []
  },
  {
   "cell_type": "markdown",
   "id": "c669825a-1fc3-4fa6-a367-affd8e688065",
   "metadata": {},
   "source": [
    "## EXERCISES SECTION 14.9.1"
   ]
  },
  {
   "cell_type": "markdown",
   "id": "a6bc2c10-93be-45cc-97bc-5d4d9464f77b",
   "metadata": {},
   "source": [
    "### Exercise 14.45: \n",
    "Write conversion operators to convert a `Sales_data` to `string` and\n",
    "to double. What values do you think these operators should return?"
   ]
  },
  {
   "cell_type": "code",
   "execution_count": null,
   "id": "a6ea7750-b730-430c-ae49-c64ec0b4efd9",
   "metadata": {},
   "outputs": [],
   "source": []
  },
  {
   "cell_type": "markdown",
   "id": "74f8915c-a5cd-458b-ba10-5b78f42266de",
   "metadata": {},
   "source": [
    "### Exercise 14.46: \n",
    "Explain whether defining these `Sales_data` conversion operators is\n",
    "a good idea and whether they should be explicit."
   ]
  },
  {
   "cell_type": "code",
   "execution_count": null,
   "id": "97a3f3e5-5fe0-45bc-bd13-1a3c3460f3fe",
   "metadata": {},
   "outputs": [],
   "source": []
  },
  {
   "cell_type": "markdown",
   "id": "2300d09f-d0f3-4d9e-91b8-56401838ce1e",
   "metadata": {},
   "source": [
    "### Exercise 14.47: \n",
    "Explain the difference between these two conversion operators:\n",
    "```\n",
    "struct Integral {\n",
    "    operator const int();\n",
    "    operator int() const;\n",
    "};\n",
    "```"
   ]
  },
  {
   "cell_type": "code",
   "execution_count": null,
   "id": "60766ad3-21aa-4847-a4d6-fd4a5b23bb66",
   "metadata": {},
   "outputs": [],
   "source": []
  },
  {
   "cell_type": "markdown",
   "id": "1d0c0bae-3fa3-4614-8768-d5e82fe33bee",
   "metadata": {},
   "source": [
    "### Exercise 14.48: \n",
    "Determine whether the class you used in exercise 7.40 from § 7.5.1\n",
    "(p. 291) should have a conversion to `bool`. If so, explain why, and explain whether the\n",
    "operator should be explicit. If not, explain why not."
   ]
  },
  {
   "cell_type": "code",
   "execution_count": null,
   "id": "14107abc-7fa4-4fa9-aa97-eab3d5882508",
   "metadata": {},
   "outputs": [],
   "source": []
  },
  {
   "cell_type": "markdown",
   "id": "a7f08b22-57b6-4568-a8dd-fd41f1e33f69",
   "metadata": {},
   "source": [
    "### Exercise 14.49: \n",
    "Regardless of whether it is a good idea to do so, define a conversion\n",
    "to `bool` for the class from the previous exercise."
   ]
  },
  {
   "cell_type": "markdown",
   "id": "3c6497a3-c3fc-47b2-9e22-4e49a316a1be",
   "metadata": {},
   "source": [
    "## EXERCISES SECTION 14.9.2"
   ]
  },
  {
   "cell_type": "markdown",
   "id": "a3c6375d-9c84-4c72-beeb-ae87ad4d1786",
   "metadata": {},
   "source": [
    "### Exercise 14.50: \n",
    "Show the possible class-type conversion sequences for the \n",
    "initializations of `ex1` and `ex2`. Explain whether the initializations are legal or not.\n",
    "```\n",
    "struct LongDouble {\n",
    "    LongDouble(double = 0.0);\n",
    "    operator double();\n",
    "    operator float();\n",
    "};\n",
    "LongDouble ldObj;\n",
    "int ex1 = ldObj;\n",
    "float ex2 = ldObj;\n",
    "```"
   ]
  },
  {
   "cell_type": "code",
   "execution_count": null,
   "id": "b116a8e7-4f47-4fae-a268-75ad13c738c3",
   "metadata": {},
   "outputs": [],
   "source": []
  },
  {
   "cell_type": "markdown",
   "id": "acf5562f-7f75-416b-93cd-c24eeaad1140",
   "metadata": {},
   "source": [
    "### Exercise 14.51: \n",
    "Show the conversion sequences (if any) needed to call each version of\n",
    "calc and explain why the best viable function is selected.\n",
    "```\n",
    "void calc(int);\n",
    "void calc(LongDouble);\n",
    "double dval;\n",
    "calc(dval); // which calc?\n",
    "```"
   ]
  },
  {
   "cell_type": "code",
   "execution_count": null,
   "id": "5f199e8f-1257-4076-af5e-a59747debbb1",
   "metadata": {},
   "outputs": [],
   "source": []
  },
  {
   "cell_type": "markdown",
   "id": "0cd7e4cc-38a5-440f-8e6e-b376cbfa5346",
   "metadata": {},
   "source": [
    "## EXERCISES SECTION 14.9.3"
   ]
  },
  {
   "cell_type": "markdown",
   "id": "ab530a7b-0a4c-436e-a7cd-093a5234ec3f",
   "metadata": {},
   "source": [
    "### Exercise 14.52: \n",
    "Which `operator+`, if any, is selected for each of the addition expressions?\n",
    "List the candidate functions, the viable functions, and the type conversions on\n",
    "the arguments for each viable function:\n",
    "```\n",
    "struct LongDouble {\n",
    "    // member operator+ for illustration purposes; + is usually a nonmember\n",
    "    LongDouble operator+(const SmallInt&);\n",
    "    // other members as in § 14.9.2 (p. 587)\n",
    "};\n",
    "LongDouble operator+(LongDouble&, double);\n",
    "SmallInt si;\n",
    "LongDouble ld;\n",
    "ld = si + ld;\n",
    "ld = ld + si;\n",
    "```"
   ]
  },
  {
   "cell_type": "code",
   "execution_count": null,
   "id": "f961b32d-7cfc-4403-923d-913a070add13",
   "metadata": {},
   "outputs": [],
   "source": []
  },
  {
   "cell_type": "markdown",
   "id": "907e770e-90a5-4ebb-9aa6-6d71895d942d",
   "metadata": {},
   "source": [
    "### Exercise 14.53: \n",
    "Given the definition of SmallInt on page 588, determine whether the following \n",
    "addition expression is legal. If so, what addition operator is used? If not,\n",
    "how might you change the code to make it legal?\n",
    "```\n",
    "SmallInt s1;\n",
    "double d = s1 + 3.14;\n",
    "```"
   ]
  },
  {
   "cell_type": "code",
   "execution_count": null,
   "id": "e4cd3f58-81d3-4aa0-b694-7b851786ecb9",
   "metadata": {},
   "outputs": [],
   "source": []
  }
 ],
 "metadata": {
  "kernelspec": {
   "display_name": "C++17",
   "language": "C++17",
   "name": "xcpp17"
  },
  "language_info": {
   "codemirror_mode": "text/x-c++src",
   "file_extension": ".cpp",
   "mimetype": "text/x-c++src",
   "name": "c++",
   "version": "17"
  }
 },
 "nbformat": 4,
 "nbformat_minor": 5
}
