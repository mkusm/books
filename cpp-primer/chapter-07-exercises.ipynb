{
 "cells": [
  {
   "cell_type": "markdown",
   "id": "607e8a7b-3adf-4e95-a8ec-d174556bff35",
   "metadata": {},
   "source": [
    "# Chapter 7 Classes"
   ]
  },
  {
   "cell_type": "markdown",
   "id": "60de100f-9b91-4979-bf88-997e4d864766",
   "metadata": {
    "tags": []
   },
   "source": [
    "## EXERCISES SECTION 7.1.1"
   ]
  },
  {
   "cell_type": "markdown",
   "id": "7572f0a5-e2ae-4c90-8f25-aee2faa15fae",
   "metadata": {},
   "source": [
    "### Exercise 7.1:\n",
    "Write a version of the transaction-processing program from § 1.6 (p. 24)\n",
    "```\n",
    "#include <iostream>\n",
    "#include \"Sales_item.h\"\n",
    "int main()\n",
    "{\n",
    "    Sales_item total;\n",
    "    if (std::cin >> total) {\n",
    "        Sales_item trans;\n",
    "        while (std::cin >> trans) {\n",
    "            if (total.isbn() == trans.isbn())\n",
    "                total += trans;\n",
    "            else {\n",
    "                std::cout << total << std::endl;\n",
    "                total = trans;\n",
    "            }\n",
    "        }\n",
    "        std::cout << total << std::endl;\n",
    "    } else {\n",
    "        std::cerr << \"No data?!\" << std::endl;\n",
    "        return -1;\n",
    "    }\n",
    "    return 0;\n",
    "}\n",
    "```\n",
    "using the `Sales_data` class you defined for the exercises in § 2.6.1 (p. 72).\n",
    "```\n",
    "struct Sales_data {\n",
    "    std::string bookNo;\n",
    "    unsigned units_sold = 0;\n",
    "    double revenue = 0.0;\n",
    "}\n",
    "```"
   ]
  },
  {
   "cell_type": "code",
   "execution_count": 1,
   "id": "723ff831-87c6-47a3-a876-30ceab93ee46",
   "metadata": {},
   "outputs": [],
   "source": [
    "#include <iostream>\n",
    "#include <string>\n",
    "\n",
    "using std::cout, std::endl, std::cin, std::string;"
   ]
  },
  {
   "cell_type": "code",
   "execution_count": 2,
   "id": "e5825b16-abc5-486a-bb4a-6d7461e769f6",
   "metadata": {},
   "outputs": [],
   "source": [
    "struct Sales_data {\n",
    "    string bookNo;\n",
    "    unsigned units_sold = 0;\n",
    "    double revenue = 0.0;\n",
    "};"
   ]
  },
  {
   "cell_type": "code",
   "execution_count": 3,
   "id": "3dcc4ffc-a528-4891-b7b5-a918cb640923",
   "metadata": {},
   "outputs": [
    {
     "name": "stdin",
     "output_type": "stream",
     "text": [
      "  0-201-78345-X 3 20.00  0-201-78345-X 2 25.00  0-301-81838-A 2 25.00 ; ; ;\n"
     ]
    },
    {
     "name": "stdout",
     "output_type": "stream",
     "text": [
      "0-201-78345-X 5 110 22\n",
      "0-301-81838-A 2 50 25\n"
     ]
    }
   ],
   "source": [
    "Sales_data total; \n",
    "Sales_data trans; \n",
    "\n",
    "double price;\n",
    "cin >> total.bookNo >> total.units_sold >> price;\n",
    "total.revenue = total.units_sold * price;\n",
    "\n",
    "while (cin >> trans.bookNo >> trans.units_sold >> price && trans.bookNo != \";\")\n",
    "{\n",
    "    trans.revenue = trans.units_sold * price;\n",
    "    if (total.bookNo == trans.bookNo)\n",
    "    {\n",
    "        total.units_sold += trans.units_sold;\n",
    "        total.revenue += trans.revenue;\n",
    "    }\n",
    "    else \n",
    "    { \n",
    "        cout << total.bookNo << \" \" << total.units_sold << \" \" << total.revenue\n",
    "             << \" \" << total.revenue / total.units_sold << endl;\n",
    "        total = trans;\n",
    "    }\n",
    "}\n",
    "cout << total.bookNo << \" \" << total.units_sold << \" \" << total.revenue\n",
    "     << \" \" << total.revenue / total.units_sold << endl;"
   ]
  },
  {
   "cell_type": "markdown",
   "id": "95c2191e-d669-4a44-8a01-e243bc6d1749",
   "metadata": {
    "tags": []
   },
   "source": [
    "## EXERCISES SECTION 7.1.2"
   ]
  },
  {
   "cell_type": "markdown",
   "id": "c7e39523-de93-486c-8e58-7cc0049f2403",
   "metadata": {},
   "source": [
    "### Exercise 7.2:\n",
    "Add the `combine` and `isbn` members to the `Sales_data` class you wrote for the exercises in § 2.6.2 (p. 76)."
   ]
  },
  {
   "cell_type": "code",
   "execution_count": 1,
   "id": "dc603d8b-36ea-4cc3-86a9-b69b138e5237",
   "metadata": {},
   "outputs": [],
   "source": [
    "#include <iostream>\n",
    "#include <string>\n",
    "\n",
    "using std::cout, std::endl, std::cin, std::string;"
   ]
  },
  {
   "cell_type": "code",
   "execution_count": 2,
   "id": "7b2f523e-6895-43b8-88a3-3c5a2d522743",
   "metadata": {},
   "outputs": [],
   "source": [
    "struct Sales_data {\n",
    "    string isbn() const { return bookNo; }\n",
    "    Sales_data& combine(const Sales_data&);\n",
    "    \n",
    "    string bookNo;\n",
    "    unsigned units_sold = 0;\n",
    "    double revenue = 0.0;\n",
    "};"
   ]
  },
  {
   "cell_type": "code",
   "execution_count": 3,
   "id": "8a77c808-7014-44ed-8c51-829b1deaf29e",
   "metadata": {},
   "outputs": [],
   "source": [
    "Sales_data& Sales_data::combine(const Sales_data &rhs)\n",
    "{\n",
    "    units_sold += rhs.units_sold;\n",
    "    revenue += rhs.revenue;\n",
    "    return *this;\n",
    "}"
   ]
  },
  {
   "cell_type": "markdown",
   "id": "a4946fba-e554-4ccc-bce2-d30f25d246a9",
   "metadata": {},
   "source": [
    "### Exercise 7.3:\n",
    "Revise your transaction-processing program from § 7.1.1 (p. 256) to use these members."
   ]
  },
  {
   "cell_type": "code",
   "execution_count": 4,
   "id": "bd053e99-8e31-4d9a-bad7-ff1e326301bc",
   "metadata": {},
   "outputs": [
    {
     "name": "stdin",
     "output_type": "stream",
     "text": [
      " 0-201-78345-X 3 20.00  0-201-78345-X 2 25.00  0-301-81838-A 2 25.00 ; ; ;\n"
     ]
    },
    {
     "name": "stdout",
     "output_type": "stream",
     "text": [
      "0-201-78345-X 5 110 22\n",
      "0-301-81838-A 2 50 25\n"
     ]
    }
   ],
   "source": [
    "Sales_data total; \n",
    "Sales_data trans; \n",
    "\n",
    "double price;\n",
    "cin >> total.bookNo >> total.units_sold >> price;\n",
    "total.revenue = total.units_sold * price;\n",
    "\n",
    "while (cin >> trans.bookNo >> trans.units_sold >> price && trans.bookNo != \";\")\n",
    "{\n",
    "    trans.revenue = trans.units_sold * price;\n",
    "    if (total.isbn() == trans.isbn())\n",
    "    {\n",
    "        total.combine(trans);\n",
    "    }\n",
    "    else \n",
    "    { \n",
    "        cout << total.isbn() << \" \" << total.units_sold << \" \" << total.revenue\n",
    "             << \" \" << total.revenue / total.units_sold << endl;\n",
    "        total = trans;\n",
    "    }\n",
    "}\n",
    "cout << total.isbn() << \" \" << total.units_sold << \" \" << total.revenue\n",
    "     << \" \" << total.revenue / total.units_sold << endl;"
   ]
  },
  {
   "cell_type": "markdown",
   "id": "3bd3c794-ffd5-418e-9324-bccf2c41e846",
   "metadata": {},
   "source": [
    "### Exercise 7.4:\n",
    "Write a class named `Person` that represents the name and address of\n",
    "a person. Use a `string` to hold each of these elements. Subsequent exercises will\n",
    "incrementally add features to this class."
   ]
  },
  {
   "cell_type": "code",
   "execution_count": 1,
   "id": "a05eb64d-8e92-4410-8430-ee32786247c2",
   "metadata": {},
   "outputs": [],
   "source": [
    "#include <string>\n",
    "using std::string;"
   ]
  },
  {
   "cell_type": "code",
   "execution_count": 2,
   "id": "55b215b4-9d0b-4f46-8049-8859cef91095",
   "metadata": {},
   "outputs": [],
   "source": [
    "struct Person {\n",
    "    string name;\n",
    "    string address;\n",
    "};"
   ]
  },
  {
   "cell_type": "markdown",
   "id": "12d6c80b-8987-4c1c-8327-c09d07c8e186",
   "metadata": {},
   "source": [
    "### Exercise 7.5:\n",
    "Provide operations in your `Person` class to return the name and address. Should these functions be `const`? Explain your choice."
   ]
  },
  {
   "cell_type": "code",
   "execution_count": 1,
   "id": "b32104f2-2e53-4dcf-b111-fda11559b474",
   "metadata": {},
   "outputs": [],
   "source": [
    "#include <string>\n",
    "using std::string;"
   ]
  },
  {
   "cell_type": "code",
   "execution_count": 2,
   "id": "d79a7f61-7ea2-44a5-a4a3-7f3781224f2f",
   "metadata": {},
   "outputs": [],
   "source": [
    "struct Person {\n",
    "    string get_name() const { return name; }\n",
    "    string get_address() const { return address; }\n",
    "    string name;\n",
    "    string address;\n",
    "};"
   ]
  },
  {
   "cell_type": "markdown",
   "id": "1733ac3a-4b9f-41fd-9ecb-db0713b6113c",
   "metadata": {},
   "source": [
    "A:\n",
    "\n",
    "operations should be `const` as they're only reading data members, not changing them"
   ]
  },
  {
   "cell_type": "markdown",
   "id": "ef16575f-e101-43b4-809f-64f0aa122218",
   "metadata": {
    "tags": []
   },
   "source": [
    "## EXERCISES SECTION 7.1.3"
   ]
  },
  {
   "cell_type": "markdown",
   "id": "aa2bef50-1565-42f1-8994-ec6a7318cfa9",
   "metadata": {},
   "source": [
    "### Exercise 7.6: \n",
    "Define your own versions of the `add`, `read`, and `print` functions."
   ]
  },
  {
   "cell_type": "code",
   "execution_count": 1,
   "id": "5afd1148-9293-4e4b-a13c-3c8077bdec96",
   "metadata": {},
   "outputs": [],
   "source": [
    "#include <iostream>\n",
    "#include <string>\n",
    "\n",
    "using std::cout, std::endl, std::cin, std::string, std::istream, std::ostream;"
   ]
  },
  {
   "cell_type": "code",
   "execution_count": 2,
   "id": "7d22a35a-15f1-4699-bf4a-92506431a420",
   "metadata": {},
   "outputs": [],
   "source": [
    "struct Sales_data {\n",
    "    string isbn() const { return bookNo; }\n",
    "    double avg_price() const { return units_sold ? revenue / units_sold : 0; }\n",
    "    Sales_data& combine(const Sales_data&);\n",
    "    \n",
    "    string bookNo;\n",
    "    unsigned units_sold = 0;\n",
    "    double revenue = 0.0;\n",
    "};"
   ]
  },
  {
   "cell_type": "code",
   "execution_count": 3,
   "id": "236c8ba4-32d2-4d89-880e-a6404b74ec8b",
   "metadata": {},
   "outputs": [],
   "source": [
    "Sales_data& Sales_data::combine(const Sales_data &rhs)\n",
    "{\n",
    "    units_sold += rhs.units_sold;\n",
    "    revenue += rhs.revenue;\n",
    "    return *this;\n",
    "}"
   ]
  },
  {
   "cell_type": "code",
   "execution_count": 4,
   "id": "09002516-bc42-4840-8a6e-f55594c5b5f3",
   "metadata": {},
   "outputs": [],
   "source": [
    "Sales_data add(const Sales_data &lhs, const Sales_data &rhs)\n",
    "{\n",
    "    Sales_data sum = lhs;\n",
    "    sum.combine(rhs);\n",
    "    return sum;\n",
    "}"
   ]
  },
  {
   "cell_type": "code",
   "execution_count": 5,
   "id": "97502552-17ee-4e3c-9402-c6335da26d85",
   "metadata": {},
   "outputs": [],
   "source": [
    "istream& read(istream &is, Sales_data &item)\n",
    "{\n",
    "    double price = 0;\n",
    "    is >> item.bookNo >> item.units_sold >> price;\n",
    "    item.revenue = price * item.units_sold;\n",
    "    return is;\n",
    "}"
   ]
  },
  {
   "cell_type": "code",
   "execution_count": 6,
   "id": "313a10ed-fa52-4929-91f5-1cf4241307d0",
   "metadata": {},
   "outputs": [],
   "source": [
    "ostream& print(ostream &os, const Sales_data &item)\n",
    "{\n",
    "    os << item.isbn() << \" \" << item.units_sold << \" \" << item.revenue << \" \" << item.avg_price();\n",
    "    return os;\n",
    "}"
   ]
  },
  {
   "cell_type": "markdown",
   "id": "d0d97bb8-2938-4362-8e50-4dee47c8ffef",
   "metadata": {},
   "source": [
    "### Exercise 7.7: \n",
    "Rewrite the transaction-processing program you wrote for the exercises\n",
    "in § 7.1.2 (p. 260) to use these new functions."
   ]
  },
  {
   "cell_type": "code",
   "execution_count": 7,
   "id": "faeb6e40-464a-4ff9-b933-dd34dc095d69",
   "metadata": {},
   "outputs": [
    {
     "name": "stdin",
     "output_type": "stream",
     "text": [
      " 0-201-78345-X 3 20.00  0-201-78345-X 2 25.00  0-301-81838-A 2 25.00 ; ; ;\n"
     ]
    },
    {
     "name": "stdout",
     "output_type": "stream",
     "text": [
      "0-201-78345-X 5 110 22\n",
      "0-301-81838-A 2 50 25\n"
     ]
    }
   ],
   "source": [
    "Sales_data total; \n",
    "Sales_data trans; \n",
    "\n",
    "read(cin, total);\n",
    "while (read(cin, trans) && trans.bookNo != \";\")\n",
    "{\n",
    "    if (total.isbn() == trans.isbn())\n",
    "    {\n",
    "        total.combine(trans);\n",
    "    }\n",
    "    else \n",
    "    { \n",
    "        print(cout, total) << endl;\n",
    "        total = trans;\n",
    "    }\n",
    "}\n",
    "print(cout, total) << endl;"
   ]
  },
  {
   "cell_type": "markdown",
   "id": "dcecd1e0-feca-47f5-a157-ec23ace6e90d",
   "metadata": {},
   "source": [
    "### Exercise 7.8: \n",
    "Why does `read` define its `Sales_data` parameter as a plain reference\n",
    "and `print` define its parameter as a reference to `const`?"
   ]
  },
  {
   "cell_type": "markdown",
   "id": "3805542c-7347-4292-aa75-719dd028f36b",
   "metadata": {},
   "source": [
    "A:\n",
    "\n",
    "`read` doesn't change the `Sales_data` object, while `print` does"
   ]
  },
  {
   "cell_type": "markdown",
   "id": "67124b25-4acc-4031-b00f-b19fce9c26fe",
   "metadata": {},
   "source": [
    "### Exercise 7.9: \n",
    "Add operations to `read` and `print` `Person` objects to the code you wrote\n",
    "for the exercises in § 7.1.2 (p. 260)."
   ]
  },
  {
   "cell_type": "code",
   "execution_count": 1,
   "id": "5af37955-e823-4e06-905c-7fd0a0e11844",
   "metadata": {},
   "outputs": [],
   "source": [
    "#include <iostream>\n",
    "#include <string>\n",
    "\n",
    "using std::cout, std::endl, std::cin, std::string, std::istream, std::ostream;"
   ]
  },
  {
   "cell_type": "code",
   "execution_count": 2,
   "id": "6d5337ec-0eb8-4676-a34e-025208f798bf",
   "metadata": {},
   "outputs": [],
   "source": [
    "struct Person {\n",
    "    string get_name() const { return name; }\n",
    "    string get_address() const { return address; }\n",
    "    string name;\n",
    "    string address;\n",
    "};"
   ]
  },
  {
   "cell_type": "code",
   "execution_count": 3,
   "id": "027ed885-1091-4645-a522-5a00c5bf30ba",
   "metadata": {},
   "outputs": [],
   "source": [
    "istream& read(istream &is, Person &person)\n",
    "{\n",
    "    is >> person.name >> person.address;\n",
    "    return is;\n",
    "}"
   ]
  },
  {
   "cell_type": "code",
   "execution_count": 4,
   "id": "7e44f536-ed53-4904-94b3-c318a09a64a1",
   "metadata": {},
   "outputs": [],
   "source": [
    "ostream& print(ostream &os, const Person &person)\n",
    "{\n",
    "    os << person.name << \" \" << person.address;\n",
    "    return os;\n",
    "}"
   ]
  },
  {
   "cell_type": "markdown",
   "id": "43da9f5d-5e59-4f40-8f87-bee4fd214f2c",
   "metadata": {},
   "source": [
    "### Exercise 7.10: \n",
    "What does the condition in the following `if` statement do?\n",
    "```\n",
    "if (read(read(cin, data1), data2))\n",
    "```"
   ]
  },
  {
   "cell_type": "markdown",
   "id": "fa2edae7-e370-4f9b-a7f7-141184872381",
   "metadata": {},
   "source": [
    "A:\n",
    "\n",
    "if checks whether `cin` is good or not"
   ]
  },
  {
   "cell_type": "markdown",
   "id": "fd400b45-57ac-43a4-9324-924b12daabf7",
   "metadata": {
    "tags": []
   },
   "source": [
    "## EXERCISES SECTION 7.1.4"
   ]
  },
  {
   "cell_type": "markdown",
   "id": "f477e471-7a2e-4520-8fce-ab94f78897c4",
   "metadata": {},
   "source": [
    "### Exercise 7.11: \n",
    "Add constructors to your `Sales_data` class and write a program to\n",
    "use each of the constructors."
   ]
  },
  {
   "cell_type": "code",
   "execution_count": 1,
   "id": "e618eac4-bab8-4a9a-8dae-1ebdde443c43",
   "metadata": {},
   "outputs": [],
   "source": [
    "#include <iostream>\n",
    "#include <string>\n",
    "\n",
    "using std::cout, std::endl, std::cin, std::string, std::istream, std::ostream;"
   ]
  },
  {
   "cell_type": "code",
   "execution_count": 2,
   "id": "b34877e7-8b78-4cf3-8d9d-48019065647e",
   "metadata": {},
   "outputs": [],
   "source": [
    "struct Sales_data {\n",
    "    Sales_data() = default;\n",
    "    Sales_data(const string &s): bookNo(s) { }\n",
    "    Sales_data(const string &s, unsigned n, double p): bookNo(s), units_sold(n), revenue(p*n) { }\n",
    "    Sales_data(std::istream &);\n",
    "    \n",
    "    string isbn() const { return bookNo; }\n",
    "    double avg_price() const { return units_sold ? revenue / units_sold : 0; }\n",
    "    Sales_data& combine(const Sales_data&);\n",
    "    \n",
    "    string bookNo;\n",
    "    unsigned units_sold = 0;\n",
    "    double revenue = 0.0;\n",
    "};"
   ]
  },
  {
   "cell_type": "code",
   "execution_count": 3,
   "id": "08b1670b-8a17-4560-a173-2bda669040d8",
   "metadata": {},
   "outputs": [],
   "source": [
    "istream& read(istream &is, Sales_data &item)\n",
    "{\n",
    "    double price = 0;\n",
    "    is >> item.bookNo >> item.units_sold >> price;\n",
    "    item.revenue = price * item.units_sold;\n",
    "    return is;\n",
    "}"
   ]
  },
  {
   "cell_type": "code",
   "execution_count": 4,
   "id": "d666557c-c4bf-4735-827c-b693988d5a8f",
   "metadata": {},
   "outputs": [],
   "source": [
    "ostream& print(ostream &os, const Sales_data &item)\n",
    "{\n",
    "    os << item.isbn() << \" \" << item.units_sold << \" \" << item.revenue << \" \" << item.avg_price();\n",
    "    return os;\n",
    "}"
   ]
  },
  {
   "cell_type": "code",
   "execution_count": 5,
   "id": "3336cb8a-f96e-4c0f-8a23-fb55d12afba2",
   "metadata": {},
   "outputs": [],
   "source": [
    "Sales_data::Sales_data(istream &is)\n",
    "{\n",
    "    read(is, *this);\n",
    "}"
   ]
  },
  {
   "cell_type": "code",
   "execution_count": 6,
   "id": "06d07fc9-c5db-4d6f-8434-963a9f8801ce",
   "metadata": {},
   "outputs": [
    {
     "name": "stdout",
     "output_type": "stream",
     "text": [
      " 0 0 0"
     ]
    }
   ],
   "source": [
    "Sales_data default_constr;\n",
    "print(cout, default_constr);"
   ]
  },
  {
   "cell_type": "code",
   "execution_count": 7,
   "id": "91f8f2a6-a308-4908-8531-d00048601bd6",
   "metadata": {},
   "outputs": [
    {
     "name": "stdout",
     "output_type": "stream",
     "text": [
      "1234 0 0 0"
     ]
    }
   ],
   "source": [
    "Sales_data single_constr(\"1234\");\n",
    "print(cout, single_constr);"
   ]
  },
  {
   "cell_type": "code",
   "execution_count": 8,
   "id": "0646d539-e01e-4323-afa6-e88d65c9b4a6",
   "metadata": {},
   "outputs": [
    {
     "name": "stdout",
     "output_type": "stream",
     "text": [
      "1234 3 75 25"
     ]
    }
   ],
   "source": [
    "Sales_data triple_constr(\"1234\", 3, 25);\n",
    "print(cout, triple_constr);"
   ]
  },
  {
   "cell_type": "code",
   "execution_count": 9,
   "id": "69bd1a84-f369-4a4d-91bc-b30dc0e6bfc7",
   "metadata": {},
   "outputs": [
    {
     "name": "stdin",
     "output_type": "stream",
     "text": [
      " 1234 3 25\n"
     ]
    },
    {
     "name": "stdout",
     "output_type": "stream",
     "text": [
      "1234 3 75 25"
     ]
    }
   ],
   "source": [
    "Sales_data stream_constr(cin);\n",
    "print(cout, stream_constr);"
   ]
  },
  {
   "cell_type": "markdown",
   "id": "e3aff0a7-2fb1-41fc-bc11-732406feafe3",
   "metadata": {},
   "source": [
    "### Exercise 7.12: \n",
    "Move the definition of the `Sales_data` constructor that takes an\n",
    "`istream` into the body of the `Sales_data` class."
   ]
  },
  {
   "cell_type": "code",
   "execution_count": 1,
   "id": "c6fcb8fe-10d1-4013-a2c5-b559c44e72f9",
   "metadata": {},
   "outputs": [],
   "source": [
    "// xeus-cling has problems with seeing declarations when in cells, so we'll use header file instead"
   ]
  },
  {
   "cell_type": "code",
   "execution_count": 2,
   "id": "f793a3bb-5d6c-413a-bc76-976c8523f1ee",
   "metadata": {},
   "outputs": [
    {
     "name": "stdout",
     "output_type": "stream",
     "text": [
      "#include <iostream>\n",
      "#include <string>\n",
      "\n",
      "using std::cout, std::endl, std::cin, std::string, std::istream, std::ostream;\n",
      "\n",
      "struct Sales_data;\n",
      "\n",
      "istream& read(istream &is, Sales_data &item);\n",
      "ostream& print(ostream &os, const Sales_data &item);\n",
      "\n",
      "struct Sales_data {\n",
      "    Sales_data() = default;\n",
      "    Sales_data(const string &s): bookNo(s) { }\n",
      "    Sales_data(const string &s, unsigned n, double p): bookNo(s), units_sold(n), revenue(p*n) { }\n",
      "\n",
      "    // istream constructor in the body of the class\n",
      "    Sales_data(istream &is) { read(is, *this); }\n",
      "    \n",
      "    string isbn() const { return bookNo; }\n",
      "    double avg_price() const { return units_sold ? revenue / units_sold : 0; }\n",
      "    Sales_data& combine(const Sales_data&);\n",
      "    \n",
      "    string bookNo;\n",
      "    unsigned units_sold = 0;\n",
      "    double revenue = 0.0;\n",
      "};\n",
      "\n",
      "istream& read(istream &is, Sales_data &item)\n",
      "{\n",
      "    double price = 0;\n",
      "    is >> item.bookNo >> item.units_sold >> price;\n",
      "    item.revenue = price * item.units_sold;\n",
      "    return is;\n",
      "}\n",
      "\n",
      "ostream& print(ostream &os, const Sales_data &item)\n",
      "{\n",
      "    os << item.isbn() << \" \" << item.units_sold << \" \" << item.revenue << \" \" << item.avg_price();\n",
      "    return os;\n",
      "}\n"
     ]
    }
   ],
   "source": [
    "! cat ex_07_12_Sales_data.h"
   ]
  },
  {
   "cell_type": "code",
   "execution_count": 3,
   "id": "35c920da-047a-4691-b0ba-040c97c8b494",
   "metadata": {},
   "outputs": [],
   "source": [
    "#include \"ex_07_12_Sales_data.h\""
   ]
  },
  {
   "cell_type": "code",
   "execution_count": 4,
   "id": "20f00148-eaf8-4897-9f8a-9d11b69a034b",
   "metadata": {},
   "outputs": [
    {
     "name": "stdin",
     "output_type": "stream",
     "text": [
      " 1234 3 25\n"
     ]
    },
    {
     "name": "stdout",
     "output_type": "stream",
     "text": [
      "1234 3 75 25"
     ]
    }
   ],
   "source": [
    "Sales_data stream_constr(cin);\n",
    "print(cout, stream_constr);"
   ]
  },
  {
   "cell_type": "markdown",
   "id": "2f291ade-d9c1-4a82-9ede-b340db620ee0",
   "metadata": {},
   "source": [
    "### Exercise 7.13: \n",
    "Rewrite the program from page 255 to use the `istream` constructor."
   ]
  },
  {
   "cell_type": "code",
   "execution_count": 1,
   "id": "aaea4dca-471a-496b-8218-97193764dc17",
   "metadata": {},
   "outputs": [],
   "source": [
    "#include \"ex_07_12_Sales_data.h\""
   ]
  },
  {
   "cell_type": "code",
   "execution_count": 2,
   "id": "3c1bc2b8-263e-40ed-9cfc-8d3ae5fc2fa8",
   "metadata": {},
   "outputs": [
    {
     "name": "stdin",
     "output_type": "stream",
     "text": [
      " 0-201-78345-X 3 20.00  0-201-78345-X 2 25.00  0-301-81838-A 2 25.00 ; ; \n"
     ]
    },
    {
     "name": "stdout",
     "output_type": "stream",
     "text": [
      "0-201-78345-X 5 110 22\n",
      "0-301-81838-A 2 50 25\n"
     ]
    }
   ],
   "source": [
    "Sales_data total(cin); \n",
    "Sales_data trans; \n",
    "\n",
    "while (read(cin, trans) && trans.bookNo != \";\")\n",
    "{\n",
    "    if (total.isbn() == trans.isbn())\n",
    "    {\n",
    "        total.combine(trans);\n",
    "    }\n",
    "    else \n",
    "    { \n",
    "        print(cout, total) << endl;\n",
    "        total = trans;\n",
    "    }\n",
    "}\n",
    "print(cout, total) << endl;"
   ]
  },
  {
   "cell_type": "markdown",
   "id": "f5536c61-9bbd-4a9b-9299-b8d6774f7a83",
   "metadata": {},
   "source": [
    "### Exercise 7.14: \n",
    "Write a version of the default constructor that explicitly initializes the\n",
    "members to the values we have provided as in-class initializers."
   ]
  },
  {
   "cell_type": "code",
   "execution_count": 1,
   "id": "7032e0f2-f9f8-44da-ab2b-0f88053497de",
   "metadata": {},
   "outputs": [],
   "source": [
    "#include <iostream>\n",
    "#include <string>\n",
    "\n",
    "using std::cout, std::endl, std::cin, std::string, std::istream, std::ostream;\n",
    "\n",
    "struct Sales_data {\n",
    "    Sales_data(): bookNo(\"\"), units_sold(0), revenue(0.0) { }\n",
    "    \n",
    "    string bookNo;\n",
    "    unsigned units_sold = 0;\n",
    "    double revenue = 0.0;\n",
    "};"
   ]
  },
  {
   "cell_type": "code",
   "execution_count": 2,
   "id": "f1ec969f-09b9-4063-a9d4-3414b97d846b",
   "metadata": {},
   "outputs": [],
   "source": [
    "Sales_data s;"
   ]
  },
  {
   "cell_type": "code",
   "execution_count": 3,
   "id": "6a68112d-8527-4510-a8b4-ea8e4095f5d7",
   "metadata": {},
   "outputs": [
    {
     "data": {
      "text/plain": [
       "\"\""
      ]
     },
     "execution_count": 3,
     "metadata": {},
     "output_type": "execute_result"
    }
   ],
   "source": [
    "s.bookNo"
   ]
  },
  {
   "cell_type": "code",
   "execution_count": 4,
   "id": "90ef20a8-5584-45a1-9158-c3ff8cc2568b",
   "metadata": {},
   "outputs": [
    {
     "data": {
      "text/plain": [
       "0"
      ]
     },
     "execution_count": 4,
     "metadata": {},
     "output_type": "execute_result"
    }
   ],
   "source": [
    "s.units_sold"
   ]
  },
  {
   "cell_type": "code",
   "execution_count": 5,
   "id": "d5fddfb0-1a6a-40b0-9b3d-9bc23cf597b6",
   "metadata": {},
   "outputs": [
    {
     "data": {
      "text/plain": [
       "0.0000000"
      ]
     },
     "execution_count": 5,
     "metadata": {},
     "output_type": "execute_result"
    }
   ],
   "source": [
    "s.revenue"
   ]
  },
  {
   "cell_type": "markdown",
   "id": "00713d5f-ea48-4b35-a960-a4f609db6f8c",
   "metadata": {},
   "source": [
    "### Exercise 7.15: \n",
    "Add appropriate constructors to your `Person` class."
   ]
  },
  {
   "cell_type": "code",
   "execution_count": 1,
   "id": "4e45d6fe-36e4-4e88-9f21-47058ae5de22",
   "metadata": {},
   "outputs": [],
   "source": [
    "#include <iostream>\n",
    "#include <string>\n",
    "\n",
    "using std::cout, std::endl, std::cin, std::string, std::istream, std::ostream;"
   ]
  },
  {
   "cell_type": "code",
   "execution_count": 2,
   "id": "b1f8059d-0f6f-4185-a319-33fae766cef0",
   "metadata": {},
   "outputs": [],
   "source": [
    "struct Person {\n",
    "    Person() = default;\n",
    "    Person(string &n, string &a): name(n), address(a) { }\n",
    "    Person(istream &is);\n",
    "    \n",
    "    string get_name() const { return name; }\n",
    "    string get_address() const { return address; }\n",
    "    \n",
    "    string name;\n",
    "    string address;\n",
    "};"
   ]
  },
  {
   "cell_type": "code",
   "execution_count": 3,
   "id": "d37053df-2672-41f7-a3c7-43f9f8d4efdd",
   "metadata": {},
   "outputs": [],
   "source": [
    "istream& read(istream &is, Person &person)\n",
    "{\n",
    "    is >> person.name >> person.address;\n",
    "    return is;\n",
    "}"
   ]
  },
  {
   "cell_type": "code",
   "execution_count": 4,
   "id": "0450e93c-8799-4981-9b43-25717a5beedf",
   "metadata": {},
   "outputs": [],
   "source": [
    "ostream& print(ostream &os, const Person &person)\n",
    "{\n",
    "    os << person.name << \" \" << person.address;\n",
    "    return os;\n",
    "}"
   ]
  },
  {
   "cell_type": "code",
   "execution_count": 5,
   "id": "96f6a3fd-8480-4508-b9fc-b339708c0577",
   "metadata": {},
   "outputs": [],
   "source": [
    "Person::Person(istream &is)\n",
    "{\n",
    "    read(is, *this);\n",
    "    return *this;\n",
    "}"
   ]
  },
  {
   "cell_type": "markdown",
   "id": "8cdd25ae-20b1-4fd2-9417-43f03576ac32",
   "metadata": {},
   "source": [
    "## EXERCISES SECTION 7.2"
   ]
  },
  {
   "cell_type": "markdown",
   "id": "4a25d176-2b35-4a20-90a4-cfc389a5e91f",
   "metadata": {},
   "source": [
    "### Exercise 7.16: \n",
    "What, if any, are the constraints on where and how often an access specifier may appear inside a class definition? What kinds of members should be defined\n",
    "after a `public` specifier? What kinds should be `private`?"
   ]
  },
  {
   "cell_type": "markdown",
   "id": "f50d3c5b-48b2-4b39-8b24-25547b302c86",
   "metadata": {},
   "source": [
    "A:\n",
    "\n",
    "There are no contraints on where and how often we can use access specifier.  \n",
    "Interface members should be defined after `public` specifier, while internal members should be defined after `private`"
   ]
  },
  {
   "cell_type": "markdown",
   "id": "2bf4fc59-f35a-4ddc-bc4c-25d6c0e116c7",
   "metadata": {},
   "source": [
    "### Exercise 7.17: \n",
    "What, if any, are the differences between using `class` or `struct`?"
   ]
  },
  {
   "cell_type": "markdown",
   "id": "d3a39ebd-fea4-41d9-a252-6a8989fa0dec",
   "metadata": {},
   "source": [
    "A:\n",
    "\n",
    "with `class` all members defined outside of `public` or `private` specifiers are private  \n",
    "with `struct` they are public"
   ]
  },
  {
   "cell_type": "markdown",
   "id": "d2cd7d4a-4f20-47a0-b954-32112d7c6eb4",
   "metadata": {},
   "source": [
    "### Exercise 7.18: \n",
    "What is encapsulation? Why is it useful?"
   ]
  },
  {
   "cell_type": "markdown",
   "id": "c46e8fe3-0418-4343-8bc1-31970bd1a3ec",
   "metadata": {},
   "source": [
    "A:\n",
    "\n",
    "encapsulation means hiding internal members from a user of the class, so that they can't break the data in unexpected ways and so that they don't have to worry about internal behavior of the class"
   ]
  },
  {
   "cell_type": "markdown",
   "id": "9a8d58a0-d1f8-4281-b69d-bc627e8c06d0",
   "metadata": {},
   "source": [
    "### Exercise 7.19: \n",
    "Indicate which members of your `Person` class you would declare as\n",
    "public and which you would declare as private. Explain your choice."
   ]
  },
  {
   "cell_type": "markdown",
   "id": "95d41681-93cc-4ce4-a690-e8c7c7cb11e2",
   "metadata": {},
   "source": [
    "A:\n",
    "\n",
    "`get_name()` and `get_address` would be public, so that class user can see the data, while we can change the way data is kept internally without bothering the user  \n",
    "`name` and `address` would be private, so that class user can't change the data"
   ]
  },
  {
   "cell_type": "markdown",
   "id": "23194a42-c1db-4474-8d06-eaaffee8b614",
   "metadata": {},
   "source": [
    "## EXERCISES SECTION 7.2.1"
   ]
  },
  {
   "cell_type": "markdown",
   "id": "b2ffee7f-7c3e-46c8-a2dd-9a2242c0d34a",
   "metadata": {},
   "source": [
    "### Exercise 7.20: \n",
    "When are friends useful? Discuss the pros and cons of using friends."
   ]
  },
  {
   "cell_type": "markdown",
   "id": "5e0eb10f-6482-42a6-ac12-2f688489622c",
   "metadata": {},
   "source": [
    "A:\n",
    "\n",
    "It's always good to have friends that can help you.  \n",
    "\n",
    "In case of C++, it's useful to make another function a `friend` so that it can access private members of the class.\n",
    "\n",
    "Pros: easy changing of the class' data via functions  \n",
    "Cons: these functions need to be maintained as class is changed"
   ]
  },
  {
   "cell_type": "markdown",
   "id": "771752d1-362b-4496-9b40-e0d085d1f5a6",
   "metadata": {},
   "source": [
    "### Exercise 7.21: \n",
    "Update your `Sales_data` class to hide its implementation. The programs you’ve written to use `Sales_data` operations should still continue to work.\n",
    "Recompile those programs with your new class definition to verify that they still work."
   ]
  },
  {
   "cell_type": "code",
   "execution_count": 1,
   "id": "7927571e-d963-4583-ad21-eb8b7f4c62f9",
   "metadata": {},
   "outputs": [],
   "source": [
    "#include <iostream>\n",
    "#include <string>\n",
    "\n",
    "using std::cout, std::endl, std::cin, std::string, std::istream, std::ostream;"
   ]
  },
  {
   "cell_type": "code",
   "execution_count": 2,
   "id": "a31548b4-1308-479d-9d6c-f94980cd14a5",
   "metadata": {},
   "outputs": [],
   "source": [
    "class Sales_data;"
   ]
  },
  {
   "cell_type": "code",
   "execution_count": 3,
   "id": "9566acf9-1868-4e2c-91b4-4f13e0f7dbd5",
   "metadata": {},
   "outputs": [],
   "source": [
    "Sales_data add(const Sales_data &lhs, const Sales_data &rhs);\n",
    "istream& read(istream &is, Sales_data &item);\n",
    "ostream& print(ostream &os, const Sales_data &item);"
   ]
  },
  {
   "cell_type": "code",
   "execution_count": 4,
   "id": "9001dab6-0dfc-49b8-9e93-c999166ad8f5",
   "metadata": {},
   "outputs": [],
   "source": [
    "class Sales_data {\n",
    "    friend Sales_data add(const Sales_data &lhs, const Sales_data &rhs);\n",
    "    friend istream& read(istream &is, Sales_data &item);\n",
    "    friend ostream& print(ostream &os, const Sales_data &item);\n",
    "    \n",
    "    public:\n",
    "        Sales_data() = default;\n",
    "        Sales_data(const string &s): bookNo(s) { }\n",
    "        Sales_data(const string &s, unsigned n, double p): bookNo(s), units_sold(n), revenue(p*n) { }\n",
    "        Sales_data(std::istream &);\n",
    "\n",
    "        string isbn() const { return bookNo; }\n",
    "        double avg_price() const { return units_sold ? revenue / units_sold : 0; }\n",
    "        Sales_data& combine(const Sales_data&);\n",
    "    \n",
    "    private:\n",
    "        string bookNo;\n",
    "        unsigned units_sold = 0;\n",
    "        double revenue = 0.0;\n",
    "};"
   ]
  },
  {
   "cell_type": "code",
   "execution_count": 5,
   "id": "b4b654e9-2c00-4e92-ad39-5c004a4bfd81",
   "metadata": {},
   "outputs": [],
   "source": [
    "Sales_data& Sales_data::combine(const Sales_data &rhs)\n",
    "{\n",
    "    units_sold += rhs.units_sold;\n",
    "    revenue += rhs.revenue;\n",
    "    return *this;\n",
    "}"
   ]
  },
  {
   "cell_type": "code",
   "execution_count": 6,
   "id": "5a43c817-e1ab-4da3-b7f4-7aaff5e73e65",
   "metadata": {},
   "outputs": [],
   "source": [
    "Sales_data add(const Sales_data &lhs, const Sales_data &rhs)\n",
    "{\n",
    "    Sales_data sum = lhs;\n",
    "    sum.combine(rhs);\n",
    "    return sum;\n",
    "}"
   ]
  },
  {
   "cell_type": "code",
   "execution_count": 7,
   "id": "df4f3949-0301-4631-8f29-2bf1c841d05f",
   "metadata": {},
   "outputs": [],
   "source": [
    "istream& read(istream &is, Sales_data &item)\n",
    "{\n",
    "    double price = 0;\n",
    "    is >> item.bookNo >> item.units_sold >> price;\n",
    "    item.revenue = price * item.units_sold;\n",
    "    return is;\n",
    "}"
   ]
  },
  {
   "cell_type": "code",
   "execution_count": 8,
   "id": "6412ef64-43b7-4546-96b1-b6fe37924d38",
   "metadata": {},
   "outputs": [],
   "source": [
    "ostream& print(ostream &os, const Sales_data &item)\n",
    "{\n",
    "    os << item.isbn() << \" \" << item.units_sold << \" \" << item.revenue << \" \" << item.avg_price();\n",
    "    return os;\n",
    "}"
   ]
  },
  {
   "cell_type": "code",
   "execution_count": 9,
   "id": "1b1a0272-3ec3-424e-9872-111b093ede10",
   "metadata": {},
   "outputs": [],
   "source": [
    "Sales_data::Sales_data(istream &is)\n",
    "{\n",
    "    read(is, *this);\n",
    "}"
   ]
  },
  {
   "cell_type": "code",
   "execution_count": 10,
   "id": "498de56d-d92c-439b-a224-5fe1af08a7f3",
   "metadata": {},
   "outputs": [
    {
     "name": "stdin",
     "output_type": "stream",
     "text": [
      " 0-201-78345-X 3 20.00  0-201-78345-X 2 25.00  0-301-81838-A 2 25.00 ; ; \n"
     ]
    },
    {
     "name": "stdout",
     "output_type": "stream",
     "text": [
      "0-201-78345-X 5 110 22\n",
      "0-301-81838-A 2 50 25\n"
     ]
    }
   ],
   "source": [
    "Sales_data total(cin); \n",
    "Sales_data trans; \n",
    "\n",
    "while (read(cin, trans) && trans.isbn() != \";\")\n",
    "{\n",
    "    if (total.isbn() == trans.isbn())\n",
    "    {\n",
    "        total.combine(trans);\n",
    "    }\n",
    "    else \n",
    "    { \n",
    "        print(cout, total) << endl;\n",
    "        total = trans;\n",
    "    }\n",
    "}\n",
    "print(cout, total) << endl;"
   ]
  },
  {
   "cell_type": "markdown",
   "id": "f7b8a985-a4a4-411b-ba43-03309a2fd50c",
   "metadata": {
    "tags": []
   },
   "source": [
    "### Exercise 7.22: \n",
    "Update your `Person` class to hide its implementation."
   ]
  },
  {
   "cell_type": "code",
   "execution_count": 1,
   "id": "574b9335-faef-41d9-bc8a-eb4ea4f4810c",
   "metadata": {},
   "outputs": [],
   "source": [
    "#include <iostream>\n",
    "#include <string>\n",
    "\n",
    "using std::cout, std::endl, std::cin, std::string, std::istream, std::ostream;"
   ]
  },
  {
   "cell_type": "code",
   "execution_count": 2,
   "id": "8ad797bf-2709-4451-81f1-6af7304f44b3",
   "metadata": {},
   "outputs": [],
   "source": [
    "class Person;\n",
    "istream& read(istream &is, Person &person);\n",
    "ostream& print(ostream &os, const Person &person);"
   ]
  },
  {
   "cell_type": "code",
   "execution_count": 3,
   "id": "dab668f7-1fc9-4527-801a-4650542c4a1a",
   "metadata": {},
   "outputs": [],
   "source": [
    "class Person {\n",
    "    friend istream& read(istream &is, Person &person);\n",
    "    \n",
    "    public:\n",
    "        Person() = default;\n",
    "        Person(string &n, string &a): name(n), address(a) { }\n",
    "        Person(istream &is);\n",
    "    \n",
    "        string get_name() const { return name; }\n",
    "        string get_address() const { return address; }\n",
    "    \n",
    "    private:\n",
    "        string name;\n",
    "        string address;\n",
    "};"
   ]
  },
  {
   "cell_type": "code",
   "execution_count": 4,
   "id": "c57e63fa-1c7c-4d24-b264-2b838fd5d79e",
   "metadata": {},
   "outputs": [],
   "source": [
    "istream& read(istream &is, Person &person)\n",
    "{\n",
    "    is >> person.name >> person.address;\n",
    "    return is;\n",
    "}"
   ]
  },
  {
   "cell_type": "code",
   "execution_count": 5,
   "id": "64b383a1-9d08-4156-b52d-050515d25e0d",
   "metadata": {},
   "outputs": [],
   "source": [
    "ostream& print(ostream &os, const Person &person)\n",
    "{\n",
    "    os << person.get_name() << \" \" << person.get_address();\n",
    "    return os;\n",
    "}"
   ]
  },
  {
   "cell_type": "code",
   "execution_count": 6,
   "id": "dd2b01c0-38a4-4fcb-a491-85fbf9095efb",
   "metadata": {},
   "outputs": [],
   "source": [
    "Person::Person(istream &is)\n",
    "{\n",
    "    read(is, *this);\n",
    "    return *this;\n",
    "}"
   ]
  },
  {
   "cell_type": "markdown",
   "id": "49c214a5-5617-4134-b8c9-e85daf1b7b04",
   "metadata": {},
   "source": [
    "## EXERCISES SECTION 7.3.1"
   ]
  },
  {
   "cell_type": "markdown",
   "id": "cfd5cb0e-92d4-488f-9b5c-46c52437e366",
   "metadata": {},
   "source": [
    "### Exercise 7.23: \n",
    "Write your own version of the `Screen` class."
   ]
  },
  {
   "cell_type": "code",
   "execution_count": 1,
   "id": "6f018650-988f-43fe-aee2-8c8a8d4506c6",
   "metadata": {},
   "outputs": [],
   "source": [
    "#include <string>\n",
    "using std::string;"
   ]
  },
  {
   "cell_type": "code",
   "execution_count": 2,
   "id": "6108f860-01ec-4ffb-b909-0bbfb1bf312d",
   "metadata": {},
   "outputs": [],
   "source": [
    "class Screen {\n",
    "    public:\n",
    "        typedef string::size_type pos;\n",
    "    \n",
    "    private:\n",
    "        pos cursor = 0;\n",
    "        pos height = 0, width = 0;\n",
    "        string contents;\n",
    "};"
   ]
  },
  {
   "cell_type": "markdown",
   "id": "6395c3db-66ed-4338-af63-0edb3d5c2c2b",
   "metadata": {},
   "source": [
    "### Exercise 7.24: \n",
    "Give your `Screen` class three constructors: \n",
    "a default constructor; a constructor that takes values for height and width and initializes the contents to hold the\n",
    "given number of blanks; and a constructor that takes values for height, width, and a\n",
    "character to use as the contents of the screen."
   ]
  },
  {
   "cell_type": "code",
   "execution_count": 1,
   "id": "debfd48b-927a-4ac6-a2e2-36dcc2418679",
   "metadata": {},
   "outputs": [],
   "source": [
    "#include <string>\n",
    "using std::string;"
   ]
  },
  {
   "cell_type": "code",
   "execution_count": 2,
   "id": "79b085da-7888-4b6e-9270-512112818380",
   "metadata": {},
   "outputs": [],
   "source": [
    "class Screen {\n",
    "    public:\n",
    "        Screen() = default;\n",
    "        Screen(int h, int w): height(h), width(w), contents(h*w, '\\0') { }\n",
    "        Screen(int h, int w, char c): height(h), width(w), contents(h*w, c) { }\n",
    "        typedef string::size_type pos;\n",
    "    \n",
    "    private:\n",
    "        pos cursor = 0;\n",
    "        pos height = 0, width = 0;\n",
    "        string contents;\n",
    "};"
   ]
  },
  {
   "cell_type": "markdown",
   "id": "a33d7068-7787-40ca-93e5-00fd37525242",
   "metadata": {
    "tags": []
   },
   "source": [
    "### Exercise 7.25: \n",
    "Can `Screen` safely rely on the default versions of copy and assignment? If so, why? If not, why not?"
   ]
  },
  {
   "cell_type": "markdown",
   "id": "7f57a489-7666-4120-af02-fbbdc9dc0760",
   "metadata": {},
   "source": [
    "A:\n",
    "\n",
    "yes, because it's using `string` types for data members and doesn't keep any resources outside of that. `string` class takes care of properly copying the data."
   ]
  },
  {
   "cell_type": "markdown",
   "id": "d5657682-38ef-49ec-a895-c498daf198b5",
   "metadata": {},
   "source": [
    "### Exercise 7.26: \n",
    "Define `Sales_data::avg_price` as an `inline` function."
   ]
  },
  {
   "cell_type": "code",
   "execution_count": 1,
   "id": "f50247be-03e2-4d19-bd80-d3a465471f69",
   "metadata": {},
   "outputs": [],
   "source": [
    "#include <iostream>\n",
    "#include <string>\n",
    "\n",
    "using std::cout, std::endl, std::cin, std::string, std::istream, std::ostream;"
   ]
  },
  {
   "cell_type": "code",
   "execution_count": 2,
   "id": "4de3885c-e5f6-4e44-8e63-bce578ff3945",
   "metadata": {},
   "outputs": [],
   "source": [
    "class Sales_data {\n",
    "    public:\n",
    "        Sales_data() = default;\n",
    "        Sales_data(const string &s): bookNo(s) { }\n",
    "        Sales_data(const string &s, unsigned n, double p): bookNo(s), units_sold(n), revenue(p*n) { }\n",
    "        Sales_data(std::istream &);\n",
    "\n",
    "        double avg_price() const;\n",
    "        string isbn() const { return bookNo; }\n",
    "        Sales_data& combine(const Sales_data&);\n",
    "    \n",
    "    private:\n",
    "        string bookNo;\n",
    "        unsigned units_sold = 0;\n",
    "        double revenue = 0.0;\n",
    "};"
   ]
  },
  {
   "cell_type": "code",
   "execution_count": 3,
   "id": "88195bda-7102-4585-bb65-3fe4a7d46f05",
   "metadata": {},
   "outputs": [],
   "source": [
    "inline double Sales_data::avg_price() const { return units_sold ? revenue / units_sold : 0; }"
   ]
  },
  {
   "cell_type": "markdown",
   "id": "78a0e44a-f2ce-4298-b8b6-2661bb340ad0",
   "metadata": {},
   "source": [
    "## EXERCISES SECTION 7.3.2"
   ]
  },
  {
   "cell_type": "markdown",
   "id": "9f52b093-e29f-44be-a283-06934a7334f3",
   "metadata": {},
   "source": [
    "### Exercise 7.27: \n",
    "Add the `move`, `set`, and `display` operations to your version of\n",
    "`Screen`. Test your class by executing the following code:\n",
    "```\n",
    "Screen myScreen(5, 5, ’X’);\n",
    "myScreen.move(4,0).set(’#’).display(cout);\n",
    "cout << \"\\n\";\n",
    "myScreen.display(cout);\n",
    "cout << \"\\n\";\n",
    "```"
   ]
  },
  {
   "cell_type": "code",
   "execution_count": 1,
   "id": "44ad8631-eca3-4409-80c2-c65f86df4b35",
   "metadata": {},
   "outputs": [],
   "source": [
    "#include <iostream>\n",
    "#include <string>\n",
    "using std::string, std::cout, std::ostream;"
   ]
  },
  {
   "cell_type": "code",
   "execution_count": 2,
   "id": "9f21e265-8ea9-446f-a6a2-f3eb18d633fc",
   "metadata": {},
   "outputs": [],
   "source": [
    "class Screen {\n",
    "    public:\n",
    "        Screen() = default;\n",
    "        Screen(int h, int w): height(h), width(w), contents(h*w, '\\0') { }\n",
    "        Screen(int h, int w, char c): height(h), width(w), contents(h*w, c) { }\n",
    "    \n",
    "        typedef string::size_type pos;\n",
    "    \n",
    "        Screen &set(char);\n",
    "        Screen &set(pos, pos, char);\n",
    "        Screen &move(pos, pos);\n",
    "        Screen &display(ostream &os) { do_display(os); return *this; }\n",
    "        const Screen &display(ostream &os) const { do_display(os); return *this; }\n",
    "        \n",
    "    \n",
    "    private:\n",
    "        void do_display(ostream &os) const { os << contents; }\n",
    "    \n",
    "        pos cursor = 0;\n",
    "        pos height = 0, width = 0;\n",
    "        string contents;\n",
    "};"
   ]
  },
  {
   "cell_type": "code",
   "execution_count": 3,
   "id": "5248bcb1-d69f-4499-9668-3b2fd29c7990",
   "metadata": {},
   "outputs": [],
   "source": [
    "inline Screen &Screen::set(char c)\n",
    "{\n",
    "    contents[cursor] = c;\n",
    "    return *this;\n",
    "}"
   ]
  },
  {
   "cell_type": "code",
   "execution_count": 4,
   "id": "db750f5e-d465-4f85-ab3a-a0975efbe749",
   "metadata": {},
   "outputs": [],
   "source": [
    "inline Screen &Screen::set(pos r, pos col, char ch)\n",
    "{\n",
    "    contents[r*width + col] = ch;\n",
    "    return *this;\n",
    "}"
   ]
  },
  {
   "cell_type": "code",
   "execution_count": 5,
   "id": "84d63e12-b702-4da6-9728-d4f46a0351a4",
   "metadata": {},
   "outputs": [],
   "source": [
    "inline Screen &Screen::move(pos r, pos c)\n",
    "{\n",
    "    pos row = r * width;\n",
    "    cursor = row + c;\n",
    "    return *this;\n",
    "}"
   ]
  },
  {
   "cell_type": "code",
   "execution_count": 6,
   "id": "049dfd19-c3ff-443f-9fee-2ce5a96da7c0",
   "metadata": {},
   "outputs": [
    {
     "name": "stdout",
     "output_type": "stream",
     "text": [
      "XXXXXXXXXXXXXXXXXXXX#XXXX\n",
      "XXXXXXXXXXXXXXXXXXXX#XXXX\n"
     ]
    }
   ],
   "source": [
    "Screen myScreen(5, 5, 'X');\n",
    "myScreen.move(4,0).set('#').display(cout);\n",
    "cout << \"\\n\";\n",
    "myScreen.display(cout);\n",
    "cout << \"\\n\";"
   ]
  },
  {
   "cell_type": "markdown",
   "id": "b654be81-0306-4e74-84ac-d1d436fd58ce",
   "metadata": {},
   "source": [
    "### Exercise 7.28: \n",
    "What would happen in the previous exercise if the return type of `move`,\n",
    "`set`, and `display` was `Screen` rather than `Screen&`?"
   ]
  },
  {
   "cell_type": "markdown",
   "id": "f44d1d13-e323-4bde-ae2f-0624e6733c2d",
   "metadata": {},
   "source": [
    "A:\n",
    "\n",
    "a chain like this one\n",
    "```\n",
    "myScreen.move(4,0).set('#').display(cout);\n",
    "```\n",
    "would make `set` and `display` run on a new copy of myScreen instead of changing the original object, so in the end the second `display` wouldn't show the `#` character"
   ]
  },
  {
   "cell_type": "markdown",
   "id": "fd376bb7-976b-4e47-8947-e18d8758c365",
   "metadata": {},
   "source": [
    "### Exercise 7.29: \n",
    "Revise your `Screen` class so that `move`, `set`, and `display` functions\n",
    "return `Screen` and check your prediction from the previous exercise."
   ]
  },
  {
   "cell_type": "code",
   "execution_count": 1,
   "id": "9cb1bb3a-577f-4507-aeaf-7a932cbffcb6",
   "metadata": {},
   "outputs": [],
   "source": [
    "#include <iostream>\n",
    "#include <string>\n",
    "using std::string, std::cout, std::ostream;"
   ]
  },
  {
   "cell_type": "code",
   "execution_count": 2,
   "id": "324a8c99-f064-4b6b-81b0-c926f1adf8ed",
   "metadata": {},
   "outputs": [],
   "source": [
    "class Screen {\n",
    "    public:\n",
    "        Screen() = default;\n",
    "        Screen(int h, int w): height(h), width(w), contents(h*w, '\\0') { }\n",
    "        Screen(int h, int w, char c): height(h), width(w), contents(h*w, c) { }\n",
    "    \n",
    "        typedef string::size_type pos;\n",
    "    \n",
    "        Screen set(char);\n",
    "        Screen set(pos, pos, char);\n",
    "        Screen move(pos, pos);\n",
    "        Screen display(ostream &os) { do_display(os); return *this; }\n",
    "        const Screen display(ostream &os) const { do_display(os); return *this; }\n",
    "        \n",
    "    \n",
    "    private:\n",
    "        void do_display(ostream &os) const { os << contents; }\n",
    "    \n",
    "        pos cursor = 0;\n",
    "        pos height = 0, width = 0;\n",
    "        string contents;\n",
    "};"
   ]
  },
  {
   "cell_type": "code",
   "execution_count": 3,
   "id": "3f897b26-8cfd-4745-bca4-1c362255578d",
   "metadata": {},
   "outputs": [],
   "source": [
    "inline Screen Screen::set(char c)\n",
    "{\n",
    "    contents[cursor] = c;\n",
    "    return *this;\n",
    "}"
   ]
  },
  {
   "cell_type": "code",
   "execution_count": 4,
   "id": "2b78d850-a28b-4de8-844e-9482219677dd",
   "metadata": {},
   "outputs": [],
   "source": [
    "inline Screen Screen::set(pos r, pos col, char ch)\n",
    "{\n",
    "    contents[r*width + col] = ch;\n",
    "    return *this;\n",
    "}"
   ]
  },
  {
   "cell_type": "code",
   "execution_count": 5,
   "id": "c45bd638-b05c-4e17-a97d-c6993e7739a7",
   "metadata": {},
   "outputs": [],
   "source": [
    "inline Screen Screen::move(pos r, pos c)\n",
    "{\n",
    "    pos row = r * width;\n",
    "    cursor = row + c;\n",
    "    return *this;\n",
    "}"
   ]
  },
  {
   "cell_type": "code",
   "execution_count": 6,
   "id": "88235c27-1a6b-485f-aec9-c6e0c3c175a8",
   "metadata": {},
   "outputs": [
    {
     "name": "stdout",
     "output_type": "stream",
     "text": [
      "XXXXXXXXXXXXXXXXXXXX#XXXX\n",
      "XXXXXXXXXXXXXXXXXXXXXXXXX\n"
     ]
    }
   ],
   "source": [
    "Screen myScreen(5, 5, 'X');\n",
    "myScreen.move(4,0).set('#').display(cout);\n",
    "cout << \"\\n\";\n",
    "myScreen.display(cout);\n",
    "cout << \"\\n\";"
   ]
  },
  {
   "cell_type": "markdown",
   "id": "430e481d-df87-484e-93ae-36e2a969c7d3",
   "metadata": {},
   "source": [
    "### Exercise 7.30: \n",
    "It is legal but redundant to refer to members through the `this` pointer.\n",
    "Discuss the pros and cons of explicitly using the `this` pointer to access members."
   ]
  },
  {
   "cell_type": "markdown",
   "id": "0123da01-00cb-4dc3-a8e8-3dc41efea9bd",
   "metadata": {},
   "source": [
    "A:\n",
    "\n",
    "using `this` explicitly makes it more obvious that a name is of a member, but creates more code"
   ]
  },
  {
   "cell_type": "markdown",
   "id": "aa80137a-a673-4644-b32f-7186c584f2ee",
   "metadata": {},
   "source": [
    "## EXERCISES SECTION 7.3.3"
   ]
  },
  {
   "cell_type": "markdown",
   "id": "c2f0509c-2303-4ad4-8af1-aeedba5a512d",
   "metadata": {},
   "source": [
    "### Exercise 7.31: \n",
    "Define a pair of classes `X` and `Y`, in which `X` has a pointer to `Y`, and `Y` has\n",
    "an object of type `X`."
   ]
  },
  {
   "cell_type": "code",
   "execution_count": 1,
   "id": "0a48a4cc",
   "metadata": {},
   "outputs": [],
   "source": [
    "class X;\n",
    "class Y;"
   ]
  },
  {
   "cell_type": "code",
   "execution_count": 2,
   "id": "4441aa5d-9603-4708-b86c-e9b3236dcc6f",
   "metadata": {},
   "outputs": [],
   "source": [
    "class X\n",
    "{\n",
    "    Y *y;\n",
    "};"
   ]
  },
  {
   "cell_type": "code",
   "execution_count": 3,
   "id": "b24926c5-c971-45e1-93fd-fcf91c6ee1a5",
   "metadata": {},
   "outputs": [],
   "source": [
    "class Y\n",
    "{\n",
    "    X x;\n",
    "};"
   ]
  },
  {
   "cell_type": "markdown",
   "id": "3eba9a6f-9564-46b6-85ca-5d4eb87f2e5e",
   "metadata": {},
   "source": [
    "## EXERCISES SECTION 7.3.4"
   ]
  },
  {
   "cell_type": "markdown",
   "id": "9df7bfd1-a6ba-4ef1-a044-167ebd2e8557",
   "metadata": {},
   "source": [
    "### Exercise 7.32: \n",
    "Define your own versions of `Screen` and `Window_mgr` in which\n",
    "`clear` is a member of `Window_mgr` and a friend of `Screen`."
   ]
  },
  {
   "cell_type": "code",
   "execution_count": 1,
   "id": "7674f979-df82-4d02-8367-c4e439908ae7",
   "metadata": {},
   "outputs": [],
   "source": [
    "#include <iostream>\n",
    "#include <string>\n",
    "using std::string, std::cout, std::ostream;"
   ]
  },
  {
   "cell_type": "code",
   "execution_count": 2,
   "id": "7876f25a-3f9a-49ac-9db3-22af3eb45d49",
   "metadata": {},
   "outputs": [],
   "source": [
    "class Screen {\n",
    "    friend class Window_mgr;\n",
    "    \n",
    "    public:\n",
    "        Screen() = default;\n",
    "        Screen(int h, int w): height(h), width(w), contents(h*w, '\\0') { }\n",
    "        Screen(int h, int w, char c): height(h), width(w), contents(h*w, c) { }\n",
    "    \n",
    "        typedef string::size_type pos;\n",
    "    \n",
    "        Screen set(char);\n",
    "        Screen set(pos, pos, char);\n",
    "        Screen move(pos, pos);\n",
    "        Screen display(ostream &os) { do_display(os); return *this; }\n",
    "        const Screen display(ostream &os) const { do_display(os); return *this; }\n",
    "        pos size() const;\n",
    "        \n",
    "    private:\n",
    "        void do_display(ostream &os) const { os << contents; }\n",
    "    \n",
    "        pos cursor = 0;\n",
    "        pos height = 0, width = 0;\n",
    "        string contents;\n",
    "};"
   ]
  },
  {
   "cell_type": "code",
   "execution_count": 3,
   "id": "a6c59725-2906-4bae-93e5-aa7bb9cd6b71",
   "metadata": {},
   "outputs": [],
   "source": [
    "class Window_mgr {\n",
    "    public:\n",
    "        using ScreenIndex = std::vector<Screen>::size_type;\n",
    "        void clear(ScreenIndex);\n",
    "    private:\n",
    "    std::vector<Screen> screens{Screen(24, 80, ' ')};\n",
    "};"
   ]
  },
  {
   "cell_type": "code",
   "execution_count": 4,
   "id": "c588e36e-7785-4ebf-85bc-84be0c2d6ecf",
   "metadata": {},
   "outputs": [],
   "source": [
    "void Window_mgr::clear(ScreenIndex i)\n",
    "{\n",
    "    Screen &s = screens[i];\n",
    "    s.contents = string(s.height * s.width, ' ');\n",
    "}"
   ]
  },
  {
   "cell_type": "markdown",
   "id": "3d21431f-589d-42aa-9641-0fc283828b71",
   "metadata": {},
   "source": [
    "## EXERCISES SECTION 7.4"
   ]
  },
  {
   "cell_type": "markdown",
   "id": "05206447-c00c-4870-b85f-49bb8dc9c342",
   "metadata": {
    "tags": []
   },
   "source": [
    "### Exercise 7.33: \n",
    "What would happen if we gave `Screen` a `size` member defined as\n",
    "follows? Fix any problems you identify.\n",
    "```\n",
    "pos Screen::\n",
    "size() const\n",
    "{\n",
    "    return height * width;\n",
    "}\n",
    "```"
   ]
  },
  {
   "cell_type": "markdown",
   "id": "dcda385f-758c-4c7a-9bab-c98daef51866",
   "metadata": {},
   "source": [
    "A:\n",
    "\n",
    "`pos` is not in scope when we declare the return type of `size`, so we need to change it to `Screen::pos`\n",
    "```\n",
    "Screen::pos Screen::size() const\n",
    "{\n",
    "    return height * width;\n",
    "}\n",
    "```"
   ]
  },
  {
   "cell_type": "markdown",
   "id": "4de0dfe8-4e39-4239-8966-8371a768fcd5",
   "metadata": {},
   "source": [
    "## EXERCISES SECTION 7.4.1"
   ]
  },
  {
   "cell_type": "markdown",
   "id": "56d57fec-da46-4f5d-a35b-b1c09838237b",
   "metadata": {},
   "source": [
    "### Exercise 7.34: \n",
    "What would happen if we put the `typedef` of `pos` in the `Screen` class\n",
    "on page 285\n",
    "```\n",
    "int height;\n",
    "class Screen {\n",
    "    public:\n",
    "        typedef std::string::size_type pos;\n",
    "        void dummy_fcn(pos height) {\n",
    "            cursor = width * height;\n",
    "        }\n",
    "    private:\n",
    "        pos cursor = 0;\n",
    "        pos height = 0, width = 0;\n",
    "};\n",
    "```\n",
    "as the last line in the class?"
   ]
  },
  {
   "cell_type": "markdown",
   "id": "8430ec9e-7612-49cf-85e7-733bbe0e93c3",
   "metadata": {},
   "source": [
    "A:\n",
    "\n",
    "`dummy_fcn` looks for names in class' scope only before it's declaration, so it won't find `pos` and will throw an error"
   ]
  },
  {
   "cell_type": "markdown",
   "id": "a9a2d2cc-aca9-44c7-a787-147e3a91eba5",
   "metadata": {},
   "source": [
    "### Exercise 7.35: \n",
    "Explain the following code, indicating which definition of `Type` or\n",
    "`initVal` is used for each use of those names. Say how you would fix any errors.\n",
    "```\n",
    "typedef string Type;\n",
    "Type initVal();\n",
    "class Exercise {\n",
    "    public: \n",
    "        typedef double Type;\n",
    "        Type setVal(Type);\n",
    "        Type initVal();\n",
    "    private:\n",
    "        int val;\n",
    "};\n",
    "Type Exercise::setVal(Type parm) {\n",
    "    val = parm + initVal();\n",
    "    return val;\n",
    "}\n",
    "```"
   ]
  },
  {
   "cell_type": "markdown",
   "id": "efb9622b-673f-4820-af1d-ae182d7a388a",
   "metadata": {},
   "source": [
    "A:\n",
    "\n",
    "`setVal` declares `Type` declared as `double` both for parameter and return  \n",
    "`initVal` declares `Type` declared as `double` for return  \n",
    "There's an error in definition of `setVal`, as it's return type (`string Type`) doesn't match it's declared return type (`double Type`). Error can be fixed by specifying the usage of `Exercise::Type`"
   ]
  },
  {
   "cell_type": "code",
   "execution_count": 1,
   "id": "581012f3-b986-4a80-afaf-8223a5811151",
   "metadata": {},
   "outputs": [],
   "source": [
    "using std::string;"
   ]
  },
  {
   "cell_type": "code",
   "execution_count": 2,
   "id": "749477ec-0f20-422c-8e59-a3a40894d158",
   "metadata": {},
   "outputs": [
    {
     "name": "stderr",
     "output_type": "stream",
     "text": [
      "input_line_8:3:13: warning: empty parentheses interpreted as a function declaration [-Wvexing-parse]\n",
      "Type initVal();\n",
      "            ^~\n",
      "input_line_8:3:13: note: remove parentheses to declare a variable\n",
      "Type initVal();\n",
      "            ^~\n"
     ]
    }
   ],
   "source": [
    "typedef string Type;\n",
    "Type initVal();\n",
    "class Exercise {\n",
    "    public: \n",
    "        typedef double Type;\n",
    "        Type setVal(Type);\n",
    "        Type initVal();\n",
    "    private:\n",
    "        int val;\n",
    "};"
   ]
  },
  {
   "cell_type": "code",
   "execution_count": 3,
   "id": "fc11d731-546f-4b82-8dd5-1e4929f7fb99",
   "metadata": {},
   "outputs": [],
   "source": [
    "Exercise::Type Exercise::setVal(Type parm) {\n",
    "    val = parm + initVal();\n",
    "    return val;\n",
    "}"
   ]
  },
  {
   "cell_type": "markdown",
   "id": "28cb16fe-f283-4d54-820f-42b35e24e82e",
   "metadata": {},
   "source": [
    "## EXERCISES SECTION 7.5.1"
   ]
  },
  {
   "cell_type": "markdown",
   "id": "053a4ce8-53cc-456b-b9c0-acf9390f5f32",
   "metadata": {},
   "source": [
    "### Exercise 7.36: \n",
    "The following initializer is in error. Identify and fix the problem.\n",
    "```\n",
    "struct X {\n",
    "    X (int i, int j): base(i), rem(base % j) { }\n",
    "    int rem, base;\n",
    "};\n",
    "```"
   ]
  },
  {
   "cell_type": "markdown",
   "id": "4716f019-2996-4b52-bd46-d19700149b93",
   "metadata": {},
   "source": [
    "A:\n",
    "\n",
    "the error comes from undefined behavior of the order of initialization of `base` and `rem`. `base` might not be initialized yet when used by `rem`"
   ]
  },
  {
   "cell_type": "code",
   "execution_count": 6,
   "id": "988348f6-7472-407c-b28d-a40ffd0c147e",
   "metadata": {},
   "outputs": [],
   "source": [
    "// fixed version\n",
    "struct X {\n",
    "    X (int i, int j): base(i), rem(i % j) { }\n",
    "    int rem, base;\n",
    "};"
   ]
  },
  {
   "cell_type": "markdown",
   "id": "5fb52ee0-fb05-458c-b79e-77699c13ef54",
   "metadata": {},
   "source": [
    "### Exercise 7.37: \n",
    "Using the version of `Sales_data` from this section,\n",
    "```\n",
    "class Sales_data {\n",
    "    public:\n",
    "    Sales_data(std::string s = \"\"): bookNo(s) { }\n",
    "    Sales_data(std::string s, unsigned cnt, double rev): bookNo(s), units_sold(cnt), revenue(rev*cnt) { }\n",
    "    Sales_data(std::istream &is) { read(is, *this); }\n",
    "};\n",
    "```\n",
    "determine which\n",
    "constructor is used to initialize each of the following variables and list the values of the\n",
    "data members in each object:\n",
    "```\n",
    "Sales_data first_item(cin);\n",
    "int main() {\n",
    "    Sales_data next;\n",
    "    Sales_data last(\"9-999-99999-9\");\n",
    "}\n",
    "```"
   ]
  },
  {
   "cell_type": "markdown",
   "id": "5e2bbb47-109e-4b3e-8082-fa9964a48b22",
   "metadata": {},
   "source": [
    "A:\n",
    "\n",
    "`first_item` uses `Sales_data(std::istream &is) { read(is, *this); }`  \n",
    "`next` uses `Sales_data(std::string s = \"\"): bookNo(s) { }` by taking advantage of default value  \n",
    "`last` also uses `Sales_data(std::string s = \"\"): bookNo(s) { }`"
   ]
  },
  {
   "cell_type": "markdown",
   "id": "5b3766c4-4a71-4159-8ab3-be434b086618",
   "metadata": {},
   "source": [
    "### Exercise 7.38: \n",
    "We might want to supply `cin` as a default argument to the constructor\n",
    "that takes an `istream&`. Write the constructor declaration that uses `cin` as a default\n",
    "argument."
   ]
  },
  {
   "cell_type": "code",
   "execution_count": 1,
   "id": "de7ebe63-a41e-4642-94bb-b52dc05e8406",
   "metadata": {},
   "outputs": [],
   "source": [
    "// xeus-cling has problems with seeing declarations when in cells, so we'll use header file instead"
   ]
  },
  {
   "cell_type": "code",
   "execution_count": 2,
   "id": "638d4c60-20fa-4118-a9e1-16c933dd60f9",
   "metadata": {},
   "outputs": [
    {
     "name": "stdout",
     "output_type": "stream",
     "text": [
      "#include <iostream>\n",
      "#include <string>\n",
      "\n",
      "using std::cout, std::endl, std::cin, std::string, std::istream, std::ostream;\n",
      "\n",
      "struct Sales_data;\n",
      "\n",
      "istream& read(istream &is, Sales_data &item);\n",
      "ostream& print(ostream &os, const Sales_data &item);\n",
      "\n",
      "struct Sales_data {\n",
      "    Sales_data(istream &is = cin) { read(is, *this); }\n",
      "    Sales_data(const string &s): bookNo(s) { }\n",
      "    Sales_data(const string &s, unsigned n, double p): bookNo(s), units_sold(n), revenue(p*n) { }\n",
      "\n",
      "    string isbn() const { return bookNo; }\n",
      "    double avg_price() const { return units_sold ? revenue / units_sold : 0; }\n",
      "    Sales_data& combine(const Sales_data&);\n",
      "    \n",
      "    string bookNo;\n",
      "    unsigned units_sold = 0;\n",
      "    double revenue = 0.0;\n",
      "};\n",
      "\n",
      "istream& read(istream &is, Sales_data &item)\n",
      "{\n",
      "    double price = 0;\n",
      "    is >> item.bookNo >> item.units_sold >> price;\n",
      "    item.revenue = price * item.units_sold;\n",
      "    return is;\n",
      "}\n",
      "\n",
      "ostream& print(ostream &os, const Sales_data &item)\n",
      "{\n",
      "    os << item.isbn() << \" \" << item.units_sold << \" \" << item.revenue << \" \" << item.avg_price();\n",
      "    return os;\n",
      "}\n"
     ]
    }
   ],
   "source": [
    "! cat ex_07_38_Sales_data.h"
   ]
  },
  {
   "cell_type": "code",
   "execution_count": 3,
   "id": "0afa24c8-c150-4d72-98f6-7dbeab908444",
   "metadata": {},
   "outputs": [],
   "source": [
    "#include \"ex_07_38_Sales_data.h\""
   ]
  },
  {
   "cell_type": "code",
   "execution_count": 4,
   "id": "cb527beb-8101-480b-9990-e385efdb58a7",
   "metadata": {},
   "outputs": [
    {
     "name": "stdin",
     "output_type": "stream",
     "text": [
      " 1234 3 25\n"
     ]
    },
    {
     "name": "stdout",
     "output_type": "stream",
     "text": [
      "1234 3 75 25"
     ]
    }
   ],
   "source": [
    "Sales_data stream_constr;\n",
    "print(cout, stream_constr);"
   ]
  },
  {
   "cell_type": "markdown",
   "id": "f5fa220b-3c3d-4887-974b-14b36aa1a63c",
   "metadata": {},
   "source": [
    "### Exercise 7.39: \n",
    "Would it be legal for both the constructor that takes a `string` and the\n",
    "one that takes an `istream&` to have default arguments? If not, why not?"
   ]
  },
  {
   "cell_type": "markdown",
   "id": "b6ded8e6-f1c4-40c0-908a-a164094a914f",
   "metadata": {},
   "source": [
    "A:\n",
    "\n",
    "No, as then the compilator can't know which one is supposed to be used as a default constructor"
   ]
  },
  {
   "cell_type": "markdown",
   "id": "ed99956d-746d-4aa5-9ee1-56b09529d7ea",
   "metadata": {},
   "source": [
    "### Exercise 7.40:\n",
    "Choose one of the following abstractions (or an abstraction of your\n",
    "own choosing). Determine what data are needed in the class. Provide an appropriate\n",
    "set of constructors. Explain your decisions.  \n",
    "(a) Book  \n",
    "(b) Date  \n",
    "(c) Employee  \n",
    "(d) Vehicle  \n",
    "(e) Object  \n",
    "(f) Tree  "
   ]
  },
  {
   "cell_type": "code",
   "execution_count": 1,
   "id": "6791bc57-c7f8-417d-8566-3f2f14420a01",
   "metadata": {},
   "outputs": [],
   "source": [
    "class Tree\n",
    "{\n",
    "    public:\n",
    "        Tree(double h = 0, double w = 0, int b = 0): height(h), width(w), branches(b) { }\n",
    "    \n",
    "    private:\n",
    "        int branches = 0;\n",
    "        double height = 0;\n",
    "        double width = 0;\n",
    "}"
   ]
  },
  {
   "cell_type": "markdown",
   "id": "d28b963b-cea0-4b4d-85a3-a3074855396d",
   "metadata": {},
   "source": [
    "A:\n",
    "\n",
    "with this single constructor we can create new `Tree` by providing 0, 1, 2 or 3 arguments."
   ]
  },
  {
   "cell_type": "markdown",
   "id": "da9e3010-0b6d-43c3-a595-1a9408874246",
   "metadata": {},
   "source": [
    "## EXERCISES SECTION 7.5.2"
   ]
  },
  {
   "cell_type": "markdown",
   "id": "0ad0e20d-b55a-4189-91b5-21ccfb7a9424",
   "metadata": {},
   "source": [
    "### Exercise 7.41: \n",
    "Rewrite your own version of the `Sales_data` class to use delegating\n",
    "constructors. Add a statement to the body of each of the constructors that prints a\n",
    "message whenever it is executed. Write declarations to construct a `Sales_data` object\n",
    "in every way possible. Study the output until you are certain you understand the order\n",
    "of execution among delegating constructors."
   ]
  },
  {
   "cell_type": "code",
   "execution_count": 1,
   "id": "a6faab52-5f9d-4ea2-825e-8c7c9b9333fa",
   "metadata": {},
   "outputs": [],
   "source": [
    "#include <iostream>\n",
    "#include <string>\n",
    "\n",
    "using std::cout, std::endl, std::cin, std::string, std::istream, std::ostream;"
   ]
  },
  {
   "cell_type": "code",
   "execution_count": 2,
   "id": "35c44a5d-91f6-4a47-9a38-a464b3afbf09",
   "metadata": {},
   "outputs": [],
   "source": [
    "class Sales_data;"
   ]
  },
  {
   "cell_type": "code",
   "execution_count": 3,
   "id": "dffca5e9-263f-4d11-b77f-f57e003f02ed",
   "metadata": {},
   "outputs": [],
   "source": [
    "Sales_data add(const Sales_data &lhs, const Sales_data &rhs);\n",
    "istream& read(istream &is, Sales_data &item);\n",
    "ostream& print(ostream &os, const Sales_data &item);"
   ]
  },
  {
   "cell_type": "code",
   "execution_count": 4,
   "id": "338c5959-422d-4561-a90b-3d0e9554712d",
   "metadata": {},
   "outputs": [],
   "source": [
    "class Sales_data {\n",
    "    friend Sales_data add(const Sales_data &lhs, const Sales_data &rhs);\n",
    "    friend istream& read(istream &is, Sales_data &item);\n",
    "    friend ostream& print(ostream &os, const Sales_data &item);\n",
    "    \n",
    "    public:\n",
    "        Sales_data(const string &s, unsigned n, double p): bookNo(s), units_sold(n), revenue(p*n) { cout << \"triple arg\" << endl; }\n",
    "        Sales_data(const string &s): Sales_data(s, 0, 0) { cout << \"single string\" << endl; }\n",
    "        Sales_data(): Sales_data(\"\")  { cout << \"empty \" << endl; }\n",
    "        Sales_data(std::istream &);\n",
    "\n",
    "        string isbn() const { return bookNo; }\n",
    "        double avg_price() const { return units_sold ? revenue / units_sold : 0; }\n",
    "        Sales_data& combine(const Sales_data&);\n",
    "    \n",
    "    private:\n",
    "        string bookNo;\n",
    "        unsigned units_sold = 0;\n",
    "        double revenue = 0.0;\n",
    "};"
   ]
  },
  {
   "cell_type": "code",
   "execution_count": 5,
   "id": "11c89fe6-fc0d-41a4-be0e-d87d5df0d01b",
   "metadata": {},
   "outputs": [],
   "source": [
    "Sales_data& Sales_data::combine(const Sales_data &rhs)\n",
    "{\n",
    "    units_sold += rhs.units_sold;\n",
    "    revenue += rhs.revenue;\n",
    "    return *this;\n",
    "}"
   ]
  },
  {
   "cell_type": "code",
   "execution_count": 6,
   "id": "e99b5e14-5db1-4df5-a98e-c7902c051974",
   "metadata": {},
   "outputs": [],
   "source": [
    "Sales_data add(const Sales_data &lhs, const Sales_data &rhs)\n",
    "{\n",
    "    Sales_data sum = lhs;\n",
    "    sum.combine(rhs);\n",
    "    return sum;\n",
    "}"
   ]
  },
  {
   "cell_type": "code",
   "execution_count": 7,
   "id": "fd83fd25-cdf2-4196-8547-fbccd4beb7da",
   "metadata": {},
   "outputs": [],
   "source": [
    "istream& read(istream &is, Sales_data &item)\n",
    "{\n",
    "    double price = 0;\n",
    "    is >> item.bookNo >> item.units_sold >> price;\n",
    "    item.revenue = price * item.units_sold;\n",
    "    return is;\n",
    "}"
   ]
  },
  {
   "cell_type": "code",
   "execution_count": 8,
   "id": "d7aa490a-bc94-4c83-bcff-c1289f8c63f0",
   "metadata": {},
   "outputs": [],
   "source": [
    "ostream& print(ostream &os, const Sales_data &item)\n",
    "{\n",
    "    os << item.isbn() << \" \" << item.units_sold << \" \" << item.revenue << \" \" << item.avg_price();\n",
    "    return os;\n",
    "}"
   ]
  },
  {
   "cell_type": "code",
   "execution_count": 9,
   "id": "034956a9-e2aa-4aff-84bc-e284eb7f9e73",
   "metadata": {},
   "outputs": [],
   "source": [
    "Sales_data::Sales_data(istream &is)\n",
    "{\n",
    "    read(is, *this);\n",
    "}"
   ]
  },
  {
   "cell_type": "code",
   "execution_count": 10,
   "id": "90f0780a-b595-4106-9829-94a9c5fde0c0",
   "metadata": {},
   "outputs": [
    {
     "name": "stdout",
     "output_type": "stream",
     "text": [
      "triple arg\n",
      "single string\n",
      "empty \n"
     ]
    }
   ],
   "source": [
    "Sales_data s1;"
   ]
  },
  {
   "cell_type": "code",
   "execution_count": 11,
   "id": "f5db4562-243e-4020-bb84-0e59cf437f07",
   "metadata": {},
   "outputs": [
    {
     "name": "stdout",
     "output_type": "stream",
     "text": [
      "triple arg\n",
      "single string\n"
     ]
    }
   ],
   "source": [
    "Sales_data s2(\"test\");"
   ]
  },
  {
   "cell_type": "code",
   "execution_count": 12,
   "id": "2edd4382-7dca-4971-86a1-bcdddfcfc10b",
   "metadata": {},
   "outputs": [
    {
     "name": "stdout",
     "output_type": "stream",
     "text": [
      "triple arg\n"
     ]
    }
   ],
   "source": [
    "Sales_data s3(\"test\", 1, 2);"
   ]
  },
  {
   "cell_type": "markdown",
   "id": "f3aaaba0-f8b9-4773-8e7b-bd5f50c6bba6",
   "metadata": {},
   "source": [
    "### Exercise 7.42: \n",
    "For the class you wrote for exercise 7.40 in § 7.5.1 (p. 291), decide\n",
    "whether any of the constructors might use delegation. If so, write the delegating constructor(s) for your class.\n",
    "If not, look at the list of abstractions and choose one that you think would use a delegating constructor.\n",
    "Write the class definition for that abstraction."
   ]
  },
  {
   "cell_type": "code",
   "execution_count": 1,
   "id": "722cfffc-5f45-4cb5-9415-cbe6865cf389",
   "metadata": {},
   "outputs": [],
   "source": [
    "class Tree\n",
    "{\n",
    "    public:\n",
    "        Tree(double h, double w, int b): height(h), width(w), branches(b) { }\n",
    "        Tree(double h): Tree(h, 0, 0) { }\n",
    "    \n",
    "    private:\n",
    "        int branches = 0;\n",
    "        double height = 0;\n",
    "        double width = 0;\n",
    "}"
   ]
  },
  {
   "cell_type": "markdown",
   "id": "c294510b-51f4-4454-b4b5-ca946d31c623",
   "metadata": {},
   "source": [
    "## EXERCISES SECTION 7.5.3"
   ]
  },
  {
   "cell_type": "markdown",
   "id": "9ba71ae3-4bbd-488c-82c4-60603b165a27",
   "metadata": {},
   "source": [
    "### Exercise 7.43: \n",
    "Assume we have a class named `NoDefault` that has a constructor that\n",
    "takes an `int`, but has no default constructor. Define a class `C` that has a member of\n",
    "type `NoDefault`. Define the default constructor for `C`."
   ]
  },
  {
   "cell_type": "code",
   "execution_count": 1,
   "id": "7a15fc1d-99cc-4d0d-aa9e-a3280670e2b2",
   "metadata": {},
   "outputs": [],
   "source": [
    "class NoDefault {\n",
    "    public:\n",
    "        NoDefault(int i): value(i) { }\n",
    "    \n",
    "    private:\n",
    "        int value;\n",
    "};"
   ]
  },
  {
   "cell_type": "code",
   "execution_count": 2,
   "id": "3650e803-e6a2-440c-876f-b686cd08de14",
   "metadata": {},
   "outputs": [],
   "source": [
    "class C {\n",
    "    public:\n",
    "        C(): no(0) { }\n",
    "        NoDefault no;\n",
    "}"
   ]
  },
  {
   "cell_type": "code",
   "execution_count": 3,
   "id": "5f34d4fc-0f74-437e-8daa-a3151e88486c",
   "metadata": {},
   "outputs": [],
   "source": [
    "C c;"
   ]
  },
  {
   "cell_type": "markdown",
   "id": "43fefef7-448c-46d1-bccd-e0baa17eda8a",
   "metadata": {},
   "source": [
    "### Exercise 7.44: \n",
    "Is the following declaration legal? If not, why not?\n",
    "```\n",
    "vector<NoDefault> vec(10);\n",
    "```"
   ]
  },
  {
   "cell_type": "markdown",
   "id": "cad1831c-2b70-468d-885d-a4bdbfca824c",
   "metadata": {},
   "source": [
    "A:\n",
    "\n",
    "no, as `vector` will try to value initialize `NoDefault`, which has no default initializer and can't be value initialized"
   ]
  },
  {
   "cell_type": "markdown",
   "id": "45c22633-f0e1-45b0-8343-f82ad354b898",
   "metadata": {},
   "source": [
    "### Exercise 7.45: \n",
    "What if we defined the vector in the previous excercise to hold objects of type C?"
   ]
  },
  {
   "cell_type": "markdown",
   "id": "9784a6af-9f56-49bd-a256-e74bdb9cb18a",
   "metadata": {},
   "source": [
    "A:\n",
    "\n",
    "it will work correctly, as `C` has a default initializer"
   ]
  },
  {
   "cell_type": "code",
   "execution_count": 4,
   "id": "860fc9d6-388d-489c-8d66-86d6b5801e8d",
   "metadata": {},
   "outputs": [],
   "source": [
    "std::vector<C> vec(10);"
   ]
  },
  {
   "cell_type": "markdown",
   "id": "58ea26de-db41-44b6-b145-21aee00b723b",
   "metadata": {},
   "source": [
    "### Exercise 7.46: \n",
    "Which, if any, of the following statements are untrue? Why?  \n",
    "(a) A class must provide at least one constructor.  \n",
    "(b) A default constructor is a constructor with an empty parameter list.  \n",
    "(c) If there are no meaningful default values for a class, the class should not provide a default constructor.  \n",
    "(d) If a class does not define a default constructor, the compiler generates one that initializes each data member to the default value of its associated type."
   ]
  },
  {
   "cell_type": "markdown",
   "id": "9718d05a-8b47-490b-bf7b-fa8992dafb65",
   "metadata": {},
   "source": [
    "A:\n",
    "\n",
    "a) false, compiler will provide the default constructor if there's none  \n",
    "b) false, default constructor can have parameters with default values  \n",
    "c) true, as long as another constructor is provided  \n",
    "d) false, compiler generates one only if there's no constructor at all. Also, each data member would be initialized to the value described in data member's declaration if there is one."
   ]
  },
  {
   "cell_type": "markdown",
   "id": "7593d4f0-1297-46c3-aa71-c8ca0d86e18a",
   "metadata": {},
   "source": [
    "## EXERCISES SECTION 7.5.4"
   ]
  },
  {
   "cell_type": "markdown",
   "id": "1e972c1d-21da-4590-ae10-5dcfc01cb133",
   "metadata": {},
   "source": [
    "### Exercise 7.47: \n",
    "Explain whether the `Sales_data` constructor that takes a `string`\n",
    "should be explicit. What are the benefits of making the constructor explicit?\n",
    "What are the drawbacks?"
   ]
  },
  {
   "cell_type": "markdown",
   "id": "6289acbb-a250-4238-a416-4775355c3172",
   "metadata": {},
   "source": [
    "A:\n",
    "\n",
    "Sales_data is fine without having an explicit constructor. \n",
    "\n",
    "Pros of explicit: code that uses Sales_data is forced to be more readable\n",
    "Cons of explicit: code that uses Sales_data "
   ]
  },
  {
   "cell_type": "markdown",
   "id": "1a8a3bfa-d827-422d-b414-793960467195",
   "metadata": {},
   "source": [
    "### Exercise 7.48: \n",
    "Assuming the `Sales_data` constructors are not explicit, what operations happen during the following definitions\n",
    "```\n",
    "string null_isbn(\"9-999-99999-9\");\n",
    "Sales_data item1(null_isbn);\n",
    "Sales_data item2(\"9-999-99999-9\");\n",
    "```\n",
    "What happens if the `Sales_data` constructors are explicit?"
   ]
  },
  {
   "cell_type": "markdown",
   "id": "85ca481a-1d0f-4cfb-9897-009be987e355",
   "metadata": {},
   "source": [
    "A:\n",
    "\n",
    "`Sales_data item1(null_isbn);` constructor receives `string` directly and creates item1  \n",
    "`Sales_data item2(\"9-999-99999-9\");` \"9-999-99999-9\", which is a `const char[]` literal is converted to a `string` and then item2 is created from that string  \n",
    "the same happens whether the constructor is explicit or not"
   ]
  },
  {
   "cell_type": "markdown",
   "id": "ca20c291-79ec-4b1b-91f4-13eb5be7ef26",
   "metadata": {},
   "source": [
    "### Exercise 7.49: \n",
    "For each of the three following declarations of `combine`, explain what\n",
    "happens if we call `i.combine(s)`, where `i` is a `Sales_data` and `s` is a `string`:  \n",
    "(a) `Sales_data &combine(Sales_data);`  \n",
    "(b) `Sales_data &combine(Sales_data&);`  \n",
    "(c) `Sales_data &combine(const Sales_data&) const;`  "
   ]
  },
  {
   "cell_type": "markdown",
   "id": "e3c774e2-8474-4f2a-b056-7306bd98851b",
   "metadata": {},
   "source": [
    "A:\n",
    "\n",
    "after the call:  \n",
    "a) `i` is combined with new `Sales_data` object that has 0 revenue and 0 units_sold  \n",
    "b) error: can't pass a temporary object to a reference  \n",
    "c) error: can't modify `i` as a `const` method"
   ]
  },
  {
   "cell_type": "markdown",
   "id": "fe0eec8a-b62e-42da-a7c2-80b1deae1ea2",
   "metadata": {},
   "source": [
    "### Exercise 7.50: \n",
    "Determine whether any of your `Person` class constructors should be\n",
    "explicit."
   ]
  },
  {
   "cell_type": "markdown",
   "id": "dd33e7df-1ccc-4be7-8fe1-95fc272ae2ac",
   "metadata": {},
   "source": [
    "A:\n",
    "\n",
    "`explicit` is only meaningful when used with constructors that can be called with a single argument. It could be used with `istream` contructor of `Person`, but doesn't have to be"
   ]
  },
  {
   "cell_type": "markdown",
   "id": "3143b731-a286-43ae-bb1e-97768f286003",
   "metadata": {},
   "source": [
    "### Exercise 7.51: \n",
    "Why do you think `vector` defines its single-argument constructor as\n",
    "explicit, but `string` does not?"
   ]
  },
  {
   "cell_type": "markdown",
   "id": "082effe4-3474-4b3e-9abb-6b89bdad9229",
   "metadata": {},
   "source": [
    "A:\n",
    "\n",
    "We use string literal as an input for parameters which expect `string` type regularly, which wouldn't be possible if `string` had an explicit constructor. This is not a case with `vector`, where implicit creation of `vector` from e.g. int literal would decrease readability of the code and could lead to unintended behavior"
   ]
  },
  {
   "cell_type": "markdown",
   "id": "36c067db-c2dc-4c2e-8769-f40bdef4e5ee",
   "metadata": {},
   "source": [
    "## EXERCISES SECTION 7.5.5"
   ]
  },
  {
   "cell_type": "markdown",
   "id": "fd20c93a-33b5-4572-a3fd-24d19e5161a9",
   "metadata": {},
   "source": [
    "### Exercise 7.52: \n",
    "Using our first version of `Sales_data` from § 2.6.1 (p. 72),\n",
    "```\n",
    "struct Sales_data {\n",
    "    std::string bookNo;\n",
    "    unsigned units_sold = 0;\n",
    "    double revenue = 0.0;\n",
    "};\n",
    "```\n",
    "explain the\n",
    "following initialization. Identify and fix any problems.\n",
    "```\n",
    "Sales_data item = {\"978-0590353403\", 25, 15.99};\n",
    "```"
   ]
  },
  {
   "cell_type": "markdown",
   "id": "d9e5cd86-678b-4237-9afd-e6f45e77ab04",
   "metadata": {},
   "source": [
    "A:\n",
    "\n",
    "This initialization sets `bookNo` to `\"978-0590353403\"`, `units_sold` to `25` and `revenue` to `15.99`. It was probably not the intended behavior, where `15.99` looks more like average price than the revenue.\n",
    "\n",
    "Fixed version\n",
    "```\n",
    "Sales_data item = {\"978-0590353403\", 25, 25 * 15.99};\n",
    "```"
   ]
  },
  {
   "cell_type": "markdown",
   "id": "d6cfb356-017c-4436-8ab6-5598ba7ab51b",
   "metadata": {},
   "source": [
    "## EXERCISES SECTION 7.5.6"
   ]
  },
  {
   "cell_type": "markdown",
   "id": "054117e5-f997-4e7f-9142-79fa7fd65ac0",
   "metadata": {},
   "source": [
    "### Exercise 7.53: \n",
    "Define your own version of `Debug`."
   ]
  },
  {
   "cell_type": "code",
   "execution_count": 9,
   "id": "4bfdaf8a-07ef-4612-8980-b233f0f4b7cc",
   "metadata": {},
   "outputs": [],
   "source": [
    "class Debug {\n",
    "    public:\n",
    "        constexpr Debug(bool b = true): hw(b), io(b), other(b) { }\n",
    "        constexpr Debug(bool h, bool i, bool o): hw(h), io(i), other(o) { }\n",
    "    \n",
    "        constexpr bool any() { return hw || io || other; }\n",
    "        void set_io(bool b) { io = b; }\n",
    "        void set_hw(bool b) { hw = b; }\n",
    "        void set_other(bool b) { hw = b; }\n",
    "    \n",
    "    private:\n",
    "        bool hw; // hardware errors other than IO errors\n",
    "        bool io; // IO errors\n",
    "        bool other; // other errors\n",
    "};"
   ]
  },
  {
   "cell_type": "markdown",
   "id": "3cba0176-7645-43e3-89ad-a10a6f159996",
   "metadata": {},
   "source": [
    "### Exercise 7.54: \n",
    "Should the members of `Debug` that begin with `set_` be declared as\n",
    "`constexpr`? If not, why not?"
   ]
  },
  {
   "cell_type": "markdown",
   "id": "248f7487-5ea8-4b51-9439-247f59ff8b1a",
   "metadata": {},
   "source": [
    "A:\n",
    "\n",
    "No, as `constexpr` function's body can have only a return statement, while these members do assignment"
   ]
  },
  {
   "cell_type": "markdown",
   "id": "65b4e45a-bd34-4ade-a315-dc596a48243e",
   "metadata": {},
   "source": [
    "### Exercise 7.55: \n",
    "Is the `Data` class from § 7.5.5 (p. 298)\n",
    "```\n",
    "struct Data {\n",
    "    int ival;\n",
    "    string s;\n",
    "};\n",
    "```\n",
    "a literal class? If not, why not? If\n",
    "so, explain why it is literal."
   ]
  },
  {
   "cell_type": "markdown",
   "id": "9018ad3f-a737-42b2-b472-9c37c17a2fad",
   "metadata": {},
   "source": [
    "A:\n",
    "\n",
    "member `s` is not literal, so class is not literal."
   ]
  },
  {
   "cell_type": "markdown",
   "id": "665aa421-c7fa-4532-b151-24b8b76bebeb",
   "metadata": {},
   "source": [
    "## EXERCISES SECTION 7.6"
   ]
  },
  {
   "cell_type": "markdown",
   "id": "a7653290-ebd5-449d-bb59-3890e6fdeb66",
   "metadata": {},
   "source": [
    "### Exercise 7.56: \n",
    "What is a `static` class member? What are the advantages of `static`\n",
    "members? How do they differ from ordinary members?"
   ]
  },
  {
   "cell_type": "markdown",
   "id": "f04eb60d-9039-4d6c-9b8b-4a14e58b18dd",
   "metadata": {},
   "source": [
    "A:\n",
    "\n",
    "`static` class member is associated with the class and not with a given object of that class. Advantage of `static` member is that it's kept in memory only once for all instances of the class within the program.  It needs to be declared with `static` keyword."
   ]
  },
  {
   "cell_type": "markdown",
   "id": "eb230f06-01da-4fb3-a99a-c0a291cb46e3",
   "metadata": {},
   "source": [
    "### Exercise 7.57: \n",
    "Write your own version of the `Account` class."
   ]
  },
  {
   "cell_type": "code",
   "execution_count": 1,
   "id": "5fa7994c-a995-41d3-a4a7-83d2c1fd3d2b",
   "metadata": {},
   "outputs": [],
   "source": [
    "// can't initialize static inside main, so can't use xeus-cling"
   ]
  },
  {
   "cell_type": "code",
   "execution_count": 2,
   "id": "692dc0e5-db9d-4255-aaa6-4da7c62eb42b",
   "metadata": {},
   "outputs": [
    {
     "name": "stdout",
     "output_type": "stream",
     "text": [
      "#include <string>\n",
      "\n",
      "using std::string;\n",
      "\n",
      "\n",
      "class Account\n",
      "{\n",
      "    public:\n",
      "        void calculate() { amount += amount * interestRate; }\n",
      "        static double rate() { return interestRate; }\n",
      "        static void rate(double);\n",
      "\n",
      "    private:\n",
      "        string owner;\n",
      "        double amount;\n",
      "        static double interestRate;\n",
      "        static double initRate();\n",
      "};\n",
      "\n",
      "double Account::interestRate = initRate();\n",
      "\n",
      "void Account::rate(double newRate)\n",
      "{\n",
      "    interestRate = newRate;\n",
      "}\n",
      "\n",
      "double Account::initRate()\n",
      "{\n",
      "    return 0.0;\n",
      "}\n"
     ]
    }
   ],
   "source": [
    "! cat ex_07_57_Account.h"
   ]
  },
  {
   "cell_type": "code",
   "execution_count": 3,
   "id": "ef018048-7726-4cc3-a89c-5c14b9579a94",
   "metadata": {},
   "outputs": [],
   "source": [
    "#include \"ex_07_57_Account.h\""
   ]
  },
  {
   "cell_type": "code",
   "execution_count": 4,
   "id": "fac40e4f-2ceb-4c48-9b43-61d2e45fffdf",
   "metadata": {},
   "outputs": [
    {
     "data": {
      "text/plain": [
       "0.0000000"
      ]
     },
     "execution_count": 4,
     "metadata": {},
     "output_type": "execute_result"
    }
   ],
   "source": [
    "Account::rate()"
   ]
  },
  {
   "cell_type": "code",
   "execution_count": 5,
   "id": "b20151b9-ebc5-4a1e-9fc3-99fed6763980",
   "metadata": {},
   "outputs": [],
   "source": [
    "Account::rate(1.0);"
   ]
  },
  {
   "cell_type": "code",
   "execution_count": 6,
   "id": "c3a00aaf-efb3-49ee-a462-98a76c0d9b66",
   "metadata": {},
   "outputs": [
    {
     "data": {
      "text/plain": [
       "1.0000000"
      ]
     },
     "execution_count": 6,
     "metadata": {},
     "output_type": "execute_result"
    }
   ],
   "source": [
    "Account::rate()"
   ]
  },
  {
   "cell_type": "markdown",
   "id": "652e7114-e409-41c8-9094-ed9132ea9e7d",
   "metadata": {},
   "source": [
    "### Exercise 7.58: \n",
    "Which, if any, of the following `static` data member declarations and\n",
    "definitions are errors? Explain why.\n",
    "```\n",
    "// example.h\n",
    "class Example {\n",
    "    public:\n",
    "    static double rate = 6.5;\n",
    "    static const int vecSize = 20;\n",
    "    static vector<double> vec(vecSize);\n",
    "};\n",
    "// example.C\n",
    "#include \"example.h\"\n",
    "double Example::rate;\n",
    "vector<double> Example::vec;\n",
    "```"
   ]
  },
  {
   "cell_type": "markdown",
   "id": "055ab4f8-eadc-47aa-b8ee-08e7a2a9af6f",
   "metadata": {},
   "source": [
    "A:\n",
    "\n",
    "```\n",
    "class Example {\n",
    "    public:\n",
    "    \n",
    "    static double rate = 6.5;  // we may not initialize a `static` member inside the class unless it's a constexpr\n",
    "    static const int vecSize = 20;  // same as above\n",
    "    static std::vector<double> vec(vecSize);  // can't use vecSize here as it's not defined yet\n",
    "};\n",
    "```"
   ]
  },
  {
   "cell_type": "markdown",
   "id": "8be0743b-dbb6-45ca-ade7-494b1b89f3c9",
   "metadata": {},
   "source": [
    "```\n",
    "double Example::rate;  // can only be defined without initializer if it's a constexpr\n",
    "vector<double> Example::vec;  // same as above\n",
    "```"
   ]
  }
 ],
 "metadata": {
  "kernelspec": {
   "display_name": "C++17",
   "language": "C++17",
   "name": "xcpp17"
  },
  "language_info": {
   "codemirror_mode": "text/x-c++src",
   "file_extension": ".cpp",
   "mimetype": "text/x-c++src",
   "name": "c++",
   "version": "17"
  }
 },
 "nbformat": 4,
 "nbformat_minor": 5
}
