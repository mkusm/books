{
 "cells": [
  {
   "cell_type": "markdown",
   "id": "d1d7714a-beac-47dc-9341-66250505f363",
   "metadata": {},
   "source": [
    "# Chapter 2 The Basics"
   ]
  },
  {
   "cell_type": "markdown",
   "id": "af0c5c19-77dc-4d4e-95f7-4c3d303bdb04",
   "metadata": {
    "jp-MarkdownHeadingCollapsed": true,
    "tags": []
   },
   "source": [
    "## Exercises Section 2.1.1"
   ]
  },
  {
   "cell_type": "markdown",
   "id": "919d8321-9cc2-4703-8197-9332b3757d5f",
   "metadata": {
    "tags": []
   },
   "source": [
    "### Exercise 2.1:\n",
    "What are the differences between int, long, long long, and short?\n",
    "Between an unsigned and a signed type? Between a float and a double?"
   ]
  },
  {
   "cell_type": "markdown",
   "id": "658a1364-3d6a-4404-9af8-6c32f7239b1f",
   "metadata": {
    "tags": []
   },
   "source": [
    "**int**, **short**, **long** and **long long** are all integers of different sizes\n",
    "\n",
    "* short - minimum 16 bit\n",
    "* int - minimum 16 bit, int type is the processor's native word size\n",
    "* long - minimum 32 bit\n",
    "* long long - minimum 64 bit \n",
    "\n",
    "Use int for integer arithmetic. short is usually too small and, in practice, long\n",
    "often has the same size as int. If your data values are larger than the minimum\n",
    "guaranteed size of an int, then use long long.\n",
    "\n",
    "**signed** and **unsigned** are different ways of representing numbers\n",
    "\n",
    "* signed - the number can be positive or negative (it can have a **sign** + or -) \n",
    "* unsigned - the number can only be positive\n",
    "\n",
    "Use an unsigned type when you know that the values cannot be negative.\n",
    "\n",
    "**float** and **double** are floating point types. Standard specifies a minimum number of significant digits for each type.\n",
    "\n",
    "* float - usually 32 bit\n",
    "* double - usually  64 bit\n",
    "\n",
    "Use double for floating-point computations; float usually does not have\n",
    "enough precision, and the cost of double-precision calculations versus single-precision\n",
    "is negligible. In fact, on some machines, double-precision operations\n",
    "are faster than single. The precision offered by long double usually is unnecessary\n",
    "and often entails considerable run-time cost."
   ]
  },
  {
   "cell_type": "markdown",
   "id": "46780071-a07b-493c-8275-cfa33a4e53c0",
   "metadata": {
    "tags": []
   },
   "source": [
    "### Exercise 2.2: \n",
    "To calculate a mortgage payment, what types would you use for the rate,\n",
    "principal, and payment? Explain why you selected each type."
   ]
  },
  {
   "cell_type": "markdown",
   "id": "36ea1e6e-0391-4d79-ae41-96f069fd7af7",
   "metadata": {},
   "source": [
    "**Rate**\n",
    "\n",
    "It is rare that a mortage rate would be negative, but it can happen. \n",
    "Rates are usually decribed with an accuracy of 1/8th of a percent. So a rate of 4.25% is more accurate than 4.2%. \n",
    "\n",
    "Because of this, the correct variable type for rate would be a **signed float**.\n",
    "\n",
    "**Principal**\n",
    "\n",
    "Principal is the amount of money that you are borrowing. It is a positive number. \n",
    "\n",
    "I would expect the principal to be a whole number, so I would pick **unsigned integer**. If there's a chance for it to be a decimal, then it should be an **unsigned float**.\n",
    "\n",
    "**Payment**\n",
    "\n",
    "Payment is the amount of money that you are paying each month. It is a positive number. Usually, it is a whole number, but it can be a decimal.\n",
    "\n",
    "The correct variable type for payment would be an **unsigned float**."
   ]
  },
  {
   "cell_type": "markdown",
   "id": "2bdf682e-7529-4053-b9b8-ce9d11555fc8",
   "metadata": {
    "jp-MarkdownHeadingCollapsed": true,
    "tags": []
   },
   "source": [
    "## Exercises Section 2.1.2"
   ]
  },
  {
   "cell_type": "markdown",
   "id": "508ae0f4-87c9-4f17-9bf2-c606d881e5cf",
   "metadata": {
    "tags": []
   },
   "source": [
    "### Exercise 2.3:\n",
    "What output will the following code produce?\n",
    "```\n",
    "unsigned u = 10, u2 = 42;\n",
    "std::cout << u2 - u << std::endl;\n",
    "std::cout << u - u2 << std::endl;\n",
    "int i = 10, i2 = 42;\n",
    "std::cout << i2 - i << std::endl;\n",
    "std::cout << i - i2 << std::endl;\n",
    "std::cout << i - u << std::endl;\n",
    "std::cout << u - i << std::endl;\n",
    "```"
   ]
  },
  {
   "cell_type": "markdown",
   "id": "a3943b87-b6c3-4f94-ab04-e38507590912",
   "metadata": {},
   "source": [
    "* u2-u == 32\n",
    "* u-u2 == wrap around unsigned int, depending on size of int, it's gonna be (UINT_MAX - 31)\n",
    "* i2-i == 32\n",
    "* i-i2 == -32\n",
    "* i-u  == 0\n",
    "* u-i  == 0"
   ]
  },
  {
   "cell_type": "markdown",
   "id": "f92b0312-b4e7-484f-b873-66aaef1adb28",
   "metadata": {},
   "source": [
    "### Exercise 2.4:\n",
    "Write a program to check whether your predictions were correct. If not,\n",
    "study this section until you understand what the problem is."
   ]
  },
  {
   "cell_type": "code",
   "execution_count": 2,
   "id": "fd09c301-3c51-45ef-b1ca-eafc4fba91ef",
   "metadata": {},
   "outputs": [
    {
     "name": "stdout",
     "output_type": "stream",
     "text": [
      "32\n",
      "4294967264\n",
      "32\n",
      "-32\n",
      "0\n",
      "0\n"
     ]
    }
   ],
   "source": [
    "#include <iostream>\n",
    "unsigned u = 10, u2 = 42;\n",
    "std::cout << u2 - u << std::endl;\n",
    "std::cout << u - u2 << std::endl;\n",
    "int i = 10, i2 = 42;\n",
    "std::cout << i2 - i << std::endl;\n",
    "std::cout << i - i2 << std::endl;\n",
    "std::cout << i - u << std::endl;\n",
    "std::cout << u - i << std::endl;"
   ]
  },
  {
   "cell_type": "markdown",
   "id": "270cd2b8-ee12-428a-8485-b595621e9a4c",
   "metadata": {
    "jp-MarkdownHeadingCollapsed": true,
    "tags": []
   },
   "source": [
    "## Exercises Section 2.1.3"
   ]
  },
  {
   "cell_type": "markdown",
   "id": "f6e5c34f-71c2-4d9b-8e12-92412a2a88fc",
   "metadata": {},
   "source": [
    "### Exercise 2.5:\n",
    "Determine the type of each of the following literals. Explain the differences among the literals in each of the four examples:\n",
    "\n",
    "(a) ’a’, L’a’, \"a\", L\"a\"  \n",
    "(b) 10, 10u, 10L, 10uL, 012, 0xC  \n",
    "(c) 3.14, 3.14f, 3.14L  \n",
    "(d) 10, 10u, 10., 10e-2"
   ]
  },
  {
   "cell_type": "markdown",
   "id": "4e640ae1-5578-4164-a897-aa2208d6fa46",
   "metadata": {},
   "source": [
    "a)\n",
    "* 'a' == character literal\n",
    "* L'a' == wide character literal\n",
    "* \"a\" == string literal (two element array of 'a' and '\\0')\n",
    "* L\"a\" == wide string literal (two element array of L'a' and L'\\0')\n",
    "\n",
    "b)\n",
    "* 10 == integer literal\n",
    "* 10u == unsigned integer literal\n",
    "* 10L == long integer literal\n",
    "* 10uL == unsigned long integer literal\n",
    "* 012 == octal integer literal\n",
    "* 0xC == hexadecimal integer literal\n",
    "\n",
    "c)\n",
    "* 3.14 == floating point literal\n",
    "* 3.14f == floating point literal, same as above\n",
    "* 3.14L == long double floating point literal\n",
    "\n",
    "d)\n",
    "* 10 == integer literal\n",
    "* 10u == unsigned integer literal\n",
    "* 10. == floating point literal\n",
    "* 10e-2 == floating point literal"
   ]
  },
  {
   "cell_type": "markdown",
   "id": "7ca41c1a-d6f2-437e-a357-4ead2fc1c871",
   "metadata": {},
   "source": [
    "### Exercise 2.6: \n",
    "What, if any, are the differences between the following definitions:\n",
    "```\n",
    "int month = 9, day = 7;\n",
    "int month = 09, day = 07;\n",
    "```"
   ]
  },
  {
   "cell_type": "markdown",
   "id": "bf439c5d-507a-48a1-a8d8-1ced66719258",
   "metadata": {},
   "source": [
    "A: \n",
    "\n",
    "First definition uses decimal numbers, while second uses octal numbers. Octal number 09 does not exist, so the second definition will raise and error."
   ]
  },
  {
   "cell_type": "code",
   "execution_count": 16,
   "id": "ae8418d9-a443-41c2-9d27-9e42168c191d",
   "metadata": {},
   "outputs": [
    {
     "name": "stderr",
     "output_type": "stream",
     "text": [
      "input_line_35:2:3: error: invalid digit '9' in octal constant\n",
      " 09\n",
      "  ^\n"
     ]
    },
    {
     "ename": "Interpreter Error",
     "evalue": "",
     "output_type": "error",
     "traceback": [
      "Interpreter Error: "
     ]
    }
   ],
   "source": [
    "09"
   ]
  },
  {
   "cell_type": "code",
   "execution_count": 14,
   "id": "7baa590f-39b5-4042-bc95-7d9954f1fbe3",
   "metadata": {},
   "outputs": [
    {
     "data": {
      "text/plain": [
       "10"
      ]
     },
     "execution_count": 14,
     "metadata": {},
     "output_type": "execute_result"
    }
   ],
   "source": [
    "10"
   ]
  },
  {
   "cell_type": "code",
   "execution_count": 15,
   "id": "ed841f42-6a8c-4136-a355-9e1f16a20b05",
   "metadata": {},
   "outputs": [
    {
     "data": {
      "text/plain": [
       "8"
      ]
     },
     "execution_count": 15,
     "metadata": {},
     "output_type": "execute_result"
    }
   ],
   "source": [
    "010"
   ]
  },
  {
   "cell_type": "markdown",
   "id": "dcbb19a1-00d3-4ced-b35c-c66a0914d773",
   "metadata": {},
   "source": [
    "### Exercise 2.7: \n",
    "What values do these literals represent? What type does each have?\n",
    "\n",
    "(a) \"Who goes with F\\145rgus?\\012\"  \n",
    "(b) 3.14e1L  \n",
    "(c) 1024f  \n",
    "(d) 3.14L"
   ]
  },
  {
   "cell_type": "code",
   "execution_count": 5,
   "id": "653b0759-aeb4-4c9a-bad1-bcd5ccb6a126",
   "metadata": {},
   "outputs": [
    {
     "data": {
      "text/plain": [
       "\"Who goes with Fergus?\n",
       "\""
      ]
     },
     "execution_count": 5,
     "metadata": {},
     "output_type": "execute_result"
    }
   ],
   "source": [
    "// \\145 is character literal for 'e'\n",
    "// \\012 is character literal for newline\n",
    "// \"Who goes with Fergus?<newline>\n",
    "\"Who goes with F\\145rgus?\\012\""
   ]
  },
  {
   "cell_type": "code",
   "execution_count": 12,
   "id": "eec44f35-de22-4ef3-9d32-4c2be64eed80",
   "metadata": {},
   "outputs": [
    {
     "name": "stdout",
     "output_type": "stream",
     "text": [
      "31.4\n"
     ]
    }
   ],
   "source": [
    "// e1 is scientific notation for \"times 10 to the power of 1\", so 3.14e1 == 3.14 * 10 == 31.4\n",
    "// L at the end in case of a float mean `long double`\n",
    "\n",
    "// I have to use standard output, as jupyter's default output doesn't handle long doubles well\n",
    "#include <iostream>\n",
    "std::cout << 3.14e1L << std::endl;"
   ]
  },
  {
   "cell_type": "code",
   "execution_count": 3,
   "id": "8d632693-cc91-497a-9840-9b94a1fae30e",
   "metadata": {},
   "outputs": [
    {
     "data": {
      "text/plain": [
       "4.2367e-4725"
      ]
     },
     "execution_count": 3,
     "metadata": {},
     "output_type": "execute_result"
    }
   ],
   "source": [
    "3.14e1L"
   ]
  },
  {
   "cell_type": "code",
   "execution_count": 7,
   "id": "ba1551f5-3943-4d7e-9b97-b677a82ae695",
   "metadata": {},
   "outputs": [
    {
     "name": "stderr",
     "output_type": "stream",
     "text": [
      "input_line_22:3:5: error: invalid digit 'f' in decimal constant\n",
      "1024f\n",
      "    ^\n"
     ]
    },
    {
     "ename": "Interpreter Error",
     "evalue": "",
     "output_type": "error",
     "traceback": [
      "Interpreter Error: "
     ]
    }
   ],
   "source": [
    "// 1024f doesn't make sense, as 1024 is integer and f is a float\n",
    "1024f"
   ]
  },
  {
   "cell_type": "code",
   "execution_count": 11,
   "id": "ddff500b-b165-4daa-b7e9-385f10ffb348",
   "metadata": {},
   "outputs": [
    {
     "name": "stdout",
     "output_type": "stream",
     "text": [
      "3.14\n"
     ]
    }
   ],
   "source": [
    "// long double 3.14\n",
    "#include <iostream>\n",
    "std::cout << 3.14L << std::endl;"
   ]
  },
  {
   "cell_type": "markdown",
   "id": "0a49edd8-c8bc-4276-977d-9c548967fd59",
   "metadata": {},
   "source": [
    "### Exercise 2.8: \n",
    "Using escape sequences, write a program to print 2M followed by a newline. Modify the program to print 2, then a tab, then an M, followed by a newline."
   ]
  },
  {
   "cell_type": "code",
   "execution_count": 19,
   "id": "354caf23-5c80-459e-ba02-c666e4ea23fd",
   "metadata": {},
   "outputs": [
    {
     "data": {
      "text/plain": [
       "\"2M\n",
       "\""
      ]
     },
     "execution_count": 19,
     "metadata": {},
     "output_type": "execute_result"
    }
   ],
   "source": [
    "\"\\062\\115\\012\""
   ]
  },
  {
   "cell_type": "code",
   "execution_count": 20,
   "id": "c97dd9fc-976a-4e8d-a335-de8dfaf27ddc",
   "metadata": {},
   "outputs": [
    {
     "name": "stdout",
     "output_type": "stream",
     "text": [
      "2\tM\n",
      "\n"
     ]
    }
   ],
   "source": [
    "#include <iostream>\n",
    "std::cout << '\\062';\n",
    "std::cout << '\\t';\n",
    "std::cout << '\\115';\n",
    "std::cout << '\\012';\n",
    "std::cout << std::endl;"
   ]
  },
  {
   "cell_type": "markdown",
   "id": "d319a207-9b08-4d06-bda9-fdbb13f263b0",
   "metadata": {
    "jp-MarkdownHeadingCollapsed": true,
    "tags": []
   },
   "source": [
    "## Exercises Section 2.2.1"
   ]
  },
  {
   "cell_type": "markdown",
   "id": "d269bc49-a567-4763-96f2-9408e28b1e1f",
   "metadata": {},
   "source": [
    "### Exercise 2.9: \n",
    "Explain the following definitions.\n",
    "For those that are illegal, explain\n",
    "what’s wrong and how to correct it.\n",
    "\n",
    "(a) std::cin >> int input_value;  \n",
    "(b) int i = { 3.14 };  \n",
    "(c) double salary = wage = 9999.99;  \n",
    "(d) int i = 3.14;"
   ]
  },
  {
   "cell_type": "markdown",
   "id": "b95bc6d9-1cf2-452f-b0ce-104d925782f0",
   "metadata": {},
   "source": [
    "a) right-hand parameter of `>>` operator must be a variable, not a declaration. It would work if we split it into two commands `int input_value; std::cin > input_value`  \n",
    "b) list initialization raises and error when infomation would be lost (from float to int), could change to normal initialization as in d)  \n",
    "c) wage is not declared  \n",
    "d) correct, `.14` will be lost"
   ]
  },
  {
   "cell_type": "code",
   "execution_count": 25,
   "id": "a4514acc-3811-4420-bb07-9c21153df799",
   "metadata": {},
   "outputs": [
    {
     "name": "stderr",
     "output_type": "stream",
     "text": [
      "input_line_56:2:18: error: expected '(' for function-style cast or type construction\n",
      " std::cin >> int input;\n",
      "             ~~~ ^\n"
     ]
    },
    {
     "ename": "Interpreter Error",
     "evalue": "",
     "output_type": "error",
     "traceback": [
      "Interpreter Error: "
     ]
    }
   ],
   "source": [
    "// error\n",
    "std::cin >> int input;"
   ]
  },
  {
   "cell_type": "code",
   "execution_count": 26,
   "id": "0391da42-a153-4dff-85bd-7eb50edcfec1",
   "metadata": {},
   "outputs": [
    {
     "name": "stdin",
     "output_type": "stream",
     "text": [
      " test\n"
     ]
    }
   ],
   "source": [
    "// no error\n",
    "int input;\n",
    "std::cin >> input;"
   ]
  },
  {
   "cell_type": "code",
   "execution_count": 27,
   "id": "723d81eb-609a-4209-b347-1212f4d7d59c",
   "metadata": {},
   "outputs": [
    {
     "name": "stderr",
     "output_type": "stream",
     "text": [
      "input_line_58:3:11: error: type 'double' cannot be narrowed to 'int' in initializer list [-Wc++11-narrowing]\n",
      "int i = { 3.14 };\n",
      "          ^~~~\n",
      "input_line_58:3:11: note: insert an explicit cast to silence this issue\n",
      "int i = { 3.14 };\n",
      "          ^~~~\n",
      "          static_cast<int>( )\n",
      "input_line_58:3:11: warning: implicit conversion from 'double' to 'int' changes value from 3.14 to 3 [-Wliteral-conversion]\n",
      "int i = { 3.14 };\n",
      "        ~ ^~~~\n"
     ]
    },
    {
     "ename": "Interpreter Error",
     "evalue": "",
     "output_type": "error",
     "traceback": [
      "Interpreter Error: "
     ]
    }
   ],
   "source": [
    "// error: loss of information\n",
    "int i = { 3.14 };"
   ]
  },
  {
   "cell_type": "code",
   "execution_count": 28,
   "id": "3902f7e8-c67e-4eb3-aa47-de07f8d5aaf5",
   "metadata": {},
   "outputs": [
    {
     "name": "stderr",
     "output_type": "stream",
     "text": [
      "input_line_59:2:18: error: use of undeclared identifier 'wage'\n",
      " double salary = wage = 9999.99\n",
      "                 ^\n"
     ]
    },
    {
     "ename": "Interpreter Error",
     "evalue": "",
     "output_type": "error",
     "traceback": [
      "Interpreter Error: "
     ]
    }
   ],
   "source": [
    "// error: wage isn't declared\n",
    "double salary = wage = 9999.99"
   ]
  },
  {
   "cell_type": "code",
   "execution_count": 29,
   "id": "bb9ad2d1-192f-4603-9b73-8ea5877e1abe",
   "metadata": {},
   "outputs": [],
   "source": [
    "// no error\n",
    "double wage = 9999.99;\n",
    "double salary = wage;"
   ]
  },
  {
   "cell_type": "code",
   "execution_count": 31,
   "id": "bb2f5cbe-7967-41d2-8f9a-9c151ce9db20",
   "metadata": {},
   "outputs": [
    {
     "name": "stderr",
     "output_type": "stream",
     "text": [
      "input_line_62:3:9: warning: implicit conversion from 'double' to 'int' changes value from 3.14 to 3 [-Wliteral-conversion]\n",
      "int i = 3.14\n",
      "    ~   ^~~~\n"
     ]
    }
   ],
   "source": [
    "// only warning about information loss\n",
    "int i = 3.14"
   ]
  },
  {
   "cell_type": "markdown",
   "id": "286b0860-bb37-4f3c-8f66-7cc3cfe8171c",
   "metadata": {},
   "source": [
    "### Exercise 2.10:\n",
    "What are the initial values, if any, of each of the following variables?\n",
    "```\n",
    "std::string global_str;\n",
    "int global_int;\n",
    "int main()\n",
    "{\n",
    "    int local_int;\n",
    "    std::string local_str;\n",
    "}\n",
    "```"
   ]
  },
  {
   "cell_type": "markdown",
   "id": "45ea7e8b-4195-436d-94fc-fdfd5e2a073e",
   "metadata": {},
   "source": [
    "global_str == \"\"  \n",
    "global_int == 0  \n",
    "local_int == undefined  \n",
    "local_str == \"\"  "
   ]
  },
  {
   "cell_type": "code",
   "execution_count": null,
   "id": "b33d6dba-91ee-451e-8d41-a68f3f01b227",
   "metadata": {},
   "outputs": [],
   "source": [
    "global_str"
   ]
  },
  {
   "cell_type": "code",
   "execution_count": 36,
   "id": "f6b71274-3048-42f0-bb5b-021e68ee909d",
   "metadata": {},
   "outputs": [
    {
     "name": "stdout",
     "output_type": "stream",
     "text": [
      "0\n",
      "\n"
     ]
    }
   ],
   "source": [
    "int global_int;\n",
    "std::cout << global_int << std::endl;\n",
    "std::string global_str;\n",
    "std::cout << global_str << std::endl;"
   ]
  },
  {
   "cell_type": "code",
   "execution_count": 37,
   "id": "8bd73c91-d8d2-467d-88cd-d03c749c0a0b",
   "metadata": {},
   "outputs": [
    {
     "name": "stdout",
     "output_type": "stream",
     "text": [
      "32766\n",
      "\n"
     ]
    }
   ],
   "source": [
    "#include <iostream>\n",
    "void f()\n",
    "{\n",
    "    int local_int;\n",
    "    std::cout << local_int << std::endl;\n",
    "    std::string local_str;\n",
    "    std::cout << local_str << std::endl;\n",
    "}\n",
    "f()"
   ]
  },
  {
   "cell_type": "markdown",
   "id": "262d8d23-3c14-4ad0-9b9a-31ee7dc26dcd",
   "metadata": {
    "jp-MarkdownHeadingCollapsed": true,
    "tags": []
   },
   "source": [
    "## Exercises Section 2.2.2"
   ]
  },
  {
   "cell_type": "markdown",
   "id": "5346fcd8-c0c3-4731-afe4-026123dc9d20",
   "metadata": {},
   "source": [
    "### Exercise 2.11:\n",
    "Explain whether each of the following is a declaration or a definition:\n",
    "\n",
    "(a) extern int ix = 1024;  \n",
    "(b) int iy;  \n",
    "(c) extern int iz;"
   ]
  },
  {
   "cell_type": "markdown",
   "id": "49e913af-a812-425d-a15a-75316a10ff1d",
   "metadata": {},
   "source": [
    "a) definition  \n",
    "b) definition  \n",
    "c) declaraion"
   ]
  },
  {
   "cell_type": "markdown",
   "id": "8ad81d2b-bfd2-4da9-85e1-ef89b4b3cc11",
   "metadata": {
    "jp-MarkdownHeadingCollapsed": true,
    "tags": []
   },
   "source": [
    "## Exercises Section 2.2.3"
   ]
  },
  {
   "cell_type": "markdown",
   "id": "0efebcaf-ea2c-4e8b-bee6-fae61d7e5a32",
   "metadata": {},
   "source": [
    "### Exercise 2.12:\n",
    "Which, if any, of the following names are invalid?  \n",
    "(a) int double = 3.14;  \n",
    "(b) int _;  \n",
    "(c) int catch-22;  \n",
    "(d) int 1_or_2 = 1;  \n",
    "(e) double Double = 3.14;"
   ]
  },
  {
   "cell_type": "markdown",
   "id": "fc6ba56b-b450-43e8-8a0c-1df8d7fa50cb",
   "metadata": {},
   "source": [
    "c) because it uses `-` in the name  \n",
    "d) because it starts with a number"
   ]
  },
  {
   "cell_type": "markdown",
   "id": "95182ac3-3103-4e40-bf9d-026ca96190d3",
   "metadata": {
    "jp-MarkdownHeadingCollapsed": true,
    "tags": []
   },
   "source": [
    "## Exercises Section 2.2.4\n"
   ]
  },
  {
   "cell_type": "markdown",
   "id": "8e1a0900-b5b2-4762-8861-322bea8bfb99",
   "metadata": {},
   "source": [
    "### Exercise 2.13:\n",
    "What is the value of j in the following program?\n",
    "```\n",
    "int i = 42;\n",
    "int main()\n",
    "{\n",
    "    int i = 100;\n",
    "    int j = i;\n",
    "}\n",
    "```"
   ]
  },
  {
   "cell_type": "markdown",
   "id": "9a6ff150-9a03-426d-879d-7a1fde7ab1ac",
   "metadata": {},
   "source": [
    "A: \n",
    "\n",
    "j == 100"
   ]
  },
  {
   "cell_type": "code",
   "execution_count": 4,
   "id": "8f70b2fb-a4d6-49db-b4cd-bd70a29c664c",
   "metadata": {},
   "outputs": [],
   "source": [
    "#include <iostream>\n",
    "\n",
    "int i = 42;"
   ]
  },
  {
   "cell_type": "code",
   "execution_count": 7,
   "id": "9df177f2-02d2-4c10-832c-b81f89dfbc48",
   "metadata": {},
   "outputs": [
    {
     "name": "stdout",
     "output_type": "stream",
     "text": [
      "100\n",
      "42\n"
     ]
    }
   ],
   "source": [
    "void f()\n",
    "{\n",
    "    int i = 100;\n",
    "    int j = i;\n",
    "    std::cout << j << std::endl;\n",
    "}\n",
    "\n",
    "f();\n",
    "std::cout << i << std::endl;"
   ]
  },
  {
   "cell_type": "markdown",
   "id": "bb36bd29-876f-4d86-ad45-064303786f78",
   "metadata": {},
   "source": [
    "### Exercise 2.14:\n",
    "Is the following program legal? If so, what values are printed?\n",
    "```\n",
    "int i = 100, sum = 0;\n",
    "for (int i = 0; i != 10; ++i)\n",
    "    sum += i;\n",
    "std::cout << i << \" \" << sum << std::endl;\n",
    "```"
   ]
  },
  {
   "cell_type": "markdown",
   "id": "e30fa733-e050-4649-960e-e947147dfa17",
   "metadata": {},
   "source": [
    "A:\n",
    "\n",
    "Program is legal, `i` that is declared as part of the loop exists only for the purposes of the loop. At the end of the program `i` has value `100` and `sum` has value `45`."
   ]
  },
  {
   "cell_type": "code",
   "execution_count": 49,
   "id": "12f813b8-8ba2-4705-9bf4-a28ceebf5690",
   "metadata": {},
   "outputs": [
    {
     "name": "stdout",
     "output_type": "stream",
     "text": [
      "100 45\n"
     ]
    }
   ],
   "source": [
    "#include <iostream>\n",
    "\n",
    "int i = 100, sum = 0;\n",
    "for (int i = 0; i != 10; ++i)\n",
    "    sum += i;\n",
    "std::cout << i << \" \" << sum << std::endl;"
   ]
  },
  {
   "cell_type": "markdown",
   "id": "1dd88006-7d1c-4a84-a93e-340d0aa655a2",
   "metadata": {
    "jp-MarkdownHeadingCollapsed": true,
    "tags": []
   },
   "source": [
    "## Exercises Section 2.3.1"
   ]
  },
  {
   "cell_type": "markdown",
   "id": "b31d4b2f-5939-4a82-a98e-3dac84cc52e2",
   "metadata": {},
   "source": [
    "### Exercise 2.15:\n",
    "Which of the following definitions, if any, are invalid? Why?  \n",
    "(a) `int ival = 1.01;`  \n",
    "(b) `int &rval1 = 1.01;`  \n",
    "(c) `int &rval2 = ival;`  \n",
    "(d) `int &rval3;`"
   ]
  },
  {
   "cell_type": "markdown",
   "id": "2ecc310b-3f2d-43c5-a509-97d115e8a606",
   "metadata": {},
   "source": [
    "b) initializer must be an object  \n",
    "d) can't declare a reference without initializing it"
   ]
  },
  {
   "cell_type": "markdown",
   "id": "c0a9f53f-f98b-4bfb-83b8-aba963b9002f",
   "metadata": {},
   "source": [
    "### Exercise 2.16:\n",
    "Which, if any, of the following assignments are invalid? If they are\n",
    "valid, explain what they do.\n",
    "\n",
    "`int i = 0, &r1 = i; double d = 0, &r2 = d;`  \n",
    "(a) `r2 = 3.14159;`    \n",
    "(b) `r2 = r1;`  \n",
    "(c) `i = r2;`  \n",
    "(d) `r1 = d;`"
   ]
  },
  {
   "cell_type": "markdown",
   "id": "034b27ae-db72-4a1e-a278-4c1c1bcfce0f",
   "metadata": {},
   "source": [
    "a) is valid and changes object d and r2 are bound to to 3.14\n",
    "b) is valid and changes object d and r2 are bound to to 0\n",
    "c) is valid but `.14` is lost as double changes to float\n",
    "d) is valid and changes object d and r2 are bound to to 0"
   ]
  },
  {
   "cell_type": "markdown",
   "id": "52e61024-d262-459d-b5ff-33761158049d",
   "metadata": {},
   "source": [
    "r2 = 3.14159### Exercise 2.17:\n",
    "What does the following code print?\n",
    "```\n",
    "int i, &ri = i;\n",
    "i = 5; ri = 10;\n",
    "std::cout << i << \" \" << ri << std::endl;\n",
    "```"
   ]
  },
  {
   "cell_type": "markdown",
   "id": "2d9a7d13-1523-4017-bc33-77a2b7b59caf",
   "metadata": {},
   "source": [
    "A:\n",
    "\n",
    "10 10"
   ]
  },
  {
   "cell_type": "code",
   "execution_count": 21,
   "id": "8b6a3f2c-96b1-4329-aed9-1db9c325fe18",
   "metadata": {},
   "outputs": [
    {
     "name": "stdout",
     "output_type": "stream",
     "text": [
      "10 10\n"
     ]
    }
   ],
   "source": [
    "#include <iostream>\n",
    "\n",
    "int i, &ri = i;\n",
    "i = 5; ri = 10;\n",
    "std::cout << i << \" \" << ri << std::endl;"
   ]
  },
  {
   "cell_type": "markdown",
   "id": "bb9278f1-99f2-4b73-bf56-e5cbf683a76b",
   "metadata": {
    "jp-MarkdownHeadingCollapsed": true,
    "tags": []
   },
   "source": [
    "## Exercises Section 2.3.2"
   ]
  },
  {
   "cell_type": "markdown",
   "id": "f0ab6f6b-d600-473d-a150-ed541427d3d1",
   "metadata": {},
   "source": [
    "### Exercise 2.18:\n",
    "Write code to change the value of a pointer. Write code to change the\n",
    "value to which the pointer points."
   ]
  },
  {
   "cell_type": "code",
   "execution_count": 22,
   "id": "7e2a2282-6915-482c-9858-9e0e64add6d0",
   "metadata": {},
   "outputs": [
    {
     "name": "stdout",
     "output_type": "stream",
     "text": [
      "1337\n"
     ]
    }
   ],
   "source": [
    "int i = 2137;\n",
    "int *p = &i;\n",
    "\n",
    "*p = 1337;\n",
    "std::cout << i << std::endl;"
   ]
  },
  {
   "cell_type": "markdown",
   "id": "5b48b13e-8e60-4918-83a9-958061a2617c",
   "metadata": {},
   "source": [
    "### Exercise 2.19:\n",
    "Explain the key differences between pointers and references."
   ]
  },
  {
   "cell_type": "markdown",
   "id": "8cd77d96-9a8d-483b-83fb-844f8fb14f0c",
   "metadata": {},
   "source": [
    "Pointer is an object that holds the address of another object. Reference is not an object and doesn't hold an address, it's just an alternative name for an object that already has a name.\n",
    "\n",
    "We can use a pointer to see the address or a value of an object. Reference can only be used to see the value."
   ]
  },
  {
   "cell_type": "markdown",
   "id": "45f865b6-82da-4920-861b-a47aac459a30",
   "metadata": {},
   "source": [
    "### Exercise 2.20: \n",
    "What does the following program do?\n",
    "```\n",
    "int i = 42;\n",
    "int *p1 = &i;\n",
    "*p1 = *p1 * *p1;\n",
    "```"
   ]
  },
  {
   "cell_type": "markdown",
   "id": "54429986-7bcb-4247-ad99-22ae17c79e68",
   "metadata": {},
   "source": [
    "A: \n",
    "\n",
    "Changes the value of i from 42 to $42^2$"
   ]
  },
  {
   "cell_type": "code",
   "execution_count": 24,
   "id": "e6318a62-25eb-4f16-9565-0c134bb8eee2",
   "metadata": {},
   "outputs": [
    {
     "data": {
      "text/plain": [
       "1764"
      ]
     },
     "execution_count": 24,
     "metadata": {},
     "output_type": "execute_result"
    }
   ],
   "source": [
    "int i = 42;\n",
    "int *p1 = &i;\n",
    "*p1 = *p1 * *p1;\n",
    "i"
   ]
  },
  {
   "cell_type": "markdown",
   "id": "c53bd513-8c8f-45f0-9fdc-419a0509a9b9",
   "metadata": {},
   "source": [
    "### Exercise 2.21:\n",
    "Explain each of the following definitions. Indicate whether any are illegal and, if so, why.\n",
    "\n",
    "`int i = 0;`  \n",
    "(a) `double* dp = &i;`  \n",
    "(b) `int *ip = i;`  \n",
    "(c) `int *p = &i;`"
   ]
  },
  {
   "cell_type": "markdown",
   "id": "a2ab04fd-2dcd-45e4-bca8-78f2f56e7bcf",
   "metadata": {},
   "source": [
    "a) illegal, pointer must be of the same type as an object it points to  \n",
    "b) illegal, pointer must be initialized with an address of an object"
   ]
  },
  {
   "cell_type": "markdown",
   "id": "41a841c7-cf62-49f5-a422-5af4fe05ec12",
   "metadata": {},
   "source": [
    "### Exercise 2.22:\n",
    "Assuming p is a pointer to int, explain the following code:\n",
    "```\n",
    "if (p) // ...  \n",
    "if (*p) // ...\n",
    "```"
   ]
  },
  {
   "cell_type": "markdown",
   "id": "b9f9189b-9c68-47ee-b52e-0e0361e79337",
   "metadata": {},
   "source": [
    "A:\n",
    "\n",
    "`if (p)` will run if `p` is not a `nullptr`  or `0`  \n",
    "`if (*p)` will run if object referenced by `p` is not `0`"
   ]
  },
  {
   "cell_type": "code",
   "execution_count": 1,
   "id": "19a98fb3-c568-4f9e-82a7-e560b861b06d",
   "metadata": {},
   "outputs": [
    {
     "name": "stdout",
     "output_type": "stream",
     "text": [
      "1: 0x7f03e33c3030\n",
      "4: 2137\n"
     ]
    }
   ],
   "source": [
    "#include <iostream>\n",
    "\n",
    "int i = 2137;\n",
    "int *p = &i;\n",
    "\n",
    "if (p) std::cout << \"1: \" << p << std::endl;\n",
    "\n",
    "p = 0;\n",
    "if (p) std::cout << \"2: \" << p << std::endl;\n",
    "\n",
    "p = nullptr;\n",
    "if (p) std::cout << \"3: \" << p << std::endl;\n",
    "\n",
    "p = &i;\n",
    "if (*p) std::cout << \"4: \" << *p << std::endl;\n",
    "\n",
    "i = 0;\n",
    "if (*p) std::cout << \"5: \" << *p << std::endl;"
   ]
  },
  {
   "cell_type": "markdown",
   "id": "f6506caf-7651-41cd-9395-6eb03378eb88",
   "metadata": {},
   "source": [
    "### Exercise 2.23:\n",
    "Given a pointer p, can you determine whether p points to a valid object?\n",
    "If so, how? If not, why not?"
   ]
  },
  {
   "cell_type": "markdown",
   "id": "5c741d02-84ed-4e48-b6eb-c998ed63d632",
   "metadata": {},
   "source": [
    "A:\n",
    "\n",
    "Can't determine if p points to a valid object, as it's and error to try to access the value of an invalid pointer."
   ]
  },
  {
   "cell_type": "markdown",
   "id": "d4411bbd-efb9-431c-b91e-faf4b4f1a50a",
   "metadata": {
    "jp-MarkdownHeadingCollapsed": true,
    "tags": []
   },
   "source": [
    "### Exercise 2.24:\n",
    "Why is the initialization of p legal but that of lp illegal?\n",
    "```\n",
    "int i = 42;\n",
    "void *p = &i;\n",
    "long *lp = &i;\n",
    "```"
   ]
  },
  {
   "cell_type": "markdown",
   "id": "dc0cbe69-2cd4-4013-bf70-92ed90635777",
   "metadata": {},
   "source": [
    "A:\n",
    "\n",
    "void pointer can point at an object of any type, but long pointer can't point at int pointer"
   ]
  },
  {
   "cell_type": "markdown",
   "id": "e15342c4-e57f-4f01-9b94-8dbb05299ce7",
   "metadata": {
    "jp-MarkdownHeadingCollapsed": true,
    "tags": []
   },
   "source": [
    "## Exercises Section 2.3.2"
   ]
  },
  {
   "cell_type": "markdown",
   "id": "c4a70666-b34d-499d-a09e-63e6919ba76f",
   "metadata": {},
   "source": [
    "### Exercise 2.25:\n",
    "Determine the types and values of each of the following variables.  \n",
    "(a) `int* ip, i, &r = i;`  \n",
    "(b) `int i, *ip = 0;`  \n",
    "(c) `int* ip, ip2;`"
   ]
  },
  {
   "cell_type": "markdown",
   "id": "25a48d26-e533-44a8-a7f0-9e4378d8ce14",
   "metadata": {},
   "source": [
    "A:\n",
    "\n",
    "a)  \n",
    "`ip` == pointer to int, uninitialized  \n",
    "`i` == int, uninitialized  \n",
    "`r` == reference object bound to `i`\n",
    "\n",
    "b)  \n",
    "`i` == int, uninitialized  \n",
    "`ip` == pointer to 0\n",
    "\n",
    "c)  \n",
    "`ip` == pointer to int, uninitialized  \n",
    "`ip2` == int, uninitialized\n"
   ]
  },
  {
   "cell_type": "markdown",
   "id": "9fd93d95-1ff6-4625-95e8-d3ebfb7a359f",
   "metadata": {
    "jp-MarkdownHeadingCollapsed": true,
    "tags": []
   },
   "source": [
    "## Exercises Section 2.4.1"
   ]
  },
  {
   "cell_type": "markdown",
   "id": "7ea4b064-df8a-4713-84b5-42fabc784946",
   "metadata": {},
   "source": [
    "### Exercise 2.26:\n",
    "Which of the following are legal? For those that are illegal, explain why.  \n",
    "(a) `const int buf;`  \n",
    "(b) `int cnt = 0;`  \n",
    "(c) `const int sz = cnt;`  \n",
    "(d) `++cnt; ++sz;`"
   ]
  },
  {
   "cell_type": "markdown",
   "id": "71c1f12c-4e38-422d-8c96-02179a3b9e94",
   "metadata": {},
   "source": [
    "A:\n",
    "\n",
    "a) can't declare `const` without initialization  \n",
    "d) can't change value of `const` `sz`"
   ]
  },
  {
   "cell_type": "markdown",
   "id": "b37671aa-8598-4fb0-88d7-472fbc3ae0f0",
   "metadata": {
    "jp-MarkdownHeadingCollapsed": true,
    "tags": []
   },
   "source": [
    "## Exercises Section 2.4.2"
   ]
  },
  {
   "cell_type": "markdown",
   "id": "42508560-34d7-4437-805f-d1ab3f844711",
   "metadata": {},
   "source": [
    "### Exercise 2.27: \n",
    "Which of the following initializations are legal? Explain why.  \n",
    "(a) `int i = -1, &r = 0;`  \n",
    "(b) `int *const p2 = &i2;`  \n",
    "(c) `const int i = -1, &r = 0;`  \n",
    "(d) `const int *const p3 = &i2;`  \n",
    "(e) `const int *p1 = &i2;`  \n",
    "(f) `const int &const r2;`  \n",
    "(g) `const int i2 = i, &r = i;`"
   ]
  },
  {
   "cell_type": "markdown",
   "id": "0790c504-b773-4133-9f9e-4aeff41d3714",
   "metadata": {},
   "source": [
    "A:\n",
    "\n",
    "a) illegal, non-const reference needs to reference an object  \n",
    "b) legal, it's a constant pointer that points to i2 and can't point to anything else  \n",
    "c) legal, r is a constant reference with value 0  \n",
    "d) legal, p3 will always point to i2 and i2's value can't be changed using p3  \n",
    "e) legal, p1 will point to i2 as if it was const int  \n",
    "f) illegal, using const after reference `&` symbol doesn't make sense  \n",
    "g) legal, i2 and r are both const with value of i"
   ]
  },
  {
   "cell_type": "markdown",
   "id": "07f05566-0381-4efe-82d2-ea78558f1529",
   "metadata": {},
   "source": [
    "### Exercise 2.28:\n",
    "Explain the following definitions. Identify any that are illegal.  \n",
    "(a) `int i, *const cp;`  \n",
    "(b) `int *p1, *const p2;`  \n",
    "(c) `const int ic, &r = ic;`  \n",
    "(d) `const int *const p3;`  \n",
    "(e) `const int *p;`"
   ]
  },
  {
   "cell_type": "markdown",
   "id": "9b713efa-11e3-4f85-bb38-ac397d8e6b35",
   "metadata": {},
   "source": [
    "A:\n",
    "\n",
    "a) illegal, constant pointer `cp` must be initialized  \n",
    "b) illegal, constant pointer `p2` must be initialized  \n",
    "c) illegal, constant int `ic` must be initialized  \n",
    "d) illegal, constant pointer `p3` must be initialized  \n",
    "e) legal, p points to a const int"
   ]
  },
  {
   "cell_type": "markdown",
   "id": "fa864dfc-bcfe-4a39-83df-c72f0455497b",
   "metadata": {},
   "source": [
    "### Exercise 2.29:\n",
    "Using the variables in the previous exercise, which of the following assignments are legal? Explain why.  \n",
    "(a) `i = ic;`  \n",
    "(b) `p1 = p3;`  \n",
    "(c) `p1 = &ic;`  \n",
    "(d) `p3 = &ic;`  \n",
    "(e) `p2 = p1;`  \n",
    "(f) `ic = *p3;`"
   ]
  },
  {
   "cell_type": "markdown",
   "id": "cba75f08-c707-4593-a274-6de36d1eb996",
   "metadata": {},
   "source": [
    "A:\n",
    "\n",
    "None are legal, as variables wouldn't be defined"
   ]
  },
  {
   "cell_type": "markdown",
   "id": "3a96ec13-c1c9-482c-97ca-8326a3b07990",
   "metadata": {
    "jp-MarkdownHeadingCollapsed": true,
    "tags": []
   },
   "source": [
    "## Exercises Section 2.4.3"
   ]
  },
  {
   "cell_type": "markdown",
   "id": "33abfa99-b200-445e-9a9f-b979a0980b58",
   "metadata": {},
   "source": [
    "### Exercise 2.30:\n",
    "For each of the following declarations indicate whether the object being declared has top-level or low-level const.\n",
    "```\n",
    "const int v2 = 0;\n",
    "int v1 = v2;\n",
    "int *p1 = &v1, &r1 = v1;\n",
    "const int *p2 = &v2, *const p3 = &i, &r2 = v2;\n",
    "```"
   ]
  },
  {
   "cell_type": "markdown",
   "id": "2f13e7de-c7b6-4046-b1bf-2fc56c0c015a",
   "metadata": {},
   "source": [
    "v2 == top-level\n",
    "v1 == no const\n",
    "p1 == no const\n",
    "r1 == no const\n",
    "p2 == low-level\n",
    "p3 == top-level and low-level\n",
    "r2 == low-level"
   ]
  },
  {
   "cell_type": "markdown",
   "id": "7dbe5ab1-3e34-4570-9c81-8fc5bf4a8958",
   "metadata": {},
   "source": [
    "### Exercise 2.31: \n",
    "Given the declarations in the previous exercise determine whether the\n",
    "following assignments are legal. Explain how the top-level or low-level const applies\n",
    "in each case.\n",
    "```\n",
    "r1 = v2;\n",
    "p1 = p2;\n",
    "p2 = p1;\n",
    "p1 = p3;\n",
    "p2 = p3;\n",
    "```"
   ]
  },
  {
   "cell_type": "markdown",
   "id": "9da68459-4890-4d3b-b2b3-bb089deab7db",
   "metadata": {
    "tags": []
   },
   "source": [
    "A:\n",
    "\n",
    "`r1 = v2;` is legal, v2's top-level const doesn't matter  \n",
    "`p1 = p2;` is illegal, as p2's low-level const can't be changed. If p2 had high-level const instead of low-level, it would be legal  \n",
    "`p2 = p1;` is legal, p2 will treat v1 as const int  \n",
    "`p1 = p3;` is illegal, as p2's low-level const can't be changed.  \n",
    "`p2 = p3;` is legal, low-level const matches in both pointers"
   ]
  },
  {
   "cell_type": "code",
   "execution_count": 1,
   "id": "b53f91db-e9f0-456f-9efd-db073f734397",
   "metadata": {},
   "outputs": [],
   "source": [
    "int i = 1;\n",
    "const int v2 = 2;\n",
    "int v1 = v2;\n",
    "int *p1 = &v1, &r1 = v1;\n",
    "const int *p2 = &v2, *const p3 = &i, &r2 = v2;"
   ]
  },
  {
   "cell_type": "code",
   "execution_count": 2,
   "id": "da79c8e3-4f31-438c-a5df-19d3af34be2e",
   "metadata": {},
   "outputs": [
    {
     "data": {
      "text/plain": [
       "2"
      ]
     },
     "execution_count": 2,
     "metadata": {},
     "output_type": "execute_result"
    }
   ],
   "source": [
    "r1 = v2;\n",
    "r1"
   ]
  },
  {
   "cell_type": "code",
   "execution_count": 7,
   "id": "6287938f-8f21-4517-96a5-5959f1f45ad6",
   "metadata": {},
   "outputs": [
    {
     "name": "stderr",
     "output_type": "stream",
     "text": [
      "input_line_18:2:7: error: assigning to 'int *' from incompatible type 'const int *'\n",
      " p1 = p2;\n",
      "      ^~\n"
     ]
    },
    {
     "ename": "Interpreter Error",
     "evalue": "",
     "output_type": "error",
     "traceback": [
      "Interpreter Error: "
     ]
    }
   ],
   "source": [
    "p1 = p2;"
   ]
  },
  {
   "cell_type": "code",
   "execution_count": 4,
   "id": "a2ccc8aa-dc64-4819-b5ff-cfc891bfefa7",
   "metadata": {},
   "outputs": [
    {
     "data": {
      "text/plain": [
       "2"
      ]
     },
     "execution_count": 4,
     "metadata": {},
     "output_type": "execute_result"
    }
   ],
   "source": [
    "p2 = p1;\n",
    "*p2"
   ]
  },
  {
   "cell_type": "code",
   "execution_count": 8,
   "id": "3399ac59-584f-40cc-bccb-ff1b3dd87be0",
   "metadata": {},
   "outputs": [
    {
     "name": "stderr",
     "output_type": "stream",
     "text": [
      "input_line_19:2:7: error: assigning to 'int *' from incompatible type 'const int *const'\n",
      " p1 = p3;\n",
      "      ^~\n"
     ]
    },
    {
     "ename": "Interpreter Error",
     "evalue": "",
     "output_type": "error",
     "traceback": [
      "Interpreter Error: "
     ]
    }
   ],
   "source": [
    "p1 = p3;"
   ]
  },
  {
   "cell_type": "code",
   "execution_count": 6,
   "id": "d36bc542-11c6-4dc6-b647-1fa6b99f5145",
   "metadata": {},
   "outputs": [
    {
     "data": {
      "text/plain": [
       "1"
      ]
     },
     "execution_count": 6,
     "metadata": {},
     "output_type": "execute_result"
    }
   ],
   "source": [
    "p2 = p3;\n",
    "*p2"
   ]
  },
  {
   "cell_type": "markdown",
   "id": "f1dedf7e-1120-4b64-9c66-e9ee21d2427c",
   "metadata": {
    "jp-MarkdownHeadingCollapsed": true,
    "tags": []
   },
   "source": [
    "## Exercises Section 2.4.4"
   ]
  },
  {
   "cell_type": "markdown",
   "id": "fc40014d-cbae-4a5f-8d18-ac656c55f77e",
   "metadata": {},
   "source": [
    "### Exercise 2.32: \n",
    "Is the following code legal or not? If not, how might you make it legal?\n",
    "```\n",
    "int null = 0, *p = null;\n",
    "```"
   ]
  },
  {
   "cell_type": "markdown",
   "id": "90a1428a-4869-4522-be76-b0f1c118da4a",
   "metadata": {},
   "source": [
    "A:\n",
    "\n",
    "It's not legal, as pointer's value must be a memory address. We could do one of the below, depending on our goal"
   ]
  },
  {
   "cell_type": "code",
   "execution_count": 14,
   "id": "ff5a54ec-f8dd-49b5-805d-d29ce9012f6f",
   "metadata": {},
   "outputs": [],
   "source": [
    "int null = 0, *p = &null;  // p points to object named null"
   ]
  },
  {
   "cell_type": "code",
   "execution_count": 15,
   "id": "f2312702-7a46-4dc3-975f-535e9417f7cd",
   "metadata": {},
   "outputs": [],
   "source": [
    "int null = 0, *p = 0;  // p is a null pointer"
   ]
  },
  {
   "cell_type": "code",
   "execution_count": 16,
   "id": "b35c4d42-dffc-4289-a877-dd377d0842bf",
   "metadata": {},
   "outputs": [],
   "source": [
    "int null = 0, *p = nullptr;  // p is a null pointer"
   ]
  },
  {
   "cell_type": "markdown",
   "id": "cd501a7b-126f-4fdd-b2d4-6af11a2ae385",
   "metadata": {
    "jp-MarkdownHeadingCollapsed": true,
    "tags": []
   },
   "source": [
    "## Exercises Section 2.5.2"
   ]
  },
  {
   "cell_type": "markdown",
   "id": "7e4a42e6-db5d-44ab-889c-eb1edd2331bd",
   "metadata": {},
   "source": [
    "### Exercise 2.33:\n",
    "Using the variable definitions from this section,\n",
    "\n",
    "```\n",
    "int i = 0, &r = i;\n",
    "auto a = r; // a is an int (r is an alias for i, which has type int)\n",
    "const int ci = i, &cr = ci;\n",
    "auto b = ci; // b is an int (top-level const in ci is dropped)\n",
    "auto c = cr; // c is an int (cr is an alias for ci whose const is top-level)\n",
    "auto d = &i; // d is an int* (& of an int object is int*)\n",
    "auto e = &ci; // e is const int* (& of a const object is low-level const)\n",
    "const auto f = ci; // deduced type of ci is int; f has type const int\n",
    "auto &g = ci; // g is a const int& that is bound to ci\n",
    "```\n",
    "\n",
    "determine what happens in each of these assignments:\n",
    "```\n",
    "a = 42;\n",
    "b = 42;\n",
    "c = 42;\n",
    "d = 42;\n",
    "e = 42;\n",
    "g = 42;\n",
    "```"
   ]
  },
  {
   "cell_type": "markdown",
   "id": "a0f54f47-bd66-468d-963b-9920e7b51b3d",
   "metadata": {},
   "source": [
    "A:\n",
    "\n",
    "`a`, `b` and `c` are ints and get value 42  \n",
    "`d` fails as it's a pointer  \n",
    "`e` fails as it's a pointer  \n",
    "`g` fails as it's a const\n"
   ]
  },
  {
   "cell_type": "markdown",
   "id": "cc130b76-1514-466b-9e26-1e4370eed796",
   "metadata": {},
   "source": [
    "### Exercise 2.34: \n",
    "Write a program containing the variables and assignments from the\n",
    "previous exercise.\n",
    "Print the variables before and after the assignments to check\n",
    "whether your predictions in the previous exercise were correct. If not, study the examples until you can convince yourself you know what led you to the wrong conclusion."
   ]
  },
  {
   "cell_type": "code",
   "execution_count": 1,
   "id": "5a2811eb-845d-4851-ac84-61489dbc3ed9",
   "metadata": {},
   "outputs": [],
   "source": [
    "int i = 0, &r = i;\n",
    "auto a = r; // a is an int (r is an alias for i, which has type int)\n",
    "const int ci = i, &cr = ci;\n",
    "auto b = ci; // b is an int (top-level const in ci is dropped)\n",
    "auto c = cr; // c is an int (cr is an alias for ci whose const is top-level)\n",
    "auto d = &i; // d is an int* (& of an int object is int*)\n",
    "auto e = &ci; // e is const int* (& of a const object is low-level const)\n",
    "const auto f = ci; // deduced type of ci is int; f has type const int\n",
    "auto &g = ci; // g is a const int& that is bound to ci"
   ]
  },
  {
   "cell_type": "code",
   "execution_count": 2,
   "id": "a3341c30-0f04-4167-97ad-7c3781563afc",
   "metadata": {},
   "outputs": [],
   "source": [
    "a = 42;\n",
    "b = 42;\n",
    "c = 42;"
   ]
  },
  {
   "cell_type": "code",
   "execution_count": 3,
   "id": "abadefcd-ab88-4dd3-ba2a-8e83a057a2f4",
   "metadata": {},
   "outputs": [
    {
     "name": "stderr",
     "output_type": "stream",
     "text": [
      "input_line_9:2:6: error: assigning to 'int *' from incompatible type 'int'\n",
      " d = 42;\n",
      "     ^~\n"
     ]
    },
    {
     "ename": "Interpreter Error",
     "evalue": "",
     "output_type": "error",
     "traceback": [
      "Interpreter Error: "
     ]
    }
   ],
   "source": [
    "d = 42;"
   ]
  },
  {
   "cell_type": "code",
   "execution_count": 4,
   "id": "8e073cea-bbfd-4848-ae9e-844b25fd018f",
   "metadata": {},
   "outputs": [
    {
     "name": "stderr",
     "output_type": "stream",
     "text": [
      "input_line_10:2:6: error: assigning to 'const int *' from incompatible type 'int'\n",
      " e = 42;\n",
      "     ^~\n"
     ]
    },
    {
     "ename": "Interpreter Error",
     "evalue": "",
     "output_type": "error",
     "traceback": [
      "Interpreter Error: "
     ]
    }
   ],
   "source": [
    "e = 42;"
   ]
  },
  {
   "cell_type": "code",
   "execution_count": 5,
   "id": "044fa07e-2706-47d3-ad51-1a92f7d512dd",
   "metadata": {},
   "outputs": [
    {
     "name": "stderr",
     "output_type": "stream",
     "text": [
      "input_line_11:2:4: error: cannot assign to variable 'g' with const-qualified type 'const int &'\n",
      " g = 42;\n",
      " ~ ^\n",
      "input_line_7:10:7: note: variable 'g' declared const here\n",
      "auto &g = ci; // g is a const int& that is bound to ci\n",
      "~~~~~~^~~~~~\n"
     ]
    },
    {
     "ename": "Interpreter Error",
     "evalue": "",
     "output_type": "error",
     "traceback": [
      "Interpreter Error: "
     ]
    }
   ],
   "source": [
    "g = 42;"
   ]
  },
  {
   "cell_type": "markdown",
   "id": "956dc6cf-f781-4430-9418-15085a572c5a",
   "metadata": {},
   "source": [
    "### Exercise 2.35:\n",
    "Determine the types deduced in each of the following definitions. Once\n",
    "you’ve figured out the types, write a program to see whether you were correct.\n",
    "```\n",
    "const int i = 42;\n",
    "auto j = i; \n",
    "const auto &k = i; \n",
    "auto *p = &i;\n",
    "const auto j2 = i, &k2 = i;\n",
    "```"
   ]
  },
  {
   "cell_type": "markdown",
   "id": "5d0e0b12-3c96-468c-ab52-e8d306fb5ed3",
   "metadata": {},
   "source": [
    "A:\n",
    "\n",
    "`i` const int  \n",
    "`j` int  \n",
    "`k` const int&  \n",
    "`p` const int*  \n",
    "`j2` const int  \n",
    "`k2` const int&"
   ]
  },
  {
   "cell_type": "code",
   "execution_count": 6,
   "id": "54b85714-b728-4c21-a559-27e7c56b633d",
   "metadata": {},
   "outputs": [],
   "source": [
    "const int i = 42;\n",
    "auto j = i; \n",
    "const auto &k = i; \n",
    "auto *p = &i;\n",
    "const auto j2 = i, &k2 = i;"
   ]
  },
  {
   "cell_type": "code",
   "execution_count": 14,
   "id": "12872056-cebb-4aad-a5ba-f1ce986e3c0a",
   "metadata": {},
   "outputs": [
    {
     "name": "stderr",
     "output_type": "stream",
     "text": [
      "input_line_28:2:4: error: cannot assign to variable 'i' with const-qualified type 'const int'\n",
      " i = 1;\n",
      " ~ ^\n",
      "input_line_12:2:12: note: variable 'i' declared const here\n",
      " const int i = 42;\n",
      " ~~~~~~~~~~^~~~~~\n"
     ]
    },
    {
     "ename": "Interpreter Error",
     "evalue": "",
     "output_type": "error",
     "traceback": [
      "Interpreter Error: "
     ]
    }
   ],
   "source": [
    "i = 1;"
   ]
  },
  {
   "cell_type": "code",
   "execution_count": 15,
   "id": "af4f72c5-7044-4581-86f6-2c3580b2139a",
   "metadata": {},
   "outputs": [],
   "source": [
    "j = 1;"
   ]
  },
  {
   "cell_type": "code",
   "execution_count": 16,
   "id": "4c75a0e4-841c-4803-af2e-c52d345543ff",
   "metadata": {},
   "outputs": [
    {
     "name": "stderr",
     "output_type": "stream",
     "text": [
      "input_line_30:2:4: error: cannot assign to variable 'k' with const-qualified type 'const int &'\n",
      " k = 1;\n",
      " ~ ^\n",
      "input_line_12:4:13: note: variable 'k' declared const here\n",
      "const auto &k = i; \n",
      "~~~~~~~~~~~~^~~~~\n"
     ]
    },
    {
     "ename": "Interpreter Error",
     "evalue": "",
     "output_type": "error",
     "traceback": [
      "Interpreter Error: "
     ]
    }
   ],
   "source": [
    "k = 1;"
   ]
  },
  {
   "cell_type": "code",
   "execution_count": 17,
   "id": "06a8523f-7f93-4ec0-a865-36c81c61c476",
   "metadata": {},
   "outputs": [
    {
     "name": "stderr",
     "output_type": "stream",
     "text": [
      "input_line_31:2:6: error: assigning to 'const int *' from incompatible type 'int'\n",
      " p = 1;\n",
      "     ^\n"
     ]
    },
    {
     "ename": "Interpreter Error",
     "evalue": "",
     "output_type": "error",
     "traceback": [
      "Interpreter Error: "
     ]
    }
   ],
   "source": [
    "p = 1;"
   ]
  },
  {
   "cell_type": "code",
   "execution_count": 18,
   "id": "8e845e66-23b5-4852-9abb-ee67a926244c",
   "metadata": {},
   "outputs": [
    {
     "name": "stderr",
     "output_type": "stream",
     "text": [
      "input_line_32:2:5: error: cannot assign to variable 'j2' with const-qualified type 'const int'\n",
      " j2 = 1;\n",
      " ~~ ^\n",
      "input_line_12:6:12: note: variable 'j2' declared const here\n",
      "const auto j2 = i, &k2 = i;\n",
      "~~~~~~~~~~~^~~~~~\n"
     ]
    },
    {
     "ename": "Interpreter Error",
     "evalue": "",
     "output_type": "error",
     "traceback": [
      "Interpreter Error: "
     ]
    }
   ],
   "source": [
    "j2 = 1;"
   ]
  },
  {
   "cell_type": "code",
   "execution_count": 19,
   "id": "b1958365-7c98-454f-9c0f-bfac0469ed6d",
   "metadata": {},
   "outputs": [
    {
     "name": "stderr",
     "output_type": "stream",
     "text": [
      "input_line_33:2:5: error: cannot assign to variable 'k2' with const-qualified type 'const int &'\n",
      " k2 = 1;\n",
      " ~~ ^\n",
      "input_line_12:6:21: note: variable 'k2' declared const here\n",
      "const auto j2 = i, &k2 = i;\n",
      "~~~~~~~~~~~~~~~~~~~~^~~~~~\n"
     ]
    },
    {
     "ename": "Interpreter Error",
     "evalue": "",
     "output_type": "error",
     "traceback": [
      "Interpreter Error: "
     ]
    }
   ],
   "source": [
    "k2 = 1;"
   ]
  },
  {
   "cell_type": "markdown",
   "id": "441023ab-d5c1-4690-98e9-a07adc25d5b7",
   "metadata": {
    "jp-MarkdownHeadingCollapsed": true,
    "tags": []
   },
   "source": [
    "## Exercises Section 2.5.3"
   ]
  },
  {
   "cell_type": "markdown",
   "id": "e476888f-9447-44d7-9ff0-8c8d8457681e",
   "metadata": {},
   "source": [
    "### Exercise 2.36: \n",
    "In the following code, determine the type of each variable and the value\n",
    "each variable has when the code finishes:\n",
    "```\n",
    "int a = 3, b = 4;\n",
    "decltype(a) c = a;\n",
    "decltype((b)) d = a;\n",
    "++c;\n",
    "++d;\n",
    "```"
   ]
  },
  {
   "cell_type": "markdown",
   "id": "fa26e156-34b0-48f2-993e-0cbe7637e849",
   "metadata": {},
   "source": [
    "A:\n",
    "\n",
    "`a` int, 4 when finished  \n",
    "`b` int, 4 when finished  \n",
    "`c` int, 4 when finished  \n",
    "`d` int&, 4 when finished"
   ]
  },
  {
   "cell_type": "code",
   "execution_count": 1,
   "id": "54814a03-abe9-4d61-b58f-f01e5debb514",
   "metadata": {},
   "outputs": [],
   "source": [
    "int a = 3, b = 4;\n",
    "decltype(a) c = a;\n",
    "decltype((b)) d = a;\n",
    "++c;\n",
    "++d;"
   ]
  },
  {
   "cell_type": "code",
   "execution_count": 2,
   "id": "752005e8-d5af-43ec-b10d-10fd3e3d59ad",
   "metadata": {},
   "outputs": [
    {
     "name": "stdout",
     "output_type": "stream",
     "text": [
      "4 4 4 4\n"
     ]
    }
   ],
   "source": [
    "#include <iostream>\n",
    "\n",
    "std::cout << a << ' ' << b << ' ' << c << ' ' << d << std::endl;"
   ]
  },
  {
   "cell_type": "markdown",
   "id": "94083cd2-76e6-409b-944b-7336d4cf0bce",
   "metadata": {},
   "source": [
    "### Exercise 2.37: \n",
    "Assignment is an example of an expression that yields a reference type.\n",
    "The type is a reference to the type of the left-hand operand. That is, if i is an int, then\n",
    "the type of the expression i = x is int&. Using that knowledge, determine the type\n",
    "and value of each variable in this code:\n",
    "```\n",
    "int a = 3, b = 4;\n",
    "decltype(a) c = a;\n",
    "decltype(a = b) d = a;\n",
    "```"
   ]
  },
  {
   "cell_type": "markdown",
   "id": "12b44c14-5fcf-4e32-980f-e58006d57e42",
   "metadata": {},
   "source": [
    "A:\n",
    "\n",
    "`a` int  \n",
    "`b` int  \n",
    "`c` int  \n",
    "`d` int&  "
   ]
  },
  {
   "cell_type": "markdown",
   "id": "f5ec5da9-a63b-4a70-bde1-cc3e1155bb63",
   "metadata": {},
   "source": [
    "### Exercise 2.38: \n",
    "Describe the differences in type deduction between decltype and\n",
    "auto. Give an example of an expression where auto and decltype will deduce\n",
    "the same type and an example where they will deduce differing types."
   ]
  },
  {
   "cell_type": "markdown",
   "id": "f25fb19f-be0e-40a0-9d90-b9d083a053f5",
   "metadata": {},
   "source": [
    "A:\n",
    "\n",
    "`decltype` can assign a type to a variable that is different than the right-hand operand of the assignment. It can also declare a variable without assignment.  \n",
    "`auto` uses the type of the right-hand operand of the assignment, so the assignment is necessary"
   ]
  },
  {
   "cell_type": "code",
   "execution_count": 3,
   "id": "dc6a1611-8c99-4209-949f-71dbdb0be632",
   "metadata": {},
   "outputs": [],
   "source": [
    "// example of `decltype` and `auto` giving the same type\n",
    "int i = 1;\n",
    "decltype(i) j = i;\n",
    "auto k = i;"
   ]
  },
  {
   "cell_type": "code",
   "execution_count": 4,
   "id": "b561fdd3-4c30-4542-b877-f374f583547a",
   "metadata": {},
   "outputs": [
    {
     "data": {
      "text/plain": [
       "1"
      ]
     },
     "execution_count": 4,
     "metadata": {},
     "output_type": "execute_result"
    }
   ],
   "source": [
    "j"
   ]
  },
  {
   "cell_type": "code",
   "execution_count": 5,
   "id": "de29ac7f-98cf-44f7-92ea-482e792141a8",
   "metadata": {},
   "outputs": [
    {
     "data": {
      "text/plain": [
       "1"
      ]
     },
     "execution_count": 5,
     "metadata": {},
     "output_type": "execute_result"
    }
   ],
   "source": [
    "k"
   ]
  },
  {
   "cell_type": "code",
   "execution_count": 6,
   "id": "e19cca08-7f4f-4802-8a06-8d1a475da8f7",
   "metadata": {},
   "outputs": [],
   "source": [
    "// example of `decltype` and `auto` giving different types\n",
    "int i = 1;\n",
    "float f = 1.1;\n",
    "decltype(i) j = f;\n",
    "auto k = f;"
   ]
  },
  {
   "cell_type": "code",
   "execution_count": 7,
   "id": "b4eb88e3-d4b5-4e2c-bb02-ee4bfe8e3ba7",
   "metadata": {},
   "outputs": [
    {
     "data": {
      "text/plain": [
       "1"
      ]
     },
     "execution_count": 7,
     "metadata": {},
     "output_type": "execute_result"
    }
   ],
   "source": [
    "j"
   ]
  },
  {
   "cell_type": "code",
   "execution_count": 8,
   "id": "3565e0b7-a3f1-4067-b82d-a1ce1da1c0ac",
   "metadata": {},
   "outputs": [
    {
     "data": {
      "text/plain": [
       "1.10000f"
      ]
     },
     "execution_count": 8,
     "metadata": {},
     "output_type": "execute_result"
    }
   ],
   "source": [
    "k"
   ]
  },
  {
   "cell_type": "markdown",
   "id": "b507fe13-81e9-444f-8cdd-370b4eceff00",
   "metadata": {
    "jp-MarkdownHeadingCollapsed": true,
    "tags": []
   },
   "source": [
    "## Exercises Section 2.6.1"
   ]
  },
  {
   "cell_type": "markdown",
   "id": "014de293-d39c-4a43-a51d-5f302d71da34",
   "metadata": {},
   "source": [
    "### Exercise 2.39:\n",
    "Compile the following program to see what happens when you forget\n",
    "the semicolon after a class definition. Remember the message for future reference.\n",
    "```\n",
    "struct Foo { /* empty */ } // Note: no semicolon\n",
    "int main()\n",
    "{\n",
    "    return 0;\n",
    "}\n",
    "```"
   ]
  },
  {
   "cell_type": "code",
   "execution_count": 14,
   "id": "c583b725-f535-403b-944e-71b91114fc81",
   "metadata": {},
   "outputs": [
    {
     "name": "stderr",
     "output_type": "stream",
     "text": [
      "input_line_27:1:27: error: expected ';' after struct\n",
      "struct Foo { /* empty */ } // Note: no semicolon\n",
      "                          ^\n",
      "                          ;\n",
      "input_line_27:4:1: error: function definition is not allowed here\n",
      "{\n",
      "^\n"
     ]
    },
    {
     "ename": "Interpreter Error",
     "evalue": "",
     "output_type": "error",
     "traceback": [
      "Interpreter Error: "
     ]
    }
   ],
   "source": [
    "struct Foo { /* empty */ } // Note: no semicolon\n",
    "int main()\n",
    "{\n",
    "    return 0;\n",
    "}"
   ]
  },
  {
   "cell_type": "code",
   "execution_count": 13,
   "id": "71b113e4-7330-4e85-ac94-1b3eb89f5d89",
   "metadata": {},
   "outputs": [
    {
     "name": "stderr",
     "output_type": "stream",
     "text": [
      "input_line_26:1:27: error: expected ';' after struct\n",
      "struct Foo { /* empty */ } // Note: no semicolon\n",
      "                          ^\n",
      "                          ;\n"
     ]
    },
    {
     "ename": "Interpreter Error",
     "evalue": "",
     "output_type": "error",
     "traceback": [
      "Interpreter Error: "
     ]
    }
   ],
   "source": [
    "struct Foo { /* empty */ } // Note: no semicolon\n",
    "int i;"
   ]
  },
  {
   "cell_type": "markdown",
   "id": "a642bc3b-cddb-4bb1-a557-4347573f4e72",
   "metadata": {},
   "source": [
    "### Exercise 2.40:\n",
    "Write your own version of the Sales_data class."
   ]
  },
  {
   "cell_type": "code",
   "execution_count": 15,
   "id": "35ff7dbe-c023-45ae-9f7a-3c145656c4a5",
   "metadata": {},
   "outputs": [],
   "source": [
    "struct Sales_data {\n",
    "    std::string bookNo;\n",
    "    unsigned units_sold = 0;\n",
    "    double revenue = 0.0;\n",
    "}"
   ]
  },
  {
   "cell_type": "markdown",
   "id": "8bbfc5a4-5105-4c61-9ae8-f23f6d322c4d",
   "metadata": {
    "tags": []
   },
   "source": [
    "## Exercises Section 2.6.2"
   ]
  },
  {
   "cell_type": "markdown",
   "id": "6b2439ea-ecf2-48e7-8af3-61250ace796e",
   "metadata": {},
   "source": [
    "### Exercise 2.41:\n",
    "Use your Sales_data class to rewrite the exercises in § 1.5.1 (p. 22),\n",
    "§ 1.5.2 (p. 24), and § 1.6 (p. 25). For now, you should define your Sales_data class in\n",
    "the same file as your main function."
   ]
  },
  {
   "cell_type": "markdown",
   "id": "8f764a96-f94f-40ee-ab65-fe99f00dd4fa",
   "metadata": {
    "jp-MarkdownHeadingCollapsed": true,
    "tags": []
   },
   "source": [
    "#### 1.20"
   ]
  },
  {
   "cell_type": "code",
   "execution_count": 6,
   "id": "5fb5a26b-45e1-4337-9a2d-e2f1a4dc5f9d",
   "metadata": {},
   "outputs": [],
   "source": [
    "#include <iostream>"
   ]
  },
  {
   "cell_type": "code",
   "execution_count": 7,
   "id": "2ded51ac-b5a5-4153-9df8-7cf63cf0e36f",
   "metadata": {},
   "outputs": [],
   "source": [
    "struct Sales_data {\n",
    "    std::string bookNo;\n",
    "    unsigned units_sold = 0;\n",
    "    double revenue = 0.0;\n",
    "    double avg_price = 0.0;\n",
    "};"
   ]
  },
  {
   "cell_type": "code",
   "execution_count": 4,
   "id": "a56ce099-8242-4fe2-a64a-41a13a330bb8",
   "metadata": {},
   "outputs": [
    {
     "name": "stdin",
     "output_type": "stream",
     "text": [
      " 0-201-78345-X 3 20.00\n"
     ]
    },
    {
     "name": "stdout",
     "output_type": "stream",
     "text": [
      "0-201-78345-X 3 60 20\n"
     ]
    },
    {
     "name": "stdin",
     "output_type": "stream",
     "text": [
      " 0-201-78345-X 2 25.00\n"
     ]
    },
    {
     "name": "stdout",
     "output_type": "stream",
     "text": [
      "0-201-78345-X 2 50 25\n"
     ]
    },
    {
     "name": "stdin",
     "output_type": "stream",
     "text": [
      " end 1 1\n"
     ]
    }
   ],
   "source": [
    "Sales_data data;\n",
    "while (std::cin >> data.bookNo >> data.units_sold >> data.avg_price && data.bookNo != \"end\") {\n",
    "    data.revenue = data.units_sold * data.avg_price;\n",
    "    std::cout << data.bookNo << \" \" << data.units_sold << \" \" << data.revenue << \" \" << data.avg_price << std::endl;\n",
    "}"
   ]
  },
  {
   "cell_type": "markdown",
   "id": "0130b3c3-bac1-4cb7-aba5-68c6b5240a53",
   "metadata": {
    "jp-MarkdownHeadingCollapsed": true,
    "tags": []
   },
   "source": [
    "#### 1.21"
   ]
  },
  {
   "cell_type": "code",
   "execution_count": 6,
   "id": "5f3fbf33-30b6-406b-b96a-f0e578b5221b",
   "metadata": {},
   "outputs": [],
   "source": [
    "#include <iostream>"
   ]
  },
  {
   "cell_type": "code",
   "execution_count": 7,
   "id": "5de4ccb3-dbec-4c2f-9f49-2047a439e652",
   "metadata": {},
   "outputs": [],
   "source": [
    "struct Sales_data {\n",
    "    std::string bookNo;\n",
    "    unsigned units_sold = 0;\n",
    "    double revenue = 0.0;\n",
    "    double avg_price = 0.0;\n",
    "};"
   ]
  },
  {
   "cell_type": "code",
   "execution_count": 5,
   "id": "8ba332f5-63f3-41ba-a933-c101aa9cc54c",
   "metadata": {},
   "outputs": [
    {
     "name": "stdin",
     "output_type": "stream",
     "text": [
      " 0-201-78345-X 3 20.00\n",
      " 0-201-78345-X 2 25.00\n"
     ]
    },
    {
     "name": "stdout",
     "output_type": "stream",
     "text": [
      "0-201-78345-X 5 110 22\n"
     ]
    }
   ],
   "source": [
    "Sales_data data1, data2, data_sum;\n",
    "std::cin >> data1.bookNo >> data1.units_sold >> data1.avg_price\n",
    "         >> data2.bookNo >> data2.units_sold >> data2.avg_price;\n",
    "\n",
    "data_sum.bookNo = data1.bookNo;\n",
    "data_sum.units_sold = data1.units_sold + data2.units_sold;\n",
    "data_sum.revenue = data1.units_sold * data1.avg_price + data2.units_sold * data2.avg_price;\n",
    "data_sum.avg_price = data_sum.revenue / data_sum.units_sold;\n",
    "\n",
    "std::cout << data_sum.bookNo << \" \" << data_sum.units_sold << \" \" << data_sum.revenue << \" \" << data_sum.avg_price << std::endl;"
   ]
  },
  {
   "cell_type": "markdown",
   "id": "6738f50d-2740-403e-afe4-16bef7a6fb66",
   "metadata": {
    "jp-MarkdownHeadingCollapsed": true,
    "tags": []
   },
   "source": [
    "#### 1.22"
   ]
  },
  {
   "cell_type": "code",
   "execution_count": 6,
   "id": "ab37c5c2-76dd-4801-81f6-57f9fe7ff96c",
   "metadata": {},
   "outputs": [],
   "source": [
    "#include <iostream>"
   ]
  },
  {
   "cell_type": "code",
   "execution_count": 7,
   "id": "3b865739-2382-4e5f-aa3d-1b50495311bc",
   "metadata": {},
   "outputs": [],
   "source": [
    "struct Sales_data {\n",
    "    std::string bookNo;\n",
    "    unsigned units_sold = 0;\n",
    "    double revenue = 0.0;\n",
    "    double avg_price = 0.0;\n",
    "};"
   ]
  },
  {
   "cell_type": "code",
   "execution_count": 6,
   "id": "7b4c2098-339c-4910-b182-a7560e9ff1ca",
   "metadata": {},
   "outputs": [
    {
     "name": "stdin",
     "output_type": "stream",
     "text": [
      " 0-201-78345-X 3 20.00\n",
      " 0-201-78345-X 2 25.00\n",
      " 0-201-78345-X 1 13\n",
      " end 1 1\n"
     ]
    },
    {
     "name": "stdout",
     "output_type": "stream",
     "text": [
      "0-201-78345-X 6 123 20.5\n"
     ]
    }
   ],
   "source": [
    "Sales_data data;\n",
    "Sales_data data_sum;\n",
    "while (std::cin >> data.bookNo >> data.units_sold >> data.avg_price && data.bookNo != \"end\") {\n",
    "    data_sum.bookNo = data.bookNo;\n",
    "    data_sum.units_sold = data_sum.units_sold + data.units_sold;\n",
    "    data_sum.revenue = data_sum.revenue + data.units_sold * data.avg_price;\n",
    "    data_sum.avg_price = data_sum.revenue / data_sum.units_sold;\n",
    "}\n",
    "std::cout << data_sum.bookNo << \" \" << data_sum.units_sold << \" \" << data_sum.revenue << \" \" << data_sum.avg_price << std::endl;"
   ]
  },
  {
   "cell_type": "markdown",
   "id": "e4fc56e8-73ef-43ae-b5c0-5e1a1e3e7c9c",
   "metadata": {
    "jp-MarkdownHeadingCollapsed": true,
    "tags": []
   },
   "source": [
    "#### 1.23"
   ]
  },
  {
   "cell_type": "code",
   "execution_count": 6,
   "id": "f5447e9f-cbe5-4ff6-b3d4-3b3184935e7a",
   "metadata": {},
   "outputs": [],
   "source": [
    "#include <iostream>"
   ]
  },
  {
   "cell_type": "code",
   "execution_count": 7,
   "id": "709c151b-9900-4257-b8fe-97ff46c15e70",
   "metadata": {},
   "outputs": [],
   "source": [
    "struct Sales_data {\n",
    "    std::string bookNo;\n",
    "    unsigned units_sold = 0;\n",
    "    double revenue = 0.0;\n",
    "    double avg_price = 0.0;\n",
    "};"
   ]
  },
  {
   "cell_type": "code",
   "execution_count": 4,
   "id": "7c08aebc-284a-40b0-a7a5-b2ad1a7ae86d",
   "metadata": {},
   "outputs": [
    {
     "name": "stdin",
     "output_type": "stream",
     "text": [
      " 0-201-78345-X 3 20.00\n",
      " 0-201-78345-X 2 25.00\n",
      " 0-301-81838-A 2 25.00\n"
     ]
    },
    {
     "name": "stdout",
     "output_type": "stream",
     "text": [
      "0-201-78345-X occurs 2 times\n"
     ]
    },
    {
     "name": "stdin",
     "output_type": "stream",
     "text": [
      " end 1 1\n"
     ]
    },
    {
     "name": "stdout",
     "output_type": "stream",
     "text": [
      "0-301-81838-A occurs 1 times\n"
     ]
    }
   ],
   "source": [
    "Sales_data data, currData;\n",
    "\n",
    "std::cin >> currData.bookNo >> currData.units_sold >> currData.avg_price;\n",
    "\n",
    "int cnt = 1;\n",
    "while (std::cin >> data.bookNo >> data.units_sold >> data.avg_price && data.bookNo != \"end\") {\n",
    "    if (data.bookNo == currData.bookNo)\n",
    "        ++cnt;\n",
    "    else {\n",
    "        std::cout << currData.bookNo << \" occurs \" << cnt << \" times\" << std::endl;\n",
    "        currData = data;\n",
    "        cnt = 1;\n",
    "    }\n",
    "}\n",
    "std::cout << currData.bookNo << \" occurs \" << cnt << \" times\" << std::endl;\n"
   ]
  },
  {
   "cell_type": "markdown",
   "id": "0446d27a-a454-4725-a9b5-f322d01cb72d",
   "metadata": {
    "jp-MarkdownHeadingCollapsed": true,
    "tags": []
   },
   "source": [
    "#### 1.24"
   ]
  },
  {
   "cell_type": "code",
   "execution_count": null,
   "id": "2fd373c0-6546-4ec4-b30e-cce7ef4762f1",
   "metadata": {},
   "outputs": [],
   "source": [
    "#include <iostream>"
   ]
  },
  {
   "cell_type": "code",
   "execution_count": null,
   "id": "2bcf0ca7-671f-4947-ab07-832d687dfcb7",
   "metadata": {},
   "outputs": [],
   "source": [
    "struct Sales_data {\n",
    "    std::string bookNo;\n",
    "    unsigned units_sold = 0;\n",
    "    double revenue = 0.0;\n",
    "    double avg_price = 0.0;\n",
    "};"
   ]
  },
  {
   "cell_type": "code",
   "execution_count": 3,
   "id": "3cd425bf-8e71-4992-8ed6-a642bb5c51da",
   "metadata": {},
   "outputs": [
    {
     "name": "stdin",
     "output_type": "stream",
     "text": [
      " 0-201-78345-X 3 20.00\n",
      " 0-201-78345-X 2 25.00\n",
      " 0-301-81838-A 2 25.00\n"
     ]
    },
    {
     "name": "stdout",
     "output_type": "stream",
     "text": [
      "0-201-78345-X 5 110 22\n"
     ]
    },
    {
     "name": "stdin",
     "output_type": "stream",
     "text": [
      " end 1 \n",
      " 1\n"
     ]
    },
    {
     "name": "stdout",
     "output_type": "stream",
     "text": [
      "0-301-81838-A 2 50 25\n"
     ]
    }
   ],
   "source": [
    "Sales_data total; \n",
    "Sales_data trans; \n",
    "\n",
    "std::cin >> total.bookNo >> total.units_sold >> total.avg_price;\n",
    "total.revenue = total.units_sold * total.avg_price;\n",
    "\n",
    "while (std::cin >> trans.bookNo >> trans.units_sold >> trans.avg_price && trans.bookNo != \"end\")\n",
    "{\n",
    "    if (total.bookNo == trans.bookNo)\n",
    "    {\n",
    "        total.units_sold += trans.units_sold;\n",
    "        total.revenue += trans.units_sold * trans.avg_price;\n",
    "        total.avg_price = total.revenue / total.units_sold;\n",
    "    }\n",
    "    else \n",
    "    { \n",
    "        std::cout << total.bookNo << \" \" << total.units_sold << \" \" << total.revenue\n",
    "                  << \" \" << total.avg_price << std::endl;\n",
    "        total = trans;\n",
    "        total.revenue = total.units_sold * total.avg_price;\n",
    "    }\n",
    "}\n",
    "std::cout << total.bookNo << \" \" << total.units_sold << \" \" << total.revenue\n",
    "          << \" \" << total.avg_price << std::endl;"
   ]
  },
  {
   "cell_type": "markdown",
   "id": "69c5c460-0007-41e1-8591-d308d71d997a",
   "metadata": {
    "tags": []
   },
   "source": [
    "## Exercises Section 2.6.3"
   ]
  },
  {
   "cell_type": "markdown",
   "id": "d208867c-d8ef-4c09-bc3c-fc665cd7e79d",
   "metadata": {
    "tags": []
   },
   "source": [
    "### Exercise 2.42:\n",
    "Write your own version of the Sales_data.h header and use it to\n",
    "rewrite the exercise from § 2.6.2 (p. 76)."
   ]
  },
  {
   "cell_type": "code",
   "execution_count": 1,
   "id": "adbd50bd-4fce-4834-8466-a2912c3482a0",
   "metadata": {},
   "outputs": [],
   "source": [
    "#include <iostream>\n",
    "#include \"Sales_data.h\""
   ]
  },
  {
   "cell_type": "code",
   "execution_count": 2,
   "id": "5c197dd2-b136-442b-9804-d17986921a96",
   "metadata": {},
   "outputs": [
    {
     "name": "stdin",
     "output_type": "stream",
     "text": [
      " 0-201-78345-X 3 20.00\n",
      " 0-201-78345-X 2 25.00\n",
      " 0-301-81838-A 2 25.00\n"
     ]
    },
    {
     "name": "stdout",
     "output_type": "stream",
     "text": [
      "0-201-78345-X 5 110 22\n"
     ]
    },
    {
     "name": "stdin",
     "output_type": "stream",
     "text": [
      " end 1 1\n"
     ]
    },
    {
     "name": "stdout",
     "output_type": "stream",
     "text": [
      "0-301-81838-A 2 50 25\n"
     ]
    }
   ],
   "source": [
    "Sales_data total; \n",
    "Sales_data trans; \n",
    "\n",
    "std::cin >> total.bookNo >> total.units_sold >> total.avg_price;\n",
    "total.revenue = total.units_sold * total.avg_price;\n",
    "\n",
    "while (std::cin >> trans.bookNo >> trans.units_sold >> trans.avg_price && trans.bookNo != \"end\")\n",
    "{\n",
    "    if (total.bookNo == trans.bookNo)\n",
    "    {\n",
    "        total.units_sold += trans.units_sold;\n",
    "        total.revenue += trans.units_sold * trans.avg_price;\n",
    "        total.avg_price = total.revenue / total.units_sold;\n",
    "    }\n",
    "    else \n",
    "    { \n",
    "        std::cout << total.bookNo << \" \" << total.units_sold << \" \" << total.revenue\n",
    "                  << \" \" << total.avg_price << std::endl;\n",
    "        total = trans;\n",
    "        total.revenue = total.units_sold * total.avg_price;\n",
    "    }\n",
    "}\n",
    "std::cout << total.bookNo << \" \" << total.units_sold << \" \" << total.revenue\n",
    "          << \" \" << total.avg_price << std::endl;"
   ]
  }
 ],
 "metadata": {
  "kernelspec": {
   "display_name": "C++17",
   "language": "C++17",
   "name": "xcpp17"
  },
  "language_info": {
   "codemirror_mode": "text/x-c++src",
   "file_extension": ".cpp",
   "mimetype": "text/x-c++src",
   "name": "c++",
   "version": "17"
  }
 },
 "nbformat": 4,
 "nbformat_minor": 5
}
