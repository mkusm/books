{
 "cells": [
  {
   "cell_type": "markdown",
   "id": "cc8908d1-d66a-4a2e-8089-69baafb31ef9",
   "metadata": {},
   "source": [
    "# Chapter 10 Generic Algorithms"
   ]
  },
  {
   "cell_type": "markdown",
   "id": "f4277a49-803e-46a3-a02c-6a134755b506",
   "metadata": {},
   "source": [
    "## EXERCISES SECTION 10.1"
   ]
  },
  {
   "cell_type": "markdown",
   "id": "576e65b7-17d7-438e-85a5-cec16ccf5fe1",
   "metadata": {},
   "source": [
    "### Exercise 10.1:\n",
    " The algorithm header defines a function named `count` that, like\n",
    "`find`, takes a pair of iterators and a value. `count` returns a count of how often that\n",
    "value appears. Read a sequence of `int`s into a `vector` and print the count of how\n",
    "many elements have a given value."
   ]
  },
  {
   "cell_type": "code",
   "execution_count": null,
   "id": "fa3d6012-1c0f-4879-8e55-74e744970d3d",
   "metadata": {},
   "outputs": [],
   "source": []
  },
  {
   "cell_type": "markdown",
   "id": "d148ece4-7613-4c78-8bca-0a75ca37cfc1",
   "metadata": {},
   "source": [
    "### Exercise 10.2:\n",
    " Repeat the previous program, but read values into a `list` of `string`s."
   ]
  },
  {
   "cell_type": "code",
   "execution_count": null,
   "id": "ca03adab-e61b-4b39-848f-0ed95725d774",
   "metadata": {},
   "outputs": [],
   "source": []
  },
  {
   "cell_type": "markdown",
   "id": "c2eb0f98-05aa-41ce-b2cb-d26967494c47",
   "metadata": {},
   "source": [
    "## EXERCISES SECTION 10.2.1"
   ]
  },
  {
   "cell_type": "markdown",
   "id": "c36d822e-ffed-4fb3-9c03-190f142a3de0",
   "metadata": {},
   "source": [
    "### Exercise 10.3:\n",
    " Use `accumulate` to sum the elements in a `vector<int>`."
   ]
  },
  {
   "cell_type": "code",
   "execution_count": null,
   "id": "87895225-c745-4982-8b16-923780a526e8",
   "metadata": {},
   "outputs": [],
   "source": []
  },
  {
   "cell_type": "markdown",
   "id": "1e89e358-e014-40b4-aeed-647f5b14beb2",
   "metadata": {},
   "source": [
    "### Exercise 10.4:\n",
    " Assuming `v` is a `vector<double>`, what, if anything, is wrong with\n",
    "calling `accumulate(v.cbegin(), v.cend(), 0)`?"
   ]
  },
  {
   "cell_type": "code",
   "execution_count": null,
   "id": "e9133f09-efac-4ab8-b3fc-1b36319241ca",
   "metadata": {},
   "outputs": [],
   "source": []
  },
  {
   "cell_type": "markdown",
   "id": "6fff8856-f997-4c2f-b738-fd406ee9304c",
   "metadata": {},
   "source": [
    "### Exercise 10.5:\n",
    " In the call to `equal` on rosters, what would happen if both rosters held\n",
    "C-style `string`s, rather than library `string`s?"
   ]
  },
  {
   "cell_type": "code",
   "execution_count": null,
   "id": "3f43f3fe-2e98-44df-b3ea-04aea496d7cd",
   "metadata": {},
   "outputs": [],
   "source": []
  },
  {
   "cell_type": "markdown",
   "id": "911649e5-4203-4218-9a92-fa03aac7bafb",
   "metadata": {},
   "source": [
    "## EXERCISES SECTION 10.2.2"
   ]
  },
  {
   "cell_type": "markdown",
   "id": "05987f76-6490-4c09-8b06-cdde5aa7e018",
   "metadata": {},
   "source": [
    "### Exercise 10.6:\n",
    " Using `fill_n`, write a program to set a sequence of `int` values to `0`."
   ]
  },
  {
   "cell_type": "code",
   "execution_count": null,
   "id": "ed516468-51ab-4999-ad17-115bd3092086",
   "metadata": {},
   "outputs": [],
   "source": []
  },
  {
   "cell_type": "markdown",
   "id": "c67d32a9-67fc-48b0-bda2-e9b43c189060",
   "metadata": {},
   "source": [
    "### Exercise 10.7:\n",
    " Determine if there are any errors in the following programs and, if so,\n",
    "correct the error(s):  \n",
    "(a) \n",
    "```\n",
    "vector<int> vec; list<int> lst; int i;\n",
    "while (cin >> i)\n",
    "lst.push_back(i);\n",
    "copy(lst.cbegin(), lst.cend(), vec.begin());\n",
    "```\n",
    "(b) \n",
    "```\n",
    "vector<int> vec;\n",
    "vec.reserve(10); // reserve is covered in § 9.4 (p. 356)\n",
    "fill_n(vec.begin(), 10, 0);\n",
    "```"
   ]
  },
  {
   "cell_type": "code",
   "execution_count": null,
   "id": "1c39b2c7-77a8-4239-9ab4-cc57dd13b283",
   "metadata": {},
   "outputs": [],
   "source": []
  },
  {
   "cell_type": "markdown",
   "id": "ebf1ca1c-b22b-4b94-86bd-935a3b58f4ee",
   "metadata": {},
   "source": [
    "### Exercise 10.8:\n",
    " We said that algorithms do not change the size of the containers over\n",
    "which they operate. Why doesn’t the use of `back_inserter` invalidate this claim?"
   ]
  },
  {
   "cell_type": "code",
   "execution_count": null,
   "id": "482ae595-3725-4e2a-b855-5450a00283fe",
   "metadata": {},
   "outputs": [],
   "source": []
  },
  {
   "cell_type": "markdown",
   "id": "4293910d-480d-430c-960d-89882ee7c693",
   "metadata": {},
   "source": [
    "## EXERCISES SECTION 10.2.3"
   ]
  },
  {
   "cell_type": "markdown",
   "id": "a69e82ff-8644-406b-845e-2222de5f60a2",
   "metadata": {},
   "source": [
    "### Exercise 10.9:\n",
    " Implement your own version of `elimDups`.\n",
    "Test your program by printing the `vector` after you read the input,\n",
    "after the call to `unique`, and after the call to `erase`."
   ]
  },
  {
   "cell_type": "code",
   "execution_count": null,
   "id": "2a4d620f-46aa-4c8a-bdbc-3e0a089ea141",
   "metadata": {},
   "outputs": [],
   "source": []
  },
  {
   "cell_type": "markdown",
   "id": "dd085b63-2b7a-4ced-8725-395405b9e868",
   "metadata": {},
   "source": [
    "### Exercise 10.10:\n",
    " Why do you think the algorithms don’t change the size of containers?"
   ]
  },
  {
   "cell_type": "code",
   "execution_count": null,
   "id": "bae4f4c1-0c60-4d0f-83dd-d49b464474c8",
   "metadata": {},
   "outputs": [],
   "source": []
  },
  {
   "cell_type": "markdown",
   "id": "eb8f0835-bcb2-4bec-bb2c-7b07741e92e5",
   "metadata": {},
   "source": [
    "## EXERCISES SECTION 10.3.1"
   ]
  },
  {
   "cell_type": "markdown",
   "id": "df7e78a6-45ed-420e-b237-774ceee3c270",
   "metadata": {},
   "source": [
    "### Exercise 10.11:\n",
    " Write a program that uses `stable_sort` and `isShorter` to sort a\n",
    "`vector` passed to your version of `elimDups`. Print the `vector` to verify that your\n",
    "program is correct."
   ]
  },
  {
   "cell_type": "code",
   "execution_count": null,
   "id": "c4836490-9c7e-49f9-9edf-1a838e8b8084",
   "metadata": {},
   "outputs": [],
   "source": []
  },
  {
   "cell_type": "markdown",
   "id": "6eb33a7e-f537-45c8-af35-d849eacfaab1",
   "metadata": {},
   "source": [
    "### Exercise 10.12:\n",
    "Write a function named `compareIsbn` that compares the `isbn()`\n",
    "members of two `Sales_data` objects. Use that function to sort a `vector` that holds\n",
    "`Sales_data` objects."
   ]
  },
  {
   "cell_type": "code",
   "execution_count": null,
   "id": "36dd4a8e-ac6f-41c2-9904-82a09777d2f2",
   "metadata": {},
   "outputs": [],
   "source": []
  },
  {
   "cell_type": "markdown",
   "id": "6f8a5849-92fe-4cce-9e2b-4529d59c25a9",
   "metadata": {},
   "source": [
    "### Exercise 10.13:\n",
    " The library defines an algorithm named `partition` that takes a predicate \n",
    "and partitions the container so that values for which the predicate is `true` appear\n",
    "in the first part and those for which the predicate is `false` appear in the second part.\n",
    "The algorithm returns an iterator just past the last element for which the predicate\n",
    "returned `true`. Write a function that takes a `string` and returns a `bool` indicating\n",
    "whether the `string` has five characters or more. Use that function to partition words.\n",
    "Print the elements that have five or more characters."
   ]
  },
  {
   "cell_type": "code",
   "execution_count": null,
   "id": "11c1b95a-cff4-42d6-b311-fd6e28748a96",
   "metadata": {},
   "outputs": [],
   "source": []
  },
  {
   "cell_type": "markdown",
   "id": "97679392-cb11-4726-a1c0-2856f76b4860",
   "metadata": {},
   "source": [
    "## EXERCISES SECTION 10.3.2"
   ]
  },
  {
   "cell_type": "markdown",
   "id": "76f10a17-0798-45a9-a0b4-49c6ef4bd692",
   "metadata": {},
   "source": [
    "### Exercise 10.14:\n",
    " Write a lambda that takes two `int`s and returns their sum."
   ]
  },
  {
   "cell_type": "code",
   "execution_count": null,
   "id": "d1b99c02-3f65-4509-8a53-3a03166427b5",
   "metadata": {},
   "outputs": [],
   "source": []
  },
  {
   "cell_type": "markdown",
   "id": "9848cfca-06ea-4556-8cb8-61e63b947c3e",
   "metadata": {},
   "source": [
    "### Exercise 10.15:\n",
    " Write a lambda that captures an `int` from its enclosing function and\n",
    "takes an `int` parameter. The lambda should return the sum of the captured `int` and\n",
    "the `int` parameter."
   ]
  },
  {
   "cell_type": "code",
   "execution_count": null,
   "id": "3833fd79-15ce-4310-9fcd-11c203b21f7a",
   "metadata": {},
   "outputs": [],
   "source": []
  },
  {
   "cell_type": "markdown",
   "id": "5b6f8481-0772-401a-845e-93a71fea74be",
   "metadata": {},
   "source": [
    "### Exercise 10.16:\n",
    " Write your own version of the `biggies` function using lambdas."
   ]
  },
  {
   "cell_type": "code",
   "execution_count": null,
   "id": "46f26992-d30d-43cf-a937-289170eb44b7",
   "metadata": {},
   "outputs": [],
   "source": []
  },
  {
   "cell_type": "markdown",
   "id": "b6d0e0e4-273c-48e6-acce-eb560c6951a0",
   "metadata": {},
   "source": [
    "### Exercise 10.17:\n",
    " Rewrite exercise 10.12 from § 10.3.1 (p. 387) to use a lambda in the call\n",
    "to sort instead of the `compareIsbn` function."
   ]
  },
  {
   "cell_type": "code",
   "execution_count": null,
   "id": "9f56baa0-5640-4539-a44f-ab06bcb64534",
   "metadata": {},
   "outputs": [],
   "source": []
  },
  {
   "cell_type": "markdown",
   "id": "8dd1a99d-7fda-4da3-8b7b-da7564876ab0",
   "metadata": {},
   "source": [
    "### Exercise 10.18:\n",
    " Rewrite `biggies` to use partition instead of `find_if`. We described \n",
    "the partition algorithm in exercise 10.13 in § 10.3.1 (p. 387)."
   ]
  },
  {
   "cell_type": "code",
   "execution_count": null,
   "id": "bd535990-a307-4be6-bef5-34f9dc6aa6a1",
   "metadata": {},
   "outputs": [],
   "source": []
  },
  {
   "cell_type": "markdown",
   "id": "44b850aa-eca6-4cd6-839d-fb6fcdcdaf4f",
   "metadata": {},
   "source": [
    "### Exercise 10.19:\n",
    " Rewrite the previous exercise to use `stable_partition`, which like\n",
    "`stable_sort` maintains the original element order in the paritioned sequence."
   ]
  },
  {
   "cell_type": "code",
   "execution_count": null,
   "id": "ae987e4e-5191-4d5f-95dd-3d85e8c522e5",
   "metadata": {},
   "outputs": [],
   "source": []
  },
  {
   "cell_type": "markdown",
   "id": "d19f02ee-6f9c-478d-ab22-2c84061a9f13",
   "metadata": {},
   "source": [
    "## EXERCISES SECTION 10.3.3"
   ]
  },
  {
   "cell_type": "markdown",
   "id": "a5da7983-df60-4a80-82ca-4d9306691851",
   "metadata": {},
   "source": [
    "### Exercise 10.20:\n",
    " The library defines an algorithm named `count_if`. Like `find_if`,\n",
    "this function takes a pair of iterators denoting an input range and a predicate that it\n",
    "applies to each element in the given range. `count_if` returns a count of how often the\n",
    "predicate is `true`. Use `count_if` to rewrite the portion of our program that counted\n",
    "how many words are greater than length `6`."
   ]
  },
  {
   "cell_type": "code",
   "execution_count": null,
   "id": "85178ad1-42e8-46bd-8c7a-10beb2fbdbf6",
   "metadata": {},
   "outputs": [],
   "source": []
  },
  {
   "cell_type": "markdown",
   "id": "643dd1c4-b05f-400b-81ae-fff7d8a55802",
   "metadata": {},
   "source": [
    "### Exercise 10.21:\n",
    " Write a lambda that captures a local `int` variable and decrements that\n",
    "variable until it reaches `0`. Once the variable is `0` additional calls should no longer\n",
    "decrement the variable. The lambda should return a `bool` that indicates whether the\n",
    "captured variable is `0`.\n"
   ]
  },
  {
   "cell_type": "markdown",
   "id": "854e9116-3dc4-412b-bd6d-9573b50b9ded",
   "metadata": {},
   "source": [
    "## EXERCISES SECTION 10.3.4"
   ]
  },
  {
   "cell_type": "markdown",
   "id": "cea2cbc7-a928-43c6-9b1c-15e8d4edd981",
   "metadata": {},
   "source": [
    "### Exercise 10.22:\n",
    " Rewrite the program to count words of size `6` or less using functions\n",
    "in place of the lambdas."
   ]
  },
  {
   "cell_type": "code",
   "execution_count": null,
   "id": "75c3e7aa-3773-48f1-936f-06bb9376126d",
   "metadata": {},
   "outputs": [],
   "source": []
  },
  {
   "cell_type": "markdown",
   "id": "e011cf05-c2a2-478c-abdc-43f405e885f0",
   "metadata": {},
   "source": [
    "### Exercise 10.23:\n",
    " How many arguments does `bind` take?"
   ]
  },
  {
   "cell_type": "code",
   "execution_count": null,
   "id": "6e70782a-4ed5-43f8-ae4a-add6fce64a2a",
   "metadata": {},
   "outputs": [],
   "source": []
  },
  {
   "cell_type": "markdown",
   "id": "7bf26bd8-d97f-4ce5-9484-06c8fa33c55f",
   "metadata": {},
   "source": [
    "### Exercise 10.24:\n",
    " Use `bind` and `check_size` to find the first element in a `vector` of\n",
    "`int`s that has a value greater than the length of a specified `string` value."
   ]
  },
  {
   "cell_type": "code",
   "execution_count": null,
   "id": "37591459-f103-4001-84b4-98093dfc43f7",
   "metadata": {},
   "outputs": [],
   "source": []
  },
  {
   "cell_type": "markdown",
   "id": "15770ff4-cf3c-41ee-ba5e-440e662e794c",
   "metadata": {},
   "source": [
    "### Exercise 10.25:\n",
    " In the exercises for § 10.3.2 (p. 392) you wrote a version of `biggies`\n",
    "that uses partition. Rewrite that function to use `check_size` and `bind`."
   ]
  },
  {
   "cell_type": "code",
   "execution_count": null,
   "id": "eab3ab3c-cca3-4a4f-b7b6-47de49126acd",
   "metadata": {},
   "outputs": [],
   "source": []
  },
  {
   "cell_type": "markdown",
   "id": "67627642-69da-45a4-9b55-5faf99d37389",
   "metadata": {},
   "source": [
    "## EXERCISES SECTION 10.4.1"
   ]
  },
  {
   "cell_type": "markdown",
   "id": "82b782d1-09cf-4679-8462-4a4b622e0722",
   "metadata": {},
   "source": [
    "### Exercise 10.26:\n",
    " Explain the differences among the three kinds of insert iterators."
   ]
  },
  {
   "cell_type": "code",
   "execution_count": null,
   "id": "50977632-c6cd-497f-81fd-378171307013",
   "metadata": {},
   "outputs": [],
   "source": []
  },
  {
   "cell_type": "markdown",
   "id": "40c7c04e-e680-45e3-b8ee-ae6ad6ffe0df",
   "metadata": {},
   "source": [
    "### Exercise 10.27:\n",
    " In addition to `unique` (§ 10.2.3, p. 384), the library defines function\n",
    "named `unique_copy` that takes a third iterator denoting a destination into which\n",
    "to copy the unique elements. Write a program that uses `unique_copy` to copy the\n",
    "unique elements from a `vector` into an initially empty `list`."
   ]
  },
  {
   "cell_type": "code",
   "execution_count": null,
   "id": "e638a4d4-8435-43c4-862e-cd052aadabb6",
   "metadata": {},
   "outputs": [],
   "source": []
  },
  {
   "cell_type": "markdown",
   "id": "210583d9-9102-4399-85ab-854f97cca148",
   "metadata": {},
   "source": [
    "### Exercise 10.28:\n",
    " Copy a `vector` that holds the values from `1` to `9` inclusive, into three\n",
    "other containers. Use an `inserter`, a `back_inserter`, and a `front_inserter`,\n",
    "respectivly to add elements to these containers. Predict how the output sequence varies\n",
    "by the kind of inserter and verify your predictions by running your programs."
   ]
  },
  {
   "cell_type": "code",
   "execution_count": null,
   "id": "ce61ab6c-eaaf-43a0-8168-078d0ae7dd63",
   "metadata": {},
   "outputs": [],
   "source": []
  },
  {
   "cell_type": "markdown",
   "id": "09adab15-2634-46c4-a0d2-4a5c03ea942e",
   "metadata": {},
   "source": [
    "## EXERCISES SECTION 10.4.2"
   ]
  },
  {
   "cell_type": "markdown",
   "id": "a0302862-edb8-48fe-9cfb-495d3469776a",
   "metadata": {},
   "source": [
    "### Exercise 10.29:\n",
    " Write a program using stream iterators to read a text file into a `vector`\n",
    "of `string`s."
   ]
  },
  {
   "cell_type": "code",
   "execution_count": null,
   "id": "24e3ff6b-3acb-44ef-88b1-8acd424ba5a2",
   "metadata": {},
   "outputs": [],
   "source": []
  },
  {
   "cell_type": "markdown",
   "id": "cea2246d-68ea-4528-8a15-bbb95afe9969",
   "metadata": {},
   "source": [
    "### Exercise 10.30:\n",
    " Use stream iterators, `sort`, and `copy` to read a sequence of integers\n",
    "from the standard input, sort them, and then write them back to the standard output."
   ]
  },
  {
   "cell_type": "code",
   "execution_count": null,
   "id": "c7b2fa9e-26ab-4993-8173-66aa6e230375",
   "metadata": {},
   "outputs": [],
   "source": []
  },
  {
   "cell_type": "markdown",
   "id": "2c2ba331-e297-4226-9e90-96cb017d2507",
   "metadata": {},
   "source": [
    "### Exercise 10.31:\n",
    " Update the program from the previous exercise so that it prints only\n",
    "the unique elements. Your program should use `unqiue_copy` (§ 10.4.1, p. 403)."
   ]
  },
  {
   "cell_type": "code",
   "execution_count": null,
   "id": "49630fd8-68b6-4e83-bd5f-c0328258765e",
   "metadata": {},
   "outputs": [],
   "source": []
  },
  {
   "cell_type": "markdown",
   "id": "f4301451-39ce-41ef-a334-b7c8ed504f8f",
   "metadata": {},
   "source": [
    "### Exercise 10.32:\n",
    " Rewrite the bookstore problem from § 1.6 (p. 24) using a `vector` to\n",
    "hold the transactions and various algorithms to do the processing. Use `sort` with\n",
    "your `compareIsbn` function from § 10.3.1 (p. 387) to arrange the transactions in order,\n",
    "and then use `find` and `accumulate` to do the sum."
   ]
  },
  {
   "cell_type": "code",
   "execution_count": null,
   "id": "28ad3330-8e30-4e41-be7f-bee00e20a925",
   "metadata": {},
   "outputs": [],
   "source": []
  },
  {
   "cell_type": "markdown",
   "id": "e0a87f36-93a0-496b-8a27-81b11644eceb",
   "metadata": {},
   "source": [
    "### Exercise 10.33:\n",
    " Write a program that takes the names of an input file and two output\n",
    "files. The input file should hold integers. Using an `istream_iterator` read the\n",
    "input file. Using `ostream_iterators`, write the odd numbers into the first output\n",
    "file. Each value should be followed by a space. Write the even numbers into the second\n",
    "file. Each of these values should be placed on a separate line."
   ]
  },
  {
   "cell_type": "code",
   "execution_count": null,
   "id": "6d4ec386-e389-42e6-8c63-5fdfc9090416",
   "metadata": {},
   "outputs": [],
   "source": []
  },
  {
   "cell_type": "markdown",
   "id": "c6975b5b-26f3-42ca-96b3-5844725206f5",
   "metadata": {},
   "source": [
    "## EXERCISES SECTION 10.4.3"
   ]
  },
  {
   "cell_type": "markdown",
   "id": "8aa32154-6b7d-4927-a717-74680f51f938",
   "metadata": {},
   "source": [
    "### Exercise 10.34:\n",
    " Use `reverse_iterators` to print a `vector` in reverse order."
   ]
  },
  {
   "cell_type": "code",
   "execution_count": null,
   "id": "033351fb-fcb8-4aee-8355-7bd4ffef42b9",
   "metadata": {},
   "outputs": [],
   "source": []
  },
  {
   "cell_type": "markdown",
   "id": "1f3abb2a-2761-4c79-830b-dc2fbd5652b8",
   "metadata": {},
   "source": [
    "### Exercise 10.35:\n",
    " Now print the elements in reverse order using ordinary iterators."
   ]
  },
  {
   "cell_type": "code",
   "execution_count": null,
   "id": "94989d73-726f-4466-9d07-f6feabb9fb6d",
   "metadata": {},
   "outputs": [],
   "source": []
  },
  {
   "cell_type": "markdown",
   "id": "94bbca4e-6b7c-41d2-a94c-f6df79d996f8",
   "metadata": {},
   "source": [
    "### Exercise 10.36:\n",
    " Use `find` to find the last element in a `list` of `int`s with value `0`."
   ]
  },
  {
   "cell_type": "code",
   "execution_count": null,
   "id": "93cf9de5-a4d6-4fb1-bc49-4c3cdc3594e5",
   "metadata": {},
   "outputs": [],
   "source": []
  },
  {
   "cell_type": "markdown",
   "id": "5bc172bb-e975-47d8-b1c4-ef1b4ae25b80",
   "metadata": {},
   "source": [
    "### Exercise 10.37:\n",
    " Given a `vector` that has ten elements, copy the elements from positions `3` through `7` in reverse order to a `list`."
   ]
  },
  {
   "cell_type": "code",
   "execution_count": null,
   "id": "99b511cc-4157-4e11-b79f-83bba6ddf292",
   "metadata": {},
   "outputs": [],
   "source": []
  },
  {
   "cell_type": "markdown",
   "id": "2760202c-28c2-47d3-90a7-2d1990c16e8b",
   "metadata": {},
   "source": [
    "## EXERCISES SECTION 10.5.1"
   ]
  },
  {
   "cell_type": "markdown",
   "id": "3ea79d20-8ec3-4e00-9bb5-904ee38fdc83",
   "metadata": {},
   "source": [
    "### Exercise 10.38:\n",
    " List the five iterator categories and the operations that each supports."
   ]
  },
  {
   "cell_type": "code",
   "execution_count": null,
   "id": "8f6eef80-f456-4652-a92e-bdf254696f38",
   "metadata": {},
   "outputs": [],
   "source": []
  },
  {
   "cell_type": "markdown",
   "id": "1b462b84-d7a1-453b-b4a5-d48c4b972b35",
   "metadata": {},
   "source": [
    "### Exercise 10.39:\n",
    " What kind of iterator does a `list` have? What about a `vector`?"
   ]
  },
  {
   "cell_type": "code",
   "execution_count": null,
   "id": "edf24a48-6b2b-461f-95aa-f1590895f27d",
   "metadata": {},
   "outputs": [],
   "source": []
  },
  {
   "cell_type": "markdown",
   "id": "808cded2-a66d-4e77-882c-b37333f41ca9",
   "metadata": {},
   "source": [
    "### Exercise 10.40:\n",
    " What kinds of iterators do you think `copy` requires?\n",
    "What about `reverse` or `unique`?"
   ]
  },
  {
   "cell_type": "code",
   "execution_count": null,
   "id": "1bc07657-788b-4920-9585-c24f9e5a8083",
   "metadata": {},
   "outputs": [],
   "source": []
  },
  {
   "cell_type": "markdown",
   "id": "1b6defe7-37ea-4ff2-84c9-6d4e9abfec46",
   "metadata": {},
   "source": [
    "## EXERCISES SECTION 10.5.3"
   ]
  },
  {
   "cell_type": "markdown",
   "id": "99f2e9ca-b806-48ce-8abd-a2043a88e468",
   "metadata": {},
   "source": [
    "### Exercise 10.41:\n",
    " Based only on the algorithm and argument names, describe the \n",
    "operation that the each of the following library algorithms performs:\n",
    "```\n",
    "replace(beg, end, old_val, new_val);\n",
    "replace_if(beg, end, pred, new_val);\n",
    "replace_copy(beg, end, dest, old_val, new_val);\n",
    "replace_copy_if(beg, end, dest, pred, new_val);\n",
    "```"
   ]
  },
  {
   "cell_type": "code",
   "execution_count": null,
   "id": "0f3a1ce8-3021-4cd6-8fb1-a083bb5192e9",
   "metadata": {},
   "outputs": [],
   "source": []
  },
  {
   "cell_type": "markdown",
   "id": "25bb7069-bbda-478d-9493-87079f99a7f1",
   "metadata": {},
   "source": [
    "## EXERCISES SECTION 10.6"
   ]
  },
  {
   "cell_type": "markdown",
   "id": "93a54a32-d27e-4e74-a1c0-db8e100a1394",
   "metadata": {},
   "source": [
    "### Exercise 10.42:\n",
    " Reimplement the program that eliminated duplicate words that we wrote in § 10.2.3 (p. 383) to use a `list` instead of a `vector`."
   ]
  },
  {
   "cell_type": "code",
   "execution_count": null,
   "id": "4a2e9ddb-f476-4971-9237-23ba8e4164c0",
   "metadata": {},
   "outputs": [],
   "source": []
  }
 ],
 "metadata": {
  "kernelspec": {
   "display_name": "C++17",
   "language": "C++17",
   "name": "xcpp17"
  },
  "language_info": {
   "codemirror_mode": "text/x-c++src",
   "file_extension": ".cpp",
   "mimetype": "text/x-c++src",
   "name": "c++",
   "version": "17"
  }
 },
 "nbformat": 4,
 "nbformat_minor": 5
}
