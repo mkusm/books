{
 "cells": [
  {
   "cell_type": "markdown",
   "id": "cc8908d1-d66a-4a2e-8089-69baafb31ef9",
   "metadata": {},
   "source": [
    "# Chapter 10 Generic Algorithms"
   ]
  },
  {
   "cell_type": "markdown",
   "id": "f4277a49-803e-46a3-a02c-6a134755b506",
   "metadata": {},
   "source": [
    "## EXERCISES SECTION 10.1"
   ]
  },
  {
   "cell_type": "markdown",
   "id": "576e65b7-17d7-438e-85a5-cec16ccf5fe1",
   "metadata": {},
   "source": [
    "### Exercise 10.1:\n",
    " The algorithm header defines a function named `count` that, like\n",
    "`find`, takes a pair of iterators and a value. `count` returns a count of how often that\n",
    "value appears. Read a sequence of `int`s into a `vector` and print the count of how\n",
    "many elements have a given value."
   ]
  },
  {
   "cell_type": "code",
   "execution_count": 1,
   "id": "fa3d6012-1c0f-4879-8e55-74e744970d3d",
   "metadata": {},
   "outputs": [
    {
     "data": {
      "text/plain": [
       "3"
      ]
     },
     "execution_count": 1,
     "metadata": {},
     "output_type": "execute_result"
    }
   ],
   "source": [
    "#include <algorithm>\n",
    "using std::vector;\n",
    "\n",
    "vector<int> v = {1, 2, 3, 4, 1, 2, 1};\n",
    "std::count(v.cbegin(), v.cend(), 1)"
   ]
  },
  {
   "cell_type": "markdown",
   "id": "d148ece4-7613-4c78-8bca-0a75ca37cfc1",
   "metadata": {},
   "source": [
    "### Exercise 10.2:\n",
    " Repeat the previous program, but read values into a `list` of `string`s."
   ]
  },
  {
   "cell_type": "code",
   "execution_count": 1,
   "id": "8ca820fd-d261-44d6-8363-3919dfe8cc20",
   "metadata": {},
   "outputs": [
    {
     "data": {
      "text/plain": [
       "3"
      ]
     },
     "execution_count": 1,
     "metadata": {},
     "output_type": "execute_result"
    }
   ],
   "source": [
    "#include <algorithm>\n",
    "using std::list, std::string;\n",
    "\n",
    "list<string> v = {\"1\", \"2\", \"3\", \"lala\", \"1\", \"1\"};\n",
    "std::count(v.cbegin(), v.cend(), \"1\")"
   ]
  },
  {
   "cell_type": "markdown",
   "id": "c2eb0f98-05aa-41ce-b2cb-d26967494c47",
   "metadata": {},
   "source": [
    "## EXERCISES SECTION 10.2.1"
   ]
  },
  {
   "cell_type": "markdown",
   "id": "c36d822e-ffed-4fb3-9c03-190f142a3de0",
   "metadata": {},
   "source": [
    "### Exercise 10.3:\n",
    " Use `accumulate` to sum the elements in a `vector<int>`."
   ]
  },
  {
   "cell_type": "code",
   "execution_count": 1,
   "id": "1a2a302b-5461-4ed0-8ffd-25199bd07720",
   "metadata": {},
   "outputs": [
    {
     "data": {
      "text/plain": [
       "14"
      ]
     },
     "execution_count": 1,
     "metadata": {},
     "output_type": "execute_result"
    }
   ],
   "source": [
    "#include <algorithm>\n",
    "using std::vector;\n",
    "\n",
    "vector<int> v = {1, 2, 3, 4, 1, 2, 1};\n",
    "std::accumulate(v.cbegin(), v.cend(), 0)"
   ]
  },
  {
   "cell_type": "markdown",
   "id": "1e89e358-e014-40b4-aeed-647f5b14beb2",
   "metadata": {},
   "source": [
    "### Exercise 10.4:\n",
    " Assuming `v` is a `vector<double>`, what, if anything, is wrong with\n",
    "calling `accumulate(v.cbegin(), v.cend(), 0)`?"
   ]
  },
  {
   "cell_type": "markdown",
   "id": "371e5af1-3a78-496c-ab46-a50a6e4517d4",
   "metadata": {},
   "source": [
    "A:\n",
    "\n",
    "`accumulate`'s return type depends on the third argument. In this case it's an `int` literal, so information from `double` will be lost"
   ]
  },
  {
   "cell_type": "code",
   "execution_count": 3,
   "id": "35e0b120-c2f3-4007-94be-80ddaa9b8814",
   "metadata": {},
   "outputs": [
    {
     "data": {
      "text/plain": [
       "15"
      ]
     },
     "execution_count": 3,
     "metadata": {},
     "output_type": "execute_result"
    }
   ],
   "source": [
    "#include <algorithm>\n",
    "using std::vector;\n",
    "\n",
    "vector<double> v = {1, 2, 3, 4, 1, 2, 1, 1.5};\n",
    "std::accumulate(v.cbegin(), v.cend(), 0)"
   ]
  },
  {
   "cell_type": "code",
   "execution_count": 4,
   "id": "cc3abca3-6e6b-4fa6-868b-2d4e98a441d9",
   "metadata": {},
   "outputs": [
    {
     "data": {
      "text/plain": [
       "15.500000"
      ]
     },
     "execution_count": 4,
     "metadata": {},
     "output_type": "execute_result"
    }
   ],
   "source": [
    "#include <algorithm>\n",
    "using std::vector;\n",
    "\n",
    "vector<double> v = {1, 2, 3, 4, 1, 2, 1, 1.5};\n",
    "std::accumulate(v.cbegin(), v.cend(), 0.0)"
   ]
  },
  {
   "cell_type": "markdown",
   "id": "6fff8856-f997-4c2f-b738-fd406ee9304c",
   "metadata": {},
   "source": [
    "### Exercise 10.5:\n",
    " In the call to `equal` on rosters, what would happen if both rosters held\n",
    "C-style `string`s, rather than library `string`s?"
   ]
  },
  {
   "cell_type": "markdown",
   "id": "32c267ba-84de-45ad-9742-796c146ffe76",
   "metadata": {},
   "source": [
    "A:\n",
    "\n",
    "it will work just as well"
   ]
  },
  {
   "cell_type": "code",
   "execution_count": 1,
   "id": "3f43f3fe-2e98-44df-b3ea-04aea496d7cd",
   "metadata": {},
   "outputs": [
    {
     "data": {
      "text/plain": [
       "true"
      ]
     },
     "execution_count": 1,
     "metadata": {},
     "output_type": "execute_result"
    }
   ],
   "source": [
    "std::vector<const char *> roster1 = {\"let's\", \"test\", \"this\"};\n",
    "std::list<const char *> roster2 = {\"let's\", \"test\", \"this\"};\n",
    "std::equal(roster1.cbegin(), roster1.cend(), roster2.cbegin())"
   ]
  },
  {
   "cell_type": "markdown",
   "id": "911649e5-4203-4218-9a92-fa03aac7bafb",
   "metadata": {},
   "source": [
    "## EXERCISES SECTION 10.2.2"
   ]
  },
  {
   "cell_type": "markdown",
   "id": "05987f76-6490-4c09-8b06-cdde5aa7e018",
   "metadata": {},
   "source": [
    "### Exercise 10.6:\n",
    " Using `fill_n`, write a program to set a sequence of `int` values to `0`."
   ]
  },
  {
   "cell_type": "code",
   "execution_count": 1,
   "id": "ed516468-51ab-4999-ad17-115bd3092086",
   "metadata": {},
   "outputs": [
    {
     "data": {
      "text/plain": [
       "{ 0, 0, 0, 0, 0 }"
      ]
     },
     "execution_count": 1,
     "metadata": {},
     "output_type": "execute_result"
    }
   ],
   "source": [
    "std::vector<int> v = {1, 2, 3, 4, 5};\n",
    "std::fill_n(v.begin(), 5, 0);\n",
    "v"
   ]
  },
  {
   "cell_type": "markdown",
   "id": "c67d32a9-67fc-48b0-bda2-e9b43c189060",
   "metadata": {},
   "source": [
    "### Exercise 10.7:\n",
    " Determine if there are any errors in the following programs and, if so,\n",
    "correct the error(s):  \n",
    "(a) \n",
    "```\n",
    "vector<int> vec; list<int> lst; int i;\n",
    "while (cin >> i)\n",
    "    lst.push_back(i);\n",
    "copy(lst.cbegin(), lst.cend(), vec.begin());\n",
    "```\n",
    "(b) \n",
    "```\n",
    "vector<int> vec;\n",
    "vec.reserve(10); // reserve is covered in § 9.4 (p. 356)\n",
    "fill_n(vec.begin(), 10, 0);\n",
    "```"
   ]
  },
  {
   "cell_type": "markdown",
   "id": "5e2e3e8b-52fc-47fc-904c-2f8ac576f40e",
   "metadata": {},
   "source": [
    "A:\n",
    "\n",
    "a) `vec` must have size at least as big as `lst` for `copy` to work. Fixed version:\n",
    "```\n",
    "vector<int> vec; list<int> lst; int i;\n",
    "while (cin >> i)\n",
    "    lst.push_back(i);\n",
    "vec.resize(lst.size());\n",
    "copy(lst.cbegin(), lst.cend(), vec.begin());\n",
    "```\n",
    "\n",
    "b) similar situation to `a)`, we should use `resize` instead of `reserve`, so that the `vec` has proper size. We can also use `back_inserter` instead like this:\n",
    "```\n",
    "vector<int> vec;\n",
    "vec.reserve(10);\n",
    "auto it = back_inserter(vec);\n",
    "fill_n(it, 10, 0);\n",
    "```"
   ]
  },
  {
   "cell_type": "markdown",
   "id": "ebf1ca1c-b22b-4b94-86bd-935a3b58f4ee",
   "metadata": {},
   "source": [
    "### Exercise 10.8:\n",
    " We said that algorithms do not change the size of the containers over\n",
    "which they operate. Why doesn’t the use of `back_inserter` invalidate this claim?"
   ]
  },
  {
   "cell_type": "markdown",
   "id": "8ee6bd36-3d6c-4e6a-910f-35c833770aa6",
   "metadata": {},
   "source": [
    "A:\n",
    "\n",
    "it's the `back_inserter` that's calling `push_back`, not the algorithm itself. The algorithm runs as if it was a container that already has values."
   ]
  },
  {
   "cell_type": "markdown",
   "id": "4293910d-480d-430c-960d-89882ee7c693",
   "metadata": {},
   "source": [
    "## EXERCISES SECTION 10.2.3"
   ]
  },
  {
   "cell_type": "markdown",
   "id": "a69e82ff-8644-406b-845e-2222de5f60a2",
   "metadata": {},
   "source": [
    "### Exercise 10.9:\n",
    " Implement your own version of `elimDups`.\n",
    "Test your program by printing the `vector` after you read the input,\n",
    "after the call to `unique`, and after the call to `erase`."
   ]
  },
  {
   "cell_type": "code",
   "execution_count": 1,
   "id": "6b9e53f5-9d02-4743-bf27-5e0a40fe770c",
   "metadata": {},
   "outputs": [],
   "source": [
    "#include <iostream>\n",
    "using std::cout, std::endl;"
   ]
  },
  {
   "cell_type": "code",
   "execution_count": 2,
   "id": "2a4d620f-46aa-4c8a-bdbc-3e0a089ea141",
   "metadata": {},
   "outputs": [],
   "source": [
    "void elimDups(std::vector<std::string> &words)\n",
    "{\n",
    "    for (auto const &e : words)\n",
    "        cout << e << \" \";\n",
    "    cout << endl;\n",
    "    std::sort(words.begin(), words.end());\n",
    "    auto end_unique = std::unique(words.begin(), words.end());\n",
    "    for (auto const &e : words)\n",
    "        cout << e << \" \";\n",
    "    cout << endl;\n",
    "    words.erase(end_unique, words.end());\n",
    "    for (auto const &e : words)\n",
    "        cout << e << \" \";\n",
    "    cout << endl;\n",
    "}"
   ]
  },
  {
   "cell_type": "code",
   "execution_count": 3,
   "id": "ce24886c-441e-47b8-9bb3-5cbcd0944a06",
   "metadata": {},
   "outputs": [
    {
     "name": "stdout",
     "output_type": "stream",
     "text": [
      "one three two one nice two try \n",
      "nice one three try two  two \n",
      "nice one three try two \n"
     ]
    }
   ],
   "source": [
    "std::vector<std::string> v = {\"one\", \"three\", \"two\", \"one\", \"nice\", \"two\", \"try\"};\n",
    "elimDups(v)"
   ]
  },
  {
   "cell_type": "markdown",
   "id": "dd085b63-2b7a-4ced-8725-395405b9e868",
   "metadata": {},
   "source": [
    "### Exercise 10.10:\n",
    " Why do you think the algorithms don’t change the size of containers?"
   ]
  },
  {
   "cell_type": "markdown",
   "id": "4ed52cb0-62a3-412d-8c24-37ff6524930f",
   "metadata": {},
   "source": [
    "A:\n",
    "\n",
    "Algorithms operate on iterators. The size of the container can't be changed when using normal iterators. "
   ]
  },
  {
   "cell_type": "markdown",
   "id": "eb8f0835-bcb2-4bec-bb2c-7b07741e92e5",
   "metadata": {},
   "source": [
    "## EXERCISES SECTION 10.3.1"
   ]
  },
  {
   "cell_type": "markdown",
   "id": "df7e78a6-45ed-420e-b237-774ceee3c270",
   "metadata": {},
   "source": [
    "### Exercise 10.11:\n",
    " Write a program that uses `stable_sort` and `isShorter` to sort a\n",
    "`vector` passed to your version of `elimDups`. Print the `vector` to verify that your\n",
    "program is correct."
   ]
  },
  {
   "cell_type": "code",
   "execution_count": 1,
   "id": "9a985c1b-4064-4fb7-8d3b-4e7c6698a24c",
   "metadata": {},
   "outputs": [],
   "source": [
    "#include <iostream>\n",
    "using std::cout, std::endl, std::string, std::vector;"
   ]
  },
  {
   "cell_type": "code",
   "execution_count": 2,
   "id": "40fdfd9d-c870-48df-8988-9d410f38803c",
   "metadata": {},
   "outputs": [],
   "source": [
    "bool isShorter(const string &s1, const string &s2) { return s1.size() > s2.size(); }"
   ]
  },
  {
   "cell_type": "code",
   "execution_count": 3,
   "id": "16abe302-19f6-4847-ae3f-6d102d01dbcf",
   "metadata": {},
   "outputs": [],
   "source": [
    "void elimDups(std::vector<std::string> &words)\n",
    "{\n",
    "    for (auto const &e : words)\n",
    "        cout << e << \" \";\n",
    "    cout << endl;\n",
    "    std::sort(words.begin(), words.end());\n",
    "    auto end_unique = std::unique(words.begin(), words.end());\n",
    "    for (auto const &e : words)\n",
    "        cout << e << \" \";\n",
    "    cout << endl;\n",
    "    words.erase(end_unique, words.end());\n",
    "    for (auto const &e : words)\n",
    "        cout << e << \" \";\n",
    "    cout << endl;\n",
    "}"
   ]
  },
  {
   "cell_type": "code",
   "execution_count": 4,
   "id": "246e32f8-9153-4c99-984b-8e62ad28b15a",
   "metadata": {},
   "outputs": [
    {
     "name": "stdout",
     "output_type": "stream",
     "text": [
      "one three two one nice two try \n",
      "nice one three try two  two \n",
      "nice one three try two \n"
     ]
    }
   ],
   "source": [
    "std::vector<std::string> v = {\"one\", \"three\", \"two\", \"one\", \"nice\", \"two\", \"try\"};\n",
    "elimDups(v)"
   ]
  },
  {
   "cell_type": "code",
   "execution_count": 5,
   "id": "3fb0f800-c411-4a1f-bb2f-5d31aa0c679f",
   "metadata": {},
   "outputs": [],
   "source": [
    "std::stable_sort(v.begin(), v.end(), isShorter);"
   ]
  },
  {
   "cell_type": "code",
   "execution_count": 6,
   "id": "37b388d5-5b28-4112-88eb-55cba7a9bba2",
   "metadata": {},
   "outputs": [
    {
     "data": {
      "text/plain": [
       "{ \"three\", \"nice\", \"one\", \"try\", \"two\" }"
      ]
     },
     "execution_count": 6,
     "metadata": {},
     "output_type": "execute_result"
    }
   ],
   "source": [
    "v"
   ]
  },
  {
   "cell_type": "markdown",
   "id": "6eb33a7e-f537-45c8-af35-d849eacfaab1",
   "metadata": {},
   "source": [
    "### Exercise 10.12:\n",
    "Write a function named `compareIsbn` that compares the `isbn()`\n",
    "members of two `Sales_data` objects. Use that function to sort a `vector` that holds\n",
    "`Sales_data` objects."
   ]
  },
  {
   "cell_type": "code",
   "execution_count": 1,
   "id": "36dd4a8e-ac6f-41c2-9904-82a09777d2f2",
   "metadata": {},
   "outputs": [],
   "source": [
    "#include <iostream>\n",
    "#include \"ex_07_12_Sales_data.h\" // use Sales_data definition from previous chapters"
   ]
  },
  {
   "cell_type": "code",
   "execution_count": 2,
   "id": "81d11168-0bbc-469c-9b89-c6dfae4fbdb6",
   "metadata": {},
   "outputs": [],
   "source": [
    "bool compareIsbn(Sales_data &sales1, Sales_data &sales2) { return sales1.isbn() < sales2.isbn(); }"
   ]
  },
  {
   "cell_type": "code",
   "execution_count": 3,
   "id": "fd866d0b-a903-4917-9abe-86673c176186",
   "metadata": {},
   "outputs": [],
   "source": [
    "std::vector<Sales_data> v = {Sales_data(\"0-301-81838-A\"), Sales_data(\"0-201-78345-X\"), Sales_data(\"1-201-78345-X\")};"
   ]
  },
  {
   "cell_type": "code",
   "execution_count": 4,
   "id": "96bdf1c4-8dd2-4422-b546-aa59547737f1",
   "metadata": {},
   "outputs": [],
   "source": [
    "std::sort(v.begin(), v.end(), compareIsbn);"
   ]
  },
  {
   "cell_type": "code",
   "execution_count": 5,
   "id": "e210a721-02d7-4569-91bd-e09cae3e923b",
   "metadata": {},
   "outputs": [
    {
     "name": "stdout",
     "output_type": "stream",
     "text": [
      "0-201-78345-X\n",
      "0-301-81838-A\n",
      "1-201-78345-X\n"
     ]
    }
   ],
   "source": [
    "for (auto e : v)\n",
    "    cout << e.isbn() << endl;"
   ]
  },
  {
   "cell_type": "markdown",
   "id": "6f8a5849-92fe-4cce-9e2b-4529d59c25a9",
   "metadata": {},
   "source": [
    "### Exercise 10.13:\n",
    " The library defines an algorithm named `partition` that takes a predicate \n",
    "and partitions the container so that values for which the predicate is `true` appear\n",
    "in the first part and those for which the predicate is `false` appear in the second part.\n",
    "The algorithm returns an iterator just past the last element for which the predicate\n",
    "returned `true`. Write a function that takes a `string` and returns a `bool` indicating\n",
    "whether the `string` has five characters or more. Use that function to partition words.\n",
    "Print the elements that have five or more characters."
   ]
  },
  {
   "cell_type": "code",
   "execution_count": 1,
   "id": "11c1b95a-cff4-42d6-b311-fd6e28748a96",
   "metadata": {},
   "outputs": [],
   "source": [
    "#include <iostream>\n",
    "using std::string, std::vector, std::cout, std::endl;"
   ]
  },
  {
   "cell_type": "code",
   "execution_count": 2,
   "id": "d793f71d-a6bf-4e38-af40-d498259063cd",
   "metadata": {},
   "outputs": [],
   "source": [
    "bool biggerThan5(string s1) { return s1.size() >= 5; }"
   ]
  },
  {
   "cell_type": "code",
   "execution_count": 3,
   "id": "a2bac9eb-66f2-45cc-80d5-8a01942fad2d",
   "metadata": {},
   "outputs": [
    {
     "name": "stdout",
     "output_type": "stream",
     "text": [
      "these testing gonna words \n"
     ]
    }
   ],
   "source": [
    "vector<string> words = {\"these\", \"are\", \"the\", \"words\", \"I'm\", \"gonna\", \"be\", \"testing\", \"on\"};\n",
    "auto const end_of_long_words = partition(words.begin(), words.end(), biggerThan5);\n",
    "for (auto it = words.cbegin(); it != end_of_long_words; ++it)\n",
    "    cout << *it << \" \";\n",
    "cout << endl;"
   ]
  },
  {
   "cell_type": "markdown",
   "id": "97679392-cb11-4726-a1c0-2856f76b4860",
   "metadata": {},
   "source": [
    "## EXERCISES SECTION 10.3.2"
   ]
  },
  {
   "cell_type": "markdown",
   "id": "76f10a17-0798-45a9-a0b4-49c6ef4bd692",
   "metadata": {},
   "source": [
    "### Exercise 10.14:\n",
    " Write a lambda that takes two `int`s and returns their sum."
   ]
  },
  {
   "cell_type": "code",
   "execution_count": 1,
   "id": "d1b99c02-3f65-4509-8a53-3a03166427b5",
   "metadata": {},
   "outputs": [
    {
     "data": {
      "text/plain": [
       "3"
      ]
     },
     "execution_count": 1,
     "metadata": {},
     "output_type": "execute_result"
    }
   ],
   "source": [
    "auto lambda = [](int i1, int i2) { return i1 + i2; };\n",
    "lambda(1, 2)"
   ]
  },
  {
   "cell_type": "markdown",
   "id": "9848cfca-06ea-4556-8cb8-61e63b947c3e",
   "metadata": {},
   "source": [
    "### Exercise 10.15:\n",
    " Write a lambda that captures an `int` from its enclosing function and\n",
    "takes an `int` parameter. The lambda should return the sum of the captured `int` and\n",
    "the `int` parameter."
   ]
  },
  {
   "cell_type": "code",
   "execution_count": 1,
   "id": "f947ba2f-ab6a-4e6f-baef-f436fc9a1d24",
   "metadata": {},
   "outputs": [
    {
     "data": {
      "text/plain": [
       "3"
      ]
     },
     "execution_count": 1,
     "metadata": {},
     "output_type": "execute_result"
    }
   ],
   "source": [
    "int i = 1;\n",
    "auto lambda = [&i](int i1) { return i1 + i; };\n",
    "lambda(2)"
   ]
  },
  {
   "cell_type": "markdown",
   "id": "5b6f8481-0772-401a-845e-93a71fea74be",
   "metadata": {},
   "source": [
    "### Exercise 10.16:\n",
    "Write your own version of the `biggies` function using lambdas."
   ]
  },
  {
   "cell_type": "code",
   "execution_count": 1,
   "id": "595852f0-ec66-422d-b373-b22483e223f7",
   "metadata": {},
   "outputs": [],
   "source": [
    "#include <iostream>\n",
    "using std::vector, std::string, std::for_each, std::ostream, std::cout, std::endl;"
   ]
  },
  {
   "cell_type": "code",
   "execution_count": 2,
   "id": "e9fbae13-a17e-40ae-abd9-d2bbf75b34d5",
   "metadata": {},
   "outputs": [],
   "source": [
    "std::vector<std::string> v = {\"one\", \"three\", \"two\", \"one\", \"nice\", \"two\", \"try\"};"
   ]
  },
  {
   "cell_type": "code",
   "execution_count": 3,
   "id": "a0ec1b3d-2afa-48f7-9108-afb3d1bda409",
   "metadata": {},
   "outputs": [],
   "source": [
    "void elimDups(std::vector<std::string> &words)\n",
    "{\n",
    "    std::sort(words.begin(), words.end());\n",
    "    auto end_unique = std::unique(words.begin(), words.end());\n",
    "    words.erase(end_unique, words.end());\n",
    "}"
   ]
  },
  {
   "cell_type": "code",
   "execution_count": 4,
   "id": "95dc5257-7ed9-4879-af5d-6b585dd55c8b",
   "metadata": {},
   "outputs": [],
   "source": [
    "void biggies(vector<string> &words, vector<string>::size_type sz, ostream &os = cout, char c = ' ')\n",
    "{\n",
    "    elimDups(words);\n",
    "    std::stable_sort(v.begin(), v.end(), [](const string &s1, const string &s2) { return s1.size() < s2.size(); });\n",
    "    auto wc = find_if(words.begin(), words.end(), [sz](const string &a) { return a.size() >= sz; });\n",
    "    for_each(wc, words.end(), [](const string &s){cout << s << \" \";}); cout << endl;\n",
    "}"
   ]
  },
  {
   "cell_type": "code",
   "execution_count": 5,
   "id": "cb25012b-3870-4d64-801b-b3fbcb7c8e25",
   "metadata": {},
   "outputs": [
    {
     "name": "stdout",
     "output_type": "stream",
     "text": [
      "nice three \n"
     ]
    }
   ],
   "source": [
    "biggies(v, 4)"
   ]
  },
  {
   "cell_type": "markdown",
   "id": "b6d0e0e4-273c-48e6-acce-eb560c6951a0",
   "metadata": {},
   "source": [
    "### Exercise 10.17:\n",
    " Rewrite exercise 10.12 from § 10.3.1 (p. 387) to use a lambda in the call\n",
    "to sort instead of the `compareIsbn` function."
   ]
  },
  {
   "cell_type": "code",
   "execution_count": 1,
   "id": "088e51dc-9dee-4c01-ae40-3e447169a249",
   "metadata": {},
   "outputs": [],
   "source": [
    "#include <iostream>\n",
    "#include \"ex_07_12_Sales_data.h\" // use Sales_data definition from previous chapters"
   ]
  },
  {
   "cell_type": "code",
   "execution_count": 2,
   "id": "0f536f7e-4e93-44a5-9747-a841833f833e",
   "metadata": {},
   "outputs": [],
   "source": [
    "std::vector<Sales_data> v = {Sales_data(\"0-301-81838-A\"), Sales_data(\"0-201-78345-X\"), Sales_data(\"1-201-78345-X\")};"
   ]
  },
  {
   "cell_type": "code",
   "execution_count": 3,
   "id": "85c96973-a89d-4fdb-a477-e522a3a51609",
   "metadata": {},
   "outputs": [],
   "source": [
    "std::sort(v.begin(), v.end(), [](Sales_data &sales1, Sales_data &sales2) { return sales1.isbn() < sales2.isbn(); })"
   ]
  },
  {
   "cell_type": "code",
   "execution_count": 4,
   "id": "312bbf57-53e8-4fd8-9550-755dc0ba11b9",
   "metadata": {},
   "outputs": [
    {
     "name": "stdout",
     "output_type": "stream",
     "text": [
      "0-201-78345-X\n",
      "0-301-81838-A\n",
      "1-201-78345-X\n"
     ]
    }
   ],
   "source": [
    "for (auto e : v)\n",
    "    cout << e.isbn() << endl;"
   ]
  },
  {
   "cell_type": "markdown",
   "id": "8dd1a99d-7fda-4da3-8b7b-da7564876ab0",
   "metadata": {},
   "source": [
    "### Exercise 10.18:\n",
    " Rewrite `biggies` to use partition instead of `find_if`. We described \n",
    "the partition algorithm in exercise 10.13 in § 10.3.1 (p. 387)."
   ]
  },
  {
   "cell_type": "code",
   "execution_count": 1,
   "id": "a57bf596-f0ba-4670-a49c-c86c081a1b1e",
   "metadata": {},
   "outputs": [],
   "source": [
    "#include <iostream>\n",
    "using std::vector, std::string, std::for_each, std::ostream, std::cout, std::endl;"
   ]
  },
  {
   "cell_type": "code",
   "execution_count": 2,
   "id": "b62e6f62-1c34-46bc-bed9-d12136f347d6",
   "metadata": {},
   "outputs": [],
   "source": [
    "std::vector<std::string> v = {\"one\", \"three\", \"two\", \"one\", \"nice\", \"only\", \"once\", \"two\", \"try\"};"
   ]
  },
  {
   "cell_type": "code",
   "execution_count": 3,
   "id": "901643e4-3549-4e20-8b1f-dc4bdec589b6",
   "metadata": {},
   "outputs": [],
   "source": [
    "void elimDups(std::vector<std::string> &words)\n",
    "{\n",
    "    std::sort(words.begin(), words.end());\n",
    "    auto end_unique = std::unique(words.begin(), words.end());\n",
    "    words.erase(end_unique, words.end());\n",
    "}"
   ]
  },
  {
   "cell_type": "code",
   "execution_count": 4,
   "id": "5f3ebac0-58d4-4568-ae7d-0ab5c560cbd8",
   "metadata": {},
   "outputs": [],
   "source": [
    "void biggies(vector<string> &words, vector<string>::size_type sz, ostream &os = cout, char c = ' ')\n",
    "{\n",
    "    elimDups(words);\n",
    "    std::stable_sort(v.begin(), v.end(), [](const string &s1, const string &s2) { return s1.size() < s2.size(); });\n",
    "    auto wc = partition(words.begin(), words.end(), [sz](const string &a) { return a.size() >= sz; });\n",
    "    for_each(words.begin(), wc, [](const string &s){cout << s << \" \";}); cout << endl;\n",
    "}"
   ]
  },
  {
   "cell_type": "code",
   "execution_count": 5,
   "id": "481f7821-8059-4e35-b97a-9d7da2a4271d",
   "metadata": {},
   "outputs": [
    {
     "name": "stdout",
     "output_type": "stream",
     "text": [
      "three only once nice \n"
     ]
    }
   ],
   "source": [
    "biggies(v, 4)"
   ]
  },
  {
   "cell_type": "markdown",
   "id": "44b850aa-eca6-4cd6-839d-fb6fcdcdaf4f",
   "metadata": {},
   "source": [
    "### Exercise 10.19:\n",
    " Rewrite the previous exercise to use `stable_partition`, which like\n",
    "`stable_sort` maintains the original element order in the paritioned sequence."
   ]
  },
  {
   "cell_type": "code",
   "execution_count": 1,
   "id": "d5bc3ec3-92f8-4591-bfae-f5053a0c7d9c",
   "metadata": {},
   "outputs": [],
   "source": [
    "#include <iostream>\n",
    "using std::vector, std::string, std::for_each, std::ostream, std::cout, std::endl;"
   ]
  },
  {
   "cell_type": "code",
   "execution_count": 2,
   "id": "8bbec1dd-ddde-4307-94c2-b5e55764d8c2",
   "metadata": {},
   "outputs": [],
   "source": [
    "std::vector<std::string> v = {\"one\", \"three\", \"two\", \"one\", \"nice\", \"only\", \"once\", \"two\", \"try\"};"
   ]
  },
  {
   "cell_type": "code",
   "execution_count": 3,
   "id": "6fad6b35-f74e-4b5f-a201-bd05305f902b",
   "metadata": {},
   "outputs": [],
   "source": [
    "void elimDups(std::vector<std::string> &words)\n",
    "{\n",
    "    std::sort(words.begin(), words.end());\n",
    "    auto end_unique = std::unique(words.begin(), words.end());\n",
    "    words.erase(end_unique, words.end());\n",
    "}"
   ]
  },
  {
   "cell_type": "code",
   "execution_count": 4,
   "id": "b1abf834-b0fb-49d8-a2b6-31a1250ecaff",
   "metadata": {},
   "outputs": [],
   "source": [
    "void biggies(vector<string> &words, vector<string>::size_type sz, ostream &os = cout, char c = ' ')\n",
    "{\n",
    "    elimDups(words);\n",
    "    std::stable_sort(v.begin(), v.end(), [](const string &s1, const string &s2) { return s1.size() < s2.size(); });\n",
    "    auto wc = stable_partition(words.begin(), words.end(), [sz](const string &a) { return a.size() >= sz; });\n",
    "    for_each(words.begin(), wc, [](const string &s){cout << s << \" \";}); cout << endl;\n",
    "}"
   ]
  },
  {
   "cell_type": "code",
   "execution_count": 5,
   "id": "4af09d0e-b505-43ca-b1ea-29237a715975",
   "metadata": {},
   "outputs": [
    {
     "name": "stdout",
     "output_type": "stream",
     "text": [
      "nice once only three \n"
     ]
    }
   ],
   "source": [
    "biggies(v, 4)"
   ]
  },
  {
   "cell_type": "markdown",
   "id": "d19f02ee-6f9c-478d-ab22-2c84061a9f13",
   "metadata": {},
   "source": [
    "## EXERCISES SECTION 10.3.3"
   ]
  },
  {
   "cell_type": "markdown",
   "id": "a5da7983-df60-4a80-82ca-4d9306691851",
   "metadata": {},
   "source": [
    "### Exercise 10.20:\n",
    " The library defines an algorithm named `count_if`. Like `find_if`,\n",
    "this function takes a pair of iterators denoting an input range and a predicate that it\n",
    "applies to each element in the given range. `count_if` returns a count of how often the\n",
    "predicate is `true`. Use `count_if` to rewrite the portion of our program that counted\n",
    "how many words are greater than length `6`."
   ]
  },
  {
   "cell_type": "code",
   "execution_count": 1,
   "id": "18e6bae8-b688-4909-8bdb-a6f3ef6ef8ea",
   "metadata": {},
   "outputs": [],
   "source": [
    "#include <iostream>\n",
    "using std::vector, std::string, std::for_each, std::ostream, std::cout, std::endl;"
   ]
  },
  {
   "cell_type": "code",
   "execution_count": 2,
   "id": "840a32cf-313e-4304-acdf-1a9a889aeb2f",
   "metadata": {},
   "outputs": [],
   "source": [
    "std::vector<std::string> v = {\"surprisingly\", \"overly\", \"outsized\", \"words\", \"are\", \"implemented\", \"here\"};"
   ]
  },
  {
   "cell_type": "code",
   "execution_count": 3,
   "id": "6e1bd30a-9636-4a2a-b6ed-2d808b52ee4f",
   "metadata": {},
   "outputs": [],
   "source": [
    "void elimDups(std::vector<std::string> &words)\n",
    "{\n",
    "    sort(words.begin(), words.end());\n",
    "    auto end_unique = unique(words.begin(), words.end());\n",
    "    words.erase(end_unique, words.end());\n",
    "}"
   ]
  },
  {
   "cell_type": "code",
   "execution_count": 4,
   "id": "6ddb1c1a-3b32-47fc-8d49-ca41fe2fd030",
   "metadata": {},
   "outputs": [],
   "source": [
    "void biggies(vector<string> &words, vector<string>::size_type sz, ostream &os = cout, char c = ' ')\n",
    "{\n",
    "    elimDups(words);\n",
    "    stable_sort(v.begin(), v.end(), [](const string &s1, const string &s2) { return s1.size() > s2.size(); });\n",
    "    auto wc = find_if(words.begin(), words.end(), [sz](const string &a) { return a.size() >= sz; });\n",
    "    auto count = count_if(words.begin(), words.end(), [sz](const string &a) { return a.size() >= sz; });\n",
    "    cout << count << \" \" << ((count > 1) ? \"words\" : \"word\") << \" of length \" << sz << \" or longer\" << endl;\n",
    "    for_each(wc, words.end(), [](const string &s){cout << s << \" \";}); cout << endl;\n",
    "}"
   ]
  },
  {
   "cell_type": "code",
   "execution_count": 5,
   "id": "4582f381-f4d4-415b-ba23-066e1da33577",
   "metadata": {},
   "outputs": [
    {
     "name": "stdout",
     "output_type": "stream",
     "text": [
      "4 words of length 6 or longer\n",
      "surprisingly implemented outsized overly words here are \n"
     ]
    }
   ],
   "source": [
    "biggies(v, 6)"
   ]
  },
  {
   "cell_type": "markdown",
   "id": "643dd1c4-b05f-400b-81ae-fff7d8a55802",
   "metadata": {},
   "source": [
    "### Exercise 10.21:\n",
    " Write a lambda that captures a local `int` variable and decrements that\n",
    "variable until it reaches `0`. Once the variable is `0` additional calls should no longer\n",
    "decrement the variable. The lambda should return a `bool` that indicates whether the\n",
    "captured variable is `0`.\n"
   ]
  },
  {
   "cell_type": "code",
   "execution_count": 1,
   "id": "3ea4f709-2c01-4e9b-af58-46abd76e7395",
   "metadata": {},
   "outputs": [
    {
     "name": "stdout",
     "output_type": "stream",
     "text": [
      "5\n",
      "variable is not 0\n",
      "4\n",
      "variable is not 0\n",
      "3\n",
      "variable is not 0\n",
      "2\n",
      "variable is not 0\n",
      "1\n",
      "variable is not 0\n",
      "0\n",
      "variable is  0\n",
      "0\n",
      "variable is  0\n",
      "0\n",
      "variable is  0\n",
      "0\n",
      "variable is  0\n",
      "0\n",
      "variable is  0\n"
     ]
    }
   ],
   "source": [
    "#include <iostream>\n",
    "\n",
    "int i = 5;\n",
    "for (int j = 0; j < 10; ++j)\n",
    "{\n",
    "    std::cout << i << std::endl;\n",
    "    std::cout << \"variable is \" << (([&i] () -> bool { if (i == 0) return true; else {--i; return false;} })() ? \"\" : \"not\") << \" 0\" << std::endl;\n",
    "}"
   ]
  },
  {
   "cell_type": "markdown",
   "id": "854e9116-3dc4-412b-bd6d-9573b50b9ded",
   "metadata": {},
   "source": [
    "## EXERCISES SECTION 10.3.4"
   ]
  },
  {
   "cell_type": "markdown",
   "id": "cea2cbc7-a928-43c6-9b1c-15e8d4edd981",
   "metadata": {},
   "source": [
    "### Exercise 10.22:\n",
    " Rewrite the program to count words of size `6` or less using functions\n",
    "in place of the lambdas."
   ]
  },
  {
   "cell_type": "code",
   "execution_count": 1,
   "id": "b0a1404d-8dff-4cbf-b096-c78ce7046752",
   "metadata": {},
   "outputs": [],
   "source": [
    "#include <iostream>\n",
    "using std::vector, std::string, std::for_each, std::ostream, std::cout, std::endl;"
   ]
  },
  {
   "cell_type": "code",
   "execution_count": 2,
   "id": "c632296f-27d8-4c29-bca2-173893ed03e7",
   "metadata": {},
   "outputs": [],
   "source": [
    "std::vector<std::string> v = {\"surprisingly\", \"overly\", \"outsized\", \"words\", \"are\", \"implemented\", \"here\"};"
   ]
  },
  {
   "cell_type": "code",
   "execution_count": 3,
   "id": "f2436b09-867f-4fe7-a02d-333021e59f77",
   "metadata": {},
   "outputs": [],
   "source": [
    "void elimDups(std::vector<std::string> &words)\n",
    "{\n",
    "    sort(words.begin(), words.end());\n",
    "    auto end_unique = unique(words.begin(), words.end());\n",
    "    words.erase(end_unique, words.end());\n",
    "}"
   ]
  },
  {
   "cell_type": "code",
   "execution_count": 4,
   "id": "b397106e-e120-4413-bb45-f84e9b4fcfdc",
   "metadata": {},
   "outputs": [],
   "source": [
    "bool shorter(const string &s1, const string &s2) { return s1.size() > s2.size(); }"
   ]
  },
  {
   "cell_type": "code",
   "execution_count": 5,
   "id": "a25a28eb-e54c-474b-934f-f6eece5be2d2",
   "metadata": {},
   "outputs": [],
   "source": [
    "bool isShorterThan(const string &a, vector<string>::size_type sz) { return a.size() <= sz; }"
   ]
  },
  {
   "cell_type": "code",
   "execution_count": 6,
   "id": "01a0408e-c1ed-42c4-8cae-3b5b4fa0b295",
   "metadata": {},
   "outputs": [],
   "source": [
    "void printWords(const string &s) {cout << s << \" \";}"
   ]
  },
  {
   "cell_type": "code",
   "execution_count": 7,
   "id": "3018dd95-40a1-4c7c-a173-63a07b05d153",
   "metadata": {},
   "outputs": [],
   "source": [
    "void biggies(vector<string> &words, vector<string>::size_type sz, ostream &os = cout, char c = ' ')\n",
    "{\n",
    "    elimDups(words);\n",
    "    stable_sort(v.begin(), v.end(), shorter);\n",
    "    auto isShorterThanSize = bind(isShorterThan, std::placeholders::_1, sz);\n",
    "    auto wc = find_if(words.begin(), words.end(), isShorterThanSize);\n",
    "    auto count = count_if(words.begin(), words.end(), isShorterThanSize);\n",
    "    cout << count << \" \" << ((count > 1) ? \"words\" : \"word\") << \" of length \" << sz << \" or shorter\" << endl;\n",
    "    for_each(wc, words.end(), printWords);\n",
    "    cout << endl;\n",
    "}"
   ]
  },
  {
   "cell_type": "code",
   "execution_count": 8,
   "id": "8db0a32f-92d9-4b18-9088-8a285efff509",
   "metadata": {},
   "outputs": [
    {
     "name": "stdout",
     "output_type": "stream",
     "text": [
      "4 words of length 6 or shorter\n",
      "overly words here are \n"
     ]
    }
   ],
   "source": [
    "biggies(v, 6)"
   ]
  },
  {
   "cell_type": "markdown",
   "id": "e011cf05-c2a2-478c-abdc-43f405e885f0",
   "metadata": {},
   "source": [
    "### Exercise 10.23:\n",
    " How many arguments does `bind` take?"
   ]
  },
  {
   "cell_type": "markdown",
   "id": "9751f653-13e1-4b77-8adf-6113ff7281be",
   "metadata": {},
   "source": [
    "A:\n",
    "\n",
    "`n + 1`, where `n` is a number of arguments that the first parameter (a callable object) takes"
   ]
  },
  {
   "cell_type": "markdown",
   "id": "7bf26bd8-d97f-4ce5-9484-06c8fa33c55f",
   "metadata": {},
   "source": [
    "### Exercise 10.24:\n",
    " Use `bind` and `check_size` to find the first element in a `vector` of\n",
    "`int`s that has a value greater than the length of a specified `string` value."
   ]
  },
  {
   "cell_type": "code",
   "execution_count": 1,
   "id": "37591459-f103-4001-84b4-98093dfc43f7",
   "metadata": {},
   "outputs": [],
   "source": [
    "using std::vector, std::string;"
   ]
  },
  {
   "cell_type": "code",
   "execution_count": 2,
   "id": "681e75ef-388e-4be9-8536-26da80593355",
   "metadata": {},
   "outputs": [],
   "source": [
    "vector<int> v = {1, 10, 2, 20, 3, 30};\n",
    "string s = \"wyrewolerowany\";"
   ]
  },
  {
   "cell_type": "code",
   "execution_count": 3,
   "id": "25da0e17-a341-485a-af69-4b699313262f",
   "metadata": {},
   "outputs": [],
   "source": [
    "bool check_size(const string &s, string::size_type sz) { return s.size() < sz; }"
   ]
  },
  {
   "cell_type": "code",
   "execution_count": 4,
   "id": "b75a3c07-4e67-4e7e-8f32-2b9418b8c6f6",
   "metadata": {},
   "outputs": [],
   "source": [
    "auto check = std::bind(check_size, s, std::placeholders::_1);\n",
    "auto it = std::find_if(v.cbegin(), v.cend(), check);"
   ]
  },
  {
   "cell_type": "code",
   "execution_count": 5,
   "id": "b34f225a-fedd-4ad1-a437-0b938c18220b",
   "metadata": {},
   "outputs": [
    {
     "data": {
      "text/plain": [
       "20"
      ]
     },
     "execution_count": 5,
     "metadata": {},
     "output_type": "execute_result"
    }
   ],
   "source": [
    "*it"
   ]
  },
  {
   "cell_type": "markdown",
   "id": "15770ff4-cf3c-41ee-ba5e-440e662e794c",
   "metadata": {},
   "source": [
    "### Exercise 10.25:\n",
    " In the exercises for § 10.3.2 (p. 392) you wrote a version of `biggies`\n",
    "that uses partition. Rewrite that function to use `check_size` and `bind`."
   ]
  },
  {
   "cell_type": "code",
   "execution_count": 1,
   "id": "f88e6e9a-56d3-4cee-9c2d-972dfc1bfff2",
   "metadata": {},
   "outputs": [],
   "source": [
    "#include <iostream>\n",
    "using std::vector, std::string, std::for_each, std::ostream, std::cout, std::endl;"
   ]
  },
  {
   "cell_type": "code",
   "execution_count": 2,
   "id": "e4bb023a-9d91-483d-b599-40cf7f16c495",
   "metadata": {},
   "outputs": [],
   "source": [
    "std::vector<std::string> v = {\"one\", \"three\", \"two\", \"one\", \"nice\", \"only\", \"once\", \"two\", \"try\"};"
   ]
  },
  {
   "cell_type": "code",
   "execution_count": 3,
   "id": "cd845b29-8515-4c1c-9452-334e4be30aee",
   "metadata": {},
   "outputs": [],
   "source": [
    "bool check_size(const string &s, string::size_type sz) { return s.size() >= sz; }"
   ]
  },
  {
   "cell_type": "code",
   "execution_count": 4,
   "id": "648ad3f2-40da-4107-9f94-872a7adf0fa3",
   "metadata": {},
   "outputs": [],
   "source": [
    "void elimDups(std::vector<std::string> &words)\n",
    "{\n",
    "    sort(words.begin(), words.end());\n",
    "    auto end_unique = std::unique(words.begin(), words.end());\n",
    "    words.erase(end_unique, words.end());\n",
    "}"
   ]
  },
  {
   "cell_type": "code",
   "execution_count": 5,
   "id": "461c3473-bad4-43b9-8f0a-41aa9990dbad",
   "metadata": {},
   "outputs": [],
   "source": [
    "void biggies(vector<string> &words, vector<string>::size_type sz, ostream &os = cout, char c = ' ')\n",
    "{\n",
    "    elimDups(words);\n",
    "    stable_sort(v.begin(), v.end(), [](const string &s1, const string &s2) { return s1.size() < s2.size(); });\n",
    "    auto check = std::bind(check_size, std::placeholders::_1, sz);\n",
    "    auto wc = stable_partition(words.begin(), words.end(), check);\n",
    "    for_each(words.begin(), wc, [](const string &s){cout << s << \" \";}); cout << endl;\n",
    "}"
   ]
  },
  {
   "cell_type": "code",
   "execution_count": 6,
   "id": "be9ce9bd-7be5-4ccc-894d-2d0e004628af",
   "metadata": {},
   "outputs": [
    {
     "name": "stdout",
     "output_type": "stream",
     "text": [
      "nice once only three \n"
     ]
    }
   ],
   "source": [
    "biggies(v, 4)"
   ]
  },
  {
   "cell_type": "markdown",
   "id": "67627642-69da-45a4-9b55-5faf99d37389",
   "metadata": {},
   "source": [
    "## EXERCISES SECTION 10.4.1"
   ]
  },
  {
   "cell_type": "markdown",
   "id": "82b782d1-09cf-4679-8462-4a4b622e0722",
   "metadata": {},
   "source": [
    "### Exercise 10.26:\n",
    " Explain the differences among the three kinds of insert iterators."
   ]
  },
  {
   "cell_type": "markdown",
   "id": "7fcecc82-d5e1-492c-ab9a-85f5fb2251d2",
   "metadata": {},
   "source": [
    "A:\n",
    "\n",
    "`inserter` uses container's `insert` member, takes two arguments (container and iterator)  \n",
    "`back_inserter` uses container's `push_back` member, takes single argument (iterator)  \n",
    "`front_inserter` uses container's `push_front` member, takes single argument (iterator)"
   ]
  },
  {
   "cell_type": "markdown",
   "id": "40c7c04e-e680-45e3-b8ee-ae6ad6ffe0df",
   "metadata": {},
   "source": [
    "### Exercise 10.27:\n",
    " In addition to `unique` (§ 10.2.3, p. 384), the library defines function\n",
    "named `unique_copy` that takes a third iterator denoting a destination into which\n",
    "to copy the unique elements. Write a program that uses `unique_copy` to copy the\n",
    "unique elements from a `vector` into an initially empty `list`."
   ]
  },
  {
   "cell_type": "code",
   "execution_count": 1,
   "id": "3c9dc5e9-56ba-473d-812c-11324da1f4b8",
   "metadata": {},
   "outputs": [],
   "source": [
    "using std::vector, std::list;"
   ]
  },
  {
   "cell_type": "code",
   "execution_count": 2,
   "id": "91907c74-d4cb-4bd5-b82b-cc6dbb992413",
   "metadata": {},
   "outputs": [],
   "source": [
    "std::vector<int> v = {1, 2, 3, 1, 2, 3, 4, 1, 5, 8};\n",
    "std::list<int> l;"
   ]
  },
  {
   "cell_type": "code",
   "execution_count": 3,
   "id": "c2041197-5e37-4398-8c28-03886c6b9e70",
   "metadata": {},
   "outputs": [],
   "source": [
    "sort(v.begin(), v.end());\n",
    "unique_copy(v.cbegin(), v.cend(), back_inserter(l));"
   ]
  },
  {
   "cell_type": "code",
   "execution_count": 4,
   "id": "3e128e38-ee5c-484d-954f-6ed3be8f0263",
   "metadata": {},
   "outputs": [
    {
     "data": {
      "text/plain": [
       "{ 1, 2, 3, 4, 5, 8 }"
      ]
     },
     "execution_count": 4,
     "metadata": {},
     "output_type": "execute_result"
    }
   ],
   "source": [
    "l"
   ]
  },
  {
   "cell_type": "markdown",
   "id": "210583d9-9102-4399-85ab-854f97cca148",
   "metadata": {},
   "source": [
    "### Exercise 10.28:\n",
    " Copy a `vector` that holds the values from `1` to `9` inclusive, into three\n",
    "other containers. Use an `inserter`, a `back_inserter`, and a `front_inserter`,\n",
    "respectively to add elements to these containers. Predict how the output sequence varies\n",
    "by the kind of inserter and verify your predictions by running your programs."
   ]
  },
  {
   "cell_type": "code",
   "execution_count": 1,
   "id": "cab6510a-a6a5-4740-b677-da81387c56cb",
   "metadata": {},
   "outputs": [],
   "source": [
    "using std::vector, std::deque;"
   ]
  },
  {
   "cell_type": "code",
   "execution_count": 2,
   "id": "0257ec7f-abb4-4642-898f-970aba08e261",
   "metadata": {},
   "outputs": [],
   "source": [
    "vector<int> v = {1, 2, 3, 4, 5, 6, 7, 8, 9};\n",
    "vector<int> v2, v3;\n",
    "deque<int> d;"
   ]
  },
  {
   "cell_type": "code",
   "execution_count": 3,
   "id": "336154b3-8245-4e04-87fc-727f9a4c9b7d",
   "metadata": {},
   "outputs": [
    {
     "data": {
      "text/plain": [
       "{ 1, 2, 3, 4, 5, 6, 7, 8, 9 }"
      ]
     },
     "execution_count": 3,
     "metadata": {},
     "output_type": "execute_result"
    }
   ],
   "source": [
    "// back_inserter will put the elements in the same order as they are originally\n",
    "copy(v.cbegin(), v.cend(), back_inserter(v2));\n",
    "v2"
   ]
  },
  {
   "cell_type": "code",
   "execution_count": 4,
   "id": "0ee07c87-7cdd-4484-9979-7895d310787d",
   "metadata": {},
   "outputs": [
    {
     "data": {
      "text/plain": [
       "{ 9, 8, 7, 6, 5, 4, 3, 2, 1 }"
      ]
     },
     "execution_count": 4,
     "metadata": {},
     "output_type": "execute_result"
    }
   ],
   "source": [
    "// back_inserter will put the elements in reverse order, as it will put them in the front one by one\n",
    "// we also need to use deque, not vector, as vector doesn't have `push_front` member\n",
    "copy(v.cbegin(), v.cend(), front_inserter(d));\n",
    "d"
   ]
  },
  {
   "cell_type": "code",
   "execution_count": 5,
   "id": "3a7d6a2b-a632-4016-aea5-d0a9ccf876bf",
   "metadata": {},
   "outputs": [
    {
     "data": {
      "text/plain": [
       "{ 1, 2, 3, 4, 5, 6, 7, 8, 9 }"
      ]
     },
     "execution_count": 5,
     "metadata": {},
     "output_type": "execute_result"
    }
   ],
   "source": [
    "// inserter will put the elements in original order, as `insert` member returns iterator one past inserted element\n",
    "copy(v.cbegin(), v.cend(), inserter(v3, v3.begin()));\n",
    "v3"
   ]
  },
  {
   "cell_type": "markdown",
   "id": "09adab15-2634-46c4-a0d2-4a5c03ea942e",
   "metadata": {},
   "source": [
    "## EXERCISES SECTION 10.4.2"
   ]
  },
  {
   "cell_type": "markdown",
   "id": "a0302862-edb8-48fe-9cfb-495d3469776a",
   "metadata": {},
   "source": [
    "### Exercise 10.29:\n",
    " Write a program using stream iterators to read a text file into a `vector`\n",
    "of `string`s."
   ]
  },
  {
   "cell_type": "code",
   "execution_count": 1,
   "id": "2494d9da-1565-44ec-8725-c2c0113ae50a",
   "metadata": {},
   "outputs": [],
   "source": [
    "! echo \"test text file\" > tmp.txt"
   ]
  },
  {
   "cell_type": "code",
   "execution_count": 2,
   "id": "24e3ff6b-3acb-44ef-88b1-8acd424ba5a2",
   "metadata": {},
   "outputs": [],
   "source": [
    "#include <fstream>\n",
    "using std::vector, std::string;"
   ]
  },
  {
   "cell_type": "code",
   "execution_count": 3,
   "id": "63c19aa6-52d1-4e55-8e6c-748157d62718",
   "metadata": {},
   "outputs": [],
   "source": [
    "vector<string> v;\n",
    "std::ifstream in(\"tmp.txt\");\n",
    "std::istream_iterator<string> str_it(in), eof;\n",
    "\n",
    "while (str_it != eof)\n",
    "    v.push_back(*str_it++);"
   ]
  },
  {
   "cell_type": "code",
   "execution_count": 4,
   "id": "f2f1254e-eb85-4998-8d38-445f92c39055",
   "metadata": {},
   "outputs": [
    {
     "data": {
      "text/plain": [
       "{ \"test\", \"text\", \"file\" }"
      ]
     },
     "execution_count": 4,
     "metadata": {},
     "output_type": "execute_result"
    }
   ],
   "source": [
    "v"
   ]
  },
  {
   "cell_type": "code",
   "execution_count": 5,
   "id": "249cafb6-0e13-494a-a0a3-3ad22801815f",
   "metadata": {},
   "outputs": [],
   "source": [
    "! rm tmp.txt"
   ]
  },
  {
   "cell_type": "markdown",
   "id": "cea2246d-68ea-4528-8a15-bbb95afe9969",
   "metadata": {
    "tags": []
   },
   "source": [
    "### Exercise 10.30:\n",
    " Use stream iterators, `sort`, and `copy` to read a sequence of integers\n",
    "from the standard input, sort them, and then write them back to the standard output."
   ]
  },
  {
   "cell_type": "code",
   "execution_count": 1,
   "id": "72cd9462-6d30-41c9-a1ed-76da4f1f12da",
   "metadata": {},
   "outputs": [
    {
     "name": "stdout",
     "output_type": "stream",
     "text": [
      "1 1 2 2 3 4 5 "
     ]
    }
   ],
   "source": [
    "#include <iostream>\n",
    "// because of xeus-cling limitations (no way to pass end-of-file) we'll use istringstream instead of standard input\n",
    "std::istringstream ss(\"1 2 3 2 4 1 5\");\n",
    "std::vector<int> v;\n",
    "std::istream_iterator<int> in_iter(ss), eof;\n",
    "\n",
    "copy(in_iter, eof, back_inserter(v));\n",
    "sort(v.begin(), v.end());\n",
    "copy(v.begin(), v.end(), std::ostream_iterator<int>(std::cout, \" \"));"
   ]
  },
  {
   "cell_type": "markdown",
   "id": "2c2ba331-e297-4226-9e90-96cb017d2507",
   "metadata": {},
   "source": [
    "### Exercise 10.31:\n",
    " Update the program from the previous exercise so that it prints only\n",
    "the unique elements. Your program should use `unique_copy` (§ 10.4.1, p. 403)."
   ]
  },
  {
   "cell_type": "code",
   "execution_count": 1,
   "id": "2817648d-38c8-4ab9-98d9-23a823fe7345",
   "metadata": {},
   "outputs": [
    {
     "name": "stdout",
     "output_type": "stream",
     "text": [
      "1 2 3 4 5 "
     ]
    }
   ],
   "source": [
    "#include <iostream>\n",
    "// because of xeus-cling limitations (no way to pass end-of-file) we'll use istringstream instead of standard input\n",
    "std::istringstream ss(\"1 2 3 2 4 1 5\");\n",
    "std::vector<int> v;\n",
    "std::istream_iterator<int> in_iter(ss), eof;\n",
    "\n",
    "copy(in_iter, eof, back_inserter(v));\n",
    "sort(v.begin(), v.end());\n",
    "unique_copy(v.begin(), v.end(), std::ostream_iterator<int>(std::cout, \" \"));"
   ]
  },
  {
   "cell_type": "markdown",
   "id": "f4301451-39ce-41ef-a334-b7c8ed504f8f",
   "metadata": {},
   "source": [
    "### Exercise 10.32:\n",
    " Rewrite the bookstore problem from § 1.6 (p. 24) using a `vector` to\n",
    "hold the transactions and various algorithms to do the processing. Use `sort` with\n",
    "your `compareIsbn` function from § 10.3.1 (p. 387) to arrange the transactions in order,\n",
    "and then use `find` and `accumulate` to do the sum."
   ]
  },
  {
   "cell_type": "code",
   "execution_count": 1,
   "id": "e445b2f1-b5d4-47c7-aad0-d83ea3157615",
   "metadata": {},
   "outputs": [],
   "source": [
    "#include <iostream>\n",
    "#include \"Sales_item.h\"\n",
    "using std::vector, std::cout, std::endl;"
   ]
  },
  {
   "cell_type": "code",
   "execution_count": 2,
   "id": "2b83c3ec-3f05-4b30-86e0-9fee408f8e31",
   "metadata": {},
   "outputs": [],
   "source": [
    "// compareIsbn is already defined in Sales_item.h, so need to use different name"
   ]
  },
  {
   "cell_type": "code",
   "execution_count": 3,
   "id": "dd3da914-6bd2-4ef3-a044-3602e65109e3",
   "metadata": {},
   "outputs": [],
   "source": [
    "bool compareIsbns(Sales_item &sales1, Sales_item &sales2) { return sales1.isbn() < sales2.isbn(); }"
   ]
  },
  {
   "cell_type": "code",
   "execution_count": 4,
   "id": "21441042-5b6b-4413-ad57-4f20d01a4069",
   "metadata": {},
   "outputs": [],
   "source": [
    "std::istringstream ss(\"0-201-78345-X 3 20.00  0-301-81838-A 2 25.00  0-201-78345-X 2 25.00  1-201-78345-X 8 11.00  0-301-81838-A 2 25.00\");"
   ]
  },
  {
   "cell_type": "code",
   "execution_count": 5,
   "id": "7e007fe9-989e-4018-a43c-ab7bc3c01ab8",
   "metadata": {},
   "outputs": [
    {
     "name": "stdout",
     "output_type": "stream",
     "text": [
      "0-201-78345-X 5 110 22\n",
      "0-301-81838-A 4 100 25\n",
      "1-201-78345-X 8 88 11\n"
     ]
    }
   ],
   "source": [
    "vector<Sales_item> vs;\n",
    "std::istream_iterator<Sales_item> in_iter(ss), eof;\n",
    "copy(in_iter, eof, back_inserter(vs));\n",
    "\n",
    "sort(vs.begin(), vs.end(), compareIsbns);\n",
    "\n",
    "for (auto it = vs.cbegin(); it != vs.cend();)\n",
    "{\n",
    "    auto end = find_if(it, vs.cend(), [it](const Sales_item &item){ return it->isbn() != item.isbn(); });\n",
    "    cout << accumulate(it, end, Sales_item(it->isbn())) << endl;\n",
    "    it = end;\n",
    "}"
   ]
  },
  {
   "cell_type": "markdown",
   "id": "e0a87f36-93a0-496b-8a27-81b11644eceb",
   "metadata": {},
   "source": [
    "### Exercise 10.33:\n",
    " Write a program that takes the names of an input file and two output\n",
    "files. The input file should hold integers. Using an `istream_iterator` read the\n",
    "input file. Using `ostream_iterators`, write the odd numbers into the first output\n",
    "file. Each value should be followed by a space. Write the even numbers into the second\n",
    "file. Each of these values should be placed on a separate line."
   ]
  },
  {
   "cell_type": "code",
   "execution_count": 1,
   "id": "6d4ec386-e389-42e6-8c63-5fdfc9090416",
   "metadata": {},
   "outputs": [],
   "source": [
    "! echo \"1203 12 312 3712371 12893 7102 013910 192 3710 321792 371\" > tmp.txt"
   ]
  },
  {
   "cell_type": "code",
   "execution_count": 2,
   "id": "4e5bd89e-e357-41ba-ab5c-542487e74bb4",
   "metadata": {},
   "outputs": [],
   "source": [
    "#include <fstream>\n",
    "using std::string;"
   ]
  },
  {
   "cell_type": "code",
   "execution_count": 3,
   "id": "e309758e-bc54-4e9f-8d31-d38f030dd2e4",
   "metadata": {},
   "outputs": [],
   "source": [
    "string inputFilename = \"tmp.txt\";\n",
    "string outputFilename1 = \"odd.txt\";\n",
    "string outputFilename2 = \"even.txt\";"
   ]
  },
  {
   "cell_type": "code",
   "execution_count": 4,
   "id": "3466e3b8-c088-45e9-b846-f6daf2a3a9bb",
   "metadata": {},
   "outputs": [],
   "source": [
    "std::ifstream in(inputFilename);\n",
    "std::ofstream out_odd(outputFilename1), out_even(outputFilename2);\n",
    "std::ostream_iterator<int> out_it_odd(out_odd, \" \"), out_it_even(out_even, \"\\n\");\n",
    "for (std::istream_iterator<int> in_it(in), eof; in_it != eof; ++in_it)\n",
    "    if (*in_it % 2)\n",
    "        out_it_odd = *in_it;\n",
    "    else\n",
    "        out_it_even = *in_it;\n",
    "\n",
    "out_odd.close();\n",
    "out_even.close();"
   ]
  },
  {
   "cell_type": "code",
   "execution_count": 5,
   "id": "ebed043c-3011-43c8-8839-f080d0ad9e16",
   "metadata": {},
   "outputs": [
    {
     "name": "stdout",
     "output_type": "stream",
     "text": [
      "1203 3712371 12893 371 "
     ]
    }
   ],
   "source": [
    "! cat odd.txt"
   ]
  },
  {
   "cell_type": "code",
   "execution_count": 6,
   "id": "1f708217-ac1e-428d-80ca-06cb2c2702b4",
   "metadata": {},
   "outputs": [
    {
     "name": "stdout",
     "output_type": "stream",
     "text": [
      "12\n",
      "312\n",
      "7102\n",
      "13910\n",
      "192\n",
      "3710\n",
      "321792\n"
     ]
    }
   ],
   "source": [
    "! cat even.txt"
   ]
  },
  {
   "cell_type": "code",
   "execution_count": 7,
   "id": "64353d3c-e09c-4c2a-99e3-61b4e24993ce",
   "metadata": {},
   "outputs": [],
   "source": [
    "! rm tmp.txt; rm odd.txt; rm even.txt"
   ]
  },
  {
   "cell_type": "markdown",
   "id": "c6975b5b-26f3-42ca-96b3-5844725206f5",
   "metadata": {},
   "source": [
    "## EXERCISES SECTION 10.4.3"
   ]
  },
  {
   "cell_type": "markdown",
   "id": "8aa32154-6b7d-4927-a717-74680f51f938",
   "metadata": {},
   "source": [
    "### Exercise 10.34:\n",
    " Use `reverse_iterators` to print a `vector` in reverse order."
   ]
  },
  {
   "cell_type": "code",
   "execution_count": 1,
   "id": "033351fb-fcb8-4aee-8355-7bd4ffef42b9",
   "metadata": {},
   "outputs": [
    {
     "name": "stdout",
     "output_type": "stream",
     "text": [
      "9 8 7 6 5 4 3 2 1 \n"
     ]
    }
   ],
   "source": [
    "#include <iostream>\n",
    "using std::vector, std::cout, std::endl;\n",
    "vector<int> v = {1, 2, 3, 4, 5, 6, 7, 8, 9};\n",
    "for (auto it = v.crbegin(); it != v.crend(); ++it)\n",
    "    cout << *it << \" \";\n",
    "cout << endl;"
   ]
  },
  {
   "cell_type": "markdown",
   "id": "1f3abb2a-2761-4c79-830b-dc2fbd5652b8",
   "metadata": {},
   "source": [
    "### Exercise 10.35:\n",
    " Now print the elements in reverse order using ordinary iterators."
   ]
  },
  {
   "cell_type": "code",
   "execution_count": 1,
   "id": "de7e0cb6-0e01-46a1-ba63-06272b21375c",
   "metadata": {},
   "outputs": [
    {
     "name": "stdout",
     "output_type": "stream",
     "text": [
      "0 9 8 7 6 5 4 3 2 \n"
     ]
    }
   ],
   "source": [
    "#include <iostream>\n",
    "using std::vector, std::cout, std::endl;\n",
    "vector<int> v = {1, 2, 3, 4, 5, 6, 7, 8, 9};\n",
    "for (auto it = v.cend(); it != v.cbegin(); --it)\n",
    "    cout << *it << \" \";\n",
    "cout << endl;"
   ]
  },
  {
   "cell_type": "markdown",
   "id": "94bbca4e-6b7c-41d2-a94c-f6df79d996f8",
   "metadata": {},
   "source": [
    "### Exercise 10.36:\n",
    " Use `find` to find the last element in a `list` of `int`s with value `0`."
   ]
  },
  {
   "cell_type": "code",
   "execution_count": 1,
   "id": "93cf9de5-a4d6-4fb1-bc49-4c3cdc3594e5",
   "metadata": {},
   "outputs": [],
   "source": [
    "#include <iostream>\n",
    "using std::list, std::cout, std::endl;\n",
    "list<int> l = {1, 2, 3, 4, 0, 5, 6, 0, 7, 8, 0, 9};\n",
    "auto it = find(l.crbegin(), l.crend(), 0)"
   ]
  },
  {
   "cell_type": "code",
   "execution_count": 2,
   "id": "e7ebaded-f486-4e4d-b4d2-4798765fae62",
   "metadata": {},
   "outputs": [
    {
     "data": {
      "text/plain": [
       "0"
      ]
     },
     "execution_count": 2,
     "metadata": {},
     "output_type": "execute_result"
    }
   ],
   "source": [
    "*it"
   ]
  },
  {
   "cell_type": "code",
   "execution_count": 3,
   "id": "ded516ce-db4f-4606-86fd-5601754901fd",
   "metadata": {},
   "outputs": [
    {
     "data": {
      "text/plain": [
       "8"
      ]
     },
     "execution_count": 3,
     "metadata": {},
     "output_type": "execute_result"
    }
   ],
   "source": [
    "*++it"
   ]
  },
  {
   "cell_type": "markdown",
   "id": "5bc172bb-e975-47d8-b1c4-ef1b4ae25b80",
   "metadata": {},
   "source": [
    "### Exercise 10.37:\n",
    " Given a `vector` that has ten elements, copy the elements from positions `3` through `7` in reverse order to a `list`."
   ]
  },
  {
   "cell_type": "code",
   "execution_count": 1,
   "id": "11560eee-d158-4df4-ad8e-f59bf717d933",
   "metadata": {},
   "outputs": [
    {
     "data": {
      "text/plain": [
       "{ 7, 6, 5, 4, 3 }"
      ]
     },
     "execution_count": 1,
     "metadata": {},
     "output_type": "execute_result"
    }
   ],
   "source": [
    "#include <iostream>\n",
    "using std::vector, std::cout, std::endl, std::list;\n",
    "vector<int> v = {1, 2, 3, 4, 5, 6, 7, 8, 9, 10};\n",
    "list<int> l;\n",
    "copy(v.crbegin() + (10 - 7), v.crbegin() + (10 - 3 + 1), back_inserter(l));\n",
    "l"
   ]
  },
  {
   "cell_type": "markdown",
   "id": "2760202c-28c2-47d3-90a7-2d1990c16e8b",
   "metadata": {},
   "source": [
    "## EXERCISES SECTION 10.5.1"
   ]
  },
  {
   "cell_type": "markdown",
   "id": "3ea79d20-8ec3-4e00-9bb5-904ee38fdc83",
   "metadata": {},
   "source": [
    "### Exercise 10.38:\n",
    " List the five iterator categories and the operations that each supports."
   ]
  },
  {
   "cell_type": "markdown",
   "id": "060d9755-047f-46d3-ad54-9df3795925cc",
   "metadata": {},
   "source": [
    "A:\n",
    "\n",
    "Input iterator - `==`, `!=`, `++`, `*`(dereference for reading), `->`  \n",
    "Output iterator - `++`, `*`(dereference for writing)  \n",
    "Forward iterator - `==`, `!=`, `++`, `*`(dereference for reading and writing), `->`  \n",
    "Bidirectional iterator - `==`, `!=`, `++`, `*`(dereference for reading and writing), `->`, `--`  \n",
    "Random-access iterator - `==`, `!=`, `++`, `*`(dereference for reading and writing), `->`, `--`, `<`, `<=`, `>`, `>=`, `+`, `+=`, `-`(for moving), `-=`, `-`(for difference between iterators), `iter[n]`(subscript)"
   ]
  },
  {
   "cell_type": "markdown",
   "id": "1b462b84-d7a1-453b-b4a5-d48c4b972b35",
   "metadata": {},
   "source": [
    "### Exercise 10.39:\n",
    " What kind of iterator does a `list` have? What about a `vector`?"
   ]
  },
  {
   "cell_type": "markdown",
   "id": "54a219b4-d7df-4a02-bf06-892dd8a692d6",
   "metadata": {},
   "source": [
    "A:\n",
    "\n",
    "`list` has a bidirectional iterator  \n",
    "`vector` has a random-access iterator"
   ]
  },
  {
   "cell_type": "markdown",
   "id": "808cded2-a66d-4e77-882c-b37333f41ca9",
   "metadata": {},
   "source": [
    "### Exercise 10.40:\n",
    " What kinds of iterators do you think `copy` requires?\n",
    "What about `reverse` or `unique`?"
   ]
  },
  {
   "cell_type": "markdown",
   "id": "14854265-ae2c-4f18-b7b4-5fa69bbaaf96",
   "metadata": {},
   "source": [
    "A:\n",
    "\n",
    "`copy` - any but output iterator for the two first arguments; any but input iterator for the third argument  \n",
    "`reverse` - bidirectional or random-access iterator  \n",
    "`unique` - forward or bidirectional or random-access iterator"
   ]
  },
  {
   "cell_type": "markdown",
   "id": "1b6defe7-37ea-4ff2-84c9-6d4e9abfec46",
   "metadata": {},
   "source": [
    "## EXERCISES SECTION 10.5.3"
   ]
  },
  {
   "cell_type": "markdown",
   "id": "99f2e9ca-b806-48ce-8abd-a2043a88e468",
   "metadata": {},
   "source": [
    "### Exercise 10.41:\n",
    " Based only on the algorithm and argument names, describe the \n",
    "operation that the each of the following library algorithms performs:\n",
    "```\n",
    "replace(beg, end, old_val, new_val);\n",
    "replace_if(beg, end, pred, new_val);\n",
    "replace_copy(beg, end, dest, old_val, new_val);\n",
    "replace_copy_if(beg, end, dest, pred, new_val);\n",
    "```"
   ]
  },
  {
   "cell_type": "markdown",
   "id": "a49002d8-c18f-48ba-97ad-2d7e9bb319cd",
   "metadata": {},
   "source": [
    "A:\n",
    "\n",
    "`replace` - in container limited by iterators `beg` and `end`, replace all elements equal to `old_val` with `new_val`  \n",
    "`replace_if` - in container limited by iterators `beg` and `end`, replace all elements where `pred` callable returns `true` with `new_val`  \n",
    "`replace_copy` - using elements from container limited by iterators `beg` and `end`, copy them to container `dest` replacing all elements equal to `old_val` with `new_val`  \n",
    "`replace_copy_if` - using elements from container limited by iterators `beg` and `end`, copy them to container `dest` replacing all elements where `pred` callable returns `true` with `new_val`"
   ]
  },
  {
   "cell_type": "markdown",
   "id": "25bb7069-bbda-478d-9493-87079f99a7f1",
   "metadata": {},
   "source": [
    "## EXERCISES SECTION 10.6"
   ]
  },
  {
   "cell_type": "markdown",
   "id": "93a54a32-d27e-4e74-a1c0-db8e100a1394",
   "metadata": {},
   "source": [
    "### Exercise 10.42:\n",
    " Reimplement the program that eliminated duplicate words that we wrote in § 10.2.3 (p. 383) to use a `list` instead of a `vector`."
   ]
  },
  {
   "cell_type": "code",
   "execution_count": 1,
   "id": "8cd59fbf-403c-48c8-8f33-6fa764258e90",
   "metadata": {},
   "outputs": [],
   "source": [
    "#include <iostream>\n",
    "using std::cout, std::endl;"
   ]
  },
  {
   "cell_type": "code",
   "execution_count": 2,
   "id": "2ba0359e-b73d-4f0c-b5e7-b28b5206b608",
   "metadata": {},
   "outputs": [],
   "source": [
    "void elimDups(std::list<std::string> &words)\n",
    "{\n",
    "    words.sort();\n",
    "    words.unique();\n",
    "}"
   ]
  },
  {
   "cell_type": "code",
   "execution_count": 3,
   "id": "a8a9ac86-c028-46b1-9e49-901bd0aad818",
   "metadata": {},
   "outputs": [
    {
     "name": "stdout",
     "output_type": "stream",
     "text": [
      "nice one three try two \n"
     ]
    }
   ],
   "source": [
    "std::list<std::string> v = {\"one\", \"three\", \"two\", \"one\", \"nice\", \"two\", \"try\"};\n",
    "elimDups(v);\n",
    "for (auto const &e : v)\n",
    "    cout << e << \" \";\n",
    "cout << endl;"
   ]
  }
 ],
 "metadata": {
  "kernelspec": {
   "display_name": "C++17",
   "language": "C++17",
   "name": "xcpp17"
  },
  "language_info": {
   "codemirror_mode": "text/x-c++src",
   "file_extension": ".cpp",
   "mimetype": "text/x-c++src",
   "name": "c++",
   "version": "17"
  }
 },
 "nbformat": 4,
 "nbformat_minor": 5
}
