{
 "cells": [
  {
   "cell_type": "markdown",
   "id": "cb5f1afe-4f9a-43bb-a1b2-849044bb71c3",
   "metadata": {},
   "source": [
    "# Chapter 9 Sequential Containers"
   ]
  },
  {
   "cell_type": "markdown",
   "id": "e69b10be-b8a1-45f1-9224-d7b88b97a327",
   "metadata": {},
   "source": [
    "## EXERCISES SECTION 9.1"
   ]
  },
  {
   "cell_type": "markdown",
   "id": "8da6a83e-7982-4493-a832-7eb067fbb081",
   "metadata": {},
   "source": [
    "### Exercise 9.1:\n",
    "Which is the most appropriate — a `vector`, a `deque`, or a `list` — for the\n",
    "following program tasks? Explain the rationale for your choice. If there is no reason to\n",
    "prefer one or another container, explain why not.  \n",
    "(a) Read a fixed number of words, inserting them in the container alphabetically\n",
    "as they are entered. We’ll see in the next chapter that associative containers are better\n",
    "suited to this problem.  \n",
    "(b) Read an unknown number of words. Always insert new words at the back.\n",
    "Remove the next value from the front.  \n",
    "(c) Read an unknown number of integers from a file. Sort the numbers and then\n",
    "print them to standard output.  "
   ]
  },
  {
   "cell_type": "code",
   "execution_count": null,
   "id": "1f42e6d4-bae3-4243-b595-74d9e08246f0",
   "metadata": {},
   "outputs": [],
   "source": []
  },
  {
   "cell_type": "markdown",
   "id": "2b867727-438d-4114-8b33-1ac32595f1d7",
   "metadata": {},
   "source": [
    "## EXERCISES SECTION 9.2"
   ]
  },
  {
   "cell_type": "markdown",
   "id": "d6b3ebea-9e22-4274-a878-9b832ab2e0aa",
   "metadata": {},
   "source": [
    "### Exercise 9.2:\n",
    "Define a `list` that holds elements that are `deque`s that hold `int`s."
   ]
  },
  {
   "cell_type": "code",
   "execution_count": null,
   "id": "b32fc6e5-2fba-4981-967e-070818b1258b",
   "metadata": {},
   "outputs": [],
   "source": []
  },
  {
   "cell_type": "markdown",
   "id": "e3007064-5899-4065-9566-574d6f3ebdd7",
   "metadata": {},
   "source": [
    "## EXERCISES SECTION 9.2.1"
   ]
  },
  {
   "cell_type": "markdown",
   "id": "499f16eb-7bf7-48ed-9853-57a4c8dcc9d7",
   "metadata": {},
   "source": [
    "### Exercise 9.3:\n",
    "What are the constraints on the iterators that form iterator ranges?"
   ]
  },
  {
   "cell_type": "code",
   "execution_count": null,
   "id": "c023419d-bafd-448d-99a6-e2c7acee922b",
   "metadata": {},
   "outputs": [],
   "source": []
  },
  {
   "cell_type": "markdown",
   "id": "732faf6f-92d5-4b5d-b7d6-ac70af91cdf7",
   "metadata": {},
   "source": [
    "### Exercise 9.4:\n",
    "Write a function that takes a pair of iterators to a `vector<int>` and an\n",
    "`int` value. Look for that value in the range and return a `bool` indicating whether it\n",
    "was found."
   ]
  },
  {
   "cell_type": "code",
   "execution_count": null,
   "id": "9c18d286-79cb-46f7-8b84-8c1dc5928c07",
   "metadata": {},
   "outputs": [],
   "source": []
  },
  {
   "cell_type": "markdown",
   "id": "258a958c-7019-4251-b5ea-9f22a121aca3",
   "metadata": {},
   "source": [
    "### Exercise 9.5:\n",
    "Rewrite the previous program to return an iterator to the requested element. Note that the program must handle the case where the element is not found."
   ]
  },
  {
   "cell_type": "code",
   "execution_count": null,
   "id": "b7345f7e-905f-4251-b8ec-f97984063aa7",
   "metadata": {},
   "outputs": [],
   "source": []
  },
  {
   "cell_type": "markdown",
   "id": "db107e99-4d79-4c67-a938-8fc8f94538c9",
   "metadata": {},
   "source": [
    "### Exercise 9.6:\n",
    "What is wrong with the following program? How might you correct it?\n",
    "```\n",
    "list<int> lst1;\n",
    "list<int>::iterator iter1 = lst1.begin(),\n",
    "iter2 = lst1.end();\n",
    "while (iter1 < iter2) /* ... */\n",
    "```"
   ]
  },
  {
   "cell_type": "code",
   "execution_count": null,
   "id": "87d5add6-67c1-4419-9824-2d0d13747708",
   "metadata": {},
   "outputs": [],
   "source": []
  },
  {
   "cell_type": "markdown",
   "id": "97727f88-4779-449a-a04e-bbdd4e96f000",
   "metadata": {},
   "source": [
    "## EXERCISES SECTION 9.2.2"
   ]
  },
  {
   "cell_type": "markdown",
   "id": "b65eabaa-fdc8-4a6e-a755-6d165d7c26f5",
   "metadata": {},
   "source": [
    "### Exercise 9.7:\n",
    " What type should be used as the index into a `vector` of `int`s?"
   ]
  },
  {
   "cell_type": "code",
   "execution_count": null,
   "id": "1fbf3648-834a-43bd-92c8-03c028e02efe",
   "metadata": {},
   "outputs": [],
   "source": []
  },
  {
   "cell_type": "markdown",
   "id": "a9579201-670e-4cc4-affd-2d9ca54bb88d",
   "metadata": {},
   "source": [
    "### Exercise 9.8:\n",
    " What type should be used to read elements in a `list` of `strings`? To\n",
    "write them?"
   ]
  },
  {
   "cell_type": "code",
   "execution_count": null,
   "id": "3a6d211b-2dfa-46a5-aa17-1c5fc2c38cef",
   "metadata": {},
   "outputs": [],
   "source": []
  },
  {
   "cell_type": "markdown",
   "id": "88385f2e-c19f-44fe-be10-bae68ba4377a",
   "metadata": {},
   "source": [
    "## EXERCISES SECTION 9.2.3"
   ]
  },
  {
   "cell_type": "markdown",
   "id": "6fe616a4-fe27-47c8-8389-2547c37c4427",
   "metadata": {},
   "source": [
    "### Exercise 9.9:\n",
    " What is the difference between the `begin` and `cbegin` functions?"
   ]
  },
  {
   "cell_type": "code",
   "execution_count": null,
   "id": "8d3948fe-4dc9-4b0a-a37a-c40ea2db1624",
   "metadata": {},
   "outputs": [],
   "source": []
  },
  {
   "cell_type": "markdown",
   "id": "e3da2986-909f-421e-92be-fb535afdc391",
   "metadata": {},
   "source": [
    "### Exercise 9.10:\n",
    " What are the types of the following four objects?\n",
    "```\n",
    "vector<int> v1;\n",
    "const vector<int> v2;\n",
    "auto it1 = v1.begin(), it2 = v2.begin();\n",
    "auto it3 = v1.cbegin(), it4 = v2.cbegin();\n",
    "```"
   ]
  },
  {
   "cell_type": "code",
   "execution_count": null,
   "id": "7f9afb67-46e2-4fb6-ad23-a38fb4653fd6",
   "metadata": {},
   "outputs": [],
   "source": []
  },
  {
   "cell_type": "markdown",
   "id": "3e8bfa5a-9140-4a02-a76a-44c76d3c8a0e",
   "metadata": {},
   "source": [
    "## EXERCISES SECTION 9.2.4"
   ]
  },
  {
   "cell_type": "markdown",
   "id": "ea8eff7f-2c10-42c7-a78d-8f962a3b47ed",
   "metadata": {},
   "source": [
    "### Exercise 9.11:\n",
    " Show an example of each of the six ways to create and initialize a\n",
    "`vector`. Explain what values each `vector` contains."
   ]
  },
  {
   "cell_type": "code",
   "execution_count": null,
   "id": "bfcbd102-3cf4-445e-8a1a-012445d8511c",
   "metadata": {},
   "outputs": [],
   "source": []
  },
  {
   "cell_type": "markdown",
   "id": "8920b47a-8737-417b-b459-49b9e24e078f",
   "metadata": {},
   "source": [
    "### Exercise 9.12:\n",
    " Explain the differences between the constructor that takes a container\n",
    "to copy and the constructor that takes two iterators."
   ]
  },
  {
   "cell_type": "code",
   "execution_count": null,
   "id": "4643e134-a4dd-4b16-b9d3-4d5d3898214f",
   "metadata": {},
   "outputs": [],
   "source": []
  },
  {
   "cell_type": "markdown",
   "id": "17053b2b-f83c-400a-8ac9-0997faa89cbb",
   "metadata": {},
   "source": [
    "### Exercise 9.13:\n",
    " How would you initialize a `vector<double>` from a `list<int>`?\n",
    "From a `vector<int>`? Write code to check your answers."
   ]
  },
  {
   "cell_type": "code",
   "execution_count": null,
   "id": "fb8f605f-c97d-4a6e-b891-f2f77f504356",
   "metadata": {},
   "outputs": [],
   "source": []
  },
  {
   "cell_type": "markdown",
   "id": "15e23459-ef18-4b24-a75e-b6e4802b8f9f",
   "metadata": {},
   "source": [
    "## EXERCISES SECTION 9.2.5"
   ]
  },
  {
   "cell_type": "markdown",
   "id": "8f03b044-90d3-4209-a166-c0de17c8c58c",
   "metadata": {},
   "source": [
    "### Exercise 9.14:\n",
    " Write a program to assign the elements from a `list` of `char*` pointers\n",
    "to C-style character `string`s to a `vector` of `string`s."
   ]
  },
  {
   "cell_type": "code",
   "execution_count": null,
   "id": "0f6871b1-d477-4af5-b96c-5810f570a158",
   "metadata": {},
   "outputs": [],
   "source": []
  },
  {
   "cell_type": "markdown",
   "id": "7d82c8e2-bcad-4471-a165-343bab87422b",
   "metadata": {},
   "source": [
    "## EXERCISES SECTION 9.2.7"
   ]
  },
  {
   "cell_type": "markdown",
   "id": "0483b605-651d-4c7a-b97d-f675764d7f05",
   "metadata": {},
   "source": [
    "### Exercise 9.15:\n",
    " Write a program to determine whether two `vector<int>`s are equal."
   ]
  },
  {
   "cell_type": "code",
   "execution_count": null,
   "id": "21b0d612-7a2d-4cb2-bea2-cd7b925e5bb7",
   "metadata": {},
   "outputs": [],
   "source": []
  },
  {
   "cell_type": "markdown",
   "id": "7cd091c4-9e6f-403b-b988-ca1f838029ed",
   "metadata": {},
   "source": [
    "### Exercise 9.16:\n",
    " Repeat the previous program, but compare elements in a `list<int>`\n",
    "to a `vector<int>`."
   ]
  },
  {
   "cell_type": "code",
   "execution_count": null,
   "id": "1665bd92-c8fa-493e-a1c1-ad337cdaa665",
   "metadata": {},
   "outputs": [],
   "source": []
  },
  {
   "cell_type": "markdown",
   "id": "00011ade-1e46-4021-add5-7255d15ea698",
   "metadata": {},
   "source": [
    "### Exercise 9.17:\n",
    " Assuming `c1` and `c2` are containers, what (if any) constraints does the\n",
    "following usage place on the types of `c1` and `c2`?\n",
    "```\n",
    "if (c1 < c2)\n",
    "```"
   ]
  },
  {
   "cell_type": "code",
   "execution_count": null,
   "id": "1fa7494f-251b-4135-b822-ede175590126",
   "metadata": {},
   "outputs": [],
   "source": []
  },
  {
   "cell_type": "markdown",
   "id": "d73231bc-3481-4920-a9e0-95f3c7c41bf9",
   "metadata": {},
   "source": [
    "## EXERCISES SECTION 9.3.1"
   ]
  },
  {
   "cell_type": "markdown",
   "id": "dc8bad23-d719-4618-a6a4-c0b20800787a",
   "metadata": {},
   "source": [
    "### Exercise 9.18:\n",
    " Write a program to read a sequence of `string`s from the standard input\n",
    "into a `deque`. Use iterators to write a loop to print the elements in the `deque`."
   ]
  },
  {
   "cell_type": "code",
   "execution_count": null,
   "id": "c34ac557-7860-4e96-a284-42b8a14eb82d",
   "metadata": {},
   "outputs": [],
   "source": []
  },
  {
   "cell_type": "markdown",
   "id": "e1cd2ff7-4cc3-47b0-b8c4-9120b04c09b2",
   "metadata": {},
   "source": [
    "### Exercise 9.19:\n",
    " Rewrite the program from the previous exercise to use a `list`. List the\n",
    "changes you needed to make."
   ]
  },
  {
   "cell_type": "code",
   "execution_count": null,
   "id": "1d61e2ec-c647-47eb-a5b8-271bfea2fbff",
   "metadata": {},
   "outputs": [],
   "source": []
  },
  {
   "cell_type": "markdown",
   "id": "f09e4a56-f034-4155-aafc-684f36b2b559",
   "metadata": {},
   "source": [
    "### Exercise 9.20:\n",
    " Write a program to copy elements from a `list<int>` into two `deque`s.\n",
    "The even-valued elements should go into one `deque` and the odd ones into the other."
   ]
  },
  {
   "cell_type": "code",
   "execution_count": null,
   "id": "5d24ce8c-455c-462e-9bf3-de159233e096",
   "metadata": {},
   "outputs": [],
   "source": []
  },
  {
   "cell_type": "markdown",
   "id": "92baf7e7-3761-44e7-a3fe-75ce5ec903e3",
   "metadata": {},
   "source": [
    "### Exercise 9.21:\n",
    " Explain how the loop from page 345 that used the `return` from insert\n",
    "to add elements to a `list` would work if we inserted into a `vector` instead."
   ]
  },
  {
   "cell_type": "code",
   "execution_count": null,
   "id": "fd869e09-9c53-411f-9e33-8b48680348f4",
   "metadata": {},
   "outputs": [],
   "source": []
  },
  {
   "cell_type": "markdown",
   "id": "d6ce4808-4fe0-4d6e-8cae-a9dade33a8f1",
   "metadata": {},
   "source": [
    "### Exercise 9.22:\n",
    " Assuming `iv` is a `vector` of `int`s, what is wrong with the following\n",
    "program? How might you correct the problem(s)?\n",
    "```\n",
    "vector<int>::iterator iter = iv.begin(),\n",
    "mid = iv.begin() + iv.size()/2;\n",
    "while (iter != mid)\n",
    "    if (*iter == some_val)\n",
    "        iv.insert(iter, 2 * some_val);\n",
    "```"
   ]
  },
  {
   "cell_type": "code",
   "execution_count": null,
   "id": "ab9702cd-c985-4f1a-b8a8-31bb116d2112",
   "metadata": {},
   "outputs": [],
   "source": []
  },
  {
   "cell_type": "markdown",
   "id": "9c68cfbc-22eb-40f7-81d5-0a911f032756",
   "metadata": {},
   "source": [
    "## EXERCISES SECTION 9.3.2"
   ]
  },
  {
   "cell_type": "markdown",
   "id": "a4e8bfca-fccb-44ee-ab7d-5a06efa3cad6",
   "metadata": {},
   "source": [
    "### Exercise 9.23:\n",
    " In the first program in this section on page 346, what would the values\n",
    "of `val`, `val2`, `val3`, and `val4` be if `c.size()` is `1`?"
   ]
  },
  {
   "cell_type": "code",
   "execution_count": null,
   "id": "c103bc13-2988-4421-bc28-af40c4796f07",
   "metadata": {},
   "outputs": [],
   "source": []
  },
  {
   "cell_type": "markdown",
   "id": "b2c68bd1-a571-4817-be1b-9f909c13e6a2",
   "metadata": {},
   "source": [
    "### Exercise 9.24:\n",
    " Write a program that fetches the first element in a `vector` using `at`,\n",
    "the subscript operator, `front`, and `begin`. Test your program on an empty `vector`."
   ]
  },
  {
   "cell_type": "code",
   "execution_count": null,
   "id": "86bb5457-9340-4a61-af01-af1675e6f046",
   "metadata": {},
   "outputs": [],
   "source": []
  },
  {
   "cell_type": "markdown",
   "id": "a1f1853d-98c6-49e7-8c85-c78716fcfc75",
   "metadata": {},
   "source": [
    "## EXERCISES SECTION 9.3.3"
   ]
  },
  {
   "cell_type": "markdown",
   "id": "6bf03bb5-0fbc-41d1-8128-6a84d7322843",
   "metadata": {},
   "source": [
    "### Exercise 9.25:\n",
    " In the program on page 349 that erased a range of elements, what happens if `elem1` and `elem2` are equal?\n",
    "What if `elem2` or both `elem1` and `elem2` are the off-the-end iterator?"
   ]
  },
  {
   "cell_type": "code",
   "execution_count": null,
   "id": "4bb50406-2d96-4a27-b920-08e2d6c362c0",
   "metadata": {},
   "outputs": [],
   "source": []
  },
  {
   "cell_type": "markdown",
   "id": "55e6d1f5-3d50-4c78-abae-df57a12b8859",
   "metadata": {},
   "source": [
    "### Exercise 9.26:\n",
    " Using the following definition of `ia`, copy `ia` into a `vector` and into a\n",
    "`list`. Use the single-iterator form of erase to remove the elements with odd values\n",
    "from your `list` and the even values from your `vector`.\n",
    "```\n",
    "int ia[] = { 0, 1, 1, 2, 3, 5, 8, 13, 21, 55, 89 };\n",
    "```"
   ]
  },
  {
   "cell_type": "code",
   "execution_count": null,
   "id": "72c60c9e-65a4-45d5-b5fd-bf81fb1c6cb4",
   "metadata": {},
   "outputs": [],
   "source": []
  },
  {
   "cell_type": "markdown",
   "id": "f7a3032e-4f4c-4f9c-8a21-84779de29e89",
   "metadata": {},
   "source": [
    "## EXERCISES SECTION 9.3.4"
   ]
  },
  {
   "cell_type": "markdown",
   "id": "893bbf89-e989-4e2e-a982-f9fd933cf151",
   "metadata": {},
   "source": [
    "### Exercise 9.27:\n",
    " Write a program to find and remove the odd-valued elements in a\n",
    "`forward_list<int>`."
   ]
  },
  {
   "cell_type": "code",
   "execution_count": null,
   "id": "ee0ff08f-796e-4022-a642-3ac625255990",
   "metadata": {},
   "outputs": [],
   "source": []
  },
  {
   "cell_type": "markdown",
   "id": "1a957f8e-d318-4d07-b07c-aae99a04ce30",
   "metadata": {},
   "source": [
    "### Exercise 9.28:\n",
    " Write a function that takes a `forward_list<string>` and two additional `string` arguments.\n",
    "The function should find the first `string` and insert the second immediately following the first.\n",
    "If the first `string` is not found, then insert the second `string` at the end of the list."
   ]
  },
  {
   "cell_type": "code",
   "execution_count": null,
   "id": "b30bb303-4efc-4a99-99a9-baf06d830f32",
   "metadata": {},
   "outputs": [],
   "source": []
  },
  {
   "cell_type": "markdown",
   "id": "b95c1795-a8ed-49f8-a1c0-cfc204fe53c2",
   "metadata": {},
   "source": [
    "## EXERCISES SECTION 9.3.5"
   ]
  },
  {
   "cell_type": "markdown",
   "id": "942b6cdb-70ea-4bca-bcf7-65f8f13921a0",
   "metadata": {},
   "source": [
    "### Exercise 9.29:\n",
    " Given that `vec` holds 25 elements, what does `vec.resize(100)` do?\n",
    "What if we next wrote `vec.resize(10)`?"
   ]
  },
  {
   "cell_type": "code",
   "execution_count": null,
   "id": "1ea06e47-18b8-410f-93e2-2c79d9068310",
   "metadata": {},
   "outputs": [],
   "source": []
  },
  {
   "cell_type": "markdown",
   "id": "c2ab1084-5df0-4b77-aa3c-468d713e9126",
   "metadata": {},
   "source": [
    "### Exercise 9.30:\n",
    " What, if any, restrictions does using the version of `resize` that takes a\n",
    "single argument place on the element type?"
   ]
  },
  {
   "cell_type": "code",
   "execution_count": null,
   "id": "04440158-c7c4-427d-a39e-f4811d887c4e",
   "metadata": {},
   "outputs": [],
   "source": []
  },
  {
   "cell_type": "markdown",
   "id": "c7999c31-8b24-4b3c-957a-59b38cbc8ffb",
   "metadata": {},
   "source": [
    "## EXERCISES SECTION 9.3.6\n"
   ]
  },
  {
   "cell_type": "markdown",
   "id": "33402cc8-38ed-4bea-923d-9c9d7743b125",
   "metadata": {},
   "source": [
    "### Exercise 9.31:\n",
    " The program on page 354 to remove even-valued elements and \n",
    "duplicate odd ones will not work on a `list` or `forward_list`. \n",
    "Why? Revise the program so that it works on these types as well."
   ]
  },
  {
   "cell_type": "code",
   "execution_count": null,
   "id": "2942db83-6df2-4a7e-b299-f4c90081c6e3",
   "metadata": {},
   "outputs": [],
   "source": []
  },
  {
   "cell_type": "markdown",
   "id": "f3472fdf-8002-441f-8a9f-454a57927f44",
   "metadata": {},
   "source": [
    "### Exercise 9.32:\n",
    " In the program on page 354 would it be legal to write the call to `insert`\n",
    "as follows? If not, why not?\n",
    "```\n",
    "iter = vi.insert(iter, *iter++);\n",
    "```"
   ]
  },
  {
   "cell_type": "code",
   "execution_count": null,
   "id": "fd102e7f-ed6a-4c22-bb6c-3f266b29e1bb",
   "metadata": {},
   "outputs": [],
   "source": []
  },
  {
   "cell_type": "markdown",
   "id": "df45b44c-2d7c-4192-ac23-0274fc97d8cd",
   "metadata": {},
   "source": [
    "### Exercise 9.33:\n",
    " In the final example in this section what would happen if we did not\n",
    "assign the result of `insert` to begin? Write a program that omits this assignment to\n",
    "see if your expectation was correct."
   ]
  },
  {
   "cell_type": "code",
   "execution_count": null,
   "id": "601416a9-fc90-4268-8800-fec8d19ad3c9",
   "metadata": {},
   "outputs": [],
   "source": []
  },
  {
   "cell_type": "markdown",
   "id": "17e27413-7091-49b3-b2b9-dfe0bbeb2362",
   "metadata": {},
   "source": [
    "### Exercise 9.34:\n",
    " Assuming `vi` is a container of `int`s that includes even and odd values,\n",
    "predict the behavior of the following loop. After you’ve analyzed this loop, write a\n",
    "program to test whether your expectations were correct.\n",
    "```\n",
    "iter = vi.begin();\n",
    "while (iter != vi.end())\n",
    "    if (*iter % 2)\n",
    "        iter = vi.insert(iter, *iter);\n",
    "    ++iter;\n",
    "```"
   ]
  },
  {
   "cell_type": "code",
   "execution_count": null,
   "id": "d7fe8bc8-37ed-4d79-8ade-1bff3f7b136c",
   "metadata": {},
   "outputs": [],
   "source": []
  },
  {
   "cell_type": "markdown",
   "id": "9671bb6b-eab2-4ccb-997f-bfa6c861bbfd",
   "metadata": {},
   "source": [
    "## EXERCISES SECTION 9.4"
   ]
  },
  {
   "cell_type": "markdown",
   "id": "997bf68b-0ede-4c7c-b28c-28f11ac564bc",
   "metadata": {},
   "source": [
    "### Exercise 9.35:\n",
    " Explain the difference between a `vector`’s `capacity` and its `size`."
   ]
  },
  {
   "cell_type": "code",
   "execution_count": null,
   "id": "c87b0703-407e-4057-9081-1527c99eb734",
   "metadata": {},
   "outputs": [],
   "source": []
  },
  {
   "cell_type": "markdown",
   "id": "1e4e922e-a679-49a9-b917-d2e9271a8028",
   "metadata": {},
   "source": [
    "### Exercise 9.36:\n",
    " Can a container have a `capacity` less than its `size`?"
   ]
  },
  {
   "cell_type": "code",
   "execution_count": null,
   "id": "0f1a371b-e91e-40d3-a592-bbd5f0676b64",
   "metadata": {},
   "outputs": [],
   "source": []
  },
  {
   "cell_type": "markdown",
   "id": "4177f551-81b3-4aa8-a5e4-c48d58fd58d5",
   "metadata": {},
   "source": [
    "### Exercise 9.37:\n",
    " Why don’t `list` or `array` have a `capacity` member?"
   ]
  },
  {
   "cell_type": "code",
   "execution_count": null,
   "id": "2c78a301-21d5-4b3b-b121-8cdfb2b9e9c8",
   "metadata": {},
   "outputs": [],
   "source": []
  },
  {
   "cell_type": "markdown",
   "id": "39bf5eef-a127-4cc5-96df-4e660cd9e8b9",
   "metadata": {},
   "source": [
    "### Exercise 9.38:\n",
    " Write a program to explore how `vector`s grow in the library you use."
   ]
  },
  {
   "cell_type": "code",
   "execution_count": null,
   "id": "4176cc3d-b685-48fd-8bbc-ee7925e333ac",
   "metadata": {},
   "outputs": [],
   "source": []
  },
  {
   "cell_type": "markdown",
   "id": "f9402d06-a315-43a6-8202-e610b551bb80",
   "metadata": {},
   "source": [
    "### Exercise 9.39:\n",
    " Explain what the following program fragment does:\n",
    "```\n",
    "vector<string> svec;\n",
    "svec.reserve(1024);\n",
    "string word;\n",
    "while (cin >> word)\n",
    "    svec.push_back(word);\n",
    "svec.resize(svec.size()+svec.size()/2);\n",
    "```"
   ]
  },
  {
   "cell_type": "code",
   "execution_count": null,
   "id": "a680f5d6-2509-4de9-82a7-83e539ec74e0",
   "metadata": {},
   "outputs": [],
   "source": []
  },
  {
   "cell_type": "markdown",
   "id": "e5d529a4-f2dd-4588-974b-b22f46a84c6c",
   "metadata": {},
   "source": [
    "### Exercise 9.40:\n",
    " If the program in the previous exercise reads 256 words, what is its\n",
    "likely `capacity` after it is resized? What if it reads 512? 1,000? 1,048?"
   ]
  },
  {
   "cell_type": "code",
   "execution_count": null,
   "id": "e2f3c043-dbb0-4326-a76b-d54c853bea80",
   "metadata": {},
   "outputs": [],
   "source": []
  },
  {
   "cell_type": "markdown",
   "id": "49d91e9c-4dbd-4547-b20f-983dab4d520d",
   "metadata": {},
   "source": [
    "## EXERCISES SECTION 9.5.1"
   ]
  },
  {
   "cell_type": "markdown",
   "id": "267d97d9-d8a9-4d06-aadb-b6c9f9462a3a",
   "metadata": {},
   "source": [
    "### Exercise 9.41:\n",
    " Write a program that initializes a string from a `vector<char>`."
   ]
  },
  {
   "cell_type": "code",
   "execution_count": null,
   "id": "64afb816-151e-4c79-8c80-dbc04bf61fd2",
   "metadata": {},
   "outputs": [],
   "source": []
  },
  {
   "cell_type": "markdown",
   "id": "599ad3ed-3dc2-45fd-9555-da01ee49e43c",
   "metadata": {},
   "source": [
    "### Exercise 9.42:\n",
    " Given that you want to read a character at a time into a `string`, and\n",
    "you know that you need to read at least 100 characters, how might you improve the\n",
    "performance of your program?"
   ]
  },
  {
   "cell_type": "code",
   "execution_count": null,
   "id": "6fdfdc54-d751-4590-8911-10e17fb46b1b",
   "metadata": {},
   "outputs": [],
   "source": []
  },
  {
   "cell_type": "markdown",
   "id": "f380eb4f-cdae-4d89-b3ff-7dc80050af26",
   "metadata": {},
   "source": [
    "## EXERCISES SECTION 9.5.2"
   ]
  },
  {
   "cell_type": "markdown",
   "id": "203b8780-e243-4ff4-b57d-3a7c58e80be3",
   "metadata": {},
   "source": [
    "### Exercise 9.43:\n",
    " Write a function that takes three `string`s, `s`, `oldVal`, and `newVal`.\n",
    "Using iterators, and the `insert` and `erase` functions replace all instances of `oldVal`\n",
    "that appear in `s` by `newVal`. Test your function by using it to replace common abbreviations,\n",
    "such as \"tho\" by \"though\" and \"thru\" by \"through\"."
   ]
  },
  {
   "cell_type": "code",
   "execution_count": null,
   "id": "8291fde1-9ff9-4b43-8334-ec2dd0f35708",
   "metadata": {},
   "outputs": [],
   "source": []
  },
  {
   "cell_type": "markdown",
   "id": "935429a5-ef20-4e2b-9d29-5062d8468389",
   "metadata": {},
   "source": [
    "### Exercise 9.44:\n",
    " Rewrite the previous function using an index and `replace`.\n"
   ]
  },
  {
   "cell_type": "code",
   "execution_count": null,
   "id": "1a45f164-f190-495a-a987-813a54985e53",
   "metadata": {},
   "outputs": [],
   "source": []
  },
  {
   "cell_type": "markdown",
   "id": "faa0ea6e-f56c-425d-8b60-3eca3b24f864",
   "metadata": {},
   "source": [
    "### Exercise 9.45:\n",
    " Write a function that takes a `string` representing a name and two other\n",
    "`string`s representing a prefix, such as \"Mr.\" or \"Ms.\" and a suffix, such as \"Jr.\" or\n",
    "\"III\". Using iterators and the `insert` and `append` functions, generate and return a\n",
    "new `string` with the suffix and prefix added to the given name."
   ]
  },
  {
   "cell_type": "code",
   "execution_count": null,
   "id": "36b5ae7d-174b-4369-ace6-59dff8c0320e",
   "metadata": {},
   "outputs": [],
   "source": []
  },
  {
   "cell_type": "markdown",
   "id": "c439fa9e-5e19-494c-bd45-0d6cdd11edb1",
   "metadata": {},
   "source": [
    "### Exercise 9.46:\n",
    " Rewrite the previous exercise using a position and length to manage\n",
    "the `string`s. This time use only the `insert` function."
   ]
  },
  {
   "cell_type": "code",
   "execution_count": null,
   "id": "d89b972b-34d8-40c6-b11a-09b7f2252444",
   "metadata": {},
   "outputs": [],
   "source": []
  },
  {
   "cell_type": "markdown",
   "id": "504e980d-f812-4a1f-93a8-23a2492a7d49",
   "metadata": {},
   "source": [
    "## EXERCISES SECTION 9.5.3"
   ]
  },
  {
   "cell_type": "markdown",
   "id": "6c0cc00b-a835-4797-9c02-d478d878c7b8",
   "metadata": {},
   "source": [
    "### Exercise 9.47:\n",
    " Write a program that finds each numeric character and then each \n",
    "alphabetic character in the `string` `\"ab2c3d7R4E6\"`. Write two versions of the program.\n",
    "The first should use `find_first_of`, and the second `find_first_not_of`."
   ]
  },
  {
   "cell_type": "code",
   "execution_count": null,
   "id": "8a264d59-c27a-47f1-a7c6-7400c2af70e0",
   "metadata": {},
   "outputs": [],
   "source": []
  },
  {
   "cell_type": "markdown",
   "id": "03e5b340-0db9-419e-999b-143bc768faa3",
   "metadata": {},
   "source": [
    "### Exercise 9.48:\n",
    " Given the definitions of name and numbers on page 365, what does\n",
    "`numbers.find(name)` return?"
   ]
  },
  {
   "cell_type": "code",
   "execution_count": null,
   "id": "136e0a86-aa9e-4e8d-a537-743086cae0f5",
   "metadata": {},
   "outputs": [],
   "source": []
  },
  {
   "cell_type": "markdown",
   "id": "d9946411-989b-4e8a-a2db-a6f6fc221985",
   "metadata": {},
   "source": [
    "### Exercise 9.49:\n",
    " A letter has an ascender if, as with d or f, part of the letter extends\n",
    "above the middle of the line. A letter has a descender if, as with p or g, part of the\n",
    "letter extends below the line. Write a program that reads a file containing words and\n",
    "reports the longest word that contains neither ascenders nor descenders."
   ]
  },
  {
   "cell_type": "code",
   "execution_count": null,
   "id": "29ee068e-bc33-4caa-ad24-942ba201f2b4",
   "metadata": {},
   "outputs": [],
   "source": []
  },
  {
   "cell_type": "markdown",
   "id": "b1fa3ea1-4a19-46d4-bb5a-f14d3f5e9ab3",
   "metadata": {},
   "source": [
    "## EXERCISES SECTION 9.5.5"
   ]
  },
  {
   "cell_type": "markdown",
   "id": "69ab8761-b13d-4b61-aec2-2b2453e4edf4",
   "metadata": {},
   "source": [
    "### Exercise 9.50:\n",
    " Write a program to process a `vector<string>`s whose elements \n",
    "represent integral values. Produce the sum of all the elements in that `vector`. Change\n",
    "the program so that it sums of `string`s that represent floating-point values."
   ]
  },
  {
   "cell_type": "code",
   "execution_count": null,
   "id": "bbe31f0f-9fb2-4432-b323-61a97cab80f6",
   "metadata": {},
   "outputs": [],
   "source": []
  },
  {
   "cell_type": "markdown",
   "id": "895c1507-f803-412e-a25b-e83dc366306e",
   "metadata": {},
   "source": [
    "### Exercise 9.51:\n",
    " Write a class that has three `unsigned` members representing year,\n",
    "month, and day. Write a constructor that takes a `string` representing a date. Your\n",
    "constructor should handle a variety of date formats, such as `January 1, 1900`, `1/1/1900`,\n",
    "`Jan 1, 1900`, and so on."
   ]
  },
  {
   "cell_type": "code",
   "execution_count": null,
   "id": "9cc1db36-40e3-4f69-be31-95fb40447c4a",
   "metadata": {},
   "outputs": [],
   "source": []
  },
  {
   "cell_type": "markdown",
   "id": "79dd383c-ee19-4746-a73d-e72e90004b8f",
   "metadata": {},
   "source": [
    "## EXERCISES SECTION 9.6"
   ]
  },
  {
   "cell_type": "markdown",
   "id": "dbbe95ad-ad99-4330-8596-490a0274744d",
   "metadata": {},
   "source": [
    "### Exercise 9.52:\n",
    " Use a `stack` to process parenthesized expressions. When you see an\n",
    "open parenthesis, note that it was seen. When you see a close parenthesis after an open\n",
    "parenthesis, pop elements down to and including the open parenthesis off the stack.\n",
    "push a value onto the stack to indicate that a parenthesized expression was replaced."
   ]
  },
  {
   "cell_type": "code",
   "execution_count": null,
   "id": "9f87b923-1f0b-4e1b-86b1-ca9dafde36db",
   "metadata": {},
   "outputs": [],
   "source": []
  }
 ],
 "metadata": {
  "kernelspec": {
   "display_name": "C++17",
   "language": "C++17",
   "name": "xcpp17"
  },
  "language_info": {
   "codemirror_mode": "text/x-c++src",
   "file_extension": ".cpp",
   "mimetype": "text/x-c++src",
   "name": "c++",
   "version": "17"
  }
 },
 "nbformat": 4,
 "nbformat_minor": 5
}
