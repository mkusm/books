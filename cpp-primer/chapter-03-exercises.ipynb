{
 "cells": [
  {
   "cell_type": "markdown",
   "id": "519daa90-e9f9-4ed9-aefa-2ef90d2d2ee1",
   "metadata": {},
   "source": [
    "# Chapter 3 Strings, Vectors, and Arrays"
   ]
  },
  {
   "cell_type": "markdown",
   "id": "741b70bb-23c1-4135-bc45-77f80d0d8edf",
   "metadata": {
    "jp-MarkdownHeadingCollapsed": true,
    "tags": []
   },
   "source": [
    "## Exercises Section 3.1"
   ]
  },
  {
   "cell_type": "markdown",
   "id": "21d5d0fd-0496-4dfd-9aa8-13c46e10a4b5",
   "metadata": {
    "tags": []
   },
   "source": [
    "### Exercise 3.1:\n",
    "Rewrite the exercises from § 1.4.1 (p. 13) and § 2.6.2 (p. 76) with appropriate using declarations."
   ]
  },
  {
   "cell_type": "code",
   "execution_count": 1,
   "id": "0865449c-2359-4d0e-bbf1-e0196ff2113c",
   "metadata": {},
   "outputs": [],
   "source": [
    "#include <iostream>\n",
    "\n",
    "using std::cout, std::cin, std::endl;"
   ]
  },
  {
   "cell_type": "code",
   "execution_count": 2,
   "id": "a8875088-cf09-47df-8325-0c6d22f962e7",
   "metadata": {},
   "outputs": [
    {
     "name": "stdout",
     "output_type": "stream",
     "text": [
      "3825\n"
     ]
    }
   ],
   "source": [
    "int i = 50;\n",
    "int sum = 0;\n",
    "while (i <= 100)\n",
    "{\n",
    "    sum += i;\n",
    "    i++;\n",
    "}\n",
    "cout << sum << endl;"
   ]
  },
  {
   "cell_type": "code",
   "execution_count": 3,
   "id": "7e519603-ab3c-43e0-a6ff-104df3fac005",
   "metadata": {},
   "outputs": [
    {
     "name": "stdout",
     "output_type": "stream",
     "text": [
      "10 9 8 7 6 5 4 3 2 1 0 \n"
     ]
    }
   ],
   "source": [
    "int i = 10;\n",
    "while (i >= 0) {\n",
    "    cout << i << \" \";\n",
    "    i--;\n",
    "}\n",
    "cout << endl;"
   ]
  },
  {
   "cell_type": "code",
   "execution_count": 4,
   "id": "1aa38530-7097-48f0-ba47-c09d3906fcee",
   "metadata": {},
   "outputs": [
    {
     "name": "stdin",
     "output_type": "stream",
     "text": [
      " 5 10\n"
     ]
    },
    {
     "name": "stdout",
     "output_type": "stream",
     "text": [
      "5 6 7 8 9 10\n"
     ]
    }
   ],
   "source": [
    "int v1 = 0, v2 = 0;\n",
    "cin >> v1 >> v2;\n",
    "\n",
    "int curr = v1;\n",
    "while (curr < v2) {\n",
    "    std::cout << curr << \" \";\n",
    "    curr++;\n",
    "}\n",
    "cout << curr << endl;"
   ]
  },
  {
   "cell_type": "markdown",
   "id": "cff47a82-5458-4caa-a1bf-613816d40ff4",
   "metadata": {
    "jp-MarkdownHeadingCollapsed": true,
    "tags": []
   },
   "source": [
    "## Exercises Section 3.2.2"
   ]
  },
  {
   "cell_type": "markdown",
   "id": "1207bf0a-d240-45b9-8c8b-533703b409cd",
   "metadata": {},
   "source": [
    "### Exercise 3.2:\n",
    "Write a program to read the standard input a line at a time. Modify your\n",
    "program to read a word at a time."
   ]
  },
  {
   "cell_type": "code",
   "execution_count": 1,
   "id": "324ff0d2-3961-4093-bcd1-d3fd16fd1088",
   "metadata": {
    "tags": []
   },
   "outputs": [],
   "source": [
    "#include <iostream>\n",
    "#include <string>\n",
    "\n",
    "using std::cin, std::cout, std::endl, std::string;"
   ]
  },
  {
   "cell_type": "code",
   "execution_count": 6,
   "id": "faf84d51-6a42-4adc-82f3-18955eeaa43b",
   "metadata": {},
   "outputs": [
    {
     "name": "stdin",
     "output_type": "stream",
     "text": [
      " one line\n"
     ]
    },
    {
     "name": "stdout",
     "output_type": "stream",
     "text": [
      "one line\n"
     ]
    },
    {
     "name": "stdin",
     "output_type": "stream",
     "text": [
      " two lines\n"
     ]
    },
    {
     "name": "stdout",
     "output_type": "stream",
     "text": [
      "two lines\n"
     ]
    },
    {
     "name": "stdin",
     "output_type": "stream",
     "text": [
      " test\n"
     ]
    },
    {
     "name": "stdout",
     "output_type": "stream",
     "text": [
      "test\n"
     ]
    },
    {
     "name": "stdin",
     "output_type": "stream",
     "text": [
      " test test test test\n"
     ]
    },
    {
     "name": "stdout",
     "output_type": "stream",
     "text": [
      "test test test test\n"
     ]
    },
    {
     "name": "stdin",
     "output_type": "stream",
     "text": [
      " end\n"
     ]
    }
   ],
   "source": [
    "string s;\n",
    "while (getline(cin, s) && s != \"end\")\n",
    "    cout << s << endl;"
   ]
  },
  {
   "cell_type": "code",
   "execution_count": 7,
   "id": "98ff710e-53f3-4dd7-adfe-6d48c9d84786",
   "metadata": {},
   "outputs": [
    {
     "name": "stdin",
     "output_type": "stream",
     "text": [
      " one line\n"
     ]
    },
    {
     "name": "stdout",
     "output_type": "stream",
     "text": [
      "one\n",
      "line\n"
     ]
    },
    {
     "name": "stdin",
     "output_type": "stream",
     "text": [
      " two lines\n"
     ]
    },
    {
     "name": "stdout",
     "output_type": "stream",
     "text": [
      "two\n",
      "lines\n"
     ]
    },
    {
     "name": "stdin",
     "output_type": "stream",
     "text": [
      " test\n"
     ]
    },
    {
     "name": "stdout",
     "output_type": "stream",
     "text": [
      "test\n"
     ]
    },
    {
     "name": "stdin",
     "output_type": "stream",
     "text": [
      " test test test\n"
     ]
    },
    {
     "name": "stdout",
     "output_type": "stream",
     "text": [
      "test\n",
      "test\n",
      "test\n"
     ]
    },
    {
     "name": "stdin",
     "output_type": "stream",
     "text": [
      " end\n"
     ]
    }
   ],
   "source": [
    "string s;\n",
    "while (cin >> s && s != \"end\")\n",
    "    cout << s << endl;"
   ]
  },
  {
   "cell_type": "markdown",
   "id": "e53c2bd3-fc56-4e99-8e9c-1ada53f45645",
   "metadata": {},
   "source": [
    "### Exercise 3.3:\n",
    "Explain how whitespace characters are handled in the string input operator and in the getline function."
   ]
  },
  {
   "cell_type": "markdown",
   "id": "8221f0db-4ad7-4631-a222-b8e3578e1b0c",
   "metadata": {},
   "source": [
    "A:\n",
    "\n",
    "in the string input operator, whitespaces finish the input and are discarded  \n",
    "in the getline function, whitespaces are not discarded, except for newline which finished the input"
   ]
  },
  {
   "cell_type": "markdown",
   "id": "059bc109-cbf6-4a15-b7d8-8206fec9254a",
   "metadata": {},
   "source": [
    "### Exercise 3.4:\n",
    "Write a program to read two strings and report whether the strings\n",
    "are equal. If not, report which of the two is larger. Now, change the program to report\n",
    "whether the strings have the same length, and if not, report which is longer."
   ]
  },
  {
   "cell_type": "code",
   "execution_count": 1,
   "id": "8ed55641-740e-4bd7-8086-2771413ee032",
   "metadata": {
    "tags": []
   },
   "outputs": [],
   "source": [
    "#include <iostream>\n",
    "#include <string>\n",
    "\n",
    "using std::cin, std::cout, std::endl, std::string;"
   ]
  },
  {
   "cell_type": "code",
   "execution_count": 9,
   "id": "64c6f82c-94af-4157-91d0-6556ab3eb0ec",
   "metadata": {},
   "outputs": [
    {
     "name": "stdin",
     "output_type": "stream",
     "text": [
      " abcd bcde\n"
     ]
    },
    {
     "name": "stdout",
     "output_type": "stream",
     "text": [
      "first is smaller\n"
     ]
    }
   ],
   "source": [
    "string s1, s2;\n",
    "cin >> s1 >> s2;\n",
    "if (s1 == s2) {\n",
    "    cout << \"strings are equal\" << endl;\n",
    "} else {\n",
    "    if (s1 < s2) {\n",
    "        cout << \"first is smaller\" << endl;\n",
    "    } else {\n",
    "        cout << \"first is larger\" << endl;\n",
    "    }\n",
    "}"
   ]
  },
  {
   "cell_type": "code",
   "execution_count": 10,
   "id": "f862cf4e-58ea-433b-86df-76502907b536",
   "metadata": {},
   "outputs": [
    {
     "name": "stdin",
     "output_type": "stream",
     "text": [
      " abcde bcde\n"
     ]
    },
    {
     "name": "stdout",
     "output_type": "stream",
     "text": [
      "first is longer\n"
     ]
    }
   ],
   "source": [
    "string s1, s2;\n",
    "cin >> s1 >> s2;\n",
    "if (s1.size() == s2.size()) {\n",
    "    cout << \"same length\" << endl;\n",
    "} else {\n",
    "    if (s1.size() > s2.size()) {\n",
    "        cout << \"first is longer\" << endl;\n",
    "    } else {\n",
    "        cout << \"second is longer\" << endl;\n",
    "    }\n",
    "}"
   ]
  },
  {
   "cell_type": "markdown",
   "id": "e82a5992-0fd2-4265-b1a6-73a685a7df05",
   "metadata": {},
   "source": [
    "### Exercise 3.5:\n",
    "Write a program to read strings from the standard input, concatenating what is read into one large string. Print the concatenated string. Next, change\n",
    "the program to separate adjacent input strings by a space."
   ]
  },
  {
   "cell_type": "code",
   "execution_count": 1,
   "id": "d51e1ee7-3fa4-4bc8-8db7-c4b3bd5b6fa3",
   "metadata": {
    "tags": []
   },
   "outputs": [],
   "source": [
    "#include <iostream>\n",
    "#include <string>\n",
    "\n",
    "using std::cin, std::cout, std::endl, std::string;"
   ]
  },
  {
   "cell_type": "code",
   "execution_count": 2,
   "id": "76c11ce3-74f7-4a9e-8a4b-e2e138af897d",
   "metadata": {},
   "outputs": [
    {
     "name": "stdin",
     "output_type": "stream",
     "text": [
      " a\n",
      " b\n",
      " cde\n",
      " efg\n",
      " end\n"
     ]
    },
    {
     "name": "stdout",
     "output_type": "stream",
     "text": [
      "abcdeefg\n"
     ]
    }
   ],
   "source": [
    "string total, curr;\n",
    "cin >> total;\n",
    "while (cin >> curr && curr != \"end\") {\n",
    "    total += curr;\n",
    "}\n",
    "cout << total << endl;"
   ]
  },
  {
   "cell_type": "code",
   "execution_count": 3,
   "id": "ef5d1750-ea60-4219-a8c2-7d451cca36be",
   "metadata": {
    "tags": []
   },
   "outputs": [
    {
     "name": "stdin",
     "output_type": "stream",
     "text": [
      " a\n",
      " b\n",
      " cde\n",
      " efg\n",
      " end\n"
     ]
    },
    {
     "name": "stdout",
     "output_type": "stream",
     "text": [
      "a b cde efg\n"
     ]
    }
   ],
   "source": [
    "string total, curr;\n",
    "cin >> total;\n",
    "while (cin >> curr && curr != \"end\") {\n",
    "    total += ' ';\n",
    "    total += curr;\n",
    "}\n",
    "cout << total << endl;"
   ]
  },
  {
   "cell_type": "markdown",
   "id": "16c7d9f9-01dc-48fe-af2b-3ae016b63b08",
   "metadata": {
    "jp-MarkdownHeadingCollapsed": true,
    "tags": []
   },
   "source": [
    "## Exercises Section 3.2.3"
   ]
  },
  {
   "cell_type": "markdown",
   "id": "669ab31e-b53d-4feb-97df-7f49f46cdb14",
   "metadata": {},
   "source": [
    "### Exercise 3.6:\n",
    "Use a range for to change all the characters in a string to X."
   ]
  },
  {
   "cell_type": "code",
   "execution_count": 2,
   "id": "0318f4fc-06e3-4a7c-ab99-d337cbc08d72",
   "metadata": {
    "tags": []
   },
   "outputs": [],
   "source": [
    "#include <iostream>\n",
    "#include <string>\n",
    "\n",
    "using std::cin, std::cout, std::endl, std::string;"
   ]
  },
  {
   "cell_type": "code",
   "execution_count": 4,
   "id": "000f56e0-d744-455e-97ef-af440d1b5888",
   "metadata": {},
   "outputs": [
    {
     "data": {
      "text/plain": [
       "\"XXXXXXXXXXX\""
      ]
     },
     "execution_count": 4,
     "metadata": {},
     "output_type": "execute_result"
    }
   ],
   "source": [
    "string s = \"some string\";\n",
    "for (auto &c: s)\n",
    "    c = 'X';\n",
    "s "
   ]
  },
  {
   "cell_type": "markdown",
   "id": "cc325089-c473-469f-8489-125ddb87649b",
   "metadata": {},
   "source": [
    "### Exercise 3.7:\n",
    "What would happen if you define the loop control variable in the previous exercise as type char? Predict the results and then change your program to use a\n",
    "char to see if you were right."
   ]
  },
  {
   "cell_type": "markdown",
   "id": "ab8882b4-f432-42fa-a08a-4eb5d3c4a7d2",
   "metadata": {},
   "source": [
    "A:\n",
    "\n",
    "Program should act the same, as `auto` changes into `char` when iterating over a `string`"
   ]
  },
  {
   "cell_type": "code",
   "execution_count": 5,
   "id": "8b816083-0806-4320-a9f5-70553ffb4424",
   "metadata": {
    "tags": []
   },
   "outputs": [],
   "source": [
    "#include <iostream>\n",
    "#include <string>\n",
    "\n",
    "using std::cin, std::cout, std::endl, std::string;"
   ]
  },
  {
   "cell_type": "code",
   "execution_count": 6,
   "id": "2a72585d-e8a7-4726-ac66-7ff7c1b47b6d",
   "metadata": {},
   "outputs": [
    {
     "data": {
      "text/plain": [
       "\"XXXXXXXXXXX\""
      ]
     },
     "execution_count": 6,
     "metadata": {},
     "output_type": "execute_result"
    }
   ],
   "source": [
    "string s = \"some string\";\n",
    "for (char &c: s)\n",
    "    c = 'X';\n",
    "s "
   ]
  },
  {
   "cell_type": "markdown",
   "id": "eb444e53-f079-461e-9f01-c0a5da91e437",
   "metadata": {},
   "source": [
    "### Exercise 3.8:\n",
    "Rewrite the program in the first exercise, first using a while and again\n",
    "using a traditional for loop. Which of the three approaches do you prefer and why?"
   ]
  },
  {
   "cell_type": "code",
   "execution_count": 7,
   "id": "8442e9ae-5c7b-4fc9-8bcb-1dff368b334d",
   "metadata": {
    "tags": []
   },
   "outputs": [],
   "source": [
    "#include <iostream>\n",
    "#include <string>\n",
    "\n",
    "using std::cin, std::cout, std::endl, std::string;"
   ]
  },
  {
   "cell_type": "code",
   "execution_count": 9,
   "id": "05136144-8219-4be0-99a9-2241c3e0809f",
   "metadata": {},
   "outputs": [
    {
     "data": {
      "text/plain": [
       "\"XXXXXXXXXXX\""
      ]
     },
     "execution_count": 9,
     "metadata": {},
     "output_type": "execute_result"
    }
   ],
   "source": [
    "string s = \"some string\";\n",
    "int i = 0;\n",
    "while (i < s.size())\n",
    "{\n",
    "    s[i] = 'X';\n",
    "    i++;\n",
    "}\n",
    "s\n"
   ]
  },
  {
   "cell_type": "code",
   "execution_count": 10,
   "id": "f302c0fd-cd11-48c6-b24d-afc6156c7713",
   "metadata": {},
   "outputs": [
    {
     "data": {
      "text/plain": [
       "\"XXXXXXXXXXX\""
      ]
     },
     "execution_count": 10,
     "metadata": {},
     "output_type": "execute_result"
    }
   ],
   "source": [
    "string s = \"some string\";\n",
    "int i = 0;\n",
    "for (int i = 0; i < s.size(); i++)\n",
    "{\n",
    "    s[i] = 'X';\n",
    "}\n",
    "s"
   ]
  },
  {
   "cell_type": "markdown",
   "id": "666ca772-905e-495f-b125-b9857fd82fff",
   "metadata": {},
   "source": [
    "A:\n",
    "\n",
    "`range for` is the easiest to use, produces the least code and is more readable"
   ]
  },
  {
   "cell_type": "markdown",
   "id": "7b4f03c1-0fd9-42f7-b3d5-a92a6edd92c0",
   "metadata": {},
   "source": [
    "### Exercise 3.9:\n",
    "What does the following program do? Is it valid? If not, why not?\n",
    "```\n",
    "string s;\n",
    "cout << s[0] << endl;\n",
    "```"
   ]
  },
  {
   "cell_type": "markdown",
   "id": "8a924dea-b3b3-4d12-914d-2d26eca5197f",
   "metadata": {},
   "source": [
    "A:\n",
    "\n",
    "It's not valid, as `s` is an empty string (`\"\"`). The behavior when accessing an index outside on the string's length is undefined."
   ]
  },
  {
   "cell_type": "markdown",
   "id": "4b78860f-6281-46b2-91f4-1350ade11912",
   "metadata": {},
   "source": [
    "### Exercise 3.10:\n",
    "Write a program that reads a string of characters including punctuation\n",
    "and writes what was read but with the punctuation removed."
   ]
  },
  {
   "cell_type": "code",
   "execution_count": 1,
   "id": "7b1233bf-fa2f-40d9-b9b1-a6456eaaa54e",
   "metadata": {
    "tags": []
   },
   "outputs": [],
   "source": [
    "#include <iostream>\n",
    "#include <string>\n",
    "\n",
    "using std::cin, std::cout, std::endl, std::string;"
   ]
  },
  {
   "cell_type": "code",
   "execution_count": 2,
   "id": "976956f6-46d9-4ec6-b3b9-6a4c7ce1e874",
   "metadata": {},
   "outputs": [
    {
     "name": "stdin",
     "output_type": "stream",
     "text": [
      " let's test this, shall we?\n"
     ]
    },
    {
     "name": "stdout",
     "output_type": "stream",
     "text": [
      "lets test this shall we\n"
     ]
    }
   ],
   "source": [
    "#include <cctype>\n",
    "\n",
    "string s;\n",
    "getline(cin, s);\n",
    "\n",
    "for (char &c: s)\n",
    "{\n",
    "    if (!ispunct(c))\n",
    "        cout << c;\n",
    "}\n",
    "cout << endl; "
   ]
  },
  {
   "cell_type": "markdown",
   "id": "5aad79a6-f4aa-49a8-b52d-657c786a39f9",
   "metadata": {},
   "source": [
    "### Exercise 3.11:\n",
    "Is the following range for legal? If so, what is the type of c?\n",
    "```\n",
    "const string s = \"Keep out!\";\n",
    "for (auto &c : s) { /* ... */ }\n",
    "```"
   ]
  },
  {
   "cell_type": "markdown",
   "id": "ad9162cb-8437-4918-8657-3aa38db0e2d0",
   "metadata": {},
   "source": [
    "A:\n",
    "\n",
    "It's legal, c has type `const char&`"
   ]
  },
  {
   "cell_type": "markdown",
   "id": "8eae1789-08f7-40d3-8750-e453aef1dd89",
   "metadata": {
    "jp-MarkdownHeadingCollapsed": true,
    "tags": []
   },
   "source": [
    "## Exercises Section 3.3.1"
   ]
  },
  {
   "cell_type": "markdown",
   "id": "163a46ae-0044-459e-8c32-74bee286002c",
   "metadata": {},
   "source": [
    "### Exercise 3.12:\n",
    "Which, if any, of the following vector definitions are in error? For\n",
    "those that are legal, explain what the definition does. For those that are not legal,\n",
    "explain why they are illegal.  \n",
    "(a) `vector<vector<int>> ivec;`  \n",
    "(b) `vector<string> svec = ivec;`  \n",
    "(c) `vector<string> svec(10, \"null\");`"
   ]
  },
  {
   "cell_type": "markdown",
   "id": "1ca0fd4d-5397-4fa1-973d-44bd13015c94",
   "metadata": {},
   "source": [
    "A:\n",
    "\n",
    "a) legal, creates an empty matrix of `int`s (vector of vectors)  \n",
    "b) illegal, types mismatch  \n",
    "c) legal, creates vector with 10 identical strings \"null\""
   ]
  },
  {
   "cell_type": "code",
   "execution_count": 1,
   "id": "187cc52b-79c1-4007-bd7c-a92f92a02f0b",
   "metadata": {
    "tags": []
   },
   "outputs": [],
   "source": [
    "#include <vector>\n",
    "#include <string>\n",
    "\n",
    "using std::vector, std::string;"
   ]
  },
  {
   "cell_type": "code",
   "execution_count": 2,
   "id": "f981e189-2af1-4315-bd74-d6dbe004072e",
   "metadata": {},
   "outputs": [
    {
     "name": "stderr",
     "output_type": "stream",
     "text": [
      "input_line_9:3:16: error: no viable conversion from 'vector<vector<int>>' to 'vector<std::string>'\n",
      "vector<string> svec = ivec;\n",
      "               ^      ~~~~\n",
      "/opt/conda/bin/../lib/gcc/x86_64-conda-linux-gnu/9.3.0/../../../../x86_64-conda-linux-gnu/include/c++/9.3.0/bits/stl_vector.h:550:7: note: candidate constructor not viable: no known conversion from 'vector<vector<int> >' to 'const std::vector<std::__cxx11::basic_string<char>, std::allocator<std::__cxx11::basic_string<char> > > &' for 1st argument\n",
      "      vector(const vector& __x)\n",
      "      ^\n",
      "/opt/conda/bin/../lib/gcc/x86_64-conda-linux-gnu/9.3.0/../../../../x86_64-conda-linux-gnu/include/c++/9.3.0/bits/stl_vector.h:569:7: note: candidate constructor not viable: no known conversion from 'vector<vector<int> >' to 'std::vector<std::__cxx11::basic_string<char>, std::allocator<std::__cxx11::basic_string<char> > > &&' for 1st argument\n",
      "      vector(vector&&) noexcept = default;\n",
      "      ^\n",
      "/opt/conda/bin/../lib/gcc/x86_64-conda-linux-gnu/9.3.0/../../../../x86_64-conda-linux-gnu/include/c++/9.3.0/bits/stl_vector.h:622:7: note: candidate constructor not viable: no known conversion from 'vector<vector<int> >' to 'initializer_list<std::vector<std::__cxx11::basic_string<char>, std::allocator<std::__cxx11::basic_string<char> > >::value_type>' (aka 'initializer_list<std::__cxx11::basic_string<char> >') for 1st argument\n",
      "      vector(initializer_list<value_type> __l,\n",
      "      ^\n"
     ]
    },
    {
     "ename": "Interpreter Error",
     "evalue": "",
     "output_type": "error",
     "traceback": [
      "Interpreter Error: "
     ]
    }
   ],
   "source": [
    "vector<vector<int>> ivec;\n",
    "vector<string> svec = ivec;"
   ]
  },
  {
   "cell_type": "code",
   "execution_count": 2,
   "id": "7bfbe761-6ae9-449a-95c4-db7f2529134f",
   "metadata": {},
   "outputs": [],
   "source": [
    "vector<string> svec(10, \"null\");"
   ]
  },
  {
   "cell_type": "code",
   "execution_count": 3,
   "id": "fa5ee2ea-2b30-4ba4-9eac-6e816437eda9",
   "metadata": {},
   "outputs": [
    {
     "data": {
      "text/plain": [
       "{ \"null\", \"null\", \"null\", \"null\", \"null\", \"null\", \"null\", \"null\", \"null\", \"null\" }"
      ]
     },
     "execution_count": 3,
     "metadata": {},
     "output_type": "execute_result"
    }
   ],
   "source": [
    "svec"
   ]
  },
  {
   "cell_type": "markdown",
   "id": "a143014e-5313-4f31-88f0-0d8589355446",
   "metadata": {},
   "source": [
    "### Exercise 3.13:\n",
    "How many elements are there in each of the following vectors? What\n",
    "are the values of the elements?  \n",
    "(a) `vector<int> v1;`  \n",
    "(b) `vector<int> v2(10);`  \n",
    "(c) `vector<int> v3(10, 42);`  \n",
    "(d) `vector<int> v4{10};`  \n",
    "(e) `vector<int> v5{10, 42};`  \n",
    "(f) `vector<string> v6{10};`  \n",
    "(g) `vector<string> v7{10, \"hi\"};`  "
   ]
  },
  {
   "cell_type": "markdown",
   "id": "596a1f3a-03ed-4616-a4fd-9146b4be538e",
   "metadata": {},
   "source": [
    "A:\n",
    "\n",
    "a) empty  \n",
    "b) 10 elements `0`  \n",
    "c) 10 elements `42`  \n",
    "d) 1 element `10`  \n",
    "e) 2 elements `10` and `42`  \n",
    "f) 10 elements `\"\"`  \n",
    "g) 10 elements `\"hi\"`"
   ]
  },
  {
   "cell_type": "code",
   "execution_count": 1,
   "id": "9edb6b36-8126-43ca-a714-8a0fb2c273d8",
   "metadata": {
    "tags": []
   },
   "outputs": [],
   "source": [
    "#include <vector>\n",
    "#include <string>\n",
    "\n",
    "using std::vector, std::string;"
   ]
  },
  {
   "cell_type": "code",
   "execution_count": 2,
   "id": "5c852421-8c7c-46a1-9d61-ad1925ced4f4",
   "metadata": {},
   "outputs": [
    {
     "data": {
      "text/plain": [
       "{ 10 }"
      ]
     },
     "execution_count": 2,
     "metadata": {},
     "output_type": "execute_result"
    }
   ],
   "source": [
    "vector<int> v5{10};\n",
    "v5"
   ]
  },
  {
   "cell_type": "code",
   "execution_count": 3,
   "id": "8485f8e1-fe01-459b-b659-027b7fa69919",
   "metadata": {},
   "outputs": [
    {
     "data": {
      "text/plain": [
       "{ \"\", \"\", \"\", \"\", \"\", \"\", \"\", \"\", \"\", \"\" }"
      ]
     },
     "execution_count": 3,
     "metadata": {},
     "output_type": "execute_result"
    }
   ],
   "source": [
    "vector<string> v6{10};\n",
    "v6"
   ]
  },
  {
   "cell_type": "markdown",
   "id": "e114170e-c8cd-46de-b73a-1f0750b3eb29",
   "metadata": {
    "jp-MarkdownHeadingCollapsed": true,
    "tags": []
   },
   "source": [
    "## Exercises Section 3.3.2"
   ]
  },
  {
   "cell_type": "markdown",
   "id": "ccb421ee-7e87-4963-b4db-29501c2d8ae8",
   "metadata": {
    "jp-MarkdownHeadingCollapsed": true,
    "tags": []
   },
   "source": [
    "### Exercise 3.14:\n",
    "Write a program to read a sequence of ints from cin and store those\n",
    "values in a vector."
   ]
  },
  {
   "cell_type": "code",
   "execution_count": 1,
   "id": "b43b4f6d-35c9-4c98-bf56-5dcec84d844d",
   "metadata": {
    "tags": []
   },
   "outputs": [],
   "source": [
    "#include <iostream>\n",
    "#include <string>\n",
    "#include <vector>\n",
    "\n",
    "using std::cin, std::cout, std::endl, std::string, std::vector;"
   ]
  },
  {
   "cell_type": "code",
   "execution_count": 2,
   "id": "008a4880-54e5-4576-a407-dfa20ad29a4a",
   "metadata": {},
   "outputs": [
    {
     "name": "stdin",
     "output_type": "stream",
     "text": [
      " 1 2 3 4 2137\n",
      " -1\n"
     ]
    },
    {
     "data": {
      "text/plain": [
       "{ 1, 2, 3, 4, 2137 }"
      ]
     },
     "execution_count": 2,
     "metadata": {},
     "output_type": "execute_result"
    }
   ],
   "source": [
    "int i;\n",
    "vector<int> v;\n",
    "\n",
    "while (cin >> i && i != -1)\n",
    "    v.push_back(i);\n",
    "\n",
    "v"
   ]
  },
  {
   "cell_type": "markdown",
   "id": "996cfa2a-8312-4d2c-9737-724ae041f288",
   "metadata": {
    "tags": []
   },
   "source": [
    "### Exercise 3.15:\n",
    "Repeat the previous program but read strings this time."
   ]
  },
  {
   "cell_type": "code",
   "execution_count": 1,
   "id": "6142510c-29fe-4afc-b2b1-b87a294fdc90",
   "metadata": {
    "tags": []
   },
   "outputs": [],
   "source": [
    "#include <iostream>\n",
    "#include <string>\n",
    "#include <vector>\n",
    "\n",
    "using std::cin, std::cout, std::endl, std::string, std::vector;"
   ]
  },
  {
   "cell_type": "code",
   "execution_count": 2,
   "id": "4cb397d3-a74b-4e55-b518-76831f778eba",
   "metadata": {},
   "outputs": [
    {
     "name": "stdin",
     "output_type": "stream",
     "text": [
      " ok let's test how vectors are doing!\n",
      " end\n"
     ]
    },
    {
     "data": {
      "text/plain": [
       "{ \"ok\", \"let's\", \"test\", \"how\", \"vectors\", \"are\", \"doing!\" }"
      ]
     },
     "execution_count": 2,
     "metadata": {},
     "output_type": "execute_result"
    }
   ],
   "source": [
    "string s;\n",
    "vector<string> v;\n",
    "\n",
    "while (cin >> s && s != \"end\")\n",
    "    v.push_back(s);\n",
    "\n",
    "v"
   ]
  },
  {
   "cell_type": "markdown",
   "id": "b7b7ed62-4bfc-4ade-9c9d-db06bfc398a2",
   "metadata": {
    "jp-MarkdownHeadingCollapsed": true,
    "tags": []
   },
   "source": [
    "## Exercises Section 3.3.3"
   ]
  },
  {
   "cell_type": "markdown",
   "id": "2194f593-ce90-4783-8693-c1c52e6f7469",
   "metadata": {
    "jp-MarkdownHeadingCollapsed": true,
    "tags": []
   },
   "source": [
    "### Exercise 3.16:\n",
    "Write a program to print the size and contents of the vectors from\n",
    "exercise 3.13. Check whether your answers to that exercise were correct. If not, restudy\n",
    "§ 3.3.1 (p. 97) until you understand why you were wrong."
   ]
  },
  {
   "cell_type": "code",
   "execution_count": 1,
   "id": "a040897d-6502-4296-a83f-07659c309d16",
   "metadata": {
    "tags": []
   },
   "outputs": [],
   "source": [
    "#include <iostream>\n",
    "#include <string>\n",
    "#include <vector>\n",
    "\n",
    "using std::cin, std::cout, std::endl, std::string, std::vector;"
   ]
  },
  {
   "cell_type": "code",
   "execution_count": 3,
   "id": "50163cde-223d-4c50-9741-c397c3beea06",
   "metadata": {},
   "outputs": [
    {
     "name": "stdout",
     "output_type": "stream",
     "text": [
      "v1\n",
      "\n",
      "\n",
      "v2\n",
      "0 0 0 0 0 0 0 0 0 0 \n",
      "\n",
      "v3\n",
      "42 42 42 42 42 42 42 42 42 42 \n",
      "\n",
      "v4\n",
      "10 \n",
      "\n",
      "v5\n",
      "10 42 \n",
      "\n",
      "v6\n",
      "          \n",
      "\n",
      "v7\n",
      "hi hi hi hi hi hi hi hi hi hi \n",
      "\n"
     ]
    }
   ],
   "source": [
    "vector<int> v1;\n",
    "vector<int> v2(10);\n",
    "vector<int> v3(10, 42);\n",
    "vector<int> v4{10};\n",
    "vector<int> v5{10, 42};\n",
    "vector<string> v6{10};\n",
    "vector<string> v7{10, \"hi\"};\n",
    "\n",
    "cout << \"v1\" << endl;\n",
    "for (auto e: v1)\n",
    "    cout << e << \" \";\n",
    "cout << endl;\n",
    "cout << endl;\n",
    "\n",
    "cout << \"v2\" << endl;\n",
    "for (auto e: v2)\n",
    "    cout << e << \" \";\n",
    "cout << endl;\n",
    "cout << endl;\n",
    "\n",
    "cout << \"v3\" << endl;\n",
    "for (auto e: v3)\n",
    "    cout << e << \" \";\n",
    "cout << endl;\n",
    "cout << endl;\n",
    "\n",
    "cout << \"v4\" << endl;\n",
    "for (auto e: v4)\n",
    "    cout << e << \" \";\n",
    "cout << endl;\n",
    "cout << endl;\n",
    "\n",
    "cout << \"v5\" << endl;\n",
    "for (auto e: v5)\n",
    "    cout << e << \" \";\n",
    "cout << endl;\n",
    "cout << endl;\n",
    "\n",
    "cout << \"v6\" << endl;\n",
    "for (auto e: v6)\n",
    "    cout << e << \" \";\n",
    "cout << endl;\n",
    "cout << endl;\n",
    "\n",
    "cout << \"v7\" << endl;\n",
    "for (auto e: v7)\n",
    "    cout << e << \" \";\n",
    "cout << endl;\n",
    "cout << endl;"
   ]
  },
  {
   "cell_type": "markdown",
   "id": "99b49fee-7f0c-48c5-8d23-79158b541e2d",
   "metadata": {},
   "source": [
    "### Exercise 3.17:\n",
    "Read a sequence of words from cin and store the values a vector. After you’ve read all the words, process the vector and change each word to uppercase.\n",
    "Print the transformed elements, eight words to a line."
   ]
  },
  {
   "cell_type": "code",
   "execution_count": 1,
   "id": "9e443452-fd84-4c08-be80-7bd09079be51",
   "metadata": {
    "tags": []
   },
   "outputs": [],
   "source": [
    "#include <iostream>\n",
    "#include <string>\n",
    "#include <vector>\n",
    "\n",
    "using std::cin, std::cout, std::endl, std::string, std::vector;"
   ]
  },
  {
   "cell_type": "code",
   "execution_count": 5,
   "id": "f1d981e2-eb00-4c31-9aa9-d959f4dd8d3d",
   "metadata": {},
   "outputs": [
    {
     "name": "stdin",
     "output_type": "stream",
     "text": [
      " lots of testing to get beyond 8 words but we'll manage this somehow hopefully\n",
      " end\n"
     ]
    },
    {
     "name": "stdout",
     "output_type": "stream",
     "text": [
      "LOTS OF TESTING TO GET BEYOND 8 WORDS BUT\n",
      "WE'LL MANAGE THIS SOMEHOW HOPEFULLY \n"
     ]
    }
   ],
   "source": [
    "string s;\n",
    "vector<string> v;\n",
    "\n",
    "while (cin >> s && s != \"end\")\n",
    "    v.push_back(s);\n",
    "\n",
    "for (auto &s : v)\n",
    "    for (auto &c : s)\n",
    "        c = toupper(c);\n",
    "\n",
    "int w = 0;\n",
    "for (auto s : v)\n",
    "{\n",
    "    cout << s;\n",
    "    if (w < 8)\n",
    "    {\n",
    "        cout << \" \";\n",
    "    }\n",
    "    else\n",
    "    {\n",
    "        cout << \"\\n\";\n",
    "        w = 0;\n",
    "    }\n",
    "    w++;\n",
    "}\n",
    "cout << endl;"
   ]
  },
  {
   "cell_type": "markdown",
   "id": "35e48f05-95e1-4518-b068-b1b703082e49",
   "metadata": {},
   "source": [
    "### Exercise 3.18:\n",
    "Is the following program legal? If not, how might you fix it?\n",
    "```\n",
    "vector<int> ivec;\n",
    "ivec[0] = 42;\n",
    "```"
   ]
  },
  {
   "cell_type": "markdown",
   "id": "73bc5d87-f6cf-42d3-a3f7-3b6c77cba1d7",
   "metadata": {},
   "source": [
    "A:\n",
    "\n",
    "Illegal, use `ivec.push_back(42)` instead, as `ivec` is empty"
   ]
  },
  {
   "cell_type": "markdown",
   "id": "dcddb176-6cee-44f0-ba94-9ed06ac25eae",
   "metadata": {},
   "source": [
    "### Exercise 3.19:\n",
    "List three ways to define a vector and give it ten elements, each with\n",
    "the value 42. Indicate whether there is a preferred way to do so and why."
   ]
  },
  {
   "cell_type": "code",
   "execution_count": 1,
   "id": "a79be96d-e4e7-4fae-b03c-069ee1f9ed7e",
   "metadata": {
    "tags": []
   },
   "outputs": [],
   "source": [
    "#include <vector>\n",
    "\n",
    "using std::vector;"
   ]
  },
  {
   "cell_type": "code",
   "execution_count": 4,
   "id": "f3e209af-9efc-4e6c-ba3c-fe3b39e03303",
   "metadata": {},
   "outputs": [
    {
     "data": {
      "text/plain": [
       "{ 42, 42, 42, 42, 42, 42, 42, 42, 42, 42 }"
      ]
     },
     "execution_count": 4,
     "metadata": {},
     "output_type": "execute_result"
    }
   ],
   "source": [
    "vector<int> v1(10, 42);\n",
    "v1"
   ]
  },
  {
   "cell_type": "code",
   "execution_count": 5,
   "id": "0c47b0b4-e8a5-430a-b4af-976ed10fe42b",
   "metadata": {},
   "outputs": [
    {
     "data": {
      "text/plain": [
       "{ 42, 42, 42, 42, 42, 42, 42, 42, 42, 42 }"
      ]
     },
     "execution_count": 5,
     "metadata": {},
     "output_type": "execute_result"
    }
   ],
   "source": [
    "vector<int> v2 = {42, 42, 42, 42, 42, 42, 42, 42, 42, 42};\n",
    "v2"
   ]
  },
  {
   "cell_type": "code",
   "execution_count": 7,
   "id": "09b26639-a9ac-4c47-8229-66614c01b8c8",
   "metadata": {},
   "outputs": [
    {
     "data": {
      "text/plain": [
       "{ 42, 42, 42, 42, 42, 42, 42, 42, 42, 42 }"
      ]
     },
     "execution_count": 7,
     "metadata": {},
     "output_type": "execute_result"
    }
   ],
   "source": [
    "vector<int> v3;\n",
    "for (int i = 0; i < 10; i++)\n",
    "    v3.push_back(42);\n",
    "v3"
   ]
  },
  {
   "cell_type": "markdown",
   "id": "5e75dafb-144c-44fa-a99b-441c3ccc1fd9",
   "metadata": {},
   "source": [
    "A:\n",
    "\n",
    "The first way is the one that's shortest to write and easiest to modify"
   ]
  },
  {
   "cell_type": "markdown",
   "id": "a6c80302-2d3d-4f7b-b30f-85e6319547dc",
   "metadata": {},
   "source": [
    "### Exercise 3.20:\n",
    "Read a set of integers into a vector. Print the sum of each pair of\n",
    "adjacent elements. Change your program so that it prints the sum of the first and last\n",
    "elements, followed by the sum of the second and second-to-last, and so on."
   ]
  },
  {
   "cell_type": "code",
   "execution_count": 1,
   "id": "da3737cc-a502-4341-9f2f-7b7717fa199d",
   "metadata": {
    "tags": []
   },
   "outputs": [],
   "source": [
    "#include <iostream>\n",
    "#include <vector>\n",
    "\n",
    "using std::cin, std::cout, std::endl, std::vector;"
   ]
  },
  {
   "cell_type": "code",
   "execution_count": 9,
   "id": "4a647c9d-7b81-49b3-b6ba-16f990811c0e",
   "metadata": {},
   "outputs": [
    {
     "name": "stdin",
     "output_type": "stream",
     "text": [
      " 1 2 3 4 5 6\n",
      " -1\n"
     ]
    },
    {
     "name": "stdout",
     "output_type": "stream",
     "text": [
      "3 7 11 \n"
     ]
    }
   ],
   "source": [
    "int i = 0;\n",
    "vector<int> v;\n",
    "\n",
    "while (cin >> i && i != -1)\n",
    "    v.push_back(i);\n",
    "\n",
    "for (i = 0; i < v.size() / 2; i++)\n",
    "{\n",
    "    cout << v[i * 2] + v[i * 2 + 1] << \" \";\n",
    "}\n",
    "cout << endl;"
   ]
  },
  {
   "cell_type": "code",
   "execution_count": 10,
   "id": "cb877448-7973-43f8-975d-716ab3db6a7c",
   "metadata": {},
   "outputs": [
    {
     "name": "stdin",
     "output_type": "stream",
     "text": [
      " 1 2 3 4 5 6\n",
      " -1\n"
     ]
    },
    {
     "name": "stdout",
     "output_type": "stream",
     "text": [
      "7 7 7 \n"
     ]
    }
   ],
   "source": [
    "int i = 0;\n",
    "vector<int> v;\n",
    "\n",
    "while (cin >> i && i != -1)\n",
    "    v.push_back(i);\n",
    "\n",
    "for (i = 0; i < v.size() / 2; i++)\n",
    "{\n",
    "    cout << v[i] + v[v.size() - 1 - i] << \" \";\n",
    "}\n",
    "cout << endl;"
   ]
  },
  {
   "cell_type": "markdown",
   "id": "0b193bcc-176f-49d9-8e1e-a0295db60d96",
   "metadata": {
    "jp-MarkdownHeadingCollapsed": true,
    "tags": []
   },
   "source": [
    "## Exercises Section 3.4.1"
   ]
  },
  {
   "cell_type": "markdown",
   "id": "85145676-9412-4a4d-9a39-4006d5da7908",
   "metadata": {},
   "source": [
    "### Exercise 3.21:\n",
    "Redo the first exercise from § 3.3.3 (p. 105) using iterators."
   ]
  },
  {
   "cell_type": "code",
   "execution_count": 1,
   "id": "d8f5d433-3ee0-41f2-9734-c6940039387b",
   "metadata": {
    "tags": []
   },
   "outputs": [],
   "source": [
    "#include <iostream>\n",
    "#include <string>\n",
    "#include <vector>\n",
    "\n",
    "using std::cin, std::cout, std::endl, std::string, std::vector;"
   ]
  },
  {
   "cell_type": "code",
   "execution_count": 5,
   "id": "854ff68a-a473-4386-aafc-d5251854f3e8",
   "metadata": {},
   "outputs": [
    {
     "name": "stdout",
     "output_type": "stream",
     "text": [
      "v1\n",
      "\n",
      "\n",
      "v2\n",
      "0 0 0 0 0 0 0 0 0 0 \n",
      "\n",
      "v3\n",
      "42 42 42 42 42 42 42 42 42 42 \n",
      "\n",
      "v4\n",
      "10 \n",
      "\n",
      "v5\n",
      "10 42 \n",
      "\n",
      "v6\n",
      "          \n",
      "\n",
      "v7\n",
      "hi hi hi hi hi hi hi hi hi hi \n",
      "\n"
     ]
    }
   ],
   "source": [
    "vector<int> v1;\n",
    "vector<int> v2(10);\n",
    "vector<int> v3(10, 42);\n",
    "vector<int> v4{10};\n",
    "vector<int> v5{10, 42};\n",
    "vector<string> v6{10};\n",
    "vector<string> v7{10, \"hi\"};\n",
    "\n",
    "cout << \"v1\" << endl;\n",
    "for (auto it = v1.begin(); it != v1.end(); ++it)\n",
    "    cout << *it << \" \";\n",
    "cout << endl;\n",
    "cout << endl;\n",
    "\n",
    "cout << \"v2\" << endl;\n",
    "for (auto it = v2.begin(); it != v2.end(); ++it)\n",
    "    cout << *it << \" \";\n",
    "cout << endl;\n",
    "cout << endl;\n",
    "\n",
    "cout << \"v3\" << endl;\n",
    "for (auto it = v3.begin(); it != v3.end(); ++it)\n",
    "    cout << *it << \" \";\n",
    "cout << endl;\n",
    "cout << endl;\n",
    "\n",
    "cout << \"v4\" << endl;\n",
    "for (auto it = v4.begin(); it != v4.end(); ++it)\n",
    "    cout << *it << \" \";\n",
    "cout << endl;\n",
    "cout << endl;\n",
    "\n",
    "cout << \"v5\" << endl;\n",
    "for (auto it = v5.begin(); it != v5.end(); ++it)\n",
    "    cout << *it << \" \";\n",
    "cout << endl;\n",
    "cout << endl;\n",
    "\n",
    "cout << \"v6\" << endl;\n",
    "for (auto it = v6.begin(); it != v6.end(); ++it)\n",
    "    cout << *it << \" \";\n",
    "cout << endl;\n",
    "cout << endl;\n",
    "\n",
    "cout << \"v7\" << endl;\n",
    "for (auto it = v7.begin(); it != v7.end(); ++it)\n",
    "    cout << *it << \" \";\n",
    "cout << endl;\n",
    "cout << endl;"
   ]
  },
  {
   "cell_type": "markdown",
   "id": "23369acc-89ab-4013-b636-32e4c7bb4e38",
   "metadata": {},
   "source": [
    "### Exercise 3.22:\n",
    "Revise the loop that printed the first paragraph in text to instead\n",
    "change the elements in text that correspond to the first paragraph to all uppercase.\n",
    "After you’ve updated text, print its contents.\n",
    "\n",
    "```\n",
    "// print each line in text up to the first blank line\n",
    "for (auto it = text.cbegin();\n",
    "    it != text.cend() && !it->empty(); ++it)\n",
    "    cout << *it << endl;\n",
    "```"
   ]
  },
  {
   "cell_type": "code",
   "execution_count": 1,
   "id": "537484b1-9ace-4895-a66b-2fc4ebc694c6",
   "metadata": {
    "tags": []
   },
   "outputs": [],
   "source": [
    "#include <iostream>\n",
    "#include <string>\n",
    "#include <vector>\n",
    "\n",
    "using std::cin, std::cout, std::endl, std::string, std::vector;"
   ]
  },
  {
   "cell_type": "code",
   "execution_count": 2,
   "id": "0515f8b7-000b-43c3-a3f6-1365a28ae321",
   "metadata": {},
   "outputs": [
    {
     "name": "stdout",
     "output_type": "stream",
     "text": [
      "TEST1\n",
      "TEST2\n",
      "\n",
      "test3\n"
     ]
    }
   ],
   "source": [
    "vector<string> text = {\"test1\", \"test2\", \"\", \"test3\"};\n",
    "for (auto it = text.begin(); it != text.end() && !it->empty(); ++it)\n",
    "    for (auto &c : *it)\n",
    "        c = toupper(c);\n",
    "\n",
    "for (auto it = text.cbegin(); it != text.cend(); ++it)\n",
    "    cout << *it << endl;"
   ]
  },
  {
   "cell_type": "markdown",
   "id": "d937ba6a-3f74-4579-8b6a-b652287db665",
   "metadata": {},
   "source": [
    "### Exercise 3.23:\n",
    "Write a program to create a vector with ten int elements. Using an\n",
    "iterator, assign each element a value that is twice its current value. Test your program\n",
    "by printing the vector."
   ]
  },
  {
   "cell_type": "code",
   "execution_count": 1,
   "id": "a061ec88-e95a-47bc-b176-3d298716e899",
   "metadata": {
    "tags": []
   },
   "outputs": [],
   "source": [
    "#include <vector>\n",
    "\n",
    "using std::vector;"
   ]
  },
  {
   "cell_type": "code",
   "execution_count": 2,
   "id": "44ec4ac2-f966-4892-8f9f-5edf69c91e25",
   "metadata": {
    "tags": []
   },
   "outputs": [
    {
     "data": {
      "text/plain": [
       "{ 2, 4274, 6, 8, 10, 12, 14, 16, 18, 20 }"
      ]
     },
     "execution_count": 2,
     "metadata": {},
     "output_type": "execute_result"
    }
   ],
   "source": [
    "vector<int> v = {1, 2137, 3, 4, 5, 6, 7, 8, 9, 10};\n",
    "for (auto it = v.begin(); it != v.end(); ++it)\n",
    "    *it = *it * 2;\n",
    "\n",
    "v"
   ]
  },
  {
   "cell_type": "markdown",
   "id": "eb6236ef-f9cf-4b64-9441-38a238bb8015",
   "metadata": {
    "jp-MarkdownHeadingCollapsed": true,
    "tags": []
   },
   "source": [
    "## Exercises Section 3.4.2"
   ]
  },
  {
   "cell_type": "markdown",
   "id": "ae0e3799-e020-4d9a-907b-c5159ae500bd",
   "metadata": {},
   "source": [
    "### Exercise 3.24:\n",
    "Redo the last exercise from § 3.3.3 (p. 105) using iterators."
   ]
  },
  {
   "cell_type": "code",
   "execution_count": 1,
   "id": "837cf3df-8aba-45f4-b4e5-e84792dae814",
   "metadata": {
    "tags": []
   },
   "outputs": [],
   "source": [
    "#include <iostream>\n",
    "#include <vector>\n",
    "\n",
    "using std::cin, std::cout, std::endl, std::vector;"
   ]
  },
  {
   "cell_type": "code",
   "execution_count": 2,
   "id": "a8b937ad-0599-42aa-8a7d-77e1b54cbcd0",
   "metadata": {},
   "outputs": [
    {
     "name": "stdin",
     "output_type": "stream",
     "text": [
      " 1 2 3 4 5 6\n",
      " -1\n"
     ]
    },
    {
     "name": "stdout",
     "output_type": "stream",
     "text": [
      "3 7 11 \n"
     ]
    }
   ],
   "source": [
    "int i = 0;\n",
    "vector<int> v;\n",
    "\n",
    "while (cin >> i && i != -1)\n",
    "    v.push_back(i);\n",
    "\n",
    "for (auto it = v.begin(); it < v.end(); it += 2)\n",
    "    cout << *it + *(it + 1) << \" \";\n",
    "cout << endl;"
   ]
  },
  {
   "cell_type": "code",
   "execution_count": 3,
   "id": "e5f3e3af-a687-4e0c-bedd-985d28718906",
   "metadata": {},
   "outputs": [
    {
     "name": "stdin",
     "output_type": "stream",
     "text": [
      " 1 2 3 4 5 6\n",
      " -1\n"
     ]
    },
    {
     "name": "stdout",
     "output_type": "stream",
     "text": [
      "7 7 7 "
     ]
    }
   ],
   "source": [
    "int i = 0;\n",
    "vector<int> v;\n",
    "\n",
    "while (cin >> i && i != -1)\n",
    "    v.push_back(i);\n",
    "\n",
    "auto beg = v.cbegin(), end = v.cend(), mid = beg + (end-beg)/2;\n",
    "for (auto it = beg; it != mid; it++)\n",
    "    cout << *it + *(end - (it - beg) - 1) << \" \";"
   ]
  },
  {
   "cell_type": "markdown",
   "id": "daec4164-b3a3-4fc3-94bd-c9ceb3883c7c",
   "metadata": {},
   "source": [
    "### Exercise 3.25:\n",
    "Rewrite the grade clustering program from § 3.3.3 (p. 104) using iterators instead of subscripts.\n",
    "\n",
    "```\n",
    "vector<unsigned> scores(11, 0); // 11 buckets, all initially 0\n",
    "unsigned grade;\n",
    "while (cin >> grade) {      // read the grades\n",
    "    if (grade <= 100)       // handle only valid grades\n",
    "        ++scores[grade/10]; // increment the counter for the current cluster\n",
    "}\n",
    "```"
   ]
  },
  {
   "cell_type": "code",
   "execution_count": 1,
   "id": "4e7d7eec-1c75-438b-9a16-1b576e7a5a70",
   "metadata": {
    "tags": []
   },
   "outputs": [],
   "source": [
    "#include <iostream>\n",
    "#include <vector>\n",
    "\n",
    "using std::cin, std::cout, std::endl, std::vector;"
   ]
  },
  {
   "cell_type": "code",
   "execution_count": 2,
   "id": "b8204640-bd59-4552-b082-5c580835656e",
   "metadata": {},
   "outputs": [
    {
     "name": "stdin",
     "output_type": "stream",
     "text": [
      " 8 40 60 62 63\n",
      " -1\n"
     ]
    }
   ],
   "source": [
    "vector<unsigned> scores(11, 0);\n",
    "unsigned grade;\n",
    "while (cin >> grade && grade != -1)\n",
    "    if (grade <= 100) \n",
    "        ++(*(scores.begin() + (grade/10)));\n",
    "        //++scores[grade/10];"
   ]
  },
  {
   "cell_type": "code",
   "execution_count": 3,
   "id": "7e9f552c-3576-4a39-8d5c-008adba9b045",
   "metadata": {},
   "outputs": [
    {
     "data": {
      "text/plain": [
       "{ 1, 0, 0, 0, 1, 0, 3, 0, 0, 0, 0 }"
      ]
     },
     "execution_count": 3,
     "metadata": {},
     "output_type": "execute_result"
    }
   ],
   "source": [
    "scores"
   ]
  },
  {
   "cell_type": "markdown",
   "id": "7e720778-0193-425b-9d34-e58bd5a5d0dd",
   "metadata": {},
   "source": [
    "### Exercise 3.26:\n",
    "In the binary search program on page 112, why did we write \n",
    "`mid = beg+ (end - beg) / 2;` instead of `mid = (beg + end) /2;`?"
   ]
  },
  {
   "cell_type": "markdown",
   "id": "cb73ee98-70e6-4b68-bbcb-e02f58b716b7",
   "metadata": {},
   "source": [
    "A:\n",
    "\n",
    "Iterators can't be added to each other, only subtracted"
   ]
  },
  {
   "cell_type": "markdown",
   "id": "3d42ebfa-a85a-4737-81f1-ef91a50dcc11",
   "metadata": {
    "jp-MarkdownHeadingCollapsed": true,
    "tags": []
   },
   "source": [
    "## Exercises Section 3.5.1"
   ]
  },
  {
   "cell_type": "markdown",
   "id": "eb4bf4a3-6eb9-490d-a224-4bdeb96610c2",
   "metadata": {},
   "source": [
    "### Exercise 3.27: \n",
    "Assuming `txt_size` is a function that takes no arguments and returns\n",
    "an `int` value, which of the following definitions are illegal? Explain why.  \n",
    "`unsigned buf_size = 1024;`  \n",
    "(a) `int ia[buf_size];`  \n",
    "(b) `int ia[4 * 7 - 14];`  \n",
    "(c) `int ia[txt_size()];`  \n",
    "(d) `char st[11] = \"fundamental\";`  "
   ]
  },
  {
   "cell_type": "markdown",
   "id": "75f523db-c406-4191-bf5a-ce04a3c38a01",
   "metadata": {},
   "source": [
    "A:\n",
    "\n",
    "a) illegal, buf_size is not a constexpr  \n",
    "b) legal  \n",
    "c) illegal, txt_size is not a constexpr  \n",
    "d) illegal, no space for `\\0`"
   ]
  },
  {
   "cell_type": "markdown",
   "id": "558d4c35-fecb-4651-9d47-017308da443b",
   "metadata": {
    "tags": []
   },
   "source": [
    "### Exercise 3.28: \n",
    "What are the values in the following arrays?\n",
    "```\n",
    "string sa[10];\n",
    "int ia[10];\n",
    "int main() {\n",
    "    string sa2[10];\n",
    "    int ia2[10];\n",
    "}\n",
    "```"
   ]
  },
  {
   "cell_type": "markdown",
   "id": "343ec920-3df9-45b8-879a-595c67f414ad",
   "metadata": {},
   "source": [
    "A:\n",
    "\n",
    "`string sa[10];` == 10 empty strings `\"\"`  \n",
    "`int ia[10];` == 10 undefined int  \n",
    "`string sa2[10];` == 10 empty strings `\"\"`  \n",
    "`int ia2[10];` == 10 int with value `0`"
   ]
  },
  {
   "cell_type": "markdown",
   "id": "8e447e28-2762-4fb7-be88-20da967460f7",
   "metadata": {},
   "source": [
    "### Exercise 3.29:\n",
    "List some of the drawbacks of using an `array` instead of a `vector`."
   ]
  },
  {
   "cell_type": "markdown",
   "id": "a319e01a-94fe-430c-a451-88f697c4054a",
   "metadata": {},
   "source": [
    "A:\n",
    "\n",
    "`array` can't change it's size after declaration.  \n",
    "`array` can't be assigned to another `array`  "
   ]
  },
  {
   "cell_type": "markdown",
   "id": "71edae88-b9ac-4b4b-bd49-0028ec99b5d0",
   "metadata": {
    "jp-MarkdownHeadingCollapsed": true,
    "tags": []
   },
   "source": [
    "## Exercises Section 3.5.2"
   ]
  },
  {
   "cell_type": "markdown",
   "id": "d0baf875-fadd-4828-90cd-0fde60642a61",
   "metadata": {},
   "source": [
    "### Exercise 3.30:\n",
    "Identify the indexing errors in the following code:\n",
    "```\n",
    "constexpr size_t array_size = 10;\n",
    "int ia[array_size];\n",
    "for (size_t ix = 1; ix <= array_size; ++ix)\n",
    "    ia[ix] = ix;\n",
    "```"
   ]
  },
  {
   "cell_type": "markdown",
   "id": "521ec525-a3ab-4fc7-bebb-d8d7104669d3",
   "metadata": {},
   "source": [
    "A:\n",
    "\n",
    "`for` loop's conditions check should be `ix < array_size`"
   ]
  },
  {
   "cell_type": "markdown",
   "id": "6d2eceb1-5d64-4b5d-aa62-359c715f8402",
   "metadata": {},
   "source": [
    "### Exercise 3.31:\n",
    "Write a program to define an array of ten ints. Give each element the\n",
    "same value as its position in the array."
   ]
  },
  {
   "cell_type": "code",
   "execution_count": 11,
   "id": "949d2428-227b-4999-a68a-865b483c5c5a",
   "metadata": {},
   "outputs": [
    {
     "data": {
      "text/plain": [
       "{ 1, 2, 3, 4, 5, 6, 7, 8, 9, 10 }"
      ]
     },
     "execution_count": 11,
     "metadata": {},
     "output_type": "execute_result"
    }
   ],
   "source": [
    "constexpr size_t array_size = 10;\n",
    "int ia[array_size];\n",
    "for (size_t ix = 1; ix <= array_size; ++ix)\n",
    "    ia[ix - 1] = ix;\n",
    "ia"
   ]
  },
  {
   "cell_type": "markdown",
   "id": "7a14b23d-f12d-4eb3-aaa3-22015b0b775a",
   "metadata": {},
   "source": [
    "### Exercise 3.32:\n",
    "Copy the array you defined in the previous exercise into another array.\n",
    "Rewrite your program to use vectors."
   ]
  },
  {
   "cell_type": "code",
   "execution_count": 11,
   "id": "8cbd241d-55f8-4f17-9a35-578ac2d1f0c6",
   "metadata": {},
   "outputs": [
    {
     "data": {
      "text/plain": [
       "{ 1, 2, 3, 4, 5, 6, 7, 8, 9, 10 }"
      ]
     },
     "execution_count": 11,
     "metadata": {},
     "output_type": "execute_result"
    }
   ],
   "source": [
    "constexpr size_t array_size = 10;\n",
    "int ia[array_size];\n",
    "for (size_t ix = 1; ix <= array_size; ++ix)\n",
    "    ia[ix - 1] = ix;\n",
    "ia"
   ]
  },
  {
   "cell_type": "code",
   "execution_count": 13,
   "id": "69f5d1ee-5f2e-4bbf-8a0a-d280a5baf279",
   "metadata": {},
   "outputs": [
    {
     "data": {
      "text/plain": [
       "{ 1, 2, 3, 4, 5, 6, 7, 8, 9, 10 }"
      ]
     },
     "execution_count": 13,
     "metadata": {},
     "output_type": "execute_result"
    }
   ],
   "source": [
    "constexpr size_t array_size = 10;\n",
    "int ia2[array_size];\n",
    "for (size_t ix = 0; ix < array_size; ++ix)\n",
    "    ia2[ix] = ia[ix];\n",
    "ia2"
   ]
  },
  {
   "cell_type": "code",
   "execution_count": 1,
   "id": "0610419c-d2fc-4378-81c6-3f062f8334c1",
   "metadata": {},
   "outputs": [],
   "source": [
    "#include <vector>\n",
    "\n",
    "using std::vector;"
   ]
  },
  {
   "cell_type": "code",
   "execution_count": 2,
   "id": "44535698-a1e6-4858-b2a0-f544cca30966",
   "metadata": {},
   "outputs": [
    {
     "data": {
      "text/plain": [
       "{ 1, 2, 3, 4, 5, 6, 7, 8, 9, 10 }"
      ]
     },
     "execution_count": 2,
     "metadata": {},
     "output_type": "execute_result"
    }
   ],
   "source": [
    "vector<int> v(10);\n",
    "for (int i = 0; i < v.size(); ++i)\n",
    "    v[i] = i + 1;\n",
    "v"
   ]
  },
  {
   "cell_type": "code",
   "execution_count": 3,
   "id": "ad024ae9-d408-499f-ba18-e486713ed477",
   "metadata": {},
   "outputs": [],
   "source": [
    "vector<int> v2(10);\n",
    "v2 = v;"
   ]
  },
  {
   "cell_type": "markdown",
   "id": "1b1c36fa-f836-4670-a37e-418a3b5164de",
   "metadata": {},
   "source": [
    "### Exercise 3.33:\n",
    "What would happen if we did not initialize the scores array in the\n",
    "program on page 116?"
   ]
  },
  {
   "cell_type": "markdown",
   "id": "9012ecee-2810-4957-bbc2-23ee45d7568f",
   "metadata": {},
   "source": [
    "A:\n",
    "\n",
    "Initial values of the array would be undefined, which would cause problems for buckets of grades that we would expect to be 0 at the end of the program"
   ]
  },
  {
   "cell_type": "markdown",
   "id": "9917ac3a-a6bc-4924-b1eb-9bd901e815ff",
   "metadata": {
    "jp-MarkdownHeadingCollapsed": true,
    "tags": []
   },
   "source": [
    "## Exercises Section 3.5.3"
   ]
  },
  {
   "cell_type": "markdown",
   "id": "bee06a52-04db-464b-8b90-967f36a99961",
   "metadata": {},
   "source": [
    "### Exercise 3.34:\n",
    "Given that p1 and p2 point to elements in the same array, what does\n",
    "the following code do? Are there values of `p1` or `p2` that make this code illegal?\n",
    "```p1 += p2 - p1;```"
   ]
  },
  {
   "cell_type": "markdown",
   "id": "1b3139d9-0a67-4562-af7b-9e4870ecc3fa",
   "metadata": {},
   "source": [
    "A:\n",
    "\n",
    "`p1` will be equal to `p2` after this code runs  \n",
    "as long as p1 and p2 point to elements in the same array, there are no values of them that can make this code illegal"
   ]
  },
  {
   "cell_type": "markdown",
   "id": "41f25389-f4ee-4edc-a0dc-0f5feacf2b85",
   "metadata": {},
   "source": [
    "### Exercise 3.35:\n",
    "Using pointers, write a program to set the elements in an array to zero."
   ]
  },
  {
   "cell_type": "code",
   "execution_count": 18,
   "id": "4e061f67-89d7-40be-b057-58e3c17b1251",
   "metadata": {},
   "outputs": [
    {
     "data": {
      "text/plain": [
       "{ 0, 0, 0, 0 }"
      ]
     },
     "execution_count": 18,
     "metadata": {},
     "output_type": "execute_result"
    }
   ],
   "source": [
    "int a[] = {1, 2, 3, 4};\n",
    "int *p = a;\n",
    "for (int i = 0; i < 4; i++)\n",
    "    *(p + i) = 0;\n",
    "\n",
    "a"
   ]
  },
  {
   "cell_type": "markdown",
   "id": "de021487-39fb-451d-b183-8d5b5f8d25fe",
   "metadata": {},
   "source": [
    "### Exercise 3.36:\n",
    "Write a program to compare two arrays for equality. Write a similar\n",
    "program to compare two `vectors`."
   ]
  },
  {
   "cell_type": "code",
   "execution_count": 1,
   "id": "bedf4d0b-e80a-45d5-af59-8dd39ab94282",
   "metadata": {},
   "outputs": [
    {
     "data": {
      "text/plain": [
       "true"
      ]
     },
     "execution_count": 1,
     "metadata": {},
     "output_type": "execute_result"
    }
   ],
   "source": [
    "int a1[] = {1, 2, 3, 4};\n",
    "int a2[] = {1, 2, 3, 4};\n",
    "\n",
    "bool equal = true;\n",
    "for (int i = 0; i < 4; i++)\n",
    "    if (a1[i] != a2[i])\n",
    "        equal = false;\n",
    "\n",
    "equal"
   ]
  },
  {
   "cell_type": "code",
   "execution_count": 2,
   "id": "dd46572d-831b-4a63-839d-f3aa5b20d4f3",
   "metadata": {},
   "outputs": [
    {
     "data": {
      "text/plain": [
       "false"
      ]
     },
     "execution_count": 2,
     "metadata": {},
     "output_type": "execute_result"
    }
   ],
   "source": [
    "int a1[] = {1, 2, 4, 4};\n",
    "int a2[] = {1, 2, 3, 4};\n",
    "\n",
    "bool equal = true;\n",
    "for (int i = 0; i < 4; i++)\n",
    "    if (a1[i] != a2[i])\n",
    "        equal = false;\n",
    "\n",
    "equal"
   ]
  },
  {
   "cell_type": "code",
   "execution_count": 3,
   "id": "94eda215-1ad3-4442-b793-fd9fb9f3f701",
   "metadata": {
    "tags": []
   },
   "outputs": [],
   "source": [
    "#include <iostream>\n",
    "#include <vector>\n",
    "\n",
    "using std::cin, std::cout, std::endl, std::vector;"
   ]
  },
  {
   "cell_type": "code",
   "execution_count": 8,
   "id": "eb0068ab-fedf-4ec8-a259-3455c0941ea0",
   "metadata": {},
   "outputs": [
    {
     "data": {
      "text/plain": [
       "true"
      ]
     },
     "execution_count": 8,
     "metadata": {},
     "output_type": "execute_result"
    }
   ],
   "source": [
    "vector<int> v1 = {1, 2, 3, 4};\n",
    "vector<int> v2 = {1, 2, 3, 4};\n",
    "(v1 == v2)"
   ]
  },
  {
   "cell_type": "code",
   "execution_count": 9,
   "id": "b5df8bc9-4ef0-43b9-8552-c9b6e0dc0b0e",
   "metadata": {},
   "outputs": [
    {
     "data": {
      "text/plain": [
       "false"
      ]
     },
     "execution_count": 9,
     "metadata": {},
     "output_type": "execute_result"
    }
   ],
   "source": [
    "vector<int> v1 = {1, 2, 4, 4};\n",
    "vector<int> v2 = {1, 2, 3, 4};\n",
    "(v1 == v2)"
   ]
  },
  {
   "cell_type": "markdown",
   "id": "c2c824b7-1150-45a4-99c5-bf56175fa7e2",
   "metadata": {
    "tags": []
   },
   "source": [
    "## Exercises Section 3.5.4"
   ]
  },
  {
   "cell_type": "markdown",
   "id": "a07ad80d-a949-4646-8da5-383d020f0a0d",
   "metadata": {},
   "source": [
    "### Exercise 3.37:\n",
    "What does the following program do?\n",
    "```\n",
    "const char ca[] = {’h’, ’e’, ’l’, ’l’, ’o’};\n",
    "const char *cp = ca;\n",
    "while (*cp) {\n",
    "    cout << *cp << endl;\n",
    "    ++cp;\n",
    "}\n",
    "```"
   ]
  },
  {
   "cell_type": "markdown",
   "id": "1c14f040-1715-4613-8650-1cad21b8206f",
   "metadata": {},
   "source": [
    "A:\n",
    "\n",
    "As the `\\0` is missing at the end, the behavior is undefined. Might print until is finds `\\0`"
   ]
  },
  {
   "cell_type": "markdown",
   "id": "e0b6b757-f54d-4219-b4ab-0c17d2dac75a",
   "metadata": {},
   "source": [
    "### Exercise 3.38:\n",
    "In this section, we noted that it was not only illegal but meaningless to\n",
    "try to add two pointers. Why would adding two pointers be meaningless?"
   ]
  },
  {
   "cell_type": "markdown",
   "id": "08dc2fff-96ef-4c5b-b6af-01e236f4bfd1",
   "metadata": {},
   "source": [
    "A:\n",
    "\n",
    "pointer is a memory address, so adding two memory addresses returns an unknown place in memory"
   ]
  },
  {
   "cell_type": "markdown",
   "id": "8abc3da1-51e9-44fc-bc14-339b2823fbe8",
   "metadata": {},
   "source": [
    "### Exercise 3.39:\n",
    "Write a program to compare two strings. Now write a program to\n",
    "compare the values of two C-style character strings."
   ]
  },
  {
   "cell_type": "code",
   "execution_count": 1,
   "id": "e6edfc39-5c42-421b-84ec-cf5cc1b230a2",
   "metadata": {},
   "outputs": [],
   "source": [
    "#include <string>\n",
    "\n",
    "using std::string;"
   ]
  },
  {
   "cell_type": "code",
   "execution_count": 2,
   "id": "cab5a5cc-7a6d-4304-8940-a3e59a07ac85",
   "metadata": {},
   "outputs": [
    {
     "data": {
      "text/plain": [
       "true"
      ]
     },
     "execution_count": 2,
     "metadata": {},
     "output_type": "execute_result"
    }
   ],
   "source": [
    "string s1 = \"hello\";\n",
    "string s2 = \"hello\";\n",
    "string s3 = \"how are you\";\n",
    "\n",
    "(s1 == s2)"
   ]
  },
  {
   "cell_type": "code",
   "execution_count": 3,
   "id": "e4cd2ad3-35a5-42f2-a780-90bf221d8338",
   "metadata": {},
   "outputs": [
    {
     "data": {
      "text/plain": [
       "false"
      ]
     },
     "execution_count": 3,
     "metadata": {},
     "output_type": "execute_result"
    }
   ],
   "source": [
    "(s2 == s3)"
   ]
  },
  {
   "cell_type": "code",
   "execution_count": 1,
   "id": "4f7ae11b-0c65-459d-9faa-2834e286f17c",
   "metadata": {},
   "outputs": [],
   "source": [
    "char ca1[] = \"hello\\0\";\n",
    "char ca2[] = \"hello\\0\";\n",
    "char ca3[] = \"how are you\\0\";"
   ]
  },
  {
   "cell_type": "code",
   "execution_count": 3,
   "id": "f55b623e-e42d-4d77-92c0-104c785f9fae",
   "metadata": {},
   "outputs": [
    {
     "data": {
      "text/plain": [
       "true"
      ]
     },
     "execution_count": 3,
     "metadata": {},
     "output_type": "execute_result"
    }
   ],
   "source": [
    "bool equal = true;\n",
    "for (int i = 0; i < strlen(ca1); i++)\n",
    "    if (!(ca1[i] == ca2[i]))\n",
    "    {\n",
    "        equal = false;\n",
    "        break;\n",
    "    }\n",
    "\n",
    "equal"
   ]
  },
  {
   "cell_type": "code",
   "execution_count": 4,
   "id": "69ae4a78-8396-451c-ae5c-2e4539d334cd",
   "metadata": {},
   "outputs": [
    {
     "data": {
      "text/plain": [
       "false"
      ]
     },
     "execution_count": 4,
     "metadata": {},
     "output_type": "execute_result"
    }
   ],
   "source": [
    "bool equal = true;\n",
    "for (int i = 0; i < strlen(ca1); i++)\n",
    "    if (!(ca2[i] == ca3[i]))\n",
    "    {\n",
    "        equal = false;\n",
    "        break;\n",
    "    }\n",
    "\n",
    "equal"
   ]
  },
  {
   "cell_type": "markdown",
   "id": "4cad68ff-a722-4c1e-a3b2-d2c606f09260",
   "metadata": {},
   "source": [
    "### Exercise 3.40:\n",
    "Write a program to define two character arrays initialized from string\n",
    "literals. Now define a third character array to hold the concatenation of the two arrays.\n",
    "Use strcpy and strcat to copy the two arrays into the third."
   ]
  },
  {
   "cell_type": "code",
   "execution_count": 6,
   "id": "345825a1-7db2-4feb-b38e-a33c30a2fc63",
   "metadata": {},
   "outputs": [
    {
     "data": {
      "text/plain": [
       "\"hello how are you\u0000\u0000\u0000\u0000\u0000\u0000\u0000\u0000\u0000\u0000\u0000\""
      ]
     },
     "execution_count": 6,
     "metadata": {},
     "output_type": "execute_result"
    }
   ],
   "source": [
    "char ca1[] = \"hello \\0\";\n",
    "char ca2[] = \"how are you\\0\";\n",
    "char ca3[30];\n",
    "strcpy(ca3, ca1);\n",
    "strcat(ca3, ca2);\n",
    "ca3"
   ]
  },
  {
   "cell_type": "markdown",
   "id": "0b27475e-16c8-4e4f-9a2b-2653e64ef340",
   "metadata": {
    "tags": []
   },
   "source": [
    "## Exercises Section 3.5.5"
   ]
  },
  {
   "cell_type": "markdown",
   "id": "3ace17a7-d241-433c-93a4-1a8a511d2450",
   "metadata": {},
   "source": [
    "### Exercise 3.41:\n",
    "Write a program to initialize a vector from an array of ints."
   ]
  },
  {
   "cell_type": "code",
   "execution_count": 3,
   "id": "ba6f4b6e-537d-418d-9256-65b524faf00c",
   "metadata": {},
   "outputs": [],
   "source": [
    "#include <vector>\n",
    "using std::vector;"
   ]
  },
  {
   "cell_type": "code",
   "execution_count": 4,
   "id": "2b83e6f2-77b5-44e5-8f54-86264189ce9f",
   "metadata": {},
   "outputs": [
    {
     "data": {
      "text/plain": [
       "{ 1, 2, 3, 4 }"
      ]
     },
     "execution_count": 4,
     "metadata": {},
     "output_type": "execute_result"
    }
   ],
   "source": [
    "int a[] = {1, 2, 3, 4};\n",
    "vector<int> v(a, a + 4);\n",
    "v"
   ]
  },
  {
   "cell_type": "markdown",
   "id": "ae8b19c2-3196-4d63-aee2-7100e18cca2a",
   "metadata": {},
   "source": [
    "### Exercise 3.42:\n",
    "Write a program to copy a vector of ints into an array of ints."
   ]
  },
  {
   "cell_type": "code",
   "execution_count": 1,
   "id": "995b3249-ee81-418f-acc7-d7815e3f0468",
   "metadata": {},
   "outputs": [],
   "source": [
    "#include <vector>\n",
    "using std::vector;"
   ]
  },
  {
   "cell_type": "code",
   "execution_count": 2,
   "id": "65a29918-c59b-4c13-a3e6-00ead85e8435",
   "metadata": {},
   "outputs": [
    {
     "data": {
      "text/plain": [
       "{ 1, 2, 3, 4 }"
      ]
     },
     "execution_count": 2,
     "metadata": {},
     "output_type": "execute_result"
    }
   ],
   "source": [
    "vector<int> v = {1, 2, 3, 4};\n",
    "int a[4];\n",
    "for (int i = 0; i < v.size(); i++)\n",
    "    a[i] = v[i];\n",
    "a"
   ]
  },
  {
   "cell_type": "markdown",
   "id": "3b61a377-630e-47f1-804d-15ff4d52eafb",
   "metadata": {
    "tags": []
   },
   "source": [
    "## Exercises Section 3.6"
   ]
  },
  {
   "cell_type": "markdown",
   "id": "20ab06a4-fb88-4035-bb3c-dbb3fd03a5a2",
   "metadata": {},
   "source": [
    "### Exercise 3.43:\n",
    "Write three different versions of a program to print the elements of `ia`.\n",
    "One version should use a range `for` to manage the iteration, the other two should use\n",
    "an ordinary `for` loop in one case using subscripts and in the other using pointers. In\n",
    "all three programs write all the types directly. That is, do not use a type `alias`, `auto`, or\n",
    "`decltype` to simplify the code."
   ]
  },
  {
   "cell_type": "code",
   "execution_count": 1,
   "id": "1cc3c485-73a1-4160-95a2-3c6334f3b270",
   "metadata": {},
   "outputs": [],
   "source": [
    "#include <iostream>\n",
    "using std::cout, std::endl;"
   ]
  },
  {
   "cell_type": "code",
   "execution_count": 2,
   "id": "a14553ac-4a78-4bcb-87bd-d1f162f07405",
   "metadata": {},
   "outputs": [],
   "source": [
    "int ia[3][4] = { // three elements; each element is an array of size 4\n",
    "    {0, 1, 2, 3}, // initializers for the row indexed by 0\n",
    "    {4, 5, 6, 7}, // initializers for the row indexed by 1\n",
    "    {8, 9, 10, 11} // initializers for the row indexed by 2\n",
    "};"
   ]
  },
  {
   "cell_type": "code",
   "execution_count": 3,
   "id": "f0c3c0cd-7cda-459f-bab3-3db9389b92c2",
   "metadata": {},
   "outputs": [
    {
     "name": "stdout",
     "output_type": "stream",
     "text": [
      "0 1 2 3 \n",
      "4 5 6 7 \n",
      "8 9 10 11 \n"
     ]
    }
   ],
   "source": [
    "for (int (&row)[4] : ia)\n",
    "{\n",
    "    for (int col : row)\n",
    "        cout << col << \" \";\n",
    "    cout << endl;\n",
    "}        "
   ]
  },
  {
   "cell_type": "code",
   "execution_count": 4,
   "id": "79317dd8-fb52-473c-9bb6-aca7234d736b",
   "metadata": {},
   "outputs": [
    {
     "name": "stdout",
     "output_type": "stream",
     "text": [
      "0 1 2 3 \n",
      "4 5 6 7 \n",
      "8 9 10 11 \n"
     ]
    }
   ],
   "source": [
    "for (size_t i = 0; i < 3; i++)\n",
    "{\n",
    "    for (size_t j = 0; j < 4; j++)\n",
    "        cout << ia[i][j] << \" \";\n",
    "    cout << endl;\n",
    "}        "
   ]
  },
  {
   "cell_type": "code",
   "execution_count": 5,
   "id": "0cfe5fe7-3562-44bb-a13d-180fe0c46912",
   "metadata": {},
   "outputs": [
    {
     "name": "stdout",
     "output_type": "stream",
     "text": [
      "0 1 2 3 \n",
      "4 5 6 7 \n",
      "8 9 10 11 \n"
     ]
    }
   ],
   "source": [
    "for (int (*i)[4] = ia; i != ia + 3; i++)\n",
    "{\n",
    "    for (int *j = *i; j != *i + 4; j++)\n",
    "        cout << *j << \" \";\n",
    "    cout << endl;\n",
    "}        "
   ]
  },
  {
   "cell_type": "markdown",
   "id": "bf141fac-d208-487f-9f16-ff87c5b4b133",
   "metadata": {},
   "source": [
    "### Exercise 3.44:\n",
    "Rewrite the programs from the previous exercises using a type `alias` for\n",
    "the type of the loop control variables."
   ]
  },
  {
   "cell_type": "code",
   "execution_count": 1,
   "id": "b129f387-e4f9-41e7-a1b5-2f6d15bd225b",
   "metadata": {},
   "outputs": [],
   "source": [
    "#include <iostream>\n",
    "using std::cout, std::endl;"
   ]
  },
  {
   "cell_type": "code",
   "execution_count": 2,
   "id": "6de381aa-a6ff-45f2-b4db-650bbc1e261e",
   "metadata": {},
   "outputs": [],
   "source": [
    "int ia[3][4] = { // three elements; each element is an array of size 4\n",
    "    {0, 1, 2, 3}, // initializers for the row indexed by 0\n",
    "    {4, 5, 6, 7}, // initializers for the row indexed by 1\n",
    "    {8, 9, 10, 11} // initializers for the row indexed by 2\n",
    "};"
   ]
  },
  {
   "cell_type": "code",
   "execution_count": 3,
   "id": "fcdbfdc4-79ce-469b-ae59-d6e3540ef0ca",
   "metadata": {},
   "outputs": [],
   "source": [
    "using int_array = int[4];"
   ]
  },
  {
   "cell_type": "code",
   "execution_count": 4,
   "id": "5fdb4ff4-4773-4e75-bf6f-58dc937a93f3",
   "metadata": {},
   "outputs": [
    {
     "name": "stdout",
     "output_type": "stream",
     "text": [
      "0 1 2 3 \n",
      "4 5 6 7 \n",
      "8 9 10 11 \n"
     ]
    }
   ],
   "source": [
    "for (int_array &row : ia)\n",
    "{\n",
    "    for (int col : row)\n",
    "        cout << col << \" \";\n",
    "    cout << endl;\n",
    "}        "
   ]
  },
  {
   "cell_type": "code",
   "execution_count": 5,
   "id": "c19a2f6e-8fb9-445d-a92f-de19d46d3d16",
   "metadata": {},
   "outputs": [
    {
     "name": "stdout",
     "output_type": "stream",
     "text": [
      "0 1 2 3 \n",
      "4 5 6 7 \n",
      "8 9 10 11 \n"
     ]
    }
   ],
   "source": [
    "for (size_t i = 0; i < 3; i++)\n",
    "{\n",
    "    for (size_t j = 0; j < 4; j++)\n",
    "        cout << ia[i][j] << \" \";\n",
    "    cout << endl;\n",
    "}        "
   ]
  },
  {
   "cell_type": "code",
   "execution_count": 6,
   "id": "42ab4e7c-c3a6-48d7-925a-f5d501c287be",
   "metadata": {},
   "outputs": [
    {
     "name": "stdout",
     "output_type": "stream",
     "text": [
      "0 1 2 3 \n",
      "4 5 6 7 \n",
      "8 9 10 11 \n"
     ]
    }
   ],
   "source": [
    "for (int_array *i = ia; i != ia + 3; i++)\n",
    "{\n",
    "    for (int *j = *i; j != *i + 4; j++)\n",
    "        cout << *j << \" \";\n",
    "    cout << endl;\n",
    "}        "
   ]
  },
  {
   "cell_type": "markdown",
   "id": "8d1c5d21-604c-4c42-ba43-c4d4de54050d",
   "metadata": {},
   "source": [
    "### Exercise 3.45:\n",
    "Rewrite the programs again, this time using `auto`."
   ]
  },
  {
   "cell_type": "code",
   "execution_count": 1,
   "id": "68bf637a-f411-40b4-8dfa-aa66583c89fd",
   "metadata": {},
   "outputs": [],
   "source": [
    "#include <iostream>\n",
    "using std::cout, std::endl;"
   ]
  },
  {
   "cell_type": "code",
   "execution_count": 2,
   "id": "9f4007df-cde0-4413-b6a8-7f9c507c6a00",
   "metadata": {},
   "outputs": [],
   "source": [
    "int ia[3][4] = { // three elements; each element is an array of size 4\n",
    "    {0, 1, 2, 3}, // initializers for the row indexed by 0\n",
    "    {4, 5, 6, 7}, // initializers for the row indexed by 1\n",
    "    {8, 9, 10, 11} // initializers for the row indexed by 2\n",
    "};"
   ]
  },
  {
   "cell_type": "code",
   "execution_count": 3,
   "id": "952b1f9d-1b23-49cf-89ca-bd59bb305758",
   "metadata": {},
   "outputs": [
    {
     "name": "stdout",
     "output_type": "stream",
     "text": [
      "0 1 2 3 \n",
      "4 5 6 7 \n",
      "8 9 10 11 \n"
     ]
    }
   ],
   "source": [
    "for (auto &row : ia)\n",
    "{\n",
    "    for (int col : row)\n",
    "        cout << col << \" \";\n",
    "    cout << endl;\n",
    "}        "
   ]
  },
  {
   "cell_type": "code",
   "execution_count": 4,
   "id": "b2bb184d-939b-4e47-8a15-7939e3675a33",
   "metadata": {},
   "outputs": [
    {
     "name": "stdout",
     "output_type": "stream",
     "text": [
      "0 1 2 3 \n",
      "4 5 6 7 \n",
      "8 9 10 11 \n"
     ]
    }
   ],
   "source": [
    "for (auto i = 0; i < 3; i++)\n",
    "{\n",
    "    for (auto j = 0; j < 4; j++)\n",
    "        cout << ia[i][j] << \" \";\n",
    "    cout << endl;\n",
    "}        "
   ]
  },
  {
   "cell_type": "code",
   "execution_count": 5,
   "id": "26b1f4ae-66f9-4320-9809-45a9fb0493fa",
   "metadata": {},
   "outputs": [
    {
     "name": "stdout",
     "output_type": "stream",
     "text": [
      "0 1 2 3 \n",
      "4 5 6 7 \n",
      "8 9 10 11 \n"
     ]
    }
   ],
   "source": [
    "for (auto i = ia; i != ia + 3; i++)\n",
    "{\n",
    "    for (auto j = *i; j != *i + 4; j++)\n",
    "        cout << *j << \" \";\n",
    "    cout << endl;\n",
    "}        "
   ]
  }
 ],
 "metadata": {
  "kernelspec": {
   "display_name": "C++17",
   "language": "C++17",
   "name": "xcpp17"
  },
  "language_info": {
   "codemirror_mode": "text/x-c++src",
   "file_extension": ".cpp",
   "mimetype": "text/x-c++src",
   "name": "c++",
   "version": "17"
  }
 },
 "nbformat": 4,
 "nbformat_minor": 5
}
