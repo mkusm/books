{
 "cells": [
  {
   "cell_type": "markdown",
   "id": "d1d7714a-beac-47dc-9341-66250505f363",
   "metadata": {},
   "source": [
    "# Chapter 2 The Basics"
   ]
  },
  {
   "cell_type": "markdown",
   "id": "af0c5c19-77dc-4d4e-95f7-4c3d303bdb04",
   "metadata": {
    "jp-MarkdownHeadingCollapsed": true,
    "tags": []
   },
   "source": [
    "## Exercises Section 2.1.1"
   ]
  },
  {
   "cell_type": "markdown",
   "id": "919d8321-9cc2-4703-8197-9332b3757d5f",
   "metadata": {
    "tags": []
   },
   "source": [
    "### Exercise 2.1:\n",
    "What are the differences between int, long, long long, and short?\n",
    "Between an unsigned and a signed type? Between a float and a double?"
   ]
  },
  {
   "cell_type": "markdown",
   "id": "658a1364-3d6a-4404-9af8-6c32f7239b1f",
   "metadata": {
    "tags": []
   },
   "source": [
    "**int**, **short**, **long** and **long long** are all integers of different sizes\n",
    "\n",
    "* short - minimum 16 bit\n",
    "* int - minimum 16 bit, int type is the processor's native word size\n",
    "* long - minimum 32 bit\n",
    "* long long - minimum 64 bit \n",
    "\n",
    "Use int for integer arithmetic. short is usually too small and, in practice, long\n",
    "often has the same size as int. If your data values are larger than the minimum\n",
    "guaranteed size of an int, then use long long.\n",
    "\n",
    "**signed** and **unsigned** are different ways of representing numbers\n",
    "\n",
    "* signed - the number can be positive or negative (it can have a **sign** + or -) \n",
    "* unsigned - the number can only be positive\n",
    "\n",
    "Use an unsigned type when you know that the values cannot be negative.\n",
    "\n",
    "**float** and **double** are floating point types. Standard specifies a minimum number of significant digits for each type.\n",
    "\n",
    "* float - usually 32 bit\n",
    "* double - usually  64 bit\n",
    "\n",
    "Use double for floating-point computations; float usually does not have\n",
    "enough precision, and the cost of double-precision calculations versus single-precision\n",
    "is negligible. In fact, on some machines, double-precision operations\n",
    "are faster than single. The precision offered by long double usually is unnecessary\n",
    "and often entails considerable run-time cost."
   ]
  },
  {
   "cell_type": "markdown",
   "id": "46780071-a07b-493c-8275-cfa33a4e53c0",
   "metadata": {
    "tags": []
   },
   "source": [
    "### Exercise 2.2: \n",
    "To calculate a mortgage payment, what types would you use for the rate,\n",
    "principal, and payment? Explain why you selected each type."
   ]
  },
  {
   "cell_type": "markdown",
   "id": "36ea1e6e-0391-4d79-ae41-96f069fd7af7",
   "metadata": {},
   "source": [
    "**Rate**\n",
    "\n",
    "It is rare that a mortage rate would be negative, but it can happen. \n",
    "Rates are usually decribed with an accuracy of 1/8th of a percent. So a rate of 4.25% is more accurate than 4.2%. \n",
    "\n",
    "Because of this, the correct variable type for rate would be a **signed float**.\n",
    "\n",
    "**Principal**\n",
    "\n",
    "Principal is the amount of money that you are borrowing. It is a positive number. \n",
    "\n",
    "I would expect the principal to be a whole number, so I would pick **unsigned integer**. If there's a chance for it to be a decimal, then it should be an **unsigned float**.\n",
    "\n",
    "**Payment**\n",
    "\n",
    "Payment is the amount of money that you are paying each month. It is a positive number. Usually, it is a whole number, but it can be a decimal.\n",
    "\n",
    "The correct variable type for payment would be an **unsigned float**."
   ]
  },
  {
   "cell_type": "markdown",
   "id": "2bdf682e-7529-4053-b9b8-ce9d11555fc8",
   "metadata": {
    "jp-MarkdownHeadingCollapsed": true,
    "tags": []
   },
   "source": [
    "## Exercises Section 2.1.2"
   ]
  },
  {
   "cell_type": "markdown",
   "id": "508ae0f4-87c9-4f17-9bf2-c606d881e5cf",
   "metadata": {
    "tags": []
   },
   "source": [
    "### Exercise 2.3:\n",
    "What output will the following code produce?\n",
    "```\n",
    "unsigned u = 10, u2 = 42;\n",
    "std::cout << u2 - u << std::endl;\n",
    "std::cout << u - u2 << std::endl;\n",
    "int i = 10, i2 = 42;\n",
    "std::cout << i2 - i << std::endl;\n",
    "std::cout << i - i2 << std::endl;\n",
    "std::cout << i - u << std::endl;\n",
    "std::cout << u - i << std::endl;\n",
    "```"
   ]
  },
  {
   "cell_type": "markdown",
   "id": "a3943b87-b6c3-4f94-ab04-e38507590912",
   "metadata": {},
   "source": [
    "* u2-u == 32\n",
    "* u-u2 == wrap around unsigned int, depending on size of int, it's gonna be (UINT_MAX - 31)\n",
    "* i2-i == 32\n",
    "* i-i2 == -32\n",
    "* i-u  == 0\n",
    "* u-i  == 0"
   ]
  },
  {
   "cell_type": "markdown",
   "id": "f92b0312-b4e7-484f-b873-66aaef1adb28",
   "metadata": {},
   "source": [
    "### Exercise 2.4:\n",
    "Write a program to check whether your predictions were correct. If not,\n",
    "study this section until you understand what the problem is."
   ]
  },
  {
   "cell_type": "code",
   "execution_count": 2,
   "id": "fd09c301-3c51-45ef-b1ca-eafc4fba91ef",
   "metadata": {},
   "outputs": [
    {
     "name": "stdout",
     "output_type": "stream",
     "text": [
      "32\n",
      "4294967264\n",
      "32\n",
      "-32\n",
      "0\n",
      "0\n"
     ]
    }
   ],
   "source": [
    "#include <iostream>\n",
    "unsigned u = 10, u2 = 42;\n",
    "std::cout << u2 - u << std::endl;\n",
    "std::cout << u - u2 << std::endl;\n",
    "int i = 10, i2 = 42;\n",
    "std::cout << i2 - i << std::endl;\n",
    "std::cout << i - i2 << std::endl;\n",
    "std::cout << i - u << std::endl;\n",
    "std::cout << u - i << std::endl;"
   ]
  },
  {
   "cell_type": "markdown",
   "id": "270cd2b8-ee12-428a-8485-b595621e9a4c",
   "metadata": {
    "jp-MarkdownHeadingCollapsed": true,
    "tags": []
   },
   "source": [
    "## Exercises Section 2.1.3"
   ]
  },
  {
   "cell_type": "markdown",
   "id": "f6e5c34f-71c2-4d9b-8e12-92412a2a88fc",
   "metadata": {},
   "source": [
    "### Exercise 2.5:\n",
    "Determine the type of each of the following literals. Explain the differences among the literals in each of the four examples:\n",
    "\n",
    "(a) ’a’, L’a’, \"a\", L\"a\"  \n",
    "(b) 10, 10u, 10L, 10uL, 012, 0xC  \n",
    "(c) 3.14, 3.14f, 3.14L  \n",
    "(d) 10, 10u, 10., 10e-2"
   ]
  },
  {
   "cell_type": "markdown",
   "id": "4e640ae1-5578-4164-a897-aa2208d6fa46",
   "metadata": {},
   "source": [
    "a)\n",
    "* 'a' == character literal\n",
    "* L'a' == wide character literal\n",
    "* \"a\" == string literal (two element array of 'a' and '\\0')\n",
    "* L\"a\" == wide string literal (two element array of L'a' and L'\\0')\n",
    "\n",
    "b)\n",
    "* 10 == integer literal\n",
    "* 10u == unsigned integer literal\n",
    "* 10L == long integer literal\n",
    "* 10uL == unsigned long integer literal\n",
    "* 012 == octal integer literal\n",
    "* 0xC == hexadecimal integer literal\n",
    "\n",
    "c)\n",
    "* 3.14 == floating point literal\n",
    "* 3.14f == floating point literal, same as above\n",
    "* 3.14L == long double floating point literal\n",
    "\n",
    "d)\n",
    "* 10 == integer literal\n",
    "* 10u == unsigned integer literal\n",
    "* 10. == floating point literal\n",
    "* 10e-2 == floating point literal"
   ]
  },
  {
   "cell_type": "markdown",
   "id": "7ca41c1a-d6f2-437e-a357-4ead2fc1c871",
   "metadata": {},
   "source": [
    "### Exercise 2.6: \n",
    "What, if any, are the differences between the following definitions:\n",
    "```\n",
    "int month = 9, day = 7;\n",
    "int month = 09, day = 07;\n",
    "```"
   ]
  },
  {
   "cell_type": "markdown",
   "id": "bf439c5d-507a-48a1-a8d8-1ced66719258",
   "metadata": {},
   "source": [
    "A: \n",
    "\n",
    "First definition uses decimal numbers, while second uses octal numbers. Octal number 09 does not exist, so the second definition will raise and error."
   ]
  },
  {
   "cell_type": "code",
   "execution_count": 16,
   "id": "ae8418d9-a443-41c2-9d27-9e42168c191d",
   "metadata": {},
   "outputs": [
    {
     "name": "stderr",
     "output_type": "stream",
     "text": [
      "input_line_35:2:3: error: invalid digit '9' in octal constant\n",
      " 09\n",
      "  ^\n"
     ]
    },
    {
     "ename": "Interpreter Error",
     "evalue": "",
     "output_type": "error",
     "traceback": [
      "Interpreter Error: "
     ]
    }
   ],
   "source": [
    "09"
   ]
  },
  {
   "cell_type": "code",
   "execution_count": 14,
   "id": "7baa590f-39b5-4042-bc95-7d9954f1fbe3",
   "metadata": {},
   "outputs": [
    {
     "data": {
      "text/plain": [
       "10"
      ]
     },
     "execution_count": 14,
     "metadata": {},
     "output_type": "execute_result"
    }
   ],
   "source": [
    "10"
   ]
  },
  {
   "cell_type": "code",
   "execution_count": 15,
   "id": "ed841f42-6a8c-4136-a355-9e1f16a20b05",
   "metadata": {},
   "outputs": [
    {
     "data": {
      "text/plain": [
       "8"
      ]
     },
     "execution_count": 15,
     "metadata": {},
     "output_type": "execute_result"
    }
   ],
   "source": [
    "010"
   ]
  },
  {
   "cell_type": "markdown",
   "id": "dcbb19a1-00d3-4ced-b35c-c66a0914d773",
   "metadata": {},
   "source": [
    "### Exercise 2.7: \n",
    "What values do these literals represent? What type does each have?\n",
    "\n",
    "(a) \"Who goes with F\\145rgus?\\012\"  \n",
    "(b) 3.14e1L  \n",
    "(c) 1024f  \n",
    "(d) 3.14L"
   ]
  },
  {
   "cell_type": "code",
   "execution_count": 5,
   "id": "653b0759-aeb4-4c9a-bad1-bcd5ccb6a126",
   "metadata": {},
   "outputs": [
    {
     "data": {
      "text/plain": [
       "\"Who goes with Fergus?\n",
       "\""
      ]
     },
     "execution_count": 5,
     "metadata": {},
     "output_type": "execute_result"
    }
   ],
   "source": [
    "// \\145 is character literal for 'e'\n",
    "// \\012 is character literal for newline\n",
    "// \"Who goes with Fergus?<newline>\n",
    "\"Who goes with F\\145rgus?\\012\""
   ]
  },
  {
   "cell_type": "code",
   "execution_count": 12,
   "id": "eec44f35-de22-4ef3-9d32-4c2be64eed80",
   "metadata": {},
   "outputs": [
    {
     "name": "stdout",
     "output_type": "stream",
     "text": [
      "31.4\n"
     ]
    }
   ],
   "source": [
    "// e1 is scientific notation for \"times 10 to the power of 1\", so 3.14e1 == 3.14 * 10 == 31.4\n",
    "// L at the end in case of a float mean `long double`\n",
    "\n",
    "// I have to use standard output, as jupyter's default output doesn't handle long doubles well\n",
    "#include <iostream>\n",
    "std::cout << 3.14e1L << std::endl;"
   ]
  },
  {
   "cell_type": "code",
   "execution_count": 3,
   "id": "8d632693-cc91-497a-9840-9b94a1fae30e",
   "metadata": {},
   "outputs": [
    {
     "data": {
      "text/plain": [
       "4.2367e-4725"
      ]
     },
     "execution_count": 3,
     "metadata": {},
     "output_type": "execute_result"
    }
   ],
   "source": [
    "3.14e1L"
   ]
  },
  {
   "cell_type": "code",
   "execution_count": 7,
   "id": "ba1551f5-3943-4d7e-9b97-b677a82ae695",
   "metadata": {},
   "outputs": [
    {
     "name": "stderr",
     "output_type": "stream",
     "text": [
      "input_line_22:3:5: error: invalid digit 'f' in decimal constant\n",
      "1024f\n",
      "    ^\n"
     ]
    },
    {
     "ename": "Interpreter Error",
     "evalue": "",
     "output_type": "error",
     "traceback": [
      "Interpreter Error: "
     ]
    }
   ],
   "source": [
    "// 1024f doesn't make sense, as 1024 is integer and f is a float\n",
    "1024f"
   ]
  },
  {
   "cell_type": "code",
   "execution_count": 11,
   "id": "ddff500b-b165-4daa-b7e9-385f10ffb348",
   "metadata": {},
   "outputs": [
    {
     "name": "stdout",
     "output_type": "stream",
     "text": [
      "3.14\n"
     ]
    }
   ],
   "source": [
    "// long double 3.14\n",
    "#include <iostream>\n",
    "std::cout << 3.14L << std::endl;"
   ]
  },
  {
   "cell_type": "markdown",
   "id": "0a49edd8-c8bc-4276-977d-9c548967fd59",
   "metadata": {},
   "source": [
    "### Exercise 2.8: \n",
    "Using escape sequences, write a program to print 2M followed by a newline. Modify the program to print 2, then a tab, then an M, followed by a newline."
   ]
  },
  {
   "cell_type": "code",
   "execution_count": 19,
   "id": "354caf23-5c80-459e-ba02-c666e4ea23fd",
   "metadata": {},
   "outputs": [
    {
     "data": {
      "text/plain": [
       "\"2M\n",
       "\""
      ]
     },
     "execution_count": 19,
     "metadata": {},
     "output_type": "execute_result"
    }
   ],
   "source": [
    "\"\\062\\115\\012\""
   ]
  },
  {
   "cell_type": "code",
   "execution_count": 20,
   "id": "c97dd9fc-976a-4e8d-a335-de8dfaf27ddc",
   "metadata": {},
   "outputs": [
    {
     "name": "stdout",
     "output_type": "stream",
     "text": [
      "2\tM\n",
      "\n"
     ]
    }
   ],
   "source": [
    "#include <iostream>\n",
    "std::cout << '\\062';\n",
    "std::cout << '\\t';\n",
    "std::cout << '\\115';\n",
    "std::cout << '\\012';\n",
    "std::cout << std::endl;"
   ]
  },
  {
   "cell_type": "markdown",
   "id": "d319a207-9b08-4d06-bda9-fdbb13f263b0",
   "metadata": {
    "jp-MarkdownHeadingCollapsed": true,
    "tags": []
   },
   "source": [
    "## Exercises Section 2.2.1"
   ]
  },
  {
   "cell_type": "markdown",
   "id": "d269bc49-a567-4763-96f2-9408e28b1e1f",
   "metadata": {},
   "source": [
    "### Exercise 2.9: \n",
    "Explain the following definitions.\n",
    "For those that are illegal, explain\n",
    "what’s wrong and how to correct it.\n",
    "\n",
    "(a) std::cin >> int input_value;  \n",
    "(b) int i = { 3.14 };  \n",
    "(c) double salary = wage = 9999.99;  \n",
    "(d) int i = 3.14;"
   ]
  },
  {
   "cell_type": "markdown",
   "id": "b95bc6d9-1cf2-452f-b0ce-104d925782f0",
   "metadata": {},
   "source": [
    "a) right-hand parameter of `>>` operator must be a variable, not a declaration. It would work if we split it into two commands `int input_value; std::cin > input_value`  \n",
    "b) list initialization raises and error when infomation would be lost (from float to int), could change to normal initialization as in d)  \n",
    "c) wage is not declared  \n",
    "d) correct, `.14` will be lost"
   ]
  },
  {
   "cell_type": "code",
   "execution_count": 25,
   "id": "a4514acc-3811-4420-bb07-9c21153df799",
   "metadata": {},
   "outputs": [
    {
     "name": "stderr",
     "output_type": "stream",
     "text": [
      "input_line_56:2:18: error: expected '(' for function-style cast or type construction\n",
      " std::cin >> int input;\n",
      "             ~~~ ^\n"
     ]
    },
    {
     "ename": "Interpreter Error",
     "evalue": "",
     "output_type": "error",
     "traceback": [
      "Interpreter Error: "
     ]
    }
   ],
   "source": [
    "// error\n",
    "std::cin >> int input;"
   ]
  },
  {
   "cell_type": "code",
   "execution_count": 26,
   "id": "0391da42-a153-4dff-85bd-7eb50edcfec1",
   "metadata": {},
   "outputs": [
    {
     "name": "stdin",
     "output_type": "stream",
     "text": [
      " test\n"
     ]
    }
   ],
   "source": [
    "// no error\n",
    "int input;\n",
    "std::cin >> input;"
   ]
  },
  {
   "cell_type": "code",
   "execution_count": 27,
   "id": "723d81eb-609a-4209-b347-1212f4d7d59c",
   "metadata": {},
   "outputs": [
    {
     "name": "stderr",
     "output_type": "stream",
     "text": [
      "input_line_58:3:11: error: type 'double' cannot be narrowed to 'int' in initializer list [-Wc++11-narrowing]\n",
      "int i = { 3.14 };\n",
      "          ^~~~\n",
      "input_line_58:3:11: note: insert an explicit cast to silence this issue\n",
      "int i = { 3.14 };\n",
      "          ^~~~\n",
      "          static_cast<int>( )\n",
      "input_line_58:3:11: warning: implicit conversion from 'double' to 'int' changes value from 3.14 to 3 [-Wliteral-conversion]\n",
      "int i = { 3.14 };\n",
      "        ~ ^~~~\n"
     ]
    },
    {
     "ename": "Interpreter Error",
     "evalue": "",
     "output_type": "error",
     "traceback": [
      "Interpreter Error: "
     ]
    }
   ],
   "source": [
    "// error: loss of information\n",
    "int i = { 3.14 };"
   ]
  },
  {
   "cell_type": "code",
   "execution_count": 28,
   "id": "3902f7e8-c67e-4eb3-aa47-de07f8d5aaf5",
   "metadata": {},
   "outputs": [
    {
     "name": "stderr",
     "output_type": "stream",
     "text": [
      "input_line_59:2:18: error: use of undeclared identifier 'wage'\n",
      " double salary = wage = 9999.99\n",
      "                 ^\n"
     ]
    },
    {
     "ename": "Interpreter Error",
     "evalue": "",
     "output_type": "error",
     "traceback": [
      "Interpreter Error: "
     ]
    }
   ],
   "source": [
    "// error: wage isn't declared\n",
    "double salary = wage = 9999.99"
   ]
  },
  {
   "cell_type": "code",
   "execution_count": 29,
   "id": "bb9ad2d1-192f-4603-9b73-8ea5877e1abe",
   "metadata": {},
   "outputs": [],
   "source": [
    "// no error\n",
    "double wage = 9999.99;\n",
    "double salary = wage;"
   ]
  },
  {
   "cell_type": "code",
   "execution_count": 31,
   "id": "bb2f5cbe-7967-41d2-8f9a-9c151ce9db20",
   "metadata": {},
   "outputs": [
    {
     "name": "stderr",
     "output_type": "stream",
     "text": [
      "input_line_62:3:9: warning: implicit conversion from 'double' to 'int' changes value from 3.14 to 3 [-Wliteral-conversion]\n",
      "int i = 3.14\n",
      "    ~   ^~~~\n"
     ]
    }
   ],
   "source": [
    "// only warning about information loss\n",
    "int i = 3.14"
   ]
  },
  {
   "cell_type": "markdown",
   "id": "286b0860-bb37-4f3c-8f66-7cc3cfe8171c",
   "metadata": {},
   "source": [
    "### Exercise 2.10:\n",
    "What are the initial values, if any, of each of the following variables?\n",
    "```\n",
    "std::string global_str;\n",
    "int global_int;\n",
    "int main()\n",
    "{\n",
    "    int local_int;\n",
    "    std::string local_str;\n",
    "}\n",
    "```"
   ]
  },
  {
   "cell_type": "markdown",
   "id": "45ea7e8b-4195-436d-94fc-fdfd5e2a073e",
   "metadata": {},
   "source": [
    "global_str == \"\"  \n",
    "global_int == 0  \n",
    "local_int == undefined  \n",
    "local_str == \"\"  "
   ]
  },
  {
   "cell_type": "code",
   "execution_count": null,
   "id": "b33d6dba-91ee-451e-8d41-a68f3f01b227",
   "metadata": {},
   "outputs": [],
   "source": [
    "global_str"
   ]
  },
  {
   "cell_type": "code",
   "execution_count": 36,
   "id": "f6b71274-3048-42f0-bb5b-021e68ee909d",
   "metadata": {},
   "outputs": [
    {
     "name": "stdout",
     "output_type": "stream",
     "text": [
      "0\n",
      "\n"
     ]
    }
   ],
   "source": [
    "int global_int;\n",
    "std::cout << global_int << std::endl;\n",
    "std::string global_str;\n",
    "std::cout << global_str << std::endl;"
   ]
  },
  {
   "cell_type": "code",
   "execution_count": 37,
   "id": "8bd73c91-d8d2-467d-88cd-d03c749c0a0b",
   "metadata": {},
   "outputs": [
    {
     "name": "stdout",
     "output_type": "stream",
     "text": [
      "32766\n",
      "\n"
     ]
    }
   ],
   "source": [
    "#include <iostream>\n",
    "void f()\n",
    "{\n",
    "    int local_int;\n",
    "    std::cout << local_int << std::endl;\n",
    "    std::string local_str;\n",
    "    std::cout << local_str << std::endl;\n",
    "}\n",
    "f()"
   ]
  },
  {
   "cell_type": "markdown",
   "id": "262d8d23-3c14-4ad0-9b9a-31ee7dc26dcd",
   "metadata": {
    "jp-MarkdownHeadingCollapsed": true,
    "tags": []
   },
   "source": [
    "## Exercises Section 2.2.2"
   ]
  },
  {
   "cell_type": "markdown",
   "id": "5346fcd8-c0c3-4731-afe4-026123dc9d20",
   "metadata": {},
   "source": [
    "### Exercise 2.11:\n",
    "Explain whether each of the following is a declaration or a definition:\n",
    "\n",
    "(a) extern int ix = 1024;  \n",
    "(b) int iy;  \n",
    "(c) extern int iz;"
   ]
  },
  {
   "cell_type": "markdown",
   "id": "49e913af-a812-425d-a15a-75316a10ff1d",
   "metadata": {},
   "source": [
    "a) definition  \n",
    "b) definition  \n",
    "c) declaraion"
   ]
  },
  {
   "cell_type": "markdown",
   "id": "8ad81d2b-bfd2-4da9-85e1-ef89b4b3cc11",
   "metadata": {
    "jp-MarkdownHeadingCollapsed": true,
    "tags": []
   },
   "source": [
    "## Exercises Section 2.2.3"
   ]
  },
  {
   "cell_type": "markdown",
   "id": "0efebcaf-ea2c-4e8b-bee6-fae61d7e5a32",
   "metadata": {},
   "source": [
    "### Exercise 2.12:\n",
    "Which, if any, of the following names are invalid?  \n",
    "(a) int double = 3.14;  \n",
    "(b) int _;  \n",
    "(c) int catch-22;  \n",
    "(d) int 1_or_2 = 1;  \n",
    "(e) double Double = 3.14;"
   ]
  },
  {
   "cell_type": "markdown",
   "id": "fc6ba56b-b450-43e8-8a0c-1df8d7fa50cb",
   "metadata": {},
   "source": [
    "c) because it uses `-` in the name  \n",
    "d) because it starts with a number"
   ]
  },
  {
   "cell_type": "markdown",
   "id": "95182ac3-3103-4e40-bf9d-026ca96190d3",
   "metadata": {
    "jp-MarkdownHeadingCollapsed": true,
    "tags": []
   },
   "source": [
    "## Exercises Section 2.2.4\n"
   ]
  },
  {
   "cell_type": "markdown",
   "id": "8e1a0900-b5b2-4762-8861-322bea8bfb99",
   "metadata": {},
   "source": [
    "### Exercise 2.13:\n",
    "What is the value of j in the following program?\n",
    "```\n",
    "int i = 42;\n",
    "int main()\n",
    "{\n",
    "    int i = 100;\n",
    "    int j = i;\n",
    "}\n",
    "```"
   ]
  },
  {
   "cell_type": "markdown",
   "id": "9a6ff150-9a03-426d-879d-7a1fde7ab1ac",
   "metadata": {},
   "source": [
    "A: \n",
    "\n",
    "j == 100"
   ]
  },
  {
   "cell_type": "code",
   "execution_count": 4,
   "id": "8f70b2fb-a4d6-49db-b4cd-bd70a29c664c",
   "metadata": {},
   "outputs": [],
   "source": [
    "#include <iostream>\n",
    "\n",
    "int i = 42;"
   ]
  },
  {
   "cell_type": "code",
   "execution_count": 7,
   "id": "9df177f2-02d2-4c10-832c-b81f89dfbc48",
   "metadata": {},
   "outputs": [
    {
     "name": "stdout",
     "output_type": "stream",
     "text": [
      "100\n",
      "42\n"
     ]
    }
   ],
   "source": [
    "void f()\n",
    "{\n",
    "    int i = 100;\n",
    "    int j = i;\n",
    "    std::cout << j << std::endl;\n",
    "}\n",
    "\n",
    "f();\n",
    "std::cout << i << std::endl;"
   ]
  },
  {
   "cell_type": "markdown",
   "id": "bb36bd29-876f-4d86-ad45-064303786f78",
   "metadata": {},
   "source": [
    "### Exercise 2.14:\n",
    "Is the following program legal? If so, what values are printed?\n",
    "```\n",
    "int i = 100, sum = 0;\n",
    "for (int i = 0; i != 10; ++i)\n",
    "    sum += i;\n",
    "std::cout << i << \" \" << sum << std::endl;\n",
    "```"
   ]
  },
  {
   "cell_type": "markdown",
   "id": "e30fa733-e050-4649-960e-e947147dfa17",
   "metadata": {},
   "source": [
    "A:\n",
    "\n",
    "Program is legal, `i` that is declared as part of the loop exists only for the purposes of the loop. At the end of the program `i` has value `100` and `sum` has value `45`."
   ]
  },
  {
   "cell_type": "code",
   "execution_count": 49,
   "id": "12f813b8-8ba2-4705-9bf4-a28ceebf5690",
   "metadata": {},
   "outputs": [
    {
     "name": "stdout",
     "output_type": "stream",
     "text": [
      "100 45\n"
     ]
    }
   ],
   "source": [
    "#include <iostream>\n",
    "\n",
    "int i = 100, sum = 0;\n",
    "for (int i = 0; i != 10; ++i)\n",
    "    sum += i;\n",
    "std::cout << i << \" \" << sum << std::endl;"
   ]
  },
  {
   "cell_type": "markdown",
   "id": "1dd88006-7d1c-4a84-a93e-340d0aa655a2",
   "metadata": {
    "jp-MarkdownHeadingCollapsed": true,
    "tags": []
   },
   "source": [
    "## Exercises Section 2.3.1"
   ]
  },
  {
   "cell_type": "markdown",
   "id": "b31d4b2f-5939-4a82-a98e-3dac84cc52e2",
   "metadata": {},
   "source": [
    "### Exercise 2.15:\n",
    "Which of the following definitions, if any, are invalid? Why?  \n",
    "(a) `int ival = 1.01;`  \n",
    "(b) `int &rval1 = 1.01;`  \n",
    "(c) `int &rval2 = ival;`  \n",
    "(d) `int &rval3;`"
   ]
  },
  {
   "cell_type": "markdown",
   "id": "2ecc310b-3f2d-43c5-a509-97d115e8a606",
   "metadata": {},
   "source": [
    "b) initializer must be an object  \n",
    "d) can't declare a reference without initializing it"
   ]
  },
  {
   "cell_type": "markdown",
   "id": "c0a9f53f-f98b-4bfb-83b8-aba963b9002f",
   "metadata": {},
   "source": [
    "### Exercise 2.16:\n",
    "Which, if any, of the following assignments are invalid? If they are\n",
    "valid, explain what they do.\n",
    "\n",
    "`int i = 0, &r1 = i; double d = 0, &r2 = d;`  \n",
    "(a) `r2 = 3.14159;`    \n",
    "(b) `r2 = r1;`  \n",
    "(c) `i = r2;`  \n",
    "(d) `r1 = d;`"
   ]
  },
  {
   "cell_type": "markdown",
   "id": "034b27ae-db72-4a1e-a278-4c1c1bcfce0f",
   "metadata": {},
   "source": [
    "a) is valid and changes object d and r2 are bound to to 3.14\n",
    "b) is valid and changes object d and r2 are bound to to 0\n",
    "c) is valid but `.14` is lost as double changes to float\n",
    "d) is valid and changes object d and r2 are bound to to 0"
   ]
  },
  {
   "cell_type": "markdown",
   "id": "52e61024-d262-459d-b5ff-33761158049d",
   "metadata": {},
   "source": [
    "r2 = 3.14159### Exercise 2.17:\n",
    "What does the following code print?\n",
    "```\n",
    "int i, &ri = i;\n",
    "i = 5; ri = 10;\n",
    "std::cout << i << \" \" << ri << std::endl;\n",
    "```"
   ]
  },
  {
   "cell_type": "markdown",
   "id": "2d9a7d13-1523-4017-bc33-77a2b7b59caf",
   "metadata": {},
   "source": [
    "A:\n",
    "\n",
    "10 10"
   ]
  },
  {
   "cell_type": "code",
   "execution_count": 21,
   "id": "8b6a3f2c-96b1-4329-aed9-1db9c325fe18",
   "metadata": {},
   "outputs": [
    {
     "name": "stdout",
     "output_type": "stream",
     "text": [
      "10 10\n"
     ]
    }
   ],
   "source": [
    "#include <iostream>\n",
    "\n",
    "int i, &ri = i;\n",
    "i = 5; ri = 10;\n",
    "std::cout << i << \" \" << ri << std::endl;"
   ]
  },
  {
   "cell_type": "markdown",
   "id": "bb9278f1-99f2-4b73-bf56-e5cbf683a76b",
   "metadata": {
    "tags": []
   },
   "source": [
    "## Exercises Section 2.3.2"
   ]
  },
  {
   "cell_type": "markdown",
   "id": "f0ab6f6b-d600-473d-a150-ed541427d3d1",
   "metadata": {},
   "source": [
    "### Exercise 2.18:\n",
    "Write code to change the value of a pointer. Write code to change the\n",
    "value to which the pointer points."
   ]
  },
  {
   "cell_type": "code",
   "execution_count": 22,
   "id": "7e2a2282-6915-482c-9858-9e0e64add6d0",
   "metadata": {},
   "outputs": [
    {
     "name": "stdout",
     "output_type": "stream",
     "text": [
      "1337\n"
     ]
    }
   ],
   "source": [
    "int i = 2137;\n",
    "int *p = &i;\n",
    "\n",
    "*p = 1337;\n",
    "std::cout << i << std::endl;"
   ]
  },
  {
   "cell_type": "markdown",
   "id": "5b48b13e-8e60-4918-83a9-958061a2617c",
   "metadata": {},
   "source": [
    "### Exercise 2.19:\n",
    "Explain the key differences between pointers and references."
   ]
  },
  {
   "cell_type": "markdown",
   "id": "8cd77d96-9a8d-483b-83fb-844f8fb14f0c",
   "metadata": {},
   "source": [
    "Pointer is an object that holds the address of another object. Reference is not an object and doesn't hold an address, it's just an alternative name for an object that already has a name.\n",
    "\n",
    "We can use a pointer to see the address or a value of an object. Reference can only be used to see the value."
   ]
  },
  {
   "cell_type": "markdown",
   "id": "45f865b6-82da-4920-861b-a47aac459a30",
   "metadata": {},
   "source": [
    "### Exercise 2.20: \n",
    "What does the following program do?\n",
    "```\n",
    "int i = 42;\n",
    "int *p1 = &i;\n",
    "*p1 = *p1 * *p1;\n",
    "```"
   ]
  },
  {
   "cell_type": "markdown",
   "id": "54429986-7bcb-4247-ad99-22ae17c79e68",
   "metadata": {},
   "source": [
    "A: \n",
    "\n",
    "Changes the value of i from 42 to $42^2$"
   ]
  },
  {
   "cell_type": "code",
   "execution_count": 24,
   "id": "e6318a62-25eb-4f16-9565-0c134bb8eee2",
   "metadata": {},
   "outputs": [
    {
     "data": {
      "text/plain": [
       "1764"
      ]
     },
     "execution_count": 24,
     "metadata": {},
     "output_type": "execute_result"
    }
   ],
   "source": [
    "int i = 42;\n",
    "int *p1 = &i;\n",
    "*p1 = *p1 * *p1;\n",
    "i"
   ]
  },
  {
   "cell_type": "markdown",
   "id": "c53bd513-8c8f-45f0-9fdc-419a0509a9b9",
   "metadata": {},
   "source": [
    "### Exercise 2.21:\n",
    "Explain each of the following definitions. Indicate whether any are illegal and, if so, why.\n",
    "\n",
    "`int i = 0;`  \n",
    "(a) `double* dp = &i;`  \n",
    "(b) `int *ip = i;`  \n",
    "(c) `int *p = &i;`"
   ]
  },
  {
   "cell_type": "markdown",
   "id": "a2ab04fd-2dcd-45e4-bca8-78f2f56e7bcf",
   "metadata": {},
   "source": [
    "a) illegal, pointer must be of the same type as an object it points to  \n",
    "b) illegal, pointer must be initialized with an address of an object"
   ]
  },
  {
   "cell_type": "markdown",
   "id": "41a841c7-cf62-49f5-a422-5af4fe05ec12",
   "metadata": {},
   "source": [
    "### Exercise 2.22:\n",
    "Assuming p is a pointer to int, explain the following code:\n",
    "```\n",
    "if (p) // ...  \n",
    "if (*p) // ...\n",
    "```"
   ]
  },
  {
   "cell_type": "markdown",
   "id": "b9f9189b-9c68-47ee-b52e-0e0361e79337",
   "metadata": {},
   "source": [
    "A:\n",
    "\n",
    "`if (p)` will run if `p` is not a `nullptr`  or `0`  \n",
    "`if (*p)` will run if object referenced by `p` is not `0`"
   ]
  },
  {
   "cell_type": "code",
   "execution_count": 1,
   "id": "19a98fb3-c568-4f9e-82a7-e560b861b06d",
   "metadata": {},
   "outputs": [
    {
     "name": "stdout",
     "output_type": "stream",
     "text": [
      "1: 0x7f03e33c3030\n",
      "4: 2137\n"
     ]
    }
   ],
   "source": [
    "#include <iostream>\n",
    "\n",
    "int i = 2137;\n",
    "int *p = &i;\n",
    "\n",
    "if (p) std::cout << \"1: \" << p << std::endl;\n",
    "\n",
    "p = 0;\n",
    "if (p) std::cout << \"2: \" << p << std::endl;\n",
    "\n",
    "p = nullptr;\n",
    "if (p) std::cout << \"3: \" << p << std::endl;\n",
    "\n",
    "p = &i;\n",
    "if (*p) std::cout << \"4: \" << *p << std::endl;\n",
    "\n",
    "i = 0;\n",
    "if (*p) std::cout << \"5: \" << *p << std::endl;"
   ]
  },
  {
   "cell_type": "markdown",
   "id": "f6506caf-7651-41cd-9395-6eb03378eb88",
   "metadata": {},
   "source": [
    "### Exercise 2.23:\n",
    "Given a pointer p, can you determine whether p points to a valid object?\n",
    "If so, how? If not, why not?"
   ]
  },
  {
   "cell_type": "markdown",
   "id": "5c741d02-84ed-4e48-b6eb-c998ed63d632",
   "metadata": {},
   "source": [
    "A:\n",
    "\n",
    "Can't determine if p points to a valid object, as it's and error to try to access the value of an invalid pointer."
   ]
  },
  {
   "cell_type": "markdown",
   "id": "d4411bbd-efb9-431c-b91e-faf4b4f1a50a",
   "metadata": {
    "jp-MarkdownHeadingCollapsed": true,
    "tags": []
   },
   "source": [
    "### Exercise 2.24:\n",
    "Why is the initialization of p legal but that of lp illegal?\n",
    "```\n",
    "int i = 42;\n",
    "void *p = &i;\n",
    "long *lp = &i;\n",
    "```"
   ]
  },
  {
   "cell_type": "markdown",
   "id": "dc0cbe69-2cd4-4013-bf70-92ed90635777",
   "metadata": {},
   "source": [
    "A:\n",
    "\n",
    "void pointer can point at an object of any type, but long pointer can't point at int pointer"
   ]
  },
  {
   "cell_type": "markdown",
   "id": "e15342c4-e57f-4f01-9b94-8dbb05299ce7",
   "metadata": {
    "tags": []
   },
   "source": [
    "## Exercises Section 2.3.2"
   ]
  },
  {
   "cell_type": "markdown",
   "id": "c4a70666-b34d-499d-a09e-63e6919ba76f",
   "metadata": {},
   "source": [
    "### Exercise 2.25:\n",
    "Determine the types and values of each of the following variables.  \n",
    "(a) `int* ip, i, &r = i;`  \n",
    "(b) `int i, *ip = 0;`  \n",
    "(c) `int* ip, ip2;`"
   ]
  },
  {
   "cell_type": "markdown",
   "id": "25a48d26-e533-44a8-a7f0-9e4378d8ce14",
   "metadata": {},
   "source": [
    "a)  \n",
    "`ip` == pointer to int, uninitialized  \n",
    "`i` == int  \n",
    "`r` == reference object bound to `i`\n",
    "\n",
    "b)  \n",
    "`i` == int\n",
    "`ip` =="
   ]
  }
 ],
 "metadata": {
  "kernelspec": {
   "display_name": "C++17",
   "language": "C++17",
   "name": "xcpp17"
  },
  "language_info": {
   "codemirror_mode": "text/x-c++src",
   "file_extension": ".cpp",
   "mimetype": "text/x-c++src",
   "name": "c++",
   "version": "17"
  }
 },
 "nbformat": 4,
 "nbformat_minor": 5
}
