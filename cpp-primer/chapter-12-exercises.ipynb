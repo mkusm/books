{
 "cells": [
  {
   "cell_type": "markdown",
   "id": "ced4d50d-90c0-44c3-bd58-78c7b378d82b",
   "metadata": {},
   "source": [
    "# Chapter 12 Dynamic Memory"
   ]
  },
  {
   "cell_type": "markdown",
   "id": "927d1810-734e-4d8b-af8b-121ce568f3d6",
   "metadata": {},
   "source": [
    "## EXERCISES SECTION 12.1.1"
   ]
  },
  {
   "cell_type": "markdown",
   "id": "190393f6-55dc-4192-a325-d26783bae1f0",
   "metadata": {},
   "source": [
    "### Exercise 12.1:\n",
    "How many elements do `b1` and `b2` have at the end of this code?\n",
    "```\n",
    "StrBlob b1;\n",
    "{\n",
    "    StrBlob b2 = {\"a\", \"an\", \"the\"};\n",
    "    b1 = b2;\n",
    "    b2.push_back(\"about\");\n",
    "}\n",
    "```"
   ]
  },
  {
   "cell_type": "code",
   "execution_count": null,
   "id": "2e85196d-f162-40f2-af6c-3484a07a6a48",
   "metadata": {},
   "outputs": [],
   "source": []
  },
  {
   "cell_type": "markdown",
   "id": "129b88c5-4d59-4b07-b23e-c8efabd3169f",
   "metadata": {},
   "source": [
    "### Exercise 12.2:\n",
    " Write your own version of the `StrBlob` class including the `const` versions of `front` and `back`."
   ]
  },
  {
   "cell_type": "code",
   "execution_count": null,
   "id": "b69a3127-c87e-4ade-9708-457633f59563",
   "metadata": {},
   "outputs": [],
   "source": []
  },
  {
   "cell_type": "markdown",
   "id": "4ca30f2a-1e21-4249-bd6f-7a95e9f3bde9",
   "metadata": {},
   "source": [
    "### Exercise 12.3:\n",
    " Does this class need `const` versions of `push_back` and `pop_back`? If so, add them. If not, why aren’t they needed?"
   ]
  },
  {
   "cell_type": "code",
   "execution_count": null,
   "id": "d3ec9262-d28f-44c8-90ab-1788a8438893",
   "metadata": {},
   "outputs": [],
   "source": []
  },
  {
   "cell_type": "markdown",
   "id": "17f5cb27-39c7-4590-a4f9-787d48bc57b9",
   "metadata": {},
   "source": [
    "### Exercise 12.4:\n",
    " In our `check` function we didn’t check whether `i` was greater than zero. Why is it okay to omit that check?"
   ]
  },
  {
   "cell_type": "code",
   "execution_count": null,
   "id": "d5d728e7-9199-453b-b072-5b7ff25a7ef6",
   "metadata": {},
   "outputs": [],
   "source": []
  },
  {
   "cell_type": "markdown",
   "id": "ec12352b-31ef-46de-a441-4b85881de67c",
   "metadata": {},
   "source": [
    "### Exercise 12.5: \n",
    " We did not make the constructor that takes an `initializer_list`\n",
    "explicit (§ 7.5.4, p. 296). Discuss the pros and cons of this design choice."
   ]
  },
  {
   "cell_type": "code",
   "execution_count": null,
   "id": "3109cf9e-9784-4287-9ad9-7ded3b94c257",
   "metadata": {},
   "outputs": [],
   "source": []
  },
  {
   "cell_type": "markdown",
   "id": "b4da8bb5-4f83-4ed6-a2d5-f0c03b754a7e",
   "metadata": {},
   "source": [
    "## EXERCISES SECTION 12.1.2"
   ]
  },
  {
   "cell_type": "markdown",
   "id": "a7f0d59c-6ccc-42f8-a178-b2ca1388df38",
   "metadata": {},
   "source": [
    "### Exercise 12.6:\n",
    " Write a function that returns a dynamically allocated `vector` of `int`s.\n",
    "Pass that `vector` to another function that reads the standard input to give values to\n",
    "the elements. Pass the `vector` to another function to print the values that were read.\n",
    "Remember to `delete` the `vector` at the appropriate time."
   ]
  },
  {
   "cell_type": "code",
   "execution_count": null,
   "id": "371073a3-b4c1-464c-b878-9ed5fb745e06",
   "metadata": {},
   "outputs": [],
   "source": []
  },
  {
   "cell_type": "markdown",
   "id": "857c8bd4-9e01-436f-9cc4-b9f2c2d14d3c",
   "metadata": {},
   "source": [
    "### Exercise 12.7:\n",
    " Redo the previous exercise, this time using `shared_ptr`."
   ]
  },
  {
   "cell_type": "code",
   "execution_count": null,
   "id": "be4e27ad-cc67-4359-a192-e55bccdfd964",
   "metadata": {},
   "outputs": [],
   "source": []
  },
  {
   "cell_type": "markdown",
   "id": "5ce68e4f-a955-40c8-bc92-f013fcaad075",
   "metadata": {},
   "source": [
    "### Exercise 12.8:\n",
    " Explain what if anything is wrong with the following function.\n",
    " ```\n",
    "bool b() {\n",
    "int* p = new int;\n",
    "// . . .\n",
    "return p;\n",
    "}\n",
    "```"
   ]
  },
  {
   "cell_type": "code",
   "execution_count": null,
   "id": "91bc7a08-ac50-4f9d-8f36-3060f308be67",
   "metadata": {},
   "outputs": [],
   "source": []
  },
  {
   "cell_type": "markdown",
   "id": "1b1d4987-a4a5-4469-bcef-dd654f1d50e9",
   "metadata": {},
   "source": [
    "### Exercise 12.9:\n",
    " Explain what happens in the following code:\n",
    " ```\n",
    "int *q = new int(42), *r = new int(100);\n",
    "r = q;\n",
    "auto q2 = make_shared<int>(42), r2 = make_shared<int>(100);\n",
    "r2 = q2;\n",
    "```"
   ]
  },
  {
   "cell_type": "code",
   "execution_count": null,
   "id": "140c69a9-7fea-4281-840c-27304a1a5a18",
   "metadata": {},
   "outputs": [],
   "source": []
  },
  {
   "cell_type": "markdown",
   "id": "46573d3c-a06a-4b3f-bad4-d21a61baa689",
   "metadata": {},
   "source": [
    "## EXERCISES SECTION 12.1.3"
   ]
  },
  {
   "cell_type": "markdown",
   "id": "ea2a1437-c491-485e-b957-bf544dfa4db4",
   "metadata": {},
   "source": [
    "### Exercise 12.10:\n",
    " Explain whether the following call to the `process` function defined\n",
    "on page 464 is correct. If not, how would you correct the call?\n",
    "```\n",
    "shared_ptr<int> p(new int(42));\n",
    "process(shared_ptr<int>(p));\n",
    "```"
   ]
  },
  {
   "cell_type": "code",
   "execution_count": null,
   "id": "9ae97f6f-ce11-4d5d-a90b-6137ebb03e10",
   "metadata": {},
   "outputs": [],
   "source": []
  },
  {
   "cell_type": "markdown",
   "id": "63bc066a-eedf-4d2d-9b5d-7afdd84d7dce",
   "metadata": {},
   "source": [
    "### Exercise 12.11:\n",
    " What would happen if we called `process` as follows?\n",
    " ```\n",
    "process(shared_ptr<int>(p.get()));\n",
    "```"
   ]
  },
  {
   "cell_type": "code",
   "execution_count": null,
   "id": "1666dd67-2a23-453a-9f55-a5194db957f0",
   "metadata": {},
   "outputs": [],
   "source": []
  },
  {
   "cell_type": "markdown",
   "id": "9be61961-c2af-4517-a47f-18fb7a7f8196",
   "metadata": {},
   "source": [
    "### Exercise 12.12:\n",
    " Using the declarations of `p` and `sp` explain each of the following calls\n",
    "to `process`. If the call is legal, explain what it does. If the call is illegal, explain why:\n",
    "```\n",
    "auto p = new int();\n",
    "auto sp = make_shared<int>();\n",
    "```\n",
    "(a) `process(sp);`\n",
    "(b) `process(new int());`\n",
    "(c) `process(p);`\n",
    "(d) `process(shared_ptr<int>(p));`"
   ]
  },
  {
   "cell_type": "code",
   "execution_count": null,
   "id": "4c75161a-6c8f-40d3-9ff2-cd8266d08310",
   "metadata": {},
   "outputs": [],
   "source": []
  },
  {
   "cell_type": "markdown",
   "id": "da364921-57c1-49ee-9775-f062a183a3f5",
   "metadata": {},
   "source": [
    "### Exercise 12.13:\n",
    " What happens if we execute the following code?\n",
    " ```\n",
    "auto sp = make_shared<int>();\n",
    "auto p = sp.get();\n",
    "delete p;\n",
    "```"
   ]
  },
  {
   "cell_type": "code",
   "execution_count": null,
   "id": "1ab6f1d3-a04d-4171-b65c-9d8f7f8778b5",
   "metadata": {},
   "outputs": [],
   "source": []
  },
  {
   "cell_type": "markdown",
   "id": "204ca0e7-40a5-48c8-b4fb-1fbd98ada993",
   "metadata": {},
   "source": [
    "## EXERCISES SECTION 12.1.4"
   ]
  },
  {
   "cell_type": "code",
   "execution_count": null,
   "id": "09e27fab-e89d-4606-b49a-df45de66f6d9",
   "metadata": {},
   "outputs": [],
   "source": []
  },
  {
   "cell_type": "markdown",
   "id": "b71d57a2-855c-440d-9a16-e26a057946cd",
   "metadata": {},
   "source": [
    "### Exercise 12.14:\n",
    " Write your own version of a function that uses a `shared_ptr` to manage a connection."
   ]
  },
  {
   "cell_type": "code",
   "execution_count": null,
   "id": "dee2b305-5c29-4a1a-a5d6-d6f638b6d9b4",
   "metadata": {},
   "outputs": [],
   "source": []
  },
  {
   "cell_type": "markdown",
   "id": "ee7cd99c-f3f1-4b5e-bc40-b00635605212",
   "metadata": {},
   "source": [
    "### Exercise 12.15:\n",
    " Rewrite the first exercise to use a lambda (§ 10.3.2, p. 388) in place of\n",
    "the `end_connection` function."
   ]
  },
  {
   "cell_type": "code",
   "execution_count": null,
   "id": "2e24f84d-c6e4-4a47-bf03-a2ae1d87c66a",
   "metadata": {},
   "outputs": [],
   "source": []
  },
  {
   "cell_type": "markdown",
   "id": "8f58baf1-b9b2-4b0a-bf9a-f2ae45789b4f",
   "metadata": {},
   "source": [
    "## EXERCISES SECTION 12.1.5"
   ]
  },
  {
   "cell_type": "markdown",
   "id": "cee76539-37b5-4680-ab45-b18c2b709e88",
   "metadata": {},
   "source": [
    "### Exercise 12.16:\n",
    " Compilers don't always give easy-to-understand error messages if we\n",
    "attempt to `copy` or assign a `unique_ptr`. Write a program that contains these errors\n",
    "to see how your compiler diagnoses them."
   ]
  },
  {
   "cell_type": "code",
   "execution_count": null,
   "id": "c3bade5b-ea88-483c-b178-03763a3e8deb",
   "metadata": {},
   "outputs": [],
   "source": []
  },
  {
   "cell_type": "markdown",
   "id": "3e01f625-2cb2-405f-82b0-8ca11e3f9ae1",
   "metadata": {},
   "source": [
    "### Exercise 12.17:\n",
    " Which of the following `unique_ptr` declarations are illegal or likely\n",
    "to result in subsequent program error? Explain what the problem is with each one.\n",
    "```\n",
    "int ix = 1024, *pi = &ix, *pi2 = new int(2048);\n",
    "typedef unique_ptr<int> IntP;\n",
    "```\n",
    "(a) `IntP p0(ix);`\n",
    "(b) `IntP p1(pi);`\n",
    "(c) `IntP p2(pi2);`\n",
    "(d) `IntP p3(&ix);`\n",
    "(e) `IntP p4(new int(2048));`\n",
    "(f) `IntP p5(p2.get());`"
   ]
  },
  {
   "cell_type": "code",
   "execution_count": null,
   "id": "9d3d6548-a43a-4ec6-9774-c7c07ee165c7",
   "metadata": {},
   "outputs": [],
   "source": []
  },
  {
   "cell_type": "markdown",
   "id": "10ed6a61-6ce3-4b1c-b450-ae5dd6ec2bf5",
   "metadata": {},
   "source": [
    "### Exercise 12.18:\n",
    " Why doesn’t `shared_ptr` have a release member?"
   ]
  },
  {
   "cell_type": "code",
   "execution_count": null,
   "id": "ccd6cec1-b29f-4b76-a79d-eedca947ed57",
   "metadata": {},
   "outputs": [],
   "source": []
  },
  {
   "cell_type": "markdown",
   "id": "138fa1b1-60b3-4aa8-9088-29cebf4fbac1",
   "metadata": {},
   "source": [
    "## EXERCISES SECTION 12.1.6"
   ]
  },
  {
   "cell_type": "markdown",
   "id": "92db96a9-847a-4014-b852-9360475ea34a",
   "metadata": {},
   "source": [
    "### Exercise 12.19:\n",
    " Define your own version of `StrBlobPtr` and update your `StrBlob`\n",
    "class with the appropriate `friend` declaration and `begin` and `end` members."
   ]
  },
  {
   "cell_type": "code",
   "execution_count": null,
   "id": "8f715ffe-7392-4412-8e9c-d2970956899d",
   "metadata": {},
   "outputs": [],
   "source": []
  },
  {
   "cell_type": "markdown",
   "id": "753dce7c-ec28-4e8d-8fff-8cb9b3df60cb",
   "metadata": {},
   "source": [
    "### Exercise 12.20:\n",
    " Write a program that reads an input file a line at a time into a `StrBlob`\n",
    "and uses a `StrBlobPtr` to print each element in that `StrBlob`."
   ]
  },
  {
   "cell_type": "code",
   "execution_count": null,
   "id": "5e5ab093-3156-48f0-8b09-c2a33895f7fc",
   "metadata": {},
   "outputs": [],
   "source": []
  },
  {
   "cell_type": "markdown",
   "id": "494202e6-1717-4c7e-b763-bcdf51352948",
   "metadata": {},
   "source": [
    "### Exercise 12.21:\n",
    " We could have written `StrBlobPtr`’s deref member as follows:\n",
    "```\n",
    "std::string& deref() const { return (*check(curr, \"dereference past end\"))[curr]; }\n",
    "```\n",
    "Which version do you think is better and why?"
   ]
  },
  {
   "cell_type": "code",
   "execution_count": null,
   "id": "34ff78d6-b2d9-4e13-82c9-6069f9d398c3",
   "metadata": {},
   "outputs": [],
   "source": []
  },
  {
   "cell_type": "markdown",
   "id": "231c9218-7679-469d-b4f2-8f492867f387",
   "metadata": {},
   "source": [
    "### Exercise 12.22:\n",
    " What changes would need to be made to `StrBlobPtr` to create a class\n",
    "that can be used with a `const` `StrBlob`? Define a class named `ConstStrBlobPtr`\n",
    "that can point to a `const` `StrBlob`."
   ]
  },
  {
   "cell_type": "code",
   "execution_count": null,
   "id": "4f328a1d-4878-42b9-8e7a-2bec786e077d",
   "metadata": {},
   "outputs": [],
   "source": []
  },
  {
   "cell_type": "markdown",
   "id": "f93b53a2-3226-4aba-a7ec-b1341a820ae4",
   "metadata": {},
   "source": [
    "## EXERCISES SECTION 12.2.1"
   ]
  },
  {
   "cell_type": "markdown",
   "id": "91db1f19-3964-4451-9e6b-3f2d6aeee48e",
   "metadata": {},
   "source": [
    "### Exercise 12.23:\n",
    " Write a program to concatenate two `string` literals, putting the result\n",
    "in a dynamically allocated `array` of `char`. Write a program to concatenate two library\n",
    "`string`s that have the same value as the literals used in the first program."
   ]
  },
  {
   "cell_type": "code",
   "execution_count": null,
   "id": "9c461abf-3679-4c24-8ba5-cde2585b16e6",
   "metadata": {},
   "outputs": [],
   "source": []
  },
  {
   "cell_type": "markdown",
   "id": "43ae4857-256b-4b84-a4e5-7b0f232f2b44",
   "metadata": {},
   "source": [
    "### Exercise 12.24:\n",
    " Write a program that reads a `string` from the standard input into a\n",
    "dynamically allocated character `array`. Describe how your program handles varying\n",
    "size inputs. Test your program by giving it a `string` of data that is longer than the `array`\n",
    "size you've allocated."
   ]
  },
  {
   "cell_type": "code",
   "execution_count": null,
   "id": "1228a605-fb4e-4db8-b062-4e814ed2f077",
   "metadata": {},
   "outputs": [],
   "source": []
  },
  {
   "cell_type": "markdown",
   "id": "bc7e133c-af17-4a0d-9665-c091dc30c61d",
   "metadata": {},
   "source": [
    "### Exercise 12.25:\n",
    " Given the following new expression, how would you delete `pa`?\n",
    " ```\n",
    "int *pa = new int[10];\n",
    "```"
   ]
  },
  {
   "cell_type": "code",
   "execution_count": null,
   "id": "7075ee69-2aa2-4de7-9b3b-730ec2bfb3ea",
   "metadata": {},
   "outputs": [],
   "source": []
  },
  {
   "cell_type": "markdown",
   "id": "7e4eef7c-9bf9-4766-bd13-56bf520a8d46",
   "metadata": {},
   "source": [
    "## EXERCISES SECTION 12.2.2"
   ]
  },
  {
   "cell_type": "markdown",
   "id": "5e3cdab5-b129-4ea3-b547-e68ddea96aa6",
   "metadata": {},
   "source": [
    "### Exercise 12.26:\n",
    " Rewrite the program on page 481 using an `allocator`."
   ]
  },
  {
   "cell_type": "code",
   "execution_count": null,
   "id": "5029a77d-c652-4d7a-9df2-be60d070609a",
   "metadata": {},
   "outputs": [],
   "source": []
  },
  {
   "cell_type": "markdown",
   "id": "3e1b4509-0764-46c9-b9b0-0785092ce611",
   "metadata": {},
   "source": [
    "## EXERCISES SECTION 12.3.1"
   ]
  },
  {
   "cell_type": "markdown",
   "id": "e7fd17b4-4777-4c1a-959b-f45845c9ab66",
   "metadata": {},
   "source": [
    "### Exercise 12.27:\n",
    " The `TextQuery` and `QueryResult` classes use only capabilities that\n",
    "we have already covered. Without looking ahead, write your own versions of these\n",
    "classes."
   ]
  },
  {
   "cell_type": "code",
   "execution_count": null,
   "id": "314feb99-391e-4b69-be98-4c41914b7bae",
   "metadata": {},
   "outputs": [],
   "source": []
  },
  {
   "cell_type": "markdown",
   "id": "1b710855-5b77-42eb-bc4d-fd784d683a4d",
   "metadata": {},
   "source": [
    "### Exercise 12.28:\n",
    " Write a program to implement text queries without defining classes to\n",
    "manage the data. Your program should take a file and interact with a user to query for\n",
    "words in that file. Use `vector`, `map`, and `set` containers to hold the data for the file\n",
    "and to generate the results for the queries."
   ]
  },
  {
   "cell_type": "code",
   "execution_count": null,
   "id": "c2567895-3a29-4d59-adb9-ba793578e0a2",
   "metadata": {},
   "outputs": [],
   "source": []
  },
  {
   "cell_type": "markdown",
   "id": "af24479f-6ab0-4218-82bc-bb63b85517af",
   "metadata": {},
   "source": [
    "### Exercise 12.29:\n",
    " We could have written the loop to manage the interaction with the\n",
    "user as a `do while` (§ 5.4.4, p. 189) loop. Rewrite the loop to use a `do while`. Explain\n",
    "which version you prefer and why."
   ]
  },
  {
   "cell_type": "code",
   "execution_count": null,
   "id": "db801c0a-962c-4003-a919-774372aab198",
   "metadata": {},
   "outputs": [],
   "source": []
  },
  {
   "cell_type": "markdown",
   "id": "b221eadb-4350-41d8-83d3-4254e51a9455",
   "metadata": {},
   "source": [
    "## EXERCISES SECTION 12.3.2"
   ]
  },
  {
   "cell_type": "code",
   "execution_count": null,
   "id": "8acfd4ea-d170-4cdd-94eb-ffea42189a2b",
   "metadata": {},
   "outputs": [],
   "source": []
  },
  {
   "cell_type": "markdown",
   "id": "c9ccd750-47d0-4acd-83df-541b0038f65c",
   "metadata": {},
   "source": [
    "### Exercise 12.30:\n",
    " Define your own versions of the `TextQuery` and `QueryResult`\n",
    "classes and execute the `runQueries` function from § 12.3.1 (p. 486)."
   ]
  },
  {
   "cell_type": "code",
   "execution_count": null,
   "id": "da7d5e91-fdec-4ffd-bfe8-4ff864ce458f",
   "metadata": {},
   "outputs": [],
   "source": []
  },
  {
   "cell_type": "markdown",
   "id": "c20eb5f2-9761-4505-bd0c-d45b928b47f9",
   "metadata": {},
   "source": [
    "### Exercise 12.31:\n",
    " What difference(s) would it make if we used a `vector` instead of a\n",
    "`set` to hold the line numbers? Which approach is better? Why?"
   ]
  },
  {
   "cell_type": "code",
   "execution_count": null,
   "id": "38f89c39-30ae-4f74-8514-c2c4c917a9cf",
   "metadata": {},
   "outputs": [],
   "source": []
  },
  {
   "cell_type": "markdown",
   "id": "9aec4e7e-e534-4c61-b2d9-84393cd83937",
   "metadata": {},
   "source": [
    "### Exercise 12.32:\n",
    " Rewrite the `TextQuery` and `QueryResult` classes to use a `StrBlob`\n",
    "instead of a `vector<string>` to hold the input file."
   ]
  },
  {
   "cell_type": "code",
   "execution_count": null,
   "id": "bf8ec6a0-a61a-446d-b6bd-73317e90c1c9",
   "metadata": {},
   "outputs": [],
   "source": []
  },
  {
   "cell_type": "markdown",
   "id": "887535f9-68c1-456b-beed-2f115cee919d",
   "metadata": {},
   "source": [
    "### Exercise 12.33:\n",
    "In Chapter 15 we'll extend our query system and will need some \n",
    "additional members in the `QueryResult` class. Add members named `begin` and `end` that\n",
    "return iterators into the `set` of line numbers returned by a given query, and a member\n",
    "named `get_file` that returns a `shared_ptr` to the file in the `QueryResult` object."
   ]
  },
  {
   "cell_type": "code",
   "execution_count": null,
   "id": "0fa4e940-8535-4f25-93a5-062c01b69baf",
   "metadata": {},
   "outputs": [],
   "source": []
  }
 ],
 "metadata": {
  "kernelspec": {
   "display_name": "C++17",
   "language": "C++17",
   "name": "xcpp17"
  },
  "language_info": {
   "codemirror_mode": "text/x-c++src",
   "file_extension": ".cpp",
   "mimetype": "text/x-c++src",
   "name": "c++",
   "version": "17"
  }
 },
 "nbformat": 4,
 "nbformat_minor": 5
}
