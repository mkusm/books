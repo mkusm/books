{
 "cells": [
  {
   "cell_type": "markdown",
   "id": "ced4d50d-90c0-44c3-bd58-78c7b378d82b",
   "metadata": {},
   "source": [
    "# Chapter 12 Dynamic Memory"
   ]
  },
  {
   "cell_type": "markdown",
   "id": "927d1810-734e-4d8b-af8b-121ce568f3d6",
   "metadata": {},
   "source": [
    "## EXERCISES SECTION 12.1.1"
   ]
  },
  {
   "cell_type": "markdown",
   "id": "190393f6-55dc-4192-a325-d26783bae1f0",
   "metadata": {},
   "source": [
    "### Exercise 12.1:\n",
    "How many elements do `b1` and `b2` have at the end of this code?\n",
    "```\n",
    "StrBlob b1;\n",
    "{\n",
    "    StrBlob b2 = {\"a\", \"an\", \"the\"};\n",
    "    b1 = b2;\n",
    "    b2.push_back(\"about\");\n",
    "}\n",
    "```"
   ]
  },
  {
   "cell_type": "code",
   "execution_count": 1,
   "id": "cab3c55f-efc9-44b6-96ab-2633bdaafbb6",
   "metadata": {},
   "outputs": [],
   "source": [
    "using std::initializer_list, std::string, std::vector, std::shared_ptr, std::make_shared;"
   ]
  },
  {
   "cell_type": "code",
   "execution_count": 2,
   "id": "89505a56-8ffb-459b-9f79-34222436c908",
   "metadata": {},
   "outputs": [],
   "source": [
    "class StrBlob {\n",
    "    public:\n",
    "        StrBlob();\n",
    "        StrBlob(initializer_list<string> il);\n",
    "        void push_back(const string &t) {data->push_back(t);}\n",
    "        shared_ptr<vector<string>> data;\n",
    "};"
   ]
  },
  {
   "cell_type": "code",
   "execution_count": 3,
   "id": "63245791-4aea-4ca7-aae7-4634710bb623",
   "metadata": {},
   "outputs": [],
   "source": [
    "StrBlob::StrBlob(): data(make_shared<vector<string>>()) { }"
   ]
  },
  {
   "cell_type": "code",
   "execution_count": 4,
   "id": "8b3a4fbc-07c0-4eac-b473-0d91dfbcb43a",
   "metadata": {},
   "outputs": [],
   "source": [
    "StrBlob::StrBlob(initializer_list<string> il): data(make_shared<vector<string>>(il)) { }"
   ]
  },
  {
   "cell_type": "code",
   "execution_count": 5,
   "id": "8090f03c-dc65-4bb1-9f3f-9fef002c1a7f",
   "metadata": {},
   "outputs": [],
   "source": [
    "StrBlob b1;\n",
    "{\n",
    "    StrBlob b2 = {\"a\", \"an\", \"the\"};\n",
    "    b1 = b2;\n",
    "    b2.push_back(\"about\");\n",
    "}"
   ]
  },
  {
   "cell_type": "code",
   "execution_count": 10,
   "id": "a3263b7b-cc15-4de5-bde2-dbf01c0a3cba",
   "metadata": {},
   "outputs": [
    {
     "data": {
      "text/plain": [
       "{ \"a\", \"an\", \"the\", \"about\" }"
      ]
     },
     "execution_count": 10,
     "metadata": {},
     "output_type": "execute_result"
    }
   ],
   "source": [
    "*b1.data"
   ]
  },
  {
   "cell_type": "code",
   "execution_count": 11,
   "id": "91d804c8-85fe-4902-a4ee-c707fa76cb2a",
   "metadata": {},
   "outputs": [
    {
     "name": "stderr",
     "output_type": "stream",
     "text": [
      "input_line_23:2:3: error: use of undeclared identifier 'b2'\n",
      " *b2.data\n",
      "  ^\n"
     ]
    },
    {
     "ename": "Interpreter Error",
     "evalue": "",
     "output_type": "error",
     "traceback": [
      "Interpreter Error: "
     ]
    }
   ],
   "source": [
    "*b2.data"
   ]
  },
  {
   "cell_type": "markdown",
   "id": "13afc364-b672-4bd8-947f-67de6d76116e",
   "metadata": {},
   "source": [
    "A:\n",
    "\n",
    "`b2` doesn't exist. `b1` has 4 elements"
   ]
  },
  {
   "cell_type": "markdown",
   "id": "129b88c5-4d59-4b07-b23e-c8efabd3169f",
   "metadata": {},
   "source": [
    "### Exercise 12.2:\n",
    " Write your own version of the `StrBlob` class including the `const` versions of `front` and `back`."
   ]
  },
  {
   "cell_type": "code",
   "execution_count": 1,
   "id": "a8a608ad-29ba-46fc-a224-3c7a022e72ad",
   "metadata": {},
   "outputs": [],
   "source": [
    "using std::initializer_list, std::string, std::vector, std::shared_ptr, std::make_shared;"
   ]
  },
  {
   "cell_type": "code",
   "execution_count": 2,
   "id": "b69a3127-c87e-4ade-9708-457633f59563",
   "metadata": {},
   "outputs": [],
   "source": [
    "class StrBlob {\n",
    "    public:\n",
    "        typedef std::vector<std::string>::size_type size_type;\n",
    "        StrBlob(): data(make_shared<vector<string>>()) { }\n",
    "        StrBlob(initializer_list<string> il): data(make_shared<vector<string>>(il)) { }\n",
    "        size_type size() const { return data->size(); }\n",
    "        bool empty() const { return data->empty(); }\n",
    "        void push_back(const std::string &t) {data->push_back(t);}\n",
    "        void pop_back();\n",
    "        std::string& front();\n",
    "        std::string& back();\n",
    "        std::string& front() const;\n",
    "        std::string& back() const;\n",
    "    private:\n",
    "        std::shared_ptr<std::vector<std::string>> data;\n",
    "        void check(size_type i, const std::string &msg) const;\n",
    "};"
   ]
  },
  {
   "cell_type": "code",
   "execution_count": 3,
   "id": "6f335568-f2f6-4363-a486-7dbb469be17e",
   "metadata": {},
   "outputs": [],
   "source": [
    "void StrBlob::check(size_type i, const string &msg) const\n",
    "{\n",
    "    if (i >= data->size())\n",
    "        throw std::out_of_range(msg);\n",
    "}"
   ]
  },
  {
   "cell_type": "code",
   "execution_count": 4,
   "id": "db074933-8897-4db3-a0a8-39d48d16eeb2",
   "metadata": {},
   "outputs": [],
   "source": [
    "string& StrBlob::front()\n",
    "{\n",
    "    check(0, \"front on empty StrBlob\");\n",
    "    return data->front();\n",
    "}"
   ]
  },
  {
   "cell_type": "code",
   "execution_count": 5,
   "id": "f0a41a3d-0dcb-4237-8bab-58ceea75fd86",
   "metadata": {},
   "outputs": [],
   "source": [
    "string& StrBlob::back()\n",
    "{\n",
    "    check(0, \"back on empty StrBlob\");\n",
    "    return data->back();\n",
    "}"
   ]
  },
  {
   "cell_type": "code",
   "execution_count": 6,
   "id": "4786389d-8371-425b-acc2-39ce6f00fb5d",
   "metadata": {},
   "outputs": [],
   "source": [
    "string& StrBlob::front() const\n",
    "{\n",
    "    check(0, \"front on empty StrBlob\");\n",
    "    return data->front();\n",
    "}"
   ]
  },
  {
   "cell_type": "code",
   "execution_count": 7,
   "id": "e45fd13e-6c9c-47c2-8edc-825152db189a",
   "metadata": {},
   "outputs": [],
   "source": [
    "string& StrBlob::back() const\n",
    "{\n",
    "    check(0, \"back on empty StrBlob\");\n",
    "    return data->back();\n",
    "}"
   ]
  },
  {
   "cell_type": "code",
   "execution_count": 8,
   "id": "de92b834-d6fe-40a6-b650-9a636841964f",
   "metadata": {},
   "outputs": [],
   "source": [
    "void StrBlob::pop_back()\n",
    "{\n",
    "    check(0, \"pop_back on empty StrBlob\");\n",
    "    data->pop_back();\n",
    "}"
   ]
  },
  {
   "cell_type": "markdown",
   "id": "4ca30f2a-1e21-4249-bd6f-7a95e9f3bde9",
   "metadata": {},
   "source": [
    "### Exercise 12.3:\n",
    " Does this class need `const` versions of `push_back` and `pop_back`? If so, add them. If not, why aren’t they needed?"
   ]
  },
  {
   "cell_type": "markdown",
   "id": "1b81cf0d-14f3-4fe6-9ef4-116b2e9c3c07",
   "metadata": {},
   "source": [
    "A:\n",
    "\n",
    "`push_back` and `pop_back` change the underlying data, so we can overload them with `const` version to either not do anything (which is pointless), or to do exaclty the same thing as the non-`const` version (but what's the point of `StrBlob` being `const` then?)  \n",
    "\n",
    "Compiler will not complain about any of these implementations, as we're not changing the `StrBlob`'s data, just the data that it's pointer points to"
   ]
  },
  {
   "cell_type": "markdown",
   "id": "17f5cb27-39c7-4590-a4f9-787d48bc57b9",
   "metadata": {},
   "source": [
    "### Exercise 12.4:\n",
    " In our `check` function we didn’t check whether `i` was greater than zero. Why is it okay to omit that check?"
   ]
  },
  {
   "cell_type": "markdown",
   "id": "836374d6-ef2d-4444-acc7-10db0ddfc77e",
   "metadata": {},
   "source": [
    "A:\n",
    "\n",
    "`size_type` is unsigned"
   ]
  },
  {
   "cell_type": "markdown",
   "id": "ec12352b-31ef-46de-a441-4b85881de67c",
   "metadata": {},
   "source": [
    "### Exercise 12.5: \n",
    " We did not make the constructor that takes an `initializer_list`\n",
    "explicit (§ 7.5.4, p. 296). Discuss the pros and cons of this design choice."
   ]
  },
  {
   "cell_type": "markdown",
   "id": "b47bf89f-4e84-4637-9bd4-502764cb84c4",
   "metadata": {},
   "source": [
    "A:\n",
    "\n",
    "Great answer from [@jaege](https://github.com/jaege)  in [12.5.md](https://github.com/jaege/Cpp-Primer-5th-Exercises/blob/master/ch12/12.5.md):\n",
    "\n",
    ">\n",
    ">\n",
    ">Since we do not make the constructor explicit, the pros are  \n",
    ">    * we can use = { /* ... */ } to initialize a StrBlob object,  \n",
    ">    * we can use assignment to assign an initializer list to a StrBlob object,  \n",
    ">    * we can pass an initializer list to functions who need a StrBlob parameter.  \n",
    ">\n",
    ">The cons are  \n",
    ">    * we may overlook the implicit conversion made by compiler sometime, which may be bug prone.\n",
    "\n"
   ]
  },
  {
   "cell_type": "markdown",
   "id": "b4da8bb5-4f83-4ed6-a2d5-f0c03b754a7e",
   "metadata": {},
   "source": [
    "## EXERCISES SECTION 12.1.2"
   ]
  },
  {
   "cell_type": "markdown",
   "id": "a7f0d59c-6ccc-42f8-a178-b2ca1388df38",
   "metadata": {},
   "source": [
    "### Exercise 12.6:\n",
    " Write a function that returns a dynamically allocated `vector` of `int`s.\n",
    "Pass that `vector` to another function that reads the standard input to give values to\n",
    "the elements. Pass the `vector` to another function to print the values that were read.\n",
    "Remember to `delete` the `vector` at the appropriate time."
   ]
  },
  {
   "cell_type": "code",
   "execution_count": 1,
   "id": "371073a3-b4c1-464c-b878-9ed5fb745e06",
   "metadata": {},
   "outputs": [],
   "source": [
    "#include <iostream>\n",
    "using std::vector, std::cin, std::cout, std::endl;"
   ]
  },
  {
   "cell_type": "code",
   "execution_count": 2,
   "id": "fb7eb346-5626-49ef-ad4f-eaf9510cd007",
   "metadata": {},
   "outputs": [],
   "source": [
    "using vpoint = vector<int>*;"
   ]
  },
  {
   "cell_type": "code",
   "execution_count": 3,
   "id": "719458dd-914e-48ed-ae15-f37df31aa5e3",
   "metadata": {},
   "outputs": [],
   "source": [
    "vpoint createVector()\n",
    "{\n",
    "    vpoint v = new vector<int>();\n",
    "    return v;\n",
    "}"
   ]
  },
  {
   "cell_type": "code",
   "execution_count": 4,
   "id": "17a52521-bc74-43d2-b7df-404a092b94bb",
   "metadata": {},
   "outputs": [],
   "source": [
    "void readData(vpoint v)\n",
    "{\n",
    "    int data;\n",
    "    for (int i = 0; i < 4; ++i)\n",
    "    {\n",
    "        cin >> data;\n",
    "        v->push_back(data);\n",
    "    }\n",
    "}"
   ]
  },
  {
   "cell_type": "code",
   "execution_count": 5,
   "id": "3a4069d6-afce-4e1c-b178-d46dd87c8329",
   "metadata": {},
   "outputs": [],
   "source": [
    "void printData(vpoint v)\n",
    "{\n",
    "    for (decltype(v->size()) i = 0; i < v->size(); ++i)\n",
    "    {\n",
    "        cout << v->at(i) << \" \";\n",
    "    }\n",
    "    cout << endl;\n",
    "}"
   ]
  },
  {
   "cell_type": "code",
   "execution_count": 6,
   "id": "b557d59b-e318-447c-8045-c97ce89cc44f",
   "metadata": {},
   "outputs": [
    {
     "name": "stdin",
     "output_type": "stream",
     "text": [
      " 2 1 3 7\n"
     ]
    },
    {
     "name": "stdout",
     "output_type": "stream",
     "text": [
      "2 1 3 7 \n"
     ]
    }
   ],
   "source": [
    "vpoint v = createVector();\n",
    "readData(v);\n",
    "printData(v);\n",
    "delete v;"
   ]
  },
  {
   "cell_type": "markdown",
   "id": "857c8bd4-9e01-436f-9cc4-b9f2c2d14d3c",
   "metadata": {},
   "source": [
    "### Exercise 12.7:\n",
    " Redo the previous exercise, this time using `shared_ptr`."
   ]
  },
  {
   "cell_type": "code",
   "execution_count": 1,
   "id": "cd160ac1-d9c1-4fa3-9541-523b60331ac7",
   "metadata": {},
   "outputs": [],
   "source": [
    "#include <iostream>\n",
    "using std::vector, std::cin, std::cout, std::endl;"
   ]
  },
  {
   "cell_type": "code",
   "execution_count": 2,
   "id": "bdba6b93-519f-40c3-bd5a-f395e8226d5f",
   "metadata": {},
   "outputs": [],
   "source": [
    "using vpoint = std::shared_ptr<vector<int>>;"
   ]
  },
  {
   "cell_type": "code",
   "execution_count": 3,
   "id": "13248446-2a83-4cbf-94b1-643cc55eaef5",
   "metadata": {},
   "outputs": [],
   "source": [
    "vpoint createVector()\n",
    "{\n",
    "    return std::make_shared<vector<int>>();\n",
    "}"
   ]
  },
  {
   "cell_type": "code",
   "execution_count": 4,
   "id": "cfb3ea1f-3114-43f4-8b5a-9daf258ee093",
   "metadata": {},
   "outputs": [],
   "source": [
    "void readData(vpoint v)\n",
    "{\n",
    "    int data;\n",
    "    for (int i = 0; i < 4; ++i)\n",
    "    {\n",
    "        cin >> data;\n",
    "        v->push_back(data);\n",
    "    }\n",
    "}"
   ]
  },
  {
   "cell_type": "code",
   "execution_count": 5,
   "id": "1a43402e-d135-4530-a3d6-72845ef26b29",
   "metadata": {},
   "outputs": [],
   "source": [
    "void printData(vpoint v)\n",
    "{\n",
    "    for (decltype(v->size()) i = 0; i < v->size(); ++i)\n",
    "    {\n",
    "        cout << v->at(i) << \" \";\n",
    "    }\n",
    "    cout << endl;\n",
    "}"
   ]
  },
  {
   "cell_type": "code",
   "execution_count": 6,
   "id": "36fac550-227f-4821-b353-fdc99cbc425a",
   "metadata": {},
   "outputs": [
    {
     "name": "stdin",
     "output_type": "stream",
     "text": [
      " 2 1 3 7\n"
     ]
    },
    {
     "name": "stdout",
     "output_type": "stream",
     "text": [
      "2 1 3 7 \n"
     ]
    }
   ],
   "source": [
    "{\n",
    "    vpoint v = createVector();\n",
    "    readData(v);\n",
    "    printData(v);\n",
    "}"
   ]
  },
  {
   "cell_type": "markdown",
   "id": "5ce68e4f-a955-40c8-bc92-f013fcaad075",
   "metadata": {},
   "source": [
    "### Exercise 12.8:\n",
    " Explain what if anything is wrong with the following function.\n",
    " ```\n",
    "bool b() {\n",
    "    int* p = new int;\n",
    "    // . . .\n",
    "    return p;\n",
    "}\n",
    "```"
   ]
  },
  {
   "cell_type": "markdown",
   "id": "188eb23d-992c-46ef-b466-fd360c99bee3",
   "metadata": {},
   "source": [
    "A:\n",
    "\n",
    "the return type is `bool` but we're returning `int*`. There's no way to ever `delete` `p`, so we've got a memory leak."
   ]
  },
  {
   "cell_type": "markdown",
   "id": "1b1d4987-a4a5-4469-bcef-dd654f1d50e9",
   "metadata": {},
   "source": [
    "### Exercise 12.9:\n",
    " Explain what happens in the following code:\n",
    " ```\n",
    "int *q = new int(42), *r = new int(100);\n",
    "r = q;\n",
    "auto q2 = make_shared<int>(42), r2 = make_shared<int>(100);\n",
    "r2 = q2;\n",
    "```"
   ]
  },
  {
   "cell_type": "markdown",
   "id": "0445d71b-582f-4693-ab5f-237f3c69f97e",
   "metadata": {},
   "source": [
    "A:\n",
    "\n",
    "```\n",
    "int *q = new int(42), *r = new int(100);\n",
    "r = q;\n",
    "```\n",
    "causes memory leak, as by changing the `r` pointer to point to `int(42)`, we can never access `int(100)` to delete it\n",
    "\n",
    "```\n",
    "auto q2 = make_shared<int>(42), r2 = make_shared<int>(100);\n",
    "r2 = q2;\n",
    "```\n",
    "deletes `int` that `r2` pointed to when doing `r2 = q2`, so no memory leak occurs"
   ]
  },
  {
   "cell_type": "markdown",
   "id": "46573d3c-a06a-4b3f-bad4-d21a61baa689",
   "metadata": {},
   "source": [
    "## EXERCISES SECTION 12.1.3"
   ]
  },
  {
   "cell_type": "markdown",
   "id": "ea2a1437-c491-485e-b957-bf544dfa4db4",
   "metadata": {},
   "source": [
    "### Exercise 12.10:\n",
    " Explain whether the following call to the `process` function defined\n",
    "on page 464 is correct. If not, how would you correct the call?\n",
    "```\n",
    "shared_ptr<int> p(new int(42));\n",
    "process(shared_ptr<int>(p));\n",
    "```"
   ]
  },
  {
   "cell_type": "markdown",
   "id": "36ef2d0e-6155-4a37-b2ac-644f20993c71",
   "metadata": {},
   "source": [
    "A:\n",
    "\n",
    "this call is correct, `shared_ptr` correctly handles counting the number of pointers pointing to the `int(42)` object"
   ]
  },
  {
   "cell_type": "code",
   "execution_count": 1,
   "id": "5fd746a3-3ba5-407e-95c4-3f7c4e2c3640",
   "metadata": {},
   "outputs": [],
   "source": [
    "using ptr = std::shared_ptr<int>;"
   ]
  },
  {
   "cell_type": "code",
   "execution_count": 2,
   "id": "9ae97f6f-ce11-4d5d-a90b-6137ebb03e10",
   "metadata": {},
   "outputs": [],
   "source": [
    "void process(ptr ptr)\n",
    "{\n",
    "    ;\n",
    "}"
   ]
  },
  {
   "cell_type": "code",
   "execution_count": 3,
   "id": "ea2b1f74-2f98-4e45-8f8e-dac70ed46c48",
   "metadata": {},
   "outputs": [
    {
     "data": {
      "text/plain": [
       "1"
      ]
     },
     "execution_count": 3,
     "metadata": {},
     "output_type": "execute_result"
    }
   ],
   "source": [
    "ptr p(new int(42));\n",
    "p.use_count()"
   ]
  },
  {
   "cell_type": "code",
   "execution_count": 4,
   "id": "de95bdc9-63bb-4f8d-ae03-92f76e2463b3",
   "metadata": {},
   "outputs": [
    {
     "data": {
      "text/plain": [
       "1"
      ]
     },
     "execution_count": 4,
     "metadata": {},
     "output_type": "execute_result"
    }
   ],
   "source": [
    "process(ptr(p));\n",
    "p.use_count()"
   ]
  },
  {
   "cell_type": "code",
   "execution_count": 5,
   "id": "332388c7-5531-4d56-b9e5-fb797b336b8b",
   "metadata": {},
   "outputs": [
    {
     "data": {
      "text/plain": [
       "42"
      ]
     },
     "execution_count": 5,
     "metadata": {},
     "output_type": "execute_result"
    }
   ],
   "source": [
    "*p"
   ]
  },
  {
   "cell_type": "code",
   "execution_count": 6,
   "id": "87107bd0-2a58-4617-920c-d89bd3b0c675",
   "metadata": {},
   "outputs": [
    {
     "data": {
      "text/plain": [
       "1"
      ]
     },
     "execution_count": 6,
     "metadata": {},
     "output_type": "execute_result"
    }
   ],
   "source": [
    "process(p);\n",
    "p.use_count()"
   ]
  },
  {
   "cell_type": "code",
   "execution_count": 7,
   "id": "10abf0c5-2c17-474e-9a3e-6fcd118bff5e",
   "metadata": {},
   "outputs": [
    {
     "data": {
      "text/plain": [
       "42"
      ]
     },
     "execution_count": 7,
     "metadata": {},
     "output_type": "execute_result"
    }
   ],
   "source": [
    "*p"
   ]
  },
  {
   "cell_type": "code",
   "execution_count": 8,
   "id": "42acd14c-429d-44bd-a353-35f58469f9aa",
   "metadata": {},
   "outputs": [
    {
     "data": {
      "text/plain": [
       "0"
      ]
     },
     "execution_count": 8,
     "metadata": {},
     "output_type": "execute_result"
    }
   ],
   "source": [
    "p.reset();\n",
    "p.use_count()"
   ]
  },
  {
   "cell_type": "markdown",
   "id": "63bc066a-eedf-4d2d-9b5d-7afdd84d7dce",
   "metadata": {},
   "source": [
    "### Exercise 12.11:\n",
    " What would happen if we called `process` as follows?\n",
    " ```\n",
    "process(shared_ptr<int>(p.get()));\n",
    "```"
   ]
  },
  {
   "cell_type": "markdown",
   "id": "516afbcb-9a9f-43be-abc2-de7fe5b5b9f5",
   "metadata": {},
   "source": [
    "A:\n",
    "\n",
    "object `int(42)` would be deleted prematurely, as the newly created pointer in `process` wouldn't know about `p` pointer"
   ]
  },
  {
   "cell_type": "code",
   "execution_count": 1,
   "id": "ec9c9868-5b07-4f7c-a869-cc28a4b03c0e",
   "metadata": {},
   "outputs": [],
   "source": [
    "using ptr = std::shared_ptr<int>;"
   ]
  },
  {
   "cell_type": "code",
   "execution_count": 2,
   "id": "2bfa1d26-d2d3-4d39-893b-1f0e5535e4b4",
   "metadata": {},
   "outputs": [],
   "source": [
    "void process(ptr ptr)\n",
    "{\n",
    "    ;\n",
    "}"
   ]
  },
  {
   "cell_type": "code",
   "execution_count": 3,
   "id": "d8138b08-bc53-4a76-a434-118ec44b4b72",
   "metadata": {},
   "outputs": [
    {
     "data": {
      "text/plain": [
       "1"
      ]
     },
     "execution_count": 3,
     "metadata": {},
     "output_type": "execute_result"
    }
   ],
   "source": [
    "ptr p(new int(42));\n",
    "p.use_count()"
   ]
  },
  {
   "cell_type": "code",
   "execution_count": 4,
   "id": "3f28dc96-61d9-4bd0-9b25-5e30ba9ea534",
   "metadata": {},
   "outputs": [
    {
     "data": {
      "text/plain": [
       "1"
      ]
     },
     "execution_count": 4,
     "metadata": {},
     "output_type": "execute_result"
    }
   ],
   "source": [
    "process(ptr(p.get()));\n",
    "p.use_count()"
   ]
  },
  {
   "cell_type": "code",
   "execution_count": 5,
   "id": "4499af09-ee1f-4e33-ae68-826bdb2ec9cd",
   "metadata": {},
   "outputs": [
    {
     "data": {
      "text/plain": [
       "-771571344"
      ]
     },
     "execution_count": 5,
     "metadata": {},
     "output_type": "execute_result"
    }
   ],
   "source": [
    "*p"
   ]
  },
  {
   "cell_type": "markdown",
   "id": "9be61961-c2af-4517-a47f-18fb7a7f8196",
   "metadata": {},
   "source": [
    "### Exercise 12.12:\n",
    " Using the declarations of `p` and `sp` explain each of the following calls\n",
    "to `process`. If the call is legal, explain what it does. If the call is illegal, explain why:\n",
    "```\n",
    "auto p = new int();\n",
    "auto sp = make_shared<int>();\n",
    "```\n",
    "(a) `process(sp);`  \n",
    "(b) `process(new int());`  \n",
    "(c) `process(p);`  \n",
    "(d) `process(shared_ptr<int>(p));`"
   ]
  },
  {
   "cell_type": "markdown",
   "id": "8b2170f5-438c-4aad-9929-e0530e573f99",
   "metadata": {},
   "source": [
    "A:\n",
    "\n",
    "a) legal, shared count increases at the beginning of the function and decreases at the end, the object pointed to is not deleted and we can access it  \n",
    "b) illegal, can't implicitly create smart pointer  \n",
    "c) illegal, can't implicitly create smart pointer  \n",
    "d) legal, but problematic, as `process` with delete the memory at the end and we're left with dangling `p` pointer"
   ]
  },
  {
   "cell_type": "markdown",
   "id": "da364921-57c1-49ee-9775-f062a183a3f5",
   "metadata": {},
   "source": [
    "### Exercise 12.13:\n",
    " What happens if we execute the following code?\n",
    " ```\n",
    "auto sp = make_shared<int>();\n",
    "auto p = sp.get();\n",
    "delete p;\n",
    "```"
   ]
  },
  {
   "cell_type": "markdown",
   "id": "85607ed6-864b-4338-a3ef-9acc08135660",
   "metadata": {},
   "source": [
    "A:\n",
    "\n",
    "memory is deleted, but `sp` is a dangling smart pointer with `use_count() == 1`. Might cause a second `delete` later."
   ]
  },
  {
   "cell_type": "markdown",
   "id": "204ca0e7-40a5-48c8-b4fb-1fbd98ada993",
   "metadata": {},
   "source": [
    "## EXERCISES SECTION 12.1.4"
   ]
  },
  {
   "cell_type": "markdown",
   "id": "b71d57a2-855c-440d-9a16-e26a057946cd",
   "metadata": {},
   "source": [
    "### Exercise 12.14:\n",
    " Write your own version of a function that uses a `shared_ptr` to manage a connection."
   ]
  },
  {
   "cell_type": "code",
   "execution_count": 1,
   "id": "3b8a217c-4bf5-4022-bb08-1b3ccb0ef392",
   "metadata": {},
   "outputs": [],
   "source": [
    "#include <iostream>\n",
    "using std::string;"
   ]
  },
  {
   "cell_type": "code",
   "execution_count": 2,
   "id": "cc6b6293-c3e5-45ec-a6e9-0d50e092d0e3",
   "metadata": {},
   "outputs": [],
   "source": [
    "struct destination\n",
    "{\n",
    "    string ip;\n",
    "};\n",
    "struct connection\n",
    "{\n",
    "    string ip;\n",
    "    bool connected = true;\n",
    "};"
   ]
  },
  {
   "cell_type": "code",
   "execution_count": 3,
   "id": "1833a3ac-2c0b-4193-91f9-1859afec1b93",
   "metadata": {},
   "outputs": [],
   "source": [
    "connection connect(destination* dest) { return connection({dest->ip}); }"
   ]
  },
  {
   "cell_type": "code",
   "execution_count": 4,
   "id": "fdb0e171-cdfc-4f61-9a48-39de502265f8",
   "metadata": {},
   "outputs": [],
   "source": [
    "void disconnect(connection conn) { conn.connected = false; }"
   ]
  },
  {
   "cell_type": "code",
   "execution_count": 5,
   "id": "100dde4a-5ba5-4f7f-9219-2fa12e8046ee",
   "metadata": {},
   "outputs": [],
   "source": [
    "void end_connection(connection *p) { disconnect(*p); std::cout << \"disconnected\" << std::endl; }"
   ]
  },
  {
   "cell_type": "code",
   "execution_count": 6,
   "id": "dee2b305-5c29-4a1a-a5d6-d6f638b6d9b4",
   "metadata": {},
   "outputs": [],
   "source": [
    "void f(destination &d)\n",
    "{\n",
    "    connection c = connect(&d);\n",
    "    std::shared_ptr<connection> p(&c, end_connection);\n",
    "    if (c.ip == \"127.0.0.1\")\n",
    "        throw std::runtime_error(\"can't use local ip\");\n",
    "    std::cout << ((c.connected) ? \"connected\" : \"not connected\") << std::endl;\n",
    "    std::cout << c.ip << std::endl;\n",
    "}"
   ]
  },
  {
   "cell_type": "code",
   "execution_count": 7,
   "id": "71ce6a05-21bc-40a2-bac2-b0947b3f73ff",
   "metadata": {},
   "outputs": [
    {
     "name": "stdout",
     "output_type": "stream",
     "text": [
      "connected\n",
      "72.0.0.1\n",
      "disconnected\n"
     ]
    }
   ],
   "source": [
    "auto dest = destination({\"72.0.0.1\"});\n",
    "f(dest);"
   ]
  },
  {
   "cell_type": "code",
   "execution_count": 8,
   "id": "0515e580-8dc4-405c-bb69-71d3ac385106",
   "metadata": {},
   "outputs": [
    {
     "name": "stdout",
     "output_type": "stream",
     "text": [
      "disconnected\n"
     ]
    },
    {
     "ename": "Standard Exception",
     "evalue": "can't use local ip",
     "output_type": "error",
     "traceback": [
      "Standard Exception: can't use local ip"
     ]
    }
   ],
   "source": [
    "auto dest = destination({\"127.0.0.1\"});\n",
    "f(dest);"
   ]
  },
  {
   "cell_type": "markdown",
   "id": "ee7cd99c-f3f1-4b5e-bc40-b00635605212",
   "metadata": {},
   "source": [
    "### Exercise 12.15:\n",
    " Rewrite the first exercise to use a lambda (§ 10.3.2, p. 388) in place of\n",
    "the `end_connection` function."
   ]
  },
  {
   "cell_type": "code",
   "execution_count": 1,
   "id": "ee600ee8-4fde-4fbe-ae0f-74fd7a72584d",
   "metadata": {},
   "outputs": [],
   "source": [
    "#include <iostream>\n",
    "using std::string;"
   ]
  },
  {
   "cell_type": "code",
   "execution_count": 2,
   "id": "a00a99c2-9028-4fbd-aab3-6ab06ab49b9f",
   "metadata": {},
   "outputs": [],
   "source": [
    "struct destination\n",
    "{\n",
    "    string ip;\n",
    "};\n",
    "struct connection\n",
    "{\n",
    "    string ip;\n",
    "    bool connected = true;\n",
    "};"
   ]
  },
  {
   "cell_type": "code",
   "execution_count": 3,
   "id": "07628d3c-ae50-46c4-9873-7c08fd329272",
   "metadata": {},
   "outputs": [],
   "source": [
    "connection connect(destination* dest) { return connection({dest->ip}); }"
   ]
  },
  {
   "cell_type": "code",
   "execution_count": 4,
   "id": "5d455921-6f5e-4670-9739-be57912d0dec",
   "metadata": {},
   "outputs": [],
   "source": [
    "void disconnect(connection conn) { conn.connected = false; }"
   ]
  },
  {
   "cell_type": "code",
   "execution_count": 5,
   "id": "05c92867-495d-45ff-8b88-809c669de09d",
   "metadata": {},
   "outputs": [],
   "source": [
    "void f(destination &d)\n",
    "{\n",
    "    connection c = connect(&d);\n",
    "    std::shared_ptr<connection> p(&c, [](connection *conn_p){ disconnect(*conn_p); std::cout << \"disconnected\" << std::endl; });\n",
    "    if (c.ip == \"127.0.0.1\")\n",
    "        throw std::runtime_error(\"can't use local ip\");\n",
    "    std::cout << ((c.connected) ? \"connected\" : \"not connected\") << std::endl;\n",
    "    std::cout << c.ip << std::endl;\n",
    "}"
   ]
  },
  {
   "cell_type": "code",
   "execution_count": 6,
   "id": "f0536d71-70ac-46bb-8559-19092fa86ac8",
   "metadata": {},
   "outputs": [
    {
     "name": "stdout",
     "output_type": "stream",
     "text": [
      "connected\n",
      "72.0.0.1\n",
      "disconnected\n"
     ]
    }
   ],
   "source": [
    "auto dest = destination({\"72.0.0.1\"});\n",
    "f(dest);"
   ]
  },
  {
   "cell_type": "code",
   "execution_count": 7,
   "id": "c04f1e50-640c-4c1e-aa5c-23f162b5a979",
   "metadata": {},
   "outputs": [
    {
     "name": "stdout",
     "output_type": "stream",
     "text": [
      "disconnected\n"
     ]
    },
    {
     "ename": "Standard Exception",
     "evalue": "can't use local ip",
     "output_type": "error",
     "traceback": [
      "Standard Exception: can't use local ip"
     ]
    }
   ],
   "source": [
    "auto dest = destination({\"127.0.0.1\"});\n",
    "f(dest);"
   ]
  },
  {
   "cell_type": "markdown",
   "id": "8f58baf1-b9b2-4b0a-bf9a-f2ae45789b4f",
   "metadata": {},
   "source": [
    "## EXERCISES SECTION 12.1.5"
   ]
  },
  {
   "cell_type": "markdown",
   "id": "cee76539-37b5-4680-ab45-b18c2b709e88",
   "metadata": {},
   "source": [
    "### Exercise 12.16:\n",
    " Compilers don't always give easy-to-understand error messages if we\n",
    "attempt to `copy` or assign a `unique_ptr`. Write a program that contains these errors\n",
    "to see how your compiler diagnoses them."
   ]
  },
  {
   "cell_type": "code",
   "execution_count": 1,
   "id": "c3bade5b-ea88-483c-b178-03763a3e8deb",
   "metadata": {},
   "outputs": [
    {
     "name": "stderr",
     "output_type": "stream",
     "text": [
      "input_line_7:5:4: error: overload resolution selected deleted operator '='\n",
      "p2 = p1;\n",
      "~~ ^ ~~\n",
      "/opt/conda/bin/../lib/gcc/x86_64-conda-linux-gnu/9.3.0/../../../../x86_64-conda-linux-gnu/include/c++/9.3.0/bits/unique_ptr.h:415:19: note: candidate function has been explicitly deleted\n",
      "      unique_ptr& operator=(const unique_ptr&) = delete;\n",
      "                  ^\n",
      "/opt/conda/bin/../lib/gcc/x86_64-conda-linux-gnu/9.3.0/../../../../x86_64-conda-linux-gnu/include/c++/9.3.0/bits/unique_ptr.h:305:7: note: candidate function not viable: no known conversion from '__cling_N52::upointer' (aka 'unique_ptr<int>') to 'std::unique_ptr<int, std::default_delete<int> > &&' for 1st argument\n",
      "      operator=(unique_ptr&& __u) noexcept\n",
      "      ^\n",
      "/opt/conda/bin/../lib/gcc/x86_64-conda-linux-gnu/9.3.0/../../../../x86_64-conda-linux-gnu/include/c++/9.3.0/bits/unique_ptr.h:325:2: note: candidate function [with _Up = int, _Ep = std::default_delete<int>] not viable: no known conversion from '__cling_N52::upointer' (aka 'unique_ptr<int>') to 'unique_ptr<int, std::default_delete<int> > &&' for 1st argument\n",
      "        operator=(unique_ptr<_Up, _Ep>&& __u) noexcept\n",
      "        ^\n",
      "/opt/conda/bin/../lib/gcc/x86_64-conda-linux-gnu/9.3.0/../../../../x86_64-conda-linux-gnu/include/c++/9.3.0/bits/unique_ptr.h:334:7: note: candidate function not viable: no known conversion from '__cling_N52::upointer' (aka 'unique_ptr<int>') to 'std::nullptr_t' (aka 'nullptr_t') for 1st argument\n",
      "      operator=(nullptr_t) noexcept\n",
      "      ^\n"
     ]
    },
    {
     "ename": "Interpreter Error",
     "evalue": "",
     "output_type": "error",
     "traceback": [
      "Interpreter Error: "
     ]
    }
   ],
   "source": [
    "using upointer = std::unique_ptr<int>;\n",
    "upointer p1(new int(10));\n",
    "upointer p2;\n",
    "p2 = p1;"
   ]
  },
  {
   "cell_type": "code",
   "execution_count": 1,
   "id": "d2e117de-4c9c-4145-bafa-f975cc87ab96",
   "metadata": {},
   "outputs": [
    {
     "name": "stderr",
     "output_type": "stream",
     "text": [
      "input_line_7:4:10: error: call to deleted constructor of '__cling_N52::upointer' (aka 'unique_ptr<int>')\n",
      "upointer p2(p1);\n",
      "         ^  ~~\n",
      "/opt/conda/bin/../lib/gcc/x86_64-conda-linux-gnu/9.3.0/../../../../x86_64-conda-linux-gnu/include/c++/9.3.0/bits/unique_ptr.h:414:7: note: 'unique_ptr' has been explicitly marked deleted here\n",
      "      unique_ptr(const unique_ptr&) = delete;\n",
      "      ^\n"
     ]
    },
    {
     "ename": "Interpreter Error",
     "evalue": "",
     "output_type": "error",
     "traceback": [
      "Interpreter Error: "
     ]
    }
   ],
   "source": [
    "using upointer = std::unique_ptr<int>;\n",
    "upointer p1(new int(10));\n",
    "upointer p2(p1);"
   ]
  },
  {
   "cell_type": "code",
   "execution_count": 1,
   "id": "ee26656a-cb4b-40dd-b009-6e24a8242c86",
   "metadata": {},
   "outputs": [
    {
     "data": {
      "text/plain": [
       "10"
      ]
     },
     "execution_count": 1,
     "metadata": {},
     "output_type": "execute_result"
    }
   ],
   "source": [
    "using upointer = std::unique_ptr<int>;\n",
    "upointer p1(new int(10));\n",
    "upointer p2(p1.release());\n",
    "*p2"
   ]
  },
  {
   "cell_type": "markdown",
   "id": "3e01f625-2cb2-405f-82b0-8ca11e3f9ae1",
   "metadata": {},
   "source": [
    "### Exercise 12.17:\n",
    " Which of the following `unique_ptr` declarations are illegal or likely\n",
    "to result in subsequent program error? Explain what the problem is with each one.\n",
    "```\n",
    "int ix = 1024, *pi = &ix, *pi2 = new int(2048);\n",
    "typedef unique_ptr<int> IntP;\n",
    "```\n",
    "(a) `IntP p0(ix);`  \n",
    "(b) `IntP p1(pi);`  \n",
    "(c) `IntP p2(pi2);`  \n",
    "(d) `IntP p3(&ix);`  \n",
    "(e) `IntP p4(new int(2048));`  \n",
    "(f) `IntP p5(p2.get());`"
   ]
  },
  {
   "cell_type": "markdown",
   "id": "f9667bc4-8d46-4e03-b1d3-33ad9207bfa6",
   "metadata": {},
   "source": [
    "A:\n",
    "\n",
    "a) illegal, `ix` isn't a pointer  \n",
    "b) legal, but `pi` points to static memory, so we'll get an error is `p1` tries to delete it  \n",
    "c) legal, but will leave us with dangling `pi2` pointer once `p2` deletes memory  \n",
    "d) same as b)  \n",
    "e) legal  \n",
    "f) legal, but two unique pointers pointing to the same object, will leave dangling pointers like in c)"
   ]
  },
  {
   "cell_type": "markdown",
   "id": "10ed6a61-6ce3-4b1c-b450-ae5dd6ec2bf5",
   "metadata": {},
   "source": [
    "### Exercise 12.18:\n",
    " Why doesn’t `shared_ptr` have a `release` member?"
   ]
  },
  {
   "cell_type": "markdown",
   "id": "4dae3112-1822-4450-aced-0fb9c7f233d0",
   "metadata": {},
   "source": [
    "A:\n",
    "\n",
    "`shared_ptr` can be copied, so doesn't need a release member. We can instead copy it first and then `reset`"
   ]
  },
  {
   "cell_type": "markdown",
   "id": "138fa1b1-60b3-4aa8-9088-29cebf4fbac1",
   "metadata": {},
   "source": [
    "## EXERCISES SECTION 12.1.6"
   ]
  },
  {
   "cell_type": "markdown",
   "id": "92db96a9-847a-4014-b852-9360475ea34a",
   "metadata": {},
   "source": [
    "### Exercise 12.19:\n",
    " Define your own version of `StrBlobPtr` and update your `StrBlob`\n",
    "class with the appropriate `friend` declaration and `begin` and `end` members."
   ]
  },
  {
   "cell_type": "code",
   "execution_count": 1,
   "id": "c895e607-44f5-4a34-9ebe-3ded212f6880",
   "metadata": {},
   "outputs": [],
   "source": [
    "using std::initializer_list, std::string, std::vector, std::shared_ptr, std::make_shared, std::weak_ptr;"
   ]
  },
  {
   "cell_type": "code",
   "execution_count": 2,
   "id": "5de43c75-9477-4677-bb30-0a9d9bb386f0",
   "metadata": {},
   "outputs": [],
   "source": [
    "using vpointer = shared_ptr<vector<string>>;"
   ]
  },
  {
   "cell_type": "code",
   "execution_count": 3,
   "id": "e7c12e29-8e74-4444-a4b6-0ef2cf3625de",
   "metadata": {},
   "outputs": [],
   "source": [
    "class StrBlobPtr;"
   ]
  },
  {
   "cell_type": "code",
   "execution_count": 4,
   "id": "5fcaaa6d-326c-4549-a317-156dc69056fc",
   "metadata": {},
   "outputs": [],
   "source": [
    "class ConstStrBlobPtr;"
   ]
  },
  {
   "cell_type": "code",
   "execution_count": 5,
   "id": "02d4362e-6271-4c9e-9276-eb1ab5cf5242",
   "metadata": {},
   "outputs": [],
   "source": [
    "class StrBlob {\n",
    "    public:\n",
    "        friend StrBlobPtr;\n",
    "        friend ConstStrBlobPtr;\n",
    "        typedef vector<string>::size_type size_type;\n",
    "        StrBlob(): data(make_shared<vector<string>>()) { }\n",
    "        StrBlob(initializer_list<string> il): data(make_shared<vector<string>>(il)) { }\n",
    "        size_type size() const { return data->size(); }\n",
    "        bool empty() const { return data->empty(); }\n",
    "        void push_back(const string &t) {data->push_back(t);}\n",
    "        void pop_back();\n",
    "        string& front();\n",
    "        string& back();\n",
    "        string& front() const;\n",
    "        string& back() const;\n",
    "        StrBlobPtr begin();\n",
    "        StrBlobPtr end();\n",
    "    private:\n",
    "        vpointer data;\n",
    "        void check(size_type i, const string &msg) const;\n",
    "};"
   ]
  },
  {
   "cell_type": "code",
   "execution_count": 6,
   "id": "8f715ffe-7392-4412-8e9c-d2970956899d",
   "metadata": {},
   "outputs": [],
   "source": [
    "class StrBlobPtr {\n",
    "    public:\n",
    "        StrBlobPtr(): curr(0) { }\n",
    "        StrBlobPtr(StrBlob &a, size_t sz = 0): wptr(a.data), curr(sz) { }\n",
    "        string& deref() const;\n",
    "        StrBlobPtr& incr();\n",
    "        bool equal(const StrBlobPtr&) const;\n",
    "    private:\n",
    "        vpointer check(size_t, const string&) const;\n",
    "        weak_ptr<vector<string>> wptr;\n",
    "        std::size_t curr;\n",
    "};"
   ]
  },
  {
   "cell_type": "code",
   "execution_count": 7,
   "id": "2dc56420-0af2-477b-ae60-d7daca09b6f1",
   "metadata": {},
   "outputs": [],
   "source": [
    "StrBlobPtr StrBlob::begin() { return StrBlobPtr(*this); }"
   ]
  },
  {
   "cell_type": "code",
   "execution_count": 8,
   "id": "8457d81e-4a1f-4728-9001-c16f610d0ce4",
   "metadata": {},
   "outputs": [],
   "source": [
    "StrBlobPtr StrBlob::end() { return StrBlobPtr(*this, data->size()); }"
   ]
  },
  {
   "cell_type": "code",
   "execution_count": 9,
   "id": "3c16aeea-b71a-4a7a-a11d-e3b74e1aa52a",
   "metadata": {},
   "outputs": [],
   "source": [
    "vpointer StrBlobPtr::check(std::size_t i, const string &msg) const\n",
    "{\n",
    "    auto ret = wptr.lock();\n",
    "    if (!ret)\n",
    "        throw std::runtime_error(\"unbound StrBlobPtr\");\n",
    "    if (i >= ret->size())\n",
    "        throw std::out_of_range(msg);\n",
    "    return ret;\n",
    "}"
   ]
  },
  {
   "cell_type": "code",
   "execution_count": 10,
   "id": "43324840-98bf-474b-9219-ceb00227f770",
   "metadata": {},
   "outputs": [],
   "source": [
    "std::string& StrBlobPtr::deref() const\n",
    "{\n",
    "    auto p = check(curr, \"dereference past end\");\n",
    "    return (*p)[curr];\n",
    "}"
   ]
  },
  {
   "cell_type": "code",
   "execution_count": 11,
   "id": "895ed138-8b3b-4cbb-95ca-3d4629ea534a",
   "metadata": {},
   "outputs": [],
   "source": [
    "StrBlobPtr& StrBlobPtr::incr()\n",
    "{\n",
    "    check(curr, \"increment past end of StrBlobPtr\");\n",
    "    ++curr;\n",
    "    return *this;\n",
    "}"
   ]
  },
  {
   "cell_type": "code",
   "execution_count": 12,
   "id": "7aea5a64-10ee-424f-8d44-297a889ba760",
   "metadata": {},
   "outputs": [],
   "source": [
    "void StrBlob::check(size_type i, const string &msg) const\n",
    "{\n",
    "    if (i >= data->size())\n",
    "        throw std::out_of_range(msg);\n",
    "}"
   ]
  },
  {
   "cell_type": "code",
   "execution_count": 13,
   "id": "c65549c1-02c4-45bf-87e6-230a07015773",
   "metadata": {},
   "outputs": [],
   "source": [
    "string& StrBlob::front()\n",
    "{\n",
    "    check(0, \"front on empty StrBlob\");\n",
    "    return data->front();\n",
    "}"
   ]
  },
  {
   "cell_type": "code",
   "execution_count": 14,
   "id": "655ae9a8-74b0-4eb0-8fa5-7d91f61499ef",
   "metadata": {},
   "outputs": [],
   "source": [
    "string& StrBlob::back()\n",
    "{\n",
    "    check(0, \"back on empty StrBlob\");\n",
    "    return data->back();\n",
    "}"
   ]
  },
  {
   "cell_type": "code",
   "execution_count": 15,
   "id": "9d328ab0-683e-4cfd-a645-bd4417c48779",
   "metadata": {},
   "outputs": [],
   "source": [
    "string& StrBlob::front() const\n",
    "{\n",
    "    check(0, \"front on empty StrBlob\");\n",
    "    return data->front();\n",
    "}"
   ]
  },
  {
   "cell_type": "code",
   "execution_count": 16,
   "id": "0c64ca07-d8d0-4a5d-b85f-fc25eca75444",
   "metadata": {},
   "outputs": [],
   "source": [
    "string& StrBlob::back() const\n",
    "{\n",
    "    check(0, \"back on empty StrBlob\");\n",
    "    return data->back();\n",
    "}"
   ]
  },
  {
   "cell_type": "code",
   "execution_count": 17,
   "id": "a38611dd-c6d0-44a0-834d-beeeceb5e89e",
   "metadata": {},
   "outputs": [],
   "source": [
    "void StrBlob::pop_back()\n",
    "{\n",
    "    check(0, \"pop_back on empty StrBlob\");\n",
    "    data->pop_back();\n",
    "}"
   ]
  },
  {
   "cell_type": "markdown",
   "id": "753dce7c-ec28-4e8d-8fff-8cb9b3df60cb",
   "metadata": {},
   "source": [
    "### Exercise 12.20:\n",
    " Write a program that reads an input file a line at a time into a `StrBlob`\n",
    "and uses a `StrBlobPtr` to print each element in that `StrBlob`."
   ]
  },
  {
   "cell_type": "code",
   "execution_count": 17,
   "id": "2b31e950-d45e-4d81-a7cc-ccf280201adc",
   "metadata": {},
   "outputs": [],
   "source": [
    "! echo \"this file\\nhas multiple\\nlines\" > tmp.txt"
   ]
  },
  {
   "cell_type": "code",
   "execution_count": 18,
   "id": "5e5ab093-3156-48f0-8b09-c2a33895f7fc",
   "metadata": {},
   "outputs": [],
   "source": [
    "// continuing with the code from previous exercise"
   ]
  },
  {
   "cell_type": "code",
   "execution_count": 19,
   "id": "1bcb571e-71e5-4c96-81c5-23e8ce7f4aa7",
   "metadata": {},
   "outputs": [],
   "source": [
    "#include <fstream>\n",
    "#include <iostream>"
   ]
  },
  {
   "cell_type": "code",
   "execution_count": 20,
   "id": "7019f6e5-31bc-416e-bbb8-800c49b2f97f",
   "metadata": {},
   "outputs": [],
   "source": [
    "bool StrBlobPtr::equal(const StrBlobPtr &b) const\n",
    "{\n",
    "    return curr == b.curr;\n",
    "}"
   ]
  },
  {
   "cell_type": "code",
   "execution_count": 21,
   "id": "c89054fb-0fd7-4996-938a-683b734b5bb2",
   "metadata": {},
   "outputs": [],
   "source": [
    "StrBlob blob;\n",
    "std::ifstream inputFile(\"tmp.txt\");\n",
    "string s;\n",
    "while (getline(inputFile, s))\n",
    "    blob.push_back(s);"
   ]
  },
  {
   "cell_type": "code",
   "execution_count": 22,
   "id": "24d71100-bba1-414e-8229-53332cad6848",
   "metadata": {},
   "outputs": [
    {
     "name": "stdout",
     "output_type": "stream",
     "text": [
      "this file\n",
      "has multiple\n",
      "lines\n"
     ]
    }
   ],
   "source": [
    "for (auto p = blob.begin(); !p.equal(blob.end()); p.incr())\n",
    "    std::cout << p.deref() << std::endl;"
   ]
  },
  {
   "cell_type": "code",
   "execution_count": 23,
   "id": "5fd9be6e-357a-4603-ba42-b9aad4b7a228",
   "metadata": {},
   "outputs": [],
   "source": [
    "! rm tmp.txt"
   ]
  },
  {
   "cell_type": "markdown",
   "id": "494202e6-1717-4c7e-b763-bcdf51352948",
   "metadata": {},
   "source": [
    "### Exercise 12.21:\n",
    " We could have written `StrBlobPtr`’s deref member as follows:\n",
    "```\n",
    "std::string& deref() const { return (*check(curr, \"dereference past end\"))[curr]; }\n",
    "```\n",
    "Which version do you think is better and why?"
   ]
  },
  {
   "cell_type": "markdown",
   "id": "03f756cf-43d1-4096-bc7c-343c882c39ee",
   "metadata": {},
   "source": [
    "A:\n",
    "\n",
    "the original version is more easily readable, as it's clearer what we're subscripting"
   ]
  },
  {
   "cell_type": "markdown",
   "id": "231c9218-7679-469d-b4f2-8f492867f387",
   "metadata": {},
   "source": [
    "### Exercise 12.22:\n",
    " What changes would need to be made to `StrBlobPtr` to create a class\n",
    "that can be used with a `const` `StrBlob`? Define a class named `ConstStrBlobPtr`\n",
    "that can point to a `const` `StrBlob`."
   ]
  },
  {
   "cell_type": "code",
   "execution_count": 18,
   "id": "02ddfb63-8916-43b6-845d-58b64e63f463",
   "metadata": {},
   "outputs": [],
   "source": [
    "class ConstStrBlobPtr {\n",
    "    public:\n",
    "        ConstStrBlobPtr(): curr(0) { }\n",
    "        ConstStrBlobPtr(const StrBlob &a, size_t sz = 0): wptr(a.data), curr(sz) { }\n",
    "        const string& deref() const;\n",
    "        ConstStrBlobPtr& incr();\n",
    "        bool equal(const ConstStrBlobPtr&) const;\n",
    "    private:\n",
    "        vpointer check(size_t, const string&) const;\n",
    "        weak_ptr<vector<string>> wptr;\n",
    "        std::size_t curr;\n",
    "};"
   ]
  },
  {
   "cell_type": "code",
   "execution_count": 19,
   "id": "87b16eff-d16d-473e-9825-a8ce91cb52b9",
   "metadata": {},
   "outputs": [],
   "source": [
    "vpointer ConstStrBlobPtr::check(std::size_t i, const string &msg) const\n",
    "{\n",
    "    auto ret = wptr.lock();\n",
    "    if (!ret)\n",
    "        throw std::runtime_error(\"unbound StrBlobPtr\");\n",
    "    if (i >= ret->size())\n",
    "        throw std::out_of_range(msg);\n",
    "    return ret;\n",
    "}"
   ]
  },
  {
   "cell_type": "code",
   "execution_count": 20,
   "id": "746f0b8d-a959-492e-96ee-7fa61fd9658b",
   "metadata": {},
   "outputs": [],
   "source": [
    "const std::string& ConstStrBlobPtr::deref() const\n",
    "{\n",
    "    auto p = check(curr, \"dereference past end\");\n",
    "    return (*p)[curr];\n",
    "}"
   ]
  },
  {
   "cell_type": "code",
   "execution_count": 21,
   "id": "53f1b158-f2db-4c20-b81d-1a0b7114f7cf",
   "metadata": {},
   "outputs": [],
   "source": [
    "ConstStrBlobPtr& ConstStrBlobPtr::incr()\n",
    "{\n",
    "    check(curr, \"increment past end of StrBlobPtr\");\n",
    "    ++curr;\n",
    "    return *this;\n",
    "}"
   ]
  },
  {
   "cell_type": "markdown",
   "id": "f93b53a2-3226-4aba-a7ec-b1341a820ae4",
   "metadata": {},
   "source": [
    "## EXERCISES SECTION 12.2.1"
   ]
  },
  {
   "cell_type": "markdown",
   "id": "91db1f19-3964-4451-9e6b-3f2d6aeee48e",
   "metadata": {},
   "source": [
    "### Exercise 12.23:\n",
    " Write a program to concatenate two `string` literals, putting the result\n",
    "in a dynamically allocated `array` of `char`. Write a program to concatenate two library\n",
    "`string`s that have the same value as the literals used in the first program."
   ]
  },
  {
   "cell_type": "code",
   "execution_count": 1,
   "id": "9c461abf-3679-4c24-8ba5-cde2585b16e6",
   "metadata": {},
   "outputs": [],
   "source": [
    "char text1[] = \"literal1\";\n",
    "char text2[] = \"literal2\";\n",
    "auto len = strlen(text1) + strlen(text2) + 1;\n",
    "char *p = new char[len];\n",
    "for (decltype(strlen(text1)) i = 0; i < strlen(text1); ++i)\n",
    "    p[i] = text1[i];\n",
    "for (decltype(strlen(text2)) i = 0; i < strlen(text2); ++i)\n",
    "    p[strlen(text1) + i] = text2[i];\n",
    "p[len - 1] = '\\0';"
   ]
  },
  {
   "cell_type": "code",
   "execution_count": 2,
   "id": "e3a64595-62c4-42e7-9f0c-d21684f2df18",
   "metadata": {},
   "outputs": [
    {
     "data": {
      "text/plain": [
       "\"literal1literal2\""
      ]
     },
     "execution_count": 2,
     "metadata": {},
     "output_type": "execute_result"
    }
   ],
   "source": [
    "p"
   ]
  },
  {
   "cell_type": "code",
   "execution_count": 3,
   "id": "e1aeb2ba-c198-4ffb-b484-13c9221ea35b",
   "metadata": {},
   "outputs": [],
   "source": [
    "delete [] p;"
   ]
  },
  {
   "cell_type": "code",
   "execution_count": 4,
   "id": "6de4526c-8252-4410-bac2-68eefd203502",
   "metadata": {},
   "outputs": [
    {
     "data": {
      "text/plain": [
       "\"literal1literal2\""
      ]
     },
     "execution_count": 4,
     "metadata": {},
     "output_type": "execute_result"
    }
   ],
   "source": [
    "std::string text1 = \"literal1\";\n",
    "std::string text2 = \"literal2\";\n",
    "text1 + text2"
   ]
  },
  {
   "cell_type": "markdown",
   "id": "43ae4857-256b-4b84-a4e5-7b0f232f2b44",
   "metadata": {},
   "source": [
    "### Exercise 12.24:\n",
    " Write a program that reads a `string` from the standard input into a\n",
    "dynamically allocated character `array`. Describe how your program handles varying\n",
    "size inputs. Test your program by giving it a `string` of data that is longer than the `array`\n",
    "size you've allocated."
   ]
  },
  {
   "cell_type": "markdown",
   "id": "e9d69912-80f4-4161-ad9e-0c3c6e6bbd84",
   "metadata": {},
   "source": [
    "A:\n",
    "\n",
    "Program takes the expected input size and then the rest of the input. If input beyond the passed size will not be taken into account"
   ]
  },
  {
   "cell_type": "code",
   "execution_count": 1,
   "id": "1228a605-fb4e-4db8-b062-4e814ed2f077",
   "metadata": {},
   "outputs": [
    {
     "name": "stdin",
     "output_type": "stream",
     "text": [
      " 8 verylongtext\n"
     ]
    },
    {
     "name": "stdout",
     "output_type": "stream",
     "text": [
      "verylong"
     ]
    }
   ],
   "source": [
    "#include <iostream>\n",
    "using std::cin;\n",
    "\n",
    "int len;\n",
    "cin >> len;\n",
    "char* input = new char[len];\n",
    "for (int i = 0; i < len; ++i)\n",
    "    cin >> input[i];\n",
    "std::cout << input;\n",
    "delete[] input;"
   ]
  },
  {
   "cell_type": "markdown",
   "id": "bc7e133c-af17-4a0d-9665-c091dc30c61d",
   "metadata": {},
   "source": [
    "### Exercise 12.25:\n",
    " Given the following new expression, how would you delete `pa`?\n",
    " ```\n",
    "int *pa = new int[10];\n",
    "```"
   ]
  },
  {
   "cell_type": "markdown",
   "id": "2f68d467-5605-4633-aa10-c4ea360ec91b",
   "metadata": {},
   "source": [
    "A:\n",
    "\n",
    "```\n",
    "delete [] pa;\n",
    "```"
   ]
  },
  {
   "cell_type": "markdown",
   "id": "7e4eef7c-9bf9-4766-bd13-56bf520a8d46",
   "metadata": {},
   "source": [
    "## EXERCISES SECTION 12.2.2"
   ]
  },
  {
   "cell_type": "markdown",
   "id": "5e3cdab5-b129-4ea3-b547-e68ddea96aa6",
   "metadata": {},
   "source": [
    "### Exercise 12.26:\n",
    " Rewrite the program on page 481\n",
    "```\n",
    "string *const p = new string[n]; // construct n empty strings\n",
    "string s;\n",
    "string *q = p; // q points to the first string\n",
    "while (cin >> s && q != p + n)\n",
    "    *q++ = s; // assign a new value to *q\n",
    "const size_t size = q - p; // remember how many strings we read\n",
    "// use the array\n",
    "delete[] p; // p points to an array; must remember to use delete[]\n",
    "```\n",
    " \n",
    " using an `allocator`."
   ]
  },
  {
   "cell_type": "code",
   "execution_count": 1,
   "id": "5dee42d8-84e1-498e-a89f-52638f202a17",
   "metadata": {},
   "outputs": [],
   "source": [
    "#include <iostream>\n",
    "using std::cin, std::string, std::allocator, std::cout, std::endl;"
   ]
  },
  {
   "cell_type": "code",
   "execution_count": 2,
   "id": "86e0dbb2-1cd8-429e-ac1d-d0b3aa642a7b",
   "metadata": {},
   "outputs": [
    {
     "name": "stdin",
     "output_type": "stream",
     "text": [
      " two strings ;\n"
     ]
    },
    {
     "name": "stdout",
     "output_type": "stream",
     "text": [
      "two strings \n",
      "\n"
     ]
    }
   ],
   "source": [
    "int n = 2;\n",
    "allocator<string> alloc;\n",
    "auto const begin = alloc.allocate(n);\n",
    "auto p = begin;\n",
    "string s;\n",
    "while (cin >> s && s != \";\")\n",
    "    alloc.construct(p++, s);\n",
    "\n",
    "for (auto p2 = begin; p2 != p; ++p2)\n",
    "    cout << *p2 << \" \";\n",
    "cout << endl;\n",
    "\n",
    "for (auto p2 = begin; p2 != p; ++p2)\n",
    "{\n",
    "    alloc.destroy(p2);\n",
    "}\n",
    "cout << endl;\n",
    "\n",
    "alloc.deallocate(begin, n);"
   ]
  },
  {
   "cell_type": "markdown",
   "id": "3e1b4509-0764-46c9-b9b0-0785092ce611",
   "metadata": {},
   "source": [
    "## EXERCISES SECTION 12.3.1"
   ]
  },
  {
   "cell_type": "markdown",
   "id": "e7fd17b4-4777-4c1a-959b-f45845c9ab66",
   "metadata": {
    "tags": []
   },
   "source": [
    "### Exercise 12.27:\n",
    "```\n",
    "void runQueries(ifstream &infile)\n",
    "{\n",
    "    // infile is an ifstream that is the file we want to query\n",
    "    TextQuery tq(infile);\n",
    "    // store the file and build the query map\n",
    "    // iterate with the user: prompt for a word to find and print results\n",
    "    while (true) {\n",
    "        cout << \"enter word to look for, or q to quit: \";\n",
    "        string s;\n",
    "        // stop if we hit end-of-file on the input or if a ’q’ is entered\n",
    "        if (!(cin >> s) || s == \"q\") break;\n",
    "        // run the query and print the results\n",
    "        print(cout, tq.query(s)) << endl;\n",
    "    }\n",
    "}\n",
    "```\n",
    " The `TextQuery` and `QueryResult` classes use only capabilities that\n",
    "we have already covered. Without looking ahead, write your own versions of these\n",
    "classes."
   ]
  },
  {
   "cell_type": "code",
   "execution_count": 1,
   "id": "e380e89f-1b63-4933-8c02-044feb6c4792",
   "metadata": {},
   "outputs": [],
   "source": [
    "#include <fstream>\n",
    "#include <set>\n",
    "#include <sstream>\n",
    "#include <iostream>\n",
    "using std::map, std::ifstream, std::string, std::set, std::vector, std::shared_ptr, std::ostream, std::cout, std::endl, std::cin;"
   ]
  },
  {
   "cell_type": "code",
   "execution_count": 2,
   "id": "11141f96-e525-457c-8f94-d6398cda8b75",
   "metadata": {},
   "outputs": [],
   "source": [
    "class QueryResult;"
   ]
  },
  {
   "cell_type": "code",
   "execution_count": 3,
   "id": "cea66f24-83b9-4280-b32d-c6687adae29d",
   "metadata": {},
   "outputs": [],
   "source": [
    "class TextQuery\n",
    "{\n",
    "    public:\n",
    "        TextQuery(ifstream&);\n",
    "        QueryResult query(const string&) const;\n",
    "    private:\n",
    "        map<string, shared_ptr<set<unsigned>>> querymap;\n",
    "        shared_ptr<vector<string>> lines;\n",
    "};"
   ]
  },
  {
   "cell_type": "code",
   "execution_count": 4,
   "id": "ef0364fa-fc7d-4771-ab41-94cab5b8c3e9",
   "metadata": {},
   "outputs": [],
   "source": [
    "class QueryResult\n",
    "{\n",
    "    public:\n",
    "        friend ostream& print(ostream&, const QueryResult&);\n",
    "        QueryResult(shared_ptr<vector<string>> pv, shared_ptr<set<unsigned>> ps, const string& s) : all_lines(pv), relevant_lines(ps), word(s) { }\n",
    "    private:\n",
    "        string word;\n",
    "        shared_ptr<set<unsigned>> relevant_lines;\n",
    "        shared_ptr<vector<string>> all_lines;\n",
    "};"
   ]
  },
  {
   "cell_type": "code",
   "execution_count": 5,
   "id": "f945a145-9751-4628-ad29-3f4394bc7cf4",
   "metadata": {},
   "outputs": [],
   "source": [
    "TextQuery::TextQuery(ifstream &inputFile) : lines(new vector<string>)\n",
    "{\n",
    "    string line;\n",
    "    unsigned line_n = 0;\n",
    "    while (getline(inputFile, line))\n",
    "    {\n",
    "        lines->push_back(line);\n",
    "        ++line_n;\n",
    "        std::istringstream iss(line);\n",
    "        string s;\n",
    "        while (iss >> s)\n",
    "        {\n",
    "            auto &lines_set = querymap[s];\n",
    "            if (!lines_set)\n",
    "                lines_set.reset(new set<unsigned>);\n",
    "            lines_set->insert(line_n);\n",
    "        }\n",
    "    }\n",
    "};"
   ]
  },
  {
   "cell_type": "code",
   "execution_count": 6,
   "id": "1b4b8b97-57fe-4bbd-9969-bc38db54ce5b",
   "metadata": {},
   "outputs": [],
   "source": [
    "QueryResult TextQuery::query(const string& word) const\n",
    "{\n",
    "    auto it = querymap.find(word);\n",
    "    if (it == querymap.end())\n",
    "        return QueryResult(lines, std::make_shared<set<unsigned>>(), word);\n",
    "    return QueryResult(lines, it->second, word);\n",
    "}"
   ]
  },
  {
   "cell_type": "code",
   "execution_count": 7,
   "id": "3030cc62-60a2-42bb-b4e2-8752f92d3e29",
   "metadata": {},
   "outputs": [],
   "source": [
    "ostream& print(ostream& os, const QueryResult& qr) \n",
    "{\n",
    "    os << \"element occurs in \" << qr.relevant_lines->size() << \" line\" << ((qr.relevant_lines->size() != 1) ? \"s\" : \"\") << endl;\n",
    "    for (auto i : *qr.relevant_lines)\n",
    "        os << \"  (line \" << i << \") \" << *(qr.all_lines->begin() + i - 1) << endl;\n",
    "    return os;\n",
    "}"
   ]
  },
  {
   "cell_type": "code",
   "execution_count": 8,
   "id": "72045ebe-ee86-4681-8308-f2f3f939e320",
   "metadata": {},
   "outputs": [],
   "source": [
    "! echo \"let's throw\\nsome lines\\nat our\\ncode\\nto test\\nthese lines\" > tmp.txt"
   ]
  },
  {
   "cell_type": "code",
   "execution_count": 9,
   "id": "41f3543a-21a6-448c-863d-bee55a092b31",
   "metadata": {},
   "outputs": [],
   "source": [
    "void runQueries(ifstream &infile)\n",
    "{\n",
    "    TextQuery tq(infile);\n",
    "    while (true) {\n",
    "        cout << \"enter word to look for, or q to quit: \";\n",
    "        string s;\n",
    "        if (!(cin >> s) || s == \"q\") break;\n",
    "        print(cout, tq.query(s)) << endl;\n",
    "    }\n",
    "}"
   ]
  },
  {
   "cell_type": "code",
   "execution_count": 10,
   "id": "25a39e0a-5214-430d-9e3d-a2a55b73fcfd",
   "metadata": {},
   "outputs": [
    {
     "name": "stdout",
     "output_type": "stream",
     "text": [
      "enter word to look for, or q to quit: "
     ]
    },
    {
     "name": "stdin",
     "output_type": "stream",
     "text": [
      " test\n"
     ]
    },
    {
     "name": "stdout",
     "output_type": "stream",
     "text": [
      "element occurs in 1 line\n",
      "  (line 5) to test\n",
      "\n",
      "enter word to look for, or q to quit: "
     ]
    },
    {
     "name": "stdin",
     "output_type": "stream",
     "text": [
      " lines\n"
     ]
    },
    {
     "name": "stdout",
     "output_type": "stream",
     "text": [
      "element occurs in 2 lines\n",
      "  (line 2) some lines\n",
      "  (line 6) these lines\n",
      "\n",
      "enter word to look for, or q to quit: "
     ]
    },
    {
     "name": "stdin",
     "output_type": "stream",
     "text": [
      " some\n"
     ]
    },
    {
     "name": "stdout",
     "output_type": "stream",
     "text": [
      "element occurs in 1 line\n",
      "  (line 2) some lines\n",
      "\n",
      "enter word to look for, or q to quit: "
     ]
    },
    {
     "name": "stdin",
     "output_type": "stream",
     "text": [
      " q\n"
     ]
    }
   ],
   "source": [
    "ifstream is(\"tmp.txt\");\n",
    "runQueries(is);"
   ]
  },
  {
   "cell_type": "code",
   "execution_count": 11,
   "id": "2a5c0b42-2681-4bf7-9da3-ee69b0d99b62",
   "metadata": {},
   "outputs": [],
   "source": [
    "!rm tmp.txt"
   ]
  },
  {
   "cell_type": "markdown",
   "id": "1b710855-5b77-42eb-bc4d-fd784d683a4d",
   "metadata": {},
   "source": [
    "### Exercise 12.28:\n",
    " Write a program to implement text queries without defining classes to\n",
    "manage the data. Your program should take a file and interact with a user to query for\n",
    "words in that file. Use `vector`, `map`, and `set` containers to hold the data for the file\n",
    "and to generate the results for the queries."
   ]
  },
  {
   "cell_type": "code",
   "execution_count": 1,
   "id": "703c0809-3289-4a3b-91a6-895786bd895b",
   "metadata": {},
   "outputs": [],
   "source": [
    "! echo \"let's throw\\nsome lines\\nat our\\ncode\\nto test\\nthese lines\" > tmp.txt"
   ]
  },
  {
   "cell_type": "code",
   "execution_count": 2,
   "id": "19d0a96c-50af-48ff-a6f1-eb27a6744132",
   "metadata": {},
   "outputs": [],
   "source": [
    "#include <fstream>\n",
    "#include <set>\n",
    "#include <sstream>\n",
    "#include <iostream>\n",
    "using std::map, std::ifstream, std::string, std::set, std::vector, std::shared_ptr, std::ostream, std::cout, std::endl, std::cin;"
   ]
  },
  {
   "cell_type": "code",
   "execution_count": 3,
   "id": "c2567895-3a29-4d59-adb9-ba793578e0a2",
   "metadata": {},
   "outputs": [
    {
     "name": "stdout",
     "output_type": "stream",
     "text": [
      "enter word to look for, or q to quit: "
     ]
    },
    {
     "name": "stdin",
     "output_type": "stream",
     "text": [
      " lines\n"
     ]
    },
    {
     "name": "stdout",
     "output_type": "stream",
     "text": [
      "element occurs in 2 lines\n",
      "  (line 2) some lines\n",
      "  (line 6) these lines\n",
      "\n",
      "enter word to look for, or q to quit: "
     ]
    },
    {
     "name": "stdin",
     "output_type": "stream",
     "text": [
      " test\n"
     ]
    },
    {
     "name": "stdout",
     "output_type": "stream",
     "text": [
      "element occurs in 1 line\n",
      "  (line 5) to test\n",
      "\n",
      "enter word to look for, or q to quit: "
     ]
    },
    {
     "name": "stdin",
     "output_type": "stream",
     "text": [
      " throw\n"
     ]
    },
    {
     "name": "stdout",
     "output_type": "stream",
     "text": [
      "element occurs in 1 line\n",
      "  (line 1) let's throw\n",
      "\n",
      "enter word to look for, or q to quit: "
     ]
    },
    {
     "name": "stdin",
     "output_type": "stream",
     "text": [
      " q\n"
     ]
    }
   ],
   "source": [
    "ifstream inputFile(\"tmp.txt\");\n",
    "map<string, set<unsigned>> wordMap;\n",
    "vector<string> lines;\n",
    "string line;\n",
    "unsigned line_n = 0;\n",
    "while (getline(inputFile, line))\n",
    "{\n",
    "    lines.push_back(line);\n",
    "    ++line_n;\n",
    "    std::istringstream iss(line);\n",
    "    string s;\n",
    "    while (iss >> s)\n",
    "    {\n",
    "        auto &lines_set = wordMap[s];\n",
    "        lines_set.insert(line_n);\n",
    "    }\n",
    "}\n",
    "\n",
    "while (true) {\n",
    "    cout << \"enter word to look for, or q to quit: \";\n",
    "    string s;\n",
    "    if (!(cin >> s) || s == \"q\") break;\n",
    "    cout << \"element occurs in \" << wordMap[s].size() << \" line\" << ((wordMap[s].size() != 1) ? \"s\" : \"\") << endl;\n",
    "    for (auto i : wordMap[s])\n",
    "        cout << \"  (line \" << i << \") \" << lines[i - 1] << endl;\n",
    "    cout << endl;\n",
    "}"
   ]
  },
  {
   "cell_type": "code",
   "execution_count": 4,
   "id": "3f4255b3-4d09-4244-b5fa-c0219d210f94",
   "metadata": {},
   "outputs": [],
   "source": [
    "!rm tmp.txt"
   ]
  },
  {
   "cell_type": "markdown",
   "id": "af24479f-6ab0-4218-82bc-bb63b85517af",
   "metadata": {},
   "source": [
    "### Exercise 12.29:\n",
    " We could have written the loop to manage the interaction with the\n",
    "user as a `do while` (§ 5.4.4, p. 189) loop. Rewrite the loop to use a `do while`. Explain\n",
    "which version you prefer and why."
   ]
  },
  {
   "cell_type": "code",
   "execution_count": 13,
   "id": "db801c0a-962c-4003-a919-774372aab198",
   "metadata": {},
   "outputs": [],
   "source": [
    "void runQueries(ifstream &infile)\n",
    "{\n",
    "    TextQuery tq(infile);\n",
    "    do {\n",
    "        cout << \"enter word to look for, or q to quit: \";\n",
    "        string s;\n",
    "        if (!(cin >> s) || s == \"q\") break;\n",
    "        print(cout, tq.query(s)) << endl;\n",
    "    } while (true);\n",
    "}"
   ]
  },
  {
   "cell_type": "markdown",
   "id": "488bb109-38b7-4dae-8a60-b3ace776ee18",
   "metadata": {},
   "source": [
    "A:\n",
    "\n",
    "I don't prefer neither version, will use original as it's shorter to write."
   ]
  },
  {
   "cell_type": "markdown",
   "id": "b221eadb-4350-41d8-83d3-4254e51a9455",
   "metadata": {},
   "source": [
    "## EXERCISES SECTION 12.3.2"
   ]
  },
  {
   "cell_type": "markdown",
   "id": "c9ccd750-47d0-4acd-83df-541b0038f65c",
   "metadata": {},
   "source": [
    "### Exercise 12.30:\n",
    " Define your own versions of the `TextQuery` and `QueryResult`\n",
    "classes and execute the `runQueries` function from § 12.3.1 (p. 486)."
   ]
  },
  {
   "cell_type": "markdown",
   "id": "10065ee8-6dd2-4848-8fab-4727096d6a83",
   "metadata": {},
   "source": [
    "A:\n",
    "\n",
    "Done in 12.27"
   ]
  },
  {
   "cell_type": "markdown",
   "id": "c20eb5f2-9761-4505-bd0c-d45b928b47f9",
   "metadata": {},
   "source": [
    "### Exercise 12.31:\n",
    " What difference(s) would it make if we used a `vector` instead of a\n",
    "`set` to hold the line numbers? Which approach is better? Why?"
   ]
  },
  {
   "cell_type": "markdown",
   "id": "75a1789a-7abb-4328-bb40-b85c09db8427",
   "metadata": {},
   "source": [
    "A:\n",
    "\n",
    "We would need to check before adding elements if given element is already in vector. We would also need to sort them before printing in the end. `set` is a better approach as it does these things by default."
   ]
  },
  {
   "cell_type": "markdown",
   "id": "9aec4e7e-e534-4c61-b2d9-84393cd83937",
   "metadata": {},
   "source": [
    "### Exercise 12.32:\n",
    " Rewrite the `TextQuery` and `QueryResult` classes to use a `StrBlob`\n",
    "instead of a `vector<string>` to hold the input file."
   ]
  },
  {
   "cell_type": "code",
   "execution_count": 1,
   "id": "e8bdba28-a6b3-4ad5-b53c-4325cd7cc7c9",
   "metadata": {},
   "outputs": [],
   "source": [
    "#include <fstream>\n",
    "#include <set>\n",
    "#include <sstream>\n",
    "#include <iostream>\n",
    "using std::initializer_list, std::make_shared, std::map, std::ifstream, std::string, std::set, std::vector, std::shared_ptr, std::ostream, std::cout, std::endl, std::cin;"
   ]
  },
  {
   "cell_type": "code",
   "execution_count": 2,
   "id": "1a6ac4f6-855f-45f2-b008-cbda4d981546",
   "metadata": {},
   "outputs": [],
   "source": [
    "using std::initializer_list, std::string, std::vector, std::shared_ptr, std::make_shared, std::weak_ptr;"
   ]
  },
  {
   "cell_type": "code",
   "execution_count": 3,
   "id": "053935f3-07e2-49a5-86b2-336d0129bba2",
   "metadata": {},
   "outputs": [],
   "source": [
    "using vpointer = shared_ptr<vector<string>>;"
   ]
  },
  {
   "cell_type": "code",
   "execution_count": 4,
   "id": "b5a4aef0-2ba0-447e-8b65-a39259027c1d",
   "metadata": {},
   "outputs": [],
   "source": [
    "class StrBlobPtr;"
   ]
  },
  {
   "cell_type": "code",
   "execution_count": 5,
   "id": "0ce15ed3-0ee6-4a24-80f7-00334d411756",
   "metadata": {},
   "outputs": [],
   "source": [
    "class ConstStrBlobPtr;"
   ]
  },
  {
   "cell_type": "code",
   "execution_count": 6,
   "id": "7d8cf5f1-ddff-489a-a070-cd013d0d6b15",
   "metadata": {},
   "outputs": [],
   "source": [
    "class StrBlob {\n",
    "    public:\n",
    "        friend StrBlobPtr;\n",
    "        friend ConstStrBlobPtr;\n",
    "        typedef vector<string>::size_type size_type;\n",
    "        StrBlob(): data(make_shared<vector<string>>()) { }\n",
    "        StrBlob(initializer_list<string> il): data(make_shared<vector<string>>(il)) { }\n",
    "        size_type size() const { return data->size(); }\n",
    "        bool empty() const { return data->empty(); }\n",
    "        void push_back(const string &t) {data->push_back(t);}\n",
    "        void pop_back();\n",
    "        string& front();\n",
    "        string& back();\n",
    "        string& front() const;\n",
    "        string& back() const;\n",
    "        StrBlobPtr begin();\n",
    "        StrBlobPtr end();\n",
    "        ConstStrBlobPtr begin() const;\n",
    "        ConstStrBlobPtr end() const;\n",
    "    private:\n",
    "        vpointer data;\n",
    "        void check(size_type i, const string &msg) const;\n",
    "};"
   ]
  },
  {
   "cell_type": "code",
   "execution_count": 7,
   "id": "f884c612-34b9-4442-8bf8-5ac42618af7c",
   "metadata": {},
   "outputs": [],
   "source": [
    "class ConstStrBlobPtr {\n",
    "    public:\n",
    "        ConstStrBlobPtr(): curr(0) { }\n",
    "        ConstStrBlobPtr(const StrBlob &a, size_t sz = 0): wptr(a.data), curr(sz) { }\n",
    "        const string& deref() const;\n",
    "        ConstStrBlobPtr& incr();\n",
    "        bool equal(const ConstStrBlobPtr&) const;\n",
    "    private:\n",
    "        vpointer check(size_t, const string&) const;\n",
    "        weak_ptr<vector<string>> wptr;\n",
    "        std::size_t curr;\n",
    "};"
   ]
  },
  {
   "cell_type": "code",
   "execution_count": 8,
   "id": "ad5c94ef-09a3-4177-84ca-afdfeadd436a",
   "metadata": {},
   "outputs": [],
   "source": [
    "vpointer ConstStrBlobPtr::check(std::size_t i, const string &msg) const\n",
    "{\n",
    "    auto ret = wptr.lock();\n",
    "    if (!ret)\n",
    "        throw std::runtime_error(\"unbound StrBlobPtr\");\n",
    "    if (i >= ret->size())\n",
    "        throw std::out_of_range(msg);\n",
    "    return ret;\n",
    "}"
   ]
  },
  {
   "cell_type": "code",
   "execution_count": 9,
   "id": "1c9ec6dc-77c4-4fcf-ae7f-f766824a1917",
   "metadata": {},
   "outputs": [],
   "source": [
    "const std::string& ConstStrBlobPtr::deref() const\n",
    "{\n",
    "    auto p = check(curr, \"dereference past end\");\n",
    "    return (*p)[curr];\n",
    "}"
   ]
  },
  {
   "cell_type": "code",
   "execution_count": 10,
   "id": "44d2fb51-ed20-4cda-9e65-5e776a068f1b",
   "metadata": {},
   "outputs": [],
   "source": [
    "ConstStrBlobPtr& ConstStrBlobPtr::incr()\n",
    "{\n",
    "    check(curr, \"increment past end of StrBlobPtr\");\n",
    "    ++curr;\n",
    "    return *this;\n",
    "}"
   ]
  },
  {
   "cell_type": "code",
   "execution_count": 11,
   "id": "35f4eb6b-25d9-493b-88e5-c8954894088f",
   "metadata": {},
   "outputs": [],
   "source": [
    "ConstStrBlobPtr StrBlob::begin() const { return ConstStrBlobPtr(*this); }"
   ]
  },
  {
   "cell_type": "code",
   "execution_count": 12,
   "id": "ec510210-2a1f-484f-a11d-508c0da286ef",
   "metadata": {},
   "outputs": [],
   "source": [
    "ConstStrBlobPtr StrBlob::end() const { return ConstStrBlobPtr(*this, data->size()); }"
   ]
  },
  {
   "cell_type": "code",
   "execution_count": 13,
   "id": "29cb02c7-9399-4cf0-a340-5b5d61f8f5b0",
   "metadata": {},
   "outputs": [],
   "source": [
    "void StrBlob::check(size_type i, const string &msg) const\n",
    "{\n",
    "    if (i >= data->size())\n",
    "        throw std::out_of_range(msg);\n",
    "}"
   ]
  },
  {
   "cell_type": "code",
   "execution_count": 14,
   "id": "200655e2-b35d-49b4-9040-6078345ae9ee",
   "metadata": {},
   "outputs": [],
   "source": [
    "string& StrBlob::front()\n",
    "{\n",
    "    check(0, \"front on empty StrBlob\");\n",
    "    return data->front();\n",
    "}"
   ]
  },
  {
   "cell_type": "code",
   "execution_count": 15,
   "id": "bdf5b4cd-f325-44ff-b738-c6d3ecd44577",
   "metadata": {},
   "outputs": [],
   "source": [
    "string& StrBlob::back()\n",
    "{\n",
    "    check(0, \"back on empty StrBlob\");\n",
    "    return data->back();\n",
    "}"
   ]
  },
  {
   "cell_type": "code",
   "execution_count": 16,
   "id": "8a8d5ab8-a62c-4796-9be4-cee431909eed",
   "metadata": {},
   "outputs": [],
   "source": [
    "string& StrBlob::front() const\n",
    "{\n",
    "    check(0, \"front on empty StrBlob\");\n",
    "    return data->front();\n",
    "}"
   ]
  },
  {
   "cell_type": "code",
   "execution_count": 17,
   "id": "210cd0e4-7b90-4b94-be2b-b77563d34aee",
   "metadata": {},
   "outputs": [],
   "source": [
    "string& StrBlob::back() const\n",
    "{\n",
    "    check(0, \"back on empty StrBlob\");\n",
    "    return data->back();\n",
    "}"
   ]
  },
  {
   "cell_type": "code",
   "execution_count": 18,
   "id": "d489cad2-4ffa-4fdd-b197-b1b7699dae5a",
   "metadata": {},
   "outputs": [],
   "source": [
    "void StrBlob::pop_back()\n",
    "{\n",
    "    check(0, \"pop_back on empty StrBlob\");\n",
    "    data->pop_back();\n",
    "}"
   ]
  },
  {
   "cell_type": "code",
   "execution_count": 19,
   "id": "15172a90-5105-4c11-b138-361f58929b3a",
   "metadata": {},
   "outputs": [],
   "source": [
    "class QueryResult;"
   ]
  },
  {
   "cell_type": "code",
   "execution_count": 20,
   "id": "e38274ae-d5d3-418e-9c97-bca0d0d9c63a",
   "metadata": {},
   "outputs": [],
   "source": [
    "class TextQuery\n",
    "{\n",
    "    public:\n",
    "        TextQuery(ifstream&);\n",
    "        QueryResult query(const string&) const;\n",
    "    private:\n",
    "        map<string, shared_ptr<set<unsigned>>> querymap;\n",
    "        StrBlob lines;\n",
    "};"
   ]
  },
  {
   "cell_type": "code",
   "execution_count": 21,
   "id": "fa2c04e4-5ecf-4ca4-a5aa-eb78f9b68e14",
   "metadata": {},
   "outputs": [],
   "source": [
    "class QueryResult\n",
    "{\n",
    "    public:\n",
    "        friend ostream& print(ostream&, const QueryResult&);\n",
    "        QueryResult(StrBlob pv, shared_ptr<set<unsigned>> ps, const string& s) : all_lines(pv), relevant_lines(ps), word(s) { }\n",
    "    private:\n",
    "        string word;\n",
    "        shared_ptr<set<unsigned>> relevant_lines;\n",
    "        StrBlob all_lines;\n",
    "};"
   ]
  },
  {
   "cell_type": "code",
   "execution_count": 22,
   "id": "fc313eea-9f3d-447a-a05f-d3d826a97363",
   "metadata": {},
   "outputs": [],
   "source": [
    "TextQuery::TextQuery(ifstream &inputFile)\n",
    "{\n",
    "    string line;\n",
    "    unsigned line_n = 0;\n",
    "    while (getline(inputFile, line))\n",
    "    {\n",
    "        lines.push_back(line);\n",
    "        ++line_n;\n",
    "        std::istringstream iss(line);\n",
    "        string s;\n",
    "        while (iss >> s)\n",
    "        {\n",
    "            auto &lines_set = querymap[s];\n",
    "            if (!lines_set)\n",
    "                lines_set.reset(new set<unsigned>);\n",
    "            lines_set->insert(line_n);\n",
    "        }\n",
    "    }\n",
    "};"
   ]
  },
  {
   "cell_type": "code",
   "execution_count": 23,
   "id": "3f8830fc-15ab-48ea-9ecc-c32ef1e8bf11",
   "metadata": {},
   "outputs": [],
   "source": [
    "QueryResult TextQuery::query(const string& word) const\n",
    "{\n",
    "    auto it = querymap.find(word);\n",
    "    if (it == querymap.end())\n",
    "        return QueryResult(lines, std::make_shared<set<unsigned>>(), word);\n",
    "    return QueryResult(lines, it->second, word);\n",
    "}"
   ]
  },
  {
   "cell_type": "code",
   "execution_count": 24,
   "id": "3a9c1d4d-8fb1-4107-bae5-062d14e6e4cc",
   "metadata": {},
   "outputs": [],
   "source": [
    "ostream& print(ostream& os, const QueryResult& qr) \n",
    "{\n",
    "    os << \"element occurs in \" << qr.relevant_lines->size() << \" line\" << ((qr.relevant_lines->size() != 1) ? \"s\" : \"\") << endl;\n",
    "    for (auto i : *qr.relevant_lines)\n",
    "    {\n",
    "        auto tp = qr.all_lines.begin();\n",
    "        for (int j = 0; j < i - 1; ++j)\n",
    "            tp.incr();\n",
    "        os << \"  (line \" << i << \") \" << tp.deref() << endl;\n",
    "    }\n",
    "    return os;\n",
    "}"
   ]
  },
  {
   "cell_type": "code",
   "execution_count": 25,
   "id": "35d13854-fb2c-4606-8693-0f27ab039d12",
   "metadata": {},
   "outputs": [],
   "source": [
    "! echo \"let's throw\\nsome lines\\nat our\\ncode\\nto test\\nthese lines\" > tmp.txt"
   ]
  },
  {
   "cell_type": "code",
   "execution_count": 26,
   "id": "63d3be65-ec31-42d8-842f-4cb778140ac7",
   "metadata": {},
   "outputs": [],
   "source": [
    "void runQueries(ifstream &infile)\n",
    "{\n",
    "    TextQuery tq(infile);\n",
    "    while (true) {\n",
    "        cout << \"enter word to look for, or q to quit: \";\n",
    "        string s;\n",
    "        if (!(cin >> s) || s == \"q\") break;\n",
    "        print(cout, tq.query(s)) << endl;\n",
    "    }\n",
    "}"
   ]
  },
  {
   "cell_type": "code",
   "execution_count": 27,
   "id": "2ccccdc0-4445-4c8e-bdcf-7772a720b670",
   "metadata": {},
   "outputs": [
    {
     "name": "stdout",
     "output_type": "stream",
     "text": [
      "enter word to look for, or q to quit: "
     ]
    },
    {
     "name": "stdin",
     "output_type": "stream",
     "text": [
      " throw\n"
     ]
    },
    {
     "name": "stdout",
     "output_type": "stream",
     "text": [
      "element occurs in 1 line\n",
      "  (line 1) let's throw\n",
      "\n",
      "enter word to look for, or q to quit: "
     ]
    },
    {
     "name": "stdin",
     "output_type": "stream",
     "text": [
      " our\n"
     ]
    },
    {
     "name": "stdout",
     "output_type": "stream",
     "text": [
      "element occurs in 1 line\n",
      "  (line 3) at our\n",
      "\n",
      "enter word to look for, or q to quit: "
     ]
    },
    {
     "name": "stdin",
     "output_type": "stream",
     "text": [
      " lines\n"
     ]
    },
    {
     "name": "stdout",
     "output_type": "stream",
     "text": [
      "element occurs in 2 lines\n",
      "  (line 2) some lines\n",
      "  (line 6) these lines\n",
      "\n",
      "enter word to look for, or q to quit: "
     ]
    },
    {
     "name": "stdin",
     "output_type": "stream",
     "text": [
      " q\n"
     ]
    }
   ],
   "source": [
    "ifstream is(\"tmp.txt\");\n",
    "runQueries(is);"
   ]
  },
  {
   "cell_type": "code",
   "execution_count": 28,
   "id": "ac35907e-ca9f-415a-9671-12bb00bbedc3",
   "metadata": {},
   "outputs": [],
   "source": [
    "!rm tmp.txt"
   ]
  },
  {
   "cell_type": "markdown",
   "id": "887535f9-68c1-456b-beed-2f115cee919d",
   "metadata": {},
   "source": [
    "### Exercise 12.33:\n",
    "In Chapter 15 we'll extend our query system and will need some \n",
    "additional members in the `QueryResult` class. Add members named `begin` and `end` that\n",
    "return iterators into the `set` of line numbers returned by a given query, and a member\n",
    "named `get_file` that returns a `shared_ptr` to the file in the `QueryResult` object."
   ]
  },
  {
   "cell_type": "code",
   "execution_count": 1,
   "id": "cea1a706-e0ea-41af-8ce5-bf56575f39ad",
   "metadata": {},
   "outputs": [],
   "source": [
    "#include <fstream>\n",
    "#include <set>\n",
    "#include <sstream>\n",
    "#include <iostream>\n",
    "using std::map, std::ifstream, std::string, std::set, std::vector, std::shared_ptr, std::ostream, std::cout, std::endl, std::cin;"
   ]
  },
  {
   "cell_type": "code",
   "execution_count": 2,
   "id": "6fa36f48-1b1d-4a15-acda-462d47925744",
   "metadata": {},
   "outputs": [],
   "source": [
    "class QueryResult;"
   ]
  },
  {
   "cell_type": "code",
   "execution_count": 3,
   "id": "664acc8a-4e01-40d0-815f-f6fb3897d03e",
   "metadata": {},
   "outputs": [],
   "source": [
    "class TextQuery\n",
    "{\n",
    "    public:\n",
    "        TextQuery(ifstream&);\n",
    "        QueryResult query(const string&) const;\n",
    "    private:\n",
    "        map<string, shared_ptr<set<unsigned>>> querymap;\n",
    "        shared_ptr<vector<string>> lines;\n",
    "};"
   ]
  },
  {
   "cell_type": "code",
   "execution_count": 4,
   "id": "53622de3-511d-425b-9cfd-8f23451a911f",
   "metadata": {},
   "outputs": [],
   "source": [
    "class QueryResult\n",
    "{\n",
    "    public:\n",
    "        friend ostream& print(ostream&, const QueryResult&);\n",
    "        QueryResult(shared_ptr<vector<string>> pv, shared_ptr<set<unsigned>> ps, const string& s) : all_lines(pv), relevant_lines(ps), word(s) { }\n",
    "        set<unsigned>::iterator begin() { return relevant_lines->begin(); }\n",
    "        set<unsigned>::iterator end() { return relevant_lines->end(); }\n",
    "        shared_ptr<vector<string>> get_file() const { return shared_ptr<vector<string>>(all_lines); }\n",
    "    private:\n",
    "        string word;\n",
    "        shared_ptr<set<unsigned>> relevant_lines;\n",
    "        shared_ptr<vector<string>> all_lines;\n",
    "};"
   ]
  },
  {
   "cell_type": "code",
   "execution_count": 5,
   "id": "3fa9c334-5693-4613-bb38-be0c40f73e60",
   "metadata": {},
   "outputs": [],
   "source": [
    "TextQuery::TextQuery(ifstream &inputFile) : lines(new vector<string>)\n",
    "{\n",
    "    string line;\n",
    "    unsigned line_n = 0;\n",
    "    while (getline(inputFile, line))\n",
    "    {\n",
    "        lines->push_back(line);\n",
    "        ++line_n;\n",
    "        std::istringstream iss(line);\n",
    "        string s;\n",
    "        while (iss >> s)\n",
    "        {\n",
    "            auto &lines_set = querymap[s];\n",
    "            if (!lines_set)\n",
    "                lines_set.reset(new set<unsigned>);\n",
    "            lines_set->insert(line_n);\n",
    "        }\n",
    "    }\n",
    "};"
   ]
  },
  {
   "cell_type": "code",
   "execution_count": 6,
   "id": "a136e2c5-e17a-4a9f-8b14-9fb96c011f53",
   "metadata": {},
   "outputs": [],
   "source": [
    "QueryResult TextQuery::query(const string& word) const\n",
    "{\n",
    "    auto it = querymap.find(word);\n",
    "    if (it == querymap.end())\n",
    "        return QueryResult(lines, std::make_shared<set<unsigned>>(), word);\n",
    "    return QueryResult(lines, it->second, word);\n",
    "}"
   ]
  },
  {
   "cell_type": "code",
   "execution_count": 7,
   "id": "343b9566-38f3-41b9-a71b-9f90ef4b205c",
   "metadata": {},
   "outputs": [],
   "source": [
    "ostream& print(ostream& os, const QueryResult& qr) \n",
    "{\n",
    "    os << \"element occurs in \" << qr.relevant_lines->size() << \" line\" << ((qr.relevant_lines->size() != 1) ? \"s\" : \"\") << endl;\n",
    "    for (auto i : *qr.relevant_lines)\n",
    "        os << \"  (line \" << i << \") \" << *(qr.all_lines->begin() + i - 1) << endl;\n",
    "    return os;\n",
    "}"
   ]
  },
  {
   "cell_type": "code",
   "execution_count": 8,
   "id": "abed5ace-8f5a-42b7-9889-93c7c47b00cb",
   "metadata": {},
   "outputs": [],
   "source": [
    "! echo \"let's throw\\nsome lines\\nat our\\ncode\\nto test\\nthese lines\" > tmp.txt"
   ]
  },
  {
   "cell_type": "code",
   "execution_count": 9,
   "id": "083e6d25-d4d4-451f-ad11-6178a2c0311c",
   "metadata": {},
   "outputs": [],
   "source": [
    "ifstream is(\"tmp.txt\");\n",
    "TextQuery tq(is);\n",
    "auto qr = tq.query(\"lines\");"
   ]
  },
  {
   "cell_type": "code",
   "execution_count": 10,
   "id": "d3022bac-1527-4ece-93cb-38d6a43da5ac",
   "metadata": {},
   "outputs": [
    {
     "name": "stdout",
     "output_type": "stream",
     "text": [
      "2\n",
      "6\n"
     ]
    }
   ],
   "source": [
    "for (auto p = qr.begin(); p != qr.end(); ++p)\n",
    "    cout << *p << endl;"
   ]
  },
  {
   "cell_type": "code",
   "execution_count": 11,
   "id": "bdf2b0b2-2ccf-411c-b357-0391a1aa1431",
   "metadata": {
    "tags": []
   },
   "outputs": [
    {
     "data": {
      "text/plain": [
       "{ \"let's throw\", \"some lines\", \"at our\", \"code\", \"to test\", \"these lines\" }"
      ]
     },
     "execution_count": 11,
     "metadata": {},
     "output_type": "execute_result"
    }
   ],
   "source": [
    "*qr.get_file()"
   ]
  },
  {
   "cell_type": "code",
   "execution_count": 12,
   "id": "d558a213-9725-4c35-93b8-7d5a557060f8",
   "metadata": {},
   "outputs": [],
   "source": [
    "! rm tmp.txt"
   ]
  }
 ],
 "metadata": {
  "kernelspec": {
   "display_name": "C++17",
   "language": "C++17",
   "name": "xcpp17"
  },
  "language_info": {
   "codemirror_mode": "text/x-c++src",
   "file_extension": ".cpp",
   "mimetype": "text/x-c++src",
   "name": "c++",
   "version": "17"
  }
 },
 "nbformat": 4,
 "nbformat_minor": 5
}
