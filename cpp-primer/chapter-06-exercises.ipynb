{
 "cells": [
  {
   "cell_type": "markdown",
   "id": "d6d3dbd1-c108-45ee-a7b3-b1e528db3164",
   "metadata": {
    "tags": []
   },
   "source": [
    "# Chapter 6 Functions"
   ]
  },
  {
   "cell_type": "markdown",
   "id": "6824ef45-788b-4b73-9a8b-03ef91f637e7",
   "metadata": {},
   "source": [
    "## EXERCISES SECTION 6.1\n"
   ]
  },
  {
   "cell_type": "markdown",
   "id": "5427219f-5269-4242-a95f-535eb78dbc4a",
   "metadata": {},
   "source": [
    "### Exercise 6.1:\n",
    "What is the difference between a parameter and an argument?"
   ]
  },
  {
   "cell_type": "markdown",
   "id": "b4a8282e-3a75-442e-8c0c-c0f1959ddd7c",
   "metadata": {},
   "source": [
    "A:\n",
    "\n",
    "Parameter is defined when writing the function. Argument is passed to the function when it's called."
   ]
  },
  {
   "cell_type": "markdown",
   "id": "8247dd5a-ef4f-4fa0-b785-c6d77e8ffb6e",
   "metadata": {},
   "source": [
    "### Exercise 6.2:\n",
    "Indicate which of the following functions are in error and why. Suggest\n",
    "how you might correct the problems.  \n",
    "(a)\n",
    "```\n",
    "int f() {\n",
    "    string s;\n",
    "    // . . .\n",
    "    return s;\n",
    "}\n",
    "```\n",
    "(b) `f2(int i) { /* . . . */ }`  \n",
    "(c) `int calc(int v1, int v1) { /* . . . */ }`  \n",
    "(d) `double square(double x) return x * x;`  "
   ]
  },
  {
   "cell_type": "markdown",
   "id": "8a4e148e-8974-4104-8a5c-bb0e743acb68",
   "metadata": {},
   "source": [
    "(a) wrong types, function f() is an `int`, not `string`\n",
    "```\n",
    "string f() {\n",
    "    string s;\n",
    "    // . . .\n",
    "    return s;\n",
    "}\n",
    "```\n",
    "(b) missing function type  \n",
    "`int f2(int i) { /* . . . */ }`  \n",
    "(c) can't define two parameters with the same name  \n",
    "`int calc(int v1, int v2) { /* . . . */ }`  \n",
    "(d) function's code needs to be closed in block  \n",
    "`double square(double x) { return x * x; }`"
   ]
  },
  {
   "cell_type": "markdown",
   "id": "a3188ecf-3798-4b4f-885d-de03a1ada97f",
   "metadata": {},
   "source": [
    "### Exercise 6.3:\n",
    "Write and test your own version of fact."
   ]
  },
  {
   "cell_type": "code",
   "execution_count": 1,
   "id": "867f4d08-9d6c-4116-a436-864ed25f0d77",
   "metadata": {},
   "outputs": [],
   "source": [
    "#include <iostream>\n",
    "using std::cout, std::endl, std::cin;"
   ]
  },
  {
   "cell_type": "code",
   "execution_count": 2,
   "id": "d593c192-6020-4c38-9ae0-1219eae703fb",
   "metadata": {},
   "outputs": [],
   "source": [
    "long fact(int val)\n",
    "{\n",
    "    long ret = 1;\n",
    "    for (int i = 2; i <= val; i++)\n",
    "        ret *= i;\n",
    "    return ret;\n",
    "}"
   ]
  },
  {
   "cell_type": "code",
   "execution_count": 5,
   "id": "ab42285b-09ce-4b5f-9727-fc7a7b49b10f",
   "metadata": {},
   "outputs": [
    {
     "name": "stdout",
     "output_type": "stream",
     "text": [
      "fact(1) == 1\n",
      "fact(2) == 2\n",
      "fact(3) == 6\n",
      "fact(4) == 24\n",
      "fact(5) == 120\n",
      "fact(6) == 720\n",
      "fact(7) == 5040\n",
      "fact(8) == 40320\n",
      "fact(9) == 362880\n",
      "fact(10) == 3628800\n"
     ]
    }
   ],
   "source": [
    "for (int i = 1; i < 11; i++)\n",
    "    cout << \"fact(\" << i << \") == \" << fact(i) << endl;"
   ]
  },
  {
   "cell_type": "markdown",
   "id": "d1eac337-fc07-4a55-b5df-e33265c9ebee",
   "metadata": {},
   "source": [
    "### Exercise 6.4:\n",
    "Write a function that interacts with the user, asking for a number and\n",
    "generating the factorial of that number. Call this function from `main`."
   ]
  },
  {
   "cell_type": "code",
   "execution_count": 6,
   "id": "fd39e139-0dfc-4396-92fb-46cb487e46ed",
   "metadata": {},
   "outputs": [],
   "source": [
    "void request_factorial()\n",
    "{\n",
    "    cout << \"Which factorial do you want?\" << endl;\n",
    "    int i;\n",
    "    cin >> i;\n",
    "    cout << \"Factorial of \" << i << \" is \" << fact(i) << endl;\n",
    "}"
   ]
  },
  {
   "cell_type": "code",
   "execution_count": 7,
   "id": "a8cf215c-ac1e-4eda-8110-0e087b19fc58",
   "metadata": {},
   "outputs": [
    {
     "name": "stdout",
     "output_type": "stream",
     "text": [
      "Which factorial do you want?\n"
     ]
    },
    {
     "name": "stdin",
     "output_type": "stream",
     "text": [
      " 11\n"
     ]
    },
    {
     "name": "stdout",
     "output_type": "stream",
     "text": [
      "Factorial of 11 is 39916800\n"
     ]
    }
   ],
   "source": [
    "request_factorial()"
   ]
  },
  {
   "cell_type": "code",
   "execution_count": 9,
   "id": "a235e66d-5c14-4556-8e7b-cd7fc0586713",
   "metadata": {},
   "outputs": [
    {
     "name": "stdout",
     "output_type": "stream",
     "text": [
      "Which factorial do you want?\n"
     ]
    },
    {
     "name": "stdin",
     "output_type": "stream",
     "text": [
      " 18\n"
     ]
    },
    {
     "name": "stdout",
     "output_type": "stream",
     "text": [
      "Factorial of 18 is 6402373705728000\n"
     ]
    }
   ],
   "source": [
    "request_factorial()"
   ]
  },
  {
   "cell_type": "markdown",
   "id": "2bf99796-b96f-4a51-8165-eeb21269cec9",
   "metadata": {},
   "source": [
    "### Exercise 6.5:\n",
    "Write a function to return the absolute value of its argument."
   ]
  },
  {
   "cell_type": "code",
   "execution_count": 1,
   "id": "0fe79e22-ddb2-4061-8ce9-19b1af6c8dc9",
   "metadata": {},
   "outputs": [],
   "source": [
    "#include <iostream>\n",
    "using std::cout, std::endl, std::cin;"
   ]
  },
  {
   "cell_type": "code",
   "execution_count": 2,
   "id": "1ef1045d-fd14-498b-ab19-90ae625fcd2e",
   "metadata": {},
   "outputs": [],
   "source": [
    "double abs(double val) { return (val < 0) ? val : -val; }"
   ]
  },
  {
   "cell_type": "code",
   "execution_count": 5,
   "id": "befc1d8c-8b2a-4c78-8495-42d08f2d36ee",
   "metadata": {},
   "outputs": [
    {
     "name": "stdout",
     "output_type": "stream",
     "text": [
      "abs(-40) == 40\n",
      "abs(-33) == 33\n",
      "abs(-26) == 26\n",
      "abs(-19) == 19\n",
      "abs(-12) == 12\n",
      "abs(-5) == 5\n",
      "abs(2) == 2\n",
      "abs(9) == 9\n",
      "abs(16) == 16\n",
      "abs(23) == 23\n",
      "abs(30) == 30\n",
      "abs(37) == 37\n"
     ]
    }
   ],
   "source": [
    "for (int i = -40; i < 40; i += 7)\n",
    "    cout << \"abs(\" << i << \") == \" << abs(i) << endl;"
   ]
  },
  {
   "cell_type": "markdown",
   "id": "bfc7554b-c62d-42ae-b17e-7b4e657113f2",
   "metadata": {},
   "source": [
    "## EXERCISES SECTION 6.1.1\n"
   ]
  },
  {
   "cell_type": "markdown",
   "id": "3231c85f-f33d-461d-8dfa-aa9c9d7e89be",
   "metadata": {},
   "source": [
    "### Exercise 6.6:\n",
    "Explain the differences between a parameter, a local variable, and a local\n",
    "static variable. Give an example of a function in which each might be useful."
   ]
  },
  {
   "cell_type": "markdown",
   "id": "98dcecfb-054f-4eb2-8f4e-3c3690046726",
   "metadata": {},
   "source": [
    "A:\n",
    "\n",
    "Parameter is used to provide arguments during function's call.  Destroyed when a function ends.  \n",
    "Local variable is defined within function's block. Destroyed when a function ends.  \n",
    "Static local variable is defined within function's block. NOT destroyed when a function ends.  "
   ]
  },
  {
   "cell_type": "code",
   "execution_count": 1,
   "id": "a07c00e8-ffc6-4b0d-8de1-abead5c42db9",
   "metadata": {},
   "outputs": [],
   "source": [
    "#include <iostream>\n",
    "using std::cout, std::endl, std::cin;"
   ]
  },
  {
   "cell_type": "code",
   "execution_count": 2,
   "id": "91bdbb03-8fbc-4250-b85e-b7d45f6943cc",
   "metadata": {},
   "outputs": [],
   "source": [
    "int next_factorial(bool restart = false)\n",
    "{\n",
    "    static int fact = 1;\n",
    "    static int res = 1;\n",
    "    if (restart)\n",
    "        fact = res = 1;\n",
    "    res = fact++ * res;\n",
    "    return res;\n",
    "}"
   ]
  },
  {
   "cell_type": "code",
   "execution_count": 3,
   "id": "448d911c-a4ae-4860-b483-a02ed236f289",
   "metadata": {},
   "outputs": [
    {
     "name": "stdout",
     "output_type": "stream",
     "text": [
      "1\n",
      "2\n",
      "6\n",
      "24\n",
      "120\n",
      "720\n",
      "5040\n",
      "40320\n",
      "362880\n",
      "3628800\n"
     ]
    }
   ],
   "source": [
    "for (int i = 0; i < 10; ++i)\n",
    "{\n",
    "    cout << next_factorial() << endl;\n",
    "}"
   ]
  },
  {
   "cell_type": "code",
   "execution_count": 10,
   "id": "6e80af21-b3e5-4920-aa59-22eeb023cab0",
   "metadata": {},
   "outputs": [
    {
     "name": "stdout",
     "output_type": "stream",
     "text": [
      "1\n",
      "2\n",
      "6\n",
      "24\n",
      "120\n",
      "720\n",
      "5040\n",
      "40320\n",
      "362880\n",
      "3628800\n"
     ]
    }
   ],
   "source": [
    "cout << next_factorial(true) << endl;\n",
    "for (int i = 0; i < 9; ++i)\n",
    "{\n",
    "    cout << next_factorial() << endl;\n",
    "}"
   ]
  },
  {
   "cell_type": "markdown",
   "id": "1ad0c24e-5bff-4d20-93db-9fff39780d9e",
   "metadata": {},
   "source": [
    "### Exercise 6.7:\n",
    "Write a function that returns 0 when it is first called and then generates\n",
    "numbers in sequence each time it is called again."
   ]
  },
  {
   "cell_type": "code",
   "execution_count": 1,
   "id": "2bad71c2-5250-4409-96c3-2d67b1e1b568",
   "metadata": {},
   "outputs": [],
   "source": [
    "#include <iostream>\n",
    "using std::cout, std::endl, std::cin;"
   ]
  },
  {
   "cell_type": "code",
   "execution_count": 2,
   "id": "cf99354b-1d91-4b12-8f17-8c6928ef9b90",
   "metadata": {},
   "outputs": [],
   "source": [
    "int called()\n",
    "{\n",
    "    static int cnt = 0;\n",
    "    return cnt++;\n",
    "}"
   ]
  },
  {
   "cell_type": "code",
   "execution_count": 3,
   "id": "6c3a8cbb-1de2-47c9-aade-3b1ca6e381c4",
   "metadata": {},
   "outputs": [
    {
     "name": "stdout",
     "output_type": "stream",
     "text": [
      "0\n",
      "1\n",
      "2\n",
      "3\n",
      "4\n",
      "5\n",
      "6\n",
      "7\n",
      "8\n"
     ]
    }
   ],
   "source": [
    "for (int i = 0; i < 9; ++i)\n",
    "{\n",
    "    cout << called() << endl;\n",
    "}"
   ]
  },
  {
   "cell_type": "markdown",
   "id": "44c9b0cf-8789-4fc5-9268-7083a20d051e",
   "metadata": {},
   "source": [
    "## EXERCISES SECTION 6.1.2\n"
   ]
  },
  {
   "cell_type": "markdown",
   "id": "77007287-b4ae-4463-9a10-1d51cc5f962e",
   "metadata": {},
   "source": [
    "### Exercise 6.8:\n",
    "Write a header file named Chapter6.h that contains declarations for\n",
    "the functions you wrote for the exercises in § 6.1 (p. 205)."
   ]
  },
  {
   "cell_type": "code",
   "execution_count": 1,
   "id": "662179d8-1c0a-4488-98ea-e892f47bbc32",
   "metadata": {},
   "outputs": [
    {
     "name": "stdout",
     "output_type": "stream",
     "text": [
      "long fact(int val);\n",
      "void request_factorial();\n",
      "double abs2(double val);\n"
     ]
    }
   ],
   "source": [
    "! cat Chapter6.h"
   ]
  },
  {
   "cell_type": "markdown",
   "id": "8d1d9cd5-a003-4e95-90fe-d0369daa63f8",
   "metadata": {},
   "source": [
    "## EXERCISES SECTION 6.1.3\n"
   ]
  },
  {
   "cell_type": "markdown",
   "id": "3c63fd17-8bf9-41ad-9e27-35210ac01dc8",
   "metadata": {},
   "source": [
    "### Exercise 6.9:\n",
    "Write your own versions of the fact.cc and factMain.cc files. These\n",
    "files should include your Chapter6.h from the exercises in the previous section. Use\n",
    "these files to understand how your compiler supports separate compilation."
   ]
  },
  {
   "cell_type": "code",
   "execution_count": 1,
   "id": "a3698329-929b-4310-bc10-d9a57ec9d892",
   "metadata": {},
   "outputs": [
    {
     "name": "stdout",
     "output_type": "stream",
     "text": [
      "#include \"Chapter6.h\"\n",
      "\n",
      "long fact(int val)\n",
      "{\n",
      "    long ret = 1;\n",
      "    for (int i = 2; i <= val; i++)\n",
      "        ret *= i;\n",
      "    return ret;\n",
      "}\n"
     ]
    }
   ],
   "source": [
    "! cat fact.cc"
   ]
  },
  {
   "cell_type": "code",
   "execution_count": 2,
   "id": "28c238de-9876-488a-8bcc-f19787ee6366",
   "metadata": {},
   "outputs": [
    {
     "name": "stdout",
     "output_type": "stream",
     "text": [
      "#include \"Chapter6.h\"\n",
      "#include <iostream>\n",
      "\n",
      "using std::cin, std::cout, std::endl;\n",
      "\n",
      "int main()\n",
      "{\n",
      "    cout << \"Which factorial do you want?\" << endl;\n",
      "    int i;\n",
      "    cin >> i;\n",
      "    cout << \"Factorial of \" << i << \" is \" << fact(i) << endl;\n",
      "}\n"
     ]
    }
   ],
   "source": [
    "! cat factMain.cc"
   ]
  },
  {
   "cell_type": "code",
   "execution_count": 3,
   "id": "fb3d5811-9a00-48c9-bc6e-6bdada0b622c",
   "metadata": {},
   "outputs": [],
   "source": [
    "! g++ fact.cc factMain.cc -o main.out -std=c++17"
   ]
  },
  {
   "cell_type": "code",
   "execution_count": 4,
   "id": "1474944b-2349-4a8e-b970-07db63c17a90",
   "metadata": {},
   "outputs": [
    {
     "name": "stdout",
     "output_type": "stream",
     "text": [
      "Which factorial do you want?\n",
      "Factorial of 5 is 120\n"
     ]
    }
   ],
   "source": [
    "! echo 5 | ./main.out"
   ]
  },
  {
   "cell_type": "code",
   "execution_count": 5,
   "id": "344bf7c3-ff5f-4988-b85b-67c35bad5ba1",
   "metadata": {},
   "outputs": [],
   "source": [
    "! rm main.out"
   ]
  },
  {
   "cell_type": "markdown",
   "id": "25e96924-77d1-4762-988e-8673bed2e66f",
   "metadata": {},
   "source": [
    "## EXERCISES SECTION 6.2.1\n"
   ]
  },
  {
   "cell_type": "markdown",
   "id": "7103f9ed-2819-4eca-8f9b-7177dbd2f9c4",
   "metadata": {},
   "source": [
    "### Exercise 6.10:\n",
    "Using pointers, write a function to swap the values of two ints. Test\n",
    "the function by calling it and printing the swapped values."
   ]
  },
  {
   "cell_type": "code",
   "execution_count": 10,
   "id": "8f10ec34-2450-43a0-aded-2e63b62e76d6",
   "metadata": {},
   "outputs": [],
   "source": [
    "void swap(int *a, int *b)\n",
    "{\n",
    "    int tmp;\n",
    "    tmp = *a;\n",
    "    *a = *b;\n",
    "    *b = tmp;\n",
    "}"
   ]
  },
  {
   "cell_type": "code",
   "execution_count": 11,
   "id": "9fdd99b4-868b-469b-a066-246b7d3046a3",
   "metadata": {},
   "outputs": [],
   "source": [
    "int i1 = 2, i2 = 3;\n",
    "swap(&i1, &i2)"
   ]
  },
  {
   "cell_type": "code",
   "execution_count": 12,
   "id": "920cd43f-bb7d-40e8-8faf-411498c91d78",
   "metadata": {},
   "outputs": [
    {
     "data": {
      "text/plain": [
       "3"
      ]
     },
     "execution_count": 12,
     "metadata": {},
     "output_type": "execute_result"
    }
   ],
   "source": [
    "i1"
   ]
  },
  {
   "cell_type": "code",
   "execution_count": 13,
   "id": "6da02d86-406a-4377-837f-07d0dc9f3580",
   "metadata": {},
   "outputs": [
    {
     "data": {
      "text/plain": [
       "2"
      ]
     },
     "execution_count": 13,
     "metadata": {},
     "output_type": "execute_result"
    }
   ],
   "source": [
    "2"
   ]
  },
  {
   "cell_type": "markdown",
   "id": "e44ca437-04a5-4214-84c2-8039f41725d3",
   "metadata": {},
   "source": [
    "## EXERCISES SECTION 6.2.2\n"
   ]
  },
  {
   "cell_type": "markdown",
   "id": "3f5655c4-26b5-4fee-a2d5-08243b07b911",
   "metadata": {},
   "source": [
    "### Exercise 6.11:\n",
    "Write and test your own version of reset that takes a reference."
   ]
  },
  {
   "cell_type": "code",
   "execution_count": 14,
   "id": "60e7d5af-6d9d-4563-86c1-dba31c5959bf",
   "metadata": {},
   "outputs": [],
   "source": [
    "void reset(int &i)\n",
    "{\n",
    "    i = 0;\n",
    "}"
   ]
  },
  {
   "cell_type": "code",
   "execution_count": 15,
   "id": "18466ef3-841f-45aa-bff8-0e5b24c3d5ac",
   "metadata": {},
   "outputs": [
    {
     "data": {
      "text/plain": [
       "0"
      ]
     },
     "execution_count": 15,
     "metadata": {},
     "output_type": "execute_result"
    }
   ],
   "source": [
    "int i = 2;\n",
    "reset(i);\n",
    "i"
   ]
  },
  {
   "cell_type": "markdown",
   "id": "5b4bbab6-6f0d-41fc-8a89-066e7d943df9",
   "metadata": {},
   "source": [
    "### Exercise 6.12:\n",
    "Rewrite the program from exercise 6.10 in § 6.2.1 (p. 210) to use references instead of pointers to swap the value of two ints. Which version do you think\n",
    "would be easier to use and why?"
   ]
  },
  {
   "cell_type": "code",
   "execution_count": 1,
   "id": "e0cc2ba0-4249-4563-a998-589d77da9fc1",
   "metadata": {},
   "outputs": [],
   "source": [
    "void swap(int &a, int &b)\n",
    "{\n",
    "    int tmp;\n",
    "    tmp = a;\n",
    "    a = b;\n",
    "    b = tmp;\n",
    "}"
   ]
  },
  {
   "cell_type": "code",
   "execution_count": 2,
   "id": "916566a6-1af8-442a-abcf-793ff62efccf",
   "metadata": {},
   "outputs": [],
   "source": [
    "int i1 = 2, i2 = 3;\n",
    "swap(i1, i2)"
   ]
  },
  {
   "cell_type": "code",
   "execution_count": 3,
   "id": "67387d5b-62cb-49be-b1f0-c493f575a221",
   "metadata": {},
   "outputs": [
    {
     "data": {
      "text/plain": [
       "3"
      ]
     },
     "execution_count": 3,
     "metadata": {},
     "output_type": "execute_result"
    }
   ],
   "source": [
    "i1"
   ]
  },
  {
   "cell_type": "code",
   "execution_count": 4,
   "id": "8a7b8548-c982-4fa8-9015-be9d4e4a4c37",
   "metadata": {},
   "outputs": [
    {
     "data": {
      "text/plain": [
       "2"
      ]
     },
     "execution_count": 4,
     "metadata": {},
     "output_type": "execute_result"
    }
   ],
   "source": [
    "i2"
   ]
  },
  {
   "cell_type": "markdown",
   "id": "b7158592-7055-49f4-9444-586119d71e86",
   "metadata": {},
   "source": [
    "A:\n",
    "\n",
    "Reference version is easier to use, as we don't have to think about pointers to swap values of variables"
   ]
  },
  {
   "cell_type": "markdown",
   "id": "6d6d40eb-626a-41dd-b670-285c6384473e",
   "metadata": {},
   "source": [
    "### Exercise 6.13:\n",
    "Assuming T is the name of a type, explain the difference between a\n",
    "function declared as void f(T) and void f(T&)."
   ]
  },
  {
   "cell_type": "markdown",
   "id": "8652e38c-80d5-4850-a9f6-6ef6a5d41499",
   "metadata": {},
   "source": [
    "A:\n",
    "\n",
    "second function takes an argument by reference, so is able to change the variable that has been defined outside of this function"
   ]
  },
  {
   "cell_type": "markdown",
   "id": "218866f8-62b8-4a93-bb01-1e0ef3c2b84a",
   "metadata": {},
   "source": [
    "### Exercise 6.14:\n",
    "Give an example of when a parameter should be a reference type. Give\n",
    "an example of when a parameter should not be a reference."
   ]
  },
  {
   "cell_type": "code",
   "execution_count": 1,
   "id": "a326149c-3678-45a4-a902-268c71817b04",
   "metadata": {},
   "outputs": [],
   "source": [
    "// reference version\n",
    "void square_in_place(int &i)\n",
    "{\n",
    "    i *= i;\n",
    "}"
   ]
  },
  {
   "cell_type": "code",
   "execution_count": 4,
   "id": "dd0a1393-eb9a-42e1-bcac-37b2a8343010",
   "metadata": {},
   "outputs": [
    {
     "data": {
      "text/plain": [
       "4"
      ]
     },
     "execution_count": 4,
     "metadata": {},
     "output_type": "execute_result"
    }
   ],
   "source": [
    "int i = 2;\n",
    "square_in_place(i);\n",
    "i"
   ]
  },
  {
   "cell_type": "code",
   "execution_count": 2,
   "id": "82245803-b28c-43ac-9429-a0f9849b6dbb",
   "metadata": {},
   "outputs": [],
   "source": [
    "// non-reference version\n",
    "int get_square_value(int i)\n",
    "{\n",
    "    return i * i;\n",
    "}"
   ]
  },
  {
   "cell_type": "code",
   "execution_count": 3,
   "id": "a12893a4-af8c-4f98-9ce7-2dc98e09e1ff",
   "metadata": {},
   "outputs": [
    {
     "data": {
      "text/plain": [
       "4"
      ]
     },
     "execution_count": 3,
     "metadata": {},
     "output_type": "execute_result"
    }
   ],
   "source": [
    "get_square_value(2)"
   ]
  },
  {
   "cell_type": "markdown",
   "id": "700cef26-4974-4ae5-9ac1-f7178753e6d0",
   "metadata": {},
   "source": [
    "### Exercise 6.15:\n",
    "Explain the rationale for the type of each of find_char’s parameters\n",
    "```\n",
    "string::size_type find_char(const string &s, char c,\n",
    "                            string::size_type &occurs)\n",
    "{\n",
    "    auto ret = s.size();\n",
    "    occurs = 0;\n",
    "    for (decltype(ret) i = 0; i != s.size(); ++i) {\n",
    "        if (s[i] == c) {\n",
    "            if (ret == s.size())\n",
    "                ret = i;\n",
    "            ++occurs;\n",
    "        }\n",
    "    }\n",
    "    return ret;\n",
    "}\n",
    "```\n",
    "In particular, why is s a reference to const but occurs is a plain reference? Why are\n",
    "these parameters references, but the char parameter c is not? What would happen if\n",
    "we made s a plain reference? What if we made occurs a reference to const?"
   ]
  },
  {
   "cell_type": "markdown",
   "id": "31894317-9d9d-4476-b4e3-9c2dc6fefc89",
   "metadata": {},
   "source": [
    "A:\n",
    "\n",
    "`s` is a reference, because it's a `string`, so this way we can skip copying it. We also don't plan to change it, so it can be `const`. If we made `s` a plain reference, we wouldn't be able to pass `const string` variable as an argument.\n",
    "\n",
    "`occurs` can't be a reference to `const`, since we use it as a counter and need to change it's value. It must be a reference, because we want to get it's value outside of the function. If we made it a reference to `const` the code would fail at `occurs = 0;`\n",
    "\n",
    "`char` is not a reference so that we can pass a literal to it. It could be a `const` or reference to `const` though."
   ]
  },
  {
   "cell_type": "code",
   "execution_count": 1,
   "id": "24306106-e7eb-4724-beb8-967a9c635074",
   "metadata": {},
   "outputs": [],
   "source": [
    "#include <string>\n",
    "using std::string;"
   ]
  },
  {
   "cell_type": "code",
   "execution_count": 2,
   "id": "909fbf2a-2a14-402d-bd13-abe11cf12380",
   "metadata": {},
   "outputs": [],
   "source": [
    "string::size_type find_char(const string &s, const char c,\n",
    "                            string::size_type &occurs)\n",
    "{\n",
    "    auto ret = s.size();\n",
    "    occurs = 0;\n",
    "    for (decltype(ret) i = 0; i != s.size(); ++i) {\n",
    "        if (s[i] == c) {\n",
    "            if (ret == s.size())\n",
    "                ret = i;\n",
    "            ++occurs;\n",
    "        }\n",
    "    }\n",
    "    return ret;\n",
    "}"
   ]
  },
  {
   "cell_type": "code",
   "execution_count": 3,
   "id": "841eeaa1-22d4-47b3-8ca6-25163974f945",
   "metadata": {},
   "outputs": [
    {
     "data": {
      "text/plain": [
       "0"
      ]
     },
     "execution_count": 3,
     "metadata": {},
     "output_type": "execute_result"
    }
   ],
   "source": [
    "string s = \"test\";\n",
    "decltype(s.size()) occurs;\n",
    "const char c = 't';\n",
    "find_char(s, c, occurs)"
   ]
  },
  {
   "cell_type": "code",
   "execution_count": 4,
   "id": "54ef7849-edce-4218-a501-b2ca0d0d0624",
   "metadata": {},
   "outputs": [
    {
     "data": {
      "text/plain": [
       "2"
      ]
     },
     "execution_count": 4,
     "metadata": {},
     "output_type": "execute_result"
    }
   ],
   "source": [
    "occurs"
   ]
  },
  {
   "cell_type": "markdown",
   "id": "0b3131b0-6b99-47f0-8e4c-f263c52c8fa3",
   "metadata": {},
   "source": [
    "## EXERCISES SECTION 6.2.3\n"
   ]
  },
  {
   "cell_type": "markdown",
   "id": "02aa81e2-86ff-4b67-833c-e213f7960472",
   "metadata": {},
   "source": [
    "### Exercise 6.16:\n",
    "The following function, although legal, is less useful than it might be.\n",
    "Identify and correct the limitation on this function:\n",
    "```\n",
    "bool is_empty(string& s) { return s.empty(); }\n",
    "```"
   ]
  },
  {
   "cell_type": "code",
   "execution_count": 5,
   "id": "d5b0c598-d775-493c-aa8a-6e41127c8a14",
   "metadata": {},
   "outputs": [],
   "source": [
    "// version where botch `string` and `const string` can be passed\n",
    "bool is_empty(const string &s) { return s.empty(); }"
   ]
  },
  {
   "cell_type": "markdown",
   "id": "330afb91-b233-489d-a2fc-af99c24f556c",
   "metadata": {},
   "source": [
    "### Exercise 6.17:\n",
    "Write a function to determine whether a string contains any capital\n",
    "letters. Write a function to change a string to all lowercase. Do the parameters you\n",
    "used in these functions have the same type? If so, why? If not, why not?"
   ]
  },
  {
   "cell_type": "code",
   "execution_count": 1,
   "id": "4bec4439-7651-449f-ae2f-f8ceb7437982",
   "metadata": {},
   "outputs": [],
   "source": [
    "#include <string>\n",
    "#include <cctype>\n",
    "using std::string;"
   ]
  },
  {
   "cell_type": "code",
   "execution_count": 2,
   "id": "b0273441-bbe0-4734-bb5f-a927b0eda5c5",
   "metadata": {},
   "outputs": [],
   "source": [
    "string s = \"Test iT\";"
   ]
  },
  {
   "cell_type": "code",
   "execution_count": 3,
   "id": "4621a54d-be65-4b74-a94d-498ec30e7703",
   "metadata": {},
   "outputs": [],
   "source": [
    "bool hasCapitalLetters(const string &s)\n",
    "{\n",
    "    for (auto c : s)\n",
    "        if (isupper(c))\n",
    "            return true;\n",
    "    return false;\n",
    "}"
   ]
  },
  {
   "cell_type": "code",
   "execution_count": 4,
   "id": "fe4a43f2-4b75-4b4f-8abb-576bcfa581fe",
   "metadata": {},
   "outputs": [
    {
     "data": {
      "text/plain": [
       "true"
      ]
     },
     "execution_count": 4,
     "metadata": {},
     "output_type": "execute_result"
    }
   ],
   "source": [
    "hasCapitalLetters(s)"
   ]
  },
  {
   "cell_type": "code",
   "execution_count": 5,
   "id": "27eabc73-13d0-4d5e-8ace-2823b40988af",
   "metadata": {},
   "outputs": [],
   "source": [
    "void toLower(string &s)\n",
    "{\n",
    "    for (auto &c : s)\n",
    "        if (isupper(c))\n",
    "            c = tolower(c);\n",
    "}"
   ]
  },
  {
   "cell_type": "code",
   "execution_count": 6,
   "id": "cac04b33-0f75-4b0d-aa15-ab165be0135b",
   "metadata": {},
   "outputs": [
    {
     "data": {
      "text/plain": [
       "\"test it\""
      ]
     },
     "execution_count": 6,
     "metadata": {},
     "output_type": "execute_result"
    }
   ],
   "source": [
    "toLower(s);\n",
    "s"
   ]
  },
  {
   "cell_type": "markdown",
   "id": "051420ee-ea1d-4c9f-9654-a810cd35e790",
   "metadata": {},
   "source": [
    "### Exercise 6.18:\n",
    "Write declarations for each of the following functions. When you write\n",
    "these declarations, use the name of the function to indicate what the function does.  \n",
    "(a) A function named `compare` that returns a `bool` and has two parameters that\n",
    "are references to a class named `matrix`.  \n",
    "(b) A function named `change_val` that returns a `vector<int>` iterator and\n",
    "takes two parameters: One is an `int` and the other is an iterator for a `vector<int>`."
   ]
  },
  {
   "cell_type": "markdown",
   "id": "66320906-712d-4646-a5f9-32d104cb2316",
   "metadata": {},
   "source": [
    "A:\n",
    "\n",
    "a)\n",
    "```\n",
    "bool compare(matrix &m1, matrix &m2);\n",
    "```\n",
    "\n",
    "b)\n",
    "```\n",
    "vector<int>::iterator change_val(int i, vector<int>::iterator vi);\n",
    "```"
   ]
  },
  {
   "cell_type": "markdown",
   "id": "4d4b46f4-3179-4fce-8500-84cdfae3d55d",
   "metadata": {},
   "source": [
    "### Exercise 6.19:\n",
    "Given the following declarations, determine which calls are legal and\n",
    "which are illegal. For those that are illegal, explain why.\n",
    "```\n",
    "double calc(double);\n",
    "int count(const string &, char);\n",
    "int sum(vector<int>::iterator, vector<int>::iterator, int);\n",
    "vector<int> vec(10);\n",
    "```\n",
    "(a) `calc(23.4, 55.1);`  \n",
    "(b) `count(\"abcda\", ’a’);`  \n",
    "(c) `calc(66);`  \n",
    "(d) `sum(vec.begin(), vec.end(), 3.8);`  "
   ]
  },
  {
   "cell_type": "markdown",
   "id": "7550b72b-cee9-46a0-bb86-1eaabb3fcf8f",
   "metadata": {},
   "source": [
    "A:\n",
    "\n",
    "a) illegal, too many arguments  \n",
    "b) legal  \n",
    "c) legal  \n",
    "d) legal"
   ]
  },
  {
   "cell_type": "markdown",
   "id": "055b6bb4-5140-4064-b5be-f435308d04d2",
   "metadata": {},
   "source": [
    "### Exercise 6.20:\n",
    "When should reference parameters be references to const? What happens if we make a parameter a plain reference when it could be a reference to const?"
   ]
  },
  {
   "cell_type": "markdown",
   "id": "4b1e81fb-4eb1-4b5b-80b4-16f159a842a8",
   "metadata": {},
   "source": [
    "A:\n",
    "\n",
    "If we don't change the value of the referenced variable inside the function, it should be a reference to `const`. If we don't do it, we won't be able to use literals as arguments."
   ]
  },
  {
   "cell_type": "markdown",
   "id": "fbdce353-d2ff-450f-a82b-445787c5a421",
   "metadata": {},
   "source": [
    "## EXERCISES SECTION 6.2.4\n"
   ]
  },
  {
   "cell_type": "markdown",
   "id": "b692315c-42b7-4fe3-9a1c-80c1ae4df9a8",
   "metadata": {},
   "source": [
    "### Exercise 6.21:\n",
    "Write a function that takes an int and a pointer to an int and returns\n",
    "the larger of the int value or the value to which the pointer points. What type should\n",
    "you use for the pointer?"
   ]
  },
  {
   "cell_type": "code",
   "execution_count": 4,
   "id": "16353079-f597-4674-b5c9-e3ab33c1ff5d",
   "metadata": {},
   "outputs": [],
   "source": [
    "int larger(int i, const int * const p)\n",
    "{\n",
    "    return (i > *p) ? i : *p;\n",
    "}"
   ]
  },
  {
   "cell_type": "code",
   "execution_count": 5,
   "id": "58b41697-eb69-49ca-8143-03b2120d1653",
   "metadata": {},
   "outputs": [],
   "source": [
    "int i = 3;\n",
    "int *p = &i;"
   ]
  },
  {
   "cell_type": "code",
   "execution_count": 9,
   "id": "5fac4697-cdc2-45b6-b34f-92e53b4fec2b",
   "metadata": {},
   "outputs": [
    {
     "data": {
      "text/plain": [
       "100"
      ]
     },
     "execution_count": 9,
     "metadata": {},
     "output_type": "execute_result"
    }
   ],
   "source": [
    "larger(100, p)"
   ]
  },
  {
   "cell_type": "code",
   "execution_count": 10,
   "id": "dda1e571-5881-4c0a-abdb-df386dd62a0b",
   "metadata": {},
   "outputs": [
    {
     "data": {
      "text/plain": [
       "4"
      ]
     },
     "execution_count": 10,
     "metadata": {},
     "output_type": "execute_result"
    }
   ],
   "source": [
    "larger(4, p)"
   ]
  },
  {
   "cell_type": "code",
   "execution_count": 12,
   "id": "206a7dfd-ebb0-4404-bc2a-0db4c9f4f621",
   "metadata": {},
   "outputs": [
    {
     "data": {
      "text/plain": [
       "3"
      ]
     },
     "execution_count": 12,
     "metadata": {},
     "output_type": "execute_result"
    }
   ],
   "source": [
    "larger(3, p)"
   ]
  },
  {
   "cell_type": "code",
   "execution_count": 13,
   "id": "ac8d9ee7-7fbd-466e-a88b-9e9931c34c64",
   "metadata": {},
   "outputs": [
    {
     "data": {
      "text/plain": [
       "3"
      ]
     },
     "execution_count": 13,
     "metadata": {},
     "output_type": "execute_result"
    }
   ],
   "source": [
    "larger(2, p)"
   ]
  },
  {
   "cell_type": "markdown",
   "id": "ec177406-b98b-41e0-9959-e7ad4d9afdbd",
   "metadata": {},
   "source": [
    "### Exercise 6.22:\n",
    "Write a function to swap two int pointers."
   ]
  },
  {
   "cell_type": "code",
   "execution_count": 1,
   "id": "a62e071e-3e38-4741-ad97-8669bc711364",
   "metadata": {},
   "outputs": [],
   "source": [
    "void swap(int *(&p1), int *(&p2))\n",
    "{\n",
    "    auto tmp = p1;\n",
    "    p1 = p2;\n",
    "    p2 = tmp;\n",
    "}"
   ]
  },
  {
   "cell_type": "code",
   "execution_count": 2,
   "id": "feeb68be-ed08-466e-b1be-dd2d60c1ba1a",
   "metadata": {},
   "outputs": [],
   "source": [
    "int i = 2, j = 3;\n",
    "int *p1 = &i, *p2 = &j;"
   ]
  },
  {
   "cell_type": "code",
   "execution_count": 3,
   "id": "8fe29a21-ef57-42f7-adc3-12b2d80adede",
   "metadata": {},
   "outputs": [],
   "source": [
    "swap(p1, p2);"
   ]
  },
  {
   "cell_type": "code",
   "execution_count": 4,
   "id": "26c30f3f-b426-41de-a577-88e4c3f433a8",
   "metadata": {},
   "outputs": [
    {
     "data": {
      "text/plain": [
       "3"
      ]
     },
     "execution_count": 4,
     "metadata": {},
     "output_type": "execute_result"
    }
   ],
   "source": [
    "*p1"
   ]
  },
  {
   "cell_type": "code",
   "execution_count": 5,
   "id": "d65031de-4873-4257-ada7-cb3411e0de29",
   "metadata": {},
   "outputs": [
    {
     "data": {
      "text/plain": [
       "2"
      ]
     },
     "execution_count": 5,
     "metadata": {},
     "output_type": "execute_result"
    }
   ],
   "source": [
    "*p2"
   ]
  },
  {
   "cell_type": "code",
   "execution_count": 6,
   "id": "975bc843-e26d-40df-adde-754af7f6b789",
   "metadata": {},
   "outputs": [
    {
     "data": {
      "text/plain": [
       "2"
      ]
     },
     "execution_count": 6,
     "metadata": {},
     "output_type": "execute_result"
    }
   ],
   "source": [
    "i"
   ]
  },
  {
   "cell_type": "code",
   "execution_count": 7,
   "id": "5bb7d440-a69a-4af3-bb4d-87b9ef4635fa",
   "metadata": {},
   "outputs": [
    {
     "data": {
      "text/plain": [
       "3"
      ]
     },
     "execution_count": 7,
     "metadata": {},
     "output_type": "execute_result"
    }
   ],
   "source": [
    "j"
   ]
  },
  {
   "cell_type": "markdown",
   "id": "e169514a-f33c-4664-a5d6-f27e16f56892",
   "metadata": {},
   "source": [
    "### Exercise 6.23:\n",
    "Write your own versions of each of the print functions presented in\n",
    "this section. Call each of these functions to print i and j defined as follows:\n",
    "```\n",
    "int i = 0, j[2] = {0, 1};\n",
    "```"
   ]
  },
  {
   "cell_type": "code",
   "execution_count": 1,
   "id": "38b0978d-28b5-4a9e-ab0d-2d574f507abc",
   "metadata": {},
   "outputs": [],
   "source": [
    "#include <iostream>\n",
    "using std::cout, std::endl, std::cin;"
   ]
  },
  {
   "cell_type": "code",
   "execution_count": 2,
   "id": "193700db-a06f-4a48-ac57-0425319015c0",
   "metadata": {},
   "outputs": [],
   "source": [
    "void print(const char *cp)\n",
    "{\n",
    "if (cp)\n",
    "    while (*cp)\n",
    "        cout << *cp++;\n",
    "}"
   ]
  },
  {
   "cell_type": "code",
   "execution_count": 3,
   "id": "e5946f49-c223-4de8-aa01-71134f5ed2fb",
   "metadata": {},
   "outputs": [],
   "source": [
    "void print(const int *beg, const int *end)\n",
    "{\n",
    "while (beg != end)\n",
    "    cout << *beg++ << endl;\n",
    "}"
   ]
  },
  {
   "cell_type": "code",
   "execution_count": 4,
   "id": "75fefde2-0f2f-4062-9804-f427a49cbd8d",
   "metadata": {},
   "outputs": [],
   "source": [
    "void print(const int ia[], size_t size)\n",
    "{\n",
    "    for (size_t i = 0; i != size; ++i) {\n",
    "        cout << ia[i] << endl;\n",
    "    }\n",
    "}"
   ]
  },
  {
   "cell_type": "code",
   "execution_count": 5,
   "id": "ba39cf8d-f07e-42dd-82f7-566bcd468a97",
   "metadata": {},
   "outputs": [],
   "source": [
    "void print(int (&arr)[10])\n",
    "{\n",
    "    for (auto elem : arr)\n",
    "        cout << elem << endl;\n",
    "}"
   ]
  },
  {
   "cell_type": "code",
   "execution_count": 6,
   "id": "edadc29c-7b3c-47f2-8702-b78e2461467b",
   "metadata": {},
   "outputs": [],
   "source": [
    "int i = 0, j[2] = {0, 1};"
   ]
  },
  {
   "cell_type": "code",
   "execution_count": 7,
   "id": "c50d282c-c6b7-4657-b0ee-fdd6ee7d97cb",
   "metadata": {},
   "outputs": [
    {
     "name": "stderr",
     "output_type": "stream",
     "text": [
      "input_line_14:2:2: error: no matching function for call to 'print'\n",
      " print(&i) // error: `i` doesn't match any of these functions\n",
      " ^~~~~\n",
      "input_line_9:1:6: note: candidate function not viable: no known conversion from 'int *' to 'const char *' for 1st argument\n",
      "void print(const char *cp)\n",
      "     ^\n",
      "input_line_12:1:6: note: candidate function not viable: no known conversion from 'int *' to 'int (&)[10]' for 1st argument\n",
      "void print(int (&arr)[10])\n",
      "     ^\n",
      "input_line_11:1:6: note: candidate function not viable: requires 2 arguments, but 1 was provided\n",
      "void print(const int ia[], size_t size)\n",
      "     ^\n",
      "input_line_10:1:6: note: candidate function not viable: requires 2 arguments, but 1 was provided\n",
      "void print(const int *beg, const int *end)\n",
      "     ^\n"
     ]
    },
    {
     "ename": "Interpreter Error",
     "evalue": "",
     "output_type": "error",
     "traceback": [
      "Interpreter Error: "
     ]
    }
   ],
   "source": [
    "print(&i) // error: `i` doesn't match any of these functions"
   ]
  },
  {
   "cell_type": "code",
   "execution_count": 8,
   "id": "36ca2ae4-4b0d-4ccf-8c6f-34db7785d98c",
   "metadata": {},
   "outputs": [
    {
     "name": "stdout",
     "output_type": "stream",
     "text": [
      "0\n",
      "1\n"
     ]
    }
   ],
   "source": [
    "print(j, 2)"
   ]
  },
  {
   "cell_type": "code",
   "execution_count": 9,
   "id": "894500ab-72fc-4161-a8b0-19214c11e041",
   "metadata": {},
   "outputs": [
    {
     "name": "stdout",
     "output_type": "stream",
     "text": [
      "0\n",
      "1\n"
     ]
    }
   ],
   "source": [
    "print(std::begin(j), std::end(j))"
   ]
  },
  {
   "cell_type": "markdown",
   "id": "208ab0a1-cbb8-4134-be15-aa607ba19c85",
   "metadata": {},
   "source": [
    "### Exercise 6.24:\n",
    "Explain the behavior of the following function. If there are problems in\n",
    "the code, explain what they are and how you might fix them.\n",
    "```\n",
    "void print(const int ia[10])\n",
    "{\n",
    "    for (size_t i = 0; i != 10; ++i)\n",
    "        cout << ia[i] << endl;\n",
    "}\n",
    "```"
   ]
  },
  {
   "cell_type": "markdown",
   "id": "d1ef8284-da69-4bc3-9c1f-38612bc29d69",
   "metadata": {},
   "source": [
    "A:\n",
    "\n",
    "`const int ia[10]` in the parameter doesn't make sure that `ia` will have 10 elements. We should pass additional argument describing the size of `ia`.\n",
    "\n",
    "```\n",
    "void print(const int ia[], const size_t rowSize)\n",
    "{\n",
    "    for (size_t i = 0; i != rowSize; ++i)\n",
    "        cout << ia[i] << endl;\n",
    "}\n",
    "```"
   ]
  },
  {
   "cell_type": "markdown",
   "id": "31227cbd-7698-4759-aace-d2dd3bce3be6",
   "metadata": {},
   "source": [
    "## EXERCISES SECTION 6.2.5\n"
   ]
  },
  {
   "cell_type": "markdown",
   "id": "e7f9567e-17a0-49da-bfe6-013b9b809cb3",
   "metadata": {},
   "source": [
    "### Exercise 6.25:\n",
    "Write a main function that takes two arguments. Concatenate the supplied arguments and print the resulting string."
   ]
  },
  {
   "cell_type": "code",
   "execution_count": 1,
   "id": "2efdb2be-1cc2-48a4-a209-c7610bb4c8bb",
   "metadata": {},
   "outputs": [
    {
     "name": "stdout",
     "output_type": "stream",
     "text": [
      "#include <iostream>\n",
      "#include <cstring>\n",
      "\n",
      "using std::cout, std::endl;\n",
      "\n",
      "int main(int argc, char *argv[])\n",
      "{\n",
      "    if (argc != 3) {\n",
      "        cout << \"Usage: \" << argv[0] << \" arg1 arg2\" << endl;\n",
      "        return -1;\n",
      "    }\n",
      "    char concatenated[100];\n",
      "    strcpy(concatenated, argv[1]);\n",
      "    strcat(concatenated, argv[2]);\n",
      "    cout << \"Concatenated string: \" << concatenated << endl;\n",
      "    return 0;\n",
      "}\n"
     ]
    }
   ],
   "source": [
    "! cat ex_06_25.cc"
   ]
  },
  {
   "cell_type": "code",
   "execution_count": 2,
   "id": "8b57d725-a1da-4be8-980b-cd4eee5e7675",
   "metadata": {},
   "outputs": [],
   "source": [
    "! g++ ex_06_25.cc -o prog.out -std=c++17"
   ]
  },
  {
   "cell_type": "code",
   "execution_count": 3,
   "id": "f20445d1-5ce2-48dd-85df-caa1a388d320",
   "metadata": {},
   "outputs": [
    {
     "name": "stdout",
     "output_type": "stream",
     "text": [
      "Concatenated string: testtest2\n"
     ]
    }
   ],
   "source": [
    "! ./prog.out test test2"
   ]
  },
  {
   "cell_type": "code",
   "execution_count": 5,
   "id": "a17dacfb-3e46-4d7e-bbed-0ddfb11513dc",
   "metadata": {},
   "outputs": [],
   "source": [
    "! rm prog.out"
   ]
  },
  {
   "cell_type": "markdown",
   "id": "f1dee2ef-a267-4431-8ec9-0b6d447a80d7",
   "metadata": {},
   "source": [
    "### Exercise 6.26:\n",
    "Write a program that accepts the options presented in this section. Print\n",
    "the values of the arguments passed to main."
   ]
  },
  {
   "cell_type": "code",
   "execution_count": 1,
   "id": "470ca7c3-b9a5-431b-b293-4b78d2e4b836",
   "metadata": {},
   "outputs": [
    {
     "name": "stdout",
     "output_type": "stream",
     "text": [
      "#include <iostream>\n",
      "\n",
      "using std::cout, std::endl;\n",
      "\n",
      "int main(int argc, char *argv[])\n",
      "{\n",
      "    for (int i = 1; i != argc; i++)\n",
      "        cout << argv[i] << endl;\n",
      "    return 0;\n",
      "}\n"
     ]
    }
   ],
   "source": [
    "! cat ex_06_26.cc"
   ]
  },
  {
   "cell_type": "code",
   "execution_count": 2,
   "id": "d898434e-9716-4758-bd76-47248e8f16f4",
   "metadata": {},
   "outputs": [],
   "source": [
    "! g++ ex_06_26.cc -o prog.out -std=c++17"
   ]
  },
  {
   "cell_type": "code",
   "execution_count": 3,
   "id": "4ebed184-0f76-48fd-932c-9c831d829b41",
   "metadata": {},
   "outputs": [
    {
     "name": "stdout",
     "output_type": "stream",
     "text": [
      "-d\n",
      "-o\n",
      "ofile\n",
      "data0\n"
     ]
    }
   ],
   "source": [
    "! ./prog.out -d -o ofile data0"
   ]
  },
  {
   "cell_type": "code",
   "execution_count": 4,
   "id": "b89198fb-0073-4ddd-874c-61b9cd48f7cc",
   "metadata": {},
   "outputs": [],
   "source": [
    "! rm prog.out"
   ]
  },
  {
   "cell_type": "markdown",
   "id": "344ac75c-85bb-4a84-b5d7-cb82df17cabd",
   "metadata": {},
   "source": [
    "## EXERCISES SECTION 6.2.6\n"
   ]
  },
  {
   "cell_type": "markdown",
   "id": "a859ec5a-5f4a-4433-902e-30e32e75ed77",
   "metadata": {},
   "source": [
    "### Exercise 6.27:\n",
    "Write a function that takes an `initializer_list<int>` and produces the sum of the elements in the list."
   ]
  },
  {
   "cell_type": "code",
   "execution_count": 1,
   "id": "e4daf010-ac00-47e0-a3f4-de17b80c3045",
   "metadata": {},
   "outputs": [],
   "source": [
    "int sum(std::initializer_list<int> list)\n",
    "{\n",
    "    int sum = 0;\n",
    "    for (int i : list)\n",
    "        sum += i;\n",
    "    return sum;\n",
    "}"
   ]
  },
  {
   "cell_type": "code",
   "execution_count": 2,
   "id": "3ecea6fb-2d17-4267-b1ae-494adb5eda78",
   "metadata": {},
   "outputs": [
    {
     "data": {
      "text/plain": [
       "31"
      ]
     },
     "execution_count": 2,
     "metadata": {},
     "output_type": "execute_result"
    }
   ],
   "source": [
    "sum({1, 2, 8, 20})"
   ]
  },
  {
   "cell_type": "markdown",
   "id": "510ac772-ff5b-4242-a5e1-06362dfb7ad8",
   "metadata": {},
   "source": [
    "### Exercise 6.28:\n",
    "In the second version of `error_msg` that has an `ErrCode` parameter,\n",
    "what is the type of elem in the `for` loop?"
   ]
  },
  {
   "cell_type": "markdown",
   "id": "475601fd-db51-41a1-a03b-61d43a410f53",
   "metadata": {},
   "source": [
    "A:\n",
    "\n",
    "`const string &`"
   ]
  },
  {
   "cell_type": "markdown",
   "id": "9123767c-c75d-4cc5-876b-ff7478912d71",
   "metadata": {},
   "source": [
    "### Exercise 6.29:\n",
    "When you use an `initializer_list` in a `range for` would you ever\n",
    "use a reference as the loop control variable? If so, why? If not, why not?"
   ]
  },
  {
   "cell_type": "markdown",
   "id": "8f71f8e4-7b66-4b7b-9771-efbc8bdf7107",
   "metadata": {},
   "source": [
    "A:\n",
    "\n",
    "Reference should be used if we don't need to work on a copy. Reference will make sure we don't waste computer resources on unnecessary copying. In case of `initializer_list`, we can always use a reference in `range for`"
   ]
  },
  {
   "cell_type": "markdown",
   "id": "0bc81a76-7987-4b13-97f6-e7d666edea88",
   "metadata": {},
   "source": [
    "## EXERCISES SECTION 6.3.2\n"
   ]
  },
  {
   "cell_type": "markdown",
   "id": "51e2ba66-8281-4d98-bf2e-d571709402bf",
   "metadata": {},
   "source": [
    "### Exercise 6.30:\n",
    "Compile the version of `str_subrange` as presented on page 223 to see\n",
    "what your compiler does with the indicated errors."
   ]
  },
  {
   "cell_type": "code",
   "execution_count": 1,
   "id": "941ef549-7d1d-42a7-98fc-ccfee555b43e",
   "metadata": {},
   "outputs": [],
   "source": [
    "#include <string>\n",
    "using std::string;"
   ]
  },
  {
   "cell_type": "code",
   "execution_count": 2,
   "id": "4d2f3ec0-636c-4527-9bf5-a0ccc5dbc2e9",
   "metadata": {},
   "outputs": [
    {
     "name": "stderr",
     "output_type": "stream",
     "text": [
      "input_line_9:13:13: error: non-void function 'str_subrange' should return a value [-Wreturn-type]\n",
      "            return; // error #1: no return value; compiler should detect this error\n",
      "            ^\n"
     ]
    },
    {
     "ename": "Interpreter Error",
     "evalue": "",
     "output_type": "error",
     "traceback": [
      "Interpreter Error: "
     ]
    }
   ],
   "source": [
    "// incorrect return values, this code will not compile\n",
    "bool str_subrange(const string &str1, const string &str2)\n",
    "{\n",
    "    // same sizes: return normal equality test\n",
    "    if (str1.size() == str2.size())\n",
    "        return str1 == str2; // ok: == returns bool\n",
    "    // find the size of the smaller string; conditional operator, see § 4.7 (p. 151)\n",
    "    auto size = (str1.size() < str2.size()) ? str1.size() : str2.size();\n",
    "    // look at each element up to the size of the smaller string\n",
    "    for (decltype(size) i = 0; i != size; ++i) {\n",
    "        if (str1[i] != str2[i])\n",
    "            return; // error #1: no return value; compiler should detect this error\n",
    "    }\n",
    "    // error #2: control might flow off the end of the function without a return\n",
    "    // the compiler might not detect this error\n",
    "}"
   ]
  },
  {
   "cell_type": "markdown",
   "id": "1ad456bb-ca25-4e52-a8ca-a065e2936fb2",
   "metadata": {},
   "source": [
    "### Exercise 6.31:\n",
    "When is it valid to return a reference? A reference to `const`?"
   ]
  },
  {
   "cell_type": "markdown",
   "id": "bc1604d9-4c1f-4df9-8cc6-35a1eaef51e6",
   "metadata": {},
   "source": [
    "A:\n",
    "\n",
    "It's ok to return a reference as long as it references an object created outside of the scope of the function. Same for reference to `const`, although the original object doesn't have to be a `const`. \n",
    "\n",
    "When returning reference to `const`, the returned value will NOT be an lvalue"
   ]
  },
  {
   "cell_type": "code",
   "execution_count": 1,
   "id": "8c4b3f14-d211-4b71-9a8f-65c791831b32",
   "metadata": {},
   "outputs": [],
   "source": [
    "int &double_int(int &i)\n",
    "{\n",
    "    i *= 2;\n",
    "    return i;\n",
    "}"
   ]
  },
  {
   "cell_type": "code",
   "execution_count": 6,
   "id": "12d6f1f0-ca73-4306-a6d6-5cca67a72858",
   "metadata": {},
   "outputs": [
    {
     "data": {
      "text/plain": [
       "4"
      ]
     },
     "execution_count": 6,
     "metadata": {},
     "output_type": "execute_result"
    }
   ],
   "source": [
    "int i = 2;\n",
    "double_int(i)"
   ]
  },
  {
   "cell_type": "code",
   "execution_count": 7,
   "id": "76ec3ae1-03da-4a9e-bbd0-0d8dbbe299ae",
   "metadata": {},
   "outputs": [
    {
     "data": {
      "text/plain": [
       "6"
      ]
     },
     "execution_count": 7,
     "metadata": {},
     "output_type": "execute_result"
    }
   ],
   "source": [
    "double_int(i) = 6;\n",
    "i"
   ]
  },
  {
   "cell_type": "code",
   "execution_count": 3,
   "id": "ffef3cac-03ab-4bbc-88ec-4ae697f88542",
   "metadata": {},
   "outputs": [],
   "source": [
    "const int &double_int_const(int &i)\n",
    "{\n",
    "    i *= 2;\n",
    "    return i;\n",
    "}"
   ]
  },
  {
   "cell_type": "code",
   "execution_count": 4,
   "id": "4e93b0d7-4680-4207-8510-543621bdb3bb",
   "metadata": {},
   "outputs": [
    {
     "data": {
      "text/plain": [
       "4"
      ]
     },
     "execution_count": 4,
     "metadata": {},
     "output_type": "execute_result"
    }
   ],
   "source": [
    "int i = 2;\n",
    "const int j = double_int_const(i);\n",
    "j"
   ]
  },
  {
   "cell_type": "code",
   "execution_count": 8,
   "id": "120e659a-1e76-4885-be54-9fbaaff5aa8d",
   "metadata": {},
   "outputs": [
    {
     "name": "stderr",
     "output_type": "stream",
     "text": [
      "input_line_21:2:22: error: cannot assign to return value because function 'double_int_const' returns a const value\n",
      " double_int_const(i) = 6  // error: not an lvalue\n",
      " ~~~~~~~~~~~~~~~~~~~ ^\n",
      "input_line_12:1:7: note: function 'double_int_const' which returns const-qualified type 'const int &' declared here\n",
      "const int &double_int_const(int &i)\n",
      "      ^~~~~\n"
     ]
    },
    {
     "ename": "Interpreter Error",
     "evalue": "",
     "output_type": "error",
     "traceback": [
      "Interpreter Error: "
     ]
    }
   ],
   "source": [
    "double_int_const(i) = 6  // error: not an lvalue"
   ]
  },
  {
   "cell_type": "markdown",
   "id": "dac94190-1235-4fa5-aca8-d4ab4ff4d7a7",
   "metadata": {},
   "source": [
    "### Exercise 6.32:\n",
    "Indicate whether the following function is legal. If so, explain what it\n",
    "does; if not, correct any errors and then explain it.\n",
    "```\n",
    "int &get(int *arry, int index) { return arry[index]; }\n",
    "int main() {\n",
    "    int ia[10];\n",
    "    for (int i = 0; i != 10; ++i)\n",
    "        get(ia, i) = i;\n",
    "}\n",
    "```"
   ]
  },
  {
   "cell_type": "markdown",
   "id": "4d220f50-fc8b-42de-8918-558cbd57c8d5",
   "metadata": {},
   "source": [
    "A:\n",
    "\n",
    "legal, `get` returns an lvalue to which we can assign `i`\n",
    "\n",
    "as a result `ia` will have values from 0 to 9"
   ]
  },
  {
   "cell_type": "markdown",
   "id": "90ff1ebe-df43-49ab-890a-ab3bbb8d7af5",
   "metadata": {},
   "source": [
    "### Exercise 6.33:\n",
    "Write a recursive function to print the contents of a `vector`."
   ]
  },
  {
   "cell_type": "code",
   "execution_count": 1,
   "id": "3cfea423-c144-4602-9d6b-8271c4a2d118",
   "metadata": {},
   "outputs": [],
   "source": [
    "#include <vector>\n",
    "#include <iostream>\n",
    "\n",
    "using std::vector, std::cout, std::endl;\n",
    "using Iter = vector<int>::iterator;"
   ]
  },
  {
   "cell_type": "code",
   "execution_count": 2,
   "id": "4959e5f9-1fe5-4889-9b8a-7f7fa278d423",
   "metadata": {},
   "outputs": [],
   "source": [
    "void print(Iter begin, Iter end)\n",
    "{\n",
    "    if (begin == end)\n",
    "        return;\n",
    "    cout << *begin << endl;\n",
    "    print(++begin, end);\n",
    "}"
   ]
  },
  {
   "cell_type": "code",
   "execution_count": 3,
   "id": "bd2eb53f-f7c2-432a-a1ec-99e9ac62fa7f",
   "metadata": {},
   "outputs": [
    {
     "name": "stdout",
     "output_type": "stream",
     "text": [
      "1\n",
      "2\n",
      "3\n",
      "5\n",
      "8\n",
      "11\n"
     ]
    }
   ],
   "source": [
    "vector<int> v = {1, 2, 3, 5, 8, 11};\n",
    "print(v.begin(), v.end());"
   ]
  },
  {
   "cell_type": "markdown",
   "id": "81c779fa-cd99-44f9-a8cf-9fe03626f7fe",
   "metadata": {},
   "source": [
    "### Exercise 6.34:\n",
    "What would happen if the stopping condition in `factorial` were\n",
    "```\n",
    "if (val != 0)\n",
    "```"
   ]
  },
  {
   "cell_type": "markdown",
   "id": "928e61a0-d7d7-48c5-9186-de624279e646",
   "metadata": {},
   "source": [
    "A:\n",
    "\n",
    "`factorial` would work fine as long as we don't provide a negative argument"
   ]
  },
  {
   "cell_type": "code",
   "execution_count": 1,
   "id": "7417d856-cf02-42ec-bc22-394f6c560db4",
   "metadata": {},
   "outputs": [],
   "source": [
    "int factorial(int val)\n",
    "{\n",
    "    if (val != 0)\n",
    "        return factorial(val-1) * val;\n",
    "    return 1;\n",
    "}"
   ]
  },
  {
   "cell_type": "code",
   "execution_count": 2,
   "id": "6da814d2-422a-43e6-bd2c-5bc4e2b91531",
   "metadata": {},
   "outputs": [
    {
     "data": {
      "text/plain": [
       "120"
      ]
     },
     "execution_count": 2,
     "metadata": {},
     "output_type": "execute_result"
    }
   ],
   "source": [
    "factorial(5)"
   ]
  },
  {
   "cell_type": "code",
   "execution_count": 3,
   "id": "1973f342-b88c-4683-9437-d616d574047f",
   "metadata": {},
   "outputs": [
    {
     "data": {
      "text/plain": [
       "1"
      ]
     },
     "execution_count": 3,
     "metadata": {},
     "output_type": "execute_result"
    }
   ],
   "source": [
    "factorial(0)"
   ]
  },
  {
   "cell_type": "code",
   "execution_count": null,
   "id": "93ee93fd-d59c-45ea-9710-8675425f86e0",
   "metadata": {},
   "outputs": [],
   "source": [
    "factorial(-1) // loop never ends"
   ]
  },
  {
   "cell_type": "markdown",
   "id": "d1690f52-e1ba-4708-b613-ac5c4e6176ce",
   "metadata": {},
   "source": [
    "### Exercise 6.35:\n",
    "In the call to `factorial`, why did we pass `val - 1` rather than `val--`?"
   ]
  },
  {
   "cell_type": "markdown",
   "id": "58e92989-0607-47f1-ab40-ab68898973c4",
   "metadata": {},
   "source": [
    "A:\n",
    "\n",
    "the order of whether `factorial(val--)` or `val` in `factorial(val--) * val` would be evaluated first is undefined."
   ]
  },
  {
   "cell_type": "markdown",
   "id": "fab06e22-4e36-4864-ab65-ada8be88b0ec",
   "metadata": {},
   "source": [
    "## EXERCISES SECTION 6.3.3\n"
   ]
  },
  {
   "cell_type": "markdown",
   "id": "0b32f364-5f35-4475-b5ac-49395116b594",
   "metadata": {},
   "source": [
    "### Exercise 6.36:\n",
    "Write the declaration for a function that returns a reference to an array\n",
    "of ten strings, without using either a trailing return, decltype, or a type alias."
   ]
  },
  {
   "cell_type": "code",
   "execution_count": 1,
   "id": "12a99db6-ae4d-468e-8aa4-18c0d41af7e9",
   "metadata": {},
   "outputs": [],
   "source": [
    "#include <string>\n",
    "std::string (&func())[10]"
   ]
  },
  {
   "cell_type": "markdown",
   "id": "8815dc4c-5189-4c2a-b347-77922acc8745",
   "metadata": {},
   "source": [
    "### Exercise 6.37:\n",
    "Write three additional declarations for the function in the previous exercise. One should use a type alias, one should use a trailing return, and the third\n",
    "should use decltype. Which form do you prefer and why?"
   ]
  },
  {
   "cell_type": "code",
   "execution_count": 1,
   "id": "cdea6f9d-4079-4b90-b7a4-15bd91c399a4",
   "metadata": {},
   "outputs": [],
   "source": [
    "#include <string>\n",
    "using std::string;\n",
    "using sarray = string[10];\n",
    "\n",
    "sarray &func();"
   ]
  },
  {
   "cell_type": "code",
   "execution_count": 1,
   "id": "e1efef32-9925-455f-8ad1-83aa957b71b8",
   "metadata": {},
   "outputs": [],
   "source": [
    "#include <string>\n",
    "using std::string;\n",
    "\n",
    "auto func() -> string(&)[10];"
   ]
  },
  {
   "cell_type": "code",
   "execution_count": 1,
   "id": "1761de6e-a101-415c-8232-6264f33b7d81",
   "metadata": {},
   "outputs": [],
   "source": [
    "#include <string>\n",
    "using std::string;\n",
    "string s[10]; \n",
    "\n",
    "decltype(s) &func();"
   ]
  },
  {
   "cell_type": "markdown",
   "id": "133507c3-c9c7-4e30-81b5-5475cfd32413",
   "metadata": {},
   "source": [
    "### Exercise 6.38:\n",
    "Revise the arrPtr function on to return a reference to the array.\n",
    "```\n",
    "int odd[] = {1,3,5,7,9};\n",
    "int even[] = {0,2,4,6,8};\n",
    "// returns a pointer to an array of five int elements\n",
    "decltype(odd) *arrPtr(int i)\n",
    "{\n",
    "    return (i % 2) ? &odd : &even; // returns a pointer to the array\n",
    "}\n",
    "```"
   ]
  },
  {
   "cell_type": "markdown",
   "id": "78bd5810-d211-4ad2-b60a-482fd95641f5",
   "metadata": {},
   "source": [
    "A:\n",
    "\n",
    "using g++ instead of xeus-cling because of bugs with arrPtr declaration in the interpreter"
   ]
  },
  {
   "cell_type": "code",
   "execution_count": 1,
   "id": "8ac6ba64-69d1-4f26-9620-5d91797f9a0f",
   "metadata": {},
   "outputs": [
    {
     "name": "stdout",
     "output_type": "stream",
     "text": [
      "#include <iostream>\n",
      "using std::cout, std::endl;\n",
      "\n",
      "int odd[] = {1,3,5,7,9};\n",
      "int even[] = {0,2,4,6,8};\n",
      "\n",
      "int (&arrPtr(int i))[]\n",
      "{\n",
      "    return (i % 2) ? odd : even;\n",
      "}\n",
      "\n",
      "int main()\n",
      "{\n",
      "    int (&arr)[] = arrPtr(1);\n",
      "    for (int i = 0; i != 5; i++)\n",
      "        cout << arr[i] << \" \";\n",
      "    cout << endl;\n",
      "    cout << \"-----------------\" << endl;\n",
      "    int (&arr2)[] = arrPtr(2);\n",
      "    for (int i = 0; i != 5; i++)\n",
      "        cout << arr2[i] << \" \";\n",
      "    cout << endl;\n",
      "    return 0;\n",
      "}\n"
     ]
    }
   ],
   "source": [
    "! cat ex_06_38.cc"
   ]
  },
  {
   "cell_type": "code",
   "execution_count": 2,
   "id": "a2f9aeae-ca8c-4b93-b13e-4c5cdef370d5",
   "metadata": {},
   "outputs": [],
   "source": [
    "! g++ ex_06_38.cc -o prog.out -std=c++17"
   ]
  },
  {
   "cell_type": "code",
   "execution_count": 3,
   "id": "7603a1f5-c9f3-421a-a4e7-43a0f1d1400f",
   "metadata": {},
   "outputs": [
    {
     "name": "stdout",
     "output_type": "stream",
     "text": [
      "1 3 5 7 9 \n",
      "-----------------\n",
      "0 2 4 6 8 \n"
     ]
    }
   ],
   "source": [
    "! ./prog.out -d -o ofile data0"
   ]
  },
  {
   "cell_type": "code",
   "execution_count": 4,
   "id": "cbb9c471-2759-4d14-b079-82757ab4d518",
   "metadata": {},
   "outputs": [],
   "source": [
    "! rm prog.out"
   ]
  },
  {
   "cell_type": "markdown",
   "id": "b86ca625-e572-4f4c-889f-4375e1d9d2fc",
   "metadata": {},
   "source": [
    "## EXERCISES SECTION 6.4\n"
   ]
  },
  {
   "cell_type": "markdown",
   "id": "5e18f579-fda3-4bcf-8e17-88453ce3d637",
   "metadata": {},
   "source": [
    "### Exercise 6.39:\n",
    "Explain the effect of the second declaration in each one of the following\n",
    "sets of declarations. Indicate which, if any, are illegal.  \n",
    "(a)\n",
    "```\n",
    "int calc(int, int);\n",
    "int calc(const int, const int);\n",
    "```\n",
    "(b)\n",
    "```\n",
    "int get();\n",
    "double get();\n",
    "```\n",
    "(c)\n",
    "```\n",
    "int *reset(int *);\n",
    "double *reset(double *);\n",
    "```"
   ]
  },
  {
   "cell_type": "markdown",
   "id": "a353bf64-5ed2-4738-8231-d3681f93c15e",
   "metadata": {},
   "source": [
    "A:\n",
    "\n",
    "a) legal, second calc redeclares first\n",
    "\n",
    "b) illegal, only return type differs\n",
    "\n",
    "c) legal, second reset overloads first"
   ]
  },
  {
   "cell_type": "markdown",
   "id": "233e2134-0a70-428c-8b1f-5f2c2ad1e3ba",
   "metadata": {},
   "source": [
    "## EXERCISES SECTION 6.5.1\n"
   ]
  },
  {
   "cell_type": "markdown",
   "id": "30dbaccb-a1e8-4752-b055-0ac2dda72d7c",
   "metadata": {},
   "source": [
    "### Exercise 6.40:\n",
    "Which, if either, of the following declarations are errors? Why?  \n",
    "(a) `int ff(int a, int b = 0, int c = 0);`  \n",
    "(b) `char *init(int ht = 24, int wd, char bckgrnd);`  "
   ]
  },
  {
   "cell_type": "markdown",
   "id": "ccb947de-d1d3-4046-9731-e58730a1ce99",
   "metadata": {},
   "source": [
    "A:\n",
    "\n",
    "a) legal  \n",
    "b) error, parameters with default argument must come after parameters without default"
   ]
  },
  {
   "cell_type": "markdown",
   "id": "453a634e-bce9-44fb-ab31-c3c9e5b26c13",
   "metadata": {},
   "source": [
    "### Exercise 6.41:\n",
    "Which, if any, of the following calls are illegal? Why? Which, if any, are\n",
    "legal but unlikely to match the programmer’s intent? Why?\n",
    "```\n",
    "char *init(int ht, int wd = 80, char bckgrnd = ’ ’);\n",
    "```\n",
    "(a) `init();`  \n",
    "(b) `init(24,10);`  \n",
    "(c) `init(14, ’*’);`"
   ]
  },
  {
   "cell_type": "markdown",
   "id": "f4a7c90d-27a8-4a80-aa47-3764b5ce11a7",
   "metadata": {},
   "source": [
    "A:\n",
    "\n",
    "a) illegal, `ht` argument not passed  \n",
    "b) legal  \n",
    "c) legal, but `wd` will receive `'*'`, instead of `bckgrnd`"
   ]
  },
  {
   "cell_type": "markdown",
   "id": "9560098c-8703-4011-b19e-759d75bee598",
   "metadata": {},
   "source": [
    "### Exercise 6.42:\n",
    "Give the second parameter of `make_plural` (§ 6.3.2, p. 224)\n",
    "```\n",
    "string make_plural(size_t ctr, const string &word, const string &ending)\n",
    "{\n",
    "    return (ctr > 1) ? word + ending : word;\n",
    "}\n",
    "```\n",
    "a default\n",
    "argument of `'s'`. Test your program by printing singular and plural versions of the\n",
    "words `success` and `failure`."
   ]
  },
  {
   "cell_type": "code",
   "execution_count": 1,
   "id": "b7c76385-9aa8-4508-9464-2fcaa108d431",
   "metadata": {},
   "outputs": [],
   "source": [
    "#include <string>\n",
    "using std::string;"
   ]
  },
  {
   "cell_type": "code",
   "execution_count": 2,
   "id": "86cbfea9-40f0-4abe-afe0-785c9d6da3eb",
   "metadata": {},
   "outputs": [],
   "source": [
    "string make_plural(size_t ctr, const string &word, const string &ending = \"s\")\n",
    "{\n",
    "    return (ctr > 1) ? word + ending : word;\n",
    "}"
   ]
  },
  {
   "cell_type": "code",
   "execution_count": 8,
   "id": "0ea5d22d-e6af-4151-8a13-34cdb1cb114e",
   "metadata": {},
   "outputs": [
    {
     "data": {
      "text/plain": [
       "\"failure\""
      ]
     },
     "execution_count": 8,
     "metadata": {},
     "output_type": "execute_result"
    }
   ],
   "source": [
    "make_plural(1, \"failure\")"
   ]
  },
  {
   "cell_type": "code",
   "execution_count": 9,
   "id": "c1d4ee05-9550-4e57-b06c-be7775ab6fbe",
   "metadata": {},
   "outputs": [
    {
     "data": {
      "text/plain": [
       "\"failures\""
      ]
     },
     "execution_count": 9,
     "metadata": {},
     "output_type": "execute_result"
    }
   ],
   "source": [
    "make_plural(2, \"failure\")"
   ]
  },
  {
   "cell_type": "code",
   "execution_count": 10,
   "id": "da76da48-1420-4f8c-9654-9351e766f3c3",
   "metadata": {},
   "outputs": [
    {
     "data": {
      "text/plain": [
       "\"success\""
      ]
     },
     "execution_count": 10,
     "metadata": {},
     "output_type": "execute_result"
    }
   ],
   "source": [
    "make_plural(1, \"success\")"
   ]
  },
  {
   "cell_type": "code",
   "execution_count": 12,
   "id": "4296c759-779e-4a08-a995-695c99f438b3",
   "metadata": {},
   "outputs": [
    {
     "data": {
      "text/plain": [
       "\"successes\""
      ]
     },
     "execution_count": 12,
     "metadata": {},
     "output_type": "execute_result"
    }
   ],
   "source": [
    "make_plural(2, \"success\", \"es\")"
   ]
  },
  {
   "cell_type": "markdown",
   "id": "9305de30-bb07-4952-a14b-9cbc49b6ab94",
   "metadata": {},
   "source": [
    "## EXERCISES SECTION 6.5.2\n"
   ]
  },
  {
   "cell_type": "markdown",
   "id": "60b0f46f-e499-4443-8798-33322bbe9482",
   "metadata": {},
   "source": [
    "### Exercise 6.43:\n",
    "Which one of the following declarations and definitions would you put\n",
    "in a header? In a source file? Explain why.  \n",
    "(a) `inline bool eq(const BigInt&, const BigInt&) {...}`  \n",
    "(b) `void putValues(int *arr, int size);`"
   ]
  },
  {
   "cell_type": "markdown",
   "id": "736c0d3e-485e-4bb3-9e41-8edf5fce704a",
   "metadata": {},
   "source": [
    "A:\n",
    "\n",
    "a) in a header file as it's an inline function  \n",
    "b) in a header as it's a declaration of a function without definition"
   ]
  },
  {
   "cell_type": "markdown",
   "id": "491f1641-5cc0-48ac-802e-f246c987fac5",
   "metadata": {},
   "source": [
    "### Exercise 6.44:\n",
    "Rewrite the `isShorter` function from § 6.2.2 (p. 211)\n",
    "```\n",
    "bool isShorter(const string &s1, const string &s2)\n",
    "{\n",
    "    return s1.size() < s2.size();\n",
    "}\n",
    "```\n",
    "to be `inline`.\n"
   ]
  },
  {
   "cell_type": "code",
   "execution_count": 1,
   "id": "38ed69b1-0ec7-4f5c-b5d5-03f2eda650cd",
   "metadata": {},
   "outputs": [
    {
     "name": "stdout",
     "output_type": "stream",
     "text": [
      "#include <iostream>\n",
      "#include <string>\n",
      "using std::cout, std::endl, std::string;\n",
      "\n",
      "inline bool isShorter(const string &s1, const string &s2)\n",
      "{\n",
      "    return s1.size() < s2.size();\n",
      "}\n",
      "\n",
      "int main()\n",
      "{\n",
      "    string s1 = \"2137xd\", s2 = \"1337\";\n",
      "    cout << s1 << \" is \" << (isShorter(s1, s2) ? \"shorter\" : \"longer\") << \" than \" << s2 << endl;\n",
      "    return 0;\n",
      "}\n"
     ]
    }
   ],
   "source": [
    "! cat ex_06_44.cc"
   ]
  },
  {
   "cell_type": "code",
   "execution_count": 2,
   "id": "79ecc8fc-fe8b-4968-91ab-dcf2e6fa4fda",
   "metadata": {},
   "outputs": [],
   "source": [
    "! g++ ex_06_44.cc -o prog.out -std=c++17"
   ]
  },
  {
   "cell_type": "code",
   "execution_count": 3,
   "id": "84412ebb-ba0c-49fd-8c3d-40edb3d87acd",
   "metadata": {},
   "outputs": [
    {
     "name": "stdout",
     "output_type": "stream",
     "text": [
      "2137xd is longer than 1337\n"
     ]
    }
   ],
   "source": [
    "! ./prog.out"
   ]
  },
  {
   "cell_type": "code",
   "execution_count": 4,
   "id": "20b70c99-e8a8-4a6a-86c9-86c570935072",
   "metadata": {},
   "outputs": [],
   "source": [
    "! rm prog.out"
   ]
  },
  {
   "cell_type": "markdown",
   "id": "842c2cb9-cfcb-4028-94d8-1e9a1869eac6",
   "metadata": {},
   "source": [
    "### Exercise 6.45:\n",
    "Review the programs you’ve written for the earlier exercises and decide\n",
    "whether they should be defined as `inline`. If so, do so. If not, explain why they\n",
    "should not be `inline`."
   ]
  },
  {
   "cell_type": "markdown",
   "id": "de0b7ced-5e5d-4578-9ab4-2fefa7aaf5cb",
   "metadata": {},
   "source": [
    "A:\n",
    "\n",
    "long or recursive functions should not be inline, only small ones that are called frequently"
   ]
  },
  {
   "cell_type": "markdown",
   "id": "b3a1b364-a43a-4b6d-9651-4e0adf72db73",
   "metadata": {},
   "source": [
    "### Exercise 6.46:\n",
    "Would it be possible to define `isShorter` as a `constexpr`? If so, do so. If not, explain why not."
   ]
  },
  {
   "cell_type": "markdown",
   "id": "ac2095a6-1211-4754-892e-eec891deb28c",
   "metadata": {},
   "source": [
    "A:\n",
    "\n",
    "`isShorter`'s parameters are not literal types, so it can't be a `constexpr`"
   ]
  },
  {
   "cell_type": "markdown",
   "id": "24683832-42e5-48f9-b1eb-70dcce849391",
   "metadata": {},
   "source": [
    "## EXERCISES SECTION 6.5.3\n"
   ]
  },
  {
   "cell_type": "markdown",
   "id": "d4923fda-9f2e-4ced-bc92-43ac207acc06",
   "metadata": {},
   "source": [
    "### Exercise 6.47:\n",
    "Revise the program you wrote in the exercises in § 6.3.2 (p. 228) that\n",
    "used recursion to print the contents of a `vector` to conditionally print information\n",
    "about its execution. For example, you might print the size of the `vector` on each call.\n",
    "Compile and run the program with debugging turned on and again with it turned off."
   ]
  },
  {
   "cell_type": "code",
   "execution_count": 29,
   "id": "ff519117-0b87-4af4-bd7a-6edbcea07ca1",
   "metadata": {},
   "outputs": [
    {
     "name": "stdout",
     "output_type": "stream",
     "text": [
      "#include <vector>\n",
      "#include <iostream>\n",
      "\n",
      "using std::vector, std::cout, std::endl;\n",
      "using Iter = vector<int>::iterator;\n",
      "\n",
      "void print(Iter beg, Iter end)\n",
      "{\n",
      "    if (beg != end)\n",
      "    {\n",
      "#ifndef NDEBUG\n",
      "        cout << endl << __TIME__ << \" \" << \"DEBUG: vector size is \" << end - beg << endl;\n",
      "#endif\n",
      "        cout << *beg << \" \";\n",
      "        print(++beg, end);\n",
      "    }\n",
      "}\n",
      "\n",
      "int main()\n",
      "{\n",
      "    vector<int> v = {1, 2, 3, 5, 8, 13, 21};\n",
      "    print(v.begin(), v.end());\n",
      "    return 0;\n",
      "}\n"
     ]
    }
   ],
   "source": [
    "! cat ex_06_47.cc"
   ]
  },
  {
   "cell_type": "code",
   "execution_count": 30,
   "id": "29ba74dd-efd9-4be5-8033-893ca77869ae",
   "metadata": {},
   "outputs": [],
   "source": [
    "! g++ ex_06_47.cc -o prog.out -std=c++17 -D NDEBUG"
   ]
  },
  {
   "cell_type": "code",
   "execution_count": 31,
   "id": "e7c319aa-aa37-429b-aea7-ab9d3b7fff19",
   "metadata": {},
   "outputs": [
    {
     "name": "stdout",
     "output_type": "stream",
     "text": [
      "1 2 3 5 8 13 21 "
     ]
    }
   ],
   "source": [
    "! ./prog.out"
   ]
  },
  {
   "cell_type": "code",
   "execution_count": 32,
   "id": "b40677e9-b096-4445-89a2-2e94314edda0",
   "metadata": {},
   "outputs": [],
   "source": [
    "! rm prog.out"
   ]
  },
  {
   "cell_type": "code",
   "execution_count": 33,
   "id": "41b24d14-260f-446c-a941-20ade2ad40da",
   "metadata": {},
   "outputs": [],
   "source": [
    "! g++ ex_06_47.cc -o prog.out -std=c++17"
   ]
  },
  {
   "cell_type": "code",
   "execution_count": 34,
   "id": "01e28ed2-cbd9-4549-8171-c53ccd64373a",
   "metadata": {},
   "outputs": [
    {
     "name": "stdout",
     "output_type": "stream",
     "text": [
      "\n",
      "18:09:37 DEBUG: vector size is 7\n",
      "1 \n",
      "18:09:37 DEBUG: vector size is 6\n",
      "2 \n",
      "18:09:37 DEBUG: vector size is 5\n",
      "3 \n",
      "18:09:37 DEBUG: vector size is 4\n",
      "5 \n",
      "18:09:37 DEBUG: vector size is 3\n",
      "8 \n",
      "18:09:37 DEBUG: vector size is 2\n",
      "13 \n",
      "18:09:37 DEBUG: vector size is 1\n",
      "21 "
     ]
    }
   ],
   "source": [
    "! ./prog.out"
   ]
  },
  {
   "cell_type": "code",
   "execution_count": 35,
   "id": "abca86d3-5306-487e-9101-ce133ae24618",
   "metadata": {},
   "outputs": [],
   "source": [
    "! rm prog.out"
   ]
  },
  {
   "cell_type": "markdown",
   "id": "f9dec040-d38a-4c39-bb25-57243f8725af",
   "metadata": {},
   "source": [
    "### Exercise 6.48:\n",
    "Explain what this loop does and whether it is a good use of `assert`:\n",
    "```\n",
    "string s;\n",
    "while (cin >> s && s != sought) { } // empty body\n",
    "assert(cin);\n",
    "```"
   ]
  },
  {
   "cell_type": "markdown",
   "id": "806851a1-26e3-46cb-92cf-5d5133d7da95",
   "metadata": {},
   "source": [
    "A:\n",
    "\n",
    "`while` loops runs until we find five the sought string as input \n",
    "\n",
    "`assert` is not used correctly here, as `cin` can easily be in a state where assertion would fail"
   ]
  },
  {
   "cell_type": "markdown",
   "id": "626e48e8-9b01-491a-8570-44ed13e8d8da",
   "metadata": {},
   "source": [
    "## EXERCISES SECTION 6.6\n"
   ]
  },
  {
   "cell_type": "markdown",
   "id": "6312dced-c50d-4a86-9c28-00ef774995bc",
   "metadata": {},
   "source": [
    "### Exercise 6.49:\n",
    "What is a candidate function? What is a viable function?"
   ]
  },
  {
   "cell_type": "markdown",
   "id": "c4562d2d-cf84-4e3c-9516-031bdb1104a7",
   "metadata": {},
   "source": [
    "A:\n",
    "\n",
    "Candidate function has the same name as the called function and it's declaration is visible when it's called.\n",
    "\n",
    "Viable function has parameters that match the arguments of the call."
   ]
  },
  {
   "cell_type": "markdown",
   "id": "9194a8e5-d27c-40f3-a099-44f61c2b5c44",
   "metadata": {},
   "source": [
    "### Exercise 6.50:\n",
    "\n",
    "Given the declarations for `f` from page 242, list the viable functions, if\n",
    "any for each of the following calls. Indicate which function is the best match, or if the\n",
    "call is illegal whether there is no match or why the call is ambiguous.  \n",
    "(a) `f(2.56, 42)`  \n",
    "(b) `f(42)`  \n",
    "(c) `f(42, 0)`  \n",
    "(d) `f(2.56, 3.14)`  "
   ]
  },
  {
   "cell_type": "markdown",
   "id": "effc3d2b-c5f0-40c2-ab26-ab74f46e6ba7",
   "metadata": {},
   "source": [
    "A:\n",
    "\n",
    "a) \n",
    "```\n",
    "void f(int, int);\n",
    "void f(double, double = 3.14);\n",
    "```\n",
    "illegal, ambiguous, 2.56 matches second `f`, while 42 matches first `f`\n",
    "\n",
    "b) \n",
    "```\n",
    "void f(int); // <== best match\n",
    "void f(double, double = 3.14);\n",
    "```\n",
    "\n",
    "c) \n",
    "```\n",
    "void f(int, int); // <== best match\n",
    "void f(double, double = 3.14);\n",
    "```\n",
    "\n",
    "d) \n",
    "```\n",
    "void f(int, int);\n",
    "void f(double, double = 3.14); // <== best match\n",
    "```"
   ]
  },
  {
   "cell_type": "markdown",
   "id": "da2a2d4f-0ab4-4cf6-a8f5-3c9779122eb8",
   "metadata": {},
   "source": [
    "### Exercise 6.51:\n",
    "Write all four versions of `f`. Each function should print a distinguishing\n",
    "message. Check your answers for the previous exercise. If your answers were\n",
    "incorrect, study this section until you understand why your answers were wrong."
   ]
  },
  {
   "cell_type": "code",
   "execution_count": 1,
   "id": "617159f7-5484-4bbb-9b97-4712c9702e08",
   "metadata": {},
   "outputs": [],
   "source": [
    "#include <iostream>\n",
    "using std::cout, std::endl;"
   ]
  },
  {
   "cell_type": "code",
   "execution_count": 2,
   "id": "4d7c8387-84db-4cbe-99c8-e01ac8833f7a",
   "metadata": {},
   "outputs": [],
   "source": [
    "void f()\n",
    "{\n",
    "    cout << \"no arguments\" << endl;\n",
    "}"
   ]
  },
  {
   "cell_type": "code",
   "execution_count": 3,
   "id": "c7ae7a23-351b-47a1-a703-d55604d81040",
   "metadata": {},
   "outputs": [],
   "source": [
    "void f(int)\n",
    "{\n",
    "    cout << \"single int argument\" << endl;\n",
    "}"
   ]
  },
  {
   "cell_type": "code",
   "execution_count": 4,
   "id": "9c7da536-1c74-4930-91bc-20fa03762586",
   "metadata": {},
   "outputs": [],
   "source": [
    "void f(int, int)\n",
    "{\n",
    "    cout << \"double int arguments\" << endl;\n",
    "}"
   ]
  },
  {
   "cell_type": "code",
   "execution_count": 5,
   "id": "087302b8-b9f8-48db-8814-4e4d30bcffc8",
   "metadata": {},
   "outputs": [],
   "source": [
    "void f(double, double = 3.14)\n",
    "{\n",
    "    cout << \"double double arguments\" << endl;\n",
    "}"
   ]
  },
  {
   "cell_type": "code",
   "execution_count": 6,
   "id": "2130cb57-72d7-426d-96ce-4d489fae89bc",
   "metadata": {},
   "outputs": [
    {
     "name": "stderr",
     "output_type": "stream",
     "text": [
      "input_line_13:2:2: error: call to 'f' is ambiguous\n",
      " f(2.56, 42)\n",
      " ^\n",
      "input_line_11:1:6: note: candidate function\n",
      "void f(int, int)\n",
      "     ^\n",
      "input_line_12:1:6: note: candidate function\n",
      "void f(double, double = 3.14)\n",
      "     ^\n"
     ]
    },
    {
     "ename": "Interpreter Error",
     "evalue": "",
     "output_type": "error",
     "traceback": [
      "Interpreter Error: "
     ]
    }
   ],
   "source": [
    "f(2.56, 42);"
   ]
  },
  {
   "cell_type": "code",
   "execution_count": 7,
   "id": "7b276bc6-65b5-4f43-9507-48810409fb4b",
   "metadata": {},
   "outputs": [
    {
     "name": "stdout",
     "output_type": "stream",
     "text": [
      "single int argument\n",
      "double int arguments\n",
      "double double arguments\n"
     ]
    }
   ],
   "source": [
    "f(42);\n",
    "f(42, 0);\n",
    "f(2.56, 3.14);"
   ]
  },
  {
   "cell_type": "markdown",
   "id": "e46ba298-16fb-49d0-8a5e-72bec8348cbf",
   "metadata": {},
   "source": [
    "## EXERCISES SECTION 6.6.1\n"
   ]
  },
  {
   "cell_type": "markdown",
   "id": "60a30290-626e-4f8b-ab16-5809a5f33b06",
   "metadata": {},
   "source": [
    "### Exercise 6.52:\n",
    "Given the following declarations,\n",
    "```\n",
    "void manip(int, int);\n",
    "double dobj;\n",
    "```\n",
    "what is the rank (§ 6.6.1, p. 245) of each conversion in the following calls?  \n",
    "(a) `manip('a', 'z');`  \n",
    "(b) `manip(55.4, dobj);`  "
   ]
  },
  {
   "cell_type": "markdown",
   "id": "86247df1-2754-4027-b559-bea7c21445e5",
   "metadata": {},
   "source": [
    "A:\n",
    "\n",
    "a) both promotion conversions (rank 3)  \n",
    "c) both arithmetic conversions (rank 4)"
   ]
  },
  {
   "cell_type": "markdown",
   "id": "06b478ca-c582-49eb-94c8-753cab159397",
   "metadata": {},
   "source": [
    "### Exercise 6.53:\n",
    "Explain the effect of the second declaration in each one of the following\n",
    "sets of declarations. Indicate which, if any, are illegal.  \n",
    "(a)\n",
    "```\n",
    "int calc(int&, int&);\n",
    "int calc(const int&, const int&);\n",
    "```\n",
    "(b) \n",
    "```\n",
    "int calc(char*, char*);\n",
    "int calc(const char*, const char*);\n",
    "```\n",
    "(c)\n",
    "```\n",
    "int calc(char*, char*);\n",
    "int calc(char* const, char* const);\n",
    "```"
   ]
  },
  {
   "cell_type": "markdown",
   "id": "3f8ba4d4-61ba-4745-a786-ca3608c388b4",
   "metadata": {},
   "source": [
    "A:\n",
    "\n",
    "(a) legal, overloading so the call will look for the best match  \n",
    "(b) legal, overloading so the call will look for the best match  \n",
    "(c) legal, overwriting so that always second one is called"
   ]
  },
  {
   "cell_type": "markdown",
   "id": "25c46446-b3c8-4da2-b7bc-b34456d64629",
   "metadata": {},
   "source": [
    "## EXERCISES SECTION 6.7\n"
   ]
  },
  {
   "cell_type": "markdown",
   "id": "e815f38f-2818-4cd7-a903-dd2d41bd38ea",
   "metadata": {},
   "source": [
    "### Exercise 6.54:\n",
    "Write a declaration for a function that takes two `int` parameters and\n",
    "returns an `int`, and declare a `vector` whose elements have this function pointer type."
   ]
  },
  {
   "cell_type": "code",
   "execution_count": 1,
   "id": "39925ebc-2eb5-439d-b719-fdda4b09720d",
   "metadata": {},
   "outputs": [],
   "source": [
    "#include <vector>\n",
    "\n",
    "int func(int, int);\n",
    "std::vector<int(*)(int, int)> v;"
   ]
  },
  {
   "cell_type": "markdown",
   "id": "8b84926c-db67-485c-9b86-0fa9777f69e7",
   "metadata": {},
   "source": [
    "### Exercise 6.55:\n",
    "Write four functions that add, subtract, multiply, and divide two `int`\n",
    "values. Store pointers to these functions in your `vector` from the previous exercise."
   ]
  },
  {
   "cell_type": "code",
   "execution_count": 1,
   "id": "44ab1688-a0ac-492a-a464-d1799fc143ce",
   "metadata": {},
   "outputs": [],
   "source": [
    "#include <vector>\n",
    "\n",
    "int func(int, int);\n",
    "std::vector<int(*)(int, int)> v;"
   ]
  },
  {
   "cell_type": "code",
   "execution_count": 2,
   "id": "e63e7968-2c78-4441-86db-30119195c697",
   "metadata": {},
   "outputs": [],
   "source": [
    "int add(int a, int b)\n",
    "{\n",
    "    return a + b;\n",
    "}"
   ]
  },
  {
   "cell_type": "code",
   "execution_count": 3,
   "id": "941e30d9-53da-4d64-980e-ba549c44c037",
   "metadata": {},
   "outputs": [],
   "source": [
    "int subtract(int a, int b)\n",
    "{\n",
    "    return a - b;\n",
    "}"
   ]
  },
  {
   "cell_type": "code",
   "execution_count": 4,
   "id": "c418f24c-76db-42cb-bc81-694be5c2e105",
   "metadata": {},
   "outputs": [],
   "source": [
    "int multiply(int a, int b)\n",
    "{\n",
    "    return a * b;\n",
    "}"
   ]
  },
  {
   "cell_type": "code",
   "execution_count": 5,
   "id": "fcdfc750-b93c-4566-b019-7ea38504229f",
   "metadata": {},
   "outputs": [],
   "source": [
    "int divide(int a, int b)\n",
    "{\n",
    "    return a / b;\n",
    "}"
   ]
  },
  {
   "cell_type": "code",
   "execution_count": 6,
   "id": "7573835c-90c8-4660-8a29-32792e98aeec",
   "metadata": {},
   "outputs": [],
   "source": [
    "v = {add, subtract, multiply, divide};"
   ]
  },
  {
   "cell_type": "code",
   "execution_count": 7,
   "id": "edfd8d12-4787-4f17-abc3-4743ac8bee51",
   "metadata": {},
   "outputs": [
    {
     "data": {
      "text/plain": [
       "{ @0x55f5efe0a880, @0x55f5efe0a888, @0x55f5efe0a890, @0x55f5efe0a898 }"
      ]
     },
     "execution_count": 7,
     "metadata": {},
     "output_type": "execute_result"
    }
   ],
   "source": [
    "v"
   ]
  },
  {
   "cell_type": "markdown",
   "id": "17333309-e993-44b8-9bdd-249a49aad646",
   "metadata": {},
   "source": [
    "### Exercise 6.56:\n",
    "Call each element in the `vector` and print their result."
   ]
  },
  {
   "cell_type": "code",
   "execution_count": 13,
   "id": "34803dfe-e038-4645-84b9-ee65ead4d336",
   "metadata": {},
   "outputs": [
    {
     "data": {
      "text/plain": [
       "9"
      ]
     },
     "execution_count": 13,
     "metadata": {},
     "output_type": "execute_result"
    }
   ],
   "source": [
    "v[0](6, 3)"
   ]
  },
  {
   "cell_type": "code",
   "execution_count": 14,
   "id": "9118e12c-f1af-4b02-a106-287f3c882c6c",
   "metadata": {},
   "outputs": [
    {
     "data": {
      "text/plain": [
       "3"
      ]
     },
     "execution_count": 14,
     "metadata": {},
     "output_type": "execute_result"
    }
   ],
   "source": [
    "v[1](6, 3)"
   ]
  },
  {
   "cell_type": "code",
   "execution_count": 15,
   "id": "e622ae98-d749-430c-a70b-049e9cf19e4f",
   "metadata": {},
   "outputs": [
    {
     "data": {
      "text/plain": [
       "18"
      ]
     },
     "execution_count": 15,
     "metadata": {},
     "output_type": "execute_result"
    }
   ],
   "source": [
    "v[2](6, 3)"
   ]
  },
  {
   "cell_type": "code",
   "execution_count": 16,
   "id": "22190d0e-9cf9-4a37-9ed5-899a6da88e83",
   "metadata": {},
   "outputs": [
    {
     "data": {
      "text/plain": [
       "2"
      ]
     },
     "execution_count": 16,
     "metadata": {},
     "output_type": "execute_result"
    }
   ],
   "source": [
    "v[3](6, 3)"
   ]
  }
 ],
 "metadata": {
  "kernelspec": {
   "display_name": "C++17",
   "language": "C++17",
   "name": "xcpp17"
  },
  "language_info": {
   "codemirror_mode": "text/x-c++src",
   "file_extension": ".cpp",
   "mimetype": "text/x-c++src",
   "name": "c++",
   "version": "17"
  }
 },
 "nbformat": 4,
 "nbformat_minor": 5
}
