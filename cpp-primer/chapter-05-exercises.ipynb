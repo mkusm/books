{
 "cells": [
  {
   "cell_type": "markdown",
   "id": "017ce37e-3eb1-4937-94e4-59c2a5682ae8",
   "metadata": {},
   "source": [
    "# Chapter 5 Statements"
   ]
  },
  {
   "cell_type": "markdown",
   "id": "0c565c5e-93f2-4434-a7cf-6e07f6908257",
   "metadata": {},
   "source": [
    "## EXERCISES SECTION 5.1"
   ]
  },
  {
   "cell_type": "markdown",
   "id": "cc65f968-23e0-46a7-a45d-de00eaf9df54",
   "metadata": {},
   "source": [
    "### Exercise 5.1:\n",
    "What is a null statement? When might you use a null statement?\n"
   ]
  },
  {
   "cell_type": "markdown",
   "id": "992bdae6-aff8-4b07-ab11-ed402524e088",
   "metadata": {},
   "source": [
    "A: \n",
    "\n",
    "Null statement is an empty statement consisting only of a `;`. Useful when a statement is necessary but we don't need it to do any work, e.g. in loops that can do it's work withing the condition."
   ]
  },
  {
   "cell_type": "markdown",
   "id": "35082568-acb2-44dc-b8da-3b73f9430cff",
   "metadata": {},
   "source": [
    "### Exercise 5.2:\n",
    "What is a block? When might you might use a block?"
   ]
  },
  {
   "cell_type": "markdown",
   "id": "3930ebfe-048b-46fa-97c0-5c3b95adbaf5",
   "metadata": {},
   "source": [
    "A:\n",
    "\n",
    "Sequence of statements closed withing a pair of curly braces. Used when we need multiple statements within e.g. loop or if "
   ]
  },
  {
   "cell_type": "markdown",
   "id": "e9bff99e-ab10-47b5-90cf-61b8fb875a80",
   "metadata": {},
   "source": [
    "### Exercise 5.3:\n",
    "Use the comma operator (§ 4.10, p. 157) to rewrite the while loop from\n",
    "§ 1.4.1 (p. 11)\n",
    "```\n",
    "#include <iostream>\n",
    "int main()\n",
    "{\n",
    "    int sum = 0, val = 1;\n",
    "    while (val <= 10) {\n",
    "        sum += val;\n",
    "        ++val;\n",
    "    }\n",
    "    std::cout << \"Sum of 1 to 10 inclusive is \" << sum << std::endl;\n",
    "    return 0;\n",
    "}\n",
    "```\n",
    "so that it no longer requires a block. Explain whether this rewrite improves or diminishes the readability of this code."
   ]
  },
  {
   "cell_type": "code",
   "execution_count": 3,
   "id": "49049aea-d184-44c7-81bb-1b526daa0aae",
   "metadata": {},
   "outputs": [
    {
     "data": {
      "text/plain": [
       "55"
      ]
     },
     "execution_count": 3,
     "metadata": {},
     "output_type": "execute_result"
    }
   ],
   "source": [
    "int sum = 0, val = 1;\n",
    "while (val <= 10)\n",
    "    sum += val, ++val;\n",
    "sum"
   ]
  },
  {
   "cell_type": "markdown",
   "id": "f486f2df-9639-4df4-b4b2-2722d3eed695",
   "metadata": {},
   "source": [
    "A:\n",
    "\n",
    "The example while loop is short enough that code readability isn't really hindered, but it would diminish if there was more lines"
   ]
  },
  {
   "cell_type": "code",
   "execution_count": 5,
   "id": "e8500efb-b102-41a8-a29f-eef679b5b401",
   "metadata": {},
   "outputs": [
    {
     "data": {
      "text/plain": [
       "55"
      ]
     },
     "execution_count": 5,
     "metadata": {},
     "output_type": "execute_result"
    }
   ],
   "source": [
    "// alternative version without additional comma\n",
    "int sum = 0, val = 1;\n",
    "while (val <= 10) sum += val++;\n",
    "sum"
   ]
  },
  {
   "cell_type": "markdown",
   "id": "88e7e25e-62ed-4584-8c3f-3bedd8d9b6f3",
   "metadata": {},
   "source": [
    "## EXERCISES SECTION 5.2"
   ]
  },
  {
   "cell_type": "markdown",
   "id": "5a5ba04d-dbb7-4ac7-b705-48e77a643734",
   "metadata": {},
   "source": [
    "### Exercise 5.4:\n",
    "Explain each of the following examples, and correct any problems you\n",
    "detect.  \n",
    "(a) `while (string::iterator iter != s.end()) { /* . . . */ }`  \n",
    "(b)\n",
    "```\n",
    "while (bool status = find(word)) { /* . . . */ }\n",
    "if (!status) { /* . . . */ }\n",
    "```"
   ]
  },
  {
   "cell_type": "markdown",
   "id": "243b4472-039f-4cbe-b4dd-6252e69a7426",
   "metadata": {},
   "source": [
    "A:\n",
    "\n",
    "a) `iter` is redeclared in every loop iteration, should be declared before the loop  \n",
    "```\n",
    "string::iterator iter = s.begin();\n",
    "while (iter != s.end()) { /* ... */ }\n",
    "```\n",
    "b) `status` only exists withing `while`'s scope, so `if` won't be able to use it\n",
    "```\n",
    "bool status;\n",
    "while (status = find(word)) { /* ... */ }\n",
    "if (!status) { /* ... */ }\n",
    "```"
   ]
  },
  {
   "cell_type": "markdown",
   "id": "206c3a66-b1e0-4ac7-b66f-f683052e7477",
   "metadata": {},
   "source": [
    "## EXERCISES SECTION 5.3.1\n"
   ]
  },
  {
   "cell_type": "markdown",
   "id": "88791cbd-b252-46d5-86b1-990a4109203c",
   "metadata": {},
   "source": [
    "### Exercise 5.5:\n",
    "Using an if–else statement, write your own version of the program to\n",
    "generate the letter grade from a numeric grade."
   ]
  },
  {
   "cell_type": "code",
   "execution_count": 1,
   "id": "85757cb9-b282-4534-b690-dfd1099ea611",
   "metadata": {},
   "outputs": [],
   "source": [
    "int grade = 75;"
   ]
  },
  {
   "cell_type": "code",
   "execution_count": 2,
   "id": "062e822c-506c-47f0-97c3-fe74ac2f06fe",
   "metadata": {},
   "outputs": [
    {
     "data": {
      "text/plain": [
       "\"C\""
      ]
     },
     "execution_count": 2,
     "metadata": {},
     "output_type": "execute_result"
    }
   ],
   "source": [
    "#include <string>\n",
    "#include <vector>\n",
    "using std::string, std::vector;\n",
    "\n",
    "const vector<string> scores = {\"F\", \"D\", \"C\", \"B\", \"A\", \"A+\"};\n",
    "string lettergrade;\n",
    "\n",
    "if (grade >= 60)\n",
    "    lettergrade = scores[(grade - 50) / 10];\n",
    "else\n",
    "    lettergrade = scores[0];\n",
    "\n",
    "lettergrade"
   ]
  },
  {
   "cell_type": "markdown",
   "id": "83087150-ae07-4d8c-9118-6faaaa929abc",
   "metadata": {},
   "source": [
    "### Exercise 5.6:\n",
    "Rewrite your grading program to use the conditional operator (§ 4.7,\n",
    "p. 151) in place of the if–else statement."
   ]
  },
  {
   "cell_type": "code",
   "execution_count": 1,
   "id": "f52f2fc0-eaa7-4871-9cab-d68b2c27715c",
   "metadata": {},
   "outputs": [],
   "source": [
    "int grade = 85;"
   ]
  },
  {
   "cell_type": "code",
   "execution_count": 2,
   "id": "267aeb7e-e4b8-401d-8db9-06f840e7ee30",
   "metadata": {},
   "outputs": [
    {
     "data": {
      "text/plain": [
       "\"B\""
      ]
     },
     "execution_count": 2,
     "metadata": {},
     "output_type": "execute_result"
    }
   ],
   "source": [
    "#include <string>\n",
    "#include <vector>\n",
    "using std::string, std::vector;\n",
    "\n",
    "const vector<string> scores = {\"F\", \"D\", \"C\", \"B\", \"A\", \"A+\"};\n",
    "string lettergrade = (grade >= 60) ? scores[(grade - 50) / 10] : scores[0];\n",
    "\n",
    "lettergrade"
   ]
  },
  {
   "cell_type": "markdown",
   "id": "36e80be2-c88c-4725-8d9b-9e165e3fd4d0",
   "metadata": {},
   "source": [
    "### Exercise 5.7:\n",
    "Correct the errors in each of the following code fragments:  \n",
    "(a) \n",
    "```\n",
    "if (ival1 != ival2)\n",
    "    ival1 = ival2\n",
    "else ival1 = ival2 = 0;\n",
    "```\n",
    "(b)\n",
    "```\n",
    "if (ival < minval)\n",
    "    minval = ival;\n",
    "    occurs = 1;\n",
    "```\n",
    "(c)\n",
    "```\n",
    "if (int ival = get_value())\n",
    "    cout << \"ival = \" << ival << endl;\n",
    "if (!ival)\n",
    "    cout << \"ival = 0\\n\";\n",
    "```\n",
    "(d)\n",
    "```\n",
    "if (ival = 0)\n",
    "    ival = get_value();\n",
    "```"
   ]
  },
  {
   "cell_type": "markdown",
   "id": "15d3e7fd-70d3-4019-a72a-1227ec06df26",
   "metadata": {},
   "source": [
    "A:\n",
    "\n",
    "a) missing semicolon\n",
    "```\n",
    "if (ival1 != ival2)\n",
    "    ival1 = ival2;\n",
    "else \n",
    "    ival1 = ival2 = 0;\n",
    "```\n",
    "\n",
    "b) missing block\n",
    "```\n",
    "if (ival < minval)\n",
    "{\n",
    "    minval = ival;\n",
    "    occurs = 1;\n",
    "}    \n",
    "```\n",
    "\n",
    "c) ival out of scope in second if\n",
    "```\n",
    "int ival = 0;\n",
    "if (ival = get_value())\n",
    "    cout << \"ival = \" << ival << endl;\n",
    "else\n",
    "    cout << \"ival = 0\\n\";\n",
    "```\n",
    "\n",
    "d) assignment instead of comparison in condition\n",
    "```\n",
    "if (ival == 0)\n",
    "    ival = get_value();\n",
    "```"
   ]
  },
  {
   "cell_type": "markdown",
   "id": "74e45b79-cf6e-4d86-843a-e60ce8730fcc",
   "metadata": {},
   "source": [
    "### Exercise 5.8:\n",
    "What is a “dangling else”? How are else clauses resolved in C++?"
   ]
  },
  {
   "cell_type": "markdown",
   "id": "19ba1528-be70-4f34-a12c-dbb16aa669af",
   "metadata": {},
   "source": [
    "A:\n",
    "\n",
    "Dangling `else` happens when `else` matches closest `if`, when we wanted it to match previous `if`. Can be fixed by using blocks."
   ]
  },
  {
   "cell_type": "markdown",
   "id": "8108dc3f-2b3b-4cd2-9634-6b7ae47da86f",
   "metadata": {
    "tags": []
   },
   "source": [
    "## EXERCISES SECTION 5.3.2\n"
   ]
  },
  {
   "cell_type": "markdown",
   "id": "d5cd8530-7944-41fd-b8e3-608d3deed7dd",
   "metadata": {},
   "source": [
    "### Exercise 5.9:\n",
    "Write a program using a series of if statements to count the number of\n",
    "vowels in text read from cin."
   ]
  },
  {
   "cell_type": "code",
   "execution_count": 1,
   "id": "bef4c0a5-768c-451b-a9fc-f3a0c9275795",
   "metadata": {},
   "outputs": [
    {
     "name": "stdin",
     "output_type": "stream",
     "text": [
      " how many vowels are there? I would expect 12\n"
     ]
    },
    {
     "data": {
      "text/plain": [
       "12"
      ]
     },
     "execution_count": 1,
     "metadata": {},
     "output_type": "execute_result"
    }
   ],
   "source": [
    "#include <string>\n",
    "#include <iostream>\n",
    "using std::string, std::cin;\n",
    "\n",
    "unsigned vowelCount = 0;\n",
    "string text;\n",
    "getline(cin, text);\n",
    "\n",
    "for (const auto c : text)\n",
    "{\n",
    "    if (c == 'a' || c == 'e' || c == 'i' || c == 'o' || c == 'u')\n",
    "        ++vowelCount;\n",
    "}\n",
    "\n",
    "vowelCount"
   ]
  },
  {
   "cell_type": "markdown",
   "id": "8c78c331-b61c-4392-b075-5baaf602e730",
   "metadata": {},
   "source": [
    "### Exercise 5.10:\n",
    "There is one problem with our vowel-counting program as we’ve implemented it: It doesn’t count capital letters as vowels. Write a program that counts\n",
    "both lower- and uppercase letters as the appropriate vowel—that is, your program\n",
    "should count both ’a’ and ’A’ as part of aCnt, and so forth."
   ]
  },
  {
   "cell_type": "code",
   "execution_count": 2,
   "id": "2ddce042-681c-494b-8057-bbcaa8bca453",
   "metadata": {},
   "outputs": [
    {
     "name": "stdin",
     "output_type": "stream",
     "text": [
      " All vowels should be cOuNtEd\n",
      " ;\n"
     ]
    },
    {
     "name": "stdout",
     "output_type": "stream",
     "text": [
      "Number of vowel a: \t1\n",
      "Number of vowel e: \t3\n",
      "Number of vowel i: \t0\n",
      "Number of vowel o: \t3\n",
      "Number of vowel u: \t2\n"
     ]
    }
   ],
   "source": [
    "#include <iostream>\n",
    "using std::cin, std::cout, std::endl;\n",
    "\n",
    "unsigned aCnt = 0, eCnt = 0, iCnt = 0, oCnt = 0, uCnt = 0;\n",
    "char ch;\n",
    "while (cin >> ch && ch != ';') {\n",
    "    switch (ch) {\n",
    "        case 'a':\n",
    "        case 'A':\n",
    "            ++aCnt;\n",
    "            break;\n",
    "        case 'e':\n",
    "        case 'E':\n",
    "            ++eCnt;\n",
    "            break;\n",
    "        case 'i':\n",
    "        case 'I':\n",
    "            ++iCnt;\n",
    "            break;\n",
    "        case 'o':\n",
    "        case 'O':\n",
    "            ++oCnt;\n",
    "            break;\n",
    "        case 'u':\n",
    "        case 'U':\n",
    "            ++uCnt;\n",
    "            break;\n",
    "    }\n",
    "}\n",
    "// print results\n",
    "cout << \"Number of vowel a: \\t\" << aCnt << endl\n",
    "<< \"Number of vowel e: \\t\" << eCnt << endl\n",
    "<< \"Number of vowel i: \\t\" << iCnt << endl\n",
    "<< \"Number of vowel o: \\t\" << oCnt << endl\n",
    "<< \"Number of vowel u: \\t\" << uCnt << endl;"
   ]
  },
  {
   "cell_type": "markdown",
   "id": "6d21c30d-f69b-4f2a-a6ae-90d5e1c03755",
   "metadata": {},
   "source": [
    "### Exercise 5.11:\n",
    "Modify our vowel-counting program so that it also counts the number\n",
    "of blank spaces, tabs, and newlines read."
   ]
  },
  {
   "cell_type": "code",
   "execution_count": 1,
   "id": "a267fe98-eba5-4582-a2be-7af5eadc04c5",
   "metadata": {},
   "outputs": [
    {
     "name": "stdin",
     "output_type": "stream",
     "text": [
      " how many spaces are there?\n",
      " a lot\n",
      " \n"
     ]
    },
    {
     "name": "stdout",
     "output_type": "stream",
     "text": [
      "Number of vowel a: \t4\n",
      "Number of vowel e: \t4\n",
      "Number of vowel i: \t0\n",
      "Number of vowel o: \t2\n",
      "Number of vowel u: \t0\n",
      "Number of spaces: \t5\n",
      "Number of tabs: \t0\n",
      "Number of newlines: \t1\n"
     ]
    }
   ],
   "source": [
    "#include <iostream>\n",
    "#include <string>\n",
    "using std::string, std::cin, std::cout, std::endl;\n",
    "\n",
    "unsigned aCnt = 0, eCnt = 0, iCnt = 0, oCnt = 0, uCnt = 0,\n",
    "         spaceCnt = 0, tabCnt = 0;\n",
    "unsigned newlineCnt = -1;\n",
    "string text;\n",
    "\n",
    "while (getline(cin, text) && text.size()) {\n",
    "    for (char ch : text)\n",
    "    {\n",
    "        switch (ch) {\n",
    "            case 'a':\n",
    "            case 'A':\n",
    "                ++aCnt;\n",
    "                break;\n",
    "            case 'e':\n",
    "            case 'E':\n",
    "                ++eCnt;\n",
    "                break;\n",
    "            case 'i':\n",
    "            case 'I':\n",
    "                ++iCnt;\n",
    "                break;\n",
    "            case 'o':\n",
    "            case 'O':\n",
    "                ++oCnt;\n",
    "                break;\n",
    "            case 'u':\n",
    "            case 'U':\n",
    "                ++uCnt;\n",
    "                break;\n",
    "            case ' ':\n",
    "                ++spaceCnt;\n",
    "                break;\n",
    "            case '\\t':\n",
    "                ++tabCnt;\n",
    "                break;\n",
    "        }\n",
    "    }\n",
    "    ++newlineCnt;\n",
    "}\n",
    "\n",
    "if (newlineCnt == -1) ++newlineCnt;\n",
    "\n",
    "// print results\n",
    "cout << \"Number of vowel a: \\t\" << aCnt << endl\n",
    "<< \"Number of vowel e: \\t\" << eCnt << endl\n",
    "<< \"Number of vowel i: \\t\" << iCnt << endl\n",
    "<< \"Number of vowel o: \\t\" << oCnt << endl\n",
    "<< \"Number of vowel u: \\t\" << uCnt << endl\n",
    "<< \"Number of spaces: \\t\" << spaceCnt << endl\n",
    "<< \"Number of tabs: \\t\" << tabCnt << endl\n",
    "<< \"Number of newlines: \\t\" << newlineCnt << endl;"
   ]
  },
  {
   "cell_type": "markdown",
   "id": "a8da87ee-7154-4e4f-8996-e511156511be",
   "metadata": {
    "tags": []
   },
   "source": [
    "### Exercise 5.12: \n",
    "Modify our vowel-counting program so that it counts the number of\n",
    "occurrences of the following two-character sequences: ff, fl, and fi."
   ]
  },
  {
   "cell_type": "code",
   "execution_count": 3,
   "id": "baf185b4-553f-47f9-b366-cfcf922ab443",
   "metadata": {},
   "outputs": [
    {
     "name": "stdin",
     "output_type": "stream",
     "text": [
      " fiu fiu fiu so many floating ffs\n",
      " right?\n",
      " \n"
     ]
    },
    {
     "name": "stdout",
     "output_type": "stream",
     "text": [
      "Number of vowel a: \t2\n",
      "Number of vowel e: \t0\n",
      "Number of vowel i: \t5\n",
      "Number of vowel o: \t2\n",
      "Number of vowel u: \t3\n",
      "Number of sequences ff: \t1\n",
      "Number of sequences fl: \t1\n",
      "Number of sequences fi: \t3\n",
      "Number of spaces: \t6\n",
      "Number of tabs: \t0\n",
      "Number of newlines: \t1\n"
     ]
    }
   ],
   "source": [
    "#include <iostream>\n",
    "#include <string>\n",
    "using std::string, std::cin, std::cout, std::endl;\n",
    "\n",
    "unsigned aCnt = 0, eCnt = 0, iCnt = 0, oCnt = 0, uCnt = 0,\n",
    "         spaceCnt = 0, tabCnt = 0, ffCnt = 0, flCnt = 0, fiCnt = 0;\n",
    "unsigned newlineCnt = -1;\n",
    "string text;\n",
    "\n",
    "while (getline(cin, text) && text.size()) {\n",
    "    int fcount = 0;\n",
    "    for (char ch : text)\n",
    "    {\n",
    "        if (fcount)\n",
    "        {\n",
    "            switch (ch)\n",
    "            {\n",
    "                case 'f':\n",
    "                    ++ffCnt;\n",
    "                    fcount = 0;\n",
    "                    break;\n",
    "                case 'l':\n",
    "                    ++flCnt;\n",
    "                    fcount = 0;\n",
    "                    break;\n",
    "                case 'i':\n",
    "                    ++fiCnt;\n",
    "                    fcount = 0;\n",
    "                    break;\n",
    "            }\n",
    "        }\n",
    "        \n",
    "        switch (ch) {\n",
    "            case 'a':\n",
    "            case 'A':\n",
    "                ++aCnt;\n",
    "                break;\n",
    "            case 'e':\n",
    "            case 'E':\n",
    "                ++eCnt;\n",
    "                break;\n",
    "            case 'i':\n",
    "            case 'I':\n",
    "                ++iCnt;\n",
    "                break;\n",
    "            case 'o':\n",
    "            case 'O':\n",
    "                ++oCnt;\n",
    "                break;\n",
    "            case 'u':\n",
    "            case 'U':\n",
    "                ++uCnt;\n",
    "                break;\n",
    "            case ' ':\n",
    "                ++spaceCnt;\n",
    "                break;\n",
    "            case '\\t':\n",
    "                ++tabCnt;\n",
    "                break;\n",
    "            case 'f':\n",
    "                if (!fcount) ++fcount;\n",
    "                break;\n",
    "        }\n",
    "    }\n",
    "    ++newlineCnt;\n",
    "}\n",
    "\n",
    "if (newlineCnt == -1) ++newlineCnt;\n",
    "\n",
    "// print results\n",
    "cout << \"Number of vowel a: \\t\" << aCnt << endl\n",
    "<< \"Number of vowel e: \\t\" << eCnt << endl\n",
    "<< \"Number of vowel i: \\t\" << iCnt << endl\n",
    "<< \"Number of vowel o: \\t\" << oCnt << endl\n",
    "<< \"Number of vowel u: \\t\" << uCnt << endl\n",
    "<< \"Number of sequences ff: \\t\" << ffCnt << endl\n",
    "<< \"Number of sequences fl: \\t\" << flCnt << endl\n",
    "<< \"Number of sequences fi: \\t\" << fiCnt << endl\n",
    "<< \"Number of spaces: \\t\" << spaceCnt << endl\n",
    "<< \"Number of tabs: \\t\" << tabCnt << endl\n",
    "<< \"Number of newlines: \\t\" << newlineCnt << endl;"
   ]
  },
  {
   "cell_type": "markdown",
   "id": "1aa9e61e-fe70-4a2e-b5df-e7ff65a675a7",
   "metadata": {
    "tags": []
   },
   "source": [
    "### Exercise 5.13:\n",
    "Each of the programs in the highlighted text on page 184 contains a\n",
    "common programming error. Identify and correct each error.  \n",
    "(a)\n",
    "```\n",
    "unsigned aCnt = 0, eCnt = 0, iouCnt = 0;\n",
    "char ch = next_text();\n",
    "switch (ch) {\n",
    "    case ’a’: aCnt++;\n",
    "    case ’e’: eCnt++;\n",
    "    default: iouCnt++;\n",
    "}\n",
    "```\n",
    "(b)\n",
    "```\n",
    "unsigned index = some_value();\n",
    "switch (index) {\n",
    "    case 1:\n",
    "        int ix = get_value();\n",
    "        ivec[ ix ] = index;\n",
    "        break;\n",
    "    default:\n",
    "        ix = ivec.size()-1;\n",
    "        ivec[ ix ] = index;\n",
    "}\n",
    "```\n",
    "(c)\n",
    "```\n",
    "unsigned evenCnt = 0, oddCnt = 0;\n",
    "int digit = get_num() % 10;\n",
    "switch (digit) {\n",
    "    case 1, 3, 5, 7, 9:\n",
    "        oddcnt++;\n",
    "        break;\n",
    "    case 2, 4, 6, 8, 10:\n",
    "        evencnt++;\n",
    "        break;\n",
    "}\n",
    "```\n",
    "(d)\n",
    "```\n",
    "unsigned ival=512, jval=1024, kval=4096;\n",
    "unsigned bufsize;\n",
    "unsigned swt = get_bufCnt();\n",
    "switch(swt) {\n",
    "    case ival:\n",
    "        bufsize = ival * sizeof(int);\n",
    "        break;\n",
    "    case jval:\n",
    "        bufsize = jval * sizeof(int);\n",
    "        break;\n",
    "    case kval:\n",
    "        bufsize = kval * sizeof(int);\n",
    "        break;\n",
    "}\n",
    "```"
   ]
  },
  {
   "cell_type": "markdown",
   "id": "f3f74c9e-517b-4507-897c-872099cabd45",
   "metadata": {},
   "source": [
    "A:\n",
    "\n",
    "(a) missing breaks, `e` and `iouCnt` would increase even when `ch` is `a`\n",
    "```\n",
    "unsigned aCnt = 0, eCnt = 0, iouCnt = 0;\n",
    "char ch = next_text();\n",
    "switch (ch) {\n",
    "    case ’a’: \n",
    "        aCnt++;\n",
    "        break;\n",
    "    case ’e’:\n",
    "        eCnt++;\n",
    "        break;\n",
    "    default:\n",
    "        iouCnt++;\n",
    "}\n",
    "```\n",
    "\n",
    "(b) ix is never declared in scope of `default`\n",
    "```\n",
    "unsigned index = some_value();\n",
    "switch (index) {\n",
    "    case 1:\n",
    "        int ix = get_value();\n",
    "        ivec[ ix ] = index;\n",
    "        break;\n",
    "    default:\n",
    "        auto ix = ivec.size()-1;\n",
    "        ivec[ ix ] = index;\n",
    "}\n",
    "```\n",
    "\n",
    "(c) incorrect case syntax\n",
    "```\n",
    "unsigned evenCnt = 0, oddCnt = 0;\n",
    "int digit = get_num() % 10;\n",
    "switch (digit) {\n",
    "    case 1:\n",
    "    case 3:\n",
    "    case 5:\n",
    "    case 7:\n",
    "    case 9:\n",
    "        oddcnt++;\n",
    "        break;\n",
    "    case 2:\n",
    "    case 4:\n",
    "    case 6:\n",
    "    case 8:\n",
    "    case 10:\n",
    "        evencnt++;\n",
    "        break;\n",
    "}\n",
    "```\n",
    "\n",
    "(d) case label must be a integral constant expression\n",
    "```\n",
    "const unsigned ival=512, jval=1024, kval=4096;\n",
    "unsigned bufsize;\n",
    "unsigned swt = get_bufCnt();\n",
    "switch(swt) {\n",
    "    case ival:\n",
    "        bufsize = ival * sizeof(int);\n",
    "        break;\n",
    "    case jval:\n",
    "        bufsize = jval * sizeof(int);\n",
    "        break;\n",
    "    case kval:\n",
    "        bufsize = kval * sizeof(int);\n",
    "        break;\n",
    "}\n",
    "```"
   ]
  },
  {
   "cell_type": "markdown",
   "id": "edf83f82-ccf9-4fdb-bb57-1bb60f5e86a7",
   "metadata": {},
   "source": [
    "## EXERCISES SECTION 5.4.1"
   ]
  },
  {
   "cell_type": "markdown",
   "id": "e8ede8a8-3da0-49f3-8626-0e47b8267fe7",
   "metadata": {},
   "source": [
    "### Exercise 5.14:\n",
    "Write a program to read strings from standard input looking for duplicated words.\n",
    "The program should find places in the input where one word is followed immediately by itself.\n",
    "Keep track of the largest number of times a single repetition occurs and which word is repeated.\n",
    "Print the maximum number of duplicates, or else print a message saying that no word was repeated.\n",
    "For example, if the input is\n",
    "```\n",
    "how now now now brown cow cow\n",
    "```\n",
    "the output should indicate that the word now occurred three times."
   ]
  },
  {
   "cell_type": "code",
   "execution_count": 2,
   "id": "fc59f465-0889-4273-9f6c-55f4afc8531f",
   "metadata": {},
   "outputs": [
    {
     "name": "stdin",
     "output_type": "stream",
     "text": [
      " how now now now brown cow cow ;\n"
     ]
    },
    {
     "name": "stdout",
     "output_type": "stream",
     "text": [
      "now repeated 3 times\n"
     ]
    }
   ],
   "source": [
    "#include <string>\n",
    "#include <iostream>\n",
    "using std::string, std::cin, std::cout, std::endl;\n",
    "\n",
    "string s, last, repeated;\n",
    "int longest_duplicate = 0, current_duplicate = 0;\n",
    "while (cin >> s && s != \";\")\n",
    "{\n",
    "    if (last == s)\n",
    "        ++current_duplicate;\n",
    "    else\n",
    "        current_duplicate = 0;\n",
    "    if (current_duplicate > longest_duplicate)\n",
    "    {\n",
    "        longest_duplicate = current_duplicate;\n",
    "        repeated = s;\n",
    "    }\n",
    "    \n",
    "    last = s;\n",
    "}\n",
    "\n",
    "if (!longest_duplicate)\n",
    "    cout << \"no duplicates\" << endl;\n",
    "else\n",
    "    cout << repeated << \" repeated \" << longest_duplicate + 1 << \" times\" << endl;"
   ]
  },
  {
   "cell_type": "markdown",
   "id": "ce347617-2595-4f23-9472-69c972bbd9f6",
   "metadata": {},
   "source": [
    "## EXERCISES SECTION 5.4.2\n"
   ]
  },
  {
   "cell_type": "markdown",
   "id": "1f5dce11-f03a-4a6d-9783-563689d477e4",
   "metadata": {},
   "source": [
    "### Exercise 5.15:\n",
    "Explain each of the following loops. Correct any problems you detect.  \n",
    "(a)\n",
    "```\n",
    "for (int ix = 0; ix != sz; ++ix) { /* . . . */ }\n",
    "if (ix != sz)\n",
    "    // . . .\n",
    "```\n",
    "(b) \n",
    "```\n",
    "int ix;\n",
    "for (ix != sz; ++ix) { /* . . . */ }\n",
    "```\n",
    "(c)\n",
    "```\n",
    "for (int ix = 0; ix != sz; ++ix, ++ sz) { /* . . . */ }\n",
    "```"
   ]
  },
  {
   "cell_type": "markdown",
   "id": "b06d0a15-f44a-49b9-8906-aa1a0b1e62ac",
   "metadata": {},
   "source": [
    "A:\n",
    "\n",
    "(a) int is out of scope of `if`\n",
    "```\n",
    "int ix = 0;\n",
    "for (; ix != sz; ++ix) { /* . . . */ }\n",
    "if (ix != sz)\n",
    "    // . . .\n",
    "```\n",
    "(b) missing semicolon to make a null initializer\n",
    "```\n",
    "int ix;\n",
    "for (; ix != sz; ++ix) { /* . . . */ }\n",
    "```\n",
    "(c) loop will never finish, as both `ix` and `sz` are increased\n",
    "```\n",
    "for (int ix = 0; ix != sz; ++ix) { /* . . . */ }\n",
    "```"
   ]
  },
  {
   "cell_type": "markdown",
   "id": "d633ae5f-6049-4acc-a697-8ba0faf98091",
   "metadata": {},
   "source": [
    "### Exercise 5.16:\n",
    "The `while` loop is particularly good at executing while some condition\n",
    "holds; for example, when we need to read values until end-of-file. The `for` loop is\n",
    "generally thought of as a step loop: An index steps through a range of values in a\n",
    "collection. Write an idiomatic use of each loop and then rewrite each using the other\n",
    "loop construct. If you could use only one loop, which would you choose? Why?"
   ]
  },
  {
   "cell_type": "code",
   "execution_count": 4,
   "id": "23ae8060-ef04-4c68-a8e1-1a5e665a6f9f",
   "metadata": {},
   "outputs": [],
   "source": [
    "// idiomatic"
   ]
  },
  {
   "cell_type": "code",
   "execution_count": 1,
   "id": "03fce94a-75a0-4bd2-a91a-069a34b19a0c",
   "metadata": {},
   "outputs": [
    {
     "name": "stdin",
     "output_type": "stream",
     "text": [
      " lala;\n"
     ]
    },
    {
     "name": "stdout",
     "output_type": "stream",
     "text": [
      "l\n",
      "a\n",
      "l\n",
      "a\n"
     ]
    }
   ],
   "source": [
    "#include <iostream>\n",
    "char c;\n",
    "while (std::cin >> c && c != ';')\n",
    "    std::cout << c << std::endl;"
   ]
  },
  {
   "cell_type": "code",
   "execution_count": 3,
   "id": "cdc439d7-aace-43ea-81f4-2c4a32625fcb",
   "metadata": {},
   "outputs": [
    {
     "name": "stdout",
     "output_type": "stream",
     "text": [
      "l\n",
      "a\n",
      "l\n",
      "a\n"
     ]
    }
   ],
   "source": [
    "#include <iostream>\n",
    "#include <string>\n",
    "std::string text = \"lala\";\n",
    "for (decltype(text.size()) i = 0; i < text.size(); i++)\n",
    "    std::cout << text[i] << std::endl;"
   ]
  },
  {
   "cell_type": "code",
   "execution_count": 5,
   "id": "06768bf7-22b4-483b-a485-f0d106a39b9b",
   "metadata": {},
   "outputs": [],
   "source": [
    "// rewritten"
   ]
  },
  {
   "cell_type": "code",
   "execution_count": 4,
   "id": "3cd54c6c-3111-437a-a20d-4f1396e4bf0c",
   "metadata": {},
   "outputs": [
    {
     "name": "stderr",
     "output_type": "stream",
     "text": [
      "input_line_14:3:33: error: expected ';' in 'for' statement specifier\n",
      "for (; std::cin >> c && c != ';')\n",
      "                                ^\n"
     ]
    },
    {
     "ename": "Interpreter Error",
     "evalue": "",
     "output_type": "error",
     "traceback": [
      "Interpreter Error: "
     ]
    }
   ],
   "source": [
    "#include <iostream>\n",
    "char c;\n",
    "for (; std::cin >> c && c != ';' ;)\n",
    "    std::cout << c << std::endl;"
   ]
  },
  {
   "cell_type": "code",
   "execution_count": 3,
   "id": "46a1135b-f58a-4d94-8116-129b590fe51d",
   "metadata": {},
   "outputs": [
    {
     "name": "stdout",
     "output_type": "stream",
     "text": [
      "l\n",
      "a\n",
      "l\n",
      "a\n"
     ]
    }
   ],
   "source": [
    "#include <iostream>\n",
    "#include <string>\n",
    "std::string text = \"lala\";\n",
    "decltype(text.size()) i = 0;\n",
    "while (i < text.size())\n",
    "{\n",
    "    std::cout << text[i] << std::endl;\n",
    "    i++;\n",
    "}"
   ]
  },
  {
   "cell_type": "markdown",
   "id": "05b8ffd7-dd28-4fb2-b667-de3b8acdad3f",
   "metadata": {},
   "source": [
    "A:\n",
    "\n",
    "I would choose `for` loop as the only loop to use, as it's very easy to rewrite the `while`'s functionatily in it. All I had to do was add two semicolons. Using `while` to recreate `for` forces us to write more lines of code and is less readable."
   ]
  },
  {
   "cell_type": "markdown",
   "id": "630f28bf-0ad7-461f-8c25-7e62aadbeed5",
   "metadata": {},
   "source": [
    "### Exercise 5.17:\n",
    "Given two `vector`s of `int`s, write a program to determine whether\n",
    "one `vector` is a prefix of the other. For `vector`s of unequal length, compare the number\n",
    "of elements of the smaller `vector`. For example, given the `vector`s containing `0, 1, 1, 2`\n",
    "and `0, 1, 1, 2, 3, 5, 8` respectively your program should return true."
   ]
  },
  {
   "cell_type": "code",
   "execution_count": 3,
   "id": "0a62c881-301c-45e3-ba7e-9213f216bd01",
   "metadata": {},
   "outputs": [
    {
     "data": {
      "text/plain": [
       "true"
      ]
     },
     "execution_count": 3,
     "metadata": {},
     "output_type": "execute_result"
    }
   ],
   "source": [
    "#include <vector>\n",
    "using std::vector;\n",
    "\n",
    "vector v1 = {0, 1, 1, 2}, v2 = {0, 1, 1, 2, 3, 5};\n",
    "auto smaller_size = (v1.size() < v2.size()) ? v1.size() : v2.size();\n",
    "bool identical = true;\n",
    "\n",
    "for (decltype(v1.size()) i = 0; i < smaller_size; i++)\n",
    "    if (v1[i] != v2[i])\n",
    "        identical = false;\n",
    "\n",
    "identical"
   ]
  },
  {
   "cell_type": "markdown",
   "id": "8185ed3e-615c-4041-90cc-f7f775e5710a",
   "metadata": {},
   "source": [
    "# EXERCISES SECTION 5.4.4\n"
   ]
  },
  {
   "cell_type": "markdown",
   "id": "50a1ecaa-6f12-4296-960a-e3b3959f5ccf",
   "metadata": {},
   "source": [
    "### Exercise 5.18:\n",
    "Explain each of the following loops. Correct any problems you detect.  \n",
    "(a)\n",
    "```\n",
    "do\n",
    "    int v1, v2;\n",
    "    cout << \"Please enter two numbers to sum:\" ;\n",
    "    if (cin >> v1 >> v2)\n",
    "        cout << \"Sum is: \" << v1 + v2 << endl;\n",
    "while (cin);\n",
    "```\n",
    "(b)\n",
    "```\n",
    "do {\n",
    "    // . . .\n",
    "} while (int ival = get_response());\n",
    "```\n",
    "(c)\n",
    "```\n",
    "do {\n",
    "    int ival = get_response();\n",
    "} while (ival);\n",
    "```"
   ]
  },
  {
   "cell_type": "markdown",
   "id": "5b0b5421-2307-4287-8415-0b55e4e2516e",
   "metadata": {},
   "source": [
    "A:\n",
    "\n",
    "(a) missing brackets\n",
    "```\n",
    "do {\n",
    "    int v1, v2;\n",
    "    cout << \"Please enter two numbers to sum:\" ;\n",
    "    if (cin >> v1 >> v2)\n",
    "        cout << \"Sum is: \" << v1 + v2 << endl;\n",
    "}\n",
    "while (cin);\n",
    "```\n",
    "(b) variable definitions not allowed inside `do...while` condition\n",
    "```\n",
    "int ival;\n",
    "do {\n",
    "    // . . .\n",
    "} while (ival = get_response());\n",
    "```\n",
    "(c) ival out of scope\n",
    "```\n",
    "int ival;\n",
    "do {\n",
    "    ival = get_response();\n",
    "} while (ival);\n",
    "```"
   ]
  },
  {
   "cell_type": "markdown",
   "id": "72125db0-0d95-416a-a2c1-e762aa489a91",
   "metadata": {},
   "source": [
    "### Exercise 5.19:\n",
    "Write a program that uses a do while loop to repetitively request two\n",
    "strings from the user and report which string is less than the other."
   ]
  },
  {
   "cell_type": "code",
   "execution_count": 2,
   "id": "795ba21f-a527-4da2-9468-abcf6b6ce928",
   "metadata": {},
   "outputs": [
    {
     "name": "stdin",
     "output_type": "stream",
     "text": [
      " lala\n",
      " lal\n"
     ]
    },
    {
     "name": "stdout",
     "output_type": "stream",
     "text": [
      "second is smaller\n",
      "More?\n"
     ]
    },
    {
     "name": "stdin",
     "output_type": "stream",
     "text": [
      " y\n",
      " dudududud what'sup?\n"
     ]
    },
    {
     "name": "stdout",
     "output_type": "stream",
     "text": [
      "first is smaller\n",
      "More?\n"
     ]
    },
    {
     "name": "stdin",
     "output_type": "stream",
     "text": [
      " no\n"
     ]
    }
   ],
   "source": [
    "#include <iostream>\n",
    "#include <string>\n",
    "using std::cin, std::cout, std::endl, std::string;\n",
    "\n",
    "string s1, s2, y;\n",
    "\n",
    "do {\n",
    "    cin >> s1 >> s2;\n",
    "    cout << ((s1 < s2) ? \"first is smaller\" : (s1 > s2) ? \"second is smaller\" : \"they're equal\") << endl;\n",
    "    cout << \"More?\" << endl;\n",
    "} while (cin >> y && y != \"no\")"
   ]
  },
  {
   "cell_type": "markdown",
   "id": "5381a95f-abdf-400d-b890-345c5e38993d",
   "metadata": {},
   "source": [
    "## EXERCISES SECTION 5.5.1\n"
   ]
  },
  {
   "cell_type": "markdown",
   "id": "898d2e18-168a-42d6-a1c9-35b47a8d00cd",
   "metadata": {},
   "source": [
    "### Exercise 5.20:\n",
    "Write a program to read a sequence of strings from the standard input\n",
    "until either the same word occurs twice in succession or all the words have been read.\n",
    "Use a while loop to read the text one word at a time. Use the break statement to\n",
    "terminate the loop if a word occurs twice in succession. Print the word if it occurs\n",
    "twice in succession, or else print a message saying that no word was repeated."
   ]
  },
  {
   "cell_type": "code",
   "execution_count": 3,
   "id": "e3c43e3d-a712-4d76-afa4-8452f82db797",
   "metadata": {},
   "outputs": [
    {
     "name": "stdin",
     "output_type": "stream",
     "text": [
      " no way is there a duplicated in in here, right?\n"
     ]
    },
    {
     "name": "stdout",
     "output_type": "stream",
     "text": [
      "repeated: in\n"
     ]
    }
   ],
   "source": [
    "#include <iostream>\n",
    "#include <string>\n",
    "using std::cin, std::cout, std::endl, std::string;\n",
    "\n",
    "string s, last;\n",
    "bool duplicated = false;\n",
    "\n",
    "while (cin >> s && s != \";\")\n",
    "{\n",
    "    if (last == s)\n",
    "    {\n",
    "        duplicated = true;\n",
    "        break;\n",
    "    }\n",
    "    last = s;\n",
    "}\n",
    "if (duplicated)\n",
    "    cout << \"repeated: \" << s << endl;\n",
    "else\n",
    "    cout << \"no word was repeated\" << endl;"
   ]
  },
  {
   "cell_type": "markdown",
   "id": "4297d390-1e74-444a-9d9d-22c960550e6f",
   "metadata": {},
   "source": [
    "## EXERCISES SECTION 5.5.2\n"
   ]
  },
  {
   "cell_type": "markdown",
   "id": "50a8fd69-b1c9-4d57-a98c-4e28e5b29a78",
   "metadata": {},
   "source": [
    "### Exercise 5.21:\n",
    "Revise the program from the exercise in § 5.5.1 (p. 191) so that it looks\n",
    "only for duplicated words that start with an uppercase letter."
   ]
  },
  {
   "cell_type": "code",
   "execution_count": 1,
   "id": "048b9fe0-56a7-426e-ba12-c225a1ebb632",
   "metadata": {},
   "outputs": [
    {
     "name": "stdin",
     "output_type": "stream",
     "text": [
      " no way is there a duplicated in in here, right?\n",
      " no way is there a duplicated In In here, right?\n"
     ]
    },
    {
     "name": "stdout",
     "output_type": "stream",
     "text": [
      "repeated: In\n"
     ]
    }
   ],
   "source": [
    "#include <iostream>\n",
    "#include <string>\n",
    "using std::cin, std::cout, std::endl, std::string;\n",
    "\n",
    "string s, last;\n",
    "bool duplicated = false;\n",
    "\n",
    "while (cin >> s && s != \";\")\n",
    "{\n",
    "    if (last == s && s[0] >= 'A' && s[0] <= 'Z')\n",
    "    {\n",
    "        duplicated = true;\n",
    "        break;\n",
    "    }\n",
    "    last = s;\n",
    "}\n",
    "if (duplicated)\n",
    "    cout << \"repeated: \" << s << endl;\n",
    "else\n",
    "    cout << \"no word was repeated\" << endl;"
   ]
  },
  {
   "cell_type": "markdown",
   "id": "957e1601-3b92-4492-a010-efa1121e4f0f",
   "metadata": {},
   "source": [
    "## EXERCISES SECTION 5.5.3\n"
   ]
  },
  {
   "cell_type": "markdown",
   "id": "3169c46d-0123-4c69-b27b-88c94e8e638b",
   "metadata": {},
   "source": [
    "### Exercise 5.22:\n",
    "The last example in this section that jumped back to begin could be\n",
    "better written using a loop. Rewrite the code to eliminate the goto.\n",
    "```\n",
    "// backward jump over an initialized variable definition is okay\n",
    "begin:\n",
    "    int sz = get_size();\n",
    "    if (sz <= 0) {\n",
    "        goto begin;\n",
    "    }\n",
    "```"
   ]
  },
  {
   "cell_type": "markdown",
   "id": "6939933c-4c94-47e7-9afa-275e41b5f523",
   "metadata": {},
   "source": [
    "A:\n",
    "```\n",
    "int sz = get_size();\n",
    "while (sz <= 0)\n",
    "    sz = get_size();\n",
    "```"
   ]
  },
  {
   "cell_type": "markdown",
   "id": "2ce0179a-d5f7-4d82-a5be-99e6833cb45b",
   "metadata": {},
   "source": [
    "## EXERCISES SECTION 5.6.3\n"
   ]
  },
  {
   "cell_type": "markdown",
   "id": "5198fdc8-1ba2-440e-93ad-528eb9906a48",
   "metadata": {},
   "source": [
    "### Exercise 5.23:\n",
    "Write a program that reads two integers from the standard input and\n",
    "prints the result of dividing the first number by the second.\n"
   ]
  },
  {
   "cell_type": "code",
   "execution_count": 3,
   "id": "1636ab77-3b6c-4fe6-8f42-511c82b0bb32",
   "metadata": {},
   "outputs": [
    {
     "name": "stdin",
     "output_type": "stream",
     "text": [
      " 6 3\n"
     ]
    },
    {
     "name": "stdout",
     "output_type": "stream",
     "text": [
      "2\n"
     ]
    }
   ],
   "source": [
    "#include <iostream>\n",
    "using std::cin, std::cout, std::endl;\n",
    "\n",
    "int i1, i2;\n",
    "cin >> i1 >> i2;\n",
    "cout << i1 / i2 << endl;\n"
   ]
  },
  {
   "cell_type": "markdown",
   "id": "e3b3a950-03a9-4a58-b612-f910b995d52f",
   "metadata": {},
   "source": [
    "### Exercise 5.24:\n",
    "Revise your program to throw an exception if the second number is\n",
    "zero. Test your program with a zero input to see what happens on your system if you\n",
    "don’t catch an exception."
   ]
  },
  {
   "cell_type": "code",
   "execution_count": 2,
   "id": "e97b246a-65b7-4f6b-b733-442054af265b",
   "metadata": {},
   "outputs": [
    {
     "name": "stdin",
     "output_type": "stream",
     "text": [
      " 6 0\n"
     ]
    },
    {
     "ename": "Standard Exception",
     "evalue": "Divisor must not be 0",
     "output_type": "error",
     "traceback": [
      "Standard Exception: Divisor must not be 0"
     ]
    }
   ],
   "source": [
    "#include <iostream>\n",
    "#include <stdexcept>\n",
    "using std::cin, std::cout, std::endl, std::runtime_error;\n",
    "\n",
    "int i1, i2;\n",
    "cin >> i1 >> i2;\n",
    "if (i2 == 0)\n",
    "    throw runtime_error(\"Divisor must not be 0\");\n",
    "cout << i1 / i2 << endl;\n"
   ]
  },
  {
   "cell_type": "markdown",
   "id": "fa46b3d0-b820-408a-bf38-f0eb1d5523b2",
   "metadata": {},
   "source": [
    "### Exercise 5.25:\n",
    "Revise your program from the previous exercise to use a try block to\n",
    "catch the exception. The catch clause should print a message to the user and ask\n",
    "them to supply a new number and repeat the code inside the try."
   ]
  },
  {
   "cell_type": "code",
   "execution_count": 2,
   "id": "9b0a4436-13c7-4f48-9162-3a1d9aa0ee78",
   "metadata": {},
   "outputs": [
    {
     "name": "stdin",
     "output_type": "stream",
     "text": [
      " 6 0\n"
     ]
    },
    {
     "name": "stdout",
     "output_type": "stream",
     "text": [
      "Divisor must not be 0\n",
      "Provide divisor without 0\n"
     ]
    },
    {
     "name": "stdin",
     "output_type": "stream",
     "text": [
      " 0 0\n"
     ]
    },
    {
     "name": "stdout",
     "output_type": "stream",
     "text": [
      "Divisor must not be 0\n",
      "Provide divisor without 0\n"
     ]
    },
    {
     "name": "stdin",
     "output_type": "stream",
     "text": [
      " 6 3\n"
     ]
    },
    {
     "name": "stdout",
     "output_type": "stream",
     "text": [
      "2\n"
     ]
    }
   ],
   "source": [
    "#include <iostream>\n",
    "#include <stdexcept>\n",
    "using std::cin, std::cout, std::endl, std::runtime_error;\n",
    "\n",
    "int i1, i2;\n",
    "while (true)\n",
    "{\n",
    "    try \n",
    "    {\n",
    "        cin >> i1 >> i2;\n",
    "        if (i2 == 0)\n",
    "            throw runtime_error(\"Divisor must not be 0\");\n",
    "        cout << i1 / i2 << endl;\n",
    "        break;\n",
    "    }\n",
    "    catch (runtime_error err)\n",
    "    {\n",
    "        cout << err.what() << endl << \"Provide divisor without 0\" << endl;\n",
    "    }\n",
    "}\n"
   ]
  }
 ],
 "metadata": {
  "kernelspec": {
   "display_name": "C++17",
   "language": "C++17",
   "name": "xcpp17"
  },
  "language_info": {
   "codemirror_mode": "text/x-c++src",
   "file_extension": ".cpp",
   "mimetype": "text/x-c++src",
   "name": "c++",
   "version": "17"
  }
 },
 "nbformat": 4,
 "nbformat_minor": 5
}
