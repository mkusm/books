{
 "cells": [
  {
   "cell_type": "markdown",
   "id": "70f6f461-5ce2-4431-b132-3b2f69c6a87f",
   "metadata": {},
   "source": [
    "# Chapter 1 Getting Started"
   ]
  },
  {
   "cell_type": "markdown",
   "id": "868945d4-15aa-406e-98a4-2123a81ae44c",
   "metadata": {
    "tags": []
   },
   "source": [
    "## Exercises Section 1.1"
   ]
  },
  {
   "cell_type": "markdown",
   "id": "0074d251-1646-4f40-834b-4838a72d294d",
   "metadata": {
    "tags": []
   },
   "source": [
    "### Exercise 1.1:\n",
    "Review the documentation for your compiler \n",
    "and determine what file naming convention it uses. Compile\n",
    "and run the main program from page 2"
   ]
  },
  {
   "cell_type": "code",
   "execution_count": 3,
   "id": "2b8b8b05-4908-4833-9b40-d3e8d8a04353",
   "metadata": {},
   "outputs": [
    {
     "data": {
      "text/plain": [
       "0"
      ]
     },
     "execution_count": 3,
     "metadata": {},
     "output_type": "execute_result"
    }
   ],
   "source": [
    "// Compiler used for these notebooks is cling (C++ interpreter developed by CERN).\n",
    "// As all the code in notebook cells is internally run within cling's `main`, main defined below will act like a normal function\n",
    "\n",
    "int main()\n",
    "{\n",
    "    return 0;\n",
    "}\n",
    "main()"
   ]
  },
  {
   "cell_type": "markdown",
   "id": "bd7166ca-725e-4456-aea7-aa9203c7f8a1",
   "metadata": {},
   "source": [
    "### Exercise 1.2: \n",
    "Change the program to return -1. A\n",
    "return value of -1 is often treated as an indicator that the\n",
    "program failed. Recompile and rerun your program to see\n",
    "how your system treats a failure indicator from main."
   ]
  },
  {
   "cell_type": "code",
   "execution_count": 4,
   "id": "a175fc67-f068-4c8a-8dd2-18d0af7f8b81",
   "metadata": {},
   "outputs": [
    {
     "data": {
      "text/plain": [
       "-1"
      ]
     },
     "execution_count": 4,
     "metadata": {},
     "output_type": "execute_result"
    }
   ],
   "source": [
    "int main()\n",
    "{\n",
    "    return -1;\n",
    "}\n",
    "main()"
   ]
  },
  {
   "cell_type": "markdown",
   "id": "6b5fecb2-9e32-4250-b36c-c00da0bdedfb",
   "metadata": {
    "tags": []
   },
   "source": [
    "## Exercises Section 1.2"
   ]
  },
  {
   "cell_type": "markdown",
   "id": "d3ad4a72-a17d-4533-989b-a87283deea93",
   "metadata": {
    "tags": []
   },
   "source": [
    "### Exercise 1.3:\n",
    "Write a program to print Hello, World\n",
    "on the standard output."
   ]
  },
  {
   "cell_type": "code",
   "execution_count": 2,
   "id": "2a048c8c-0e41-4e3d-8684-32b375b56650",
   "metadata": {},
   "outputs": [],
   "source": [
    "#include <iostream>"
   ]
  },
  {
   "cell_type": "code",
   "execution_count": 6,
   "id": "ebdeb221-2704-463f-8796-4dd0fb188729",
   "metadata": {},
   "outputs": [
    {
     "name": "stdout",
     "output_type": "stream",
     "text": [
      "Hello, World\n"
     ]
    }
   ],
   "source": [
    "std::cout << \"Hello, World\" <<std::endl;"
   ]
  },
  {
   "cell_type": "markdown",
   "id": "f49a75fd-6847-40c5-8874-349d903754af",
   "metadata": {},
   "source": [
    "### Exercise 1.4:\n",
    "Our program used the addition operator, +, to add two numbers. Write\n",
    "a program that uses the multiplication operator, *, to print the product instead."
   ]
  },
  {
   "cell_type": "code",
   "execution_count": 7,
   "id": "3c23eb63-3822-4d08-8a47-9ec47f4a7ba7",
   "metadata": {},
   "outputs": [
    {
     "name": "stdout",
     "output_type": "stream",
     "text": [
      "Enter two numbers:\n"
     ]
    },
    {
     "name": "stdin",
     "output_type": "stream",
     "text": [
      " 9 8\n"
     ]
    },
    {
     "name": "stdout",
     "output_type": "stream",
     "text": [
      "The product of 9 and 8 is 72\n"
     ]
    }
   ],
   "source": [
    "std::cout << \"Enter two numbers:\" <<std::endl;\n",
    "int v1 = 0, v2 = 0;\n",
    "std::cin >> v1 >> v2;\n",
    "std::cout << \"The product of \" << v1 << \" and \" << v2 << \" is \" << v1 * v2 << std::endl;"
   ]
  },
  {
   "cell_type": "markdown",
   "id": "26a66391-7449-45d8-a779-5d4a08e0e191",
   "metadata": {},
   "source": [
    "### Exercise 1.5: \n",
    "We wrote the output in one large statement. Rewrite the program to use\n",
    "a separate statement to print each operand."
   ]
  },
  {
   "cell_type": "code",
   "execution_count": 8,
   "id": "bbd40abf-b2b4-4e60-8bf3-61d761ff8d5e",
   "metadata": {},
   "outputs": [
    {
     "name": "stdout",
     "output_type": "stream",
     "text": [
      "Enter two numbers:\n"
     ]
    },
    {
     "name": "stdin",
     "output_type": "stream",
     "text": [
      " 9 8\n"
     ]
    },
    {
     "name": "stdout",
     "output_type": "stream",
     "text": [
      "v1 is 9\n",
      "and v2 is 8\n"
     ]
    }
   ],
   "source": [
    "std::cout << \"Enter two numbers:\" <<std::endl;\n",
    "int v1 = 0, v2 = 0;\n",
    "std::cin >> v1 >> v2;\n",
    "std::cout << \"v1 is \" << v1 << std::endl;\n",
    "std::cout << \"and v2 is \" << v2 << std::endl;"
   ]
  },
  {
   "cell_type": "markdown",
   "id": "a33db9c9-492e-4126-99e6-2d4c9fe01487",
   "metadata": {},
   "source": [
    "### Exercise 1.6: \n",
    "Explain whether the following program fragment is legal.\n",
    "\n",
    "```\n",
    "std::cout << \"The sum of \" << v1;\n",
    "          << \" and \" << v2;\n",
    "          << \" is \" << v1 + v2 << std::endl;\n",
    "```\n",
    "\n",
    "If the program is legal, what does it do? If the program is not legal, why not? How\n",
    "would you fix it?"
   ]
  },
  {
   "cell_type": "code",
   "execution_count": 9,
   "id": "9f13ebca-bc0f-4649-b15b-e1ac0b69186a",
   "metadata": {},
   "outputs": [
    {
     "name": "stderr",
     "output_type": "stream",
     "text": [
      "input_line_19:6:11: error: expected expression\n",
      "          << \" and \" << v2;\n",
      "          ^\n",
      "input_line_19:7:11: error: expected expression\n",
      "          << \" is \" << v1 + v2 << std::endl;\n",
      "          ^\n"
     ]
    },
    {
     "ename": "Interpreter Error",
     "evalue": "",
     "output_type": "error",
     "traceback": [
      "Interpreter Error: "
     ]
    }
   ],
   "source": [
    "// The program is not legal, because of semicolons in 1st and second line, while it's a single multi-line statement\n",
    "\n",
    "int v1 = 0, v2 = 0;\n",
    "std::cin >> v1 >> v2;\n",
    "std::cout << \"The sum of \" << v1;\n",
    "          << \" and \" << v2;\n",
    "          << \" is \" << v1 + v2 << std::endl;"
   ]
  },
  {
   "cell_type": "code",
   "execution_count": 11,
   "id": "47fcc1d1-3c51-47a8-9b63-d2c9367040b2",
   "metadata": {},
   "outputs": [
    {
     "name": "stdin",
     "output_type": "stream",
     "text": [
      " 9 8\n"
     ]
    },
    {
     "name": "stdout",
     "output_type": "stream",
     "text": [
      "The sum of 9 and 8 is 17\n"
     ]
    }
   ],
   "source": [
    "// Fixed version without semicolons\n",
    "\n",
    "int v1 = 0, v2 = 0;\n",
    "std::cin >> v1 >> v2;\n",
    "std::cout << \"The sum of \" << v1\n",
    "          << \" and \" << v2\n",
    "          << \" is \" << v1 + v2 << std::endl;"
   ]
  },
  {
   "cell_type": "markdown",
   "id": "1c826d06-2684-4631-8323-dab594e1826b",
   "metadata": {
    "tags": []
   },
   "source": [
    "## Exercises Section 1.3"
   ]
  },
  {
   "cell_type": "markdown",
   "id": "1aa66558-8986-4d8a-88ba-6d31ede73948",
   "metadata": {
    "jp-MarkdownHeadingCollapsed": true,
    "tags": []
   },
   "source": [
    "### Exercise 1.7:\n",
    "Compile a program that has incorrectly nested comments."
   ]
  },
  {
   "cell_type": "code",
   "execution_count": 13,
   "id": "eaf0dc86-1f32-473a-9174-c81f1190888d",
   "metadata": {},
   "outputs": [
    {
     "name": "stderr",
     "output_type": "stream",
     "text": [
      "input_line_23:3:18: warning: '/*' within block comment [-Wcomment]\n",
      " * comment pairs /* */ cannot nest.\n",
      "                 ^\n",
      "input_line_23:3:24: error: unknown type name 'cannot'\n",
      " * comment pairs /* */ cannot nest.\n",
      "                       ^\n",
      "input_line_23:3:35: error: expected ';' at end of declaration\n",
      " * comment pairs /* */ cannot nest.\n",
      "                                  ^\n",
      "                                  ;\n",
      "input_line_23:4:4: error: non-ASCII characters are not allowed outside of literals and identifiers\n",
      " * ‘‘cannot nest’’ is considered source code,\n",
      "   ^\n",
      "input_line_23:4:7: error: non-ASCII characters are not allowed outside of literals and identifiers\n",
      " * ‘‘cannot nest’’ is considered source code,\n",
      "    ^\n",
      "input_line_23:4:21: error: non-ASCII characters are not allowed outside of literals and identifiers\n",
      " * ‘‘cannot nest’’ is considered source code,\n",
      "                ^\n",
      "input_line_23:4:24: error: non-ASCII characters are not allowed outside of literals and identifiers\n",
      " * ‘‘cannot nest’’ is considered source code,\n",
      "                 ^\n"
     ]
    },
    {
     "ename": "Interpreter Error",
     "evalue": "",
     "output_type": "error",
     "traceback": [
      "Interpreter Error: "
     ]
    }
   ],
   "source": [
    "/*\n",
    " * comment pairs /* */ cannot nest.\n",
    " * ‘‘cannot nest’’ is considered source code,\n",
    " * as is the rest of the program\n",
    " */"
   ]
  },
  {
   "cell_type": "markdown",
   "id": "cb6a1062-cdd2-43d8-b309-a79d1efd824f",
   "metadata": {},
   "source": [
    "Exercise 1.8: Indicate which, if any, of the following output statements are legal:\n",
    "```\n",
    "std::cout << \"/*\";\n",
    "std::cout << \"*/\";\n",
    "std::cout << /* \"*/\" */;\n",
    "std::cout << /* \"*/\" /* \"/*\" */;\n",
    "```\n",
    "After you’ve predicted what will happen, test your answers by compiling a program\n",
    "with each of these statements. Correct any errors you encounter."
   ]
  },
  {
   "cell_type": "code",
   "execution_count": 2,
   "id": "282ef951-77b3-4b74-a307-baf4cd34c899",
   "metadata": {},
   "outputs": [],
   "source": [
    "#include <iostream>"
   ]
  },
  {
   "cell_type": "code",
   "execution_count": 14,
   "id": "0cc598b0-12bf-4862-aefb-7b649861af33",
   "metadata": {},
   "outputs": [
    {
     "name": "stdout",
     "output_type": "stream",
     "text": [
      "/*"
     ]
    }
   ],
   "source": [
    "// should print `/*`\n",
    "std::cout << \"/*\";"
   ]
  },
  {
   "cell_type": "code",
   "execution_count": 15,
   "id": "00642485-8646-4d98-becb-e68cd3d1bc7d",
   "metadata": {},
   "outputs": [
    {
     "name": "stdout",
     "output_type": "stream",
     "text": [
      "*/"
     ]
    }
   ],
   "source": [
    "// should print `*/`\n",
    "std::cout << \"*/\";"
   ]
  },
  {
   "cell_type": "code",
   "execution_count": 16,
   "id": "e0b1be24-b345-40f7-bb98-4e7a5e8a92ea",
   "metadata": {},
   "outputs": [
    {
     "name": "stderr",
     "output_type": "stream",
     "text": [
      "input_line_26:3:20: warning: missing terminating '\"' character [-Winvalid-pp-token]\n",
      "std::cout << /* \"*/\" */;\n",
      "                   ^\n",
      "input_line_26:3:20: error: expected expression\n"
     ]
    },
    {
     "ename": "Interpreter Error",
     "evalue": "",
     "output_type": "error",
     "traceback": [
      "Interpreter Error: "
     ]
    }
   ],
   "source": [
    "// should throw an error\n",
    "std::cout << /* \"*/\" */;"
   ]
  },
  {
   "cell_type": "code",
   "execution_count": 17,
   "id": "600fc3b0-3211-4a07-86ce-1406b085fbac",
   "metadata": {},
   "outputs": [
    {
     "name": "stdout",
     "output_type": "stream",
     "text": [
      "*/"
     ]
    }
   ],
   "source": [
    "// corrected version of the above (although it's hard to determine what it was supposed to do)\n",
    "std::cout << /* \"*\" */ \"*/\";"
   ]
  },
  {
   "cell_type": "code",
   "execution_count": 18,
   "id": "2d823c7c-3f66-481c-98f0-220b387291f1",
   "metadata": {},
   "outputs": [
    {
     "name": "stdout",
     "output_type": "stream",
     "text": [
      " /* "
     ]
    }
   ],
   "source": [
    "// should print ` /* `, as there are `\"` characters around it while outside of the comment pairs\n",
    "std::cout << /* \"*/\" /* \"/*\" */;"
   ]
  },
  {
   "cell_type": "markdown",
   "id": "7b1d6d9b-5a3d-4315-8bd4-877d037b8d9e",
   "metadata": {
    "tags": []
   },
   "source": [
    "## Exercises Section 1.4.1"
   ]
  },
  {
   "cell_type": "markdown",
   "id": "ee46118c-31eb-48a3-98d5-9438504444b1",
   "metadata": {},
   "source": [
    "### Exercise 1.9:\n",
    "Write a program that uses a while to sum the numbers from 50 to 100."
   ]
  },
  {
   "cell_type": "code",
   "execution_count": 2,
   "id": "422c3770-e303-4f44-aa74-70227469cf4c",
   "metadata": {},
   "outputs": [],
   "source": [
    "#include <iostream>"
   ]
  },
  {
   "cell_type": "code",
   "execution_count": 19,
   "id": "f2cc2b52-aab5-40d4-a353-15a470e52723",
   "metadata": {},
   "outputs": [
    {
     "name": "stdout",
     "output_type": "stream",
     "text": [
      "3825\n"
     ]
    }
   ],
   "source": [
    "int i = 50;\n",
    "int sum = 0;\n",
    "while (i <= 100)\n",
    "{\n",
    "    sum += i;\n",
    "    i++;\n",
    "}\n",
    "std::cout << sum << std::endl;"
   ]
  },
  {
   "cell_type": "markdown",
   "id": "ebe2a42b-0afa-41b8-954b-4d216d309c19",
   "metadata": {},
   "source": [
    "### Exercise 1.10:\n",
    "In addition to the ++ operator that adds 1 to its operand, there is a\n",
    "decrement operator (--) that subtracts 1. Use the decrement operator to write a while\n",
    "that prints the numbers from ten down to zero."
   ]
  },
  {
   "cell_type": "code",
   "execution_count": 21,
   "id": "f09dea42-c2cc-4612-9c29-6ab47508d404",
   "metadata": {},
   "outputs": [
    {
     "name": "stdout",
     "output_type": "stream",
     "text": [
      "10 9 8 7 6 5 4 3 2 1 0 \n"
     ]
    }
   ],
   "source": [
    "int i = 10;\n",
    "while (i >= 0) {\n",
    "    std::cout << i << \" \";\n",
    "    i--;\n",
    "}\n",
    "std::cout << std::endl;"
   ]
  },
  {
   "cell_type": "markdown",
   "id": "0af704a5-866a-47ca-a5f0-85a54fc3a56c",
   "metadata": {},
   "source": [
    "### Exercise 1.11:\n",
    "Write a program that prompts the user for two integers. Print each\n",
    "number in the range specified by those two integers."
   ]
  },
  {
   "cell_type": "code",
   "execution_count": 23,
   "id": "424a53f1-b03a-4be7-807f-1c2bfc7da4b0",
   "metadata": {},
   "outputs": [
    {
     "name": "stdin",
     "output_type": "stream",
     "text": [
      " 5 10\n"
     ]
    },
    {
     "name": "stdout",
     "output_type": "stream",
     "text": [
      "5 6 7 8 9 10\n"
     ]
    }
   ],
   "source": [
    "int v1 = 0, v2 = 0;\n",
    "std::cin >> v1 >> v2;\n",
    "\n",
    "int curr = v1;\n",
    "while (curr < v2) {\n",
    "    std::cout << curr << \" \";\n",
    "    curr++;\n",
    "}\n",
    "std::cout << curr << std::endl;"
   ]
  },
  {
   "cell_type": "markdown",
   "id": "5861c6d6-f70e-4f7f-9aa0-7d170f5cfb7c",
   "metadata": {
    "tags": []
   },
   "source": [
    "## Exercises Section 1.4.2"
   ]
  },
  {
   "cell_type": "markdown",
   "id": "165c10cd-8d04-4c98-9185-0a31e8ecc006",
   "metadata": {},
   "source": [
    "### Exercise 1.12:\n",
    "What does the following for loop do? What is the final value of sum?\n",
    "```\n",
    "int sum = 0;\n",
    "for (int i = -100; i <= 100; ++i)\n",
    "    sum += i;\n",
    "```"
   ]
  },
  {
   "cell_type": "code",
   "execution_count": 24,
   "id": "3701b72d-bfc9-4462-8f8d-8f339665094e",
   "metadata": {},
   "outputs": [
    {
     "data": {
      "text/plain": [
       "0"
      ]
     },
     "execution_count": 24,
     "metadata": {},
     "output_type": "execute_result"
    }
   ],
   "source": [
    "// final value of sum should be 0, as there's an equal number of corresponding negative and positive values\n",
    "\n",
    "int sum = 0;\n",
    "for (int i = -100; i <= 100; ++i)\n",
    "    sum += i;\n",
    "sum"
   ]
  },
  {
   "cell_type": "markdown",
   "id": "864ea222-bdf6-4baf-abfc-0beb310055dd",
   "metadata": {},
   "source": [
    "### Exercise 1.13:\n",
    "Rewrite the first two exercises from § 1.4.1 (p. 13) using for loops."
   ]
  },
  {
   "cell_type": "code",
   "execution_count": 3,
   "id": "91fd758e-70be-4d63-a5bb-7503f72627bd",
   "metadata": {},
   "outputs": [
    {
     "name": "stdout",
     "output_type": "stream",
     "text": [
      "3825\n"
     ]
    }
   ],
   "source": [
    "int sum = 0;\n",
    "for (int i = 50; i <= 100; i++)\n",
    "    sum += i;\n",
    "sum"
   ]
  },
  {
   "cell_type": "code",
   "execution_count": 2,
   "id": "11f4e95f-5823-43e0-bed7-8f4a1882be5b",
   "metadata": {},
   "outputs": [],
   "source": [
    "#include <iostream>"
   ]
  },
  {
   "cell_type": "code",
   "execution_count": 4,
   "id": "7aa0836b-40b7-47d2-b508-fc802530169a",
   "metadata": {},
   "outputs": [
    {
     "name": "stdout",
     "output_type": "stream",
     "text": [
      "10 9 8 7 6 5 4 3 2 1 0 \n"
     ]
    }
   ],
   "source": [
    "for (int i = 10; i >= 0; i--) {\n",
    "    std::cout << i << \" \";\n",
    "}\n",
    "std::cout << std::endl;"
   ]
  },
  {
   "cell_type": "markdown",
   "id": "c850cecf-aa27-4f0e-be54-4b48b14ed672",
   "metadata": {},
   "source": [
    "### Exercise 1.14:\n",
    "Compare and contrast the loops that used a for with those using a\n",
    "while. Are there advantages or disadvantages to using either form?"
   ]
  },
  {
   "cell_type": "markdown",
   "id": "3a322d1f-cf85-4135-8e56-2f02ff6b7872",
   "metadata": {},
   "source": [
    "A: \n",
    "\n",
    "`for` loops take less lines and need less variables defined outside of the loop.\n",
    "    \n",
    "We didn't see it in examples so far, but `while` loops can be used in cases where we don't know how many times the loop will have to run - that's when they're better than `for` loops"
   ]
  },
  {
   "cell_type": "markdown",
   "id": "aa0cd8de-c7fc-42e7-a9fe-96ce5f493baf",
   "metadata": {
    "tags": []
   },
   "source": [
    "### Exercise 1.15:\n",
    "Write programs that contain the common errors discussed in the box\n",
    "on page 16. Familiarize yourself with the messages the compiler generates."
   ]
  },
  {
   "cell_type": "code",
   "execution_count": 6,
   "id": "f8c7ebd3-4c77-4708-9fe0-7d0c08be843d",
   "metadata": {},
   "outputs": [
    {
     "name": "stderr",
     "output_type": "stream",
     "text": [
      "input_line_12:3:44: error: expected ';' after expression\n",
      "std::cout << \"Read each file.\" << std::endl:\n",
      "                                           ^\n",
      "                                           ;\n"
     ]
    },
    {
     "ename": "Interpreter Error",
     "evalue": "",
     "output_type": "error",
     "traceback": [
      "Interpreter Error: "
     ]
    }
   ],
   "source": [
    "// syntax error: used colon, not a semicolon, after endl\n",
    "std::cout << \"Read each file.\" << std::endl:"
   ]
  },
  {
   "cell_type": "code",
   "execution_count": 7,
   "id": "3232f476-62f7-498a-999d-32f78380bf81",
   "metadata": {},
   "outputs": [
    {
     "name": "stderr",
     "output_type": "stream",
     "text": [
      "input_line_13:3:5: error: cannot initialize a variable of type 'int' with an lvalue of type 'const char [5]'\n",
      "int not_really_an_int = \"test\";\n",
      "    ^                   ~~~~~~\n"
     ]
    },
    {
     "ename": "Interpreter Error",
     "evalue": "",
     "output_type": "error",
     "traceback": [
      "Interpreter Error: "
     ]
    }
   ],
   "source": [
    "// type error\n",
    "int not_really_an_int = \"test\";"
   ]
  },
  {
   "cell_type": "code",
   "execution_count": 8,
   "id": "1a914c91-f886-4eac-86df-25cc4162a575",
   "metadata": {},
   "outputs": [
    {
     "name": "stderr",
     "output_type": "stream",
     "text": [
      "input_line_14:3:1: error: use of undeclared identifier 'cout'; did you mean 'std::cout'?\n",
      "cout << v1 + v2 << std::endl;\n",
      "^~~~\n",
      "std::cout\n",
      "/opt/conda/bin/../lib/gcc/x86_64-conda-linux-gnu/9.3.0/../../../../x86_64-conda-linux-gnu/include/c++/9.3.0/iostream:61:18: note: 'std::cout' declared here\n",
      "  extern ostream cout;          /// Linked to standard output\n",
      "                 ^\n",
      "input_line_14:3:9: error: use of undeclared identifier 'v1'\n",
      "cout << v1 + v2 << std::endl;\n",
      "        ^\n",
      "input_line_14:3:14: error: use of undeclared identifier 'v2'\n",
      "cout << v1 + v2 << std::endl;\n",
      "             ^\n"
     ]
    },
    {
     "ename": "Interpreter Error",
     "evalue": "",
     "output_type": "error",
     "traceback": [
      "Interpreter Error: "
     ]
    }
   ],
   "source": [
    "// declaration error: cout not defined; should be std::cout\n",
    "cout << v1 + v2 << std::endl;"
   ]
  },
  {
   "cell_type": "markdown",
   "id": "ef9c8921-0455-42f4-a2ff-f6e5220ae70d",
   "metadata": {
    "tags": []
   },
   "source": [
    "## Exercises Section 1.4.3"
   ]
  },
  {
   "cell_type": "markdown",
   "id": "c8acef81-9a08-420d-a38b-7e2684881083",
   "metadata": {},
   "source": [
    "### Exercise 1.16:\n",
    "Write your own version of a program that prints the sum of a set of\n",
    "integers read from cin."
   ]
  },
  {
   "cell_type": "code",
   "execution_count": 1,
   "id": "8e98cfa1-fe79-45f5-bdda-cfd27753939d",
   "metadata": {},
   "outputs": [],
   "source": [
    "#include <iostream>"
   ]
  },
  {
   "cell_type": "code",
   "execution_count": 2,
   "id": "2830ff8a-979d-47ed-a679-954b8cc6aa99",
   "metadata": {},
   "outputs": [
    {
     "name": "stdin",
     "output_type": "stream",
     "text": [
      " 1 2 3\n",
      " end\n"
     ]
    },
    {
     "data": {
      "text/plain": [
       "6"
      ]
     },
     "execution_count": 2,
     "metadata": {},
     "output_type": "execute_result"
    }
   ],
   "source": [
    "// this is the simplest solution, but there's no way to pass end-of-file to the xeus-cling kernel\n",
    "/*\n",
    "int i = 0;\n",
    "int sum = 0;\n",
    "while (std::cin >> i)\n",
    "    sum += i;\n",
    "sum\n",
    "*/"
   ]
  },
  {
   "cell_type": "code",
   "execution_count": 5,
   "id": "b0a9c836-41c3-4170-94fe-b1608339853d",
   "metadata": {},
   "outputs": [
    {
     "name": "stdin",
     "output_type": "stream",
     "text": [
      " 1 2 3\n",
      " end\n"
     ]
    },
    {
     "data": {
      "text/plain": [
       "6"
      ]
     },
     "execution_count": 5,
     "metadata": {},
     "output_type": "execute_result"
    }
   ],
   "source": [
    "// instead, we can define string input and use `end` to finish loop\n",
    "std::string input;\n",
    "int sum = 0;\n",
    "while (std::cin >> input && input != \"end\")\n",
    "    sum += std::stoi(input);\n",
    "sum"
   ]
  },
  {
   "cell_type": "code",
   "execution_count": 7,
   "id": "d8b0716c-756c-4ca5-9c51-946ca4cad0a5",
   "metadata": {},
   "outputs": [
    {
     "name": "stdin",
     "output_type": "stream",
     "text": [
      " 1 2 3 -1\n"
     ]
    },
    {
     "data": {
      "text/plain": [
       "6"
      ]
     },
     "execution_count": 7,
     "metadata": {},
     "output_type": "execute_result"
    }
   ],
   "source": [
    "// or, use -1 instead\n",
    "int i = 0;\n",
    "int sum = 0;\n",
    "while (std::cin >> i && i != -1)\n",
    "    sum += i;\n",
    "sum"
   ]
  },
  {
   "cell_type": "markdown",
   "id": "bd307e21-8ce2-4ff7-894b-18953a70198c",
   "metadata": {
    "tags": []
   },
   "source": [
    "## Exercises Section 1.4.4"
   ]
  },
  {
   "cell_type": "markdown",
   "id": "2b10d346-94c9-4647-97d7-f980f48ef352",
   "metadata": {
    "tags": []
   },
   "source": [
    "### Exercise 1.17:\n",
    "What happens in the program presented in this section if the input values are all equal?\n",
    "What if there are no duplicated values?\n",
    "    \n",
    "```\n",
    "#include <iostream>\n",
    "int main()\n",
    "{\n",
    "    // currVal is the number we’re counting; we’ll read new values into val\n",
    "    int currVal = 0, val = 0;\n",
    "\n",
    "    // read first number and ensure that we have data to process\n",
    "    if (std::cin >> currVal) {\n",
    "        int cnt = 1;  // store the count for the current value we’re processing\n",
    "        while (std::cin >> val) {   // read the remaining numbers\n",
    "            if (val == currVal)     // if the values are the same\n",
    "                ++cnt;              // add 1 to cnt\n",
    "            else {                  // otherwise, print the count for the previous value\n",
    "                std::cout << currVal << \" occurs \"\n",
    "                          << cnt << \" times\" << std::endl;\n",
    "                currVal = val;      // remember the new value\n",
    "                cnt = 1;            // reset the counter\n",
    "            }\n",
    "        } // while loop ends here\n",
    "        // remember to print the count for the last value in the file\n",
    "        std::cout << currVal << \" occurs \"\n",
    "                  << cnt << \" times\" << std::endl;\n",
    "    } // outermost if statement ends here\n",
    "    return 0;\n",
    "}\n",
    "```"
   ]
  },
  {
   "cell_type": "markdown",
   "id": "bbd006f5-634e-4c87-92dc-e752af9baf7c",
   "metadata": {},
   "source": [
    "A:\n",
    "\n",
    "If input values are all equal, else will never run, but one line of output counting these values will be run at the end\n",
    "\n",
    "If there are no duplicates values, each value will be counted once and printed"
   ]
  },
  {
   "cell_type": "code",
   "execution_count": 9,
   "id": "660493c3-4630-4174-a2db-d2e8f0d92cc2",
   "metadata": {},
   "outputs": [],
   "source": [
    "#include <iostream>\n",
    "\n",
    "void count_repeats()\n",
    "{\n",
    "    // currVal is the number we’re counting; we’ll read new values into val\n",
    "    int currVal = 0, val = 0;\n",
    "\n",
    "    // read first number and ensure that we have data to process\n",
    "    if (std::cin >> currVal) {\n",
    "        int cnt = 1;  // store the count for the current value we’re processing\n",
    "        while (std::cin >> val && val != -1) {   // read the remaining numbers\n",
    "            if (val == currVal)     // if the values are the same\n",
    "                ++cnt;              // add 1 to cnt\n",
    "            else {                  // otherwise, print the count for the previous value\n",
    "                std::cout << currVal << \" occurs \"\n",
    "                          << cnt << \" times\" << std::endl;\n",
    "                currVal = val;      // remember the new value\n",
    "                cnt = 1;            // reset the counter\n",
    "            }\n",
    "        } // while loop ends here\n",
    "        // remember to print the count for the last value in the file\n",
    "        std::cout << currVal << \" occurs \"\n",
    "                  << cnt << \" times\" << std::endl;\n",
    "    } // outermost if statement ends here\n",
    "    \n",
    "    return;\n",
    "}"
   ]
  },
  {
   "cell_type": "markdown",
   "id": "43a7981e-6e11-47e4-9eee-45c386c2e7f2",
   "metadata": {},
   "source": [
    "### Exercise 1.18:\n",
    "Compile and run the program from this section giving it only equal\n",
    "values as input. Run it again giving it values in which no number is repeated."
   ]
  },
  {
   "cell_type": "code",
   "execution_count": 10,
   "id": "c0837120-4e91-49f0-b4e7-2e943fa5d21f",
   "metadata": {},
   "outputs": [
    {
     "name": "stdin",
     "output_type": "stream",
     "text": [
      " 8 8 8 8 8 -1\n"
     ]
    },
    {
     "name": "stdout",
     "output_type": "stream",
     "text": [
      "8 occurs 5 times\n"
     ]
    }
   ],
   "source": [
    "count_repeats()"
   ]
  },
  {
   "cell_type": "code",
   "execution_count": 11,
   "id": "70d6ac89-de0d-4645-aa11-c391569b9502",
   "metadata": {},
   "outputs": [
    {
     "name": "stdin",
     "output_type": "stream",
     "text": [
      " 8 7 6 5 1 -1\n"
     ]
    },
    {
     "name": "stdout",
     "output_type": "stream",
     "text": [
      "8 occurs 1 times\n",
      "7 occurs 1 times\n",
      "6 occurs 1 times\n",
      "5 occurs 1 times\n",
      "1 occurs 1 times\n"
     ]
    }
   ],
   "source": [
    "count_repeats()"
   ]
  },
  {
   "cell_type": "markdown",
   "id": "dd7435b5-1f0b-47d5-990c-a8b6a6de1f47",
   "metadata": {},
   "source": [
    "### Exercise 1.19:\n",
    "Revise the program you wrote for the exercises in § 1.4.1 (p. 13) that\n",
    "printed a range of numbers so that it handles input in which the first number is smaller\n",
    "than the second."
   ]
  },
  {
   "cell_type": "code",
   "execution_count": 11,
   "id": "7ea940d4-2b03-4322-bce2-423b7b58203f",
   "metadata": {},
   "outputs": [],
   "source": [
    "#include <iostream>\n",
    "\n",
    "void print_range() {\n",
    "    int v1 = 0, v2 = 0;\n",
    "    int curr = 0;\n",
    "    std::cin >> v1 >> v2;\n",
    "\n",
    "    if (v1 < v2) {\n",
    "        curr = v1;\n",
    "        while (curr < v2) {\n",
    "            std::cout << curr << \" \";\n",
    "            curr++;\n",
    "        }\n",
    "    } else {\n",
    "        curr = v1;\n",
    "        while (curr > v2) {\n",
    "            std::cout << curr << \" \";\n",
    "            curr--;\n",
    "        }\n",
    "    }\n",
    "\n",
    "    std::cout << curr << std::endl;\n",
    "}"
   ]
  },
  {
   "cell_type": "code",
   "execution_count": 12,
   "id": "4c9456f5-ae35-4a52-a763-9a7f5b92f505",
   "metadata": {},
   "outputs": [
    {
     "name": "stdin",
     "output_type": "stream",
     "text": [
      " 4 10\n"
     ]
    },
    {
     "name": "stdout",
     "output_type": "stream",
     "text": [
      "4 5 6 7 8 9 10\n"
     ]
    }
   ],
   "source": [
    "print_range()"
   ]
  },
  {
   "cell_type": "code",
   "execution_count": 13,
   "id": "189a369b-fdba-445f-b334-5f2ec7ee395b",
   "metadata": {},
   "outputs": [
    {
     "name": "stdin",
     "output_type": "stream",
     "text": [
      " 10 4\n"
     ]
    },
    {
     "name": "stdout",
     "output_type": "stream",
     "text": [
      "10 9 8 7 6 5 4\n"
     ]
    }
   ],
   "source": [
    "print_range()"
   ]
  },
  {
   "cell_type": "markdown",
   "id": "e38d6920-290a-46ff-a004-aa382bd038f2",
   "metadata": {
    "tags": []
   },
   "source": [
    "## Exercises Section 1.5.1"
   ]
  },
  {
   "cell_type": "markdown",
   "id": "8b413240-7468-4c73-b3bb-9c5976cf4c83",
   "metadata": {},
   "source": [
    "### Exercise 1.20:\n",
    "http://www.informit.com/title/0321714113 contains a copy\n",
    "of Sales_item.h in the Chapter 1 code directory. Copy that file to your working\n",
    "directory. Use it to write a program that reads a set of book sales transactions, writing\n",
    "each transaction to the standard output."
   ]
  },
  {
   "cell_type": "code",
   "execution_count": 9,
   "id": "7a2ac0b0-69d9-4f81-87ba-d785b00c576d",
   "metadata": {},
   "outputs": [
    {
     "name": "stdin",
     "output_type": "stream",
     "text": [
      " 0-201-78345-X 3 20.00\n"
     ]
    },
    {
     "name": "stdout",
     "output_type": "stream",
     "text": [
      "0-201-78345-X 3 60 20\n"
     ]
    },
    {
     "name": "stdin",
     "output_type": "stream",
     "text": [
      " 0-201-78345-X 2 25.00\n"
     ]
    },
    {
     "name": "stdout",
     "output_type": "stream",
     "text": [
      "0-201-78345-X 2 50 25\n"
     ]
    },
    {
     "name": "stdin",
     "output_type": "stream",
     "text": [
      " a a a\n"
     ]
    }
   ],
   "source": [
    "#include <iostream>\n",
    "#include \"Sales_item.h\"\n",
    "\n",
    "Sales_item item;\n",
    "\n",
    "while (std::cin >> item)\n",
    "    std::cout << item << std::endl;"
   ]
  },
  {
   "cell_type": "markdown",
   "id": "d6ac9920-8bf3-4484-be98-df18c34eaa29",
   "metadata": {
    "tags": []
   },
   "source": [
    "### Exercise 1.21: \n",
    "Write a program that reads two Sales_item objects that have the\n",
    "same ISBN and produces their sum."
   ]
  },
  {
   "cell_type": "code",
   "execution_count": 4,
   "id": "80ca2410-28a6-4b70-beb4-157f6fade5d6",
   "metadata": {},
   "outputs": [
    {
     "name": "stdin",
     "output_type": "stream",
     "text": [
      " 0-201-78345-X 3 20.00\n",
      " 0-201-78345-X 2 25.00\n"
     ]
    },
    {
     "name": "stdout",
     "output_type": "stream",
     "text": [
      "0-201-78345-X 5 110 22\n"
     ]
    }
   ],
   "source": [
    "#include <iostream>\n",
    "#include \"Sales_item.h\"\n",
    "\n",
    "Sales_item item1, item2;\n",
    "std::cin >> item1 >> item2;\n",
    "std::cout << item1 + item2 << std::endl;"
   ]
  },
  {
   "cell_type": "markdown",
   "id": "5ae53ebd-eb57-4402-a88c-437f1a416cfa",
   "metadata": {},
   "source": [
    "### Exercise 1.22:\n",
    "Write a program that reads several transactions for the same ISBN.\n",
    "Write the sum of all the transactions that were read."
   ]
  },
  {
   "cell_type": "code",
   "execution_count": 1,
   "id": "099ba641-9098-4708-a275-d074cca7599d",
   "metadata": {},
   "outputs": [
    {
     "name": "stdin",
     "output_type": "stream",
     "text": [
      " 0-201-78345-X 3 20.00\n",
      " 0-201-78345-X 2 25.00\n",
      "  0-201-78345-X 1 13\n",
      " end 1 1\n"
     ]
    },
    {
     "name": "stdout",
     "output_type": "stream",
     "text": [
      "0-201-78345-X 6 123 20.5\n"
     ]
    }
   ],
   "source": [
    "#include <iostream>\n",
    "#include \"Sales_item.h\"\n",
    "\n",
    "Sales_item item;\n",
    "\n",
    "Sales_item item_sum;\n",
    "std::cin >> item_sum;\n",
    "\n",
    "while (std::cin >> item && item.isbn() != \"end\")\n",
    "    item_sum = item_sum + item;\n",
    "\n",
    "std::cout << item_sum << std::endl;"
   ]
  },
  {
   "cell_type": "markdown",
   "id": "bc082686-6d39-46ab-b41a-59a718269ccf",
   "metadata": {
    "tags": []
   },
   "source": [
    "## Exercises Section 1.5.2"
   ]
  },
  {
   "cell_type": "markdown",
   "id": "218c3349-50a7-4515-bfc0-a643cf2c6033",
   "metadata": {},
   "source": [
    "### Exercise 1.23: \n",
    "Write a program that reads several transactions and counts how many\n",
    "transactions occur for each ISBN."
   ]
  },
  {
   "cell_type": "code",
   "execution_count": 3,
   "id": "a0570bad-f6cb-44da-a9e2-800a90bf8292",
   "metadata": {},
   "outputs": [],
   "source": [
    "#include <iostream>\n",
    "#include \"Sales_item.h\"\n",
    "\n",
    "void count_repeats()\n",
    "{\n",
    "    Sales_item item, currItem;\n",
    "\n",
    "    if (std::cin >> currItem) {\n",
    "        int cnt = 1;\n",
    "        while (std::cin >> item && item.isbn() != \"end\") {\n",
    "            if (item.isbn() == currItem.isbn())\n",
    "                ++cnt;\n",
    "            else {\n",
    "                std::cout << currItem.isbn() << \" occurs \" << cnt << \" times\" << std::endl;\n",
    "                currItem = item;\n",
    "                cnt = 1;\n",
    "            }\n",
    "        }\n",
    "        std::cout << currItem.isbn() << \" occurs \" << cnt << \" times\" << std::endl;\n",
    "    }\n",
    "}"
   ]
  },
  {
   "cell_type": "markdown",
   "id": "05bb14cf-b8ad-4f19-90d1-4025a999aee3",
   "metadata": {},
   "source": [
    "### Exercise 1.24:\n",
    "Test the previous program by giving multiple transactions representing\n",
    "multiple ISBNs. The records for each ISBN should be grouped together."
   ]
  },
  {
   "cell_type": "code",
   "execution_count": 4,
   "id": "e9519163-ac5e-485d-8608-656ae1dad5db",
   "metadata": {},
   "outputs": [
    {
     "name": "stdin",
     "output_type": "stream",
     "text": [
      " 0-201-78345-X 3 20.00\n",
      " 0-201-78345-X 2 25.00\n",
      " 0-301-81838-A 2 25.00\n"
     ]
    },
    {
     "name": "stdout",
     "output_type": "stream",
     "text": [
      "0-201-78345-X occurs 2 times\n"
     ]
    },
    {
     "name": "stdin",
     "output_type": "stream",
     "text": [
      " end 1 1\n"
     ]
    },
    {
     "name": "stdout",
     "output_type": "stream",
     "text": [
      "0-301-81838-A occurs 1 times\n"
     ]
    }
   ],
   "source": [
    "count_repeats()"
   ]
  },
  {
   "cell_type": "markdown",
   "id": "8ff4433e-6665-471f-83fa-8f164b9b3d4d",
   "metadata": {},
   "source": [
    "### Exercise 1.25:\n",
    "Using the Sales_item.h header from the Web site, compile and execute the bookstore program presented in this section."
   ]
  },
  {
   "cell_type": "code",
   "execution_count": 5,
   "id": "d374a209-6237-47b0-bb47-20ff257b7433",
   "metadata": {},
   "outputs": [],
   "source": [
    "#include <iostream>\n",
    "#include \"Sales_item.h\"\n",
    "\n",
    "int bookstore_problem()\n",
    "{\n",
    "    Sales_item total; // variable to hold data for the next transaction\n",
    "    // read the first transaction and ensure that there are data to process\n",
    "    if (std::cin >> total) {\n",
    "        Sales_item trans; // variable to hold the running sum\n",
    "        // read and process the remaining transactions\n",
    "        while (std::cin >> trans) {\n",
    "            // if we’re still processing the same book\n",
    "            if (total.isbn() == trans.isbn())\n",
    "                total += trans; // update the running total\n",
    "            else { // print results for the previous book\n",
    "                std::cout << total << std::endl;\n",
    "                total = trans; // total now refers to the next book\n",
    "            }\n",
    "        }\n",
    "        std::cout << total << std::endl; // print the last transaction\n",
    "    } else {\n",
    "        // no input! warn the user\n",
    "        std::cerr << \"No data?!\" << std::endl;\n",
    "        return -1; // indicate failure\n",
    "    }\n",
    "    return 0;\n",
    "}"
   ]
  },
  {
   "cell_type": "code",
   "execution_count": 3,
   "id": "135acd02-5601-4b90-93fd-6e3f501ce04b",
   "metadata": {},
   "outputs": [
    {
     "name": "stdin",
     "output_type": "stream",
     "text": [
      " 0-201-78345-X 3 20.00\n",
      " 0-201-78345-X 2 25.00\n",
      " 0-301-81838-A 2 25.00\n"
     ]
    },
    {
     "name": "stdout",
     "output_type": "stream",
     "text": [
      "0-201-78345-X 5 110 22\n"
     ]
    },
    {
     "name": "stdin",
     "output_type": "stream",
     "text": [
      " a a a\n"
     ]
    },
    {
     "name": "stdout",
     "output_type": "stream",
     "text": [
      "0-301-81838-A 2 50 25\n"
     ]
    },
    {
     "data": {
      "text/plain": [
       "0"
      ]
     },
     "execution_count": 3,
     "metadata": {},
     "output_type": "execute_result"
    }
   ],
   "source": [
    "bookstore_problem()"
   ]
  },
  {
   "cell_type": "code",
   "execution_count": 6,
   "id": "3b071819-8b01-4aed-9508-2867d9aaaec3",
   "metadata": {},
   "outputs": [
    {
     "name": "stdin",
     "output_type": "stream",
     "text": [
      "  \n",
      " a \n",
      " aaaa\n"
     ]
    },
    {
     "name": "stderr",
     "output_type": "stream",
     "text": [
      "No data?!\n"
     ]
    },
    {
     "data": {
      "text/plain": [
       "-1"
      ]
     },
     "execution_count": 6,
     "metadata": {},
     "output_type": "execute_result"
    }
   ],
   "source": [
    "bookstore_problem()"
   ]
  }
 ],
 "metadata": {
  "kernelspec": {
   "display_name": "C++17",
   "language": "C++17",
   "name": "xcpp17"
  },
  "language_info": {
   "codemirror_mode": "text/x-c++src",
   "file_extension": ".cpp",
   "mimetype": "text/x-c++src",
   "name": "c++",
   "version": "17"
  }
 },
 "nbformat": 4,
 "nbformat_minor": 5
}
