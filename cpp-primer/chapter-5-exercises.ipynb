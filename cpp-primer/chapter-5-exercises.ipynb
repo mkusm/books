{
 "cells": [
  {
   "cell_type": "markdown",
   "id": "017ce37e-3eb1-4937-94e4-59c2a5682ae8",
   "metadata": {},
   "source": [
    "# Chapter 5 Statements"
   ]
  },
  {
   "cell_type": "markdown",
   "id": "0c565c5e-93f2-4434-a7cf-6e07f6908257",
   "metadata": {},
   "source": [
    "## EXERCISES SECTION 5.1"
   ]
  },
  {
   "cell_type": "markdown",
   "id": "cc65f968-23e0-46a7-a45d-de00eaf9df54",
   "metadata": {},
   "source": [
    "### Exercise 5.1:\n",
    "What is a null statement? When might you use a null statement?\n"
   ]
  },
  {
   "cell_type": "code",
   "execution_count": null,
   "id": "654668f9-c601-49d1-90fc-3c5099849997",
   "metadata": {},
   "outputs": [],
   "source": []
  },
  {
   "cell_type": "markdown",
   "id": "35082568-acb2-44dc-b8da-3b73f9430cff",
   "metadata": {},
   "source": [
    "### Exercise 5.2:\n",
    "What is a block? When might you might use a block?"
   ]
  },
  {
   "cell_type": "code",
   "execution_count": null,
   "id": "5bcb9f6e-841c-4df6-b94a-50a9941a67f9",
   "metadata": {},
   "outputs": [],
   "source": []
  },
  {
   "cell_type": "markdown",
   "id": "e9bff99e-ab10-47b5-90cf-61b8fb875a80",
   "metadata": {},
   "source": [
    "### Exercise 5.3:\n",
    "Use the comma operator (§ 4.10, p. 157) to rewrite the while loop from\n",
    "§ 1.4.1 (p. 11) so that it no longer requires a block. Explain whether this rewrite improves or diminishes the readability of this code."
   ]
  },
  {
   "cell_type": "code",
   "execution_count": null,
   "id": "49049aea-d184-44c7-81bb-1b526daa0aae",
   "metadata": {},
   "outputs": [],
   "source": []
  },
  {
   "cell_type": "markdown",
   "id": "88e7e25e-62ed-4584-8c3f-3bedd8d9b6f3",
   "metadata": {},
   "source": [
    "## EXERCISES SECTION 5.2"
   ]
  },
  {
   "cell_type": "markdown",
   "id": "5a5ba04d-dbb7-4ac7-b705-48e77a643734",
   "metadata": {},
   "source": [
    "### Exercise 5.4:\n",
    "Explain each of the following examples, and correct any problems you\n",
    "detect.  \n",
    "(a) `while (string::iterator iter != s.end()) { /* . . . */ }`  \n",
    "(b)\n",
    "```\n",
    "while (bool status = find(word)) { /* . . . */ }\n",
    "    if (!status) { /* . . . */ }\n",
    "```"
   ]
  },
  {
   "cell_type": "code",
   "execution_count": null,
   "id": "c4d55940-0371-4505-8929-e7b746225895",
   "metadata": {},
   "outputs": [],
   "source": []
  },
  {
   "cell_type": "markdown",
   "id": "206c3a66-b1e0-4ac7-b66f-f683052e7477",
   "metadata": {},
   "source": [
    "## EXERCISES SECTION 5.3.1\n"
   ]
  },
  {
   "cell_type": "markdown",
   "id": "88791cbd-b252-46d5-86b1-990a4109203c",
   "metadata": {},
   "source": [
    "### Exercise 5.5:\n",
    "Using an if–else statement, write your own version of the program to\n",
    "generate the letter grade from a numeric grade."
   ]
  },
  {
   "cell_type": "code",
   "execution_count": null,
   "id": "062e822c-506c-47f0-97c3-fe74ac2f06fe",
   "metadata": {},
   "outputs": [],
   "source": []
  },
  {
   "cell_type": "markdown",
   "id": "83087150-ae07-4d8c-9118-6faaaa929abc",
   "metadata": {},
   "source": [
    "### Exercise 5.6:\n",
    "Rewrite your grading program to use the conditional operator (§ 4.7,\n",
    "p. 151) in place of the if–else statement."
   ]
  },
  {
   "cell_type": "code",
   "execution_count": null,
   "id": "8765db46-1588-4260-9619-ccfe718ce7c4",
   "metadata": {},
   "outputs": [],
   "source": []
  },
  {
   "cell_type": "markdown",
   "id": "36e80be2-c88c-4725-8d9b-9e165e3fd4d0",
   "metadata": {},
   "source": [
    "### Exercise 5.7:\n",
    "Correct the errors in each of the following code fragments:  \n",
    "(a) \n",
    "```\n",
    "if (ival1 != ival2)\n",
    "    ival1 = ival2\n",
    "else ival1 = ival2 = 0;\n",
    "```\n",
    "(b)\n",
    "```\n",
    "if (ival < minval)\n",
    "    minval = ival;\n",
    "    occurs = 1;\n",
    "```\n",
    "(c)\n",
    "```\n",
    "if (int ival = get_value())\n",
    "    cout << \"ival = \" << ival << endl;\n",
    "if (!ival)\n",
    "    cout << \"ival = 0\\n\";\n",
    "```\n",
    "(d)\n",
    "```\n",
    "if (ival = 0)\n",
    "    ival = get_value();\n",
    "```"
   ]
  },
  {
   "cell_type": "code",
   "execution_count": null,
   "id": "1181f82c-4b77-44a7-9bfc-d359123ae07f",
   "metadata": {},
   "outputs": [],
   "source": []
  },
  {
   "cell_type": "markdown",
   "id": "74e45b79-cf6e-4d86-843a-e60ce8730fcc",
   "metadata": {},
   "source": [
    "### Exercise 5.8:\n",
    "What is a “dangling else”? How are else clauses resolved in C++?"
   ]
  },
  {
   "cell_type": "code",
   "execution_count": null,
   "id": "e6b8c0ca-8e3a-467b-8a93-91143a4bcfbf",
   "metadata": {},
   "outputs": [],
   "source": []
  },
  {
   "cell_type": "markdown",
   "id": "8108dc3f-2b3b-4cd2-9634-6b7ae47da86f",
   "metadata": {
    "tags": []
   },
   "source": [
    "## EXERCISES SECTION 5.3.2\n"
   ]
  },
  {
   "cell_type": "markdown",
   "id": "d5cd8530-7944-41fd-b8e3-608d3deed7dd",
   "metadata": {},
   "source": [
    "### Exercise 5.9:\n",
    "Write a program using a series of if statements to count the number of\n",
    "vowels in text read from cin."
   ]
  },
  {
   "cell_type": "code",
   "execution_count": null,
   "id": "bef4c0a5-768c-451b-a9fc-f3a0c9275795",
   "metadata": {},
   "outputs": [],
   "source": []
  },
  {
   "cell_type": "markdown",
   "id": "8c78c331-b61c-4392-b075-5baaf602e730",
   "metadata": {},
   "source": [
    "### Exercise 5.10:\n",
    "There is one problem with our vowel-counting program as we’ve implemented it: It doesn’t count capital letters as vowels. Write a program that counts\n",
    "both lower- and uppercase letters as the appropriate vowel—that is, your program\n",
    "should count both ’a’ and ’A’ as part of aCnt, and so forth."
   ]
  },
  {
   "cell_type": "code",
   "execution_count": null,
   "id": "2ddce042-681c-494b-8057-bbcaa8bca453",
   "metadata": {},
   "outputs": [],
   "source": []
  },
  {
   "cell_type": "markdown",
   "id": "6d21c30d-f69b-4f2a-a6ae-90d5e1c03755",
   "metadata": {},
   "source": [
    "### Exercise 5.11:\n",
    "Modify our vowel-counting program so that it also counts the number\n",
    "of blank spaces, tabs, and newlines read."
   ]
  },
  {
   "cell_type": "code",
   "execution_count": null,
   "id": "a267fe98-eba5-4582-a2be-7af5eadc04c5",
   "metadata": {},
   "outputs": [],
   "source": []
  },
  {
   "cell_type": "markdown",
   "id": "a8da87ee-7154-4e4f-8996-e511156511be",
   "metadata": {
    "tags": []
   },
   "source": [
    "### Exercise 5.12: \n",
    "Modify our vowel-counting program so that it counts the number of\n",
    "occurrences of the following two-character sequences: ff, fl, and fi."
   ]
  },
  {
   "cell_type": "code",
   "execution_count": null,
   "id": "c9c2b760-f717-4988-941b-f11db75c82c3",
   "metadata": {},
   "outputs": [],
   "source": []
  },
  {
   "cell_type": "markdown",
   "id": "1aa9e61e-fe70-4a2e-b5df-e7ff65a675a7",
   "metadata": {
    "tags": []
   },
   "source": [
    "### Exercise 5.13:\n",
    "Each of the programs in the highlighted text on page 184 contains a\n",
    "common programming error. Identify and correct each error.  \n",
    "(a)\n",
    "```\n",
    "unsigned aCnt = 0, eCnt = 0, iouCnt = 0;\n",
    "char ch = next_text();\n",
    "switch (ch) {\n",
    "    case ’a’: aCnt++;\n",
    "    case ’e’: eCnt++;\n",
    "    default: iouCnt++;\n",
    "}\n",
    "```\n",
    "(b)\n",
    "```\n",
    "unsigned index = some_value();\n",
    "switch (index) {\n",
    "    case 1:\n",
    "        int ix = get_value();\n",
    "        ivec[ ix ] = index;\n",
    "        break;\n",
    "    default:\n",
    "        ix = ivec.size()-1;\n",
    "        ivec[ ix ] = index;\n",
    "}\n",
    "```\n",
    "(c)\n",
    "```\n",
    "unsigned evenCnt = 0, oddCnt = 0;\n",
    "int digit = get_num() % 10;\n",
    "switch (digit) {\n",
    "    case 1, 3, 5, 7, 9:\n",
    "        oddcnt++;\n",
    "        break;\n",
    "    case 2, 4, 6, 8, 10:\n",
    "        evencnt++;\n",
    "        break;\n",
    "}\n",
    "```\n",
    "(d)\n",
    "```\n",
    "unsigned ival=512, jval=1024, kval=4096;\n",
    "unsigned bufsize;\n",
    "unsigned swt = get_bufCnt();\n",
    "switch(swt) {\n",
    "    case ival:\n",
    "        bufsize = ival * sizeof(int);\n",
    "        break;\n",
    "    case jval:\n",
    "        bufsize = jval * sizeof(int);\n",
    "        break;\n",
    "    case kval:\n",
    "        bufsize = kval * sizeof(int);\n",
    "        break;\n",
    "}\n",
    "```"
   ]
  },
  {
   "cell_type": "code",
   "execution_count": null,
   "id": "c580046f-985e-458e-923a-d715c8291cf0",
   "metadata": {},
   "outputs": [],
   "source": []
  },
  {
   "cell_type": "markdown",
   "id": "edf83f82-ccf9-4fdb-bb57-1bb60f5e86a7",
   "metadata": {},
   "source": [
    "## EXERCISES SECTION 5.4.1"
   ]
  },
  {
   "cell_type": "markdown",
   "id": "e8ede8a8-3da0-49f3-8626-0e47b8267fe7",
   "metadata": {},
   "source": [
    "### Exercise 5.14:\n",
    "Write a program to read strings from standard input looking for duplicated words.\n",
    "The program should find places in the input where one word is followed immediately by itself.\n",
    "Keep track of the largest number of times a single repetition occurs and which word is repeated.\n",
    "Print the maximum number of duplicates, or else print a message saying that no word was repeated.\n",
    "For example, if the input is\n",
    "```\n",
    "how now now now brown cow cow\n",
    "```\n",
    "the output should indicate that the word now occurred three times."
   ]
  },
  {
   "cell_type": "code",
   "execution_count": null,
   "id": "fc59f465-0889-4273-9f6c-55f4afc8531f",
   "metadata": {},
   "outputs": [],
   "source": []
  },
  {
   "cell_type": "markdown",
   "id": "ce347617-2595-4f23-9472-69c972bbd9f6",
   "metadata": {},
   "source": [
    "## EXERCISES SECTION 5.4.2\n"
   ]
  },
  {
   "cell_type": "markdown",
   "id": "1f5dce11-f03a-4a6d-9783-563689d477e4",
   "metadata": {},
   "source": [
    "### Exercise 5.15:\n",
    "Explain each of the following loops. Correct any problems you detect.  \n",
    "(a)\n",
    "```\n",
    "for (int ix = 0; ix != sz; ++ix) { /* . . . */ }\n",
    "if (ix != sz)\n",
    "    // . . .\n",
    "```\n",
    "(b) \n",
    "```\n",
    "int ix;\n",
    "for (ix != sz; ++ix) { /* . . . */ }\n",
    "```\n",
    "(c)\n",
    "```\n",
    "for (int ix = 0; ix != sz; ++ix, ++ sz) { /* . . . */ }\n",
    "```"
   ]
  },
  {
   "cell_type": "code",
   "execution_count": null,
   "id": "5500c090-4bc0-4421-9ad9-f4fb9ae1dc34",
   "metadata": {},
   "outputs": [],
   "source": []
  },
  {
   "cell_type": "markdown",
   "id": "d633ae5f-6049-4acc-a697-8ba0faf98091",
   "metadata": {},
   "source": [
    "### Exercise 5.16:\n",
    "The `while` loop is particularly good at executing while some condition\n",
    "holds; for example, when we need to read values until end-of-file. The `for` loop is\n",
    "generally thought of as a step loop: An index steps through a range of values in a\n",
    "collection. Write an idiomatic use of each loop and then rewrite each using the other\n",
    "loop construct. If you could use only one loop, which would you choose? Why?"
   ]
  },
  {
   "cell_type": "code",
   "execution_count": null,
   "id": "03fce94a-75a0-4bd2-a91a-069a34b19a0c",
   "metadata": {},
   "outputs": [],
   "source": []
  },
  {
   "cell_type": "markdown",
   "id": "630f28bf-0ad7-461f-8c25-7e62aadbeed5",
   "metadata": {},
   "source": [
    "### Exercise 5.17:\n",
    "Given two `vector`s of `int`s, write a program to determine whether\n",
    "one `vector` is a prefix of the other. For `vector`s of unequal length, compare the number\n",
    "of elements of the smaller `vector`. For example, given the `vector`s containing `0, 1, 1, 2`\n",
    "and `0, 1, 1, 2, 3, 5, 8` respectively your program should return true."
   ]
  },
  {
   "cell_type": "code",
   "execution_count": null,
   "id": "0a62c881-301c-45e3-ba7e-9213f216bd01",
   "metadata": {},
   "outputs": [],
   "source": []
  },
  {
   "cell_type": "markdown",
   "id": "8185ed3e-615c-4041-90cc-f7f775e5710a",
   "metadata": {},
   "source": [
    "# EXERCISES SECTION 5.4.4\n"
   ]
  },
  {
   "cell_type": "markdown",
   "id": "50a1ecaa-6f12-4296-960a-e3b3959f5ccf",
   "metadata": {},
   "source": [
    "### Exercise 5.18:\n",
    "Explain each of the following loops. Correct any problems you detect.\n",
    "(a)\n",
    "```\n",
    "do\n",
    "    int v1, v2;\n",
    "    cout << \"Please enter two numbers to sum:\" ;\n",
    "    if (cin >> v1 >> v2)\n",
    "        cout << \"Sum is: \" << v1 + v2 << endl;\n",
    "while (cin);\n",
    "```\n",
    "(b)\n",
    "```\n",
    "do {\n",
    "    // . . .\n",
    "} while (int ival = get_response());\n",
    "```\n",
    "(c)\n",
    "```\n",
    "do {\n",
    "    int ival = get_response();\n",
    "} while (ival);\n",
    "```"
   ]
  },
  {
   "cell_type": "code",
   "execution_count": null,
   "id": "46215f2c-b2e9-434d-a69f-9944190fa23c",
   "metadata": {},
   "outputs": [],
   "source": []
  },
  {
   "cell_type": "markdown",
   "id": "72125db0-0d95-416a-a2c1-e762aa489a91",
   "metadata": {},
   "source": [
    "### Exercise 5.19:\n",
    "Write a program that uses a do while loop to repetitively request two\n",
    "strings from the user and report which string is less than the other."
   ]
  },
  {
   "cell_type": "code",
   "execution_count": null,
   "id": "795ba21f-a527-4da2-9468-abcf6b6ce928",
   "metadata": {},
   "outputs": [],
   "source": []
  },
  {
   "cell_type": "markdown",
   "id": "5381a95f-abdf-400d-b890-345c5e38993d",
   "metadata": {},
   "source": [
    "## EXERCISES SECTION 5.5.1\n"
   ]
  },
  {
   "cell_type": "markdown",
   "id": "898d2e18-168a-42d6-a1c9-35b47a8d00cd",
   "metadata": {},
   "source": [
    "### Exercise 5.20:\n",
    "Write a program to read a sequence of strings from the standard input\n",
    "until either the same word occurs twice in succession or all the words have been read.\n",
    "Use a while loop to read the text one word at a time. Use the break statement to\n",
    "terminate the loop if a word occurs twice in succession. Print the word if it occurs\n",
    "twice in succession, or else print a message saying that no word was repeated."
   ]
  },
  {
   "cell_type": "code",
   "execution_count": null,
   "id": "e3c43e3d-a712-4d76-afa4-8452f82db797",
   "metadata": {},
   "outputs": [],
   "source": []
  },
  {
   "cell_type": "markdown",
   "id": "4297d390-1e74-444a-9d9d-22c960550e6f",
   "metadata": {},
   "source": [
    "## EXERCISES SECTION 5.5.2\n"
   ]
  },
  {
   "cell_type": "markdown",
   "id": "50a8fd69-b1c9-4d57-a98c-4e28e5b29a78",
   "metadata": {},
   "source": [
    "### Exercise 5.21:\n",
    "Revise the program from the exercise in § 5.5.1 (p. 191) so that it looks\n",
    "only for duplicated words that start with an uppercase letter."
   ]
  },
  {
   "cell_type": "code",
   "execution_count": null,
   "id": "26b6a8c8-5999-40e7-93ce-8dff62b3fd53",
   "metadata": {},
   "outputs": [],
   "source": []
  },
  {
   "cell_type": "markdown",
   "id": "957e1601-3b92-4492-a010-efa1121e4f0f",
   "metadata": {},
   "source": [
    "## EXERCISES SECTION 5.5.3\n"
   ]
  },
  {
   "cell_type": "markdown",
   "id": "3169c46d-0123-4c69-b27b-88c94e8e638b",
   "metadata": {},
   "source": [
    "### Exercise 5.22:\n",
    "The last example in this section that jumped back to begin could be\n",
    "better written using a loop. Rewrite the code to eliminate the goto."
   ]
  },
  {
   "cell_type": "code",
   "execution_count": null,
   "id": "0b49733b-c464-4f1d-b28d-ac20dfeb8f17",
   "metadata": {},
   "outputs": [],
   "source": []
  },
  {
   "cell_type": "markdown",
   "id": "2ce0179a-d5f7-4d82-a5be-99e6833cb45b",
   "metadata": {},
   "source": [
    "## EXERCISES SECTION 5.6.3\n"
   ]
  },
  {
   "cell_type": "markdown",
   "id": "5198fdc8-1ba2-440e-93ad-528eb9906a48",
   "metadata": {},
   "source": [
    "### Exercise 5.23:\n",
    "Write a program that reads two integers from the standard input and\n",
    "prints the result of dividing the first number by the second.\n"
   ]
  },
  {
   "cell_type": "code",
   "execution_count": null,
   "id": "1636ab77-3b6c-4fe6-8f42-511c82b0bb32",
   "metadata": {},
   "outputs": [],
   "source": []
  },
  {
   "cell_type": "markdown",
   "id": "e3b3a950-03a9-4a58-b612-f910b995d52f",
   "metadata": {},
   "source": [
    "### Exercise 5.24:\n",
    "Revise your program to throw an exception if the second number is\n",
    "zero. Test your program with a zero input to see what happens on your system if you\n",
    "don’t catch an exception."
   ]
  },
  {
   "cell_type": "code",
   "execution_count": null,
   "id": "966c2a55-fc6d-49e9-bb2c-665c667eda60",
   "metadata": {},
   "outputs": [],
   "source": []
  },
  {
   "cell_type": "markdown",
   "id": "fa46b3d0-b820-408a-bf38-f0eb1d5523b2",
   "metadata": {},
   "source": [
    "### Exercise 5.25:\n",
    "Revise your program from the previous exercise to use a try block to\n",
    "catch the exception. The catch clause should print a message to the user and ask\n",
    "them to supply a new number and repeat the code inside the try."
   ]
  },
  {
   "cell_type": "code",
   "execution_count": null,
   "id": "c89edf9e-44a1-46a0-9e78-96c69f4ca490",
   "metadata": {},
   "outputs": [],
   "source": []
  }
 ],
 "metadata": {
  "kernelspec": {
   "display_name": "C++17",
   "language": "C++17",
   "name": "xcpp17"
  },
  "language_info": {
   "codemirror_mode": "text/x-c++src",
   "file_extension": ".cpp",
   "mimetype": "text/x-c++src",
   "name": "c++",
   "version": "17"
  }
 },
 "nbformat": 4,
 "nbformat_minor": 5
}
