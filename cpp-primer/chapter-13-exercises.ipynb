{
 "cells": [
  {
   "cell_type": "markdown",
   "id": "787362af-bdc7-4e49-942b-740db7df72ac",
   "metadata": {},
   "source": [
    "# Chapter 13 Copy Control"
   ]
  },
  {
   "cell_type": "markdown",
   "id": "82ddc2a6-ed03-4026-b56e-25e24f7e641e",
   "metadata": {},
   "source": [
    "## EXERCISES SECTION 13.1.1"
   ]
  },
  {
   "cell_type": "markdown",
   "id": "b041b88c-9922-4251-a6e2-d6f9b3233cbe",
   "metadata": {},
   "source": [
    "### Exercise 13.1:\n",
    "What is a copy constructor? When is it used?"
   ]
  },
  {
   "cell_type": "markdown",
   "id": "ac70673a-2ba3-4917-9899-761494b29563",
   "metadata": {},
   "source": [
    "A:\n",
    "\n",
    "Copy constructor is a constructor with first parameter being a reference to the class type. It is used when we want to copy an object."
   ]
  },
  {
   "cell_type": "markdown",
   "id": "17d2915d-a56f-4e7b-b9c3-efa9ae954bcc",
   "metadata": {},
   "source": [
    "### Exercise 13.2: \n",
    "Explain why the following declaration is illegal:\n",
    "```\n",
    "Sales_data::Sales_data(Sales_data rhs);\n",
    "```"
   ]
  },
  {
   "cell_type": "markdown",
   "id": "578f25bb-c7c8-4300-8867-18b7e50d7064",
   "metadata": {},
   "source": [
    "A:\n",
    "\n",
    "The parameter must be a reference, as a non-reference parameter would try to copy the object before the copy constructor is defined.\n"
   ]
  },
  {
   "cell_type": "markdown",
   "id": "5646461a-1f8c-43ae-9bd0-d0a9ed392ed6",
   "metadata": {},
   "source": [
    "### Exercise 13.3: \n",
    "What happens when we copy a `StrBlob`? What about `StrBlobPtrs`?"
   ]
  },
  {
   "cell_type": "markdown",
   "id": "9ce35cf4-dbd8-4947-adb1-929c741069e3",
   "metadata": {},
   "source": [
    "A:\n",
    "\n",
    "Syntesized copy constructor is used. Pointers kept in these objects are copied (and in case of `shared_ptr`, `use_count` is increased), but objects that these pointers point to are not copied."
   ]
  },
  {
   "cell_type": "markdown",
   "id": "44d36d40-5c07-45f5-9d4a-184967f624ec",
   "metadata": {},
   "source": [
    "### Exercise 13.4: \n",
    "Assuming `Point` is a class type with a public copy constructor, \n",
    "identify each use of the copy constructor in this program fragment:\n",
    "```\n",
    "Point global;\n",
    "Point foo_bar(Point arg)\n",
    "{\n",
    "    Point local = arg, *heap = new Point(global);\n",
    "    *heap = local;\n",
    "    Point pa[ 4 ] = { local, *heap };\n",
    "    return *heap;\n",
    "}\n",
    "```"
   ]
  },
  {
   "cell_type": "code",
   "execution_count": null,
   "id": "6759ba02-831f-4bc8-873a-0b5f7ee4fe5a",
   "metadata": {},
   "outputs": [],
   "source": []
  },
  {
   "cell_type": "markdown",
   "id": "581e3a14-149a-474d-bec0-ae5559b197de",
   "metadata": {},
   "source": [
    "### Exercise 13.5: \n",
    "Given the following sketch of a class, write a copy constructor that\n",
    "copies all the members. Your constructor should dynamically allocate a new `string`\n",
    "(§ 12.1.2, p. 458) and copy the object to which `ps` points, rather than copying `ps` itself.\n",
    "```\n",
    "class HasPtr {\n",
    "    public:\n",
    "        HasPtr(const std::string &s = std::string()):\n",
    "        ps(new std::string(s)), i(0) { }\n",
    "    private:\n",
    "        std::string *ps;\n",
    "        int\n",
    "        i;\n",
    "};\n",
    "```"
   ]
  },
  {
   "cell_type": "code",
   "execution_count": null,
   "id": "49cd2f00-9639-4cdc-822e-70449c723192",
   "metadata": {},
   "outputs": [],
   "source": []
  },
  {
   "cell_type": "markdown",
   "id": "b79df50a-de5d-4680-a43a-6597bc7b4f94",
   "metadata": {},
   "source": [
    "## EXERCISES SECTION 13.1.2"
   ]
  },
  {
   "cell_type": "markdown",
   "id": "e4e0fadb-99bf-4cae-a28c-ea074bb99ceb",
   "metadata": {},
   "source": [
    "### Exercise 13.6: \n",
    "What is a copy-assignment operator?\n",
    "When is this operator used?\n",
    "What does the synthesized copy-assignment operator do? When is it synthesized?"
   ]
  },
  {
   "cell_type": "code",
   "execution_count": null,
   "id": "86129f77-bd25-433e-83e3-7c178875b771",
   "metadata": {},
   "outputs": [],
   "source": []
  },
  {
   "cell_type": "markdown",
   "id": "835273c0-0e85-435f-854c-34b906b57eac",
   "metadata": {},
   "source": [
    "### Exercise 13.7: \n",
    "What happens when we assign one `StrBlob` to another? What about `StrBlobPtrs`?"
   ]
  },
  {
   "cell_type": "code",
   "execution_count": null,
   "id": "4fecbefe-db34-4d36-b498-c7d5679a5be8",
   "metadata": {},
   "outputs": [],
   "source": []
  },
  {
   "cell_type": "markdown",
   "id": "8ca2c939-c932-4149-8730-96fc8c463be3",
   "metadata": {},
   "source": [
    "### Exercise 13.8: \n",
    "Write the assignment operator for the `HasPtr` class from exercise 13.5\n",
    "in § 13.1.1 (p. 499). As with the copy constructor, your assignment operator should\n",
    "copy the object to which `ps` points."
   ]
  },
  {
   "cell_type": "code",
   "execution_count": null,
   "id": "46bf6a20-eddb-4d68-a0f0-88d0c3218cfd",
   "metadata": {},
   "outputs": [],
   "source": []
  },
  {
   "cell_type": "markdown",
   "id": "b0179478-19fb-48f0-aec3-d96a258f66d9",
   "metadata": {},
   "source": [
    "## EXERCISES SECTION 13.1.3"
   ]
  },
  {
   "cell_type": "markdown",
   "id": "2cc037b4-4dc4-491d-9c85-7316039cd754",
   "metadata": {},
   "source": [
    "### Exercise 13.9: \n",
    "What is a destructor? What does the synthesized destructor do? When\n",
    "is a destructor synthesized?"
   ]
  },
  {
   "cell_type": "code",
   "execution_count": null,
   "id": "ab8639e0-15b7-4d74-a78a-8411e9ccabd2",
   "metadata": {},
   "outputs": [],
   "source": []
  },
  {
   "cell_type": "markdown",
   "id": "7f2bf2da-7e0a-4d9b-8a1a-c27ef38336ab",
   "metadata": {},
   "source": [
    "### Exercise 13.10: \n",
    "What happens when a `StrBlob` object is destroyed? What about a\n",
    "`StrBlobPtr`?"
   ]
  },
  {
   "cell_type": "code",
   "execution_count": null,
   "id": "59b7639a-aacf-42b2-af63-d9efedab79ee",
   "metadata": {},
   "outputs": [],
   "source": []
  },
  {
   "cell_type": "markdown",
   "id": "81e6cb00-00a1-4f63-b8e2-8bcbd1a09bc8",
   "metadata": {},
   "source": [
    "### Exercise 13.11: \n",
    "Add a destructor to your `HasPtr` class from the previous exercises."
   ]
  },
  {
   "cell_type": "code",
   "execution_count": null,
   "id": "07ffc8b0-19b1-48ed-849e-775dc7d00b0c",
   "metadata": {},
   "outputs": [],
   "source": []
  },
  {
   "cell_type": "markdown",
   "id": "23726bde-1cab-47fb-97b5-3b88f2ac42c5",
   "metadata": {},
   "source": [
    "### Exercise 13.12: \n",
    "How many destructor calls occur in the following code fragment?\n",
    "```\n",
    "bool fcn(const Sales_data *trans, Sales_data accum)\n",
    "{\n",
    "    Sales_data item1(*trans), item2(accum);\n",
    "    return item1.isbn() != item2.isbn();\n",
    "}\n",
    "```"
   ]
  },
  {
   "cell_type": "code",
   "execution_count": null,
   "id": "f33e6b34-0347-49eb-ae76-5e38c3261701",
   "metadata": {},
   "outputs": [],
   "source": []
  },
  {
   "cell_type": "markdown",
   "id": "0964282d-3a34-4506-b900-18d259f8a965",
   "metadata": {},
   "source": [
    "### Exercise 13.13:\n",
    "A good way to understand copy-control members and constructors is\n",
    "to define a simple class with these members in which each member prints its name:\n",
    "```\n",
    "struct X {\n",
    "    X() {std::cout << \"X()\" << std::endl;}\n",
    "    X(const X&) {std::cout << \"X(const X&)\" << std::endl;}\n",
    "};\n",
    "```\n",
    "Add the copy-assignment operator and destructor to `X` and write a program using `X`\n",
    "objects in various ways: Pass them as nonreference and reference parameters; \n",
    "dynamically allocate them; put them in containers; and so forth. Study the output until you\n",
    "are certain you understand when and why each copy-control member is used. As you\n",
    "read the output, remember that the compiler can omit calls to the copy constructor."
   ]
  },
  {
   "cell_type": "code",
   "execution_count": null,
   "id": "0785672e-7fb1-4d73-9297-bf4dd0dcc477",
   "metadata": {},
   "outputs": [],
   "source": []
  },
  {
   "cell_type": "markdown",
   "id": "0c5e00d5-be9b-4709-bde9-1a84f02e378a",
   "metadata": {},
   "source": [
    "## EXERCISES SECTION 13.1.4"
   ]
  },
  {
   "cell_type": "markdown",
   "id": "78fcf042-3427-47c3-a09a-88f5f1a8967c",
   "metadata": {},
   "source": [
    "### Exercise 13.14: \n",
    "Assume that numbered is a class with a default constructor that \n",
    "generates a unique serial number for each object, which is stored in a data member named\n",
    "`mysn`. Assuming numbered uses the synthesized copy-control members and given\n",
    "the following function:\n",
    "```\n",
    "void f (numbered s) { cout << s.mysn << endl; }\n",
    "```\n",
    "what output does the following code produce?\n",
    "```\n",
    "numbered a, b = a, c = b;\n",
    "f(a); f(b); f(c);\n",
    "```"
   ]
  },
  {
   "cell_type": "code",
   "execution_count": null,
   "id": "ea1aeb3d-aa2a-4fef-b4d3-30cc7642de79",
   "metadata": {},
   "outputs": [],
   "source": []
  },
  {
   "cell_type": "markdown",
   "id": "6609e542-3307-4caa-a444-ea43bd6ca9ac",
   "metadata": {},
   "source": [
    "### Exercise 13.15: \n",
    "Assume `numbered` has a copy constructor that generates a new serial\n",
    "number. Does that change the output of the calls in the previous exercise? If so, why?\n",
    "What output gets generated?"
   ]
  },
  {
   "cell_type": "code",
   "execution_count": null,
   "id": "6b9fe220-b4e1-4976-b14d-5fdc31fc52d5",
   "metadata": {},
   "outputs": [],
   "source": []
  },
  {
   "cell_type": "markdown",
   "id": "b50a37f6-af6a-48f7-a159-683c8c4b7966",
   "metadata": {},
   "source": [
    "### Exercise 13.16: \n",
    "What if the parameter in `f` were `const numbered&`?\n",
    "Does that change the output? If so, why? What output gets generated?"
   ]
  },
  {
   "cell_type": "code",
   "execution_count": null,
   "id": "1e5b3430-5451-450f-948c-34d092fe496b",
   "metadata": {},
   "outputs": [],
   "source": []
  },
  {
   "cell_type": "markdown",
   "id": "2eb86244-0133-40fe-a226-4db0f5eb1c6c",
   "metadata": {},
   "source": [
    "### Exercise 13.17: \n",
    "Write versions of `numbered` and `f` corresponding to the previous\n",
    "three exercises and check whether you correctly predicted the output."
   ]
  },
  {
   "cell_type": "code",
   "execution_count": null,
   "id": "4f041696-a6a1-4bd1-8891-c9bfd11fe670",
   "metadata": {},
   "outputs": [],
   "source": []
  },
  {
   "cell_type": "markdown",
   "id": "e9e8b0f6-393c-4cf4-b312-aac8e2fbfbcc",
   "metadata": {},
   "source": [
    "## EXERCISES SECTION 13.1.6"
   ]
  },
  {
   "cell_type": "markdown",
   "id": "0f7eb477-746b-4d35-b74b-4489b6f8ca80",
   "metadata": {},
   "source": [
    "### Exercise 13.18:\n",
    "Define an `Employee` class that contains an employee name and a\n",
    "unique employee identifier. Give the class a default constructor and a constructor that\n",
    "takes a `string` representing the employee’s name. Each constructor should generate\n",
    "a unique ID by incrementing a static data member."
   ]
  },
  {
   "cell_type": "code",
   "execution_count": null,
   "id": "90873e51-6ac5-40e6-83bd-b52e7a0a594b",
   "metadata": {},
   "outputs": [],
   "source": []
  },
  {
   "cell_type": "markdown",
   "id": "951a40cf-e66d-4bf7-8432-04f3ab9751da",
   "metadata": {},
   "source": [
    "### Exercise 13.19: \n",
    "Does your `Employee` class need to define its own versions of the\n",
    "copy-control members? If so, why? If not, why not? Implement whatever copy-control\n",
    "members you think `Employee` needs."
   ]
  },
  {
   "cell_type": "code",
   "execution_count": null,
   "id": "e3559331-dcad-4193-b3c4-39032423f635",
   "metadata": {},
   "outputs": [],
   "source": []
  },
  {
   "cell_type": "markdown",
   "id": "45cdf308-cbea-4be3-a0c1-477a514e728d",
   "metadata": {},
   "source": [
    "### Exercise 13.20: \n",
    "Explain what happens when we copy, assign, or destroy objects of our\n",
    "`TextQuery` and `QueryResult` classes from § 12.3 (p. 484)."
   ]
  },
  {
   "cell_type": "code",
   "execution_count": null,
   "id": "92fc2f2e-9635-40e7-839a-862ef8d90637",
   "metadata": {},
   "outputs": [],
   "source": []
  },
  {
   "cell_type": "markdown",
   "id": "da21c1f0-098a-47db-bf96-95001f5406b8",
   "metadata": {},
   "source": [
    "### Exercise 13.21: \n",
    "Do you think the `TextQuery` and `QueryResult` classes need to \n",
    "define their own versions of the copy-control members? If so, why? If not, why not?\n",
    "Implement whichever copy-control operations you think these classes require."
   ]
  },
  {
   "cell_type": "code",
   "execution_count": null,
   "id": "cf9d1a36-4b37-4b0b-a16e-4108b68ab5b2",
   "metadata": {},
   "outputs": [],
   "source": []
  },
  {
   "cell_type": "markdown",
   "id": "fd153a40-3cd0-4b6e-86b9-6eb4c7b5b7da",
   "metadata": {},
   "source": [
    "## EXERCISES SECTION 13.2"
   ]
  },
  {
   "cell_type": "markdown",
   "id": "1f929b6f-a977-41cc-8b6d-f86dd0e9bb25",
   "metadata": {},
   "source": [
    "### Exercise 13.22: \n",
    "Assume that we want `HasPtr` to behave like a value. That is, each\n",
    "object should have its own copy of the `string` to which the objects point. We’ll show\n",
    "the definitions of the copy-control members in the next section. However, you already\n",
    "know everything you need to know to implement these members. Write the `HasPtr`\n",
    "copy constructor and copy-assignment operator before reading on."
   ]
  },
  {
   "cell_type": "code",
   "execution_count": null,
   "id": "54fd38e5-6f0d-421a-bfa2-e63767310407",
   "metadata": {},
   "outputs": [],
   "source": []
  },
  {
   "cell_type": "markdown",
   "id": "8c9cf322-cf05-4459-9e33-5b0943b4c002",
   "metadata": {},
   "source": [
    "## EXERCISES SECTION 13.2.1"
   ]
  },
  {
   "cell_type": "markdown",
   "id": "267c2a6f-1028-45eb-bcd0-58d5c323c71f",
   "metadata": {},
   "source": [
    "### Exercise 13.23: \n",
    "Compare the copy-control members that you wrote for the solutions\n",
    "to the previous section’s exercises to the code presented here. Be sure you understand\n",
    "the differences, if any, between your code and ours."
   ]
  },
  {
   "cell_type": "code",
   "execution_count": null,
   "id": "b61a9ba4-046b-425e-8956-90bc286eaba5",
   "metadata": {},
   "outputs": [],
   "source": []
  },
  {
   "cell_type": "markdown",
   "id": "6f814fee-dd00-429e-94de-59d9ed6b5249",
   "metadata": {},
   "source": [
    "### Exercise 13.24: \n",
    "What would happen if the version of `HasPtr` in this section didn’t\n",
    "define a destructor? What if `HasPtr` didn’t define the copy constructor?"
   ]
  },
  {
   "cell_type": "code",
   "execution_count": null,
   "id": "1bc6b7e3-ea3b-4b3c-aac6-4b97c31c9202",
   "metadata": {},
   "outputs": [],
   "source": []
  },
  {
   "cell_type": "markdown",
   "id": "05e074a5-f95e-4556-b72d-4ca008d5fc28",
   "metadata": {},
   "source": [
    "### Exercise 13.25: \n",
    "Assume we want to define a version of `StrBlob` that acts like a value.\n",
    "Also assume that we want to continue to use a `shared_ptr` so that our `StrBlobPtr`\n",
    "class can still use a `weak_ptr` to the vector. Your revised class will need a copy\n",
    "constructor and copy-assignment operator but will not need a destructor. Explain what\n",
    "the copy constructor and copy-assignment operators must do. Explain why the class\n",
    "does not need a destructor."
   ]
  },
  {
   "cell_type": "code",
   "execution_count": null,
   "id": "e8f87ecd-c2c3-493a-b0be-e77ebfbcc632",
   "metadata": {},
   "outputs": [],
   "source": []
  },
  {
   "cell_type": "markdown",
   "id": "93178c4d-f1b2-4858-aea8-d8a6cf2fa09b",
   "metadata": {},
   "source": [
    "### Exercise 13.26: \n",
    "Write your own version of the `StrBlob` class described in the previous exercise."
   ]
  },
  {
   "cell_type": "code",
   "execution_count": null,
   "id": "b80e1c24-3065-41c2-853c-6054d5b881d4",
   "metadata": {},
   "outputs": [],
   "source": []
  },
  {
   "cell_type": "markdown",
   "id": "67dd7118-c31c-4de0-a066-2b94309abd2e",
   "metadata": {},
   "source": [
    "## EXERCISES SECTION 13.2.2"
   ]
  },
  {
   "cell_type": "markdown",
   "id": "b581f215-6cf5-4a5f-be73-24db06232ccf",
   "metadata": {},
   "source": [
    "### Exercise 13.27: \n",
    "Define your own reference-counted version of `HasPtr`."
   ]
  },
  {
   "cell_type": "code",
   "execution_count": null,
   "id": "e4e90f2b-a991-4274-8263-897782bd4113",
   "metadata": {},
   "outputs": [],
   "source": []
  },
  {
   "cell_type": "markdown",
   "id": "9aecce96-331b-447d-86fb-fa887a7b6016",
   "metadata": {},
   "source": [
    "### Exercise 13.28: \n",
    "Given the following classes, implement a default constructor and the\n",
    "necessary copy-control members.\n",
    "```\n",
    "(a) class TreeNode {\n",
    "    private:\n",
    "        std::string value;\n",
    "        int count;\n",
    "        TreeNode *left;\n",
    "        TreeNode *right;\n",
    "};\n",
    "```\n",
    "```\n",
    "(b) class BinStrTree {\n",
    "    private:\n",
    "        TreeNode *root;\n",
    "};\n",
    "```"
   ]
  },
  {
   "cell_type": "code",
   "execution_count": null,
   "id": "7d473613-2f7f-4a3f-b3ea-9620f18859a8",
   "metadata": {},
   "outputs": [],
   "source": []
  },
  {
   "cell_type": "markdown",
   "id": "89886572-13ef-4bcb-8a93-4f9692dcc486",
   "metadata": {},
   "source": [
    "## EXERCISES SECTION 13.3"
   ]
  },
  {
   "cell_type": "markdown",
   "id": "c03e112c-72cf-47cd-aa91-3788a2cd33a8",
   "metadata": {},
   "source": [
    "### Exercise 13.29: \n",
    "Explain why the calls to `swap` inside `swap(HasPtr&, HasPtr&)` do not cause a recursion loop."
   ]
  },
  {
   "cell_type": "code",
   "execution_count": null,
   "id": "1c7d4a7a-8f74-4aef-a011-ca1cb67b5899",
   "metadata": {},
   "outputs": [],
   "source": []
  },
  {
   "cell_type": "markdown",
   "id": "968a152a-4371-43b5-9295-f9627713c854",
   "metadata": {},
   "source": [
    "### Exercise 13.30: \n",
    "Write and test a `swap` function for your valuelike version of `HasPtr`.\n",
    "Give your `swap` a `print` statement that notes when it is executed."
   ]
  },
  {
   "cell_type": "code",
   "execution_count": null,
   "id": "92b35d87-b862-470b-83be-a7cbe6c1809f",
   "metadata": {},
   "outputs": [],
   "source": []
  },
  {
   "cell_type": "markdown",
   "id": "b4f42258-23a0-4e2a-85f1-287ae321b6b8",
   "metadata": {},
   "source": [
    "### Exercise 13.31: \n",
    "Give your class a `<` operator and define a `vector` of `HasPtrs`. Give\n",
    "that `vector` some elements and then sort the `vector`. Note when `swap` is called."
   ]
  },
  {
   "cell_type": "code",
   "execution_count": null,
   "id": "ee83f5a3-cfcf-49bd-9e72-71c68fc4c506",
   "metadata": {},
   "outputs": [],
   "source": []
  },
  {
   "cell_type": "markdown",
   "id": "d36badf0-0db9-4657-a584-f6b27615452d",
   "metadata": {},
   "source": [
    "### Exercise 13.32: \n",
    "Would the pointerlike version of `HasPtr` benefit from defining a `swap`\n",
    "function? If so, what is the benefit? If not, why not?"
   ]
  },
  {
   "cell_type": "code",
   "execution_count": null,
   "id": "059a58fe-7077-40b9-99c9-e0844465ec25",
   "metadata": {},
   "outputs": [],
   "source": []
  },
  {
   "cell_type": "markdown",
   "id": "fae6d36a-de2e-42d7-8577-ec8cdc3cfd94",
   "metadata": {},
   "source": [
    "## EXERCISES SECTION 13.4"
   ]
  },
  {
   "cell_type": "markdown",
   "id": "dd06a5ba-816f-4075-8469-5c6298ea0f73",
   "metadata": {},
   "source": [
    "### Exercise 13.33: \n",
    "Why is the parameter to the save and remove members of `Message`\n",
    "a `Folder&`? Why didn’t we define that parameter as `Folder`? Or `const Folder&`?"
   ]
  },
  {
   "cell_type": "code",
   "execution_count": null,
   "id": "b5821186-e186-4af1-b286-3232d1ced446",
   "metadata": {},
   "outputs": [],
   "source": []
  },
  {
   "cell_type": "markdown",
   "id": "d79c9159-73b2-4f27-ae38-d5adef26ac35",
   "metadata": {},
   "source": [
    "### Exercise 13.34: \n",
    "Write the `Message` class as described in this section."
   ]
  },
  {
   "cell_type": "code",
   "execution_count": null,
   "id": "b43122f1-0f75-420d-877e-cd7d289cd526",
   "metadata": {},
   "outputs": [],
   "source": []
  },
  {
   "cell_type": "markdown",
   "id": "fe1638fd-c49a-47e2-a535-cee61a826993",
   "metadata": {},
   "source": [
    "### Exercise 13.35: \n",
    "What would happen if `Message` used the synthesized versions of the\n",
    "copy-control members?"
   ]
  },
  {
   "cell_type": "code",
   "execution_count": null,
   "id": "fecb6603-4c6a-453f-a371-0922981159aa",
   "metadata": {},
   "outputs": [],
   "source": []
  },
  {
   "cell_type": "markdown",
   "id": "163e97c8-dbda-4659-99f5-c09c903dd3ea",
   "metadata": {},
   "source": [
    "### Exercise 13.36: \n",
    "Design and implement the corresponding `Folder` class. That class\n",
    "should hold a `set` that points to the `Messages` in that `Folder`."
   ]
  },
  {
   "cell_type": "code",
   "execution_count": null,
   "id": "e3909056-f973-4c75-b470-7d95ab530695",
   "metadata": {},
   "outputs": [],
   "source": []
  },
  {
   "cell_type": "markdown",
   "id": "e3340806-b27d-4eaf-8543-411c3e020669",
   "metadata": {},
   "source": [
    "### Exercise 13.37: \n",
    "Add members to the `Message` class to insert or remove a given\n",
    "`Folder*` into folders. These members are analogous to `Folder`’s `addMsg` and\n",
    "`remMsg` operations."
   ]
  },
  {
   "cell_type": "code",
   "execution_count": null,
   "id": "40bd60d6-c1f3-429f-8fb4-687a9a83ce5b",
   "metadata": {},
   "outputs": [],
   "source": []
  },
  {
   "cell_type": "markdown",
   "id": "af5c379c-ffb1-404c-8dbf-87101d7cc788",
   "metadata": {},
   "source": [
    "### Exercise 13.38: \n",
    "We did not use `copy` and `swap` to define the `Message` assignment\n",
    "operator. Why do you suppose this is so?"
   ]
  },
  {
   "cell_type": "code",
   "execution_count": null,
   "id": "14d7f74f-0a6b-4ade-9883-17eeecf7d03a",
   "metadata": {},
   "outputs": [],
   "source": []
  },
  {
   "cell_type": "markdown",
   "id": "cc62f1e2-be7c-43ff-9706-30e04e13d83e",
   "metadata": {},
   "source": [
    "## EXERCISES SECTION 13.5"
   ]
  },
  {
   "cell_type": "markdown",
   "id": "8ea56997-4e4c-4e86-87ff-cdc477daf059",
   "metadata": {},
   "source": [
    "### Exercise 13.39: \n",
    "Write your own version of `StrVec`, including versions of `reserve`,\n",
    "`capacity` (§ 9.4, p. 356), and `resize` (§ 9.3.5, p. 352)."
   ]
  },
  {
   "cell_type": "code",
   "execution_count": null,
   "id": "5de5aca7-34c2-4763-b2c8-34773169d45c",
   "metadata": {},
   "outputs": [],
   "source": []
  },
  {
   "cell_type": "markdown",
   "id": "09e561e8-8830-47cb-ae3c-bedcb157f8e0",
   "metadata": {},
   "source": [
    "### Exercise 13.40: \n",
    "Add a constructor that takes an `initializer_list<string>` to\n",
    "your `StrVec` class."
   ]
  },
  {
   "cell_type": "code",
   "execution_count": null,
   "id": "db2bb1be-4fe9-4557-8a12-701b00a31a1f",
   "metadata": {},
   "outputs": [],
   "source": []
  },
  {
   "cell_type": "markdown",
   "id": "11b896b4-0ab7-486f-89c0-c21dd559cd28",
   "metadata": {},
   "source": [
    "### Exercise 13.41: \n",
    "Why did we use postfix increment in the call to construct inside\n",
    "`push_back`? What would happen if it used the prefix increment?"
   ]
  },
  {
   "cell_type": "code",
   "execution_count": null,
   "id": "ab315bd1-da2d-41b5-92e0-5eae79dfc97c",
   "metadata": {},
   "outputs": [],
   "source": []
  },
  {
   "cell_type": "markdown",
   "id": "99034a1f-f343-4457-9c20-516d61ae82bc",
   "metadata": {},
   "source": [
    "### Exercise 13.42: \n",
    "Test your `StrVec` class by using it in place of the `vector<string>`\n",
    "in your `TextQuery` and `QueryResult` classes (§ 12.3, p. 484)."
   ]
  },
  {
   "cell_type": "code",
   "execution_count": null,
   "id": "cc51eb59-bf0b-45ca-85a6-1c3cc24ebd90",
   "metadata": {},
   "outputs": [],
   "source": []
  },
  {
   "cell_type": "markdown",
   "id": "9e13c82b-b627-4470-8e62-0effb8f37fff",
   "metadata": {},
   "source": [
    "### Exercise 13.43: \n",
    "Rewrite the free member to use `for_each` and a lambda (§ 10.3.2,\n",
    "p. 388) in place of the `for` loop to destroy the elements. Which implementation do\n",
    "you prefer, and why?"
   ]
  },
  {
   "cell_type": "code",
   "execution_count": null,
   "id": "aca912e5-34fc-4232-ba87-369176c0076d",
   "metadata": {},
   "outputs": [],
   "source": []
  },
  {
   "cell_type": "markdown",
   "id": "b4ddc96b-0561-48af-9568-96c2838e6efb",
   "metadata": {},
   "source": [
    "### Exercise 13.44: \n",
    "Write a class named `String` that is a simplified version of the library\n",
    "`string` class. Your class should have at least a default constructor and a constructor\n",
    "that takes a pointer to a C-style string. Use an `allocator` to allocate memory that\n",
    "your `String` class uses."
   ]
  },
  {
   "cell_type": "code",
   "execution_count": null,
   "id": "d2b9f34f-d06f-4d66-b1d7-7ac40831eb74",
   "metadata": {},
   "outputs": [],
   "source": []
  },
  {
   "cell_type": "markdown",
   "id": "5904da15-8124-4b47-8b1d-8a9a8b9d0e3f",
   "metadata": {},
   "source": [
    "## EXERCISES SECTION 13.6.1"
   ]
  },
  {
   "cell_type": "markdown",
   "id": "9b3205f7-a6b7-4b68-a760-7e1a91e83fb9",
   "metadata": {},
   "source": [
    "### Exercise 13.45: \n",
    "Distinguish between an rvalue reference and an lvalue reference."
   ]
  },
  {
   "cell_type": "code",
   "execution_count": null,
   "id": "47c4d5f8-4501-489c-9fac-6e9107f22662",
   "metadata": {},
   "outputs": [],
   "source": []
  },
  {
   "cell_type": "markdown",
   "id": "619f5891-9a0a-438b-b3b0-6c3af157b3ea",
   "metadata": {},
   "source": [
    "### Exercise 13.46: \n",
    "Which kind of reference can be bound to the following initializers?\n",
    "```\n",
    "int f();\n",
    "vector<int> vi(100);\n",
    "int? r1 = f();\n",
    "int? r2 = vi[0];\n",
    "int? r3 = r1;\n",
    "int? r4 = vi[0] * f();\n",
    "```"
   ]
  },
  {
   "cell_type": "code",
   "execution_count": null,
   "id": "d3c7b956-8a0a-4db4-a3d9-a24aedc6ac67",
   "metadata": {},
   "outputs": [],
   "source": []
  },
  {
   "cell_type": "markdown",
   "id": "cb6fc83f-b6c5-4a44-afb8-4334cbf2f350",
   "metadata": {},
   "source": [
    "### Exercise 13.47: \n",
    "Give the copy constructor and copy-assignment operator in your\n",
    "`String` class from exercise 13.44 in § 13.5 (p. 531) a statement that prints a `message`\n",
    "each time the function is executed."
   ]
  },
  {
   "cell_type": "code",
   "execution_count": null,
   "id": "0b1468ca-2f67-4179-8a7f-b34a32bb2c67",
   "metadata": {},
   "outputs": [],
   "source": []
  },
  {
   "cell_type": "markdown",
   "id": "a70c52e4-d179-4912-8fa1-98caa1e66377",
   "metadata": {},
   "source": [
    "### Exercise 13.48: \n",
    "Define a `vector<String>` and call `push_back` several times on that\n",
    "`vector`. Run your program and see how often `String`s are copied."
   ]
  },
  {
   "cell_type": "code",
   "execution_count": null,
   "id": "df63e595-ab1d-411a-9c97-18da04583253",
   "metadata": {},
   "outputs": [],
   "source": []
  },
  {
   "cell_type": "markdown",
   "id": "14a23a7c-290f-4a97-97ba-ad7cb45063b2",
   "metadata": {},
   "source": [
    "## EXERCISES SECTION 13.6.2"
   ]
  },
  {
   "cell_type": "markdown",
   "id": "e164ebbf-d177-41c1-9398-b4a20b117fdd",
   "metadata": {},
   "source": [
    "### Exercise 13.49: \n",
    "Add a move constructor and move-assignment operator to your\n",
    "`StrVec`, `String`, and `Message` classes."
   ]
  },
  {
   "cell_type": "code",
   "execution_count": null,
   "id": "55adf5a6-8403-4979-b331-30625ce8c81f",
   "metadata": {},
   "outputs": [],
   "source": []
  },
  {
   "cell_type": "markdown",
   "id": "9cb7acbf-8ca7-47e4-ae8e-3fea5e9097a5",
   "metadata": {},
   "source": [
    "### Exercise 13.50: \n",
    "Put print statements in the move operations in your `String` class and\n",
    "rerun the program from exercise 13.48 in § 13.6.1 (p. 534) that used a `vector<String>`\n",
    "to see when the copies are avoided."
   ]
  },
  {
   "cell_type": "code",
   "execution_count": null,
   "id": "e544f403-e834-4725-a055-48cb660c8306",
   "metadata": {},
   "outputs": [],
   "source": []
  },
  {
   "cell_type": "markdown",
   "id": "f5ef4d9c-75d7-441a-9fb7-3e7e6541e181",
   "metadata": {},
   "source": [
    "### Exercise 13.51: \n",
    "Although `unique_ptrs` cannot be copied, in § 12.1.5 (p. 471) we\n",
    "wrote a clone function that returned a `unique_ptr` by value. Explain why that \n",
    "function is legal and how it works."
   ]
  },
  {
   "cell_type": "code",
   "execution_count": null,
   "id": "5018152a-49da-4582-ba3c-ab39d561e1b1",
   "metadata": {},
   "outputs": [],
   "source": []
  },
  {
   "cell_type": "markdown",
   "id": "74b09861-7a3a-4d75-9aa8-c63a1a712802",
   "metadata": {},
   "source": [
    "### Exercise 13.52: \n",
    "Explain in detail what happens in the assignments of the `HasPtr` \n",
    "objects on page 541. In particular, describe step by step what happens to values of `hp`,\n",
    "`hp2`, and of the `rhs` parameter in the `HasPtr` assignment operator."
   ]
  },
  {
   "cell_type": "code",
   "execution_count": null,
   "id": "d4c1c5d6-8f1a-49ce-b4df-773a172f50c4",
   "metadata": {},
   "outputs": [],
   "source": []
  },
  {
   "cell_type": "markdown",
   "id": "1b7a7b81-669b-428b-9967-2b1a073609c1",
   "metadata": {},
   "source": [
    "### Exercise 13.53: \n",
    "As a matter of low-level efficiency, the `HasPtr` assignment operator\n",
    "is not ideal. Explain why. Implement a copy-assignment and move-assignment \n",
    "operator for `HasPtr` and compare the operations executed in your new move-assignment\n",
    "operator versus the copy-and-swap version."
   ]
  },
  {
   "cell_type": "code",
   "execution_count": null,
   "id": "600bbdaa-4c6d-452b-9289-497efee32965",
   "metadata": {},
   "outputs": [],
   "source": []
  },
  {
   "cell_type": "markdown",
   "id": "6f395db7-c260-432f-8399-a63cbe527d53",
   "metadata": {},
   "source": [
    "### Exercise 13.54: \n",
    "What would happen if we defined a `HasPtr` move-assignment operator\n",
    "but did not change the copy-and-swap operator? Write code to test your answer."
   ]
  },
  {
   "cell_type": "code",
   "execution_count": null,
   "id": "0f3de8e8-b24e-435b-a3ba-8b43095a55dc",
   "metadata": {},
   "outputs": [],
   "source": []
  },
  {
   "cell_type": "markdown",
   "id": "ec48b742-b738-45cd-aa2b-df92a59aaa3d",
   "metadata": {},
   "source": [
    "## EXERCISES SECTION 13.6.3"
   ]
  },
  {
   "cell_type": "markdown",
   "id": "2660c2dd-dae0-4e5c-91ac-6149a7bc0ef4",
   "metadata": {},
   "source": [
    "### Exercise 13.55:\n",
    "Add an rvalue reference version of `push_back` to your `StrBlob`."
   ]
  },
  {
   "cell_type": "code",
   "execution_count": null,
   "id": "9c0cd485-257f-4d62-908a-b1f6d1dc2791",
   "metadata": {},
   "outputs": [],
   "source": []
  },
  {
   "cell_type": "markdown",
   "id": "a57ed2d7-3608-4815-8e27-cf7c575b7ce8",
   "metadata": {},
   "source": [
    "### Exercise 13.56: \n",
    "What would happen if we defined `sorted` as:\n",
    "```\n",
    "Foo Foo::sorted() const & {\n",
    "    Foo ret(*this);\n",
    "    return ret.sorted();\n",
    "}\n",
    "```"
   ]
  },
  {
   "cell_type": "code",
   "execution_count": null,
   "id": "30eb47de-eb5d-43ef-9d9c-aae492ebb08f",
   "metadata": {},
   "outputs": [],
   "source": []
  },
  {
   "cell_type": "markdown",
   "id": "f23bc69a-bbaa-43e1-9ff0-88727d304344",
   "metadata": {},
   "source": [
    "### Exercise 13.57: \n",
    "What if we defined `sorted` as:\n",
    "```\n",
    "Foo Foo::sorted() const & { return Foo(*this).sorted(); }\n",
    "```"
   ]
  },
  {
   "cell_type": "code",
   "execution_count": null,
   "id": "6e69c086-8c43-414b-9916-287c2f8f8c70",
   "metadata": {},
   "outputs": [],
   "source": []
  },
  {
   "cell_type": "markdown",
   "id": "4c9fa5ca-f973-4d36-805b-59a4f2c26cba",
   "metadata": {},
   "source": [
    "### Exercise 13.58: \n",
    "Write versions of class `Foo` with print statements in their `sorted`\n",
    "functions to test your answers to the previous two exercises."
   ]
  },
  {
   "cell_type": "code",
   "execution_count": null,
   "id": "7046da82-5dff-42f1-9c40-b5bde9dc2c8b",
   "metadata": {},
   "outputs": [],
   "source": []
  }
 ],
 "metadata": {
  "kernelspec": {
   "display_name": "C++17",
   "language": "C++17",
   "name": "xcpp17"
  },
  "language_info": {
   "codemirror_mode": "text/x-c++src",
   "file_extension": ".cpp",
   "mimetype": "text/x-c++src",
   "name": "c++",
   "version": "17"
  }
 },
 "nbformat": 4,
 "nbformat_minor": 5
}
